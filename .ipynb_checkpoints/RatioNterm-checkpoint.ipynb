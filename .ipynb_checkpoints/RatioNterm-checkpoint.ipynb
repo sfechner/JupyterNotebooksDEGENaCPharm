{
 "cells": [
  {
   "cell_type": "code",
   "execution_count": 1,
   "metadata": {},
   "outputs": [
    {
     "name": "stderr",
     "output_type": "stream",
     "text": [
      "/Users/wormsenselab/anaconda3/envs/dabest/lib/python3.7/site-packages/matplotlib/__init__.py:1003: UserWarning: Duplicate key in file \"/Users/Fechner/.matplotlib/matplotlibrc\", line #3\n",
      "  (fname, cnt))\n",
      "/Users/wormsenselab/anaconda3/envs/dabest/lib/python3.7/site-packages/matplotlib/__init__.py:1003: UserWarning: Duplicate key in file \"/Users/Fechner/.matplotlib/matplotlibrc\", line #4\n",
      "  (fname, cnt))\n"
     ]
    }
   ],
   "source": [
    "from matplotlib import pyplot as plt\n",
    "import numpy as np\n",
    "%matplotlib inline\n",
    "from matplotlib import gridspec\n",
    "from matplotlib import rcParams\n",
    "from scipy.optimize import curve_fit\n",
    "import scipy.stats as stats\n",
    "from matplotlib import lines\n",
    "import seaborn as sns\n",
    "plt.rcParams['pdf.fonttype'] = 42 # to be able to change text in pdf opened with illustrator\n",
    "plt.rcParams['ps.fonttype'] = 42\n",
    "#import scipy.stats as stats\n",
    "from statsmodels.stats import multicomp \n",
    "from scipy import stats\n",
    "import dabest\n",
    "\n",
    "import pandas as pd\n",
    "import glob\n",
    "\n",
    "import tkinter as tk\n",
    "from tkinter import filedialog#to open dialog box to choose file\n",
    "from tkinter.filedialog import askopenfilename"
   ]
  },
  {
   "cell_type": "code",
   "execution_count": 3,
   "metadata": {},
   "outputs": [],
   "source": [
    "# Add heka_reader to PYTHONPATH\n",
    "import sys\n",
    "fpath = '/Users/Fechner/PythonStuff/heka_reader'\n",
    "sys.path.append(fpath)"
   ]
  },
  {
   "cell_type": "markdown",
   "metadata": {},
   "source": [
    "### switch to my directory and check if I am in the correct directory"
   ]
  },
  {
   "cell_type": "code",
   "execution_count": 4,
   "metadata": {},
   "outputs": [
    {
     "name": "stdout",
     "output_type": "stream",
     "text": [
      "/Users/Fechner/Box Sync/Fechner/TEVC-GoodmanlabBOX/Project-STFX/AnalysisSTFX/AnalysisNterm\n"
     ]
    }
   ],
   "source": [
    "cd ~/Box Sync/Fechner/TEVC-GoodmanlabBOX/Project-STFX/AnalysisSTFX/AnalysisNterm\n"
   ]
  },
  {
   "cell_type": "markdown",
   "metadata": {},
   "source": [
    "## Ratio plots are a result of the Matlab script TEVCAnalyzeLoopSTFX.m found on github analyzing mean values of 3 recordings for several conditions \n",
    "\n",
    "https://github.com/sfechner/AnalysisFunction/tree/master/TEVC"
   ]
  },
  {
   "cell_type": "code",
   "execution_count": 258,
   "metadata": {},
   "outputs": [],
   "source": [
    "filedir ='/Users/Fechner/Box Sync/Fechner/TEVC-GoodmanlabBOX/Project-STFX/AnalysisSTFX/AnalysisNterm/'\n",
    "filedirExportFig ='/Users/Fechner/Box Sync/Fechner/TEVC-GoodmanlabBOX/Project-STFX/AnalysisSTFX/AnalysisNterm/FiguresFromNotebook/'\n",
    "# filedirManuscript ='/Users/Fechner/Dropbox/ManuscriptFechnerPharmacology/Figures/ExportedFromNotebook/'\n",
    "# filedirManuscriptStat ='/Users/Fechner/Dropbox/ManuscriptFechnerPharmacology/Statistics/'\n",
    "\n",
    "#CHANGE USER NAME ON PRIVATE LAPTOP TO Fechner or be more clever about the Filename\n",
    "\n",
    "#root = tk.Tk()\n",
    "#root.withdraw() not sure if necessary, description to avoid opening full gui\n",
    "\n",
    "#either choose a cetain file or open dialog box\n",
    "#certain file\n",
    "filename = 'RatioNterm-20201026.xlsx'\n",
    "\n",
    "\n"
   ]
  },
  {
   "cell_type": "code",
   "execution_count": 7,
   "metadata": {},
   "outputs": [
    {
     "name": "stdout",
     "output_type": "stream",
     "text": [
      "RatioNterm-20201026.xlsx\n"
     ]
    },
    {
     "data": {
      "text/html": [
       "<div>\n",
       "<style scoped>\n",
       "    .dataframe tbody tr th:only-of-type {\n",
       "        vertical-align: middle;\n",
       "    }\n",
       "\n",
       "    .dataframe tbody tr th {\n",
       "        vertical-align: top;\n",
       "    }\n",
       "\n",
       "    .dataframe thead th {\n",
       "        text-align: right;\n",
       "    }\n",
       "</style>\n",
       "<table border=\"1\" class=\"dataframe\">\n",
       "  <thead>\n",
       "    <tr style=\"text-align: right;\">\n",
       "      <th></th>\n",
       "      <th>CellIDRec</th>\n",
       "      <th>Injection</th>\n",
       "      <th>CultivationSol</th>\n",
       "      <th>DaysPostInj</th>\n",
       "      <th>Rating</th>\n",
       "      <th>StartSol</th>\n",
       "      <th>TestSol</th>\n",
       "      <th>MeanSTART</th>\n",
       "      <th>MeanTEST</th>\n",
       "      <th>DELTA</th>\n",
       "      <th>RATIO</th>\n",
       "      <th>VrevSTART</th>\n",
       "      <th>VrevTEST</th>\n",
       "      <th>DELTAVrev</th>\n",
       "      <th>copyCELL</th>\n",
       "      <th>RestingVM</th>\n",
       "    </tr>\n",
       "  </thead>\n",
       "  <tbody>\n",
       "    <tr>\n",
       "      <th>0</th>\n",
       "      <td>STFX105001</td>\n",
       "      <td>mg419mg012</td>\n",
       "      <td>L-15(300Amil)</td>\n",
       "      <td>4</td>\n",
       "      <td>2.5</td>\n",
       "      <td>NaGluSel1</td>\n",
       "      <td>NaGluSelAmil300</td>\n",
       "      <td>-1.205231e-05</td>\n",
       "      <td>-3.208448e-07</td>\n",
       "      <td>1.173147e-05</td>\n",
       "      <td>0.026621</td>\n",
       "      <td>-0.010119</td>\n",
       "      <td>-0.058635</td>\n",
       "      <td>-0.048516</td>\n",
       "      <td>STFX105001</td>\n",
       "      <td>NaN</td>\n",
       "    </tr>\n",
       "    <tr>\n",
       "      <th>1</th>\n",
       "      <td>STFX105001</td>\n",
       "      <td>mg419mg012</td>\n",
       "      <td>L-15(300Amil)</td>\n",
       "      <td>4</td>\n",
       "      <td>2.5</td>\n",
       "      <td>NaGluSelAmil300</td>\n",
       "      <td>NaGluSel2</td>\n",
       "      <td>-3.208448e-07</td>\n",
       "      <td>-8.292098e-06</td>\n",
       "      <td>-7.971253e-06</td>\n",
       "      <td>25.844570</td>\n",
       "      <td>-0.058635</td>\n",
       "      <td>-0.010901</td>\n",
       "      <td>0.047734</td>\n",
       "      <td>NaN</td>\n",
       "      <td>NaN</td>\n",
       "    </tr>\n",
       "    <tr>\n",
       "      <th>2</th>\n",
       "      <td>STFX105003</td>\n",
       "      <td>mg751mg012</td>\n",
       "      <td>L-15(300Amil)</td>\n",
       "      <td>4</td>\n",
       "      <td>3.0</td>\n",
       "      <td>NaGluSel1</td>\n",
       "      <td>NaGluSelAmil300</td>\n",
       "      <td>-3.059278e-05</td>\n",
       "      <td>-1.594895e-06</td>\n",
       "      <td>2.899788e-05</td>\n",
       "      <td>0.052133</td>\n",
       "      <td>-0.007020</td>\n",
       "      <td>-0.033100</td>\n",
       "      <td>-0.026080</td>\n",
       "      <td>NaN</td>\n",
       "      <td>NaN</td>\n",
       "    </tr>\n",
       "    <tr>\n",
       "      <th>3</th>\n",
       "      <td>STFX105003</td>\n",
       "      <td>mg751mg012</td>\n",
       "      <td>L-15(300Amil)</td>\n",
       "      <td>4</td>\n",
       "      <td>3.0</td>\n",
       "      <td>NaGluSelAmil300</td>\n",
       "      <td>NaGluSel2</td>\n",
       "      <td>-1.594895e-06</td>\n",
       "      <td>-2.531582e-05</td>\n",
       "      <td>-2.372092e-05</td>\n",
       "      <td>15.873040</td>\n",
       "      <td>-0.033100</td>\n",
       "      <td>-0.007504</td>\n",
       "      <td>0.025595</td>\n",
       "      <td>NaN</td>\n",
       "      <td>NaN</td>\n",
       "    </tr>\n",
       "    <tr>\n",
       "      <th>4</th>\n",
       "      <td>STFX105004</td>\n",
       "      <td>mg758mg012</td>\n",
       "      <td>L-15(300Amil)</td>\n",
       "      <td>4</td>\n",
       "      <td>3.0</td>\n",
       "      <td>NaGluSel1</td>\n",
       "      <td>NaGluSelAmil300</td>\n",
       "      <td>-1.950847e-07</td>\n",
       "      <td>-2.006971e-07</td>\n",
       "      <td>-5.612408e-09</td>\n",
       "      <td>1.028769</td>\n",
       "      <td>-0.035235</td>\n",
       "      <td>-0.037840</td>\n",
       "      <td>-0.002605</td>\n",
       "      <td>NaN</td>\n",
       "      <td>NaN</td>\n",
       "    </tr>\n",
       "  </tbody>\n",
       "</table>\n",
       "</div>"
      ],
      "text/plain": [
       "    CellIDRec   Injection CultivationSol  DaysPostInj  Rating  \\\n",
       "0  STFX105001  mg419mg012  L-15(300Amil)            4     2.5   \n",
       "1  STFX105001  mg419mg012  L-15(300Amil)            4     2.5   \n",
       "2  STFX105003  mg751mg012  L-15(300Amil)            4     3.0   \n",
       "3  STFX105003  mg751mg012  L-15(300Amil)            4     3.0   \n",
       "4  STFX105004  mg758mg012  L-15(300Amil)            4     3.0   \n",
       "\n",
       "          StartSol          TestSol     MeanSTART      MeanTEST         DELTA  \\\n",
       "0        NaGluSel1  NaGluSelAmil300 -1.205231e-05 -3.208448e-07  1.173147e-05   \n",
       "1  NaGluSelAmil300        NaGluSel2 -3.208448e-07 -8.292098e-06 -7.971253e-06   \n",
       "2        NaGluSel1  NaGluSelAmil300 -3.059278e-05 -1.594895e-06  2.899788e-05   \n",
       "3  NaGluSelAmil300        NaGluSel2 -1.594895e-06 -2.531582e-05 -2.372092e-05   \n",
       "4        NaGluSel1  NaGluSelAmil300 -1.950847e-07 -2.006971e-07 -5.612408e-09   \n",
       "\n",
       "       RATIO  VrevSTART  VrevTEST  DELTAVrev    copyCELL  RestingVM  \n",
       "0   0.026621  -0.010119 -0.058635  -0.048516  STFX105001        NaN  \n",
       "1  25.844570  -0.058635 -0.010901   0.047734         NaN        NaN  \n",
       "2   0.052133  -0.007020 -0.033100  -0.026080         NaN        NaN  \n",
       "3  15.873040  -0.033100 -0.007504   0.025595         NaN        NaN  \n",
       "4   1.028769  -0.035235 -0.037840  -0.002605         NaN        NaN  "
      ]
     },
     "execution_count": 7,
     "metadata": {},
     "output_type": "execute_result"
    }
   ],
   "source": [
    "#pandas environment\n",
    "print(filename)\n",
    "xl = pd.ExcelFile(filedir+filename)\n",
    "xl.sheet_names\n",
    "\n",
    "df = xl.parse(\"Sheet1\",converters={'CultivationSol': str}) #calls for Sheet names \n",
    "df.head()"
   ]
  },
  {
   "cell_type": "code",
   "execution_count": 228,
   "metadata": {},
   "outputs": [],
   "source": []
  },
  {
   "cell_type": "markdown",
   "metadata": {},
   "source": [
    "# Plotting EST DATA before and after drug application to see soze of current and change in current"
   ]
  },
  {
   "cell_type": "markdown",
   "metadata": {},
   "source": [
    "## sort current by injeciton"
   ]
  },
  {
   "cell_type": "markdown",
   "metadata": {},
   "source": [
    "mg755 = MEC-4 Nterm ..... mg756\n",
    "\n",
    "mg733               ..... mg736\n",
    "\n",
    "mg734               .... mg737\n",
    "\n",
    "mg735               .... 757\n",
    "\n",
    "mg742               ....  758"
   ]
  },
  {
   "cell_type": "markdown",
   "metadata": {},
   "source": [
    "mg738\n",
    "\n",
    "mg739\n",
    "\n",
    "mg740\n",
    "\n",
    "mg741\n",
    "\n",
    "mg748\n",
    "\n",
    "mg759\n",
    "\n",
    "mg745\n",
    "\n",
    "mg752\n",
    "\n"
   ]
  },
  {
   "cell_type": "markdown",
   "metadata": {},
   "source": [
    "# plottinh alanin screen current"
   ]
  },
  {
   "cell_type": "code",
   "execution_count": 229,
   "metadata": {},
   "outputs": [],
   "source": [
    "UninjAmil300 = df[(df.Injection.isin([\"uninjected\"])) & (df.TestSol.isin([\"NaGluSelAmil300\"]))]\n",
    "mg738Amil300 = df[(df.Injection.isin([\"mg738mg012\"])) & (df.TestSol.isin([\"NaGluSelAmil300\"]))]\n",
    "mg739Amil300 = df[(df.Injection.isin([\"mg739mg012\"])) & (df.TestSol.isin([\"NaGluSelAmil300\"]))]\n",
    "mg740Amil300 = df[(df.Injection.isin([\"mg740mg012\"])) & (df.TestSol.isin([\"NaGluSelAmil300\"]))]\n",
    "mg741Amil300 = df[(df.Injection.isin([\"mg741mg012\"])) & (df.TestSol.isin([\"NaGluSelAmil300\"]))]\n",
    "mg748Amil300 = df[(df.Injection.isin([\"mg748mg012\"])) & (df.TestSol.isin([\"NaGluSelAmil300\"]))]\n",
    "mg759Amil300 = df[(df.Injection.isin([\"mg759mg012\"])) & (df.TestSol.isin([\"NaGluSelAmil300\"]))]\n",
    "mg745Amil300 = df[(df.Injection.isin([\"mg745mg012\"])) & (df.TestSol.isin([\"NaGluSelAmil300\"]))]\n",
    "mg752Amil300 = df[(df.Injection.isin([\"mg752mg012\"])) & (df.TestSol.isin([\"NaGluSelAmil300\"]))]\n",
    "mg749Amil300 = df[(df.Injection.isin([\"mg749mg012\"])) & (df.TestSol.isin([\"NaGluSelAmil300\"]))]\n",
    "mg750Amil300 = df[(df.Injection.isin([\"mg750mg012\"])) & (df.TestSol.isin([\"NaGluSelAmil300\"]))]\n",
    "mg746Amil300 = df[(df.Injection.isin([\"mg746mg012\"])) & (df.TestSol.isin([\"NaGluSelAmil300\"]))]\n",
    "mg747Amil300 = df[(df.Injection.isin([\"mg747mg012\"])) & (df.TestSol.isin([\"NaGluSelAmil300\"]))]\n",
    "mg760Amil300 = df[(df.Injection.isin([\"mg760mg012\"])) & (df.TestSol.isin([\"NaGluSelAmil300\"]))]\n",
    "mg753Amil300 = df[(df.Injection.isin([\"mg753mg012\"])) & (df.TestSol.isin([\"NaGluSelAmil300\"]))]\n",
    "mg761Amil300 = df[(df.Injection.isin([\"mg761mg012\"])) & (df.TestSol.isin([\"NaGluSelAmil300\"]))]\n",
    "mg751Amil300 = df[(df.Injection.isin([\"mg751mg012\"])) & (df.TestSol.isin([\"NaGluSelAmil300\"]))]"
   ]
  },
  {
   "cell_type": "code",
   "execution_count": 230,
   "metadata": {},
   "outputs": [
    {
     "data": {
      "text/html": [
       "<div>\n",
       "<style scoped>\n",
       "    .dataframe tbody tr th:only-of-type {\n",
       "        vertical-align: middle;\n",
       "    }\n",
       "\n",
       "    .dataframe tbody tr th {\n",
       "        vertical-align: top;\n",
       "    }\n",
       "\n",
       "    .dataframe thead th {\n",
       "        text-align: right;\n",
       "    }\n",
       "</style>\n",
       "<table border=\"1\" class=\"dataframe\">\n",
       "  <thead>\n",
       "    <tr style=\"text-align: right;\">\n",
       "      <th></th>\n",
       "      <th>CellIDRec</th>\n",
       "      <th>Injection</th>\n",
       "      <th>CultivationSol</th>\n",
       "      <th>DaysPostInj</th>\n",
       "      <th>Rating</th>\n",
       "      <th>StartSol</th>\n",
       "      <th>TestSol</th>\n",
       "      <th>MeanSTART</th>\n",
       "      <th>MeanTEST</th>\n",
       "      <th>DELTA</th>\n",
       "      <th>RATIO</th>\n",
       "      <th>VrevSTART</th>\n",
       "      <th>VrevTEST</th>\n",
       "      <th>DELTAVrev</th>\n",
       "      <th>copyCELL</th>\n",
       "      <th>RestingVM</th>\n",
       "    </tr>\n",
       "  </thead>\n",
       "  <tbody>\n",
       "    <tr>\n",
       "      <th>2</th>\n",
       "      <td>STFX105003</td>\n",
       "      <td>mg751mg012</td>\n",
       "      <td>L-15(300Amil)</td>\n",
       "      <td>4</td>\n",
       "      <td>3.0</td>\n",
       "      <td>NaGluSel1</td>\n",
       "      <td>NaGluSelAmil300</td>\n",
       "      <td>-0.000031</td>\n",
       "      <td>-1.594895e-06</td>\n",
       "      <td>0.000029</td>\n",
       "      <td>0.052133</td>\n",
       "      <td>-0.007020</td>\n",
       "      <td>-0.033100</td>\n",
       "      <td>-0.026080</td>\n",
       "      <td>NaN</td>\n",
       "      <td>NaN</td>\n",
       "    </tr>\n",
       "    <tr>\n",
       "      <th>10</th>\n",
       "      <td>STFX105012</td>\n",
       "      <td>mg751mg012</td>\n",
       "      <td>L-15(300Amil)</td>\n",
       "      <td>4</td>\n",
       "      <td>3.0</td>\n",
       "      <td>NaGluSel1</td>\n",
       "      <td>NaGluSelAmil300</td>\n",
       "      <td>-0.000017</td>\n",
       "      <td>-1.525870e-07</td>\n",
       "      <td>0.000017</td>\n",
       "      <td>0.009098</td>\n",
       "      <td>-0.003833</td>\n",
       "      <td>-0.075047</td>\n",
       "      <td>-0.071214</td>\n",
       "      <td>NaN</td>\n",
       "      <td>NaN</td>\n",
       "    </tr>\n",
       "    <tr>\n",
       "      <th>28</th>\n",
       "      <td>STFX105018</td>\n",
       "      <td>mg751mg012</td>\n",
       "      <td>L-15(300Amil)</td>\n",
       "      <td>6</td>\n",
       "      <td>3.0</td>\n",
       "      <td>NaGluSel1</td>\n",
       "      <td>NaGluSelAmil300</td>\n",
       "      <td>-0.000027</td>\n",
       "      <td>-2.571075e-06</td>\n",
       "      <td>0.000025</td>\n",
       "      <td>0.094285</td>\n",
       "      <td>-0.010981</td>\n",
       "      <td>-0.022682</td>\n",
       "      <td>-0.011701</td>\n",
       "      <td>NaN</td>\n",
       "      <td>NaN</td>\n",
       "    </tr>\n",
       "    <tr>\n",
       "      <th>30</th>\n",
       "      <td>STFX105019</td>\n",
       "      <td>mg751mg012</td>\n",
       "      <td>L-15(300Amil)</td>\n",
       "      <td>6</td>\n",
       "      <td>3.0</td>\n",
       "      <td>NaGluSel1</td>\n",
       "      <td>NaGluSelAmil300</td>\n",
       "      <td>-0.000036</td>\n",
       "      <td>-2.337017e-06</td>\n",
       "      <td>0.000034</td>\n",
       "      <td>0.064513</td>\n",
       "      <td>-0.009419</td>\n",
       "      <td>-0.021805</td>\n",
       "      <td>-0.012386</td>\n",
       "      <td>NaN</td>\n",
       "      <td>NaN</td>\n",
       "    </tr>\n",
       "    <tr>\n",
       "      <th>32</th>\n",
       "      <td>STFX105020</td>\n",
       "      <td>mg751mg012</td>\n",
       "      <td>L-15(300Amil)</td>\n",
       "      <td>6</td>\n",
       "      <td>3.0</td>\n",
       "      <td>NaGluSel1</td>\n",
       "      <td>NaGluSelAmil300</td>\n",
       "      <td>-0.000053</td>\n",
       "      <td>-1.158955e-06</td>\n",
       "      <td>0.000052</td>\n",
       "      <td>0.021881</td>\n",
       "      <td>-0.007029</td>\n",
       "      <td>-0.029250</td>\n",
       "      <td>-0.022221</td>\n",
       "      <td>NaN</td>\n",
       "      <td>NaN</td>\n",
       "    </tr>\n",
       "  </tbody>\n",
       "</table>\n",
       "</div>"
      ],
      "text/plain": [
       "     CellIDRec   Injection CultivationSol  DaysPostInj  Rating   StartSol  \\\n",
       "2   STFX105003  mg751mg012  L-15(300Amil)            4     3.0  NaGluSel1   \n",
       "10  STFX105012  mg751mg012  L-15(300Amil)            4     3.0  NaGluSel1   \n",
       "28  STFX105018  mg751mg012  L-15(300Amil)            6     3.0  NaGluSel1   \n",
       "30  STFX105019  mg751mg012  L-15(300Amil)            6     3.0  NaGluSel1   \n",
       "32  STFX105020  mg751mg012  L-15(300Amil)            6     3.0  NaGluSel1   \n",
       "\n",
       "            TestSol  MeanSTART      MeanTEST     DELTA     RATIO  VrevSTART  \\\n",
       "2   NaGluSelAmil300  -0.000031 -1.594895e-06  0.000029  0.052133  -0.007020   \n",
       "10  NaGluSelAmil300  -0.000017 -1.525870e-07  0.000017  0.009098  -0.003833   \n",
       "28  NaGluSelAmil300  -0.000027 -2.571075e-06  0.000025  0.094285  -0.010981   \n",
       "30  NaGluSelAmil300  -0.000036 -2.337017e-06  0.000034  0.064513  -0.009419   \n",
       "32  NaGluSelAmil300  -0.000053 -1.158955e-06  0.000052  0.021881  -0.007029   \n",
       "\n",
       "    VrevTEST  DELTAVrev copyCELL  RestingVM  \n",
       "2  -0.033100  -0.026080      NaN        NaN  \n",
       "10 -0.075047  -0.071214      NaN        NaN  \n",
       "28 -0.022682  -0.011701      NaN        NaN  \n",
       "30 -0.021805  -0.012386      NaN        NaN  \n",
       "32 -0.029250  -0.022221      NaN        NaN  "
      ]
     },
     "execution_count": 230,
     "metadata": {},
     "output_type": "execute_result"
    }
   ],
   "source": [
    "mg751Amil300"
   ]
  },
  {
   "cell_type": "markdown",
   "metadata": {},
   "source": [
    "## declare variables for before and after"
   ]
  },
  {
   "cell_type": "code",
   "execution_count": 231,
   "metadata": {},
   "outputs": [],
   "source": [
    "UninjAmil300BeforeAmil = UninjAmil300 [\"MeanSTART\"]\n",
    "UninjAmil300BeforeAmil = UninjAmil300BeforeAmil.rename('Uninj-Amil')\n",
    "A = UninjAmil300BeforeAmil\n",
    "\n",
    "UninjAmil300AfterAmil = UninjAmil300[\"MeanTEST\"]\n",
    "UninjAmil300AfterAmil = UninjAmil300AfterAmil.rename('Uninj+Amil')\n",
    "B = UninjAmil300AfterAmil"
   ]
  },
  {
   "cell_type": "code",
   "execution_count": 232,
   "metadata": {},
   "outputs": [],
   "source": [
    "mg738Amil300BeforeAmil = mg738Amil300 [\"MeanSTART\"]\n",
    "mg738Amil300BeforeAmil = mg738Amil300BeforeAmil.rename('mg738-Amil')\n",
    "C = mg738Amil300BeforeAmil\n",
    "\n",
    "mg738Amil300AfterAmil = mg738Amil300[\"MeanTEST\"]\n",
    "mg738Amil300AfterAmil = mg738Amil300AfterAmil.rename('mg738+Amil')\n",
    "D = mg738Amil300AfterAmil"
   ]
  },
  {
   "cell_type": "code",
   "execution_count": 233,
   "metadata": {},
   "outputs": [],
   "source": [
    "mg739Amil300BeforeAmil = mg739Amil300 [\"MeanSTART\"]\n",
    "mg739Amil300BeforeAmil = mg739Amil300BeforeAmil.rename('mg739-Amil')\n",
    "E = mg739Amil300BeforeAmil\n",
    "\n",
    "mg739Amil300AfterAmil = mg739Amil300[\"MeanTEST\"]\n",
    "mg739Amil300AfterAmil = mg739Amil300AfterAmil.rename('mg739+Amil')\n",
    "F = mg739Amil300AfterAmil"
   ]
  },
  {
   "cell_type": "code",
   "execution_count": 234,
   "metadata": {},
   "outputs": [],
   "source": [
    "mg740Amil300BeforeAmil = mg740Amil300 [\"MeanSTART\"]\n",
    "mg740Amil300BeforeAmil = mg740Amil300BeforeAmil.rename('mg740-Amil')\n",
    "G = mg740Amil300BeforeAmil\n",
    "\n",
    "mg740Amil300AfterAmil = mg740Amil300[\"MeanTEST\"]\n",
    "mg740Amil300AfterAmil = mg740Amil300AfterAmil.rename('mg740+Amil')\n",
    "H = mg740Amil300AfterAmil"
   ]
  },
  {
   "cell_type": "code",
   "execution_count": 235,
   "metadata": {},
   "outputs": [],
   "source": [
    "mg741Amil300BeforeAmil = mg741Amil300 [\"MeanSTART\"]\n",
    "mg741Amil300BeforeAmil = mg741Amil300BeforeAmil.rename('mg741-Amil')\n",
    "I = mg741Amil300BeforeAmil\n",
    "\n",
    "mg741Amil300AfterAmil = mg741Amil300[\"MeanTEST\"]\n",
    "mg741Amil300AfterAmil = mg741Amil300AfterAmil.rename('mg741+Amil')\n",
    "J = mg741Amil300AfterAmil"
   ]
  },
  {
   "cell_type": "code",
   "execution_count": 236,
   "metadata": {},
   "outputs": [],
   "source": [
    "mg748Amil300BeforeAmil = mg748Amil300 [\"MeanSTART\"]\n",
    "mg748Amil300BeforeAmil = mg748Amil300BeforeAmil.rename('mg748-Amil')\n",
    "K = mg748Amil300BeforeAmil\n",
    "\n",
    "mg748Amil300AfterAmil = mg748Amil300[\"MeanTEST\"]\n",
    "mg748Amil300AfterAmil = mg748Amil300AfterAmil.rename('mg748+Amil')\n",
    "L = mg748Amil300AfterAmil"
   ]
  },
  {
   "cell_type": "code",
   "execution_count": 237,
   "metadata": {},
   "outputs": [],
   "source": [
    "mg759Amil300BeforeAmil = mg759Amil300 [\"MeanSTART\"]\n",
    "mg759Amil300BeforeAmil = mg759Amil300BeforeAmil.rename('mg759-Amil')\n",
    "M = mg759Amil300BeforeAmil\n",
    "\n",
    "mg759Amil300AfterAmil = mg759Amil300[\"MeanTEST\"]\n",
    "mg759Amil300AfterAmil = mg759Amil300AfterAmil.rename('mg759+Amil')\n",
    "N = mg759Amil300AfterAmil\n"
   ]
  },
  {
   "cell_type": "code",
   "execution_count": 238,
   "metadata": {},
   "outputs": [],
   "source": [
    "mg745Amil300BeforeAmil = mg745Amil300 [\"MeanSTART\"]\n",
    "mg745Amil300BeforeAmil = mg745Amil300BeforeAmil.rename('mg745-Amil')\n",
    "Amg745 = mg745Amil300BeforeAmil\n",
    "\n",
    "mg745Amil300AfterAmil = mg745Amil300[\"MeanTEST\"]\n",
    "mg745Amil300AfterAmil = mg745Amil300AfterAmil.rename('mg745+Amil')\n",
    "Bmg745 = mg745Amil300AfterAmil"
   ]
  },
  {
   "cell_type": "code",
   "execution_count": 239,
   "metadata": {},
   "outputs": [],
   "source": [
    "mg752Amil300BeforeAmil = mg752Amil300 [\"MeanSTART\"]\n",
    "mg752Amil300BeforeAmil = mg752Amil300BeforeAmil.rename('mg752-Amil')\n",
    "Amg752 = mg752Amil300BeforeAmil\n",
    "\n",
    "mg752Amil300AfterAmil = mg752Amil300[\"MeanTEST\"]\n",
    "mg752Amil300AfterAmil = mg752Amil300AfterAmil.rename('mg752+Amil')\n",
    "Bmg752 = mg752Amil300AfterAmil"
   ]
  },
  {
   "cell_type": "code",
   "execution_count": 240,
   "metadata": {},
   "outputs": [],
   "source": [
    "mg749Amil300BeforeAmil = mg749Amil300 [\"MeanSTART\"]\n",
    "mg749Amil300BeforeAmil = mg749Amil300BeforeAmil.rename('mg749-Amil')\n",
    "Amg749 = mg749Amil300BeforeAmil\n",
    "\n",
    "mg749Amil300AfterAmil = mg749Amil300[\"MeanTEST\"]\n",
    "mg749Amil300AfterAmil = mg749Amil300AfterAmil.rename('mg749+Amil')\n",
    "Bmg749 = mg749Amil300AfterAmil"
   ]
  },
  {
   "cell_type": "code",
   "execution_count": 241,
   "metadata": {},
   "outputs": [],
   "source": [
    "mg750Amil300BeforeAmil = mg750Amil300 [\"MeanSTART\"]\n",
    "mg750Amil300BeforeAmil = mg750Amil300BeforeAmil.rename('mg750-Amil')\n",
    "Amg750 = mg750Amil300BeforeAmil\n",
    "\n",
    "mg750Amil300AfterAmil = mg750Amil300[\"MeanTEST\"]\n",
    "mg750Amil300AfterAmil = mg750Amil300AfterAmil.rename('mg750+Amil')\n",
    "Bmg750 = mg750Amil300AfterAmil"
   ]
  },
  {
   "cell_type": "code",
   "execution_count": 242,
   "metadata": {},
   "outputs": [],
   "source": [
    "mg746Amil300BeforeAmil = mg746Amil300 [\"MeanSTART\"]\n",
    "mg746Amil300BeforeAmil = mg746Amil300BeforeAmil.rename('mg746-Amil')\n",
    "Amg746 = mg746Amil300BeforeAmil\n",
    "\n",
    "mg746Amil300AfterAmil = mg746Amil300[\"MeanTEST\"]\n",
    "mg746Amil300AfterAmil = mg746Amil300AfterAmil.rename('mg746+Amil')\n",
    "Bmg746 = mg746Amil300AfterAmil"
   ]
  },
  {
   "cell_type": "code",
   "execution_count": 243,
   "metadata": {},
   "outputs": [],
   "source": [
    "mg747Amil300BeforeAmil = mg747Amil300 [\"MeanSTART\"]\n",
    "mg747Amil300BeforeAmil = mg747Amil300BeforeAmil.rename('mg747-Amil')\n",
    "Amg747 = mg747Amil300BeforeAmil\n",
    "\n",
    "mg747Amil300AfterAmil = mg747Amil300[\"MeanTEST\"]\n",
    "mg747Amil300AfterAmil = mg747Amil300AfterAmil.rename('mg747+Amil')\n",
    "Bmg747 = mg747Amil300AfterAmil"
   ]
  },
  {
   "cell_type": "code",
   "execution_count": 244,
   "metadata": {},
   "outputs": [],
   "source": [
    "mg760Amil300BeforeAmil = mg760Amil300 [\"MeanSTART\"]\n",
    "mg760Amil300BeforeAmil = mg760Amil300BeforeAmil.rename('mg760-Amil')\n",
    "Amg760 = mg760Amil300BeforeAmil\n",
    "\n",
    "mg760Amil300AfterAmil = mg760Amil300[\"MeanTEST\"]\n",
    "mg760Amil300AfterAmil = mg760Amil300AfterAmil.rename('mg760+Amil')\n",
    "Bmg760 = mg760Amil300AfterAmil"
   ]
  },
  {
   "cell_type": "code",
   "execution_count": 245,
   "metadata": {},
   "outputs": [],
   "source": [
    "mg753Amil300BeforeAmil = mg753Amil300 [\"MeanSTART\"]\n",
    "mg753Amil300BeforeAmil = mg753Amil300BeforeAmil.rename('mg753-Amil')\n",
    "Amg753 = mg753Amil300BeforeAmil\n",
    "\n",
    "mg753Amil300AfterAmil = mg753Amil300[\"MeanTEST\"]\n",
    "mg753Amil300AfterAmil = mg753Amil300AfterAmil.rename('mg753+Amil')\n",
    "Bmg753 = mg753Amil300AfterAmil"
   ]
  },
  {
   "cell_type": "code",
   "execution_count": 246,
   "metadata": {},
   "outputs": [],
   "source": [
    "mg761Amil300BeforeAmil = mg761Amil300 [\"MeanSTART\"]\n",
    "mg761Amil300BeforeAmil = mg761Amil300BeforeAmil.rename('mg761-Amil')\n",
    "Amg761 = mg761Amil300BeforeAmil\n",
    "\n",
    "mg761Amil300AfterAmil = mg761Amil300[\"MeanTEST\"]\n",
    "mg761Amil300AfterAmil = mg761Amil300AfterAmil.rename('mg761+Amil')\n",
    "Bmg761 = mg761Amil300AfterAmil"
   ]
  },
  {
   "cell_type": "code",
   "execution_count": 247,
   "metadata": {},
   "outputs": [],
   "source": [
    "mg751Amil300BeforeAmil = mg751Amil300 [\"MeanSTART\"]\n",
    "mg751Amil300BeforeAmil = mg751Amil300BeforeAmil.rename('mg751-Amil')\n",
    "Amg751 = mg751Amil300BeforeAmil\n",
    "\n",
    "mg751Amil300AfterAmil = mg751Amil300[\"MeanTEST\"]\n",
    "mg751Amil300AfterAmil = mg751Amil300AfterAmil.rename('mg751+Amil')\n",
    "Bmg751 = mg751Amil300AfterAmil"
   ]
  },
  {
   "cell_type": "markdown",
   "metadata": {},
   "source": [
    "## concatenate data"
   ]
  },
  {
   "cell_type": "code",
   "execution_count": 248,
   "metadata": {},
   "outputs": [],
   "source": [
    "\n",
    "#concatenateData\n",
    "ChangeConcatAmilAlanin = pd.concat([A.reset_index(drop=True),B.reset_index(drop=True),\n",
    "                              C.reset_index(drop=True),D.reset_index(drop=True),\n",
    "                                    E.reset_index(drop=True),F.reset_index(drop=True),\n",
    "                                    G.reset_index(drop=True),H.reset_index(drop=True),\n",
    "                                    I.reset_index(drop=True),J.reset_index(drop=True),\n",
    "                                    K.reset_index(drop=True),L.reset_index(drop=True),\n",
    "                                    M.reset_index(drop=True),N.reset_index(drop=True),\n",
    "                                    Amg745.reset_index(drop=True),Bmg745.reset_index(drop=True),\n",
    "                                     Amg752.reset_index(drop=True),Bmg752.reset_index(drop=True),\n",
    "                                     Amg749.reset_index(drop=True),Bmg749.reset_index(drop=True),\n",
    "                                    Amg750.reset_index(drop=True),Bmg750.reset_index(drop=True),\n",
    "                                    Amg746.reset_index(drop=True),Bmg746.reset_index(drop=True),\n",
    "                                     Amg747.reset_index(drop=True),Bmg747.reset_index(drop=True),\n",
    "                                     Amg760.reset_index(drop=True),Bmg760.reset_index(drop=True),\n",
    "                                    Amg753.reset_index(drop=True),Bmg753.reset_index(drop=True),\n",
    "                                    Amg761.reset_index(drop=True),Bmg761.reset_index(drop=True),\n",
    "                                     Amg751.reset_index(drop=True),Bmg751.reset_index(drop=True),\n",
    "                              ],sort=False, axis=1)\n",
    "\n",
    "#sort=False removed the warning, but no idea what its doin\n",
    "ChangeConcatuAAmilAlanin = ChangeConcatAmilAlanin.astype(float)*1000000\n",
    "#print(ChangeConcatalone)\n",
    "multi_2group_Alanin = dabest.load(ChangeConcatuAAmilAlanin, idx=(('Uninj-Amil', 'Uninj+Amil',),\n",
    "                                                           ('mg738-Amil', 'mg738+Amil',),\n",
    "                                                                    ('mg739-Amil', 'mg739+Amil',),\n",
    "                                                                   ('mg740-Amil', 'mg740+Amil',),\n",
    "                                                                 ('mg741-Amil', 'mg741+Amil',),\n",
    "                                                           ('mg748-Amil', 'mg748+Amil',),\n",
    "                                                                 ('mg759-Amil', 'mg759+Amil',),\n",
    "                                                                 ('mg745-Amil', 'mg745+Amil',),\n",
    "                                                                 ('mg752-Amil', 'mg752+Amil',),\n",
    "                                                                 ('mg749-Amil', 'mg749+Amil',),\n",
    "                                                                 ('mg750-Amil', 'mg750+Amil',),\n",
    "                                                                 ('mg746-Amil', 'mg746+Amil',),\n",
    "                                                                 ('mg747-Amil', 'mg747+Amil',),\n",
    "                                                                  ('mg760-Amil', 'mg760+Amil',),\n",
    "                                                                 ('mg753-Amil', 'mg753+Amil',),\n",
    "                                                                 ('mg761-Amil', 'mg761+Amil',),\n",
    "                                                                 ('mg751-Amil', 'mg751+Amil',),\n",
    "                                                          ))\n",
    "\n",
    "\n",
    "                                "
   ]
  },
  {
   "cell_type": "code",
   "execution_count": null,
   "metadata": {},
   "outputs": [],
   "source": []
  },
  {
   "cell_type": "code",
   "execution_count": 250,
   "metadata": {},
   "outputs": [],
   "source": [
    "colors = [\"black\",\"red\",\"black\",\"red\",\"black\",\"red\",\"black\",\"red\",\"black\",\"red\",\"black\",\"red\",\"black\",\"red\",\"black\",\"red\",\"black\",\"red\",\"black\",\"red\",\"black\",\"red\",\"black\",\"red\",\"black\",\"red\",\"black\",\"red\",\"black\",\"red\",\"black\",\"red\",\"black\",\"red\",\"black\",\"red\",\"black\",\"red\",\"black\",\"red\",\"black\",\"red\",\"black\",\"red\",]\n",
    "# colorsSINGLES = [(0.30, 0.69, 0.29),(0.60, 0.31,0.64),(0.89, 0.11,0.10),(1, 0.50,0),(0.22,0.49,0.72),(0.00, 0.00, 0.00),\"red\",\"blue\",(0.00, 0.00, 0.00),(0.22, 0.49, 0.72),(1.00, 0.50, 0.00),\"darkgreen\",(0.30, 0.69, 0.29),(0.30, 0.69, 0.29),(0.6, 0.31, 0.64)]\n",
    "# colorsPharma = [(0.30, 0.69, 0.29),(0.60, 0.31,0.64),(0.89, 0.11,0.10),(0.00, 0.00, 0.00),(0.22,0.49,0.72),(0.00, 0.00, 0.00),\"red\",\"blue\",(0.00, 0.00, 0.00),(0.22, 0.49, 0.72),(1.00, 0.50, 0.00),\"darkgreen\",(0.30, 0.69, 0.29),(0.30, 0.69, 0.29),(0.6, 0.31, 0.64)]\n",
    "# colorsEST = [(0.00, 0.00, 0.00),(0.89, 0.11,0.10),(0.60, 0.31,0.64),(0.30, 0.69, 0.29),(1, 0.50,0),(0.22,0.49,0.72),(0.00, 0.00, 0.00),\"red\",\"blue\",(0.00, 0.00, 0.00),(0.22, 0.49, 0.72),(1.00, 0.50, 0.00)]\n",
    "# colorsESTAll = [(0.00, 0.00, 0.00),(0.89, 0.11,0.10),(0.60, 0.31,0.64),(0.22, 0.49, 0.72),(1.00, 0.50, 0.00),(0.30, 0.69, 0.29),(1, 0.50,0),(0.22,0.49,0.72)]"
   ]
  },
  {
   "cell_type": "code",
   "execution_count": 259,
   "metadata": {},
   "outputs": [
    {
     "data": {
      "image/png": "[encoded data removed]",
      "text/plain": [
       "<Figure size 1200x450 with 2 Axes>"
      ]
     },
     "metadata": {
      "needs_background": "light"
     },
     "output_type": "display_data"
    }
   ],
   "source": [
    "#plt.figure(figsize=(3.5, 3)) \n",
    "fig1= multi_2group_Alanin.mean_diff.plot(swarm_ylim=(-50,1), contrast_ylim=(-1,50), fig_size=(12, 4.5),  raw_marker_size=(2),es_marker_size=2,contrast_label='Amil mediated\\n current ΔI(µA)',\n",
    "                                    swarm_label='I (µA)',custom_palette=colors, reflines_kwargs = {'linestyle':'dashed', 'linewidth':0.75})#,reflines_kwargs\n",
    "\n",
    "\n",
    "fig1.axes[0].plot([-1,50], [0,0], 'k-', color='#000000', linewidth=1)\n",
    "#fig1.axes[1].plot([-1,20], [-1,-1], 'k--', color='#000000', linewidth=1)\n",
    "fig1.axes[0].tick_params(axis='both', which='major', labelsize=8)  \n",
    "fig1.axes[1].tick_params(axis='both', which='major', labelsize=8)  \n",
    "#fig1 = plot([-1,1], [0,0])# , 'k--', color='#000000', linewidth=1)\n",
    "#ax1.spines['left'].set_position(('outward',35))\n",
    "\n",
    "\n",
    "labels = ['','']\n",
    "fig1.axes[0].set_xticklabels(labels, rotation=30, ha='right')\n",
    "# fig1.axes[0].text(0.13, -12.5, 'Ibu (µM)')\n",
    "# fig1.axes[0].text(4.0, -12.5, 'Asp  (µM)')\n",
    "\n",
    "\n",
    "                                                                                                       \n",
    "labels2 = ['','Uninj','','F84A','','K85A','','E86A','','F87A','','C88A','','Y89A','','K90A','','T91A','','S92A','','H94A','','G95A','','I96A','','P97A','','M98A','','I99A','','G100A']\n",
    "fig1.axes[1].set_xticklabels(labels2, rotation=30, ha='right')\n",
    "\n",
    "#plt.gcf().subplots_adjust(bottom=0.2, left=0.3,right=None, top=None,hspace=1.5, wspace=0.2) \n",
    "plt.gcf().subplots_adjust(bottom=0.17, left=0.25,right=None, top=None,hspace=0.75, wspace=0.2) \n",
    "plt.savefig(filedirExportFig+\"ChangeinCurrentPilotAlanin\"+'.pdf')\n"
   ]
  },
  {
   "cell_type": "code",
   "execution_count": null,
   "metadata": {},
   "outputs": [],
   "source": []
  },
  {
   "cell_type": "code",
   "execution_count": null,
   "metadata": {},
   "outputs": [],
   "source": []
  }
 ],
 "metadata": {
  "kernelspec": {
   "display_name": "Python 3",
   "language": "python",
   "name": "python3"
  },
  "language_info": {
   "codemirror_mode": {
    "name": "ipython",
    "version": 3
   },
   "file_extension": ".py",
   "mimetype": "text/x-python",
   "name": "python",
   "nbconvert_exporter": "python",
   "pygments_lexer": "ipython3",
   "version": "3.7.4"
  }
 },
 "nbformat": 4,
 "nbformat_minor": 2
}
