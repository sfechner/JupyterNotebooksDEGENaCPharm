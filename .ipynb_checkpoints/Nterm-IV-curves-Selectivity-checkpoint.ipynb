{
 "cells": [
  {
   "cell_type": "code",
   "execution_count": 1,
   "metadata": {},
   "outputs": [
    {
     "name": "stderr",
     "output_type": "stream",
     "text": [
      "/Users/wormsenselab/anaconda3/lib/python3.7/site-packages/matplotlib/__init__.py:1066: UserWarning: Duplicate key in file \"/Users/Fechner/.matplotlib/matplotlibrc\", line #3\n",
      "  (fname, cnt))\n",
      "/Users/wormsenselab/anaconda3/lib/python3.7/site-packages/matplotlib/__init__.py:1066: UserWarning: Duplicate key in file \"/Users/Fechner/.matplotlib/matplotlibrc\", line #4\n",
      "  (fname, cnt))\n"
     ]
    }
   ],
   "source": [
    "from matplotlib import pyplot as plt\n",
    "import numpy as np\n",
    "%matplotlib inline\n",
    "from matplotlib import gridspec\n",
    "from matplotlib import rcParams\n",
    "from scipy.optimize import curve_fit\n",
    "import scipy.stats as stats\n",
    "from matplotlib import lines\n",
    "import seaborn as sns\n",
    "\n",
    "import pandas as pd\n",
    "import glob\n",
    "\n",
    "#thinter to tbe able to choose a meta data file\n",
    "#import tkinter as tk\n",
    "#from tkinter import filedialog#to open dialog box to choose file\n",
    "#from tkinter.filedialog import askopenfilename"
   ]
  },
  {
   "cell_type": "code",
   "execution_count": 2,
   "metadata": {},
   "outputs": [
    {
     "data": {
      "text/plain": [
       "'/Users/Fechner/Box Sync/Fechner/TEVC-GoodmanlabBOX/Project-STFX/AnalysisSTFX/JupyterNotebooksDEGENaCPharm'"
      ]
     },
     "execution_count": 2,
     "metadata": {},
     "output_type": "execute_result"
    }
   ],
   "source": [
    "pwd"
   ]
  },
  {
   "cell_type": "markdown",
   "metadata": {},
   "source": [
    "# change file directory"
   ]
  },
  {
   "cell_type": "code",
   "execution_count": 4,
   "metadata": {},
   "outputs": [
    {
     "name": "stdout",
     "output_type": "stream",
     "text": [
      "/Users/Fechner/Box Sync/Fechner/TEVC-GoodmanlabBOX/Project-STFX/RatioSTFX\n"
     ]
    }
   ],
   "source": [
    "cd ~/Box Sync/Fechner/TEVC-GoodmanlabBOX/Project-STFX/RatioSTFX"
   ]
  },
  {
   "cell_type": "code",
   "execution_count": 15,
   "metadata": {},
   "outputs": [],
   "source": [
    "#filedir ='C:/Users/Fechner/Box Sync/Fechner/TEVC-GoodmanlabBOX/Project-STFX/RatioSTFX/' #windows\n",
    "filedir ='/Users/Fechner/Box Sync/Fechner/TEVC-GoodmanlabBOX/Project-STFX/AnalysisSTFX/Selectivity/'\n",
    "filedirExportFig ='/Users/Fechner/Box Sync/Fechner/TEVC-GoodmanlabBOX/Project-STFX/AnalysisSTFX/AnalysisNterm/FiguresFromNotebook/'\n",
    "\n",
    "filenameMeta = '/Users/Fechner/Box Sync/Fechner/TEVC-GoodmanlabBOX/Project-STFX/MetaDataSTFX/'"
   ]
  },
  {
   "cell_type": "markdown",
   "metadata": {},
   "source": [
    "# ENTER HARDCODED HERE: FILES TO USE"
   ]
  },
  {
   "cell_type": "code",
   "execution_count": 16,
   "metadata": {},
   "outputs": [],
   "source": [
    "listofFiles = ['063','064','065','068','069',\n",
    "    '100','101','102','103','104','105','106','107','108','109','110','111']#'100','101','102','103','104','105',"
   ]
  },
  {
   "cell_type": "code",
   "execution_count": 17,
   "metadata": {},
   "outputs": [
    {
     "name": "stderr",
     "output_type": "stream",
     "text": [
      "/Users/wormsenselab/anaconda3/lib/python3.7/site-packages/pandas/core/frame.py:7116: FutureWarning: Sorting because non-concatenation axis is not aligned. A future version\n",
      "of pandas will change to not sort by default.\n",
      "\n",
      "To accept the future behavior, pass 'sort=False'.\n",
      "\n",
      "To retain the current behavior and silence the warning, pass 'sort=True'.\n",
      "\n",
      "  sort=sort,\n"
     ]
    }
   ],
   "source": [
    "AllMetaData = pd.DataFrame()\n",
    "\n",
    "for i in range(len(listofFiles)):\n",
    "    df_temp = pd.read_excel(filenameMeta+'TEVCMetaSTFX'+listofFiles[i]+'-Selectivity.xlsx', sep=\",\" )\n",
    "    AllMetaData = AllMetaData.append(df_temp,ignore_index=True)\n",
    "    #print(df_temp)\n",
    "    \n",
    "#AllMetaData.to_csv(filedir+'MetaSelectivityNterm-.csv', header=True, index=None, sep=',', mode='w') \n",
    "\n"
   ]
  },
  {
   "cell_type": "code",
   "execution_count": 18,
   "metadata": {},
   "outputs": [],
   "source": [
    "filenameRatio = '/Users/Fechner/Box Sync/Fechner/TEVC-GoodmanlabBOX/Project-STFX/RatioSTFX/'"
   ]
  },
  {
   "cell_type": "code",
   "execution_count": 19,
   "metadata": {},
   "outputs": [],
   "source": [
    "\n",
    "TESTDIC = {\"Injection\":[],\"CellID\":[],\"StartSol\":[],\"VrStart\":[],'Iminus85Start':[],\"TestSol\":[],\"VrTest\":[],'Iminus85Test':[]}\n",
    "\n",
    "for i in range(len(AllMetaData['CellID'])): #range(28,29\n",
    "    try:\n",
    "        df_temp = pd.read_csv(filenameRatio+'Selectivity-TEVC-'+AllMetaData['CellID'][i]+'.txt', sep=\"\\t\" )\n",
    "    except FileNotFoundError:\n",
    "        continue\n",
    "    else:\n",
    "        df_temp = pd.read_csv(filenameRatio+'Selectivity-TEVC-'+AllMetaData['CellID'][i]+'.txt', sep=\"\\t\" )\n",
    "        #print(df_temp.head())\n",
    "        if len(df_temp) % 2 == 0:\n",
    "            NewLoc = 0\n",
    "            #print(\"{0} is Even\".format(len(df_temp)))\n",
    "            for m in range(int(len(df_temp)/2)):\n",
    "\n",
    "                TESTDIC[\"Injection\"].append(df_temp.loc[m,'Injection'])\n",
    "                TESTDIC[\"CellID\"].append(df_temp.loc[NewLoc,'CellIDRec'])\n",
    "\n",
    "                TESTDIC[\"StartSol\"].append(df_temp.loc[NewLoc,'TestSol'])\n",
    "                TESTDIC[\"VrStart\"].append(df_temp.loc[NewLoc,'Vrev'])\n",
    "                TESTDIC[\"Iminus85Start\"].append(df_temp.loc[NewLoc,'CurMinus85'])\n",
    "\n",
    "                TESTDIC[\"TestSol\"].append(df_temp.loc[NewLoc+1,'TestSol'])\n",
    "                TESTDIC[\"VrTest\"].append(df_temp.loc[NewLoc+1,'Vrev'])\n",
    "                TESTDIC[\"Iminus85Test\"].append(df_temp.loc[NewLoc+1,'CurMinus85'])\n",
    "\n",
    "                #print(NewLoc)\n",
    "                NewLoc = NewLoc +2\n",
    "                #print(NewLoc)\n",
    "                #NewLoc = NewLoc + 10\n",
    "                #print(NewLoc)\n",
    "\n",
    "        else:\n",
    "           # print(\"{0} is Odd\".format(len(df_temp)))\n",
    "            NewLoc = 0\n",
    "            for m in range(int((len(df_temp)-1)/2)): #check if -1 works for more than 3 rows, for 5???\n",
    "                TESTDIC[\"Injection\"].append(df_temp.loc[NewLoc,'Injection'])\n",
    "                TESTDIC[\"CellID\"].append(df_temp.loc[NewLoc,'CellIDRec'])\n",
    "\n",
    "                TESTDIC[\"StartSol\"].append(df_temp.loc[NewLoc,'TestSol'])\n",
    "                TESTDIC[\"VrStart\"].append(df_temp.loc[NewLoc,'Vrev'])\n",
    "                TESTDIC[\"Iminus85Start\"].append(df_temp.loc[NewLoc,'CurMinus85'])\n",
    "\n",
    "                TESTDIC[\"TestSol\"].append(df_temp.loc[NewLoc+1,'TestSol'])\n",
    "                TESTDIC[\"VrTest\"].append(df_temp.loc[NewLoc+1,'Vrev'])\n",
    "                TESTDIC[\"Iminus85Test\"].append(df_temp.loc[NewLoc+1,'CurMinus85'])\n",
    "\n",
    "                #TESTDIC[\"Iminus85Test\"].dropna(how = 'any')\n",
    "                \n",
    "                #print(NewLoc)\n",
    "                NewLoc = NewLoc +2\n",
    "\n",
    "                \n",
    "df = pd.DataFrame.from_dict(TESTDIC)\n",
    "\n",
    "df = df.dropna(how='any')\n",
    "\n",
    "df['Vd'] = df[\"VrTest\"]-df[\"VrStart\"]\n",
    "df['Permeability'] = 1/(np.exp(df['Vd'].values*1000/25.6*-1))\n",
    "df['Ratio'] = df[\"Iminus85Test\"]/df[\"Iminus85Start\"]\n",
    "\n",
    "#print(df['Permeability'])\n",
    "\n"
   ]
  },
  {
   "cell_type": "code",
   "execution_count": 31,
   "metadata": {},
   "outputs": [
    {
     "data": {
      "text/html": [
       "<div>\n",
       "<style scoped>\n",
       "    .dataframe tbody tr th:only-of-type {\n",
       "        vertical-align: middle;\n",
       "    }\n",
       "\n",
       "    .dataframe tbody tr th {\n",
       "        vertical-align: top;\n",
       "    }\n",
       "\n",
       "    .dataframe thead th {\n",
       "        text-align: right;\n",
       "    }\n",
       "</style>\n",
       "<table border=\"1\" class=\"dataframe\">\n",
       "  <thead>\n",
       "    <tr style=\"text-align: right;\">\n",
       "      <th></th>\n",
       "      <th>Injection</th>\n",
       "      <th>CellID</th>\n",
       "      <th>StartSol</th>\n",
       "      <th>VrStart</th>\n",
       "      <th>Iminus85Start</th>\n",
       "      <th>TestSol</th>\n",
       "      <th>VrTest</th>\n",
       "      <th>Iminus85Test</th>\n",
       "      <th>Vd</th>\n",
       "      <th>Permeability</th>\n",
       "      <th>Ratio</th>\n",
       "    </tr>\n",
       "  </thead>\n",
       "  <tbody>\n",
       "    <tr>\n",
       "      <th>916</th>\n",
       "      <td>mg751mg012</td>\n",
       "      <td>STFX111030</td>\n",
       "      <td>NaGluSel1</td>\n",
       "      <td>0.009869</td>\n",
       "      <td>0.000016</td>\n",
       "      <td>LiGluSel</td>\n",
       "      <td>0.007703</td>\n",
       "      <td>0.000013</td>\n",
       "      <td>-0.002166</td>\n",
       "      <td>0.918884</td>\n",
       "      <td>0.785259</td>\n",
       "    </tr>\n",
       "    <tr>\n",
       "      <th>919</th>\n",
       "      <td>mg753mg012</td>\n",
       "      <td>STFX111031</td>\n",
       "      <td>NaGluSel1</td>\n",
       "      <td>-0.000300</td>\n",
       "      <td>0.000040</td>\n",
       "      <td>NmgGluSel</td>\n",
       "      <td>-0.064110</td>\n",
       "      <td>0.000002</td>\n",
       "      <td>-0.063810</td>\n",
       "      <td>0.082696</td>\n",
       "      <td>0.047126</td>\n",
       "    </tr>\n",
       "    <tr>\n",
       "      <th>922</th>\n",
       "      <td>mg751mg012</td>\n",
       "      <td>STFX111032</td>\n",
       "      <td>NaGluSel1</td>\n",
       "      <td>-0.000901</td>\n",
       "      <td>0.000036</td>\n",
       "      <td>NmgGluSel</td>\n",
       "      <td>-0.066202</td>\n",
       "      <td>0.000002</td>\n",
       "      <td>-0.065301</td>\n",
       "      <td>0.078019</td>\n",
       "      <td>0.048348</td>\n",
       "    </tr>\n",
       "    <tr>\n",
       "      <th>925</th>\n",
       "      <td>mg753mg012</td>\n",
       "      <td>STFX111033</td>\n",
       "      <td>NaGluSel1</td>\n",
       "      <td>-0.001123</td>\n",
       "      <td>0.000027</td>\n",
       "      <td>KGluSel</td>\n",
       "      <td>-0.028917</td>\n",
       "      <td>0.000007</td>\n",
       "      <td>-0.027794</td>\n",
       "      <td>0.337668</td>\n",
       "      <td>0.277474</td>\n",
       "    </tr>\n",
       "    <tr>\n",
       "      <th>928</th>\n",
       "      <td>mg751mg012</td>\n",
       "      <td>STFX111034</td>\n",
       "      <td>NaGluSel1</td>\n",
       "      <td>0.004860</td>\n",
       "      <td>0.000034</td>\n",
       "      <td>KGluSel</td>\n",
       "      <td>-0.009353</td>\n",
       "      <td>0.000025</td>\n",
       "      <td>-0.014212</td>\n",
       "      <td>0.573975</td>\n",
       "      <td>0.723578</td>\n",
       "    </tr>\n",
       "  </tbody>\n",
       "</table>\n",
       "</div>"
      ],
      "text/plain": [
       "      Injection      CellID   StartSol   VrStart  Iminus85Start    TestSol  \\\n",
       "916  mg751mg012  STFX111030  NaGluSel1  0.009869       0.000016   LiGluSel   \n",
       "919  mg753mg012  STFX111031  NaGluSel1 -0.000300       0.000040  NmgGluSel   \n",
       "922  mg751mg012  STFX111032  NaGluSel1 -0.000901       0.000036  NmgGluSel   \n",
       "925  mg753mg012  STFX111033  NaGluSel1 -0.001123       0.000027    KGluSel   \n",
       "928  mg751mg012  STFX111034  NaGluSel1  0.004860       0.000034    KGluSel   \n",
       "\n",
       "       VrTest  Iminus85Test        Vd  Permeability     Ratio  \n",
       "916  0.007703      0.000013 -0.002166      0.918884  0.785259  \n",
       "919 -0.064110      0.000002 -0.063810      0.082696  0.047126  \n",
       "922 -0.066202      0.000002 -0.065301      0.078019  0.048348  \n",
       "925 -0.028917      0.000007 -0.027794      0.337668  0.277474  \n",
       "928 -0.009353      0.000025 -0.014212      0.573975  0.723578  "
      ]
     },
     "execution_count": 31,
     "metadata": {},
     "output_type": "execute_result"
    }
   ],
   "source": [
    "df.tail()"
   ]
  },
  {
   "cell_type": "code",
   "execution_count": 32,
   "metadata": {},
   "outputs": [
    {
     "data": {
      "text/plain": [
       "0      False\n",
       "1      False\n",
       "2      False\n",
       "3      False\n",
       "4      False\n",
       "       ...  \n",
       "349    False\n",
       "350    False\n",
       "351    False\n",
       "352    False\n",
       "353    False\n",
       "Name: CellID, Length: 354, dtype: bool"
      ]
     },
     "execution_count": 32,
     "metadata": {},
     "output_type": "execute_result"
    }
   ],
   "source": [
    "AllMetaData[\"CellID\"] == 'mg751mg012'"
   ]
  },
  {
   "cell_type": "markdown",
   "metadata": {},
   "source": [
    "# ENTER HERE HARDCODED THE CELL YOU WANT TO PRINT"
   ]
  },
  {
   "cell_type": "code",
   "execution_count": 5,
   "metadata": {},
   "outputs": [],
   "source": [
    "ReNameAlanin ={'F84A':'mg738mg012',# \n",
    "         'K85A':'mg739mg012',\n",
    "         'E86A':'mg740mg012',\n",
    "         #'F87A':'mg741mg012',\n",
    "         'C88A':'mg748mg012',\n",
    "         'Y89A':'mg759mg012',\n",
    "         'K90A':'mg745mg012',\n",
    "         #'T91A':'mg752mg012',\n",
    "         #'S92A':'mg749mg012',\n",
    "         'ctr A93':'mg419mg012',\n",
    "         'H94A':'mg750mg012',\n",
    "         #'G95A':'mg746mg012',\n",
    "         #'I96A':'mg747mg012',\n",
    "         'P97A':'mg760mg012',\n",
    "         'M98A':'mg753mg012',\n",
    "         #'I99A':'mg761mg012',\n",
    "         'G100A':'mg751mg012'      \n",
    "        }\n",
    "\n",
    "ReNameChimera={ 'ctr A93':'mg419mg012',\n",
    "#               'M4-DT1ABC':'mg733mg012',\n",
    "#       'M4-DT1A':'mg734mg012',\n",
    "#                'M4-DT1A':'mg734mg012',\n",
    "#                'M4-DT1B':'mg735mg012',\n",
    "               'M4-DT1C':'mg742mg012',\n",
    "#                 'M4+M4-DT1A':'mg419mg734mg012',\n",
    "#                'M4+M4-DT1B':'mg419mg735mg012',\n",
    "#                'M4+M4-DT1C':'mg419mg742mg012',\n",
    "               #'DT1-NtermM4':'mg756mg012',\n",
    "               #'DT1-M4ABC':'mg736mg012',\n",
    "#                'DT1-M4A':'mg737mg012',\n",
    "#                'DT1-M4B':'mg757mg012',\n",
    "#                'DT1-M4C':'mg758mg012',\n",
    "              }\n",
    "\n",
    "#print(ReNameAlanin)\n",
    "LabelAlanin = list(ReNameAlanin.keys())\n",
    "LabelChimera = list(ReNameChimera.keys())"
   ]
  },
  {
   "cell_type": "code",
   "execution_count": 49,
   "metadata": {},
   "outputs": [],
   "source": [
    "test = 'Selectivity-TEVC-STFX069005.txt'\n",
    "testRecording = \"STFX069005\""
   ]
  },
  {
   "cell_type": "code",
   "execution_count": null,
   "metadata": {},
   "outputs": [],
   "source": []
  },
  {
   "cell_type": "markdown",
   "metadata": {},
   "source": [
    "# change labels for specific to recording"
   ]
  },
  {
   "cell_type": "code",
   "execution_count": 45,
   "metadata": {},
   "outputs": [
    {
     "name": "stdout",
     "output_type": "stream",
     "text": [
      "['NaGluSel1' 'KGluSel' 'NaGluSel2' 'CsGluSel' 'NaGluSel3' 'LiGluSel'\n",
      " 'NaGluSel4']\n"
     ]
    }
   ],
   "source": [
    "#data=io.StringIO('Copy2.txt', delimiter = ',')\n",
    "labels = np.genfromtxt(test, delimiter='\\t',  dtype=str)[0,:]\n",
    "raw_data = np.genfromtxt(test, delimiter='\\t')[1:-1,:]#[1:-1,:]\n",
    "Solutionstest = np.genfromtxt(test, delimiter='\\t',  dtype=str)[1:-1,24]\n",
    "# SolutionspTL69 = np.genfromtxt(pTL69filename, delimiter='\\t',  dtype=str)[1:-1,24]\n",
    "# Solutionsmg418 = np.genfromtxt(mg418filename, delimiter='\\t',  dtype=str)[1:-1,24]\n",
    "#data = {label: row for label, row in zip(labels, raw_data)} #not using this\n",
    "# raw_datapTL69 = np.genfromtxt(pTL69filename, delimiter='\\t')[1:-1,:]#[1:-1,:]\n",
    "# raw_datamg418 = np.genfromtxt(mg418filename, delimiter='\\t')[1:-1,:]#[1:-1,:]\n",
    "\n",
    "print(Solutionstest)\n",
    "# #print(raw_data)"
   ]
  },
  {
   "cell_type": "markdown",
   "metadata": {},
   "source": [
    "### HARDCODING THE IMPORT HEKA PATH"
   ]
  },
  {
   "cell_type": "code",
   "execution_count": 46,
   "metadata": {},
   "outputs": [],
   "source": [
    "# Add heka_reader to PYTHONPATH\n",
    "import sys\n",
    "#fpath = '/Users/Fechner/PythonStuff/heka_reader' #initial version delete\n",
    "fpath = '/Users/Fechner/Dropbox/PythonImport/heka_reader' #MAC\n",
    "sys.path.append(fpath)\n",
    "import heka_reader"
   ]
  },
  {
   "cell_type": "markdown",
   "metadata": {},
   "source": [
    "### got the heka reader from here\n",
    "https://github.com/campagnola/heka_reader\n",
    "\n",
    "- clone the repository to your computer (move to directory with terminal commands. Mine here is called PythonStuff at the moment: change name)\n",
    "    - git clone https://github.com/campagnola/heka_reader.git\n",
    "- the heka reader enables to read and access the .dat files (to work in jupyter notebook, you habe to append the heka_reader to the path where the heka reader is stored)\n",
    "- browser.py enables to easily browse for recordings within a .dat comparable to Igor or other similar programs\n",
    "- I changed the following in my local browser.py version, because the functions output was a tuple:\n",
    "    - def load_clicked():\n",
    "    - Display a file dialog to select a .dat file\n",
    "    - file_name = pg.QtGui.QFileDialog.getOpenFileName()\n",
    "    - if isinstance(file_name, tuple):   (ADDED THIS LINE)\n",
    "        -    file_name = file_name[0]    (ADDED THIS LINE)\n",
    "    - if file_name == '':\n",
    "        -    return\n",
    "    - load(file_name)"
   ]
  },
  {
   "cell_type": "markdown",
   "metadata": {},
   "source": [
    "## examples of how to access data structure"
   ]
  },
  {
   "cell_type": "markdown",
   "metadata": {},
   "source": [
    "    # Select a trace\n",
    "    trace = bundle.pul[group_ind][series_ind][sweep_ind][trace_ind]\n",
    "    \n",
    "    # Print meta-data for this trace\n",
    "    print(trace)\n",
    "    \n",
    "    # Load data for this trace\n",
    "    data = bundle.data[group_id, series_id, sweep_ind, trace_ind]\n",
    "    "
   ]
  },
  {
   "cell_type": "markdown",
   "metadata": {},
   "source": [
    "# CHANGE DIRECTORY"
   ]
  },
  {
   "cell_type": "code",
   "execution_count": 47,
   "metadata": {},
   "outputs": [
    {
     "name": "stdout",
     "output_type": "stream",
     "text": [
      "/Users/Fechner/Box Sync/Fechner/TEVC-GoodmanlabBOX/Project-STFX/datFilesSTFX\n"
     ]
    }
   ],
   "source": [
    "cd ~/Box Sync/Fechner/TEVC-GoodmanlabBOX/Project-STFX/datFilesSTFX"
   ]
  },
  {
   "cell_type": "code",
   "execution_count": 48,
   "metadata": {},
   "outputs": [
    {
     "name": "stdout",
     "output_type": "stream",
     "text": [
      "/Users/Fechner/Box Sync/Fechner/TEVC-GoodmanlabBOX/Project-STFX/MetaDataSTFX/\n"
     ]
    }
   ],
   "source": [
    "####### Hardcoding the data path to your device ####\n",
    "Changefiledir ='/Users/Fechner/Box Sync/Fechner/'\n",
    "\n",
    "#### doesn't need to be changed for TEVC analysis ###\n",
    "filedirMeta = Changefiledir + 'TEVC-GoodmanlabBOX/Project-STFX/MetaDataSTFX/'\n",
    "#filedirManuscript ='/Users/Fechner/Dropbox/ManuscriptFechnerPharmacology/Figures/ExportedFromNotebook/'\n",
    "\n",
    "#CHANGE USER NAME ON PRIVATE LAPTOP TO Fechner or be more clever about the Filename\n",
    "print(filedirMeta)"
   ]
  },
  {
   "cell_type": "markdown",
   "metadata": {},
   "source": [
    "## find filename on meta data sheet"
   ]
  },
  {
   "cell_type": "code",
   "execution_count": 60,
   "metadata": {},
   "outputs": [],
   "source": [
    "#find the .dat file name in the MetaData sheet of the corresponding recording\n",
    "testDatFile = AllMetaData.Filename[(AllMetaData.CellID == testRecording)]"
   ]
  },
  {
   "cell_type": "code",
   "execution_count": 91,
   "metadata": {},
   "outputs": [
    {
     "data": {
      "text/plain": [
       "85    20181217\n",
       "Name: Filename, dtype: int64"
      ]
     },
     "execution_count": 91,
     "metadata": {},
     "output_type": "execute_result"
    }
   ],
   "source": [
    "testDatFile"
   ]
  },
  {
   "cell_type": "markdown",
   "metadata": {},
   "source": [
    "## load dat files"
   ]
  },
  {
   "cell_type": "code",
   "execution_count": 69,
   "metadata": {},
   "outputs": [],
   "source": [
    "# Load a .dat file\n",
    "TestloadFile = heka_reader.Bundle(str(testDatFile.iloc[0])+'.dat')"
   ]
  },
  {
   "cell_type": "code",
   "execution_count": 73,
   "metadata": {},
   "outputs": [
    {
     "data": {
      "text/plain": [
       "Bundle(['.dat', '.pul', '.pgf', ''])"
      ]
     },
     "execution_count": 73,
     "metadata": {},
     "output_type": "execute_result"
    }
   ],
   "source": [
    "TestloadFile"
   ]
  },
  {
   "cell_type": "code",
   "execution_count": 63,
   "metadata": {},
   "outputs": [],
   "source": [
    "# mg419filename = 'Selectivity-TEVC-STFX069005.txt'\n",
    "# pTL69filename = 'Selectivity-TEVC-STFX069008.txt'#'Selectivity-TEVC-STFX069004.txt'\n",
    "# mg418filename = 'Selectivity-TEVC-STFX069003.txt'"
   ]
  },
  {
   "cell_type": "code",
   "execution_count": 74,
   "metadata": {},
   "outputs": [],
   "source": [
    "Ibumg419Before1 = []\n",
    "for i in range(0,8):#(0,len(tt)):\n",
    "    Ibumg419Before1.append(TestloadFile.data[10,1,i,1])\n",
    "    \n",
    "    "
   ]
  },
  {
   "cell_type": "code",
   "execution_count": 119,
   "metadata": {},
   "outputs": [
    {
     "data": {
      "text/plain": [
       "array([-0.05990625, -0.05971875, -0.0596875 , ..., -0.0595    ,\n",
       "       -0.0594375 , -0.05946875])"
      ]
     },
     "execution_count": 119,
     "metadata": {},
     "output_type": "execute_result"
    }
   ],
   "source": [
    "TestloadFile.data[4,1,1,1]"
   ]
  },
  {
   "cell_type": "code",
   "execution_count": 81,
   "metadata": {},
   "outputs": [
    {
     "ename": "NameError",
     "evalue": "name 'bundle' is not defined",
     "output_type": "error",
     "traceback": [
      "\u001b[0;31m---------------------------------------------------------------------------\u001b[0m",
      "\u001b[0;31mNameError\u001b[0m                                 Traceback (most recent call last)",
      "\u001b[0;32m<ipython-input-81-7968fd21ca4d>\u001b[0m in \u001b[0;36m<module>\u001b[0;34m()\u001b[0m\n\u001b[0;32m----> 1\u001b[0;31m \u001b[0mtrace\u001b[0m \u001b[0;34m=\u001b[0m \u001b[0mbundle\u001b[0m\u001b[0;34m.\u001b[0m\u001b[0mpul\u001b[0m\u001b[0;34m[\u001b[0m\u001b[0mgroup_ind\u001b[0m\u001b[0;34m]\u001b[0m\u001b[0;34m[\u001b[0m\u001b[0mseries_ind\u001b[0m\u001b[0;34m]\u001b[0m\u001b[0;34m[\u001b[0m\u001b[0msweep_ind\u001b[0m\u001b[0;34m]\u001b[0m\u001b[0;34m[\u001b[0m\u001b[0mtrace_ind\u001b[0m\u001b[0;34m]\u001b[0m\u001b[0;34m\u001b[0m\u001b[0;34m\u001b[0m\u001b[0m\n\u001b[0m",
      "\u001b[0;31mNameError\u001b[0m: name 'bundle' is not defined"
     ]
    }
   ],
   "source": []
  },
  {
   "cell_type": "code",
   "execution_count": 129,
   "metadata": {},
   "outputs": [
    {
     "name": "stdout",
     "output_type": "stream",
     "text": [
      "<class 'str'>\n"
     ]
    }
   ],
   "source": [
    "#/trace = bundle.pul[group_ind][series_ind][sweep_ind][trace_ind]\n",
    "\n",
    "\n",
    "trace = TestloadFile.pul[3].Label\n",
    "\n",
    "\n",
    "print(type(trace))"
   ]
  },
  {
   "cell_type": "code",
   "execution_count": null,
   "metadata": {},
   "outputs": [],
   "source": []
  },
  {
   "cell_type": "code",
   "execution_count": null,
   "metadata": {},
   "outputs": [],
   "source": []
  },
  {
   "cell_type": "code",
   "execution_count": null,
   "metadata": {},
   "outputs": [],
   "source": []
  },
  {
   "cell_type": "code",
   "execution_count": null,
   "metadata": {},
   "outputs": [],
   "source": [
    "CellsToUse = {'F84A':'STFX'}"
   ]
  },
  {
   "cell_type": "code",
   "execution_count": null,
   "metadata": {},
   "outputs": [],
   "source": []
  },
  {
   "cell_type": "code",
   "execution_count": null,
   "metadata": {},
   "outputs": [],
   "source": []
  }
 ],
 "metadata": {
  "kernelspec": {
   "display_name": "Python 3",
   "language": "python",
   "name": "python3"
  },
  "language_info": {
   "codemirror_mode": {
    "name": "ipython",
    "version": 3
   },
   "file_extension": ".py",
   "mimetype": "text/x-python",
   "name": "python",
   "nbconvert_exporter": "python",
   "pygments_lexer": "ipython3",
   "version": "3.7.2"
  }
 },
 "nbformat": 4,
 "nbformat_minor": 2
}
