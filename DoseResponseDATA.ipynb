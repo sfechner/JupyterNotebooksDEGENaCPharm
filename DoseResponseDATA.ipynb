{
 "cells": [
  {
   "cell_type": "code",
   "execution_count": 1,
   "metadata": {},
   "outputs": [
    {
     "name": "stderr",
     "output_type": "stream",
     "text": [
      "/Users/wormsenselab/anaconda3/envs/dabest/lib/python3.7/site-packages/matplotlib/__init__.py:1003: UserWarning: Duplicate key in file \"/Users/Fechner/.matplotlib/matplotlibrc\", line #3\n",
      "  (fname, cnt))\n",
      "/Users/wormsenselab/anaconda3/envs/dabest/lib/python3.7/site-packages/matplotlib/__init__.py:1003: UserWarning: Duplicate key in file \"/Users/Fechner/.matplotlib/matplotlibrc\", line #4\n",
      "  (fname, cnt))\n"
     ]
    }
   ],
   "source": [
    "from matplotlib import pyplot as plt\n",
    "import numpy as np\n",
    "#%matplotlib inline\n",
    "from matplotlib import gridspec\n",
    "from matplotlib import rcParams\n",
    "from scipy.optimize import curve_fit\n",
    "import matplotlib\n",
    "import scipy\n",
    "import matplotlib.pyplot as plt\n",
    "import warnings\n",
    "import scipy.stats as stats\n",
    "from matplotlib import lines\n",
    "import seaborn as sns\n",
    "plt.rcParams['pdf.fonttype'] = 42 # to be able to change text in pdf opened with illustrator\n",
    "plt.rcParams['ps.fonttype'] = 42\n",
    "#import scipy.stats as stats\n",
    "from statsmodels.stats import multicomp \n",
    "from scipy import stats\n",
    "import dabest\n",
    "\n",
    "import pandas as pd\n",
    "import glob\n",
    "\n",
    "# import tkinter as tk\n",
    "# from tkinter import filedialog#to open dialog box to choose file\n",
    "# from tkinter.filedialog import askopenfilename"
   ]
  },
  {
   "cell_type": "code",
   "execution_count": 2,
   "metadata": {},
   "outputs": [],
   "source": [
    "# Add heka_reader to PYTHONPATH\n",
    "import sys\n",
    "fpath = '/Users/Fechner/PythonStuff/heka_reader'\n",
    "sys.path.append(fpath)"
   ]
  },
  {
   "cell_type": "code",
   "execution_count": 3,
   "metadata": {},
   "outputs": [
    {
     "name": "stdout",
     "output_type": "stream",
     "text": [
      "/Users/Fechner/Box Sync/Fechner/TEVC-GoodmanlabBOX/Project-STFX/AnalysisSTFX/Sensitivity\n"
     ]
    }
   ],
   "source": [
    "cd ~/Box Sync/Fechner/TEVC-GoodmanlabBOX/Project-STFX/AnalysisSTFX/Sensitivity"
   ]
  },
  {
   "cell_type": "code",
   "execution_count": 4,
   "metadata": {},
   "outputs": [
    {
     "data": {
      "text/plain": [
       "'/Users/Fechner/Box Sync/Fechner/TEVC-GoodmanlabBOX/Project-STFX/AnalysisSTFX/Sensitivity'"
      ]
     },
     "execution_count": 4,
     "metadata": {},
     "output_type": "execute_result"
    }
   ],
   "source": [
    "pwd"
   ]
  },
  {
   "cell_type": "code",
   "execution_count": 5,
   "metadata": {},
   "outputs": [],
   "source": [
    "filedir ='/Users/Fechner/Box Sync/Fechner/TEVC-GoodmanlabBOX/Project-STFX/AnalysisSTFX/Sensitivity/'\n",
    "filedirManuscript ='/Users/Fechner/Dropbox/ManuscriptFechnerPharmacology/Figures/ExportedFromNotebook/'\n",
    "filedirManuscriptStat ='/Users/Fechner/Dropbox/ManuscriptFechnerPharmacology/Statistics/'\n",
    "\n",
    "#CHANGE USER NAME ON PRIVATE LAPTOP TO Fechner or be more clever about the Filename\n",
    "\n",
    "#root = tk.Tk()\n",
    "#root.withdraw() not sure if necessary, description to avoid opening full gui\n",
    "\n",
    "#either choose a cetain file or open dialog box\n",
    "#certain file\n",
    "filename = 'NormSensitivityNSAIDs-NoLEAK.xlsx'\n",
    "filenameKm = 'AllVoltagesNSAIDs-NoLEAK.xlsx'\n",
    "filenameMinus85 = 'AllCurrentsMinus85.xlsx'\n",
    "\n",
    "filenameEIPA = 'NormSensitivityEIPA_Min60.xlsx'\n",
    "filenameEIPAKm = 'AllVoltagesEIPA.xlsx'\n",
    "\n",
    "filenameBmil = 'NormSensitivityBmil_Min60.xlsx'\n",
    "filenameBmilKm = 'AllVoltagesBmil.xlsx'\n",
    "\n",
    "locationFileEnantiomer = '/Users/Fechner/Box Sync/Fechner/TEVC-GoodmanlabBOX/Project-STFX/AnalysisSTFX/DrugResponse2019-30uM/AllRatioDrug-20190520.xlsx'\n",
    "\n",
    "#open dialog box\n",
    "#filename = filedialog.askopenfilename() #creates filename and directory. TODO: write conditional sentence\n",
    "#root.update() # necessary in Mac(?) to close the dialog box\n"
   ]
  },
  {
   "cell_type": "markdown",
   "metadata": {},
   "source": [
    "### load specific sheets from excel file"
   ]
  },
  {
   "cell_type": "code",
   "execution_count": 6,
   "metadata": {
    "scrolled": true
   },
   "outputs": [],
   "source": [
    "#pandas environment\n",
    "\n",
    "### LOAD Norm Curves at Minus: norm to 1 and baseline Current subtracted\n",
    "xl = pd.ExcelFile(filedir+filename)\n",
    "xl.sheet_names\n",
    "\n",
    "NormEIPA = pd.ExcelFile(filedir+filenameEIPA)\n",
    "NormEIPA.sheet_names\n",
    "\n",
    "NormBmil = pd.ExcelFile(filedir+filenameBmil)\n",
    "NormBmil.sheet_names\n",
    "\n",
    "### access specific sheet \n",
    "mg419_Ibu_Min100 = xl.parse(\"Mean-mg419-Ibu-Min100\") #calls for Sheet names \n",
    "mg419_Asp_Min100 = xl.parse(\"Mean-mg419-Asp-Min100\") #calls for Sheet names \n",
    "mg419_Diclo_Min100 = xl.parse(\"Mean-mg419-Diclo-Min100\") #calls for Sheet names \n",
    "mg419_EIPA_Min60 = NormEIPA.parse(\"Mean-mg419-EIPA-Min60\") #calls for Sheet names \n",
    "####\n",
    "mg602_Ibu_Min100 = xl.parse(\"Mean-mg602-Ibu-Min100\") #calls for Sheet names  \n",
    "mg602_Asp_Min100 = xl.parse(\"Mean-mg602-Asp-Min100\") #calls for Sheet names  \n",
    "mg602_Diclo_Min100 = xl.parse(\"Mean-mg602-Diclo-Min100\") #calls for Sheet names \n",
    "####\n",
    "mg687_Ibu_Min100 = xl.parse(\"Mean-mg687-Ibu-Min100\") #calls for Sheet names \n",
    "####\n",
    "pTL69_Bmil_Min60 = NormBmil.parse(\"Mean-pTL69-Bmil-Min60\") #calls for Sheet names \n",
    "\n",
    "\n",
    "### LOAD KM EXCEL SHEET|\n",
    "Km = pd.ExcelFile(filedir+filenameKm)\n",
    "Km.sheet_names\n",
    "\n",
    "KmEIPA = pd.ExcelFile(filedir+filenameEIPAKm)\n",
    "KmEIPA.sheet_names\n",
    "\n",
    "KmBmil = pd.ExcelFile(filedir+filenameBmilKm)\n",
    "KmBmil.sheet_names\n",
    "\n",
    "######  access specific sheets for KM values \n",
    "KmIbu = Km.parse(\"Mean-Km-Ibu\") #calls for Sheet names \n",
    "KmAsp = Km.parse(\"Mean-Km-Asp\") #calls for Sheet names \n",
    "KmDiclo = Km.parse(\"Mean-Km-Diclo\") #calls for Sheet names \n",
    "\n",
    "KmEIPAmg419 = KmEIPA.parse(\"Mean-Km-EIPA\") #calls for Sheet names \n",
    "KmBmilpTL69 = KmBmil.parse(\"Mean-Km-Bmil\") #calls for Sheet names \n",
    "\n",
    "### LOAD Current at minus 85 EXCEL SHEET|\n",
    "Minus85 = pd.ExcelFile(filedir+filenameMinus85)\n",
    "Minus85.sheet_names\n",
    "\n",
    "Minus85_Ratio_Ibu = Minus85.parse(\"Ratio-Ibu\") #calls for Sheet names \n",
    "Minus85_Ratio_Asp = Minus85.parse(\"Ratio-Asp\") #calls for Sheet names \n",
    "\n",
    "### LOad RatioFile for EnantiomerDATA\n",
    "ALLRATIODATA = pd.ExcelFile(locationFileEnantiomer)\n",
    "ALLRATIODATA.sheet_names\n",
    "\n",
    "dfALL = ALLRATIODATA.parse(\"Sheet1\",converters={'CultivationSol': str}) #calls for Sheet names "
   ]
  },
  {
   "cell_type": "markdown",
   "metadata": {},
   "source": [
    "# plot Current before after as estimation plot"
   ]
  },
  {
   "cell_type": "code",
   "execution_count": 7,
   "metadata": {},
   "outputs": [
    {
     "name": "stdout",
     "output_type": "stream",
     "text": [
      "<class 'pandas.core.series.Series'>\n"
     ]
    }
   ],
   "source": [
    "# Amil300 = df[(df.Injection.isin([\"mg418mg012\",\"uninjected\"])) & (df.TestSol.isin([\"NaGluAmil300\"]))]\n",
    "# Bmil300 = df[(df.Injection.isin([\"mg418mg012\",\"uninjected\"])) & (df.TestSol.isin([\"NaGluBmil300\",]))]\n",
    "# Ibu300 = df[(df.Injection.isin([\"mg418mg012\",\"uninjected\"])) & (df.TestSol.isin([\"NaGluIbu300\"]))]\n",
    "\n",
    "\n",
    "#### Ibu\n",
    "mg419BeforeIbu = Minus85_Ratio_Ibu['Current-ZeroIbu-mg419'] #returns a data frame \n",
    "mg419BeforeIbu.columns = ['M4d-Ibu']\n",
    "print(type(mg419BeforeIbu))\n",
    "\n",
    "mg419AfterIbu = Minus85_Ratio_Ibu['Current-700Ibu-mg419']  #returns a data frame \n",
    "mg419AfterIbu.columns = ['M4d+Ibu']\n",
    "\n",
    "mg602BeforeIbu = Minus85_Ratio_Ibu['Current-ZeroIbu-mg602'] #returns a data frame \n",
    "mg602BeforeIbu.columns = ['mg602-Ibu']\n",
    "\n",
    "mg602AfterIbu = Minus85_Ratio_Ibu['Current-700Ibu-mg602']  #returns a data frame \n",
    "mg602AfterIbu.columns = ['mg602+Ibu']\n",
    "\n",
    "###### Asp\n",
    "mg419BeforeAsp = Minus85_Ratio_Asp['Current-ZeroAsp-mg419'] #returns a data frame \n",
    "mg419BeforeAsp.columns = ['M4d-Asp']\n",
    "\n",
    "mg419AfterAsp = Minus85_Ratio_Asp['Current-700Asp-mg419']  #returns a data frame \n",
    "mg419AfterAsp.columns = ['M4d+Asp']\n",
    "\n",
    "mg602BeforeAsp = Minus85_Ratio_Asp['Current-ZeroAsp-mg602'] #returns a data frame \n",
    "mg602BeforeAsp.columns = ['mg602-Asp']\n",
    "\n",
    "mg602AfterAsp = Minus85_Ratio_Asp['Current-700Asp-mg602']  #returns a data frame \n",
    "mg602AfterAsp.columns = ['mg602+Asp']\n",
    "\n",
    "\n",
    "#concatenateData\n",
    "#I300Concat = pd.concat([Img418Amil300.reset_index(drop=True),Img418Bmil300.reset_index(drop=True),Img418Ibu300.reset_index(drop=True),IUninjAmil300.reset_index(drop=True),IUninjBmil300.reset_index(drop=True),IUninjIbu300.reset_index(drop=True)],sort=False, axis=1)\n",
    "ChangeConcat = pd.concat([mg419BeforeIbu.reset_index(drop=True),mg419AfterIbu.reset_index(drop=True),mg602BeforeIbu.reset_index(drop=True),mg602AfterIbu.reset_index(drop=True),mg419BeforeAsp.reset_index(drop=True),mg419AfterAsp.reset_index(drop=True),mg602BeforeAsp.reset_index(drop=True),mg602AfterAsp.reset_index(drop=True)],sort=False, axis=1)\n",
    "#sort=False removed the warning, but no idea what its doin\n",
    "ChangeConcatuA = ChangeConcat.astype(float)*1000000\n",
    "\n",
    "#ChangeConcat.columns = ['M4d-Ibu']\n",
    "#load Data\n",
    "#shared_controlI300Concat = dabest.load(I300ConcatuA,idx=(\"Uij-Amil\", \"D-Amil\")\n",
    "#shared_control = dabest.load(I300ConcatuA, idx=(\"Uij-Amil\",\"D-Amil\",\"Uij-Bmil\",\"D-Bmil\",'Uij-Ibu','D-Ibu'))\n",
    "                                                           \n",
    "#shared_controltest = dabest.load(I300ConcatuA, idx=((\"Uij-Amil\", \"D-Amil\",),(\"Uij-Bmil\", \"D-Bmil\",), (\"Uij-Ibu\", \"D-Ibu\")))\n",
    "#multi_2group300 = dabest.load(ChangeConcatuA, idx=((\"Current-ZeroIbu-mg419\", \"Current-700Ibu-mg419\",), (\"Current-ZeroIbu-mg602\", \"Current-700Ibu-mg602\")))\n",
    "\n",
    "\n",
    "multi_2group300 = dabest.load(ChangeConcatuA, idx=((\"Current-ZeroIbu-mg419\", \"Current-700Ibu-mg419\",), (\"Current-ZeroIbu-mg602\", \"Current-700Ibu-mg602\",),(\"Current-ZeroAsp-mg419\", \"Current-700Asp-mg419\",), (\"Current-ZeroAsp-mg602\", \"Current-700Asp-mg602\",)))\n",
    "\n",
    "       \n",
    "    \n"
   ]
  },
  {
   "cell_type": "code",
   "execution_count": 10,
   "metadata": {
    "scrolled": true
   },
   "outputs": [
    {
     "data": {
      "text/plain": [
       "DABEST v0.2.4\n",
       "=============\n",
       "             \n",
       "Good evening!\n",
       "The current time is Thu Dec  3 20:57:56 2020.\n",
       "\n",
       "The unpaired mean difference between Current-ZeroIbu-mg419 and Current-700Ibu-mg419 is 4.63 [95%CI 1.29, 7.73].\n",
       "The two-sided p-value of the Mann-Whitney test is 0.0102.\n",
       "\n",
       "The unpaired mean difference between Current-ZeroIbu-mg602 and Current-700Ibu-mg602 is 10.7 [95%CI 7.58, 13.9].\n",
       "The two-sided p-value of the Mann-Whitney test is 5.09e-05.\n",
       "\n",
       "The unpaired mean difference between Current-ZeroAsp-mg419 and Current-700Asp-mg419 is 5.11 [95%CI 0.744, 9.92].\n",
       "The two-sided p-value of the Mann-Whitney test is 0.0736.\n",
       "\n",
       "The unpaired mean difference between Current-ZeroAsp-mg602 and Current-700Asp-mg602 is 6.53 [95%CI 1.28, 11.8].\n",
       "The two-sided p-value of the Mann-Whitney test is 0.0521.\n",
       "\n",
       "5000 bootstrap samples were taken; the confidence interval is bias-corrected and accelerated.\n",
       "The p-value(s) reported are the likelihood(s) of observing the effect size(s),\n",
       "if the null hypothesis of zero difference is true.\n",
       "\n",
       "To get the results of all valid statistical tests, use `.mean_diff.statistical_tests`"
      ]
     },
     "execution_count": 10,
     "metadata": {},
     "output_type": "execute_result"
    }
   ],
   "source": [
    "multi_2group300.mean_diff"
   ]
  },
  {
   "cell_type": "code",
   "execution_count": 11,
   "metadata": {},
   "outputs": [],
   "source": [
    "colorsESTchange = [(0.30, 0.69, 0.29),(0.30, 0.69, 0.29),'grey','grey',(0.30, 0.69, 0.29),(0.30, 0.69, 0.29),'grey','grey',(1, 0.50,0),(0.22,0.49,0.72),(0.00, 0.00, 0.00),(0.89, 0.11,0.10),(0.60, 0.31,0.64),(0.22, 0.49, 0.72),(1.00, 0.50, 0.00)]\n",
    "\n",
    "\n"
   ]
  },
  {
   "cell_type": "code",
   "execution_count": 14,
   "metadata": {
    "scrolled": true
   },
   "outputs": [
    {
     "data": {
      "image/png": "[encoded data removed]",
      "text/plain": [
       "<Figure size 230x350 with 2 Axes>"
      ]
     },
     "metadata": {
      "needs_background": "light"
     },
     "output_type": "display_data"
    }
   ],
   "source": [
    "#plt.figure(figsize=(3.5, 3)) \n",
    "fig1= multi_2group300.mean_diff.plot(fig_size=(2.3, 3.5),  raw_marker_size=(2),es_marker_size=2,contrast_label='Drug mediated\\n current ΔI(µA)',\n",
    "                                    swarm_label='I (µA)',custom_palette=colorsESTchange, reflines_kwargs = {'linestyle':'dashed', 'linewidth':0.75})#,reflines_kwargs\n",
    "\n",
    "\n",
    "fig1.axes[0].plot([-1,20], [0,0], 'k-', color='#000000', linewidth=1)\n",
    "#fig1.axes[1].plot([-1,20], [-1,-1], 'k--', color='#000000', linewidth=1)\n",
    "fig1.axes[0].tick_params(axis='both', which='major', labelsize=8)  \n",
    "fig1.axes[1].tick_params(axis='both', which='major', labelsize=8)  \n",
    "#fig1 = plot([-1,1], [0,0])# , 'k--', color='#000000', linewidth=1)\n",
    "#ax1.spines['left'].set_position(('outward',35))\n",
    "\n",
    "\n",
    "labels = ['0','700','0','700','0','700','0','700' ]\n",
    "fig1.axes[0].set_xticklabels(labels, rotation=30, ha='right')\n",
    "fig1.axes[0].text(0.13, -12.5, 'Ibu (µM)')\n",
    "fig1.axes[0].text(4.0, -12.5, 'Asp  (µM)')\n",
    "fig1.axes[0].get_yaxis().set_tick_params(direction='in')\n",
    "fig1.axes[1].get_yaxis().set_tick_params(direction='in')\n",
    "\n",
    "labels2 = ['','MEC-4d','','MEC-4d[E704K]','','MEC-4d','','MEC-4d[E704K]']\n",
    "fig1.axes[1].set_xticklabels(labels2, rotation=30, ha='right')\n",
    "\n",
    "#plt.gcf().subplots_adjust(bottom=0.2, left=0.3,right=None, top=None,hspace=1.5, wspace=0.2) \n",
    "plt.gcf().subplots_adjust(bottom=0.17, left=0.25,right=None, top=None,hspace=0.75, wspace=0.2) \n",
    "plt.savefig(filedirManuscript+\"Fig6-ChangeInCurrent\"+'.pdf')"
   ]
  },
  {
   "cell_type": "markdown",
   "metadata": {},
   "source": [
    "# plot data R und S Enantiomer"
   ]
  },
  {
   "cell_type": "code",
   "execution_count": 15,
   "metadata": {},
   "outputs": [],
   "source": [
    "EnantiomerRIbu = dfALL[(dfALL.Injection.isin([\"mg419mg012\",\"pTL69mg012\",\"mg418mg012\",\"uninjected\"])) & (dfALL.TestSol.isin([\"NaGluRIbuR30\"]))] \n",
    "EnantiomerSIbu = dfALL[(dfALL.Injection.isin([\"mg419mg012\",\"pTL69mg012\",\"mg418mg012\",\"uninjected\"])) & (dfALL.TestSol.isin([\"NaGluSIbuS30\"]))] \n"
   ]
  },
  {
   "cell_type": "code",
   "execution_count": 16,
   "metadata": {},
   "outputs": [
    {
     "data": {
      "text/plain": [
       "DABEST v0.2.4\n",
       "=============\n",
       "             \n",
       "Good evening!\n",
       "The current time is Thu Dec  3 20:59:02 2020.\n",
       "\n",
       "Effect size(s) with 95% confidence intervals will be computed for:\n",
       "1. M4d-RIbu minus uninj-RIbu\n",
       "2. M4d-SIbu minus uninj-SIbu\n",
       "\n",
       "5000 resamples will be used to generate the effect size bootstraps."
      ]
     },
     "execution_count": 16,
     "metadata": {},
     "output_type": "execute_result"
    }
   ],
   "source": [
    "#### Ibu\n",
    "\n",
    "mg419BeforeRIbu = EnantiomerRIbu.loc[EnantiomerRIbu['Injection'] == 'mg419mg012',['DELTA']] #returns a data frame \n",
    "mg419BeforeRIbu.columns = ['M4d-RIbu']\n",
    "\n",
    "mg419BeforeSIbu = EnantiomerSIbu.loc[EnantiomerSIbu['Injection'] == 'mg419mg012',['DELTA']] #returns a data frame \n",
    "mg419BeforeSIbu.columns = ['M4d-SIbu']\n",
    "\n",
    "\n",
    "uninjBeforeRIbu = EnantiomerRIbu.loc[EnantiomerRIbu['Injection'] == 'uninjected',['DELTA']] #returns a data frame \n",
    "uninjBeforeRIbu.columns = ['uninj-RIbu']\n",
    "\n",
    "uninjBeforeSIbu = EnantiomerSIbu.loc[EnantiomerSIbu['Injection'] == 'uninjected',['DELTA']] #returns a data frame \n",
    "uninjBeforeSIbu.columns = ['uninj-SIbu']\n",
    "\n",
    "\n",
    "ChangeConcatRandSIbu = pd.concat([mg419BeforeRIbu.reset_index(drop=True),mg419BeforeSIbu.reset_index(drop=True),uninjBeforeRIbu.reset_index(drop=True),uninjBeforeSIbu.reset_index(drop=True)],sort=False, axis=1)\n",
    "#sort=False removed the warning, but no idea what its doin\n",
    "ChangeConcatRandSIbuuA = ChangeConcatRandSIbu.astype(float)*1000000*-1\n",
    "\n",
    "\n",
    "#load Data\n",
    "#shared_controlI300Concat = dabest.load(I300ConcatuA,idx=(\"Uij-Amil\", \"D-Amil\")\n",
    "#shared_control = dabest.load(I300ConcatuA, idx=(\"Uij-Amil\",\"D-Amil\",\"Uij-Bmil\",\"D-Bmil\",'Uij-Ibu','D-Ibu'))\n",
    "                                                           \n",
    "#shared_controltest = dabest.load(I300ConcatuA, idx=((\"Uij-Amil\", \"D-Amil\",),(\"Uij-Bmil\", \"D-Bmil\",), (\"Uij-Ibu\", \"D-Ibu\")))\n",
    "#multi_2group300 = dabest.load(ChangeConcatuA, idx=((\"Current-ZeroIbu-mg419\", \"Current-700Ibu-mg419\",), (\"Current-ZeroIbu-mg602\", \"Current-700Ibu-mg602\")))\n",
    "\n",
    "\n",
    "#multi_2group300 = dabest.load(ChangeConcatuA, idx=((\"Current-ZeroIbu-mg419\", \"Current-700Ibu-mg419\",), (\"Current-ZeroIbu-mg602\", \"Current-700Ibu-mg602\",),(\"Current-ZeroAsp-mg419\", \"Current-700Asp-mg419\",), (\"Current-ZeroAsp-mg602\", \"Current-700Asp-mg602\",)))\n",
    "\n",
    " # #load Data\n",
    "shared_control_EnantM4d = dabest.load(ChangeConcatRandSIbuuA , idx=(('uninj-RIbu','M4d-RIbu',),('uninj-SIbu','M4d-SIbu',))) \n",
    "shared_control_EnantM4d                        \n"
   ]
  },
  {
   "cell_type": "code",
   "execution_count": 17,
   "metadata": {
    "scrolled": false
   },
   "outputs": [
    {
     "data": {
      "text/plain": [
       "DABEST v0.2.4\n",
       "=============\n",
       "             \n",
       "Good evening!\n",
       "The current time is Thu Dec  3 20:59:04 2020.\n",
       "\n",
       "The unpaired mean difference between uninj-RIbu and M4d-RIbu is 5.27 [95%CI 3.49, 8.62].\n",
       "The two-sided p-value of the Mann-Whitney test is 0.000197.\n",
       "\n",
       "The unpaired mean difference between uninj-SIbu and M4d-SIbu is 4.7 [95%CI 3.39, 5.91].\n",
       "The two-sided p-value of the Mann-Whitney test is 0.00028.\n",
       "\n",
       "5000 bootstrap samples were taken; the confidence interval is bias-corrected and accelerated.\n",
       "The p-value(s) reported are the likelihood(s) of observing the effect size(s),\n",
       "if the null hypothesis of zero difference is true.\n",
       "\n",
       "To get the results of all valid statistical tests, use `.mean_diff.statistical_tests`"
      ]
     },
     "execution_count": 17,
     "metadata": {},
     "output_type": "execute_result"
    }
   ],
   "source": [
    "shared_control_EnantM4d.mean_diff"
   ]
  },
  {
   "cell_type": "code",
   "execution_count": 21,
   "metadata": {},
   "outputs": [
    {
     "data": {
      "image/png": "[encoded data removed]",
      "text/plain": [
       "<Figure size 300x470 with 2 Axes>"
      ]
     },
     "metadata": {
      "needs_background": "light"
     },
     "output_type": "display_data"
    }
   ],
   "source": [
    "#change figure!!!!\n",
    "#fig1 = plt.figure(figsize=(3.5, 3)) \n",
    "#ax1 = plt.subplot(1,1,1)\n",
    "#plt.figure(figsize=(3, 4)) \n",
    "colorsESTDT1=[(0.00, 0.00, 0.00),(0.30, 0.69, 0.29),(0.00, 0.00, 0.00),(0.30, 0.69, 0.29),(0.00, 0.00, 0.00),(0.89, 0.11,0.10),(0.00, 0.00, 0.00),(0.89, 0.11,0.10),(0.00, 0.00, 0.00),(0.89, 0.11,0.10)]\n",
    "#colorsEST = [(0.00, 0.00, 0.00),(0.89, 0.11,0.10),(0.60, 0.31,0.64),(0.30, 0.69, 0.29),(1, 0.50,0),(0.22,0.49,0.72),(0.00, 0.00, 0.00),\"red\",\"blue\",(0.00, 0.00, 0.00),(0.22, 0.49, 0.72),(1.00, 0.50, 0.00)]\n",
    "\n",
    "fig1= shared_control_EnantM4d.mean_diff.plot( swarm_ylim=(-1,15), contrast_ylim=(-1,10), custom_palette=colorsESTDT1,fig_size=(3, 4.7),\n",
    "                                     raw_marker_size=(2),es_marker_size=2,contrast_label='ΔI baseline \\n corrected (µA)',\n",
    "                                    swarm_label='Drug mediated\\n current ΔI(µA)',reflines_kwargs = {'linestyle':'dashed', 'linewidth':0.75})#,reflines_kwargs\n",
    "#fig1.axes[0].ylabel('Current @-85 mV (µA)', fontsize=14) ‘color’ : ‘linestyle’:’dashed’}\n",
    "#ax1.spines['left'].set_position(('outward',15))  \n",
    "\n",
    "\n",
    "fig1.axes[0].plot([-1,20], [0,0], 'k-', color='#000000', linewidth=1)\n",
    "#fig1.axes[1].plot([-1,20], [-1,-1], 'k--', color='#000000', linewidth=1)\n",
    "fig1.axes[0].tick_params(axis='both', which='major', labelsize=8)  \n",
    "fig1.axes[1].tick_params(axis='both', which='major', labelsize=8)  \n",
    "#fig1 = plot([-1,20], [0,0])# , 'k--', color='#000000', linewidth=1)\n",
    "#ax1.spines['left'].set_position(('outward',35))\n",
    "\n",
    "labels = []\n",
    "fig1.axes[0].set_xticklabels(labels, rotation=30, ha='right')\n",
    "labels2 = ['uninj','MEC-4d','uninj','MEC-4d']\n",
    "fig1.axes[1].set_xticklabels(labels2, rotation=30, ha='right')\n",
    "fig1.axes[0].text(0, -5.5, 'R-Ibu \\n (µM)')\n",
    "fig1.axes[0].text(2.1, -5.5, 'S-Ibu \\n (µM)')\n",
    "fig1.axes[0].get_yaxis().set_tick_params(direction='in')\n",
    "fig1.axes[1].get_yaxis().set_tick_params(direction='in')\n",
    "\n",
    "plt.gcf().subplots_adjust(bottom=0.17, left=0.35,right=None, top=None,hspace=0.75, wspace=0.2) \n",
    "plt.savefig(filedir+\"Fig3-EstStat-IDT1Uninj\"+'.pdf')\n",
    "#plt.savefig(filedir+\"Fig1-NaGlu-MeanStart\"+'.eps')\n",
    "plt.savefig(filedirManuscript+\"Fig4-EstStat-Enant\"+'.pdf')\n",
    "\n",
    "\n"
   ]
  },
  {
   "cell_type": "markdown",
   "metadata": {},
   "source": [
    "# FIND ORIGINAL TRACES FOR IBUPROFEN AND ASPIRIN OR MUTANT?"
   ]
  },
  {
   "cell_type": "markdown",
   "metadata": {},
   "source": [
    "### HARDCODING THE IMPORT HEKA PATH"
   ]
  },
  {
   "cell_type": "code",
   "execution_count": 17,
   "metadata": {},
   "outputs": [],
   "source": [
    "# Add heka_reader to PYTHONPATH\n",
    "import sys\n",
    "#fpath = '/Users/Fechner/PythonStuff/heka_reader' #initial version delete\n",
    "fpath = '/Users/Fechner/Dropbox/PythonImport/heka_reader' #MAC\n",
    "sys.path.append(fpath)\n",
    "import heka_reader"
   ]
  },
  {
   "cell_type": "markdown",
   "metadata": {},
   "source": [
    "### got the heka reader from here\n",
    "https://github.com/campagnola/heka_reader\n",
    "\n",
    "- clone the repository to your computer (move to directory with terminal commands. Mine here is called PythonStuff at the moment: change name)\n",
    "    - git clone https://github.com/campagnola/heka_reader.git\n",
    "- the heka reader enables to read and access the .dat files (to work in jupyter notebook, you habe to append the heka_reader to the path where the heka reader is stored)\n",
    "- browser.py enables to easily browse for recordings within a .dat comparable to Igor or other similar programs\n",
    "- I changed the following in my local browser.py version, because the functions output was a tuple:\n",
    "    - def load_clicked():\n",
    "    - Display a file dialog to select a .dat file\n",
    "    - file_name = pg.QtGui.QFileDialog.getOpenFileName()\n",
    "    - if isinstance(file_name, tuple):   (ADDED THIS LINE)\n",
    "        -    file_name = file_name[0]    (ADDED THIS LINE)\n",
    "    - if file_name == '':\n",
    "        -    return\n",
    "    - load(file_name)"
   ]
  },
  {
   "cell_type": "markdown",
   "metadata": {},
   "source": [
    "## examples of how to access data structure"
   ]
  },
  {
   "cell_type": "markdown",
   "metadata": {},
   "source": [
    "    # Select a trace\n",
    "    trace = bundle.pul[group_ind][series_ind][sweep_ind][trace_ind]\n",
    "    \n",
    "    # Print meta-data for this trace\n",
    "    print(trace)\n",
    "    \n",
    "    # Load data for this trace\n",
    "    data = bundle.data[group_id, series_id, sweep_ind, trace_ind]"
   ]
  },
  {
   "cell_type": "markdown",
   "metadata": {},
   "source": [
    "# CHANGE DIRECTORY"
   ]
  },
  {
   "cell_type": "code",
   "execution_count": 18,
   "metadata": {},
   "outputs": [
    {
     "name": "stdout",
     "output_type": "stream",
     "text": [
      "/Users/Fechner/Box Sync/Fechner/TEVC-GoodmanlabBOX/Project-STFX/datFilesSTFX\n"
     ]
    }
   ],
   "source": [
    "cd ~/Box Sync/Fechner/TEVC-GoodmanlabBOX/Project-STFX/datFilesSTFX"
   ]
  },
  {
   "cell_type": "code",
   "execution_count": 19,
   "metadata": {},
   "outputs": [
    {
     "name": "stdout",
     "output_type": "stream",
     "text": [
      "/Users/Fechner/Box Sync/Fechner/TEVC-GoodmanlabBOX/Project-STFX/MetaDataSTFX/\n"
     ]
    }
   ],
   "source": [
    "####### Hardcoding the data path to your device ####\n",
    "Changefiledir ='/Users/Fechner/Box Sync/Fechner/'\n",
    "\n",
    "#### doesn't need to be changed for TEVC analysis ###\n",
    "filedirMeta = Changefiledir + 'TEVC-GoodmanlabBOX/Project-STFX/MetaDataSTFX/'\n",
    "#filedirManuscript ='/Users/Fechner/Dropbox/ManuscriptFechnerPharmacology/Figures/ExportedFromNotebook/'\n",
    "\n",
    "#CHANGE USER NAME ON PRIVATE LAPTOP TO Fechner or be more clever about the Filename\n",
    "print(filedirMeta)"
   ]
  },
  {
   "cell_type": "markdown",
   "metadata": {},
   "source": [
    "### define recording number and group number"
   ]
  },
  {
   "cell_type": "code",
   "execution_count": 70,
   "metadata": {},
   "outputs": [],
   "source": [
    "####### hardcoding ########## FOR NaGLu FIgure 1 ######\n",
    "#enter here different IDs\n",
    "\n",
    "Ibumg419frog = 'STFX057'\n",
    "Ibumg419RecNr = '005' \n",
    "Ibumg419Group = 2-1  #Group Number, -1 for python convention\n",
    "\n",
    "Ibumg602frog = 'STFX054'\n",
    "Ibumg602RecNr = '009' \n",
    "Ibumg602Group = 6-1\n",
    "\n",
    "Aspmg419frog = 'STFX087'\n",
    "Aspmg419RecNr = '021' \n",
    "Aspmg419Group = 2-1  #Group Number, -1 for python convention"
   ]
  },
  {
   "cell_type": "markdown",
   "metadata": {},
   "source": [
    "## Find filenames of recordings"
   ]
  },
  {
   "cell_type": "code",
   "execution_count": 21,
   "metadata": {},
   "outputs": [],
   "source": [
    "Ibumg419filename = 'MetaSTFX057SensitivityMetadataSTFXIBU.xlsx'\n",
    "#Ibumg419Recording = Ibumg419frog + Ibumg419RecNr #maybe trouble with - in .dat file. matlab ignored all of them. hekareader not\n",
    "Ibumg419xl = pd.ExcelFile(filedirMeta+Ibumg419filename)#converters={'names':str,'ages':str}\n",
    "Ibumg419xl.sheet_names\n",
    "Ibumg419df = Ibumg419xl.parse(\"Sheet1\",converters={'Filename': np.int64}) #calls for Sheet names \n",
    "Ibumg419Recording = Ibumg419frog + Ibumg419RecNr\n"
   ]
  },
  {
   "cell_type": "code",
   "execution_count": 22,
   "metadata": {},
   "outputs": [],
   "source": [
    "Ibumg602filename = 'MetaSTFX054SensitivityMetadataSTFXIBU.xlsx'\n",
    "#Ibumg602Recording = Ibumg602frog + Ibumg602RecNr #maybe trouble with - in .dat file. matlab ignored all of them. hekareader not\n",
    "Ibumg602xl = pd.ExcelFile(filedirMeta+Ibumg602filename)#converters={'names':str,'ages':str}\n",
    "Ibumg602xl.sheet_names\n",
    "Ibumg602df = Ibumg602xl.parse(\"Sheet1\",converters={'Filename': np.int64}) #calls for Sheet names \n",
    "Ibumg602Recording = Ibumg602frog + Ibumg602RecNr\n"
   ]
  },
  {
   "cell_type": "code",
   "execution_count": 71,
   "metadata": {},
   "outputs": [],
   "source": [
    "Aspmg419filename = 'MetaSTFX087SensitivityMetadataSTFXASP.xlsx'\n",
    "#Aspmg419Recording = Aspmg419frog + Aspmg419RecNr #maybe trouble with - in .dat file. matlab ignored all of them. hekareader not\n",
    "Aspmg419xl = pd.ExcelFile(filedirMeta+Aspmg419filename)#converters={'names':str,'ages':str}\n",
    "Aspmg419xl.sheet_names\n",
    "Aspmg419df = Aspmg419xl.parse(\"Sheet1\",converters={'Filename': np.int64}) #calls for Sheet names \n",
    "Aspmg419Recording = Aspmg419frog + Aspmg419RecNr\n"
   ]
  },
  {
   "cell_type": "markdown",
   "metadata": {},
   "source": [
    "## find filename on meta data sheet"
   ]
  },
  {
   "cell_type": "code",
   "execution_count": 23,
   "metadata": {},
   "outputs": [],
   "source": [
    "#find the .dat file name in the MetaData sheet of the corresponding recording\n",
    "Ibumg419DatFile = Ibumg419df.Filename[(Ibumg419df.CellID == Ibumg419Recording)]"
   ]
  },
  {
   "cell_type": "code",
   "execution_count": 24,
   "metadata": {},
   "outputs": [],
   "source": [
    "Ibumg602DatFile = Ibumg602df.Filename[(Ibumg602df.CellID == Ibumg602Recording)]"
   ]
  },
  {
   "cell_type": "code",
   "execution_count": 76,
   "metadata": {},
   "outputs": [],
   "source": [
    "Aspmg419DatFile = Aspmg419df.Filename[(Aspmg419df.CellID == Aspmg419Recording)]"
   ]
  },
  {
   "cell_type": "markdown",
   "metadata": {},
   "source": [
    "## load dat files"
   ]
  },
  {
   "cell_type": "code",
   "execution_count": 25,
   "metadata": {},
   "outputs": [],
   "source": [
    "# Load a .dat file\n",
    "Ibumg419loadFile = heka_reader.Bundle(str(Ibumg419DatFile.iloc[0])+'.dat')"
   ]
  },
  {
   "cell_type": "code",
   "execution_count": 26,
   "metadata": {},
   "outputs": [],
   "source": [
    "Ibumg602loadFile = heka_reader.Bundle(str(Ibumg602DatFile.iloc[0])+'.dat')"
   ]
  },
  {
   "cell_type": "code",
   "execution_count": 78,
   "metadata": {},
   "outputs": [],
   "source": [
    "Aspmg419loadFile = heka_reader.Bundle(str(Aspmg419DatFile.iloc[0])+'.dat')"
   ]
  },
  {
   "cell_type": "markdown",
   "metadata": {},
   "source": [
    "## MEC-4d Ibuprofen"
   ]
  },
  {
   "cell_type": "code",
   "execution_count": 27,
   "metadata": {},
   "outputs": [],
   "source": [
    "Ibumg419Before1 = []\n",
    "for i in range(0,8):#(0,len(tt)):\n",
    "    Ibumg419Before1.append(Ibumg419loadFile.data[Ibumg419Group,1,i,0])\n",
    "    \n",
    "Ibumg419Before2 = []\n",
    "for j in range(0,8):#(0,len(tt)):\n",
    "    Ibumg419Before2.append(Ibumg419loadFile.data[Ibumg419Group,2,j,0])\n",
    "    \n",
    "Ibumg419Before3 = []\n",
    "for k in range(0,8):#(0,len(tt)):\n",
    "    Ibumg419Before3.append(Ibumg419loadFile.data[Ibumg419Group,3,k,0])"
   ]
  },
  {
   "cell_type": "code",
   "execution_count": 28,
   "metadata": {},
   "outputs": [],
   "source": [
    "Ibumg419Ibu1 = []\n",
    "for i in range(0,8):#(0,len(tt)):\n",
    "    Ibumg419Ibu1.append(Ibumg419loadFile.data[Ibumg419Group,29,i,0])\n",
    "    \n",
    "Ibumg419Ibu2 = []\n",
    "for j in range(0,8):#(0,len(tt)):\n",
    "    Ibumg419Ibu2.append(Ibumg419loadFile.data[Ibumg419Group,30,j,0])\n",
    "    \n",
    "Ibumg419Ibu3 = []\n",
    "for k in range(0,8):#(0,len(tt)):\n",
    "    Ibumg419Ibu3.append(Ibumg419loadFile.data[Ibumg419Group,31,k,0])"
   ]
  },
  {
   "cell_type": "markdown",
   "metadata": {},
   "source": [
    "## MEC-4d E704K"
   ]
  },
  {
   "cell_type": "code",
   "execution_count": 29,
   "metadata": {},
   "outputs": [],
   "source": [
    "Ibumg602Before1 = []\n",
    "for i in range(0,8):#(0,len(tt)):\n",
    "    Ibumg602Before1.append(Ibumg602loadFile.data[Ibumg602Group,1,i,0])\n",
    "    \n",
    "Ibumg602Before2 = []\n",
    "for j in range(0,8):#(0,len(tt)):\n",
    "    Ibumg602Before2.append(Ibumg602loadFile.data[Ibumg602Group,2,j,0])\n",
    "    \n",
    "Ibumg602Before3 = []\n",
    "for k in range(0,8):#(0,len(tt)):\n",
    "    Ibumg602Before3.append(Ibumg602loadFile.data[Ibumg602Group,3,k,0])"
   ]
  },
  {
   "cell_type": "code",
   "execution_count": 30,
   "metadata": {},
   "outputs": [],
   "source": [
    "Ibumg602Ibu1 = []\n",
    "for i in range(0,8):#(0,len(tt)):\n",
    "    Ibumg602Ibu1.append(Ibumg602loadFile.data[Ibumg602Group,29,i,0])\n",
    "    \n",
    "Ibumg602Ibu2 = []\n",
    "for j in range(0,8):#(0,len(tt)):\n",
    "    Ibumg602Ibu2.append(Ibumg602loadFile.data[Ibumg602Group,30,j,0])\n",
    "    \n",
    "Ibumg602Ibu3 = []\n",
    "for k in range(0,8):#(0,len(tt)):\n",
    "    Ibumg602Ibu3.append(Ibumg602loadFile.data[Ibumg602Group,31,k,0])"
   ]
  },
  {
   "cell_type": "markdown",
   "metadata": {},
   "source": [
    "# mg419 Aspirin "
   ]
  },
  {
   "cell_type": "code",
   "execution_count": 80,
   "metadata": {},
   "outputs": [],
   "source": [
    "Aspmg419Before1 = []\n",
    "for i in range(0,8):#(0,len(tt)):\n",
    "    Aspmg419Before1.append(Aspmg419loadFile.data[Aspmg419Group,3-1,i,0])\n",
    "    \n",
    "Aspmg419Before2 = []\n",
    "for j in range(0,8):#(0,len(tt)):\n",
    "    Aspmg419Before2.append(Aspmg419loadFile.data[Aspmg419Group,4-1,j,0])\n",
    "    \n",
    "Aspmg419Before3 = []\n",
    "for k in range(0,8):#(0,len(tt)):\n",
    "    Aspmg419Before3.append(Aspmg419loadFile.data[Aspmg419Group,5-1,k,0])"
   ]
  },
  {
   "cell_type": "code",
   "execution_count": 81,
   "metadata": {},
   "outputs": [],
   "source": [
    "Aspmg419Asp1 = []\n",
    "for i in range(0,8):#(0,len(tt)):\n",
    "    Aspmg419Asp1.append(Aspmg419loadFile.data[Aspmg419Group,31-1,i,0])\n",
    "    \n",
    "Aspmg419Asp2 = []\n",
    "for j in range(0,8):#(0,len(tt)):\n",
    "    Aspmg419Asp2.append(Aspmg419loadFile.data[Aspmg419Group,32-1,j,0])\n",
    "    \n",
    "Aspmg419Asp3 = []\n",
    "for k in range(0,8):#(0,len(tt)):\n",
    "    Aspmg419Asp3.append(Aspmg419loadFile.data[Aspmg419Group,33-1,k,0])"
   ]
  },
  {
   "cell_type": "markdown",
   "metadata": {},
   "source": [
    "## Average"
   ]
  },
  {
   "cell_type": "code",
   "execution_count": 31,
   "metadata": {},
   "outputs": [],
   "source": [
    "Ibumg419BeforeMEAN =[]\n",
    "for i in range(0,8):\n",
    "    Ibumg419BeforeMEAN.append(((Ibumg419Before1[i]+Ibumg419Before2[i]+Ibumg419Before3[i])/3)*1000000)\n",
    "    \n",
    "Ibumg419IbuMEAN =[]\n",
    "for j in range(0,8):\n",
    "    Ibumg419IbuMEAN.append(((Ibumg419Ibu1[j]+Ibumg419Ibu2[j]+Ibumg419Ibu3[j])/3)*1000000)"
   ]
  },
  {
   "cell_type": "code",
   "execution_count": 32,
   "metadata": {},
   "outputs": [],
   "source": [
    "Ibumg602BeforeMEAN =[]\n",
    "for i in range(0,8):\n",
    "    Ibumg602BeforeMEAN.append(((Ibumg602Before1[i]+Ibumg602Before2[i]+Ibumg602Before3[i])/3)*1000000)\n",
    "    \n",
    "Ibumg602IbuMEAN =[]\n",
    "for j in range(0,8):\n",
    "    Ibumg602IbuMEAN.append(((Ibumg602Ibu1[j]+Ibumg602Ibu2[j]+Ibumg602Ibu3[j])/3)*1000000)"
   ]
  },
  {
   "cell_type": "code",
   "execution_count": 84,
   "metadata": {},
   "outputs": [],
   "source": [
    "Aspmg419BeforeMEAN =[]\n",
    "for i in range(0,8):\n",
    "    Aspmg419BeforeMEAN.append(((Aspmg419Before1[i]+Aspmg419Before2[i]+Aspmg419Before3[i])/3)*1000000)\n",
    "    \n",
    "Aspmg419AspMEAN =[]\n",
    "for j in range(0,8):\n",
    "    Aspmg419AspMEAN.append(((Aspmg419Asp1[j]+Aspmg419Asp2[j]+Aspmg419Asp3[j])/3)*1000000)"
   ]
  },
  {
   "cell_type": "code",
   "execution_count": 87,
   "metadata": {},
   "outputs": [
    {
     "data": {
      "text/plain": [
       "[array([-9.4546875 , -9.45572917, -9.45208333, ..., -8.97447917,\n",
       "        -8.9796875 , -8.99583333]),\n",
       " array([-9.33333333, -9.29895833, -9.3171875 , ..., -9.15729167,\n",
       "        -9.134375  , -9.14583333]),\n",
       " array([-9.31927083, -9.30625   , -9.3234375 , ..., -9.33802083,\n",
       "        -9.35364583, -9.34583333]),\n",
       " array([-9.35260417, -9.346875  , -9.37760417, ..., -9.5515625 ,\n",
       "        -9.5234375 , -9.525     ]),\n",
       " array([-9.40052083, -9.38541667, -9.38072917, ..., -9.71510417,\n",
       "        -9.7203125 , -9.72916667]),\n",
       " array([-9.36822917, -9.39479167, -9.375     , ..., -9.83489583,\n",
       "        -9.80104167, -9.70729167]),\n",
       " array([ -9.37395833,  -9.36770833,  -9.3921875 , ..., -10.0765625 ,\n",
       "        -10.02552083, -10.059375  ]),\n",
       " array([ -9.36927083,  -9.384375  ,  -9.38333333, ..., -10.15729167,\n",
       "        -10.13854167, -10.13958333])]"
      ]
     },
     "execution_count": 87,
     "metadata": {},
     "output_type": "execute_result"
    }
   ],
   "source": [
    "Aspmg419AspMEAN"
   ]
  },
  {
   "cell_type": "markdown",
   "metadata": {},
   "source": [
    "# Make FIgure 6"
   ]
  },
  {
   "cell_type": "code",
   "execution_count": 33,
   "metadata": {},
   "outputs": [],
   "source": [
    "colorsSINGLES = [(0.30, 0.69, 0.29),(0.60, 0.31,0.64),(0.89, 0.11,0.10),(1, 0.50,0),(0.22,0.49,0.72),(0.00, 0.00, 0.00)]"
   ]
  },
  {
   "cell_type": "code",
   "execution_count": 34,
   "metadata": {},
   "outputs": [
    {
     "data": {
      "image/png": "[encoded data removed]",
      "text/plain": [
       "<Figure size 648x576 with 8 Axes>"
      ]
     },
     "metadata": {
      "needs_background": "light"
     },
     "output_type": "display_data"
    }
   ],
   "source": [
    "#Plot1\n",
    "fig = plt.figure(figsize=(9, 8)) \n",
    "\n",
    "ax1 = plt.subplot(3,4,1)\n",
    "for m in range(0,8):\n",
    "    plt.plot(Ibumg419BeforeMEAN[m][300:1400], color = colorsSINGLES[0])#\n",
    "    \n",
    "ax2 = plt.subplot(3,4,2)\n",
    "for n in range(0,8):\n",
    "    plt.plot(Ibumg419IbuMEAN[n][300:1400], color = colorsSINGLES[0])\n",
    "    \n",
    "ax3 = plt.subplot(3,4,5)\n",
    "for i in range(0,8):\n",
    "    plt.plot(Ibumg602BeforeMEAN[i][300:1400], 'grey')\n",
    "    \n",
    "ax4 = plt.subplot(3,4,6)\n",
    "for j in range(0,8):\n",
    "    plt.plot(Ibumg602IbuMEAN[j][300:1400], 'grey')\n",
    "\n",
    "ax5 = plt.subplot(3,4,9)\n",
    "plt.xscale('log')\n",
    "\n",
    "ax6 = plt.subplot(3,4,10)\n",
    "\n",
    "ax7 = plt.subplot(3,4,11)\n",
    "plt.xscale('log')\n",
    "\n",
    "ax8 = plt.subplot(3,4,12)\n",
    "plt.xscale('log')\n",
    "\n",
    "\n",
    "###### changes in appearance\n",
    "\n",
    "ax1.set_ylim([-20, 20])\n",
    "ax1.text(200, 12, '0 µM Ibu')\n",
    "# ax1.set_ylim([-150, 150])\n",
    "#ax1.set_xlim([300, 1400])\n",
    "ax1.spines['right'].set_visible(False)                                  # no spine at the right\n",
    "ax1.spines['top'].set_visible(False)                                     # no spine at the top\n",
    "ax1.yaxis.set_ticks_position('left')                                     # ticks at the left\n",
    "ax1.xaxis.set_ticks_position('bottom')                                 # no spine at the right\n",
    "ax1.spines['left'].set_position(('outward',10))                           # a spine at the left that is put a little aside\n",
    "ax1.spines['bottom'].set_position(('outward',10))  \n",
    "#ax1.spines['top'].set_position(('axes',5)) \n",
    "ax1.get_yaxis().set_tick_params(direction='in')\n",
    "ax1.get_xaxis().set_tick_params(direction='in')\n",
    "# #ax1.plot([-1,20], [0,0] , 'k--', color='#000000', linewidth=1)#gray line for Zero or 1        \n",
    "ax1.tick_params(axis='both', which='major', labelsize=12)  \n",
    "\n",
    "ax1.set_xlabel('t (ms)',fontsize=12)\n",
    "ax1.set_ylabel('I (µA)',fontsize=12)\n",
    "ax1.spines['bottom'].set_visible(False) \n",
    "ax1.xaxis.set_visible(False)\n",
    "\n",
    "##### ax2\n",
    "ax2.set_ylim([-20, 20])\n",
    "ax2.text(180, 12,  '700 µM Ibu')\n",
    "# ax1.set_ylim([-150, 150])\n",
    "#ax1.set_xlim([300, 1400])\n",
    "ax2.spines['right'].set_visible(False)                                  # no spine at the right\n",
    "ax2.spines['top'].set_visible(False)                                     # no spine at the top\n",
    "ax2.yaxis.set_ticks_position('left')                                     # ticks at the left\n",
    "ax2.xaxis.set_ticks_position('bottom')                                 # no spine at the right\n",
    "ax2.spines['left'].set_position(('outward',10))                           # a spine at the left that is put a little aside\n",
    "ax2.spines['bottom'].set_position(('outward',10))  \n",
    "#ax1.spines['top'].set_position(('axes',5)) \n",
    "ax2.get_yaxis().set_tick_params(direction='in')\n",
    "ax2.get_xaxis().set_tick_params(direction='in')\n",
    "# #ax1.plot([-1,20], [0,0] , 'k--', color='#000000', linewidth=1)#gray line for Zero or 1        \n",
    "ax2.tick_params(axis='both', which='major', labelsize=12)  \n",
    "#ax2.text(1300, 20, 'MEC-4d',color=colorsSINGLES[0])\n",
    "ax2.set_xlabel('t (ms)',fontsize=12)\n",
    "ax2.set_ylabel('I (µA)',fontsize=12)\n",
    "ax2.spines['bottom'].set_visible(False) \n",
    "ax2.xaxis.set_visible(False)\n",
    "ax2.spines['left'].set_visible(False) \n",
    "ax2.yaxis.set_visible(False)\n",
    "ax2.text(-800, 19, 'MEC-4d',color=colorsSINGLES[0],fontsize=14)\n",
    "\n",
    "##### ax3\n",
    "ax3.set_ylim([-20, 20])\n",
    "ax3.text(200, 12, '0 µM Ibu')\n",
    "#ax1.set_xlim([300, 1400])\n",
    "ax3.spines['right'].set_visible(False)                                  # no spine at the right\n",
    "ax3.spines['top'].set_visible(False)                                     # no spine at the top\n",
    "ax3.yaxis.set_ticks_position('left')                                     # ticks at the left\n",
    "ax3.xaxis.set_ticks_position('bottom')                                 # no spine at the right\n",
    "ax3.spines['left'].set_position(('outward',10))                           # a spine at the left that is put a little aside\n",
    "ax3.spines['bottom'].set_position(('outward',10))  \n",
    "#ax1.spines['top'].set_position(('axes',5)) \n",
    "ax3.get_yaxis().set_tick_params(direction='in')\n",
    "ax3.get_xaxis().set_tick_params(direction='in')\n",
    "# #ax1.plot([-1,20], [0,0] , 'k--', color='#000000', linewidth=1)#gray line for Zero or 1        \n",
    "ax3.tick_params(axis='both', which='major', labelsize=12)  \n",
    "ax3.set_xlabel('t (ms)',fontsize=12)\n",
    "ax3.set_ylabel('I (µA)',fontsize=12)\n",
    "#ax3.spines['bottom'].set_visible(False) \n",
    "#ax3.xaxis.set_visible(False)\n",
    "\n",
    "##### ax2\n",
    "ax4.set_ylim([-20, 20])\n",
    "ax4.text(180, 12,  '700 µM Ibu')\n",
    "# ax1.set_ylim([-150, 150])\n",
    "#ax1.set_xlim([300, 1400])\n",
    "ax4.spines['right'].set_visible(False)                                  # no spine at the right\n",
    "ax4.spines['top'].set_visible(False)                                     # no spine at the top\n",
    "ax4.yaxis.set_ticks_position('left')                                     # ticks at the left\n",
    "ax4.xaxis.set_ticks_position('bottom')                                 # no spine at the right\n",
    "ax4.spines['left'].set_position(('outward',10))                           # a spine at the left that is put a little aside\n",
    "ax4.spines['bottom'].set_position(('outward',10))  \n",
    "#ax1.spines['top'].set_position(('axes',5)) \n",
    "ax4.get_yaxis().set_tick_params(direction='in')\n",
    "ax4.get_xaxis().set_tick_params(direction='in')\n",
    "# ax1.plot([-1,20], [0,0] , 'k--', color='#000000', linewidth=1)#gray line for Zero or 1        \n",
    "ax4.tick_params(axis='both', which='major', labelsize=12)  \n",
    "#ax2.text(1300, 20, 'MEC-4d',color=colorsSINGLES[0])\n",
    "ax4.set_xlabel('t (ms)',fontsize=12)\n",
    "ax4.set_ylabel('I (µA)',fontsize=12)\n",
    "#ax4.spines['bottom'].set_visible(False) \n",
    "#ax4.xaxis.set_visible(False)\n",
    "ax4.spines['left'].set_visible(False) \n",
    "ax4.yaxis.set_visible(False)\n",
    "ax4.text(-1100, 19, 'MEC-4d[E704K]',color='grey',fontsize=14)\n",
    "\n",
    "\n",
    "\n",
    "## add Km plot \n",
    "#### \n",
    "ax6.errorbar(KmIbu['Voltages'],KmIbu['mg419-Mean-Km-Ibu'], yerr=KmIbu['mg419-SD-Km-Ibu'],fmt='o', color = colorsSINGLES[0], label= 'Ibu')\n",
    "ax6.errorbar(KmAsp['Voltages'],KmAsp['mg419-Mean-Km-Asp'], yerr=KmAsp['mg419-SD-Km-Asp'],fmt='v', color = colorsSINGLES[0], label= 'Asp')\n",
    "#ax6.errorbar(KmDiclo['Voltages'],KmDiclo['mg419-Mean-Km-Diclo'], yerr=KmDiclo['mg419-SD-Km-Diclo'], fmt='o', color = 'magenta')\n",
    "#ax3.errorbar(KmIbu['Voltages'][0:3],KmIbu['mg419-Mean-Km-Ibu'][0:3], yerr=KmIbu['mg419-SD-Km-Ibu'][0:3], fmt='o', color = 'black')\n",
    "#ax3.errorbar(KmIbu['Voltages'][5:9],KmIbu['mg419-Mean-Km-Ibu'][5:9], yerr=KmIbu['mg419-SD-Km-Ibu'][5:9], fmt='o', color = 'black')\n",
    "#ax3.set_xlim([0.0000001, 10000])\n",
    "ax6.set_ylim([-50,500])\n",
    "#spines\n",
    "ax6.spines['right'].set_visible(False)                                 \n",
    "ax6.spines['top'].set_visible(False)\n",
    "ax6.yaxis.set_ticks_position('left')                                     # ticks at the left\n",
    "ax6.xaxis.set_ticks_position('bottom')                                 # no spine at the right\n",
    "ax6.spines['left'].set_position(('outward',15))                           # a spine at the left that is put a little aside\n",
    "ax6.spines['bottom'].set_position(('outward',10))  \n",
    "ax6.spines['top'].set_position(('axes',5)) \n",
    "ax6.get_yaxis().set_tick_params(direction='in')\n",
    "ax6.get_xaxis().set_tick_params(direction='in')\n",
    "ax6.set_xlabel('Voltage (mV)',fontsize=12)\n",
    "ax6.set_ylabel('EC50 (µM)',fontsize=12)\n",
    "ax6.set_xticks([-100,-50,0, 50])\n",
    "ax6.legend()\n",
    "ax6.legend(frameon=False,loc='upper center', bbox_to_anchor=(0.15, 1.10),handletextpad=0.05)\n",
    "\n",
    "#add Data and error bars\n",
    "ax5.errorbar(mg419_Ibu_Min100['concMicroMolar'],mg419_Ibu_Min100['Avg-mg419-Ibu-Min100'], yerr=mg419_Ibu_Min100['SEM-mg419-Ibu-Min100'], fmt='o', color = colorsSINGLES[0], label= 'Ibu')\n",
    "ax5.errorbar(mg419_Asp_Min100['concMicroMolar'],mg419_Asp_Min100['Avg-mg419-Asp-Min100'], yerr=mg419_Asp_Min100['SEM-mg419-Asp-Min100'], fmt='v', color = colorsSINGLES[0], label= 'Asp')\n",
    "#ax5.errorbar(mg419_Diclo_Min100['concMicroMolar'],mg419_Diclo_Min100['Avg-mg419-Diclo-Min100'], yerr=mg419_Diclo_Min100['SEM-mg419-Diclo-Min100'], fmt='o', color = 'magenta')\n",
    "#plt.scatter(mg419_Ibu_Min100['concMicroMolar'],mg419_Ibu_Min100['Avg-mg419-Ibu-Min100'], color = 'black')\n",
    "\n",
    "ax5.set_xlim([0.001, 10000])\n",
    "ax5.set_ylim([0, 1.1])\n",
    "#spines\n",
    "ax5.spines['right'].set_visible(False)                                 \n",
    "ax5.spines['top'].set_visible(False)\n",
    "ax5.yaxis.set_ticks_position('left')                                     # ticks at the left\n",
    "ax5.xaxis.set_ticks_position('bottom')                                 # no spine at the right\n",
    "ax5.spines['left'].set_position(('outward',15))                           # a spine at the left that is put a little aside\n",
    "ax5.spines['bottom'].set_position(('outward',10))  \n",
    "ax5.spines['top'].set_position(('axes',5)) \n",
    "ax5.get_yaxis().set_tick_params(direction='in')\n",
    "ax5.get_xaxis().set_tick_params(direction='in')\n",
    "#ax2.plot([-1,20], [0,0] , 'k--', color='#000000', linewidth=1)#gray line for Zero or 1        \n",
    "ax5.tick_params(axis='both', which='major', labelsize=10)  \n",
    "ax5.set_xlabel('Drugs (µM, log)',fontsize=12)\n",
    "ax5.set_ylabel('I norm (I/Imax)',fontsize=12)\n",
    "ax5.legend()\n",
    "ax5.legend(frameon=False,loc='upper center', bbox_to_anchor=(0.15, 1.10),handletextpad=0.05)\n",
    "#ax.legend(loc='upper center', bbox_to_anchor=(0.5, 1.00), shadow=True, ncol=2)\n",
    "#ax5.set_title(\"add legend drugs\")\n",
    "#a21.set_title('bla',size=18)\n",
    "#ax2.set_xticklabels([\"VOltages\"],rotation=30)\n",
    "#ax2.spines['bottom'].set_visible(False) \n",
    "#ax2.xaxis.set_visible(False)\n",
    "#add x and y labels\n",
    "#plt.ylabel('Reversal Potential (mV)', fontsize=14) \n",
    "#plt.xlabel('DEG/ENaC/ASIC subunits', fontsize=14)\n",
    "\n",
    "\n",
    "####\n",
    "ax7.errorbar(mg419_Ibu_Min100['concMicroMolar'],mg419_Ibu_Min100['Avg-mg419-Ibu-Min100'], yerr=mg419_Ibu_Min100['SEM-mg419-Ibu-Min100'], fmt='o', color = colorsSINGLES[0], label= 'MEC-4d')#\n",
    "ax7.errorbar(mg602_Ibu_Min100['concMicroMolar'],mg602_Ibu_Min100['Avg-mg602-Ibu-Min100'], yerr=mg602_Ibu_Min100['SEM-mg602-Ibu-Min100'], fmt='o', color = 'grey', label= '$\\it{d}$[E704K]')\n",
    "ax7.errorbar(mg687_Ibu_Min100['concMicroMolar'],mg687_Ibu_Min100['Avg-mg687-Ibu-Min100'], yerr=mg687_Ibu_Min100['SEM-mg687-Ibu-Min100'], fmt='o', color = 'black',label= '$\\it{d}$[E704A]')\n",
    "\n",
    "ax7.set_xlim([0.001, 10000])\n",
    "ax7.set_ylim([0, 1.1])\n",
    "#spines\n",
    "ax7.spines['right'].set_visible(False)                                 \n",
    "ax7.spines['top'].set_visible(False)\n",
    "ax7.yaxis.set_ticks_position('left')                                     # ticks at the left\n",
    "ax7.xaxis.set_ticks_position('bottom')                                 # no spine at the right\n",
    "ax7.spines['left'].set_position(('outward',15))                           # a spine at the left that is put a little aside\n",
    "ax7.spines['bottom'].set_position(('outward',10))  \n",
    "ax7.spines['top'].set_position(('axes',5)) \n",
    "ax7.get_yaxis().set_tick_params(direction='in')\n",
    "ax7.get_xaxis().set_tick_params(direction='in')\n",
    "ax7.set_xlabel('Ibuprofen (µM, log)',fontsize=12)\n",
    "ax7.set_ylabel('I norm (I/Imax)',fontsize=12)\n",
    "#ax7.set_title(\"add legend mutants\")\n",
    "ax7.legend()\n",
    "ax7.legend(frameon=False,loc='upper center', bbox_to_anchor=(0.25, 1.10),handletextpad=0.05)\n",
    "\n",
    "\n",
    "#### plot 5\n",
    "ax8.errorbar(mg419_Asp_Min100['concMicroMolar'],mg419_Asp_Min100['Avg-mg419-Asp-Min100'], yerr=mg419_Asp_Min100['SEM-mg419-Asp-Min100'], fmt='v',color = colorsSINGLES[0], label= 'MEC-4d')\n",
    "ax8.errorbar(mg602_Asp_Min100['concMicroMolar'],mg602_Asp_Min100['Avg-mg602-Asp-Min100'], yerr=mg602_Asp_Min100['SEM-mg602-Asp-Min100'], fmt='v', color = 'grey', label= '$\\it{d}$[E704K]')\n",
    "\n",
    "\n",
    "ax8.set_xlim([0.001, 10000])\n",
    "ax8.set_ylim([0, 1.1])\n",
    "#spines\n",
    "ax8.spines['right'].set_visible(False)                                 \n",
    "ax8.spines['top'].set_visible(False)\n",
    "ax8.yaxis.set_ticks_position('left')                                     # ticks at the left\n",
    "ax8.xaxis.set_ticks_position('bottom')                                 # no spine at the right\n",
    "ax8.spines['left'].set_position(('outward',15))                           # a spine at the left that is put a little aside\n",
    "ax8.spines['bottom'].set_position(('outward',10))  \n",
    "ax8.spines['top'].set_position(('axes',5)) \n",
    "ax8.get_yaxis().set_tick_params(direction='in')\n",
    "ax8.get_xaxis().set_tick_params(direction='in')\n",
    "ax8.set_xlabel('Aspirin (µM, log)',fontsize=12)\n",
    "#ax8.set_ylabel('I norm (I/Imax)',fontsize=12)\n",
    "ax8.legend(frameon=False,loc='upper center', bbox_to_anchor=(0.25, 1.10),handletextpad=0.05)\n",
    "#### plot 6\n",
    "#ax8.spines['left'].set_visible(False) \n",
    "#ax8.yaxis.set_visible(False)\n",
    "#ax8.set_ylabel\n",
    "#ax6.errorbar(mg419_Diclo_Min100['concMicroMolar'],mg419_Diclo_Min100['Avg-mg419-Diclo-Min100'], yerr=mg419_Diclo_Min100['SEM-mg419-Diclo-Min100'], fmt='o', color = 'magenta')\n",
    "#ax6.errorbar(mg602_Diclo_Min100['concMicroMolar'],mg602_Diclo_Min100['Avg-mg602-Diclo-Min100'], yerr=mg602_Diclo_Min100['SEM-mg602-Diclo-Min100'], fmt='v', color = 'magenta')\n",
    "\n",
    "# ax6.set_xlim([0.001, 10000])\n",
    "# ax6.set_ylim([0, 1.1])\n",
    "# #ax1.set_ylim([0.2, 0.3])\n",
    "# #spines\n",
    "# ax6.spines['right'].set_visible(False)                                 \n",
    "# ax6.spines['top'].set_visible(False)\n",
    "# ax6.yaxis.set_ticks_position('left')                                     # ticks at the left\n",
    "# ax6.xaxis.set_ticks_position('bottom')                                 # no spine at the right\n",
    "# ax6.spines['left'].set_position(('outward',15))                           # a spine at the left that is put a little aside\n",
    "# ax6.spines['bottom'].set_position(('outward',10))  \n",
    "# ax6.spines['top'].set_position(('axes',5)) \n",
    "# ax6.get_yaxis().set_tick_params(direction='in')\n",
    "# ax6.get_xaxis().set_tick_params(direction='in')\n",
    "# ax6.set_xlabel('Diclofenac (µM, log)',fontsize=12)\n",
    "# ax6.set_ylabel('I norm (I/Imax)',fontsize=12)\n",
    "\n",
    "#plt.gcf().subplots_adjust(bottom=0.3, left=0.1,hspace=0.5, wspace=0.6) \n",
    "\n",
    "\n",
    "\n",
    "###########################################################################################################\n",
    "#### add Hill Equations to plot\n",
    "#def func(x, Imax, n, Km): # Hill sigmoidal equation from zunzun.com \n",
    "def Hill(x, Imax, n, Km):\n",
    "    return  Imax * np.power(x, n) / (np.power(Km, n) + np.power(x, n)) \n",
    "\n",
    "xModel = np.logspace(-6, 4) #same for all\n",
    "\n",
    "#### Mean Hill values calulated at -100 mV\n",
    "MeanHillmg419Ibu = np.array([1,  1, KmIbu['mg419-Mean-Km-Ibu'][0]]) # [n,Imax,Km]\n",
    "y_mg419Ibu = Hill(xModel, *MeanHillmg419Ibu) #use fittedParameters or initialParameters(or others preciously calculated)\n",
    "#### \n",
    "MeanHillmg602Ibu = np.array([1,  1, KmIbu['mg602-Mean-Km-Ibu'][0]]) # [n,Imax,Km]\n",
    "y_mg602Ibu = Hill(xModel, *MeanHillmg602Ibu) \n",
    "#### \n",
    "MeanHillmg687Ibu = np.array([1,  1, 1.95E+01]) # [n,Imax,Km]\n",
    "y_mg687Ibu = Hill(xModel, *MeanHillmg687Ibu) \n",
    "\n",
    "#### ASPIRIN #### \n",
    "MeanHillmg419Asp = np.array([1,  1, KmAsp['mg419-Mean-Km-Asp'][0]]) # [n,Imax,Km]\n",
    "y_mg419Asp = Hill(xModel, *MeanHillmg419Asp) \n",
    "###mg602\n",
    "MeanHillmg602Asp = np.array([1,  1, KmAsp['mg602-Mean-Km-Asp'][0]]) # [n,Imax,Km]\n",
    "y_mg602Asp = Hill(xModel, *MeanHillmg602Asp) \n",
    "\n",
    "# #### Diclofenac#### \n",
    "# MeanHillmg419Diclo = np.array([1,  1, KmDiclo['mg419-Mean-Km-Diclo'][0]]) # [n,Imax,Km]\n",
    "# y_mg419Diclo = Hill(xModel, *MeanHillmg419Diclo) \n",
    "# #### mg602\n",
    "# MeanHillmg602Diclo = np.array([1,  1, KmDiclo['mg602-Mean-Km-Diclo'][0]]) # [n,Imax,Km]\n",
    "# y_mg602Diclo = Hill(xModel, *MeanHillmg602Diclo) \n",
    "\n",
    "ax5.plot(xModel, y_mg419Ibu, color = colorsSINGLES[0])\n",
    "ax5.plot(xModel, y_mg419Asp, color = colorsSINGLES[0])\n",
    "#ax5.plot(xModel, y_mg419Diclo, \"magenta\")\n",
    "\n",
    "### Individual curves\n",
    "ax7.plot(xModel, y_mg419Ibu, color = colorsSINGLES[0])\n",
    "ax7.plot(xModel, y_mg602Ibu,'grey')#,linestyle='--'\n",
    "ax7.plot(xModel, y_mg687Ibu,'black')#,linestyle=':'\n",
    "\n",
    "ax8.plot(xModel, y_mg419Asp, color = colorsSINGLES[0])\n",
    "ax8.plot(xModel, y_mg602Asp, \"grey\")\n",
    "\n",
    "#ax6.plot(xModel, y_mg419Diclo, \"magenta\")\n",
    "#ax6.plot(xModel, y_mg602Diclo, \"magenta\",linestyle='--')\n",
    "plt.gcf().subplots_adjust(bottom=0.2, left=0.1,hspace=0.5, wspace=0.6) \n",
    "\n",
    "#plt.savefig(filedirManuscript+\"Fig6-DoseResponse\"+'.pdf')\n"
   ]
  },
  {
   "cell_type": "code",
   "execution_count": null,
   "metadata": {},
   "outputs": [],
   "source": []
  },
  {
   "cell_type": "markdown",
   "metadata": {},
   "source": [
    "# MAKE FIGURE 6 - VERSION 2"
   ]
  },
  {
   "cell_type": "markdown",
   "metadata": {},
   "source": [
    "## Traces"
   ]
  },
  {
   "cell_type": "code",
   "execution_count": 35,
   "metadata": {
    "scrolled": false
   },
   "outputs": [
    {
     "data": {
      "image/png": "[encoded data removed]",
      "text/plain": [
       "<Figure size 648x180 with 4 Axes>"
      ]
     },
     "metadata": {
      "needs_background": "light"
     },
     "output_type": "display_data"
    }
   ],
   "source": [
    "#Plot1\n",
    "fig = plt.figure(figsize=(9, 2.5)) \n",
    "\n",
    "ax1 = plt.subplot(1,4,1)\n",
    "for m in range(0,8):\n",
    "    plt.plot(Ibumg419BeforeMEAN[m][300:1400], color = colorsSINGLES[0])#\n",
    "    \n",
    "ax2 = plt.subplot(1,4,2)\n",
    "for n in range(0,8):\n",
    "    plt.plot(Ibumg419IbuMEAN[n][300:1400], color = colorsSINGLES[0])\n",
    "    \n",
    "ax3 = plt.subplot(1,4,3)\n",
    "for i in range(0,8):\n",
    "    plt.plot(Ibumg602BeforeMEAN[i][300:1400], 'grey')\n",
    "    \n",
    "ax4 = plt.subplot(1,4,4)\n",
    "for j in range(0,8):\n",
    "    plt.plot(Ibumg602IbuMEAN[j][300:1400], 'grey')\n",
    "\n",
    "\n",
    "###### changes in appearance\n",
    "\n",
    "ax1.set_ylim([-20, 20])\n",
    "ax1.text(200, 12, '0 µM Ibu')\n",
    "# ax1.set_ylim([-150, 150])\n",
    "#ax1.set_xlim([300, 1400])\n",
    "ax1.spines['right'].set_visible(False)                                  # no spine at the right\n",
    "ax1.spines['top'].set_visible(False)                                     # no spine at the top\n",
    "ax1.yaxis.set_ticks_position('left')                                     # ticks at the left\n",
    "ax1.xaxis.set_ticks_position('bottom')                                 # no spine at the right\n",
    "ax1.spines['left'].set_position(('outward',10))                           # a spine at the left that is put a little aside\n",
    "ax1.spines['bottom'].set_position(('outward',10))  \n",
    "#ax1.spines['top'].set_position(('axes',5)) \n",
    "ax1.get_yaxis().set_tick_params(direction='in')\n",
    "ax1.get_xaxis().set_tick_params(direction='in')\n",
    "# #ax1.plot([-1,20], [0,0] , 'k--', color='#000000', linewidth=1)#gray line for Zero or 1        \n",
    "ax1.tick_params(axis='both', which='major', labelsize=12)  \n",
    "ax1.set_xlabel('t (ms)',fontsize=12)\n",
    "ax1.set_ylabel('I (µA)',fontsize=12)\n",
    "#ax1.spines['bottom'].set_visible(False) \n",
    "#ax1.xaxis.set_visible(False)\n",
    "ax1.set_xlabel('t (ms)',fontsize=12)\n",
    "\n",
    "##### ax2\n",
    "ax2.set_ylim([-20, 20])\n",
    "ax2.text(180, 12,  '700 µM Ibu')\n",
    "# ax1.set_ylim([-150, 150])\n",
    "#ax1.set_xlim([300, 1400])\n",
    "ax2.spines['right'].set_visible(False)                                  # no spine at the right\n",
    "ax2.spines['top'].set_visible(False)                                     # no spine at the top\n",
    "ax2.yaxis.set_ticks_position('left')                                     # ticks at the left\n",
    "ax2.xaxis.set_ticks_position('bottom')                                 # no spine at the right\n",
    "ax2.spines['left'].set_position(('outward',10))                           # a spine at the left that is put a little aside\n",
    "ax2.spines['bottom'].set_position(('outward',10))  \n",
    "#ax1.spines['top'].set_position(('axes',5)) \n",
    "ax2.get_yaxis().set_tick_params(direction='in')\n",
    "ax2.get_xaxis().set_tick_params(direction='in')\n",
    "# #ax1.plot([-1,20], [0,0] , 'k--', color='#000000', linewidth=1)#gray line for Zero or 1        \n",
    "ax2.tick_params(axis='both', which='major', labelsize=12)  \n",
    "#ax2.text(1300, 20, 'MEC-4d',color=colorsSINGLES[0])\n",
    "ax2.set_xlabel('t (ms)',fontsize=12)\n",
    "ax2.set_ylabel('I (µA)',fontsize=12)\n",
    "#ax2.spines['bottom'].set_visible(False) \n",
    "#ax2.xaxis.set_visible(False)\n",
    "ax2.spines['left'].set_visible(False) \n",
    "ax2.yaxis.set_visible(False)\n",
    "ax2.text(-800, 19, 'MEC-4d',color=colorsSINGLES[0],fontsize=14)\n",
    "ax2.set_xlabel('t (ms)',fontsize=12)\n",
    "\n",
    "##### ax3\n",
    "ax3.set_ylim([-20, 20])\n",
    "ax3.text(200, 12, '0 µM Ibu')\n",
    "#ax1.set_xlim([300, 1400])\n",
    "ax3.spines['right'].set_visible(False)                                  # no spine at the right\n",
    "ax3.spines['top'].set_visible(False)                                     # no spine at the top\n",
    "ax3.yaxis.set_ticks_position('left')                                     # ticks at the left\n",
    "ax3.xaxis.set_ticks_position('bottom')                                 # no spine at the right\n",
    "ax3.spines['left'].set_position(('outward',10))                           # a spine at the left that is put a little aside\n",
    "ax3.spines['bottom'].set_position(('outward',10))  \n",
    "#ax1.spines['top'].set_position(('axes',5)) \n",
    "ax3.get_yaxis().set_tick_params(direction='in')\n",
    "ax3.get_xaxis().set_tick_params(direction='in')\n",
    "# #ax1.plot([-1,20], [0,0] , 'k--', color='#000000', linewidth=1)#gray line for Zero or 1        \n",
    "ax3.tick_params(axis='both', which='major', labelsize=12)  \n",
    "ax3.set_xlabel('t (ms)',fontsize=12)\n",
    "#ax3.set_ylabel('I (µA)',fontsize=12)\n",
    "ax3.spines['left'].set_visible(False) \n",
    "ax3.yaxis.set_visible(False)\n",
    "\n",
    "##### ax2\n",
    "ax4.set_ylim([-20, 20])\n",
    "ax4.text(180, 12,  '700 µM Ibu')\n",
    "# ax1.set_ylim([-150, 150])\n",
    "#ax1.set_xlim([300, 1400])\n",
    "ax4.spines['right'].set_visible(False)                                  # no spine at the right\n",
    "ax4.spines['top'].set_visible(False)                                     # no spine at the top\n",
    "ax4.yaxis.set_ticks_position('left')                                     # ticks at the left\n",
    "ax4.xaxis.set_ticks_position('bottom')                                 # no spine at the right\n",
    "ax4.spines['left'].set_position(('outward',10))                           # a spine at the left that is put a little aside\n",
    "ax4.spines['bottom'].set_position(('outward',10))  \n",
    "#ax1.spines['top'].set_position(('axes',5)) \n",
    "ax4.get_yaxis().set_tick_params(direction='in')\n",
    "ax4.get_xaxis().set_tick_params(direction='in')\n",
    "# ax1.plot([-1,20], [0,0] , 'k--', color='#000000', linewidth=1)#gray line for Zero or 1        \n",
    "ax4.tick_params(axis='both', which='major', labelsize=12)  \n",
    "#ax2.text(1300, 20, 'MEC-4d',color=colorsSINGLES[0])\n",
    "ax4.set_xlabel('t (ms)',fontsize=12)\n",
    "ax4.set_ylabel('I (µA)',fontsize=12)\n",
    "#ax4.spines['bottom'].set_visible(False) \n",
    "#ax4.xaxis.set_visible(False)\n",
    "ax4.spines['left'].set_visible(False) \n",
    "ax4.yaxis.set_visible(False)\n",
    "ax4.text(-1100, 19, 'MEC-4d[E704K]',color='grey',fontsize=14)\n",
    "\n",
    "\n",
    "plt.gcf().subplots_adjust(bottom=0.3, left=0.1,hspace=0.5, wspace=0.6) \n",
    "\n",
    "plt.savefig(filedirManuscript+\"Fig6-DoseResponseTRACES\"+'.pdf')\n"
   ]
  },
  {
   "cell_type": "markdown",
   "metadata": {},
   "source": [
    "# original traces MEC-4 d Asp. same style as EIPA figure"
   ]
  },
  {
   "cell_type": "code",
   "execution_count": 93,
   "metadata": {},
   "outputs": [
    {
     "data": {
      "image/png": "[encoded data removed]",
      "text/plain": [
       "<Figure size 648x158.4 with 2 Axes>"
      ]
     },
     "metadata": {
      "needs_background": "light"
     },
     "output_type": "display_data"
    }
   ],
   "source": [
    "\n",
    "\n",
    "#Plot1\n",
    "\n",
    "#DEGT-1D\n",
    "fig = plt.figure(figsize=(9, 2.2)) \n",
    "\n",
    "ax1 = plt.subplot(1,4,1)\n",
    "for m in range(0,8):\n",
    "    plt.plot(Aspmg419BeforeMEAN[m][300:1400], color = colorsSINGLES[0])\n",
    "    \n",
    "ax2 = plt.subplot(1,4,2)\n",
    "for n in range(0,8):\n",
    "    plt.plot(Aspmg419AspMEAN[n][300:1400], color = colorsSINGLES[0])\n",
    "    \n",
    "# ax3 = plt.subplot(1,4,3)\n",
    "# plt.xscale('log')\n",
    "# ax4 = plt.subplot(1,4,4)\n",
    "\n",
    "\n",
    "\n",
    "\n",
    "##############\n",
    "ax1.set_ylim([-20, 20])\n",
    "ax1.text(200, 14, '0 µM Asp')#numbers are the values on the axes\n",
    "# ax1.set_ylim([-150, 150])\n",
    "#ax1.set_xlim([300, 1400])\n",
    "ax1.spines['right'].set_visible(False)                                  # no spine at the right\n",
    "ax1.spines['top'].set_visible(False)                                     # no spine at the top\n",
    "ax1.yaxis.set_ticks_position('left')                                     # ticks at the left\n",
    "ax1.xaxis.set_ticks_position('bottom')                                 # no spine at the right\n",
    "ax1.spines['left'].set_position(('outward',10))                           # a spine at the left that is put a little aside\n",
    "ax1.spines['bottom'].set_position(('outward',10))  \n",
    "#ax1.spines['top'].set_position(('axes',5)) \n",
    "ax1.get_yaxis().set_tick_params(direction='in')\n",
    "ax1.get_xaxis().set_tick_params(direction='in')\n",
    "# #ax1.plot([-1,20], [0,0] , 'k--', color='#000000', linewidth=1)#gray line for Zero or 1        \n",
    "ax1.tick_params(axis='both', which='major', labelsize=12)  \n",
    "\n",
    "ax1.set_xlabel('t (ms)',fontsize=12)\n",
    "ax1.set_ylabel('I (µA)',fontsize=12)\n",
    "ax1.spines['bottom'].set_visible(False) \n",
    "ax1.xaxis.set_visible(False)\n",
    "\n",
    "##### ax2\n",
    "ax2.set_ylim([-20, 20])\n",
    "ax2.text(120, 14,  '700 µM Asp')\n",
    "# ax1.set_ylim([-150, 150])\n",
    "#ax1.set_xlim([300, 1400])\n",
    "ax2.spines['right'].set_visible(False)                                  # no spine at the right\n",
    "ax2.spines['top'].set_visible(False)                                     # no spine at the top\n",
    "ax2.yaxis.set_ticks_position('left')                                     # ticks at the left\n",
    "ax2.xaxis.set_ticks_position('bottom')                                 # no spine at the right\n",
    "ax2.spines['left'].set_position(('outward',10))                           # a spine at the left that is put a little aside\n",
    "ax2.spines['bottom'].set_position(('outward',10))  \n",
    "#ax1.spines['top'].set_position(('axes',5)) \n",
    "ax2.get_yaxis().set_tick_params(direction='in')\n",
    "ax2.get_xaxis().set_tick_params(direction='in')\n",
    "# #ax1.plot([-1,20], [0,0] , 'k--', color='#000000', linewidth=1)#gray line for Zero or 1        \n",
    "ax2.tick_params(axis='both', which='major', labelsize=12)  \n",
    "#ax2.text(1300, 20, 'MEC-4d',color=colorsSINGLES[0])\n",
    "ax2.set_xlabel('t (ms)',fontsize=12)\n",
    "ax2.set_ylabel('I (µA)',fontsize=12)\n",
    "ax2.spines['bottom'].set_visible(False) \n",
    "ax2.xaxis.set_visible(False)\n",
    "ax2.spines['left'].set_visible(False) \n",
    "ax2.yaxis.set_visible(False)\n",
    "ax2.text(-850, 19, 'MEC-4d',color=colorsSINGLES[0],fontsize=14)\n",
    "\n",
    "\n",
    "\n",
    "plt.gcf().subplots_adjust(bottom=0.25, left=0.1,hspace=0.6, wspace=0.65) \n",
    "\n",
    "\n",
    "\n",
    "plt.savefig(filedirManuscript+\"Fig4-M4-OriginalTracesAsp\"+'.pdf')\n"
   ]
  },
  {
   "cell_type": "markdown",
   "metadata": {},
   "source": [
    "## PANEL A"
   ]
  },
  {
   "cell_type": "code",
   "execution_count": 36,
   "metadata": {},
   "outputs": [
    {
     "data": {
      "image/png": "[encoded data removed]",
      "text/plain": [
       "<Figure size 396x180 with 2 Axes>"
      ]
     },
     "metadata": {
      "needs_background": "light"
     },
     "output_type": "display_data"
    }
   ],
   "source": [
    "#Plot1\n",
    "fig = plt.figure(figsize=(5.5, 2.5)) \n",
    "\n",
    "# ax1 = plt.subplot(3,4,1)\n",
    "# for m in range(0,8):\n",
    "#     plt.plot(Ibumg419BeforeMEAN[m][300:1400], color = colorsSINGLES[0])#\n",
    "    \n",
    "# ax2 = plt.subplot(3,4,2)\n",
    "# for n in range(0,8):\n",
    "#     plt.plot(Ibumg419IbuMEAN[n][300:1400], color = colorsSINGLES[0])\n",
    "    \n",
    "# ax3 = plt.subplot(3,4,5)\n",
    "# for i in range(0,8):\n",
    "#     plt.plot(Ibumg602BeforeMEAN[i][300:1400], 'grey')\n",
    "    \n",
    "# ax4 = plt.subplot(3,4,6)\n",
    "# for j in range(0,8):\n",
    "#     plt.plot(Ibumg602IbuMEAN[j][300:1400], 'grey')\n",
    "\n",
    "ax5 = plt.subplot(1,2,1)\n",
    "plt.xscale('log')\n",
    "\n",
    "ax6 = plt.subplot(1,2,2)\n",
    "\n",
    "\n",
    "\n",
    "\n",
    "\n",
    "\n",
    "\n",
    "\n",
    "## add Km plot \n",
    "#### \n",
    "ax6.errorbar(KmIbu['Voltages'],KmIbu['mg419-Mean-Km-Ibu'], yerr=KmIbu['mg419-SD-Km-Ibu'],fmt='o', color = colorsSINGLES[0], label= 'Ibu')\n",
    "ax6.errorbar(KmAsp['Voltages'],KmAsp['mg419-Mean-Km-Asp'], yerr=KmAsp['mg419-SD-Km-Asp'],fmt='v', color = colorsSINGLES[0], label= 'Asp')\n",
    "#ax6.errorbar(KmDiclo['Voltages'],KmDiclo['mg419-Mean-Km-Diclo'], yerr=KmDiclo['mg419-SD-Km-Diclo'], fmt='o', color = 'magenta')\n",
    "#ax3.errorbar(KmIbu['Voltages'][0:3],KmIbu['mg419-Mean-Km-Ibu'][0:3], yerr=KmIbu['mg419-SD-Km-Ibu'][0:3], fmt='o', color = 'black')\n",
    "#ax3.errorbar(KmIbu['Voltages'][5:9],KmIbu['mg419-Mean-Km-Ibu'][5:9], yerr=KmIbu['mg419-SD-Km-Ibu'][5:9], fmt='o', color = 'black')\n",
    "#ax3.set_xlim([0.0000001, 10000])\n",
    "ax6.set_ylim([-50,500])\n",
    "#spines\n",
    "ax6.spines['right'].set_visible(False)                                 \n",
    "ax6.spines['top'].set_visible(False)\n",
    "ax6.yaxis.set_ticks_position('left')                                     # ticks at the left\n",
    "ax6.xaxis.set_ticks_position('bottom')                                 # no spine at the right\n",
    "ax6.spines['left'].set_position(('outward',15))                           # a spine at the left that is put a little aside\n",
    "ax6.spines['bottom'].set_position(('outward',10))  \n",
    "ax6.spines['top'].set_position(('axes',5)) \n",
    "ax6.get_yaxis().set_tick_params(direction='in')\n",
    "ax6.get_xaxis().set_tick_params(direction='in')\n",
    "ax6.set_xlabel('Voltage (mV)',fontsize=12)\n",
    "ax6.set_ylabel('EC50 (µM)',fontsize=12)\n",
    "ax6.set_xticks([-100,-50,0, 50])\n",
    "ax6.legend()\n",
    "ax6.legend(frameon=False,loc='upper center', bbox_to_anchor=(0.15, 1.10),handletextpad=0.05)\n",
    "\n",
    "#add Data and error bars\n",
    "ax5.errorbar(mg419_Ibu_Min100['concMicroMolar'],mg419_Ibu_Min100['Avg-mg419-Ibu-Min100'], yerr=mg419_Ibu_Min100['SEM-mg419-Ibu-Min100'], fmt='o', color = colorsSINGLES[0], label= 'Ibu')\n",
    "ax5.errorbar(mg419_Asp_Min100['concMicroMolar'],mg419_Asp_Min100['Avg-mg419-Asp-Min100'], yerr=mg419_Asp_Min100['SEM-mg419-Asp-Min100'], fmt='v', color = colorsSINGLES[0], label= 'Asp')\n",
    "#ax5.errorbar(mg419_Diclo_Min100['concMicroMolar'],mg419_Diclo_Min100['Avg-mg419-Diclo-Min100'], yerr=mg419_Diclo_Min100['SEM-mg419-Diclo-Min100'], fmt='o', color = 'magenta')\n",
    "#plt.scatter(mg419_Ibu_Min100['concMicroMolar'],mg419_Ibu_Min100['Avg-mg419-Ibu-Min100'], color = 'black')\n",
    "\n",
    "ax5.set_xlim([0.001, 10000])\n",
    "ax5.set_ylim([0, 1.1])\n",
    "#spines\n",
    "ax5.spines['right'].set_visible(False)                                 \n",
    "ax5.spines['top'].set_visible(False)\n",
    "ax5.yaxis.set_ticks_position('left')                                     # ticks at the left\n",
    "ax5.xaxis.set_ticks_position('bottom')                                 # no spine at the right\n",
    "ax5.spines['left'].set_position(('outward',15))                           # a spine at the left that is put a little aside\n",
    "ax5.spines['bottom'].set_position(('outward',10))  \n",
    "ax5.spines['top'].set_position(('axes',5)) \n",
    "ax5.get_yaxis().set_tick_params(direction='in')\n",
    "ax5.get_xaxis().set_tick_params(direction='in')\n",
    "#ax2.plot([-1,20], [0,0] , 'k--', color='#000000', linewidth=1)#gray line for Zero or 1        \n",
    "ax5.tick_params(axis='both', which='major', labelsize=10)  \n",
    "ax5.set_xlabel('Drugs (µM, log)',fontsize=12)\n",
    "ax5.set_ylabel('I norm (I/Imax)',fontsize=12)\n",
    "ax5.legend()\n",
    "ax5.legend(frameon=False,loc='upper center', bbox_to_anchor=(0.15, 1.10),handletextpad=0.05)\n",
    "#ax.legend(loc='upper center', bbox_to_anchor=(0.5, 1.00), shadow=True, ncol=2)\n",
    "#ax5.set_title(\"add legend drugs\")\n",
    "#a21.set_title('bla',size=18)\n",
    "#ax2.set_xticklabels([\"VOltages\"],rotation=30)\n",
    "#ax2.spines['bottom'].set_visible(False) \n",
    "#ax2.xaxis.set_visible(False)\n",
    "#add x and y labels\n",
    "#plt.ylabel('Reversal Potential (mV)', fontsize=14) \n",
    "#plt.xlabel('DEG/ENaC/ASIC subunits', fontsize=14)\n",
    "\n",
    "\n",
    "\n",
    "###########################################################################################################\n",
    "#### add Hill Equations to plot\n",
    "#def func(x, Imax, n, Km): # Hill sigmoidal equation from zunzun.com \n",
    "def Hill(x, Imax, n, Km):\n",
    "    return  Imax * np.power(x, n) / (np.power(Km, n) + np.power(x, n)) \n",
    "\n",
    "xModel = np.logspace(-6, 4) #same for all\n",
    "\n",
    "#### Mean Hill values calulated at -100 mV\n",
    "MeanHillmg419Ibu = np.array([1,  1, KmIbu['mg419-Mean-Km-Ibu'][0]]) # [n,Imax,Km]\n",
    "y_mg419Ibu = Hill(xModel, *MeanHillmg419Ibu) #use fittedParameters or initialParameters(or others preciously calculated)\n",
    "#### \n",
    "MeanHillmg602Ibu = np.array([1,  1, KmIbu['mg602-Mean-Km-Ibu'][0]]) # [n,Imax,Km]\n",
    "y_mg602Ibu = Hill(xModel, *MeanHillmg602Ibu) \n",
    "#### \n",
    "MeanHillmg687Ibu = np.array([1,  1, 1.95E+01]) # [n,Imax,Km]\n",
    "y_mg687Ibu = Hill(xModel, *MeanHillmg687Ibu) \n",
    "\n",
    "#### ASPIRIN #### \n",
    "MeanHillmg419Asp = np.array([1,  1, KmAsp['mg419-Mean-Km-Asp'][0]]) # [n,Imax,Km]\n",
    "y_mg419Asp = Hill(xModel, *MeanHillmg419Asp) \n",
    "###mg602\n",
    "MeanHillmg602Asp = np.array([1,  1, KmAsp['mg602-Mean-Km-Asp'][0]]) # [n,Imax,Km]\n",
    "y_mg602Asp = Hill(xModel, *MeanHillmg602Asp) \n",
    "\n",
    "# #### Diclofenac#### \n",
    "# MeanHillmg419Diclo = np.array([1,  1, KmDiclo['mg419-Mean-Km-Diclo'][0]]) # [n,Imax,Km]\n",
    "# y_mg419Diclo = Hill(xModel, *MeanHillmg419Diclo) \n",
    "# #### mg602\n",
    "# MeanHillmg602Diclo = np.array([1,  1, KmDiclo['mg602-Mean-Km-Diclo'][0]]) # [n,Imax,Km]\n",
    "# y_mg602Diclo = Hill(xModel, *MeanHillmg602Diclo) \n",
    "\n",
    "ax5.plot(xModel, y_mg419Ibu, color = colorsSINGLES[0])\n",
    "ax5.plot(xModel, y_mg419Asp, color = colorsSINGLES[0])\n",
    "#ax5.plot(xModel, y_mg419Diclo, \"magenta\")\n",
    "\n",
    "\n",
    "\n",
    "#ax6.plot(xModel, y_mg419Diclo, \"magenta\")\n",
    "#ax6.plot(xModel, y_mg602Diclo, \"magenta\",linestyle='--')\n",
    "plt.gcf().subplots_adjust(bottom=0.3, left=0.2,hspace=0.5, wspace=0.6) \n",
    "\n",
    "plt.savefig(filedirManuscript+\"Fig6-DoseResponseIBU-ASP\"+'.pdf')\n"
   ]
  },
  {
   "cell_type": "markdown",
   "metadata": {},
   "source": [
    "# combined Asp dose response original trace and K values"
   ]
  },
  {
   "cell_type": "code",
   "execution_count": 99,
   "metadata": {},
   "outputs": [
    {
     "data": {
      "image/png": "[encoded data removed]",
      "text/plain": [
       "<Figure size 648x158.4 with 4 Axes>"
      ]
     },
     "metadata": {
      "needs_background": "light"
     },
     "output_type": "display_data"
    }
   ],
   "source": [
    "\n",
    "fig = plt.figure(figsize=(9, 2.2)) \n",
    "\n",
    "ax1 = plt.subplot(1,4,1)\n",
    "for m in range(0,8):\n",
    "    plt.plot(Aspmg419BeforeMEAN[m][300:1400], color = colorsSINGLES[0])\n",
    "    \n",
    "ax2 = plt.subplot(1,4,2)\n",
    "for n in range(0,8):\n",
    "    plt.plot(Aspmg419AspMEAN[n][300:1400], color = colorsSINGLES[0])\n",
    "    \n",
    "\n",
    "ax5 = plt.subplot(1,4,3)\n",
    "plt.xscale('log')\n",
    "ax6 = plt.subplot(1,4,4)\n",
    "\n",
    "\n",
    "\n",
    "\n",
    "\n",
    "\n",
    "##############\n",
    "ax1.set_ylim([-20, 20])\n",
    "ax1.text(200, 14, '0 µM Asp')#numbers are the values on the axes\n",
    "# ax1.set_ylim([-150, 150])\n",
    "#ax1.set_xlim([300, 1400])\n",
    "ax1.spines['right'].set_visible(False)                                  # no spine at the right\n",
    "ax1.spines['top'].set_visible(False)                                     # no spine at the top\n",
    "ax1.yaxis.set_ticks_position('left')                                     # ticks at the left\n",
    "ax1.xaxis.set_ticks_position('bottom')                                 # no spine at the right\n",
    "ax1.spines['left'].set_position(('outward',10))                           # a spine at the left that is put a little aside\n",
    "ax1.spines['bottom'].set_position(('outward',10))  \n",
    "#ax1.spines['top'].set_position(('axes',5)) \n",
    "ax1.get_yaxis().set_tick_params(direction='in')\n",
    "ax1.get_xaxis().set_tick_params(direction='in')\n",
    "# #ax1.plot([-1,20], [0,0] , 'k--', color='#000000', linewidth=1)#gray line for Zero or 1        \n",
    "ax1.tick_params(axis='both', which='major', labelsize=12)  \n",
    "\n",
    "ax1.set_xlabel('t (ms)',fontsize=12)\n",
    "ax1.set_ylabel('I (µA)',fontsize=12)\n",
    "ax1.spines['bottom'].set_visible(False) \n",
    "ax1.xaxis.set_visible(False)\n",
    "\n",
    "##### ax2\n",
    "ax2.set_ylim([-20, 20])\n",
    "ax2.text(120, 14,  '700 µM Asp')\n",
    "# ax1.set_ylim([-150, 150])\n",
    "#ax1.set_xlim([300, 1400])\n",
    "ax2.spines['right'].set_visible(False)                                  # no spine at the right\n",
    "ax2.spines['top'].set_visible(False)                                     # no spine at the top\n",
    "ax2.yaxis.set_ticks_position('left')                                     # ticks at the left\n",
    "ax2.xaxis.set_ticks_position('bottom')                                 # no spine at the right\n",
    "ax2.spines['left'].set_position(('outward',10))                           # a spine at the left that is put a little aside\n",
    "ax2.spines['bottom'].set_position(('outward',10))  \n",
    "#ax1.spines['top'].set_position(('axes',5)) \n",
    "ax2.get_yaxis().set_tick_params(direction='in')\n",
    "ax2.get_xaxis().set_tick_params(direction='in')\n",
    "# #ax1.plot([-1,20], [0,0] , 'k--', color='#000000', linewidth=1)#gray line for Zero or 1        \n",
    "ax2.tick_params(axis='both', which='major', labelsize=12)  \n",
    "#ax2.text(1300, 20, 'MEC-4d',color=colorsSINGLES[0])\n",
    "ax2.set_xlabel('t (ms)',fontsize=12)\n",
    "ax2.set_ylabel('I (µA)',fontsize=12)\n",
    "ax2.spines['bottom'].set_visible(False) \n",
    "ax2.xaxis.set_visible(False)\n",
    "ax2.spines['left'].set_visible(False) \n",
    "ax2.yaxis.set_visible(False)\n",
    "ax2.text(-850, 19, 'MEC-4d',color=colorsSINGLES[0],fontsize=14)\n",
    "\n",
    "\n",
    "\n",
    "\n",
    "\n",
    "## add Km plot \n",
    "#### \n",
    "ax6.errorbar(KmIbu['Voltages'],KmIbu['mg419-Mean-Km-Ibu'], yerr=KmIbu['mg419-SD-Km-Ibu'],fmt='o', color = colorsSINGLES[0], label= 'Ibu')\n",
    "ax6.errorbar(KmAsp['Voltages'],KmAsp['mg419-Mean-Km-Asp'], yerr=KmAsp['mg419-SD-Km-Asp'],fmt='v', color = colorsSINGLES[0], label= 'Asp')\n",
    "#ax6.errorbar(KmDiclo['Voltages'],KmDiclo['mg419-Mean-Km-Diclo'], yerr=KmDiclo['mg419-SD-Km-Diclo'], fmt='o', color = 'magenta')\n",
    "#ax3.errorbar(KmIbu['Voltages'][0:3],KmIbu['mg419-Mean-Km-Ibu'][0:3], yerr=KmIbu['mg419-SD-Km-Ibu'][0:3], fmt='o', color = 'black')\n",
    "#ax3.errorbar(KmIbu['Voltages'][5:9],KmIbu['mg419-Mean-Km-Ibu'][5:9], yerr=KmIbu['mg419-SD-Km-Ibu'][5:9], fmt='o', color = 'black')\n",
    "#ax3.set_xlim([0.0000001, 10000])\n",
    "ax6.set_ylim([-50,500])\n",
    "#spines\n",
    "ax6.spines['right'].set_visible(False)                                 \n",
    "ax6.spines['top'].set_visible(False)\n",
    "ax6.yaxis.set_ticks_position('left')                                     # ticks at the left\n",
    "ax6.xaxis.set_ticks_position('bottom')                                 # no spine at the right\n",
    "ax6.spines['left'].set_position(('outward',15))                           # a spine at the left that is put a little aside\n",
    "ax6.spines['bottom'].set_position(('outward',10))  \n",
    "ax6.spines['top'].set_position(('axes',5)) \n",
    "ax6.get_yaxis().set_tick_params(direction='in')\n",
    "ax6.get_xaxis().set_tick_params(direction='in')\n",
    "ax6.set_xlabel('Voltage (mV)',fontsize=12)\n",
    "ax6.set_ylabel('EC50 (µM)',fontsize=12)\n",
    "ax6.set_xticks([-100,-50,0, 50])\n",
    "ax6.legend()\n",
    "ax6.legend(frameon=False,loc='upper center', bbox_to_anchor=(0.15, 1.10),handletextpad=0.05)\n",
    "\n",
    "#add Data and error bars\n",
    "ax5.errorbar(mg419_Ibu_Min100['concMicroMolar'],mg419_Ibu_Min100['Avg-mg419-Ibu-Min100'], yerr=mg419_Ibu_Min100['SEM-mg419-Ibu-Min100'], fmt='o', color = colorsSINGLES[0], label= 'Ibu')\n",
    "ax5.errorbar(mg419_Asp_Min100['concMicroMolar'],mg419_Asp_Min100['Avg-mg419-Asp-Min100'], yerr=mg419_Asp_Min100['SEM-mg419-Asp-Min100'], fmt='v', color = colorsSINGLES[0], label= 'Asp')\n",
    "#ax5.errorbar(mg419_Diclo_Min100['concMicroMolar'],mg419_Diclo_Min100['Avg-mg419-Diclo-Min100'], yerr=mg419_Diclo_Min100['SEM-mg419-Diclo-Min100'], fmt='o', color = 'magenta')\n",
    "#plt.scatter(mg419_Ibu_Min100['concMicroMolar'],mg419_Ibu_Min100['Avg-mg419-Ibu-Min100'], color = 'black')\n",
    "\n",
    "ax5.set_xlim([0.001, 10000])\n",
    "ax5.set_ylim([0, 1.1])\n",
    "#spines\n",
    "ax5.spines['right'].set_visible(False)                                 \n",
    "ax5.spines['top'].set_visible(False)\n",
    "ax5.yaxis.set_ticks_position('left')                                     # ticks at the left\n",
    "ax5.xaxis.set_ticks_position('bottom')                                 # no spine at the right\n",
    "ax5.spines['left'].set_position(('outward',15))                           # a spine at the left that is put a little aside\n",
    "ax5.spines['bottom'].set_position(('outward',10))  \n",
    "ax5.spines['top'].set_position(('axes',5)) \n",
    "ax5.get_yaxis().set_tick_params(direction='in')\n",
    "ax5.get_xaxis().set_tick_params(direction='in')\n",
    "#ax2.plot([-1,20], [0,0] , 'k--', color='#000000', linewidth=1)#gray line for Zero or 1        \n",
    "ax5.tick_params(axis='both', which='major', labelsize=10)  \n",
    "ax5.set_xlabel('Drugs (µM, log)',fontsize=12)\n",
    "ax5.set_ylabel('I norm (I/Imax)',fontsize=12)\n",
    "ax5.legend()\n",
    "ax5.legend(frameon=False,loc='upper center', bbox_to_anchor=(0.15, 1.10),handletextpad=0.05)\n",
    "#ax.legend(loc='upper center', bbox_to_anchor=(0.5, 1.00), shadow=True, ncol=2)\n",
    "#ax5.set_title(\"add legend drugs\")\n",
    "#a21.set_title('bla',size=18)\n",
    "#ax2.set_xticklabels([\"VOltages\"],rotation=30)\n",
    "#ax2.spines['bottom'].set_visible(False) \n",
    "#ax2.xaxis.set_visible(False)\n",
    "#add x and y labels\n",
    "#plt.ylabel('Reversal Potential (mV)', fontsize=14) \n",
    "#plt.xlabel('DEG/ENaC/ASIC subunits', fontsize=14)\n",
    "\n",
    "\n",
    "\n",
    "###########################################################################################################\n",
    "#### add Hill Equations to plot\n",
    "#def func(x, Imax, n, Km): # Hill sigmoidal equation from zunzun.com \n",
    "def Hill(x, Imax, n, Km):\n",
    "    return  Imax * np.power(x, n) / (np.power(Km, n) + np.power(x, n)) \n",
    "\n",
    "xModel = np.logspace(-6, 4) #same for all\n",
    "\n",
    "#### Mean Hill values calulated at -100 mV\n",
    "MeanHillmg419Ibu = np.array([1,  1, KmIbu['mg419-Mean-Km-Ibu'][0]]) # [n,Imax,Km]\n",
    "y_mg419Ibu = Hill(xModel, *MeanHillmg419Ibu) #use fittedParameters or initialParameters(or others preciously calculated)\n",
    "#### \n",
    "MeanHillmg602Ibu = np.array([1,  1, KmIbu['mg602-Mean-Km-Ibu'][0]]) # [n,Imax,Km]\n",
    "y_mg602Ibu = Hill(xModel, *MeanHillmg602Ibu) \n",
    "#### \n",
    "MeanHillmg687Ibu = np.array([1,  1, 1.95E+01]) # [n,Imax,Km]\n",
    "y_mg687Ibu = Hill(xModel, *MeanHillmg687Ibu) \n",
    "\n",
    "#### ASPIRIN #### \n",
    "MeanHillmg419Asp = np.array([1,  1, KmAsp['mg419-Mean-Km-Asp'][0]]) # [n,Imax,Km]\n",
    "y_mg419Asp = Hill(xModel, *MeanHillmg419Asp) \n",
    "###mg602\n",
    "MeanHillmg602Asp = np.array([1,  1, KmAsp['mg602-Mean-Km-Asp'][0]]) # [n,Imax,Km]\n",
    "y_mg602Asp = Hill(xModel, *MeanHillmg602Asp) \n",
    "\n",
    "# #### Diclofenac#### \n",
    "# MeanHillmg419Diclo = np.array([1,  1, KmDiclo['mg419-Mean-Km-Diclo'][0]]) # [n,Imax,Km]\n",
    "# y_mg419Diclo = Hill(xModel, *MeanHillmg419Diclo) \n",
    "# #### mg602\n",
    "# MeanHillmg602Diclo = np.array([1,  1, KmDiclo['mg602-Mean-Km-Diclo'][0]]) # [n,Imax,Km]\n",
    "# y_mg602Diclo = Hill(xModel, *MeanHillmg602Diclo) \n",
    "\n",
    "ax5.plot(xModel, y_mg419Ibu, color = colorsSINGLES[0])\n",
    "ax5.plot(xModel, y_mg419Asp, color = colorsSINGLES[0])\n",
    "#ax5.plot(xModel, y_mg419Diclo, \"magenta\")\n",
    "####\n",
    "\n",
    "\n",
    "\n",
    "plt.gcf().subplots_adjust(bottom=0.25, left=0.1,hspace=0.6, wspace=0.65) \n",
    "\n",
    "\n",
    "\n",
    "###########################################################################################################\n",
    "#### add Hill Equations to plot\n",
    "#def func(x, Imax, n, Km): # Hill sigmoidal equation from zunzun.com \n",
    "def Hill(x, Imax, n, Km):\n",
    "    return  Imax * np.power(x, n) / (np.power(Km, n) + np.power(x, n)) \n",
    "\n",
    "#HILLBLOCK\n",
    "def Hillblock(xb, Imaxb, nb, Kmb):\n",
    "    return  Imaxb * np.power(Kmb, nb) / (np.power(Kmb, nb) + np.power(xb, nb)) \n",
    "\n",
    "xModel = np.logspace(-6, 4) #same for all\n",
    "\n",
    "#### Mean Hill values calulated at -60 mV\n",
    "MeanHillmg419EIPA = np.array([1,  1, KmEIPAmg419['mg419-Mean-Km-EIPA'][0]]) # [n,Imax,Km]\n",
    "y_mg419EIPA = Hillblock(xModel, *MeanHillmg419EIPA) #use fittedParameters or initialParameters(or others preciously calculated)\n",
    "#### \n",
    "\n",
    "\n",
    "\n",
    "### Individual curves\n",
    "ax3.plot(xModel, y_mg419EIPA, color = colorsSINGLES[0])\n",
    "\n",
    "\n",
    "\n",
    "\n",
    "\n",
    "plt.gcf().subplots_adjust(bottom=0.25, left=0.1,hspace=0.6, wspace=0.65) \n",
    "\n",
    "\n",
    "\n",
    "plt.savefig(filedirManuscript+\"Fig4-M4-OriginalTraces_Kvalues-IBU-ASP\"+'.pdf')\n"
   ]
  },
  {
   "cell_type": "markdown",
   "metadata": {},
   "source": [
    "# K values Ibu and Asp same style as EIPA Figure "
   ]
  },
  {
   "cell_type": "code",
   "execution_count": 101,
   "metadata": {},
   "outputs": [
    {
     "data": {
      "image/png": "[encoded data removed]",
      "text/plain": [
       "<Figure size 648x158.4 with 2 Axes>"
      ]
     },
     "metadata": {
      "needs_background": "light"
     },
     "output_type": "display_data"
    }
   ],
   "source": [
    "\n",
    "fig = plt.figure(figsize=(9, 2.2)) \n",
    "\n",
    " \n",
    "\n",
    "ax5 = plt.subplot(1,4,1)\n",
    "plt.xscale('log')\n",
    "ax6 = plt.subplot(1,4,2)\n",
    "\n",
    "\n",
    "\n",
    "\n",
    "\n",
    "\n",
    "## add Km plot \n",
    "#### \n",
    "ax6.errorbar(KmIbu['Voltages'],KmIbu['mg419-Mean-Km-Ibu'], yerr=KmIbu['mg419-SD-Km-Ibu'],fmt='o', color = colorsSINGLES[0], label= 'Ibu')\n",
    "ax6.errorbar(KmAsp['Voltages'],KmAsp['mg419-Mean-Km-Asp'], yerr=KmAsp['mg419-SD-Km-Asp'],fmt='v', color = colorsSINGLES[0], label= 'Asp')\n",
    "#ax6.errorbar(KmDiclo['Voltages'],KmDiclo['mg419-Mean-Km-Diclo'], yerr=KmDiclo['mg419-SD-Km-Diclo'], fmt='o', color = 'magenta')\n",
    "#ax3.errorbar(KmIbu['Voltages'][0:3],KmIbu['mg419-Mean-Km-Ibu'][0:3], yerr=KmIbu['mg419-SD-Km-Ibu'][0:3], fmt='o', color = 'black')\n",
    "#ax3.errorbar(KmIbu['Voltages'][5:9],KmIbu['mg419-Mean-Km-Ibu'][5:9], yerr=KmIbu['mg419-SD-Km-Ibu'][5:9], fmt='o', color = 'black')\n",
    "#ax3.set_xlim([0.0000001, 10000])\n",
    "ax6.set_ylim([-50,500])\n",
    "#spines\n",
    "ax6.spines['right'].set_visible(False)                                 \n",
    "ax6.spines['top'].set_visible(False)\n",
    "ax6.yaxis.set_ticks_position('left')                                     # ticks at the left\n",
    "ax6.xaxis.set_ticks_position('bottom')                                 # no spine at the right\n",
    "ax6.spines['left'].set_position(('outward',15))                           # a spine at the left that is put a little aside\n",
    "ax6.spines['bottom'].set_position(('outward',10))  \n",
    "ax6.spines['top'].set_position(('axes',5)) \n",
    "ax6.get_yaxis().set_tick_params(direction='in')\n",
    "ax6.get_xaxis().set_tick_params(direction='in')\n",
    "ax6.set_xlabel('Voltage (mV)',fontsize=12)\n",
    "ax6.set_ylabel('EC50 (µM)',fontsize=12)\n",
    "ax6.set_xticks([-100,-50,0, 50])\n",
    "ax6.legend()\n",
    "ax6.legend(frameon=False,loc='upper center', bbox_to_anchor=(0.15, 1.10),handletextpad=0.05)\n",
    "\n",
    "#add Data and error bars\n",
    "ax5.errorbar(mg419_Ibu_Min100['concMicroMolar'],mg419_Ibu_Min100['Avg-mg419-Ibu-Min100'], yerr=mg419_Ibu_Min100['SEM-mg419-Ibu-Min100'], fmt='o', color = colorsSINGLES[0], label= 'Ibu')\n",
    "ax5.errorbar(mg419_Asp_Min100['concMicroMolar'],mg419_Asp_Min100['Avg-mg419-Asp-Min100'], yerr=mg419_Asp_Min100['SEM-mg419-Asp-Min100'], fmt='v', color = colorsSINGLES[0], label= 'Asp')\n",
    "#ax5.errorbar(mg419_Diclo_Min100['concMicroMolar'],mg419_Diclo_Min100['Avg-mg419-Diclo-Min100'], yerr=mg419_Diclo_Min100['SEM-mg419-Diclo-Min100'], fmt='o', color = 'magenta')\n",
    "#plt.scatter(mg419_Ibu_Min100['concMicroMolar'],mg419_Ibu_Min100['Avg-mg419-Ibu-Min100'], color = 'black')\n",
    "\n",
    "ax5.set_xlim([0.001, 10000])\n",
    "ax5.set_ylim([0, 1.1])\n",
    "#spines\n",
    "ax5.spines['right'].set_visible(False)                                 \n",
    "ax5.spines['top'].set_visible(False)\n",
    "ax5.yaxis.set_ticks_position('left')                                     # ticks at the left\n",
    "ax5.xaxis.set_ticks_position('bottom')                                 # no spine at the right\n",
    "ax5.spines['left'].set_position(('outward',15))                           # a spine at the left that is put a little aside\n",
    "ax5.spines['bottom'].set_position(('outward',10))  \n",
    "ax5.spines['top'].set_position(('axes',5)) \n",
    "ax5.get_yaxis().set_tick_params(direction='in')\n",
    "ax5.get_xaxis().set_tick_params(direction='in')\n",
    "#ax2.plot([-1,20], [0,0] , 'k--', color='#000000', linewidth=1)#gray line for Zero or 1        \n",
    "ax5.tick_params(axis='both', which='major', labelsize=10)  \n",
    "ax5.set_xlabel('Drugs (µM, log)',fontsize=12)\n",
    "ax5.set_ylabel('I norm (I/Imax)',fontsize=12)\n",
    "ax5.legend()\n",
    "ax5.legend(frameon=False,loc='upper center', bbox_to_anchor=(0.15, 1.10),handletextpad=0.05)\n",
    "#ax.legend(loc='upper center', bbox_to_anchor=(0.5, 1.00), shadow=True, ncol=2)\n",
    "#ax5.set_title(\"add legend drugs\")\n",
    "#a21.set_title('bla',size=18)\n",
    "#ax2.set_xticklabels([\"VOltages\"],rotation=30)\n",
    "#ax2.spines['bottom'].set_visible(False) \n",
    "#ax2.xaxis.set_visible(False)\n",
    "#add x and y labels\n",
    "#plt.ylabel('Reversal Potential (mV)', fontsize=14) \n",
    "#plt.xlabel('DEG/ENaC/ASIC subunits', fontsize=14)\n",
    "\n",
    "\n",
    "\n",
    "###########################################################################################################\n",
    "#### add Hill Equations to plot\n",
    "#def func(x, Imax, n, Km): # Hill sigmoidal equation from zunzun.com \n",
    "def Hill(x, Imax, n, Km):\n",
    "    return  Imax * np.power(x, n) / (np.power(Km, n) + np.power(x, n)) \n",
    "\n",
    "xModel = np.logspace(-6, 4) #same for all\n",
    "\n",
    "#### Mean Hill values calulated at -100 mV\n",
    "MeanHillmg419Ibu = np.array([1,  1, KmIbu['mg419-Mean-Km-Ibu'][0]]) # [n,Imax,Km]\n",
    "y_mg419Ibu = Hill(xModel, *MeanHillmg419Ibu) #use fittedParameters or initialParameters(or others preciously calculated)\n",
    "#### \n",
    "MeanHillmg602Ibu = np.array([1,  1, KmIbu['mg602-Mean-Km-Ibu'][0]]) # [n,Imax,Km]\n",
    "y_mg602Ibu = Hill(xModel, *MeanHillmg602Ibu) \n",
    "#### \n",
    "MeanHillmg687Ibu = np.array([1,  1, 1.95E+01]) # [n,Imax,Km]\n",
    "y_mg687Ibu = Hill(xModel, *MeanHillmg687Ibu) \n",
    "\n",
    "#### ASPIRIN #### \n",
    "MeanHillmg419Asp = np.array([1,  1, KmAsp['mg419-Mean-Km-Asp'][0]]) # [n,Imax,Km]\n",
    "y_mg419Asp = Hill(xModel, *MeanHillmg419Asp) \n",
    "###mg602\n",
    "MeanHillmg602Asp = np.array([1,  1, KmAsp['mg602-Mean-Km-Asp'][0]]) # [n,Imax,Km]\n",
    "y_mg602Asp = Hill(xModel, *MeanHillmg602Asp) \n",
    "\n",
    "# #### Diclofenac#### \n",
    "# MeanHillmg419Diclo = np.array([1,  1, KmDiclo['mg419-Mean-Km-Diclo'][0]]) # [n,Imax,Km]\n",
    "# y_mg419Diclo = Hill(xModel, *MeanHillmg419Diclo) \n",
    "# #### mg602\n",
    "# MeanHillmg602Diclo = np.array([1,  1, KmDiclo['mg602-Mean-Km-Diclo'][0]]) # [n,Imax,Km]\n",
    "# y_mg602Diclo = Hill(xModel, *MeanHillmg602Diclo) \n",
    "\n",
    "ax5.plot(xModel, y_mg419Ibu, color = colorsSINGLES[0])\n",
    "ax5.plot(xModel, y_mg419Asp, color = colorsSINGLES[0])\n",
    "#ax5.plot(xModel, y_mg419Diclo, \"magenta\")\n",
    "####\n",
    "\n",
    "\n",
    "\n",
    "plt.gcf().subplots_adjust(bottom=0.25, left=0.1,hspace=0.6, wspace=0.65) \n",
    "\n",
    "\n",
    "\n",
    "###########################################################################################################\n",
    "#### add Hill Equations to plot\n",
    "#def func(x, Imax, n, Km): # Hill sigmoidal equation from zunzun.com \n",
    "def Hill(x, Imax, n, Km):\n",
    "    return  Imax * np.power(x, n) / (np.power(Km, n) + np.power(x, n)) \n",
    "\n",
    "#HILLBLOCK\n",
    "def Hillblock(xb, Imaxb, nb, Kmb):\n",
    "    return  Imaxb * np.power(Kmb, nb) / (np.power(Kmb, nb) + np.power(xb, nb)) \n",
    "\n",
    "xModel = np.logspace(-6, 4) #same for all\n",
    "\n",
    "#### Mean Hill values calulated at -60 mV\n",
    "MeanHillmg419EIPA = np.array([1,  1, KmEIPAmg419['mg419-Mean-Km-EIPA'][0]]) # [n,Imax,Km]\n",
    "y_mg419EIPA = Hillblock(xModel, *MeanHillmg419EIPA) #use fittedParameters or initialParameters(or others preciously calculated)\n",
    "#### \n",
    "\n",
    "\n",
    "\n",
    "### Individual curves\n",
    "ax3.plot(xModel, y_mg419EIPA, color = colorsSINGLES[0])\n",
    "\n",
    "\n",
    "\n",
    "\n",
    "\n",
    "plt.gcf().subplots_adjust(bottom=0.25, left=0.1,hspace=0.6, wspace=0.65) \n",
    "\n",
    "\n",
    "\n",
    "plt.savefig(filedirManuscript+\"Fig4-M4-Kvalues-IBU-ASP\"+'.pdf')\n"
   ]
  },
  {
   "cell_type": "code",
   "execution_count": null,
   "metadata": {},
   "outputs": [],
   "source": []
  },
  {
   "cell_type": "code",
   "execution_count": null,
   "metadata": {},
   "outputs": [],
   "source": []
  },
  {
   "cell_type": "markdown",
   "metadata": {},
   "source": [
    "## PANEL H & I"
   ]
  },
  {
   "cell_type": "code",
   "execution_count": 37,
   "metadata": {},
   "outputs": [
    {
     "data": {
      "image/png": "[encoded data removed]",
      "text/plain": [
       "<Figure size 396x180 with 2 Axes>"
      ]
     },
     "metadata": {
      "needs_background": "light"
     },
     "output_type": "display_data"
    }
   ],
   "source": [
    "#Plot1\n",
    "fig = plt.figure(figsize=(5.5, 2.5)) \n",
    "\n",
    "# ax1 = plt.subplot(3,4,1)\n",
    "# for m in range(0,8):\n",
    "#     plt.plot(Ibumg419BeforeMEAN[m][300:1400], color = colorsSINGLES[0])#\n",
    "    \n",
    "# ax2 = plt.subplot(3,4,2)\n",
    "# for n in range(0,8):\n",
    "#     plt.plot(Ibumg419IbuMEAN[n][300:1400], color = colorsSINGLES[0])\n",
    "    \n",
    "# ax3 = plt.subplot(3,4,5)\n",
    "# for i in range(0,8):\n",
    "#     plt.plot(Ibumg602BeforeMEAN[i][300:1400], 'grey')\n",
    "    \n",
    "# ax4 = plt.subplot(3,4,6)\n",
    "# for j in range(0,8):\n",
    "#     plt.plot(Ibumg602IbuMEAN[j][300:1400], 'grey')\n",
    "\n",
    "\n",
    "\n",
    "ax7 = plt.subplot(1,2,1)\n",
    "plt.xscale('log')\n",
    "\n",
    "ax8 = plt.subplot(1,2,2)\n",
    "plt.xscale('log')\n",
    "\n",
    "\n",
    "####\n",
    "ax7.errorbar(mg419_Ibu_Min100['concMicroMolar'],mg419_Ibu_Min100['Avg-mg419-Ibu-Min100'], yerr=mg419_Ibu_Min100['SEM-mg419-Ibu-Min100'], fmt='o', color = colorsSINGLES[0], label= 'MEC-4d')#\n",
    "ax7.errorbar(mg602_Ibu_Min100['concMicroMolar'],mg602_Ibu_Min100['Avg-mg602-Ibu-Min100'], yerr=mg602_Ibu_Min100['SEM-mg602-Ibu-Min100'], fmt='o', color = 'grey', label= '$\\it{d}$[E704K]')\n",
    "ax7.errorbar(mg687_Ibu_Min100['concMicroMolar'],mg687_Ibu_Min100['Avg-mg687-Ibu-Min100'], yerr=mg687_Ibu_Min100['SEM-mg687-Ibu-Min100'], fmt='o', color = 'black',label= '$\\it{d}$[E704A]')\n",
    "\n",
    "ax7.set_xlim([0.001, 10000])\n",
    "ax7.set_ylim([0, 1.1])\n",
    "#spines\n",
    "ax7.spines['right'].set_visible(False)                                 \n",
    "ax7.spines['top'].set_visible(False)\n",
    "ax7.yaxis.set_ticks_position('left')                                     # ticks at the left\n",
    "ax7.xaxis.set_ticks_position('bottom')                                 # no spine at the right\n",
    "ax7.spines['left'].set_position(('outward',15))                           # a spine at the left that is put a little aside\n",
    "ax7.spines['bottom'].set_position(('outward',10))  \n",
    "ax7.spines['top'].set_position(('axes',5)) \n",
    "ax7.get_yaxis().set_tick_params(direction='in')\n",
    "ax7.get_xaxis().set_tick_params(direction='in')\n",
    "ax7.set_xlabel('Ibuprofen (µM, log)',fontsize=12)\n",
    "ax7.set_ylabel('I norm (I/Imax)',fontsize=12)\n",
    "#ax7.set_title(\"add legend mutants\")\n",
    "ax7.legend()\n",
    "ax7.legend(frameon=False,loc='upper center', bbox_to_anchor=(0.25, 1.10),handletextpad=0.05)\n",
    "\n",
    "\n",
    "#### plot 5\n",
    "ax8.errorbar(mg419_Asp_Min100['concMicroMolar'],mg419_Asp_Min100['Avg-mg419-Asp-Min100'], yerr=mg419_Asp_Min100['SEM-mg419-Asp-Min100'], fmt='v',color = colorsSINGLES[0], label= 'MEC-4d')\n",
    "ax8.errorbar(mg602_Asp_Min100['concMicroMolar'],mg602_Asp_Min100['Avg-mg602-Asp-Min100'], yerr=mg602_Asp_Min100['SEM-mg602-Asp-Min100'], fmt='v', color = 'grey', label= '$\\it{d}$[E704K]')\n",
    "\n",
    "\n",
    "ax8.set_xlim([0.001, 10000])\n",
    "ax8.set_ylim([0, 1.1])\n",
    "#spines\n",
    "ax8.spines['right'].set_visible(False)                                 \n",
    "ax8.spines['top'].set_visible(False)\n",
    "ax8.yaxis.set_ticks_position('left')                                     # ticks at the left\n",
    "ax8.xaxis.set_ticks_position('bottom')                                 # no spine at the right\n",
    "ax8.spines['left'].set_position(('outward',15))                           # a spine at the left that is put a little aside\n",
    "ax8.spines['bottom'].set_position(('outward',10))  \n",
    "ax8.spines['top'].set_position(('axes',5)) \n",
    "ax8.get_yaxis().set_tick_params(direction='in')\n",
    "ax8.get_xaxis().set_tick_params(direction='in')\n",
    "ax8.set_xlabel('Aspirin (µM, log)',fontsize=12)\n",
    "#ax8.set_ylabel('I norm (I/Imax)',fontsize=12)\n",
    "ax8.legend(frameon=False,loc='upper center', bbox_to_anchor=(0.25, 1.10),handletextpad=0.05)\n",
    "#### plot 6\n",
    "\n",
    "###########################################################################################################\n",
    "#### add Hill Equations to plot\n",
    "#def func(x, Imax, n, Km): # Hill sigmoidal equation from zunzun.com \n",
    "def Hill(x, Imax, n, Km):\n",
    "    return  Imax * np.power(x, n) / (np.power(Km, n) + np.power(x, n)) \n",
    "\n",
    "xModel = np.logspace(-6, 4) #same for all\n",
    "\n",
    "#### Mean Hill values calulated at -100 mV\n",
    "MeanHillmg419Ibu = np.array([1,  1, KmIbu['mg419-Mean-Km-Ibu'][0]]) # [n,Imax,Km]\n",
    "y_mg419Ibu = Hill(xModel, *MeanHillmg419Ibu) #use fittedParameters or initialParameters(or others preciously calculated)\n",
    "#### \n",
    "MeanHillmg602Ibu = np.array([1,  1, KmIbu['mg602-Mean-Km-Ibu'][0]]) # [n,Imax,Km]\n",
    "y_mg602Ibu = Hill(xModel, *MeanHillmg602Ibu) \n",
    "#### \n",
    "MeanHillmg687Ibu = np.array([1,  1, 1.95E+01]) # [n,Imax,Km]\n",
    "y_mg687Ibu = Hill(xModel, *MeanHillmg687Ibu) \n",
    "\n",
    "#### ASPIRIN #### \n",
    "MeanHillmg419Asp = np.array([1,  1, KmAsp['mg419-Mean-Km-Asp'][0]]) # [n,Imax,Km]\n",
    "y_mg419Asp = Hill(xModel, *MeanHillmg419Asp) \n",
    "###mg602\n",
    "MeanHillmg602Asp = np.array([1,  1, KmAsp['mg602-Mean-Km-Asp'][0]]) # [n,Imax,Km]\n",
    "y_mg602Asp = Hill(xModel, *MeanHillmg602Asp) \n",
    "\n",
    "\n",
    "\n",
    "### Individual curves\n",
    "ax7.plot(xModel, y_mg419Ibu, color = colorsSINGLES[0])\n",
    "ax7.plot(xModel, y_mg602Ibu,'grey')#,linestyle='--'\n",
    "ax7.plot(xModel, y_mg687Ibu,'black')#,linestyle=':'\n",
    "\n",
    "ax8.plot(xModel, y_mg419Asp, color = colorsSINGLES[0])\n",
    "ax8.plot(xModel, y_mg602Asp, \"grey\")\n",
    "\n",
    "#ax6.plot(xModel, y_mg419Diclo, \"magenta\")\n",
    "#ax6.plot(xModel, y_mg602Diclo, \"magenta\",linestyle='--')\n",
    "plt.gcf().subplots_adjust(bottom=0.3, left=0.2,hspace=0.5, wspace=0.6) \n",
    "\n",
    "plt.savefig(filedirManuscript+\"Fig6-DoseResponseMUTANTS\"+'.pdf')\n"
   ]
  },
  {
   "cell_type": "code",
   "execution_count": null,
   "metadata": {},
   "outputs": [],
   "source": []
  },
  {
   "cell_type": "code",
   "execution_count": null,
   "metadata": {},
   "outputs": [],
   "source": []
  },
  {
   "cell_type": "markdown",
   "metadata": {},
   "source": [
    "# supplementary figure for EIPA and Benzamil"
   ]
  },
  {
   "cell_type": "markdown",
   "metadata": {},
   "source": [
    "### Original Traces UNC-8d"
   ]
  },
  {
   "cell_type": "markdown",
   "metadata": {},
   "source": [
    "### Define Rec number and group number"
   ]
  },
  {
   "cell_type": "code",
   "execution_count": 38,
   "metadata": {},
   "outputs": [],
   "source": [
    "####### hardcoding ########## FOR NaGLu FIgure 1 ######\n",
    "#enter here different IDs\n",
    "#mg419 = M4d (A713T)\n",
    "pTL69frog = 'STFX035'\n",
    "pTL69RecNr = '027' \n",
    "pTL69Group = 2-1 #Group Number, -1 for python convention\n",
    "\n",
    "mg419frog = 'STFX035'\n",
    "mg419RecNr = '002' #'021'\n",
    "mg419Group = 3-1"
   ]
  },
  {
   "cell_type": "code",
   "execution_count": 39,
   "metadata": {
    "scrolled": false
   },
   "outputs": [
    {
     "data": {
      "text/plain": [
       "'/Users/Fechner/Box Sync/Fechner/TEVC-GoodmanlabBOX/Project-STFX/datFilesSTFX'"
      ]
     },
     "execution_count": 39,
     "metadata": {},
     "output_type": "execute_result"
    }
   ],
   "source": [
    "pwd"
   ]
  },
  {
   "cell_type": "markdown",
   "metadata": {},
   "source": [
    "## find filenames for recordings"
   ]
  },
  {
   "cell_type": "code",
   "execution_count": 40,
   "metadata": {},
   "outputs": [],
   "source": [
    "#find filename belonging to recording \n",
    "\n",
    "pTL69filename = 'REVISEDSensitivityMetadataSTFXUnc8onlySTEP.xlsx'\n",
    "#pTL69Recording = pTL69frog + pTL69RecNr #maybe trouble with - in .dat file. matlab ignored all of them. hekareader not\n",
    "pTL69xl = pd.ExcelFile(filedirMeta+pTL69filename)#converters={'names':str,'ages':str}\n",
    "pTL69xl.sheet_names\n",
    "pTL69df = pTL69xl.parse(\"Sheet1\",converters={'Filename': np.int64}) #calls for Sheet names \n",
    "pTL69Recording = pTL69frog + pTL69RecNr\n"
   ]
  },
  {
   "cell_type": "code",
   "execution_count": 41,
   "metadata": {},
   "outputs": [],
   "source": [
    "mg419filename = 'SensitivityMetadataSTFXEIPA.xlsx'\n",
    "#mg419Recording = mg419frog + mg419RecNr #maybe trouble with - in .dat file. matlab ignored all of them. hekareader not\n",
    "mg419xl = pd.ExcelFile(filedirMeta+mg419filename)#converters={'names':str,'ages':str}\n",
    "mg419xl.sheet_names\n",
    "mg419df = mg419xl.parse(\"Sheet1\",converters={'Filename': np.int64}) #calls for Sheet names \n",
    "mg419Recording = mg419frog + mg419RecNr\n"
   ]
  },
  {
   "cell_type": "code",
   "execution_count": 42,
   "metadata": {},
   "outputs": [
    {
     "data": {
      "text/plain": [
       "'STFX035002'"
      ]
     },
     "execution_count": 42,
     "metadata": {},
     "output_type": "execute_result"
    }
   ],
   "source": [
    "mg419Recording\n"
   ]
  },
  {
   "cell_type": "markdown",
   "metadata": {},
   "source": [
    "## find filename on metadatasheet"
   ]
  },
  {
   "cell_type": "code",
   "execution_count": 43,
   "metadata": {},
   "outputs": [],
   "source": [
    "#find the .dat file name in the MetaData sheet of the corresponding recording\n",
    "pTL69DatFile = pTL69df.Filename[(pTL69df.CellID == pTL69Recording)]"
   ]
  },
  {
   "cell_type": "code",
   "execution_count": 44,
   "metadata": {},
   "outputs": [],
   "source": [
    "#find the .dat file name in the MetaData sheet of the corresponding recording\n",
    "mg419DatFile = mg419df.Filename[(mg419df.CellID == mg419Recording)]"
   ]
  },
  {
   "cell_type": "code",
   "execution_count": 45,
   "metadata": {},
   "outputs": [
    {
     "data": {
      "text/plain": [
       "1    201708152017\n",
       "Name: Filename, dtype: int64"
      ]
     },
     "execution_count": 45,
     "metadata": {},
     "output_type": "execute_result"
    }
   ],
   "source": [
    "pTL69DatFile"
   ]
  },
  {
   "cell_type": "markdown",
   "metadata": {},
   "source": [
    "### load dat files"
   ]
  },
  {
   "cell_type": "code",
   "execution_count": 46,
   "metadata": {},
   "outputs": [],
   "source": [
    "# Load a .dat file\n",
    "pTL69loadFile = heka_reader.Bundle(str(pTL69DatFile.iloc[0])+'.dat')"
   ]
  },
  {
   "cell_type": "code",
   "execution_count": 47,
   "metadata": {},
   "outputs": [],
   "source": [
    "# Load a .dat file\n",
    "mg419loadFile = heka_reader.Bundle(str(mg419DatFile.iloc[0])+'.dat')"
   ]
  },
  {
   "cell_type": "markdown",
   "metadata": {},
   "source": [
    "## WRITE A FOR LOOP WITHIN A FOR LOOP"
   ]
  },
  {
   "cell_type": "markdown",
   "metadata": {},
   "source": [
    "### UNC8d Bmil"
   ]
  },
  {
   "cell_type": "code",
   "execution_count": 48,
   "metadata": {},
   "outputs": [],
   "source": [
    "# write for loop within for loop\n",
    "pTL69Before1 = []\n",
    "for i in range(0,8):#(0,len(tt)):\n",
    "    pTL69Before1.append(pTL69loadFile.data[pTL69Group,5,i,0])"
   ]
  },
  {
   "cell_type": "code",
   "execution_count": 49,
   "metadata": {},
   "outputs": [],
   "source": [
    "pTL69Before2 = []\n",
    "for i in range(0,8):#(0,len(tt)):\n",
    "    pTL69Before2.append(pTL69loadFile.data[pTL69Group,6,i,0])"
   ]
  },
  {
   "cell_type": "code",
   "execution_count": 50,
   "metadata": {},
   "outputs": [],
   "source": [
    "pTL69Before3 = []\n",
    "for i in range(0,8):#(0,len(tt)):\n",
    "    pTL69Before3.append(pTL69loadFile.data[pTL69Group,7,i,0])"
   ]
  },
  {
   "cell_type": "code",
   "execution_count": 51,
   "metadata": {},
   "outputs": [],
   "source": [
    "pTL69Bmil1 = []\n",
    "for i in range(0,8):#(0,len(tt)):\n",
    "    pTL69Bmil1.append(pTL69loadFile.data[pTL69Group,37,i,0])"
   ]
  },
  {
   "cell_type": "code",
   "execution_count": 52,
   "metadata": {},
   "outputs": [],
   "source": [
    "pTL69Bmil2 = []\n",
    "for i in range(0,8):#(0,len(tt)):\n",
    "    pTL69Bmil2.append(pTL69loadFile.data[pTL69Group,38,i,0])"
   ]
  },
  {
   "cell_type": "code",
   "execution_count": 53,
   "metadata": {},
   "outputs": [],
   "source": [
    "pTL69Bmil3 = []\n",
    "for i in range(0,8):#(0,len(tt)):\n",
    "    pTL69Bmil3.append(pTL69loadFile.data[pTL69Group,39,i,0])"
   ]
  },
  {
   "cell_type": "markdown",
   "metadata": {},
   "source": [
    "### MEC4d EIPA"
   ]
  },
  {
   "cell_type": "code",
   "execution_count": 54,
   "metadata": {},
   "outputs": [],
   "source": [
    "mg419Before1 = []\n",
    "for i in range(0,8):#(0,len(tt)):\n",
    "    mg419Before1.append(mg419loadFile.data[mg419Group,1,i,0])\n",
    "    \n",
    "mg419Before2 = []\n",
    "for j in range(0,8):#(0,len(tt)):\n",
    "    mg419Before2.append(mg419loadFile.data[mg419Group,2,j,0])\n",
    "    \n",
    "mg419Before3 = []\n",
    "for k in range(0,8):#(0,len(tt)):\n",
    "    mg419Before3.append(mg419loadFile.data[mg419Group,3,k,0])"
   ]
  },
  {
   "cell_type": "code",
   "execution_count": 55,
   "metadata": {},
   "outputs": [],
   "source": [
    "mg419EIPA1 = []\n",
    "for i in range(0,8):#(0,len(tt)):\n",
    "    mg419EIPA1.append(mg419loadFile.data[mg419Group,33,i,0])\n",
    "    \n",
    "mg419EIPA2 = []\n",
    "for j in range(0,8):#(0,len(tt)):\n",
    "    mg419EIPA2.append(mg419loadFile.data[mg419Group,34,j,0])\n",
    "    \n",
    "mg419EIPA3 = []\n",
    "for k in range(0,8):#(0,len(tt)):\n",
    "    mg419EIPA3.append(mg419loadFile.data[mg419Group,35,k,0])"
   ]
  },
  {
   "cell_type": "markdown",
   "metadata": {},
   "source": [
    "### AVERGAGE"
   ]
  },
  {
   "cell_type": "code",
   "execution_count": 56,
   "metadata": {},
   "outputs": [],
   "source": [
    "pTL69BeforeMEAN =[]\n",
    "for i in range(0,8):\n",
    "    pTL69BeforeMEAN.append(((pTL69Before1[i]+pTL69Before2[i]+pTL69Before3[i])/3)*1000000)\n",
    "    \n",
    "pTL69BmilMEAN =[]\n",
    "for j in range(0,8):\n",
    "    pTL69BmilMEAN.append(((pTL69Bmil1[j]+pTL69Bmil2[j]+pTL69Bmil3[j])/3)*1000000)"
   ]
  },
  {
   "cell_type": "code",
   "execution_count": 57,
   "metadata": {},
   "outputs": [],
   "source": [
    "#pTL69BmilMEAN =[]\n",
    "#for i in range(0,8):\n",
    " #   pTL69BmilMEAN.append(((pTL69Bmil1[i]+pTL69Bmil2[i]+pTL69Bmil3[i])/3)*1000000)"
   ]
  },
  {
   "cell_type": "code",
   "execution_count": 58,
   "metadata": {},
   "outputs": [],
   "source": [
    "mg419BeforeMEAN =[]\n",
    "for i in range(0,8):\n",
    "    mg419BeforeMEAN.append(((mg419Before1[i]+mg419Before2[i]+mg419Before3[i])/3)*1000000)\n",
    "    \n",
    "mg419EIPAMEAN =[]\n",
    "for j in range(0,8):\n",
    "    mg419EIPAMEAN.append(((mg419EIPA1[j]+mg419EIPA2[j]+mg419EIPA3[j])/3)*1000000)"
   ]
  },
  {
   "cell_type": "markdown",
   "metadata": {},
   "source": [
    "You might recall ''a''^2^ `+` ''b''^2^ `=` ''c''^2^ from your math lessons, unless your head is filled with H,,2,,O.\n"
   ]
  },
  {
   "cell_type": "markdown",
   "metadata": {},
   "source": [
    "# MAKE SUPPLEMENTARY FIGURE + EXPORT"
   ]
  },
  {
   "cell_type": "markdown",
   "metadata": {},
   "source": [
    "### both: UNC8 and MEC4"
   ]
  },
  {
   "cell_type": "code",
   "execution_count": 59,
   "metadata": {
    "scrolled": true
   },
   "outputs": [
    {
     "data": {
      "image/png": "[encoded data removed]",
      "text/plain": [
       "<Figure size 648x504 with 8 Axes>"
      ]
     },
     "metadata": {
      "needs_background": "light"
     },
     "output_type": "display_data"
    }
   ],
   "source": [
    "\n",
    "\n",
    "#Plot1\n",
    "\n",
    "#DEGT-1D\n",
    "fig = plt.figure(figsize=(9, 7)) \n",
    "\n",
    "ax1 = plt.subplot(2,4,5)\n",
    "for m in range(0,8):\n",
    "    plt.plot(mg419BeforeMEAN[m][300:1400], color = colorsSINGLES[0])\n",
    "    \n",
    "ax2 = plt.subplot(2,4,6)\n",
    "for n in range(0,8):\n",
    "    plt.plot(mg419EIPAMEAN[n][300:1400], color = colorsSINGLES[0])\n",
    "    \n",
    "ax3 = plt.subplot(2,4,7)\n",
    "plt.xscale('log')\n",
    "ax4 = plt.subplot(2,4,8)\n",
    "\n",
    "\n",
    "#UNC-8D\n",
    "ax5 = plt.subplot(2,4,1)\n",
    "for i in range(0,8):\n",
    "    plt.plot(pTL69BeforeMEAN[i][300:1400], color = colorsSINGLES[1])\n",
    "ax6 = plt.subplot(2,4,2)\n",
    "for j in range(0,8):\n",
    "    plt.plot(pTL69BmilMEAN[j][300:1400], color = colorsSINGLES[1])\n",
    "ax7 = plt.subplot(2,4,3)\n",
    "plt.xscale('log')\n",
    "ax8 = plt.subplot(2,4,4)\n",
    "\n",
    "\n",
    "\n",
    "##############\n",
    "ax1.set_ylim([-20, 20])\n",
    "ax1.text(200, 14, '0 µM EIPA')#numbers are the values on the axes\n",
    "# ax1.set_ylim([-150, 150])\n",
    "#ax1.set_xlim([300, 1400])\n",
    "ax1.spines['right'].set_visible(False)                                  # no spine at the right\n",
    "ax1.spines['top'].set_visible(False)                                     # no spine at the top\n",
    "ax1.yaxis.set_ticks_position('left')                                     # ticks at the left\n",
    "ax1.xaxis.set_ticks_position('bottom')                                 # no spine at the right\n",
    "ax1.spines['left'].set_position(('outward',10))                           # a spine at the left that is put a little aside\n",
    "ax1.spines['bottom'].set_position(('outward',10))  \n",
    "#ax1.spines['top'].set_position(('axes',5)) \n",
    "ax1.get_yaxis().set_tick_params(direction='in')\n",
    "ax1.get_xaxis().set_tick_params(direction='in')\n",
    "# #ax1.plot([-1,20], [0,0] , 'k--', color='#000000', linewidth=1)#gray line for Zero or 1        \n",
    "ax1.tick_params(axis='both', which='major', labelsize=12)  \n",
    "\n",
    "ax1.set_xlabel('t (ms)',fontsize=12)\n",
    "ax1.set_ylabel('I (µA)',fontsize=12)\n",
    "ax1.spines['bottom'].set_visible(False) \n",
    "ax1.xaxis.set_visible(False)\n",
    "\n",
    "##### ax2\n",
    "ax2.set_ylim([-20, 20])\n",
    "ax2.text(120, 14,  '300 µM EIPA')\n",
    "# ax1.set_ylim([-150, 150])\n",
    "#ax1.set_xlim([300, 1400])\n",
    "ax2.spines['right'].set_visible(False)                                  # no spine at the right\n",
    "ax2.spines['top'].set_visible(False)                                     # no spine at the top\n",
    "ax2.yaxis.set_ticks_position('left')                                     # ticks at the left\n",
    "ax2.xaxis.set_ticks_position('bottom')                                 # no spine at the right\n",
    "ax2.spines['left'].set_position(('outward',10))                           # a spine at the left that is put a little aside\n",
    "ax2.spines['bottom'].set_position(('outward',10))  \n",
    "#ax1.spines['top'].set_position(('axes',5)) \n",
    "ax2.get_yaxis().set_tick_params(direction='in')\n",
    "ax2.get_xaxis().set_tick_params(direction='in')\n",
    "# #ax1.plot([-1,20], [0,0] , 'k--', color='#000000', linewidth=1)#gray line for Zero or 1        \n",
    "ax2.tick_params(axis='both', which='major', labelsize=12)  \n",
    "#ax2.text(1300, 20, 'MEC-4d',color=colorsSINGLES[0])\n",
    "ax2.set_xlabel('t (ms)',fontsize=12)\n",
    "ax2.set_ylabel('I (µA)',fontsize=12)\n",
    "ax2.spines['bottom'].set_visible(False) \n",
    "ax2.xaxis.set_visible(False)\n",
    "ax2.spines['left'].set_visible(False) \n",
    "ax2.yaxis.set_visible(False)\n",
    "ax2.text(-850, 19, 'MEC-4d',color=colorsSINGLES[0],fontsize=14)\n",
    "\n",
    "############\n",
    "\n",
    "# ax5.set_xlabel('MAKE NICE',fontsize=12)\n",
    "\n",
    "# ax6.set_xlabel('MAKE NICE',fontsize=12)\n",
    "# #ax6.legend(['300 µM Bmil'])\n",
    "# ax6.text(150, 5, '300 µM Bmil')\n",
    "\n",
    "#######\n",
    "##### ax3\n",
    "ax5.set_ylim([-10, 10])\n",
    "ax5.text(200, 8, '0 µM Bmil')\n",
    "#ax1.set_xlim([300, 1400])\n",
    "ax5.spines['right'].set_visible(False)                                  # no spine at the right\n",
    "ax5.spines['top'].set_visible(False)                                     # no spine at the top\n",
    "ax5.yaxis.set_ticks_position('left')                                     # ticks at the left\n",
    "ax5.xaxis.set_ticks_position('bottom')                                 # no spine at the right\n",
    "ax5.spines['left'].set_position(('outward',10))                           # a spine at the left that is put a little aside\n",
    "ax5.spines['bottom'].set_position(('outward',10))  \n",
    "#ax1.spines['top'].set_position(('axes',5)) \n",
    "ax5.get_yaxis().set_tick_params(direction='in')\n",
    "ax5.get_xaxis().set_tick_params(direction='in')\n",
    "# #ax1.plot([-1,20], [0,0] , 'k--', color='#000000', linewidth=1)#gray line for Zero or 1        \n",
    "ax5.tick_params(axis='both', which='major', labelsize=12)  \n",
    "ax5.set_xlabel('t (ms)',fontsize=12)\n",
    "ax5.set_ylabel('I (µA)',fontsize=12)\n",
    "#ax3.spines['bottom'].set_visible(False) \n",
    "#ax3.xaxis.set_visible(False)\n",
    "\n",
    "##### ax2\n",
    "ax6.set_ylim([-10, +10])\n",
    "ax6.text(120, 8,  '300 µM Bmil')\n",
    "# ax1.set_ylim([-150, 150])\n",
    "#ax1.set_xlim([300, 1400])\n",
    "ax6.spines['right'].set_visible(False)                                  # no spine at the right\n",
    "ax6.spines['top'].set_visible(False)                                     # no spine at the top\n",
    "ax6.yaxis.set_ticks_position('left')                                     # ticks at the left\n",
    "ax6.xaxis.set_ticks_position('bottom')                                 # no spine at the right\n",
    "ax6.spines['left'].set_position(('outward',10))                           # a spine at the left that is put a little aside\n",
    "ax6.spines['bottom'].set_position(('outward',10))  \n",
    "#ax1.spines['top'].set_position(('axes',5)) \n",
    "ax6.get_yaxis().set_tick_params(direction='in')\n",
    "ax6.get_xaxis().set_tick_params(direction='in')\n",
    "# ax1.plot([-1,20], [0,0] , 'k--', color='#000000', linewidth=1)#gray line for Zero or 1        \n",
    "ax6.tick_params(axis='both', which='major', labelsize=12)  \n",
    "#ax2.text(1300, 20, 'MEC-4d',color=colorsSINGLES[0])\n",
    "ax6.set_xlabel('t (ms)',fontsize=12)\n",
    "ax6.set_ylabel('I (µA)',fontsize=12)\n",
    "#ax4.spines['bottom'].set_visible(False) \n",
    "#ax4.xaxis.set_visible(False)\n",
    "ax6.spines['left'].set_visible(False) \n",
    "ax6.yaxis.set_visible(False)\n",
    "ax6.text(-750, 9, 'UNC-8d',color = colorsSINGLES[1],fontsize=14)\n",
    "\n",
    "\n",
    "\n",
    "\n",
    "\n",
    "#add Data and error bars\n",
    "ax3.errorbar(mg419_EIPA_Min60['concMicroMolar'],mg419_EIPA_Min60['Avg-mg419-EIPA-Min60'], yerr=mg419_EIPA_Min60['SEM-mg419-EIPA-Min60'], fmt='o', color = colorsSINGLES[0], label = 'MEC-4d')\n",
    "ax3.set_xlim([0.0000001, 10000])\n",
    "ax3.set_ylim([-0.1, 1.1])\n",
    "#spines\n",
    "ax3.spines['right'].set_visible(False)                                 \n",
    "ax3.spines['top'].set_visible(False)\n",
    "ax3.yaxis.set_ticks_position('left')                                     # ticks at the left\n",
    "ax3.xaxis.set_ticks_position('bottom')                                 # no spine at the right\n",
    "ax3.spines['left'].set_position(('outward',15))                           # a spine at the left that is put a little aside\n",
    "ax3.spines['bottom'].set_position(('outward',10))  \n",
    "ax3.spines['top'].set_position(('axes',5)) \n",
    "ax3.get_yaxis().set_tick_params(direction='in')\n",
    "ax3.get_xaxis().set_tick_params(direction='in')\n",
    "#a2.plot([-1,20], [0,0] , 'k--', color='#000000', linewidth=1)#gray line for Zero or 1        \n",
    "ax3.tick_params(axis='both', which='major', labelsize=10)  \n",
    "ax3.set_xlabel('EIPA (µM, log)',fontsize=12)\n",
    "ax3.set_ylabel('I norm (I/Imax)',fontsize=12)\n",
    "ax3.legend()\n",
    "ax3.legend(frameon=False,loc='upper center', bbox_to_anchor=(0.25, 0.20),handletextpad=0.05)\n",
    "#ax2.set_title(\"add legend drugs\")\n",
    "#a21.set_title('bla',size=18)\n",
    "#ax2.set_xticklabels([\"VOltages\"],rotation=30)\n",
    "#ax2.spines['bottom'].set_visible(False) \n",
    "#ax2.xaxis.set_visible(False)\n",
    "#add x and y labels\n",
    "#plt.ylabel('Reversal Potential (mV)', fontsize=14) \n",
    "#plt.xlabel('DEG/ENaC/ASIC subunits', fontsize=14)\n",
    "\n",
    "\n",
    "# add Km plot \n",
    "#### \n",
    "ax4.errorbar(KmEIPAmg419['Voltages'],KmEIPAmg419['mg419-Mean-Km-EIPA'], yerr=KmEIPAmg419['mg419-SEM-Km-EIPA'], fmt='o', color = colorsSINGLES[0])\n",
    "#ax3.errorbar(KmAsp['Voltages'],KmAsp['mg419-Mean-Km-Asp'], yerr=KmAsp['mg419-SD-Km-Asp'], fmt='o', color = 'blue')\n",
    "#ax3.errorbar(KmDiclo['Voltages'],KmDiclo['mg419-Mean-Km-Diclo'], yerr=KmDiclo['mg419-SD-Km-Diclo'], fmt='o', color = 'magenta')\n",
    "#ax3.errorbar(KmIbu['Voltages'][0:3],KmIbu['mg419-Mean-Km-Ibu'][0:3], yerr=KmIbu['mg419-SD-Km-Ibu'][0:3], fmt='o', color = 'black')\n",
    "#ax3.errorbar(KmIbu['Voltages'][5:9],KmIbu['mg419-Mean-Km-Ibu'][5:9], yerr=KmIbu['mg419-SD-Km-Ibu'][5:9], fmt='o', color = 'black')\n",
    "#ax3.set_xlim([0.0000001, 10000])\n",
    "ax4.set_ylim([0,40])\n",
    "#spines\n",
    "ax4.spines['right'].set_visible(False)                                 \n",
    "ax4.spines['top'].set_visible(False)\n",
    "ax4.yaxis.set_ticks_position('left')                                     # ticks at the left\n",
    "ax4.xaxis.set_ticks_position('bottom')                                 # no spine at the right\n",
    "ax4.spines['left'].set_position(('outward',15))                           # a spine at the left that is put a little aside\n",
    "ax4.spines['bottom'].set_position(('outward',10))  \n",
    "ax4.spines['top'].set_position(('axes',5)) \n",
    "ax4.get_yaxis().set_tick_params(direction='in')\n",
    "ax4.get_xaxis().set_tick_params(direction='in')\n",
    "ax4.set_xlabel('Voltage (mV)',fontsize=12)\n",
    "ax4.set_ylabel('IC50 (µM)',fontsize=12)\n",
    "\n",
    "\n",
    "####\n",
    "\n",
    "#### plot 5\n",
    "ax7.errorbar(pTL69_Bmil_Min60['concMicroMolar'],pTL69_Bmil_Min60['Avg-pTL69-Bmil-Min60'], yerr=pTL69_Bmil_Min60['SEM-pTL69-Bmil-Min60'], fmt='o', color = colorsSINGLES[1], label = 'UNC-8d')\n",
    "\n",
    "ax7.set_xlim([0.0000001, 10000])\n",
    "ax7.set_ylim([-0.1, 1.1])\n",
    "#spines\n",
    "ax7.spines['right'].set_visible(False)                                 \n",
    "ax7.spines['top'].set_visible(False)\n",
    "ax7.yaxis.set_ticks_position('left')                                     # ticks at the left\n",
    "ax7.xaxis.set_ticks_position('bottom')                                 # no spine at the right\n",
    "ax7.spines['left'].set_position(('outward',15))                           # a spine at the left that is put a little aside\n",
    "ax7.spines['bottom'].set_position(('outward',10))  \n",
    "ax7.spines['top'].set_position(('axes',5)) \n",
    "ax7.get_yaxis().set_tick_params(direction='in')\n",
    "ax7.get_xaxis().set_tick_params(direction='in')\n",
    "ax7.set_xlabel('Benzamil (µM, log)',fontsize=12)\n",
    "ax7.set_ylabel('I norm (I/Imax)',fontsize=12)\n",
    "ax7.legend()\n",
    "ax7.legend(frameon=False,loc='upper center', bbox_to_anchor=(0.25, 0.20),handletextpad=0.05)\n",
    "\n",
    "#### plot 6\n",
    "#### \n",
    "ax8.errorbar(KmBmilpTL69['Voltages'],KmBmilpTL69['pTL69-Mean-Km-Bmil'], yerr=KmBmilpTL69['pTL69-SEM-Km-Bmil'], fmt='o', color = colorsSINGLES[1])\n",
    "ax8.set_ylim([0,40])\n",
    "#sines\n",
    "ax8.spines['right'].set_visible(False)                                 \n",
    "ax8.spines['top'].set_visible(False)\n",
    "ax8.yaxis.set_ticks_position('left')                                     # ticks at the left\n",
    "ax8.xaxis.set_ticks_position('bottom')                                 # no spine at the right\n",
    "ax8.spines['left'].set_position(('outward',15))                           # a spine at the left that is put a little aside\n",
    "ax8.spines['bottom'].set_position(('outward',10))  \n",
    "ax8.spines['top'].set_position(('axes',5)) \n",
    "ax8.get_yaxis().set_tick_params(direction='in')\n",
    "ax8.get_xaxis().set_tick_params(direction='in')\n",
    "ax8.set_xlabel('Voltage (mV)',fontsize=12)\n",
    "ax8.set_ylabel('IC50 (µM)',fontsize=12)\n",
    "\n",
    "\n",
    "plt.gcf().subplots_adjust(bottom=0.3, left=0.1,hspace=0.6, wspace=0.65) \n",
    "\n",
    "\n",
    "\n",
    "###########################################################################################################\n",
    "#### add Hill Equations to plot\n",
    "#def func(x, Imax, n, Km): # Hill sigmoidal equation from zunzun.com \n",
    "def Hill(x, Imax, n, Km):\n",
    "    return  Imax * np.power(x, n) / (np.power(Km, n) + np.power(x, n)) \n",
    "\n",
    "#HILLBLOCK\n",
    "def Hillblock(xb, Imaxb, nb, Kmb):\n",
    "    return  Imaxb * np.power(Kmb, nb) / (np.power(Kmb, nb) + np.power(xb, nb)) \n",
    "\n",
    "xModel = np.logspace(-6, 4) #same for all\n",
    "\n",
    "#### Mean Hill values calulated at -60 mV\n",
    "MeanHillmg419EIPA = np.array([1,  1, KmEIPAmg419['mg419-Mean-Km-EIPA'][0]]) # [n,Imax,Km]\n",
    "y_mg419EIPA = Hillblock(xModel, *MeanHillmg419EIPA) #use fittedParameters or initialParameters(or others preciously calculated)\n",
    "#### \n",
    "\n",
    "MeanHillpTL69Bmil = np.array([1,  1, KmBmilpTL69['pTL69-Mean-Km-Bmil'][0]]) # [n,Imax,Km]\n",
    "y_pTL69Bmil = Hillblock(xModel, *MeanHillpTL69Bmil) #use fittedParameters or initialParameters(or others preciously calculated)\n",
    "#### \n",
    "\n",
    "\n",
    "### Individual curves\n",
    "ax3.plot(xModel, y_mg419EIPA, color = colorsSINGLES[0])\n",
    "\n",
    "ax7.plot(xModel, y_pTL69Bmil, color = colorsSINGLES[1])\n",
    "\n",
    "\n",
    "\n",
    "plt.savefig(filedirManuscript+\"FigX-Supplementary\"+'.pdf')\n"
   ]
  },
  {
   "cell_type": "markdown",
   "metadata": {},
   "source": [
    "### only MEC4"
   ]
  },
  {
   "cell_type": "code",
   "execution_count": 69,
   "metadata": {},
   "outputs": [
    {
     "data": {
      "image/png": "[encoded data removed]",
      "text/plain": [
       "<Figure size 648x158.4 with 4 Axes>"
      ]
     },
     "metadata": {
      "needs_background": "light"
     },
     "output_type": "display_data"
    }
   ],
   "source": [
    "\n",
    "\n",
    "#Plot1\n",
    "\n",
    "#DEGT-1D\n",
    "fig = plt.figure(figsize=(9, 2.2)) \n",
    "\n",
    "ax1 = plt.subplot(1,4,1)\n",
    "for m in range(0,8):\n",
    "    plt.plot(mg419BeforeMEAN[m][300:1400], color = colorsSINGLES[0])\n",
    "    \n",
    "ax2 = plt.subplot(1,4,2)\n",
    "for n in range(0,8):\n",
    "    plt.plot(mg419EIPAMEAN[n][300:1400], color = colorsSINGLES[0])\n",
    "    \n",
    "ax3 = plt.subplot(1,4,3)\n",
    "plt.xscale('log')\n",
    "ax4 = plt.subplot(1,4,4)\n",
    "\n",
    "\n",
    "\n",
    "\n",
    "##############\n",
    "ax1.set_ylim([-20, 20])\n",
    "ax1.text(200, 14, '0 µM EIPA')#numbers are the values on the axes\n",
    "# ax1.set_ylim([-150, 150])\n",
    "#ax1.set_xlim([300, 1400])\n",
    "ax1.spines['right'].set_visible(False)                                  # no spine at the right\n",
    "ax1.spines['top'].set_visible(False)                                     # no spine at the top\n",
    "ax1.yaxis.set_ticks_position('left')                                     # ticks at the left\n",
    "ax1.xaxis.set_ticks_position('bottom')                                 # no spine at the right\n",
    "ax1.spines['left'].set_position(('outward',10))                           # a spine at the left that is put a little aside\n",
    "ax1.spines['bottom'].set_position(('outward',10))  \n",
    "#ax1.spines['top'].set_position(('axes',5)) \n",
    "ax1.get_yaxis().set_tick_params(direction='in')\n",
    "ax1.get_xaxis().set_tick_params(direction='in')\n",
    "# #ax1.plot([-1,20], [0,0] , 'k--', color='#000000', linewidth=1)#gray line for Zero or 1        \n",
    "ax1.tick_params(axis='both', which='major', labelsize=12)  \n",
    "\n",
    "ax1.set_xlabel('t (ms)',fontsize=12)\n",
    "ax1.set_ylabel('I (µA)',fontsize=12)\n",
    "ax1.spines['bottom'].set_visible(False) \n",
    "ax1.xaxis.set_visible(False)\n",
    "\n",
    "##### ax2\n",
    "ax2.set_ylim([-20, 20])\n",
    "ax2.text(120, 14,  '300 µM EIPA')\n",
    "# ax1.set_ylim([-150, 150])\n",
    "#ax1.set_xlim([300, 1400])\n",
    "ax2.spines['right'].set_visible(False)                                  # no spine at the right\n",
    "ax2.spines['top'].set_visible(False)                                     # no spine at the top\n",
    "ax2.yaxis.set_ticks_position('left')                                     # ticks at the left\n",
    "ax2.xaxis.set_ticks_position('bottom')                                 # no spine at the right\n",
    "ax2.spines['left'].set_position(('outward',10))                           # a spine at the left that is put a little aside\n",
    "ax2.spines['bottom'].set_position(('outward',10))  \n",
    "#ax1.spines['top'].set_position(('axes',5)) \n",
    "ax2.get_yaxis().set_tick_params(direction='in')\n",
    "ax2.get_xaxis().set_tick_params(direction='in')\n",
    "# #ax1.plot([-1,20], [0,0] , 'k--', color='#000000', linewidth=1)#gray line for Zero or 1        \n",
    "ax2.tick_params(axis='both', which='major', labelsize=12)  \n",
    "#ax2.text(1300, 20, 'MEC-4d',color=colorsSINGLES[0])\n",
    "ax2.set_xlabel('t (ms)',fontsize=12)\n",
    "ax2.set_ylabel('I (µA)',fontsize=12)\n",
    "ax2.spines['bottom'].set_visible(False) \n",
    "ax2.xaxis.set_visible(False)\n",
    "ax2.spines['left'].set_visible(False) \n",
    "ax2.yaxis.set_visible(False)\n",
    "ax2.text(-850, 19, 'MEC-4d',color=colorsSINGLES[0],fontsize=14)\n",
    "\n",
    "############\n",
    "\n",
    "# ax5.set_xlabel('MAKE NICE',fontsize=12)\n",
    "\n",
    "# ax6.set_xlabel('MAKE NICE',fontsize=12)\n",
    "# #ax6.legend(['300 µM Bmil'])\n",
    "# ax6.text(150, 5, '300 µM Bmil')\n",
    "\n",
    "\n",
    "\n",
    "\n",
    "#add Data and error bars\n",
    "ax3.errorbar(mg419_EIPA_Min60['concMicroMolar'],mg419_EIPA_Min60['Avg-mg419-EIPA-Min60'], yerr=mg419_EIPA_Min60['SEM-mg419-EIPA-Min60'], fmt='o', color = colorsSINGLES[0], label = 'MEC-4d')\n",
    "ax3.set_xlim([0.0000001, 10000])\n",
    "ax3.set_ylim([-0.1, 1.1])\n",
    "#spines\n",
    "ax3.spines['right'].set_visible(False)                                 \n",
    "ax3.spines['top'].set_visible(False)\n",
    "ax3.yaxis.set_ticks_position('left')                                     # ticks at the left\n",
    "ax3.xaxis.set_ticks_position('bottom')                                 # no spine at the right\n",
    "ax3.spines['left'].set_position(('outward',15))                           # a spine at the left that is put a little aside\n",
    "ax3.spines['bottom'].set_position(('outward',10))  \n",
    "ax3.spines['top'].set_position(('axes',5)) \n",
    "ax3.get_yaxis().set_tick_params(direction='in')\n",
    "ax3.get_xaxis().set_tick_params(direction='in')\n",
    "#a2.plot([-1,20], [0,0] , 'k--', color='#000000', linewidth=1)#gray line for Zero or 1        \n",
    "ax3.tick_params(axis='both', which='major', labelsize=10)  \n",
    "ax3.set_xlabel('EIPA (µM, log)',fontsize=12)\n",
    "ax3.set_ylabel('I norm (I/Imax)',fontsize=12)\n",
    "ax3.legend()\n",
    "ax3.legend(frameon=False,loc='upper center', bbox_to_anchor=(0.25, 0.20),handletextpad=0.05)\n",
    "#ax2.set_title(\"add legend drugs\")\n",
    "#a21.set_title('bla',size=18)\n",
    "#ax2.set_xticklabels([\"VOltages\"],rotation=30)\n",
    "#ax2.spines['bottom'].set_visible(False) \n",
    "#ax2.xaxis.set_visible(False)\n",
    "#add x and y labels\n",
    "#plt.ylabel('Reversal Potential (mV)', fontsize=14) \n",
    "#plt.xlabel('DEG/ENaC/ASIC subunits', fontsize=14)\n",
    "\n",
    "\n",
    "# add Km plot \n",
    "#### \n",
    "ax4.errorbar(KmEIPAmg419['Voltages'],KmEIPAmg419['mg419-Mean-Km-EIPA'], yerr=KmEIPAmg419['mg419-SEM-Km-EIPA'], fmt='o', color = colorsSINGLES[0])\n",
    "#ax3.errorbar(KmAsp['Voltages'],KmAsp['mg419-Mean-Km-Asp'], yerr=KmAsp['mg419-SD-Km-Asp'], fmt='o', color = 'blue')\n",
    "#ax3.errorbar(KmDiclo['Voltages'],KmDiclo['mg419-Mean-Km-Diclo'], yerr=KmDiclo['mg419-SD-Km-Diclo'], fmt='o', color = 'magenta')\n",
    "#ax3.errorbar(KmIbu['Voltages'][0:3],KmIbu['mg419-Mean-Km-Ibu'][0:3], yerr=KmIbu['mg419-SD-Km-Ibu'][0:3], fmt='o', color = 'black')\n",
    "#ax3.errorbar(KmIbu['Voltages'][5:9],KmIbu['mg419-Mean-Km-Ibu'][5:9], yerr=KmIbu['mg419-SD-Km-Ibu'][5:9], fmt='o', color = 'black')\n",
    "#ax3.set_xlim([0.0000001, 10000])\n",
    "ax4.set_ylim([0,40])\n",
    "#spines\n",
    "ax4.spines['right'].set_visible(False)                                 \n",
    "ax4.spines['top'].set_visible(False)\n",
    "ax4.yaxis.set_ticks_position('left')                                     # ticks at the left\n",
    "ax4.xaxis.set_ticks_position('bottom')                                 # no spine at the right\n",
    "ax4.spines['left'].set_position(('outward',15))                           # a spine at the left that is put a little aside\n",
    "ax4.spines['bottom'].set_position(('outward',10))  \n",
    "ax4.spines['top'].set_position(('axes',5)) \n",
    "ax4.get_yaxis().set_tick_params(direction='in')\n",
    "ax4.get_xaxis().set_tick_params(direction='in')\n",
    "ax4.set_xlabel('Voltage (mV)',fontsize=12)\n",
    "ax4.set_ylabel('IC50 (µM)',fontsize=12)\n",
    "\n",
    "\n",
    "####\n",
    "\n",
    "\n",
    "\n",
    "plt.gcf().subplots_adjust(bottom=0.25, left=0.1,hspace=0.6, wspace=0.65) \n",
    "\n",
    "\n",
    "\n",
    "###########################################################################################################\n",
    "#### add Hill Equations to plot\n",
    "#def func(x, Imax, n, Km): # Hill sigmoidal equation from zunzun.com \n",
    "def Hill(x, Imax, n, Km):\n",
    "    return  Imax * np.power(x, n) / (np.power(Km, n) + np.power(x, n)) \n",
    "\n",
    "#HILLBLOCK\n",
    "def Hillblock(xb, Imaxb, nb, Kmb):\n",
    "    return  Imaxb * np.power(Kmb, nb) / (np.power(Kmb, nb) + np.power(xb, nb)) \n",
    "\n",
    "xModel = np.logspace(-6, 4) #same for all\n",
    "\n",
    "#### Mean Hill values calulated at -60 mV\n",
    "MeanHillmg419EIPA = np.array([1,  1, KmEIPAmg419['mg419-Mean-Km-EIPA'][0]]) # [n,Imax,Km]\n",
    "y_mg419EIPA = Hillblock(xModel, *MeanHillmg419EIPA) #use fittedParameters or initialParameters(or others preciously calculated)\n",
    "#### \n",
    "\n",
    "\n",
    "\n",
    "### Individual curves\n",
    "ax3.plot(xModel, y_mg419EIPA, color = colorsSINGLES[0])\n",
    "\n",
    "\n",
    "\n",
    "plt.savefig(filedirManuscript+\"FigX-Supplementary-M4EIPA\"+'.pdf')\n"
   ]
  },
  {
   "cell_type": "markdown",
   "metadata": {},
   "source": [
    "### only UNC-8"
   ]
  },
  {
   "cell_type": "code",
   "execution_count": 61,
   "metadata": {},
   "outputs": [
    {
     "data": {
      "image/png": "[encoded data removed]",
      "text/plain": [
       "<Figure size 648x504 with 4 Axes>"
      ]
     },
     "metadata": {
      "needs_background": "light"
     },
     "output_type": "display_data"
    }
   ],
   "source": [
    "\n",
    "\n",
    "#Plot1\n",
    "\n",
    "#DEGT-1D\n",
    "fig = plt.figure(figsize=(9, 7)) \n",
    "\n",
    "# ax1 = plt.subplot(2,4,5)\n",
    "# for m in range(0,8):\n",
    "#     plt.plot(mg419BeforeMEAN[m][300:1400], color = colorsSINGLES[0])\n",
    "    \n",
    "# ax2 = plt.subplot(2,4,6)\n",
    "# for n in range(0,8):\n",
    "#     plt.plot(mg419EIPAMEAN[n][300:1400], color = colorsSINGLES[0])\n",
    "    \n",
    "# ax3 = plt.subplot(2,4,7)\n",
    "# plt.xscale('log')\n",
    "# ax4 = plt.subplot(2,4,8)\n",
    "\n",
    "\n",
    "#UNC-8D\n",
    "ax5 = plt.subplot(2,4,1)\n",
    "for i in range(0,8):\n",
    "    plt.plot(pTL69BeforeMEAN[i][300:1400], color = colorsSINGLES[1])\n",
    "ax6 = plt.subplot(2,4,2)\n",
    "for j in range(0,8):\n",
    "    plt.plot(pTL69BmilMEAN[j][300:1400], color = colorsSINGLES[1])\n",
    "ax7 = plt.subplot(2,4,3)\n",
    "plt.xscale('log')\n",
    "ax8 = plt.subplot(2,4,4)\n",
    "\n",
    "\n",
    "\n",
    "############\n",
    "\n",
    "#######\n",
    "##### ax3\n",
    "ax5.set_ylim([-10, 10])\n",
    "ax5.text(200, 8, '0 µM Bmil')\n",
    "#ax1.set_xlim([300, 1400])\n",
    "ax5.spines['right'].set_visible(False)                                  # no spine at the right\n",
    "ax5.spines['top'].set_visible(False)                                     # no spine at the top\n",
    "ax5.yaxis.set_ticks_position('left')                                     # ticks at the left\n",
    "ax5.xaxis.set_ticks_position('bottom')                                 # no spine at the right\n",
    "ax5.spines['left'].set_position(('outward',10))                           # a spine at the left that is put a little aside\n",
    "ax5.spines['bottom'].set_position(('outward',10))  \n",
    "#ax1.spines['top'].set_position(('axes',5)) \n",
    "ax5.get_yaxis().set_tick_params(direction='in')\n",
    "ax5.get_xaxis().set_tick_params(direction='in')\n",
    "# #ax1.plot([-1,20], [0,0] , 'k--', color='#000000', linewidth=1)#gray line for Zero or 1        \n",
    "ax5.tick_params(axis='both', which='major', labelsize=12)  \n",
    "ax5.set_xlabel('t (ms)',fontsize=12)\n",
    "ax5.set_ylabel('I (µA)',fontsize=12)\n",
    "#ax3.spines['bottom'].set_visible(False) \n",
    "#ax3.xaxis.set_visible(False)\n",
    "\n",
    "##### ax2\n",
    "ax6.set_ylim([-10, +10])\n",
    "ax6.text(120, 8,  '300 µM Bmil')\n",
    "# ax1.set_ylim([-150, 150])\n",
    "#ax1.set_xlim([300, 1400])\n",
    "ax6.spines['right'].set_visible(False)                                  # no spine at the right\n",
    "ax6.spines['top'].set_visible(False)                                     # no spine at the top\n",
    "ax6.yaxis.set_ticks_position('left')                                     # ticks at the left\n",
    "ax6.xaxis.set_ticks_position('bottom')                                 # no spine at the right\n",
    "ax6.spines['left'].set_position(('outward',10))                           # a spine at the left that is put a little aside\n",
    "ax6.spines['bottom'].set_position(('outward',10))  \n",
    "#ax1.spines['top'].set_position(('axes',5)) \n",
    "ax6.get_yaxis().set_tick_params(direction='in')\n",
    "ax6.get_xaxis().set_tick_params(direction='in')\n",
    "# ax1.plot([-1,20], [0,0] , 'k--', color='#000000', linewidth=1)#gray line for Zero or 1        \n",
    "ax6.tick_params(axis='both', which='major', labelsize=12)  \n",
    "#ax2.text(1300, 20, 'MEC-4d',color=colorsSINGLES[0])\n",
    "ax6.set_xlabel('t (ms)',fontsize=12)\n",
    "ax6.set_ylabel('I (µA)',fontsize=12)\n",
    "#ax4.spines['bottom'].set_visible(False) \n",
    "#ax4.xaxis.set_visible(False)\n",
    "ax6.spines['left'].set_visible(False) \n",
    "ax6.yaxis.set_visible(False)\n",
    "ax6.text(-750, 9, 'UNC-8d',color = colorsSINGLES[1],fontsize=14)\n",
    "\n",
    "\n",
    "\n",
    "# add Km plot \n",
    "\n",
    "\n",
    "####\n",
    "\n",
    "#### plot 5\n",
    "ax7.errorbar(pTL69_Bmil_Min60['concMicroMolar'],pTL69_Bmil_Min60['Avg-pTL69-Bmil-Min60'], yerr=pTL69_Bmil_Min60['SEM-pTL69-Bmil-Min60'], fmt='o', color = colorsSINGLES[1], label = 'UNC-8d')\n",
    "\n",
    "ax7.set_xlim([0.0000001, 10000])\n",
    "ax7.set_ylim([-0.1, 1.1])\n",
    "#spines\n",
    "ax7.spines['right'].set_visible(False)                                 \n",
    "ax7.spines['top'].set_visible(False)\n",
    "ax7.yaxis.set_ticks_position('left')                                     # ticks at the left\n",
    "ax7.xaxis.set_ticks_position('bottom')                                 # no spine at the right\n",
    "ax7.spines['left'].set_position(('outward',15))                           # a spine at the left that is put a little aside\n",
    "ax7.spines['bottom'].set_position(('outward',10))  \n",
    "ax7.spines['top'].set_position(('axes',5)) \n",
    "ax7.get_yaxis().set_tick_params(direction='in')\n",
    "ax7.get_xaxis().set_tick_params(direction='in')\n",
    "ax7.set_xlabel('Benzamil (µM, log)',fontsize=12)\n",
    "ax7.set_ylabel('I norm (I/Imax)',fontsize=12)\n",
    "ax7.legend()\n",
    "ax7.legend(frameon=False,loc='upper center', bbox_to_anchor=(0.25, 0.20),handletextpad=0.05)\n",
    "\n",
    "#### plot 6\n",
    "#### \n",
    "ax8.errorbar(KmBmilpTL69['Voltages'],KmBmilpTL69['pTL69-Mean-Km-Bmil'], yerr=KmBmilpTL69['pTL69-SEM-Km-Bmil'], fmt='o', color = colorsSINGLES[1])\n",
    "ax8.set_ylim([0,40])\n",
    "#sines\n",
    "ax8.spines['right'].set_visible(False)                                 \n",
    "ax8.spines['top'].set_visible(False)\n",
    "ax8.yaxis.set_ticks_position('left')                                     # ticks at the left\n",
    "ax8.xaxis.set_ticks_position('bottom')                                 # no spine at the right\n",
    "ax8.spines['left'].set_position(('outward',15))                           # a spine at the left that is put a little aside\n",
    "ax8.spines['bottom'].set_position(('outward',10))  \n",
    "ax8.spines['top'].set_position(('axes',5)) \n",
    "ax8.get_yaxis().set_tick_params(direction='in')\n",
    "ax8.get_xaxis().set_tick_params(direction='in')\n",
    "ax8.set_xlabel('Voltage (mV)',fontsize=12)\n",
    "ax8.set_ylabel('IC50 (µM)',fontsize=12)\n",
    "\n",
    "\n",
    "plt.gcf().subplots_adjust(bottom=0.3, left=0.1,hspace=0.6, wspace=0.65) \n",
    "\n",
    "\n",
    "\n",
    "###########################################################################################################\n",
    "#### add Hill Equations to plot\n",
    "#def func(x, Imax, n, Km): # Hill sigmoidal equation from zunzun.com \n",
    "def Hill(x, Imax, n, Km):\n",
    "    return  Imax * np.power(x, n) / (np.power(Km, n) + np.power(x, n)) \n",
    "\n",
    "#HILLBLOCK\n",
    "def Hillblock(xb, Imaxb, nb, Kmb):\n",
    "    return  Imaxb * np.power(Kmb, nb) / (np.power(Kmb, nb) + np.power(xb, nb)) \n",
    "\n",
    "xModel = np.logspace(-6, 4) #same for all\n",
    "\n",
    "#### Mean Hill values calulated at -60 mV\n",
    "\n",
    "MeanHillpTL69Bmil = np.array([1,  1, KmBmilpTL69['pTL69-Mean-Km-Bmil'][0]]) # [n,Imax,Km]\n",
    "y_pTL69Bmil = Hillblock(xModel, *MeanHillpTL69Bmil) #use fittedParameters or initialParameters(or others preciously calculated)\n",
    "#### \n",
    "\n",
    "\n",
    "### Individual curves\n",
    "\n",
    "ax7.plot(xModel, y_pTL69Bmil, color = colorsSINGLES[1])\n",
    "\n",
    "\n",
    "\n",
    "plt.savefig(filedirManuscript+\"FigX-Supplementary-UNC8Bmil\"+'.pdf')\n"
   ]
  },
  {
   "cell_type": "code",
   "execution_count": null,
   "metadata": {},
   "outputs": [],
   "source": []
  },
  {
   "cell_type": "code",
   "execution_count": null,
   "metadata": {},
   "outputs": [],
   "source": []
  },
  {
   "cell_type": "markdown",
   "metadata": {},
   "source": [
    "# how to fit data with the Hill equation example"
   ]
  },
  {
   "cell_type": "markdown",
   "metadata": {},
   "source": [
    "from this webpage \n",
    "\n",
    "https://stackoverflow.com/questions/55078451/how-to-use-curvefit-in-python"
   ]
  },
  {
   "cell_type": "code",
   "execution_count": 60,
   "metadata": {},
   "outputs": [
    {
     "name": "stdout",
     "output_type": "stream",
     "text": [
      "Parameters: [ 0.97403181  1.35110786 31.80662951]\n",
      "RMSE: 0.031909911942740204\n",
      "R-squared: 0.9934949909782368\n",
      "\n"
     ]
    }
   ],
   "source": [
    "import numpy, scipy, matplotlib\n",
    "import matplotlib.pyplot as plt\n",
    "from scipy.optimize import curve_fit\n",
    "import warnings\n",
    "\n",
    "# rename data for simpler code re-use later\n",
    "xData = mg419_Asp_Min100['concMicroMolar']\n",
    "yData = mg419_Ibu_Min100['Avg-mg419-Ibu-Min100']\n",
    "\n",
    "#def func(x, Imax, n, Km): # Hill sigmoidal equation from zunzun.com \n",
    "def Hill(x, Imax, n, Km):\n",
    "    return  Imax * numpy.power(x, n) / (numpy.power(Km, n) + numpy.power(x, n)) \n",
    "\n",
    "#n = Hill coeeficient\n",
    "\n",
    "# these are the same as the scipy defaults\n",
    "initialParameters = numpy.array([1.0, 1.0, 1.0])\n",
    "MeanParameters = numpy.array([1,  1, 3.39E+01]) #3.39E+01\n",
    "# [n,Imax,Km]\n",
    "\n",
    "\n",
    "\n",
    "###### For Individual Fitting or seeing how good the fit is ########\n",
    "# do not print unnecessary warnings during curve_fit()\n",
    "warnings.filterwarnings(\"ignore\")\n",
    "\n",
    "# curve fit the test data\n",
    "fittedParameters, pcov = curve_fit(Hill, xData, yData, initialParameters)\n",
    "\n",
    "modelPredictions = Hill(xData, *fittedParameters) \n",
    "\n",
    "absError = modelPredictions - yData\n",
    "\n",
    "SE = numpy.square(absError) # squared errors\n",
    "MSE = numpy.mean(SE) # mean squared errors\n",
    "RMSE = numpy.sqrt(MSE) # Root Mean Squared Error, RMSE\n",
    "Rsquared = 1.0 - (numpy.var(absError) / numpy.var(yData))\n",
    "\n",
    "print('Parameters:', fittedParameters)\n",
    "print('RMSE:', RMSE)\n",
    "print('R-squared:', Rsquared)\n",
    "\n",
    "print()"
   ]
  },
  {
   "cell_type": "code",
   "execution_count": 61,
   "metadata": {},
   "outputs": [
    {
     "data": {
      "text/plain": [
       "[<matplotlib.lines.Line2D at 0x7fadf56c7250>]"
      ]
     },
     "execution_count": 61,
     "metadata": {},
     "output_type": "execute_result"
    },
    {
     "data": {
      "image/png": "[encoded data removed]",
      "text/plain": [
       "<Figure size 864x432 with 1 Axes>"
      ]
     },
     "metadata": {
      "needs_background": "light"
     },
     "output_type": "display_data"
    }
   ],
   "source": [
    "fig = plt.figure(figsize=(12, 6)) \n",
    "\n",
    "ax1 = plt.subplot(2,3,1)\n",
    "plt.xscale('log')\n",
    "# first the raw data as a scatter plot\n",
    "ax1.plot(xData, yData,  'o')\n",
    "# create data for the fitted equation plot\n",
    "#xModel = numpy.linspace(min(xData), max(xData))\n",
    "\n",
    "xModel = numpy.logspace(-6, 4)\n",
    "yModel = Hill(xModel, *MeanParameters) #use fittedParameters or initialParameters(or others preciously calculated)\n",
    "ax1.plot(xModel, yModel)"
   ]
  },
  {
   "cell_type": "code",
   "execution_count": null,
   "metadata": {},
   "outputs": [],
   "source": []
  },
  {
   "cell_type": "code",
   "execution_count": null,
   "metadata": {},
   "outputs": [],
   "source": []
  },
  {
   "cell_type": "markdown",
   "metadata": {},
   "source": [
    "# old version FIGURE 6"
   ]
  },
  {
   "cell_type": "code",
   "execution_count": 62,
   "metadata": {
    "scrolled": true
   },
   "outputs": [
    {
     "data": {
      "text/plain": [
       "[<matplotlib.lines.Line2D at 0x7ff03f781fd0>]"
      ]
     },
     "execution_count": 62,
     "metadata": {},
     "output_type": "execute_result"
    },
    {
     "data": {
      "image/png": "[encoded data removed]",
      "text/plain": [
       "<Figure size 648x432 with 6 Axes>"
      ]
     },
     "metadata": {
      "needs_background": "light"
     },
     "output_type": "display_data"
    }
   ],
   "source": [
    "#Plot1 old figure 6\n",
    "fig = plt.figure(figsize=(9, 6)) \n",
    "\n",
    "ax1 = plt.subplot(2,3,1)\n",
    "ax2 = plt.subplot(2,3,2)\n",
    "plt.xscale('log')\n",
    "ax3 = plt.subplot(2,3,3)\n",
    "\n",
    "ax4 = plt.subplot(2,3,4)\n",
    "plt.xscale('log')\n",
    "ax5 = plt.subplot(2,3,5)\n",
    "plt.xscale('log')\n",
    "ax6 = plt.subplot(2,3,6)\n",
    "plt.xscale('log')\n",
    "\n",
    "\n",
    "## add Km plot \n",
    "#### \n",
    "ax3.errorbar(KmIbu['Voltages'],KmIbu['mg419-Mean-Km-Ibu'], yerr=KmIbu['mg419-SD-Km-Ibu'], fmt='o', color = 'black')\n",
    "ax3.errorbar(KmAsp['Voltages'],KmAsp['mg419-Mean-Km-Asp'], yerr=KmAsp['mg419-SD-Km-Asp'], fmt='o', color = 'blue')\n",
    "ax3.errorbar(KmDiclo['Voltages'],KmDiclo['mg419-Mean-Km-Diclo'], yerr=KmDiclo['mg419-SD-Km-Diclo'], fmt='o', color = 'magenta')\n",
    "#ax3.errorbar(KmIbu['Voltages'][0:3],KmIbu['mg419-Mean-Km-Ibu'][0:3], yerr=KmIbu['mg419-SD-Km-Ibu'][0:3], fmt='o', color = 'black')\n",
    "#ax3.errorbar(KmIbu['Voltages'][5:9],KmIbu['mg419-Mean-Km-Ibu'][5:9], yerr=KmIbu['mg419-SD-Km-Ibu'][5:9], fmt='o', color = 'black')\n",
    "#ax3.set_xlim([0.0000001, 10000])\n",
    "ax3.set_ylim([-50,300])\n",
    "#spines\n",
    "ax3.spines['right'].set_visible(False)                                 \n",
    "ax3.spines['top'].set_visible(False)\n",
    "ax3.yaxis.set_ticks_position('left')                                     # ticks at the left\n",
    "ax3.xaxis.set_ticks_position('bottom')                                 # no spine at the right\n",
    "ax3.spines['left'].set_position(('outward',15))                           # a spine at the left that is put a little aside\n",
    "ax3.spines['bottom'].set_position(('outward',10))  \n",
    "ax3.spines['top'].set_position(('axes',5)) \n",
    "ax3.get_yaxis().set_tick_params(direction='in')\n",
    "ax3.get_xaxis().set_tick_params(direction='in')\n",
    "ax3.set_xlabel('Voltage (mV)',fontsize=12)\n",
    "ax3.set_ylabel('EC50 (µM)',fontsize=12)\n",
    "\n",
    "#add Data and error bars\n",
    "ax2.errorbar(mg419_Ibu_Min100['concMicroMolar'],mg419_Ibu_Min100['Avg-mg419-Ibu-Min100'], yerr=mg419_Ibu_Min100['SEM-mg419-Ibu-Min100'], fmt='o', color = 'black')\n",
    "ax2.errorbar(mg419_Asp_Min100['concMicroMolar'],mg419_Asp_Min100['Avg-mg419-Asp-Min100'], yerr=mg419_Asp_Min100['SEM-mg419-Asp-Min100'], fmt='o', color = 'blue')\n",
    "ax2.errorbar(mg419_Diclo_Min100['concMicroMolar'],mg419_Diclo_Min100['Avg-mg419-Diclo-Min100'], yerr=mg419_Diclo_Min100['SEM-mg419-Diclo-Min100'], fmt='o', color = 'magenta')\n",
    "#plt.scatter(mg419_Ibu_Min100['concMicroMolar'],mg419_Ibu_Min100['Avg-mg419-Ibu-Min100'], color = 'black')\n",
    "\n",
    "ax2.set_xlim([0.001, 10000])\n",
    "ax2.set_ylim([0, 1.1])\n",
    "#spines\n",
    "ax2.spines['right'].set_visible(False)                                 \n",
    "ax2.spines['top'].set_visible(False)\n",
    "ax2.yaxis.set_ticks_position('left')                                     # ticks at the left\n",
    "ax2.xaxis.set_ticks_position('bottom')                                 # no spine at the right\n",
    "ax2.spines['left'].set_position(('outward',15))                           # a spine at the left that is put a little aside\n",
    "ax2.spines['bottom'].set_position(('outward',10))  \n",
    "ax2.spines['top'].set_position(('axes',5)) \n",
    "ax2.get_yaxis().set_tick_params(direction='in')\n",
    "ax2.get_xaxis().set_tick_params(direction='in')\n",
    "#ax2.plot([-1,20], [0,0] , 'k--', color='#000000', linewidth=1)#gray line for Zero or 1        \n",
    "ax2.tick_params(axis='both', which='major', labelsize=10)  \n",
    "ax2.set_xlabel('Drugs (µM, log)',fontsize=12)\n",
    "ax2.set_ylabel('I norm (I/Imax)',fontsize=12)\n",
    "ax2.set_title(\"add legend drugs\")\n",
    "#a21.set_title('bla',size=18)\n",
    "#ax2.set_xticklabels([\"VOltages\"],rotation=30)\n",
    "#ax2.spines['bottom'].set_visible(False) \n",
    "#ax2.xaxis.set_visible(False)\n",
    "#add x and y labels\n",
    "#plt.ylabel('Reversal Potential (mV)', fontsize=14) \n",
    "#plt.xlabel('DEG/ENaC/ASIC subunits', fontsize=14)\n",
    "\n",
    "\n",
    "####\n",
    "ax4.errorbar(mg419_Ibu_Min100['concMicroMolar'],mg419_Ibu_Min100['Avg-mg419-Ibu-Min100'], yerr=mg419_Ibu_Min100['SEM-mg419-Ibu-Min100'], fmt='o', color = 'black')\n",
    "ax4.errorbar(mg602_Ibu_Min100['concMicroMolar'],mg602_Ibu_Min100['Avg-mg602-Ibu-Min100'], yerr=mg602_Ibu_Min100['SEM-mg602-Ibu-Min100'], fmt='v', color = 'black')\n",
    "ax4.errorbar(mg687_Ibu_Min100['concMicroMolar'],mg687_Ibu_Min100['Avg-mg687-Ibu-Min100'], yerr=mg687_Ibu_Min100['SEM-mg687-Ibu-Min100'], fmt='*', color = 'black')\n",
    "\n",
    "ax4.set_xlim([0.001, 10000])\n",
    "ax4.set_ylim([0, 1.1])\n",
    "#spines\n",
    "ax4.spines['right'].set_visible(False)                                 \n",
    "ax4.spines['top'].set_visible(False)\n",
    "ax4.yaxis.set_ticks_position('left')                                     # ticks at the left\n",
    "ax4.xaxis.set_ticks_position('bottom')                                 # no spine at the right\n",
    "ax4.spines['left'].set_position(('outward',15))                           # a spine at the left that is put a little aside\n",
    "ax4.spines['bottom'].set_position(('outward',10))  \n",
    "ax4.spines['top'].set_position(('axes',5)) \n",
    "ax4.get_yaxis().set_tick_params(direction='in')\n",
    "ax4.get_xaxis().set_tick_params(direction='in')\n",
    "ax4.set_xlabel('Ibuprofen (µM, log)',fontsize=12)\n",
    "ax4.set_ylabel('I norm (I/Imax)',fontsize=12)\n",
    "ax4.set_title(\"add legend mutants\")\n",
    "\n",
    "#### plot 5\n",
    "ax5.errorbar(mg419_Asp_Min100['concMicroMolar'],mg419_Asp_Min100['Avg-mg419-Asp-Min100'], yerr=mg419_Asp_Min100['SEM-mg419-Asp-Min100'], fmt='o', color = 'blue')\n",
    "ax5.errorbar(mg602_Asp_Min100['concMicroMolar'],mg602_Asp_Min100['Avg-mg602-Asp-Min100'], yerr=mg602_Asp_Min100['SEM-mg602-Asp-Min100'], fmt='v', color = 'blue')\n",
    "\n",
    "ax5.set_xlim([0.001, 10000])\n",
    "ax5.set_ylim([0, 1.1])\n",
    "#spines\n",
    "ax5.spines['right'].set_visible(False)                                 \n",
    "ax5.spines['top'].set_visible(False)\n",
    "ax5.yaxis.set_ticks_position('left')                                     # ticks at the left\n",
    "ax5.xaxis.set_ticks_position('bottom')                                 # no spine at the right\n",
    "ax5.spines['left'].set_position(('outward',15))                           # a spine at the left that is put a little aside\n",
    "ax5.spines['bottom'].set_position(('outward',10))  \n",
    "ax5.spines['top'].set_position(('axes',5)) \n",
    "ax5.get_yaxis().set_tick_params(direction='in')\n",
    "ax5.get_xaxis().set_tick_params(direction='in')\n",
    "ax5.set_xlabel('Aspirin (µM, log)',fontsize=12)\n",
    "ax5.set_ylabel('I norm (I/Imax)',fontsize=12)\n",
    "\n",
    "#### plot 6\n",
    "\n",
    "ax6.errorbar(mg419_Diclo_Min100['concMicroMolar'],mg419_Diclo_Min100['Avg-mg419-Diclo-Min100'], yerr=mg419_Diclo_Min100['SEM-mg419-Diclo-Min100'], fmt='o', color = 'magenta')\n",
    "ax6.errorbar(mg602_Diclo_Min100['concMicroMolar'],mg602_Diclo_Min100['Avg-mg602-Diclo-Min100'], yerr=mg602_Diclo_Min100['SEM-mg602-Diclo-Min100'], fmt='v', color = 'magenta')\n",
    "\n",
    "ax6.set_xlim([0.001, 10000])\n",
    "ax6.set_ylim([0, 1.1])\n",
    "#ax1.set_ylim([0.2, 0.3])\n",
    "#spines\n",
    "ax6.spines['right'].set_visible(False)                                 \n",
    "ax6.spines['top'].set_visible(False)\n",
    "ax6.yaxis.set_ticks_position('left')                                     # ticks at the left\n",
    "ax6.xaxis.set_ticks_position('bottom')                                 # no spine at the right\n",
    "ax6.spines['left'].set_position(('outward',15))                           # a spine at the left that is put a little aside\n",
    "ax6.spines['bottom'].set_position(('outward',10))  \n",
    "ax6.spines['top'].set_position(('axes',5)) \n",
    "ax6.get_yaxis().set_tick_params(direction='in')\n",
    "ax6.get_xaxis().set_tick_params(direction='in')\n",
    "ax6.set_xlabel('Diclofenac (µM, log)',fontsize=12)\n",
    "ax6.set_ylabel('I norm (I/Imax)',fontsize=12)\n",
    "\n",
    "plt.gcf().subplots_adjust(bottom=0.3, left=0.1,hspace=0.5, wspace=0.6) \n",
    "\n",
    "\n",
    "\n",
    "###########################################################################################################\n",
    "#### add Hill Equations to plot\n",
    "#def func(x, Imax, n, Km): # Hill sigmoidal equation from zunzun.com \n",
    "def Hill(x, Imax, n, Km):\n",
    "    return  Imax * np.power(x, n) / (np.power(Km, n) + np.power(x, n)) \n",
    "\n",
    "xModel = np.logspace(-6, 4) #same for all\n",
    "\n",
    "#### Mean Hill values calulated at -100 mV\n",
    "MeanHillmg419Ibu = np.array([1,  1, KmIbu['mg419-Mean-Km-Ibu'][0]]) # [n,Imax,Km]\n",
    "y_mg419Ibu = Hill(xModel, *MeanHillmg419Ibu) #use fittedParameters or initialParameters(or others preciously calculated)\n",
    "#### \n",
    "MeanHillmg602Ibu = np.array([1,  1, KmIbu['mg602-Mean-Km-Ibu'][0]]) # [n,Imax,Km]\n",
    "y_mg602Ibu = Hill(xModel, *MeanHillmg602Ibu) \n",
    "#### \n",
    "MeanHillmg687Ibu = np.array([1,  1, 1.95E+01]) # [n,Imax,Km]\n",
    "y_mg687Ibu = Hill(xModel, *MeanHillmg687Ibu) \n",
    "\n",
    "#### ASPIRIN #### \n",
    "MeanHillmg419Asp = np.array([1,  1, KmAsp['mg419-Mean-Km-Asp'][0]]) # [n,Imax,Km]\n",
    "y_mg419Asp = Hill(xModel, *MeanHillmg419Asp) \n",
    "###mg602\n",
    "MeanHillmg602Asp = np.array([1,  1, KmAsp['mg602-Mean-Km-Asp'][0]]) # [n,Imax,Km]\n",
    "y_mg602Asp = Hill(xModel, *MeanHillmg602Asp) \n",
    "\n",
    "#### Diclofenac#### \n",
    "MeanHillmg419Diclo = np.array([1,  1, KmDiclo['mg419-Mean-Km-Diclo'][0]]) # [n,Imax,Km]\n",
    "y_mg419Diclo = Hill(xModel, *MeanHillmg419Diclo) \n",
    "#### mg602\n",
    "MeanHillmg602Diclo = np.array([1,  1, KmDiclo['mg602-Mean-Km-Diclo'][0]]) # [n,Imax,Km]\n",
    "y_mg602Diclo = Hill(xModel, *MeanHillmg602Diclo) \n",
    "\n",
    "ax2.plot(xModel, y_mg419Ibu, \"black\")\n",
    "ax2.plot(xModel, y_mg419Asp, \"blue\")\n",
    "ax2.plot(xModel, y_mg419Diclo, \"magenta\")\n",
    "\n",
    "### Individual curves\n",
    "ax4.plot(xModel, y_mg419Ibu, \"black\")\n",
    "ax4.plot(xModel, y_mg602Ibu,'black',linestyle='--')\n",
    "ax4.plot(xModel, y_mg687Ibu,'black',linestyle=':')\n",
    "\n",
    "ax5.plot(xModel, y_mg419Asp, \"blue\")\n",
    "ax5.plot(xModel, y_mg602Asp, \"blue\",linestyle='--')\n",
    "\n",
    "ax6.plot(xModel, y_mg419Diclo, \"magenta\")\n",
    "ax6.plot(xModel, y_mg602Diclo, \"magenta\",linestyle='--')\n",
    "\n",
    "#plt.savefig(filedirManuscript+\"Fig6-DoseResponse\"+'.pdf')\n"
   ]
  },
  {
   "cell_type": "code",
   "execution_count": 63,
   "metadata": {},
   "outputs": [
    {
     "data": {
      "text/plain": [
       "127.09469230769228"
      ]
     },
     "execution_count": 63,
     "metadata": {},
     "output_type": "execute_result"
    }
   ],
   "source": [
    "KmIbu['mg602-Mean-Km-Ibu'][0]"
   ]
  },
  {
   "cell_type": "code",
   "execution_count": null,
   "metadata": {},
   "outputs": [],
   "source": []
  },
  {
   "cell_type": "code",
   "execution_count": null,
   "metadata": {},
   "outputs": [],
   "source": []
  },
  {
   "cell_type": "code",
   "execution_count": null,
   "metadata": {},
   "outputs": [],
   "source": []
  },
  {
   "cell_type": "code",
   "execution_count": null,
   "metadata": {},
   "outputs": [],
   "source": []
  },
  {
   "cell_type": "code",
   "execution_count": null,
   "metadata": {},
   "outputs": [],
   "source": []
  }
 ],
 "metadata": {
  "kernelspec": {
   "display_name": "Python 3",
   "language": "python",
   "name": "python3"
  },
  "language_info": {
   "codemirror_mode": {
    "name": "ipython",
    "version": 3
   },
   "file_extension": ".py",
   "mimetype": "text/x-python",
   "name": "python",
   "nbconvert_exporter": "python",
   "pygments_lexer": "ipython3",
   "version": "3.7.4"
  }
 },
 "nbformat": 4,
 "nbformat_minor": 2
}
