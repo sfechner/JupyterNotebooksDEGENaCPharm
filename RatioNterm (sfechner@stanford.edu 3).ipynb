{
 "cells": [
  {
   "cell_type": "code",
   "execution_count": 1,
   "metadata": {},
   "outputs": [
    {
     "name": "stderr",
     "output_type": "stream",
     "text": [
      "/Users/wormsenselab/anaconda3/envs/dabest/lib/python3.7/site-packages/matplotlib/__init__.py:1003: UserWarning: Duplicate key in file \"/Users/Fechner/.matplotlib/matplotlibrc\", line #3\n",
      "  (fname, cnt))\n",
      "/Users/wormsenselab/anaconda3/envs/dabest/lib/python3.7/site-packages/matplotlib/__init__.py:1003: UserWarning: Duplicate key in file \"/Users/Fechner/.matplotlib/matplotlibrc\", line #4\n",
      "  (fname, cnt))\n"
     ]
    }
   ],
   "source": [
    "from matplotlib import pyplot as plt\n",
    "import numpy as np\n",
    "%matplotlib inline\n",
    "from matplotlib import gridspec\n",
    "from matplotlib import rcParams\n",
    "from scipy.optimize import curve_fit\n",
    "import scipy.stats as stats\n",
    "from matplotlib import lines\n",
    "import seaborn as sns\n",
    "plt.rcParams['pdf.fonttype'] = 42 # to be able to change text in pdf opened with illustrator\n",
    "plt.rcParams['ps.fonttype'] = 42\n",
    "#import scipy.stats as stats\n",
    "from statsmodels.stats import multicomp \n",
    "from scipy import stats\n",
    "import dabest\n",
    "\n",
    "import pandas as pd\n",
    "import glob\n",
    "\n",
    "import tkinter as tk\n",
    "from tkinter import filedialog#to open dialog box to choose file\n",
    "from tkinter.filedialog import askopenfilename"
   ]
  },
  {
   "cell_type": "code",
   "execution_count": 3,
   "metadata": {},
   "outputs": [],
   "source": [
    "# Add heka_reader to PYTHONPATH\n",
    "import sys\n",
    "fpath = '/Users/Fechner/PythonStuff/heka_reader'\n",
    "sys.path.append(fpath)"
   ]
  },
  {
   "cell_type": "markdown",
   "metadata": {},
   "source": [
    "### switch to my directory and check if I am in the correct directory"
   ]
  },
  {
   "cell_type": "code",
   "execution_count": 4,
   "metadata": {},
   "outputs": [
    {
     "name": "stdout",
     "output_type": "stream",
     "text": [
      "/Users/Fechner/Box Sync/Fechner/TEVC-GoodmanlabBOX/Project-STFX/AnalysisSTFX/AnalysisNterm\n"
     ]
    }
   ],
   "source": [
    "cd ~/Box Sync/Fechner/TEVC-GoodmanlabBOX/Project-STFX/AnalysisSTFX/AnalysisNterm\n"
   ]
  },
  {
   "cell_type": "markdown",
   "metadata": {},
   "source": [
    "## Ratio plots are a result of the Matlab script TEVCAnalyzeLoopSTFX.m found on github analyzing mean values of 3 recordings for several conditions \n",
    "\n",
    "https://github.com/sfechner/AnalysisFunction/tree/master/TEVC"
   ]
  },
  {
   "cell_type": "code",
   "execution_count": 6,
   "metadata": {},
   "outputs": [],
   "source": [
    "filedir ='/Users/Fechner/Box Sync/Fechner/TEVC-GoodmanlabBOX/Project-STFX/AnalysisSTFX/AnalysisNterm/'\n",
    "# filedirManuscript ='/Users/Fechner/Dropbox/ManuscriptFechnerPharmacology/Figures/ExportedFromNotebook/'\n",
    "# filedirManuscriptStat ='/Users/Fechner/Dropbox/ManuscriptFechnerPharmacology/Statistics/'\n",
    "\n",
    "#CHANGE USER NAME ON PRIVATE LAPTOP TO Fechner or be more clever about the Filename\n",
    "\n",
    "#root = tk.Tk()\n",
    "#root.withdraw() not sure if necessary, description to avoid opening full gui\n",
    "\n",
    "#either choose a cetain file or open dialog box\n",
    "#certain file\n",
    "filename = 'RatioNterm-20201026.xlsx'\n",
    "\n",
    "\n"
   ]
  },
  {
   "cell_type": "code",
   "execution_count": 7,
   "metadata": {},
   "outputs": [
    {
     "name": "stdout",
     "output_type": "stream",
     "text": [
      "RatioNterm-20201026.xlsx\n"
     ]
    },
    {
     "data": {
      "text/html": [
       "<div>\n",
       "<style scoped>\n",
       "    .dataframe tbody tr th:only-of-type {\n",
       "        vertical-align: middle;\n",
       "    }\n",
       "\n",
       "    .dataframe tbody tr th {\n",
       "        vertical-align: top;\n",
       "    }\n",
       "\n",
       "    .dataframe thead th {\n",
       "        text-align: right;\n",
       "    }\n",
       "</style>\n",
       "<table border=\"1\" class=\"dataframe\">\n",
       "  <thead>\n",
       "    <tr style=\"text-align: right;\">\n",
       "      <th></th>\n",
       "      <th>CellIDRec</th>\n",
       "      <th>Injection</th>\n",
       "      <th>CultivationSol</th>\n",
       "      <th>DaysPostInj</th>\n",
       "      <th>Rating</th>\n",
       "      <th>StartSol</th>\n",
       "      <th>TestSol</th>\n",
       "      <th>MeanSTART</th>\n",
       "      <th>MeanTEST</th>\n",
       "      <th>DELTA</th>\n",
       "      <th>RATIO</th>\n",
       "      <th>VrevSTART</th>\n",
       "      <th>VrevTEST</th>\n",
       "      <th>DELTAVrev</th>\n",
       "      <th>copyCELL</th>\n",
       "      <th>RestingVM</th>\n",
       "    </tr>\n",
       "  </thead>\n",
       "  <tbody>\n",
       "    <tr>\n",
       "      <th>0</th>\n",
       "      <td>STFX105001</td>\n",
       "      <td>mg419mg012</td>\n",
       "      <td>L-15(300Amil)</td>\n",
       "      <td>4</td>\n",
       "      <td>2.5</td>\n",
       "      <td>NaGluSel1</td>\n",
       "      <td>NaGluSelAmil300</td>\n",
       "      <td>-1.205231e-05</td>\n",
       "      <td>-3.208448e-07</td>\n",
       "      <td>1.173147e-05</td>\n",
       "      <td>0.026621</td>\n",
       "      <td>-0.010119</td>\n",
       "      <td>-0.058635</td>\n",
       "      <td>-0.048516</td>\n",
       "      <td>STFX105001</td>\n",
       "      <td>NaN</td>\n",
       "    </tr>\n",
       "    <tr>\n",
       "      <th>1</th>\n",
       "      <td>STFX105001</td>\n",
       "      <td>mg419mg012</td>\n",
       "      <td>L-15(300Amil)</td>\n",
       "      <td>4</td>\n",
       "      <td>2.5</td>\n",
       "      <td>NaGluSelAmil300</td>\n",
       "      <td>NaGluSel2</td>\n",
       "      <td>-3.208448e-07</td>\n",
       "      <td>-8.292098e-06</td>\n",
       "      <td>-7.971253e-06</td>\n",
       "      <td>25.844570</td>\n",
       "      <td>-0.058635</td>\n",
       "      <td>-0.010901</td>\n",
       "      <td>0.047734</td>\n",
       "      <td>NaN</td>\n",
       "      <td>NaN</td>\n",
       "    </tr>\n",
       "    <tr>\n",
       "      <th>2</th>\n",
       "      <td>STFX105003</td>\n",
       "      <td>mg751mg012</td>\n",
       "      <td>L-15(300Amil)</td>\n",
       "      <td>4</td>\n",
       "      <td>3.0</td>\n",
       "      <td>NaGluSel1</td>\n",
       "      <td>NaGluSelAmil300</td>\n",
       "      <td>-3.059278e-05</td>\n",
       "      <td>-1.594895e-06</td>\n",
       "      <td>2.899788e-05</td>\n",
       "      <td>0.052133</td>\n",
       "      <td>-0.007020</td>\n",
       "      <td>-0.033100</td>\n",
       "      <td>-0.026080</td>\n",
       "      <td>NaN</td>\n",
       "      <td>NaN</td>\n",
       "    </tr>\n",
       "    <tr>\n",
       "      <th>3</th>\n",
       "      <td>STFX105003</td>\n",
       "      <td>mg751mg012</td>\n",
       "      <td>L-15(300Amil)</td>\n",
       "      <td>4</td>\n",
       "      <td>3.0</td>\n",
       "      <td>NaGluSelAmil300</td>\n",
       "      <td>NaGluSel2</td>\n",
       "      <td>-1.594895e-06</td>\n",
       "      <td>-2.531582e-05</td>\n",
       "      <td>-2.372092e-05</td>\n",
       "      <td>15.873040</td>\n",
       "      <td>-0.033100</td>\n",
       "      <td>-0.007504</td>\n",
       "      <td>0.025595</td>\n",
       "      <td>NaN</td>\n",
       "      <td>NaN</td>\n",
       "    </tr>\n",
       "    <tr>\n",
       "      <th>4</th>\n",
       "      <td>STFX105004</td>\n",
       "      <td>mg758mg012</td>\n",
       "      <td>L-15(300Amil)</td>\n",
       "      <td>4</td>\n",
       "      <td>3.0</td>\n",
       "      <td>NaGluSel1</td>\n",
       "      <td>NaGluSelAmil300</td>\n",
       "      <td>-1.950847e-07</td>\n",
       "      <td>-2.006971e-07</td>\n",
       "      <td>-5.612408e-09</td>\n",
       "      <td>1.028769</td>\n",
       "      <td>-0.035235</td>\n",
       "      <td>-0.037840</td>\n",
       "      <td>-0.002605</td>\n",
       "      <td>NaN</td>\n",
       "      <td>NaN</td>\n",
       "    </tr>\n",
       "  </tbody>\n",
       "</table>\n",
       "</div>"
      ],
      "text/plain": [
       "    CellIDRec   Injection CultivationSol  DaysPostInj  Rating  \\\n",
       "0  STFX105001  mg419mg012  L-15(300Amil)            4     2.5   \n",
       "1  STFX105001  mg419mg012  L-15(300Amil)            4     2.5   \n",
       "2  STFX105003  mg751mg012  L-15(300Amil)            4     3.0   \n",
       "3  STFX105003  mg751mg012  L-15(300Amil)            4     3.0   \n",
       "4  STFX105004  mg758mg012  L-15(300Amil)            4     3.0   \n",
       "\n",
       "          StartSol          TestSol     MeanSTART      MeanTEST         DELTA  \\\n",
       "0        NaGluSel1  NaGluSelAmil300 -1.205231e-05 -3.208448e-07  1.173147e-05   \n",
       "1  NaGluSelAmil300        NaGluSel2 -3.208448e-07 -8.292098e-06 -7.971253e-06   \n",
       "2        NaGluSel1  NaGluSelAmil300 -3.059278e-05 -1.594895e-06  2.899788e-05   \n",
       "3  NaGluSelAmil300        NaGluSel2 -1.594895e-06 -2.531582e-05 -2.372092e-05   \n",
       "4        NaGluSel1  NaGluSelAmil300 -1.950847e-07 -2.006971e-07 -5.612408e-09   \n",
       "\n",
       "       RATIO  VrevSTART  VrevTEST  DELTAVrev    copyCELL  RestingVM  \n",
       "0   0.026621  -0.010119 -0.058635  -0.048516  STFX105001        NaN  \n",
       "1  25.844570  -0.058635 -0.010901   0.047734         NaN        NaN  \n",
       "2   0.052133  -0.007020 -0.033100  -0.026080         NaN        NaN  \n",
       "3  15.873040  -0.033100 -0.007504   0.025595         NaN        NaN  \n",
       "4   1.028769  -0.035235 -0.037840  -0.002605         NaN        NaN  "
      ]
     },
     "execution_count": 7,
     "metadata": {},
     "output_type": "execute_result"
    }
   ],
   "source": [
    "#pandas environment\n",
    "print(filename)\n",
    "xl = pd.ExcelFile(filedir+filename)\n",
    "xl.sheet_names\n",
    "\n",
    "df = xl.parse(\"Sheet1\",converters={'CultivationSol': str}) #calls for Sheet names \n",
    "df.head()"
   ]
  },
  {
   "cell_type": "markdown",
   "metadata": {},
   "source": [
    "# color/hardcoded\n"
   ]
  },
  {
   "cell_type": "code",
   "execution_count": 8,
   "metadata": {},
   "outputs": [],
   "source": [
    "colors = [\"red\",\"blue\",(0.30, 0.69, 0.29),(0.00, 0.00, 0.00),(0.22, 0.49, 0.72),(1.00, 0.50, 0.00),\"darkgreen\",(0.30, 0.69, 0.29),(0.30, 0.69, 0.29),(0.6, 0.31, 0.64)]\n",
    "# colorsSINGLES = [(0.30, 0.69, 0.29),(0.60, 0.31,0.64),(0.89, 0.11,0.10),(1, 0.50,0),(0.22,0.49,0.72),(0.00, 0.00, 0.00),\"red\",\"blue\",(0.00, 0.00, 0.00),(0.22, 0.49, 0.72),(1.00, 0.50, 0.00),\"darkgreen\",(0.30, 0.69, 0.29),(0.30, 0.69, 0.29),(0.6, 0.31, 0.64)]\n",
    "# colorsPharma = [(0.30, 0.69, 0.29),(0.60, 0.31,0.64),(0.89, 0.11,0.10),(0.00, 0.00, 0.00),(0.22,0.49,0.72),(0.00, 0.00, 0.00),\"red\",\"blue\",(0.00, 0.00, 0.00),(0.22, 0.49, 0.72),(1.00, 0.50, 0.00),\"darkgreen\",(0.30, 0.69, 0.29),(0.30, 0.69, 0.29),(0.6, 0.31, 0.64)]\n",
    "# colorsEST = [(0.00, 0.00, 0.00),(0.89, 0.11,0.10),(0.60, 0.31,0.64),(0.30, 0.69, 0.29),(1, 0.50,0),(0.22,0.49,0.72),(0.00, 0.00, 0.00),\"red\",\"blue\",(0.00, 0.00, 0.00),(0.22, 0.49, 0.72),(1.00, 0.50, 0.00)]\n",
    "# colorsESTAll = [(0.00, 0.00, 0.00),(0.89, 0.11,0.10),(0.60, 0.31,0.64),(0.22, 0.49, 0.72),(1.00, 0.50, 0.00),(0.30, 0.69, 0.29),(1, 0.50,0),(0.22,0.49,0.72)]"
   ]
  },
  {
   "cell_type": "markdown",
   "metadata": {},
   "source": [
    "# Plotting EST DATA before and after drug application to see soze of current and change in current"
   ]
  },
  {
   "cell_type": "markdown",
   "metadata": {},
   "source": [
    "## sort current by injeciton"
   ]
  },
  {
   "cell_type": "markdown",
   "metadata": {},
   "source": [
    "mg755 = MEC-4 Nterm ..... mg756\n",
    "\n",
    "mg733               ..... mg736\n",
    "\n",
    "mg734               .... mg737\n",
    "\n",
    "mg735               .... 757\n",
    "\n",
    "mg742               ....  758"
   ]
  },
  {
   "cell_type": "markdown",
   "metadata": {},
   "source": [
    "mg738\n",
    "\n",
    "mg739\n",
    "\n",
    "mg740\n",
    "\n",
    "mg741\n",
    "\n",
    "mg748\n",
    "\n",
    "mg759\n",
    "\n",
    "mg745\n",
    "\n",
    "mg752\n",
    "\n"
   ]
  },
  {
   "cell_type": "code",
   "execution_count": 44,
   "metadata": {},
   "outputs": [],
   "source": [
    "UninjAmil300 = df[(df.Injection.isin([\"uninjected\"])) & (df.TestSol.isin([\"NaGluSelAmil300\"]))]\n",
    "mg738Amil300 = df[(df.Injection.isin([\"mg738mg012\"])) & (df.TestSol.isin([\"NaGluSelAmil300\"]))]\n",
    "mg739Amil300 = df[(df.Injection.isin([\"mg739mg012\"])) & (df.TestSol.isin([\"NaGluSelAmil300\"]))]\n",
    "mg740Amil300 = df[(df.Injection.isin([\"mg740mg012\"])) & (df.TestSol.isin([\"NaGluSelAmil300\"]))]"
   ]
  },
  {
   "cell_type": "code",
   "execution_count": 46,
   "metadata": {},
   "outputs": [
    {
     "data": {
      "text/html": [
       "<div>\n",
       "<style scoped>\n",
       "    .dataframe tbody tr th:only-of-type {\n",
       "        vertical-align: middle;\n",
       "    }\n",
       "\n",
       "    .dataframe tbody tr th {\n",
       "        vertical-align: top;\n",
       "    }\n",
       "\n",
       "    .dataframe thead th {\n",
       "        text-align: right;\n",
       "    }\n",
       "</style>\n",
       "<table border=\"1\" class=\"dataframe\">\n",
       "  <thead>\n",
       "    <tr style=\"text-align: right;\">\n",
       "      <th></th>\n",
       "      <th>CellIDRec</th>\n",
       "      <th>Injection</th>\n",
       "      <th>CultivationSol</th>\n",
       "      <th>DaysPostInj</th>\n",
       "      <th>Rating</th>\n",
       "      <th>StartSol</th>\n",
       "      <th>TestSol</th>\n",
       "      <th>MeanSTART</th>\n",
       "      <th>MeanTEST</th>\n",
       "      <th>DELTA</th>\n",
       "      <th>RATIO</th>\n",
       "      <th>VrevSTART</th>\n",
       "      <th>VrevTEST</th>\n",
       "      <th>DELTAVrev</th>\n",
       "      <th>copyCELL</th>\n",
       "      <th>RestingVM</th>\n",
       "    </tr>\n",
       "  </thead>\n",
       "  <tbody>\n",
       "    <tr>\n",
       "      <th>256</th>\n",
       "      <td>STFX100004</td>\n",
       "      <td>mg740mg012</td>\n",
       "      <td>L-15(300Amil)</td>\n",
       "      <td>4</td>\n",
       "      <td>3.0</td>\n",
       "      <td>NaGluSel1</td>\n",
       "      <td>NaGluSelAmil300</td>\n",
       "      <td>-0.000003</td>\n",
       "      <td>-1.080386e-07</td>\n",
       "      <td>0.000003</td>\n",
       "      <td>0.031191</td>\n",
       "      <td>0.026640</td>\n",
       "      <td>-0.054522</td>\n",
       "      <td>-0.081162</td>\n",
       "      <td>NaN</td>\n",
       "      <td>NaN</td>\n",
       "    </tr>\n",
       "    <tr>\n",
       "      <th>266</th>\n",
       "      <td>STFX100010</td>\n",
       "      <td>mg740mg012</td>\n",
       "      <td>L-15(300Amil)</td>\n",
       "      <td>4</td>\n",
       "      <td>3.0</td>\n",
       "      <td>NaGluSel1</td>\n",
       "      <td>NaGluSelAmil300</td>\n",
       "      <td>-0.000002</td>\n",
       "      <td>-1.606656e-07</td>\n",
       "      <td>0.000002</td>\n",
       "      <td>0.096131</td>\n",
       "      <td>0.014279</td>\n",
       "      <td>-0.047649</td>\n",
       "      <td>-0.061928</td>\n",
       "      <td>NaN</td>\n",
       "      <td>NaN</td>\n",
       "    </tr>\n",
       "    <tr>\n",
       "      <th>274</th>\n",
       "      <td>STFX100016</td>\n",
       "      <td>mg740mg012</td>\n",
       "      <td>L-15(300Amil)</td>\n",
       "      <td>5</td>\n",
       "      <td>3.0</td>\n",
       "      <td>NaGluSel1</td>\n",
       "      <td>NaGluSelAmil300</td>\n",
       "      <td>-0.000015</td>\n",
       "      <td>-2.233541e-07</td>\n",
       "      <td>0.000015</td>\n",
       "      <td>0.015096</td>\n",
       "      <td>0.000560</td>\n",
       "      <td>-0.055933</td>\n",
       "      <td>-0.056492</td>\n",
       "      <td>NaN</td>\n",
       "      <td>NaN</td>\n",
       "    </tr>\n",
       "    <tr>\n",
       "      <th>284</th>\n",
       "      <td>STFX100021</td>\n",
       "      <td>mg740mg012</td>\n",
       "      <td>L-15(300Amil)</td>\n",
       "      <td>5</td>\n",
       "      <td>4.0</td>\n",
       "      <td>NaGluSel1</td>\n",
       "      <td>NaGluSelAmil300</td>\n",
       "      <td>-0.000004</td>\n",
       "      <td>-2.331330e-07</td>\n",
       "      <td>0.000003</td>\n",
       "      <td>0.064036</td>\n",
       "      <td>0.001665</td>\n",
       "      <td>-0.053298</td>\n",
       "      <td>-0.054964</td>\n",
       "      <td>NaN</td>\n",
       "      <td>NaN</td>\n",
       "    </tr>\n",
       "    <tr>\n",
       "      <th>290</th>\n",
       "      <td>STFX100026</td>\n",
       "      <td>mg740mg012</td>\n",
       "      <td>L-15(300Amil)</td>\n",
       "      <td>6</td>\n",
       "      <td>3.0</td>\n",
       "      <td>NaGluSel1</td>\n",
       "      <td>NaGluSelAmil300</td>\n",
       "      <td>-0.000002</td>\n",
       "      <td>-2.843750e-07</td>\n",
       "      <td>0.000002</td>\n",
       "      <td>0.120587</td>\n",
       "      <td>0.012352</td>\n",
       "      <td>-0.023537</td>\n",
       "      <td>-0.035888</td>\n",
       "      <td>NaN</td>\n",
       "      <td>NaN</td>\n",
       "    </tr>\n",
       "    <tr>\n",
       "      <th>298</th>\n",
       "      <td>STFX100031</td>\n",
       "      <td>mg740mg012</td>\n",
       "      <td>L-15(300Amil)</td>\n",
       "      <td>6</td>\n",
       "      <td>3.0</td>\n",
       "      <td>NaGluSel1</td>\n",
       "      <td>NaGluSelAmil300</td>\n",
       "      <td>-0.000005</td>\n",
       "      <td>-9.738720e-08</td>\n",
       "      <td>0.000005</td>\n",
       "      <td>0.020249</td>\n",
       "      <td>-0.000137</td>\n",
       "      <td>-0.076855</td>\n",
       "      <td>-0.076718</td>\n",
       "      <td>NaN</td>\n",
       "      <td>NaN</td>\n",
       "    </tr>\n",
       "  </tbody>\n",
       "</table>\n",
       "</div>"
      ],
      "text/plain": [
       "      CellIDRec   Injection CultivationSol  DaysPostInj  Rating   StartSol  \\\n",
       "256  STFX100004  mg740mg012  L-15(300Amil)            4     3.0  NaGluSel1   \n",
       "266  STFX100010  mg740mg012  L-15(300Amil)            4     3.0  NaGluSel1   \n",
       "274  STFX100016  mg740mg012  L-15(300Amil)            5     3.0  NaGluSel1   \n",
       "284  STFX100021  mg740mg012  L-15(300Amil)            5     4.0  NaGluSel1   \n",
       "290  STFX100026  mg740mg012  L-15(300Amil)            6     3.0  NaGluSel1   \n",
       "298  STFX100031  mg740mg012  L-15(300Amil)            6     3.0  NaGluSel1   \n",
       "\n",
       "             TestSol  MeanSTART      MeanTEST     DELTA     RATIO  VrevSTART  \\\n",
       "256  NaGluSelAmil300  -0.000003 -1.080386e-07  0.000003  0.031191   0.026640   \n",
       "266  NaGluSelAmil300  -0.000002 -1.606656e-07  0.000002  0.096131   0.014279   \n",
       "274  NaGluSelAmil300  -0.000015 -2.233541e-07  0.000015  0.015096   0.000560   \n",
       "284  NaGluSelAmil300  -0.000004 -2.331330e-07  0.000003  0.064036   0.001665   \n",
       "290  NaGluSelAmil300  -0.000002 -2.843750e-07  0.000002  0.120587   0.012352   \n",
       "298  NaGluSelAmil300  -0.000005 -9.738720e-08  0.000005  0.020249  -0.000137   \n",
       "\n",
       "     VrevTEST  DELTAVrev copyCELL  RestingVM  \n",
       "256 -0.054522  -0.081162      NaN        NaN  \n",
       "266 -0.047649  -0.061928      NaN        NaN  \n",
       "274 -0.055933  -0.056492      NaN        NaN  \n",
       "284 -0.053298  -0.054964      NaN        NaN  \n",
       "290 -0.023537  -0.035888      NaN        NaN  \n",
       "298 -0.076855  -0.076718      NaN        NaN  "
      ]
     },
     "execution_count": 46,
     "metadata": {},
     "output_type": "execute_result"
    }
   ],
   "source": [
    "mg740Amil300"
   ]
  },
  {
   "cell_type": "markdown",
   "metadata": {},
   "source": [
    "## declare variables for before and after"
   ]
  },
  {
   "cell_type": "code",
   "execution_count": 52,
   "metadata": {},
   "outputs": [],
   "source": [
    "UninjAmil300BeforeAmil = UninjAmil300 [\"MeanSTART\"]\n",
    "UninjAmil300BeforeAmil = UninjAmil300BeforeAmil.rename('Uninj-Amil')\n",
    "A = UninjAmil300BeforeAmil\n",
    "\n",
    "UninjAmil300AfterAmil = UninjAmil300[\"MeanTEST\"]\n",
    "UninjAmil300AfterAmil = UninjAmil300AfterAmil.rename('Uninj+Amil')\n",
    "B = UninjAmil300AfterAmil"
   ]
  },
  {
   "cell_type": "code",
   "execution_count": 53,
   "metadata": {},
   "outputs": [],
   "source": [
    "mg738Amil300BeforeAmil = mg738Amil300 [\"MeanSTART\"]\n",
    "mg738Amil300BeforeAmil = mg738Amil300BeforeAmil.rename('mg738-Amil')\n",
    "C = mg738Amil300BeforeAmil\n",
    "\n",
    "mg738Amil300AfterAmil = mg738Amil300[\"MeanTEST\"]\n",
    "mg738Amil300AfterAmil = mg738Amil300AfterAmil.rename('mg738+Amil')\n",
    "D = mg738Amil300AfterAmil"
   ]
  },
  {
   "cell_type": "code",
   "execution_count": 54,
   "metadata": {},
   "outputs": [],
   "source": [
    "mg739Amil300BeforeAmil = mg739Amil300 [\"MeanSTART\"]\n",
    "mg739Amil300BeforeAmil = mg739Amil300BeforeAmil.rename('mg739-Amil')\n",
    "E = mg739Amil300BeforeAmil\n",
    "\n",
    "mg739Amil300AfterAmil = mg739Amil300[\"MeanTEST\"]\n",
    "mg739Amil300AfterAmil = mg739Amil300AfterAmil.rename('mg739+Amil')\n",
    "F = mg739Amil300AfterAmil"
   ]
  },
  {
   "cell_type": "code",
   "execution_count": 55,
   "metadata": {},
   "outputs": [],
   "source": [
    "mg740Amil300BeforeAmil = mg740Amil300 [\"MeanSTART\"]\n",
    "mg740Amil300BeforeAmil = mg740Amil300BeforeAmil.rename('mg740-Amil')\n",
    "G = mg740Amil300BeforeAmil\n",
    "\n",
    "mg740Amil300AfterAmil = mg740Amil300[\"MeanTEST\"]\n",
    "mg740Amil300AfterAmil = mg740Amil300AfterAmil.rename('mg740+Amil')\n",
    "H = mg740Amil300AfterAmil"
   ]
  },
  {
   "cell_type": "markdown",
   "metadata": {},
   "source": [
    "## concatenate data"
   ]
  },
  {
   "cell_type": "code",
   "execution_count": 49,
   "metadata": {},
   "outputs": [],
   "source": [
    "\n",
    "#concatenateData\n",
    "ChangeConcatAmilAlanin = pd.concat([A.reset_index(drop=True),B.reset_index(drop=True),\n",
    "                              C.reset_index(drop=True),D.reset_index(drop=True),\n",
    "                                    E.reset_index(drop=True),F.reset_index(drop=True),\n",
    "                                    G.reset_index(drop=True),H.reset_index(drop=True),\n",
    "                              ],sort=False, axis=1)\n",
    "\n",
    "#sort=False removed the warning, but no idea what its doin\n",
    "ChangeConcatuAAmilAlanin = ChangeConcatAmilAlanin.astype(float)*1000000\n",
    "#print(ChangeConcatalone)\n",
    "multi_2group_Alanin = dabest.load(ChangeConcatuAAmilAlanin, idx=(('Uninj-Amil', 'Uninj+Amil',),\n",
    "                                                           ('mg738-Amil', 'mg738+Amil',),\n",
    "                                                                    ('mg739-Amil', 'mg739+Amil',),\n",
    "                                                          ))\n",
    "\n",
    "                                "
   ]
  },
  {
   "cell_type": "code",
   "execution_count": 50,
   "metadata": {},
   "outputs": [
    {
     "data": {
      "image/png": "[encoded data removed]",
      "text/plain": [
       "<Figure size 280x380 with 2 Axes>"
      ]
     },
     "metadata": {
      "needs_background": "light"
     },
     "output_type": "display_data"
    }
   ],
   "source": [
    "#plt.figure(figsize=(3.5, 3)) \n",
    "fig1= multi_2group_Alanin.mean_diff.plot(swarm_ylim=(-3,0.5), contrast_ylim=(-2,5), fig_size=(2.8, 3.8),  raw_marker_size=(2),es_marker_size=2,contrast_label='Amil mediated\\n current ΔI(µA)',\n",
    "                                    swarm_label='I (µA)',custom_palette=colors, reflines_kwargs = {'linestyle':'dashed', 'linewidth':0.75})#,reflines_kwargs\n",
    "\n",
    "\n",
    "fig1.axes[0].plot([-1,20], [0,0], 'k-', color='#000000', linewidth=1)\n",
    "#fig1.axes[1].plot([-1,20], [-1,-1], 'k--', color='#000000', linewidth=1)\n",
    "fig1.axes[0].tick_params(axis='both', which='major', labelsize=8)  \n",
    "fig1.axes[1].tick_params(axis='both', which='major', labelsize=8)  \n",
    "#fig1 = plot([-1,1], [0,0])# , 'k--', color='#000000', linewidth=1)\n",
    "#ax1.spines['left'].set_position(('outward',35))\n",
    "\n",
    "\n",
    "labels = ['0','100','0','300','0','100','0','300']\n",
    "fig1.axes[0].set_xticklabels(labels, rotation=30, ha='right')\n",
    "# fig1.axes[0].text(0.13, -12.5, 'Ibu (µM)')\n",
    "# fig1.axes[0].text(4.0, -12.5, 'Asp  (µM)')\n",
    "\n",
    "\n",
    "labels2 = ['','Uninj','','Uninj','','DEGT-1d','','DEGT-1d']\n",
    "fig1.axes[1].set_xticklabels(labels2, rotation=30, ha='right')\n",
    "\n",
    "#plt.gcf().subplots_adjust(bottom=0.2, left=0.3,right=None, top=None,hspace=1.5, wspace=0.2) \n",
    "plt.gcf().subplots_adjust(bottom=0.17, left=0.25,right=None, top=None,hspace=0.75, wspace=0.2) \n",
    "# plt.savefig(filedirManuscript+\"Fig3-supplement-AmilHigher\"+'.pdf')\n"
   ]
  },
  {
   "cell_type": "code",
   "execution_count": null,
   "metadata": {},
   "outputs": [],
   "source": []
  }
 ],
 "metadata": {
  "kernelspec": {
   "display_name": "Python 3",
   "language": "python",
   "name": "python3"
  },
  "language_info": {
   "codemirror_mode": {
    "name": "ipython",
    "version": 3
   },
   "file_extension": ".py",
   "mimetype": "text/x-python",
   "name": "python",
   "nbconvert_exporter": "python",
   "pygments_lexer": "ipython3",
   "version": "3.7.4"
  }
 },
 "nbformat": 4,
 "nbformat_minor": 2
}
