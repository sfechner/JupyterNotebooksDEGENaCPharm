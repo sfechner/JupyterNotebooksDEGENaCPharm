{
 "cells": [
  {
   "cell_type": "code",
   "execution_count": 1,
   "metadata": {},
   "outputs": [
    {
     "name": "stderr",
     "output_type": "stream",
     "text": [
      "/Users/wormsenselab/anaconda3/envs/dabest/lib/python3.7/site-packages/matplotlib/__init__.py:1003: UserWarning: Duplicate key in file \"/Users/Fechner/.matplotlib/matplotlibrc\", line #3\n",
      "  (fname, cnt))\n",
      "/Users/wormsenselab/anaconda3/envs/dabest/lib/python3.7/site-packages/matplotlib/__init__.py:1003: UserWarning: Duplicate key in file \"/Users/Fechner/.matplotlib/matplotlibrc\", line #4\n",
      "  (fname, cnt))\n"
     ]
    }
   ],
   "source": [
    "from matplotlib import pyplot as plt\n",
    "import numpy as np\n",
    "%matplotlib inline\n",
    "from matplotlib import gridspec\n",
    "from matplotlib import rcParams\n",
    "from scipy.optimize import curve_fit\n",
    "import scipy.stats as stats\n",
    "from matplotlib import lines\n",
    "import seaborn as sns\n",
    "\n",
    "\n",
    "import pandas as pd\n",
    "import glob\n",
    "\n",
    "#thinter to tbe able to choose a meta data file\n",
    "#import tkinter as tk\n",
    "#from tkinter import filedialog#to open dialog box to choose file\n",
    "#from tkinter.filedialog import askopenfilename"
   ]
  },
  {
   "cell_type": "markdown",
   "metadata": {},
   "source": [
    "### HARDCODING THE IMPORT HEKA PATH"
   ]
  },
  {
   "cell_type": "code",
   "execution_count": 2,
   "metadata": {},
   "outputs": [],
   "source": [
    "# Add heka_reader to PYTHONPATH\n",
    "import sys\n",
    "#fpath = '/Users/Fechner/PythonStuff/heka_reader' #initial version delete\n",
    "fpath = '/Users/Fechner/Dropbox/PythonImport/heka_reader' #MAC\n",
    "sys.path.append(fpath)\n",
    "import heka_reader"
   ]
  },
  {
   "cell_type": "markdown",
   "metadata": {},
   "source": [
    "### got the heka reader from here\n",
    "https://github.com/campagnola/heka_reader\n",
    "\n",
    "- clone the repository to your computer (move to directory with terminal commands. Mine here is called PythonStuff at the moment: change name)\n",
    "    - git clone https://github.com/campagnola/heka_reader.git\n",
    "- the heka reader enables to read and access the .dat files (to work in jupyter notebook, you habe to append the heka_reader to the path where the heka reader is stored)\n",
    "- browser.py enables to easily browse for recordings within a .dat comparable to Igor or other similar programs\n",
    "- I changed the following in my local browser.py version, because the functions output was a tuple:\n",
    "    - def load_clicked():\n",
    "    - Display a file dialog to select a .dat file\n",
    "    - file_name = pg.QtGui.QFileDialog.getOpenFileName()\n",
    "    - if isinstance(file_name, tuple):   (ADDED THIS LINE)\n",
    "        -    file_name = file_name[0]    (ADDED THIS LINE)\n",
    "    - if file_name == '':\n",
    "        -    return\n",
    "    - load(file_name)"
   ]
  },
  {
   "cell_type": "markdown",
   "metadata": {},
   "source": [
    "### Brief example for heka_reader: we changed \n",
    "\n",
    "    # Load a .dat file\n",
    "    bundle = Bundle(file_name)\n",
    "    \n",
    "    # Select a trace\n",
    "    trace = bundle.pul[group_ind][series_ind][sweep_ind][trace_ind]\n",
    "    \n",
    "    # Print meta-data for this trace\n",
    "    print(trace)\n",
    "    \n",
    "    # Load data for this trace\n",
    "    data = bundle.data[group_id, series_id, sweep_ind, trace_ind]"
   ]
  },
  {
   "cell_type": "markdown",
   "metadata": {},
   "source": [
    "### HARDCODING:\n",
    "- Choose differen Reprensentive Traces for NaGLu Figure 1\n",
    "- enter hardcoding part: choose frog ID (e.g. STFX073) and Recording ID (e.g. '001') for each recording condition\n",
    "- identify series and sweeps per recording and excel sheet"
   ]
  },
  {
   "cell_type": "markdown",
   "metadata": {},
   "source": [
    "#### change initial directory to datFilesSTFX "
   ]
  },
  {
   "cell_type": "code",
   "execution_count": 3,
   "metadata": {},
   "outputs": [
    {
     "name": "stdout",
     "output_type": "stream",
     "text": [
      "/Users/Fechner/Box Sync/Fechner/TEVC-GoodmanlabBOX/Project-STFX/datFilesSTFX\n"
     ]
    }
   ],
   "source": [
    "cd ~/Box Sync/Fechner/TEVC-GoodmanlabBOX/Project-STFX/datFilesSTFX"
   ]
  },
  {
   "cell_type": "code",
   "execution_count": 4,
   "metadata": {},
   "outputs": [
    {
     "name": "stdout",
     "output_type": "stream",
     "text": [
      "/Users/Fechner/Box Sync/Fechner/TEVC-GoodmanlabBOX/Project-STFX/MetaDataSTFX/MetaDelta/\n"
     ]
    }
   ],
   "source": [
    "####### Hardcoding the data path to your device ####\n",
    "Changefiledir ='/Users/Fechner/Box Sync/Fechner/'\n",
    "\n",
    "#### doesn't need to be changed for TEVC analysis ###\n",
    "filedir = Changefiledir + 'TEVC-GoodmanlabBOX/Project-STFX/MetaDataSTFX/MetaDelta/'\n",
    "filedirManuscript ='/Users/Fechner/Dropbox/ManuscriptFechnerPharmacology/Figures/ExportedFromNotebook/'\n",
    "\n",
    "#CHANGE USER NAME ON PRIVATE LAPTOP TO Fechner or be more clever about the Filename\n",
    "print(filedir)"
   ]
  },
  {
   "cell_type": "code",
   "execution_count": 5,
   "metadata": {},
   "outputs": [],
   "source": [
    "####### hardcoding ########## FOR NaGLu FIgure 1 ######\n",
    "#enter here different IDs\n",
    "#mg419 = M4d (A713T)\n",
    "mg419frog = 'STFX075'#'STFX073'\n",
    "mg419RecNr = '006' #'021'\n",
    "mg419Series = 8-1 #it's actially the group from heka\n",
    "#STFX075006\n",
    "#STFX073021 - group 17  voltage clamp errors\n",
    "\n",
    "\n",
    "#mg418 = DEGT-1d (A813T)\n",
    "mg418frog = 'STFX034' \n",
    "mg418RecNr = '061'\n",
    "mg418Series = 19-1\n",
    "#STFX034061 mean: -7.29E-07; Vrev: -2.02E-02 \n",
    "\n",
    "#pTL69 = U8d (XXXX) #STFX071-029 nice recording UNC-8d pTL69 meanStart: -1.90E-06\n",
    "pTL69frog = 'STFX071'\n",
    "pTL69RecNr = '029' \n",
    "pTL69Series = 11-1\n",
    "\n",
    "#mg512 = MEC-10d (A673V) #STFX071-029 nice recording UNC-8d pTL69 meanStart: -1.90E-06\n",
    "mg512frog = 'STFX041'\n",
    "mg512RecNr = '039' \n",
    "mg512Series = 5-1\n",
    "#STFX040034 group 6 has outward current\n",
    "#STFX041039 mean current -1.45E-07, Vev -3.76E-02\n",
    "\n",
    "#pTL070 - ADD DEL-1d here\n",
    "pTL70frog = 'STFX091'#\n",
    "pTL70RecNr = '009' #\n",
    "pTL70Series = 17-1\n",
    "\n",
    "\n",
    "#uninjected\n",
    "uninjfrog = 'STFX043'\n",
    "uninjRecNr = '033' \n",
    "uninjSeries = 3-1\n",
    "#STFX043033 -1.45E-07 6.82E-01\n"
   ]
  },
  {
   "cell_type": "code",
   "execution_count": 6,
   "metadata": {
    "scrolled": true
   },
   "outputs": [
    {
     "data": {
      "text/plain": [
       "'/Users/Fechner/Box Sync/Fechner/TEVC-GoodmanlabBOX/Project-STFX/datFilesSTFX'"
      ]
     },
     "execution_count": 6,
     "metadata": {},
     "output_type": "execute_result"
    }
   ],
   "source": [
    "pwd"
   ]
  },
  {
   "cell_type": "markdown",
   "metadata": {},
   "source": [
    "### The text below finds the .datfile belonging to the recording mg419frog/mg419RecNr "
   ]
  },
  {
   "cell_type": "code",
   "execution_count": 7,
   "metadata": {
    "scrolled": true
   },
   "outputs": [],
   "source": [
    "#find filename belonging to recording\n",
    "\n",
    "mg419filename = 'TEVCMeta'+ mg419frog +'.xlsx'\n",
    "#mg419Recording = mg419frog + mg419RecNr #maybe trouble with - in .dat file. matlab ignored all of them. hekareader not\n",
    "mg419xl = pd.ExcelFile(filedir+mg419filename)#converters={'names':str,'ages':str}\n",
    "mg419xl.sheet_names\n",
    "mg419df = mg419xl.parse(\"Sheet1\",converters={'Filename': np.int64,'ContRamp1550': np.int64,'NaGlu1': np.int64}) #calls for Sheet names \n",
    "mg419Recording = mg419frog + mg419RecNr\n",
    "\n",
    "pTL69filename = 'TEVCMeta'+ pTL69frog +'.xlsx'\n",
    "pTL69xl = pd.ExcelFile(filedir+pTL69filename)#converters={'names':str,'ages':str}\n",
    "pTL69xl.sheet_names\n",
    "pTL69df = pTL69xl.parse(\"Sheet1\",converters={'Filename': np.int64,'ContRamp1550': np.int64,'NaGlu1': np.int64}) #calls for Sheet names \n",
    "pTL69Recording = pTL69frog + pTL69RecNr\n",
    "\n",
    "mg418filename = 'TEVCMeta'+ mg418frog +'.xlsx'\n",
    "mg418xl = pd.ExcelFile(filedir+mg418filename)\n",
    "mg418xl.sheet_names\n",
    "mg418df = mg418xl.parse(\"Sheet1\",converters={'Filename': np.int64,'ContRamp1550': np.int64,'NaGlu1': np.int64}) #calls for Sheet names \n",
    "mg418Recording = mg418frog + mg418RecNr\n",
    "\n",
    "mg512filename = 'TEVCMeta'+ mg512frog +'.xlsx'\n",
    "mg512xl = pd.ExcelFile(filedir+mg512filename)\n",
    "mg512xl.sheet_names\n",
    "mg512df = mg512xl.parse(\"Sheet1\",converters={'Filename': np.int64,'ContRamp1550': np.int64,'NaGlu1': np.int64}) #calls for Sheet names \n",
    "mg512Recording = mg512frog + mg512RecNr\n",
    "\n",
    "pTL70filename = 'TEVCMeta'+ pTL70frog +'.xlsx'\n",
    "pTL70xl = pd.ExcelFile(filedir+pTL70filename)\n",
    "pTL70xl.sheet_names\n",
    "pTL70df = pTL70xl.parse(\"Sheet1\",converters={'Filename': np.int64,'ContRamp1550': np.int64,'NaGlu1': np.int64}) #calls for Sheet names \n",
    "pTL70Recording = pTL70frog + pTL70RecNr\n",
    "\n",
    "uninjfilename = 'TEVCMeta'+ uninjfrog +'.xlsx'\n",
    "uninjxl = pd.ExcelFile(filedir+uninjfilename)\n",
    "uninjxl.sheet_names\n",
    "uninjdf = uninjxl.parse(\"Sheet1\",converters={'Filename': np.int64,'ContRamp1550': np.int64,'NaGlu1': np.int64}) #calls for Sheet names \n",
    "uninjRecording = uninjfrog + uninjRecNr\n",
    "\n",
    "\n",
    "#find the .dat file name in the MetaData sheet of the corresponding recording\n",
    "mg419DatFile = mg419df.Filename[(mg419df.CellID == mg419Recording)]#.values[0] #values[0] gives me the integer directly. no need for iloc\n",
    "pTL69DatFile = pTL69df.Filename[(pTL69df.CellID == pTL69Recording)]\n",
    "mg418DatFile = mg418df.Filename[(mg418df.CellID == mg418Recording)]\n",
    "mg512DatFile = mg512df.Filename[(mg512df.CellID == mg512Recording)]\n",
    "pTL70DatFile = pTL70df.Filename[(pTL70df.CellID == pTL70Recording)]\n",
    "uninjDatFile = uninjdf.Filename[(uninjdf.CellID == uninjRecording)]\n",
    "\n"
   ]
  },
  {
   "cell_type": "code",
   "execution_count": 8,
   "metadata": {},
   "outputs": [
    {
     "data": {
      "text/plain": [
       "6    20190916\n",
       "Name: Filename, dtype: int64"
      ]
     },
     "execution_count": 8,
     "metadata": {},
     "output_type": "execute_result"
    }
   ],
   "source": [
    "pTL70DatFile"
   ]
  },
  {
   "cell_type": "markdown",
   "metadata": {},
   "source": [
    "### load dat files\n"
   ]
  },
  {
   "cell_type": "code",
   "execution_count": 9,
   "metadata": {},
   "outputs": [],
   "source": [
    "# Load a .dat file\n",
    "mg419loadFile = heka_reader.Bundle(str(mg419DatFile.iloc[0])+'.dat')\n",
    "pTL69loadFile = heka_reader.Bundle(str(pTL69DatFile.iloc[0])+'.dat')\n",
    "mg418loadFile = heka_reader.Bundle(str(mg418DatFile.iloc[0])+'.dat')\n",
    "mg512loadFile = heka_reader.Bundle(str(mg512DatFile.iloc[0])+'.dat')\n",
    "pTL70loadFile = heka_reader.Bundle(str(pTL70DatFile.iloc[0])+'.dat')\n",
    "uninjloadFile = heka_reader.Bundle(str(uninjDatFile.iloc[0])+'.dat')\n",
    "\n",
    "#add other .dat files too"
   ]
  },
  {
   "cell_type": "markdown",
   "metadata": {},
   "source": [
    "### ToDo: Figure out how to simplify calculation of mean "
   ]
  },
  {
   "cell_type": "markdown",
   "metadata": {},
   "source": [
    "### caculate mean values NaGlu-1 \n",
    "\n",
    "TODO: How to figure out the series number or access the recordung via the label????"
   ]
  },
  {
   "cell_type": "code",
   "execution_count": 10,
   "metadata": {
    "scrolled": true
   },
   "outputs": [
    {
     "data": {
      "text/plain": [
       "2"
      ]
     },
     "execution_count": 10,
     "metadata": {},
     "output_type": "execute_result"
    }
   ],
   "source": [
    "#find the value of the sweep entered in meta data sheet for NaGlu-1\n",
    "mg419LastSweepNaGlu = mg419df.NaGlu1[(mg419df.CellID == mg419Recording)]\n",
    "mg419CountRamp = mg419df.ContRamp1550[(mg419df.CellID == mg419Recording)]\n",
    "### add other cell IDs here, too ####\n",
    "\n",
    "mg419dataVol1 = mg419loadFile.data[mg419Series,mg419CountRamp.iloc[0]-1,mg419LastSweepNaGlu.iloc[0]-1 ,1]# remember python nomenclature\n",
    "mg419dataVol2 = mg419loadFile.data[mg419Series,mg419CountRamp.iloc[0]-1,mg419LastSweepNaGlu.iloc[0]-2 ,1]\n",
    "mg419dataVol3 = mg419loadFile.data[mg419Series,mg419CountRamp.iloc[0]-1,mg419LastSweepNaGlu.iloc[0]-3 ,1]\n",
    "\n",
    "mg419dataCur1 = mg419loadFile.data[mg419Series,mg419CountRamp.iloc[0]-1,mg419LastSweepNaGlu.iloc[0]-1 ,0]# remember python nomenclature\n",
    "mg419dataCur2 = mg419loadFile.data[mg419Series,mg419CountRamp.iloc[0]-1,mg419LastSweepNaGlu.iloc[0]-2 ,0]\n",
    "mg419dataCur3 = mg419loadFile.data[mg419Series,mg419CountRamp.iloc[0]-1,mg419LastSweepNaGlu.iloc[0]-3 ,0]\n",
    "\n",
    "mg419dataVol = (mg419dataVol1+mg419dataVol2+mg419dataVol3)/3*1000\n",
    "mg419dataCur = (mg419dataCur1+mg419dataCur2+mg419dataCur3)/3*1000000\n",
    "\n",
    "\n",
    "##### calculate for pTL69\n",
    "#find the value of the sweep entered in meta data sheet for NaGlu-1\n",
    "pTL69LastSweepNaGlu = pTL69df.NaGlu1[(pTL69df.CellID == pTL69Recording)]\n",
    "pTL69CountRamp = pTL69df.ContRamp1550[(pTL69df.CellID == pTL69Recording)]\n",
    "\n",
    "pTL69dataVol1 = pTL69loadFile.data[pTL69Series,pTL69CountRamp.iloc[0]-1,pTL69LastSweepNaGlu.iloc[0]-1 ,1]# remember python nomenclature\n",
    "pTL69dataVol2 = pTL69loadFile.data[pTL69Series,pTL69CountRamp.iloc[0]-1,pTL69LastSweepNaGlu.iloc[0]-2 ,1]\n",
    "pTL69dataVol3 = pTL69loadFile.data[pTL69Series,pTL69CountRamp.iloc[0]-1,pTL69LastSweepNaGlu.iloc[0]-3 ,1]\n",
    "\n",
    "pTL69dataCur1 = pTL69loadFile.data[pTL69Series,pTL69CountRamp.iloc[0]-1,pTL69LastSweepNaGlu.iloc[0]-1 ,0]# remember python nomenclature\n",
    "pTL69dataCur2 = pTL69loadFile.data[pTL69Series,pTL69CountRamp.iloc[0]-1,pTL69LastSweepNaGlu.iloc[0]-2 ,0]\n",
    "pTL69dataCur3 = pTL69loadFile.data[pTL69Series,pTL69CountRamp.iloc[0]-1,pTL69LastSweepNaGlu.iloc[0]-3 ,0]\n",
    "\n",
    "pTL69SeriesdataVol = (pTL69dataVol1+pTL69dataVol2+pTL69dataVol3)/3*1000\n",
    "pTL69SeriesdataCur = (pTL69dataCur1+pTL69dataCur2+pTL69dataCur3)/3*1000000\n",
    "\n",
    "##### calculate for mg418\n",
    "#find the value of the sweep entered in meta data sheet for NaGlu-1\n",
    "mg418LastSweepNaGlu = mg418df.NaGlu1[(mg418df.CellID == mg418Recording)]\n",
    "mg418CountRamp = mg418df.ContRamp1550[(mg418df.CellID == mg418Recording)]\n",
    "\n",
    "mg418dataVol1 = mg418loadFile.data[mg418Series,mg418CountRamp.iloc[0]-1,mg418LastSweepNaGlu.iloc[0]-1 ,1]# remember python nomenclature\n",
    "mg418dataVol2 = mg418loadFile.data[mg418Series,mg418CountRamp.iloc[0]-1,mg418LastSweepNaGlu.iloc[0]-2 ,1]\n",
    "mg418dataVol3 = mg418loadFile.data[mg418Series,mg418CountRamp.iloc[0]-1,mg418LastSweepNaGlu.iloc[0]-3 ,1]\n",
    "\n",
    "mg418dataCur1 = mg418loadFile.data[mg418Series,mg418CountRamp.iloc[0]-1,mg418LastSweepNaGlu.iloc[0]-1 ,0]# remember python nomenclature\n",
    "mg418dataCur2 = mg418loadFile.data[mg418Series,mg418CountRamp.iloc[0]-1,mg418LastSweepNaGlu.iloc[0]-2 ,0]\n",
    "mg418dataCur3 = mg418loadFile.data[mg418Series,mg418CountRamp.iloc[0]-1,mg418LastSweepNaGlu.iloc[0]-3 ,0]\n",
    "\n",
    "mg418SeriesdataVol = (mg418dataVol1+mg418dataVol2+mg418dataVol3)/3*1000\n",
    "mg418SeriesdataCur = (mg418dataCur1+mg418dataCur2+mg418dataCur3)/3*1000000\n",
    "mg418Series\n",
    "\n",
    "##### calculate for mg512\n",
    "#find the value of the sweep entered in meta data sheet for NaGlu-1\n",
    "mg512LastSweepNaGlu = mg512df.NaGlu1[(mg512df.CellID == mg512Recording)]\n",
    "mg512CountRamp = mg512df.ContRamp1550[(mg512df.CellID == mg512Recording)]\n",
    "\n",
    "mg512dataVol1 = mg512loadFile.data[mg512Series,mg418CountRamp.iloc[0]-1,mg512LastSweepNaGlu.iloc[0]-1 ,1]# remember python nomenclature\n",
    "mg512dataVol2 = mg512loadFile.data[mg512Series,mg418CountRamp.iloc[0]-1,mg512LastSweepNaGlu.iloc[0]-2 ,1]\n",
    "mg512dataVol3 = mg512loadFile.data[mg512Series,mg418CountRamp.iloc[0]-1,mg512LastSweepNaGlu.iloc[0]-3 ,1]\n",
    "\n",
    "mg512dataCur1 = mg512loadFile.data[mg512Series,mg512CountRamp.iloc[0]-1,mg512LastSweepNaGlu.iloc[0]-1 ,0]# remember python nomenclature\n",
    "mg512dataCur2 = mg512loadFile.data[mg512Series,mg512CountRamp.iloc[0]-1,mg512LastSweepNaGlu.iloc[0]-2 ,0]\n",
    "mg512dataCur3 = mg512loadFile.data[mg512Series,mg512CountRamp.iloc[0]-1,mg512LastSweepNaGlu.iloc[0]-3 ,0]\n",
    "\n",
    "mg512SeriesdataVol = (mg512dataVol1+mg512dataVol2+mg512dataVol3)/3*1000\n",
    "mg512SeriesdataCur = (mg512dataCur1+mg512dataCur2+mg512dataCur3)/3*1000000\n",
    "mg512Series\n",
    "\n",
    "##### calculate for pTL70\n",
    "#find the value of the sweep entered in meta data sheet for NaGlu-1\n",
    "pTL70LastSweepNaGlu = pTL70df.NaGlu1[(pTL70df.CellID == pTL70Recording)]\n",
    "pTL70CountRamp = pTL70df.ContRamp1550[(pTL70df.CellID == pTL70Recording)]\n",
    "\n",
    "pTL70dataVol1 = pTL70loadFile.data[pTL70Series,pTL70CountRamp.iloc[0]-1,pTL70LastSweepNaGlu.iloc[0]-1 ,1]# remember python nomenclature\n",
    "pTL70dataVol2 = pTL70loadFile.data[pTL70Series,pTL70CountRamp.iloc[0]-1,pTL70LastSweepNaGlu.iloc[0]-2 ,1]\n",
    "pTL70dataVol3 = pTL70loadFile.data[pTL70Series,pTL70CountRamp.iloc[0]-1,pTL70LastSweepNaGlu.iloc[0]-3 ,1]\n",
    "\n",
    "pTL70dataCur1 = pTL70loadFile.data[pTL70Series,pTL70CountRamp.iloc[0]-1,pTL70LastSweepNaGlu.iloc[0]-1 ,0]# remember python nomenclature\n",
    "pTL70dataCur2 = pTL70loadFile.data[pTL70Series,pTL70CountRamp.iloc[0]-1,pTL70LastSweepNaGlu.iloc[0]-2 ,0]\n",
    "pTL70dataCur3 = pTL70loadFile.data[pTL70Series,pTL70CountRamp.iloc[0]-1,pTL70LastSweepNaGlu.iloc[0]-3 ,0]\n",
    "\n",
    "pTL70SeriesdataVol = (pTL70dataVol1+pTL70dataVol2+pTL70dataVol3)/3*1000\n",
    "pTL70SeriesdataCur = (pTL70dataCur1+pTL70dataCur2+pTL70dataCur3)/3*1000000\n",
    "pTL70Series\n",
    "\n",
    "##### calculate for uninjected\n",
    "#find the value of the sweep entered in meta data sheet for NaGlu-1\n",
    "uninjLastSweepNaGlu = uninjdf.NaGlu1[(uninjdf.CellID == uninjRecording)]\n",
    "uninjCountRamp = uninjdf.ContRamp1550[(uninjdf.CellID == uninjRecording)]\n",
    "\n",
    "uninjdataVol1 = uninjloadFile.data[uninjSeries,uninjCountRamp.iloc[0]-1,uninjLastSweepNaGlu.iloc[0]-1 ,1]# remember python nomenclature\n",
    "uninjdataVol2 = uninjloadFile.data[uninjSeries,uninjCountRamp.iloc[0]-1,uninjLastSweepNaGlu.iloc[0]-2 ,1]\n",
    "uninjdataVol3 = uninjloadFile.data[uninjSeries,uninjCountRamp.iloc[0]-1,uninjLastSweepNaGlu.iloc[0]-3 ,1]\n",
    "\n",
    "uninjdataCur1 = uninjloadFile.data[uninjSeries,uninjCountRamp.iloc[0]-1,uninjLastSweepNaGlu.iloc[0]-1 ,0]# remember python nomenclature\n",
    "uninjdataCur2 = uninjloadFile.data[uninjSeries,uninjCountRamp.iloc[0]-1,uninjLastSweepNaGlu.iloc[0]-2 ,0]\n",
    "uninjdataCur3 = uninjloadFile.data[uninjSeries,uninjCountRamp.iloc[0]-1,uninjLastSweepNaGlu.iloc[0]-3 ,0]\n",
    "\n",
    "uninjSeriesdataVol = (uninjdataVol1+uninjdataVol2+uninjdataVol3)/3*1000\n",
    "uninjSeriesdataCur = (uninjdataCur1+uninjdataCur2+uninjdataCur3)/3*1000000\n",
    "uninjSeries"
   ]
  },
  {
   "cell_type": "code",
   "execution_count": 11,
   "metadata": {},
   "outputs": [
    {
     "data": {
      "text/plain": [
       "6    12\n",
       "Name: NaGlu1, dtype: int64"
      ]
     },
     "execution_count": 11,
     "metadata": {},
     "output_type": "execute_result"
    }
   ],
   "source": [
    "pTL70LastSweepNaGlu"
   ]
  },
  {
   "cell_type": "code",
   "execution_count": 12,
   "metadata": {},
   "outputs": [
    {
     "data": {
      "text/plain": [
       "2"
      ]
     },
     "execution_count": 12,
     "metadata": {},
     "output_type": "execute_result"
    }
   ],
   "source": [
    "mg419CountRamp.iloc[0]-1"
   ]
  },
  {
   "cell_type": "code",
   "execution_count": 13,
   "metadata": {},
   "outputs": [],
   "source": [
    "colorM4 = (0.30, 0.69, 0.29)\n",
    "colorU8 = (0.60, 0.31,0.64)\n",
    "colorDT1 = (0.89, 0.11,0.10)\n",
    "colorM10 = (1, 0.50,0)\n",
    "colorDel1 = (0.22,0.49,0.72)\n",
    "coloruninj = (0.00, 0.00, 0.00)\n",
    "#colorsSINGLES = [(0.30, 0.69, 0.29),(0.60, 0.31,0.64),(0.89, 0.11,0.10),(1, 0.50,0),(0.22,0.49,0.72),(0.00, 0.00, 0.00),\"red\",\"blue\",(0.00, 0.00, 0.00),(0.22, 0.49, 0.72),(1.00, 0.50, 0.00),\"darkgreen\",(0.30, 0.69, 0.29),(0.30, 0.69, 0.29),(0.6, 0.31, 0.64)]\n",
    "\n"
   ]
  },
  {
   "cell_type": "code",
   "execution_count": 17,
   "metadata": {
    "scrolled": true
   },
   "outputs": [
    {
     "data": {
      "image/png": "[encoded data removed]",
      "text/plain": [
       "<Figure size 684x396 with 8 Axes>"
      ]
     },
     "metadata": {
      "needs_background": "light"
     },
     "output_type": "display_data"
    }
   ],
   "source": [
    "fig = plt.figure(figsize=(9.5, 5.5)) \n",
    "#plt.subplots(2, 2, sharex='col')\n",
    "\n",
    "#### Voltage\n",
    "ax1 = plt.subplot(2,4,1)\n",
    "plt.plot(mg419dataVol, 'black')\n",
    "\n",
    "#### Current\n",
    "ax8 = plt.subplot(2,4,5)\n",
    "plt.plot(mg419dataCur, 'black')\n",
    "\n",
    "#### MEC-4\n",
    "ax2 = plt.subplot(2,4,4)\n",
    "plt.plot(mg419dataVol[450:1449],mg419dataCur[450:1449], color= colorM4,label=\"MEC-4d\")\n",
    "\n",
    "#### UNC-8\n",
    "ax3 = plt.subplot(2,4,3)\n",
    "plt.plot(pTL69SeriesdataVol[450:1449],pTL69SeriesdataCur[450:1449], color = colorU8,label=\"UNC-8d\")\n",
    "#plt.plot(pTL69SeriesdataCur,pTL69SeriesdataVol) # find which values \n",
    "\n",
    "#### DEGT-1\n",
    "ax4 = plt.subplot(2,4,2)\n",
    "plt.plot(mg418SeriesdataVol[450:1449], mg418SeriesdataCur[450:1449], color=colorDT1, label='DEGT-1d')\n",
    "\n",
    "#### DEL-1d\n",
    "ax5 = plt.subplot(2,4,6)\n",
    "plt.plot(pTL70SeriesdataVol[450:1449], pTL70SeriesdataCur[450:1449], color=colorDel1, label='DEL-1d')\n",
    "\n",
    "#### MEC-10\n",
    "ax6 = plt.subplot(2,4,7)\n",
    "plt.plot(mg512SeriesdataVol[450:1449],mg512SeriesdataCur[450:1449], color= colorM10,label='MEC-10d')\n",
    "\n",
    "#### Uninjected\n",
    "ax7 = plt.subplot(2,4,8)\n",
    "plt.plot(uninjSeriesdataVol[450:1449],uninjSeriesdataCur[450:1449], color=coloruninj,label='Uninj')\n",
    "\n",
    "\n",
    "\n",
    "##### Voltage \n",
    "ax1.set_ylim([-150, 150])\n",
    "ax1.set_xlim([0, 1500])\n",
    "ax1.spines['right'].set_visible(False)                                  # no spine at the right\n",
    "ax1.spines['top'].set_visible(False)                                     # no spine at the top\n",
    "ax1.yaxis.set_ticks_position('left')                                     # ticks at the left\n",
    "ax1.xaxis.set_ticks_position('bottom')                                 # no spine at the right\n",
    "ax1.spines['left'].set_position(('outward',10))                           # a spine at the left that is put a little aside\n",
    "ax1.spines['bottom'].set_position(('outward',10))  \n",
    "ax1.spines['top'].set_position(('axes',5)) \n",
    "ax1.get_yaxis().set_tick_params(direction='in')\n",
    "ax1.get_xaxis().set_tick_params(direction='in')\n",
    "#ax1.plot([-1,20], [0,0] , 'k--', color='#000000', linewidth=1)#gray line for Zero or 1        \n",
    "ax1.tick_params(axis='both', which='major', labelsize=12)  \n",
    "#ax1.annotate('ramp',xy=(125, 300), xycoords='figure points')#FIGURE Poitns: default coordinates\n",
    "ax1.set_yticks([-150,-85,0,150])\n",
    "ax1.set_xticks([0,500, 1000, 1500])\n",
    "ax1.set_xlabel('t (ms)',fontsize=12)\n",
    "ax1.set_ylabel('V (mV)',fontsize=12)\n",
    "ax1.axvspan(75, 225, color='cyan', alpha=0.1)\n",
    "ax1.axvspan(475, 1400, color='red', alpha=0.1)\n",
    "#ax1.set_title('Voltage Step protocol',size=12)\n",
    "ax1.spines['bottom'].set_visible(False) \n",
    "ax1.xaxis.set_visible(False)\n",
    "#ax1.spines['left'].set_visible(False) \n",
    "#ax1.yaxis.set_visible(False)\n",
    "#ax1.set_xticklabels(np.unique(AmilAll30['Injection']),rotation=30)\n",
    "#ax1.set_xticklabels([\"MEC-4d\",\"UNC-8d\",\"DEGT-1d\",\"uninjected\"],rotation=30)\n",
    "\n",
    "\n",
    "##### Current\n",
    "ax8.set_ylim([-20, 20])\n",
    "ax8.set_xlim([0, 1500])\n",
    "ax8.spines['right'].set_visible(False)                                  # no spine at the right\n",
    "ax8.spines['top'].set_visible(False)                                     # no spine at the top\n",
    "ax8.yaxis.set_ticks_position('left')                                     # ticks at the left\n",
    "ax8.xaxis.set_ticks_position('bottom')                                 # no spine at the right\n",
    "ax8.spines['left'].set_position(('outward',10))                           # a spine at the left that is put a little aside\n",
    "ax8.spines['bottom'].set_position(('outward',10))  \n",
    "ax8.spines['top'].set_position(('axes',5)) \n",
    "ax8.get_yaxis().set_tick_params(direction='in')\n",
    "ax8.get_xaxis().set_tick_params(direction='in')\n",
    "#ax1.plot([-1,20], [0,0] , 'k--', color='#000000', linewidth=1)#gray line for Zero or 1        \n",
    "ax8.tick_params(axis='both', which='major', labelsize=12)  \n",
    "#ax1.annotate('ramp',xy=(125, 300), xycoords='figure points')#FIGURE Poitns: default coordinates\n",
    "#ax8.set_yticks([-150,-85,0,150])\n",
    "ax8.set_xticks([0,500, 1000, 1500])\n",
    "ax8.set_xlabel('t (ms)',fontsize=14)\n",
    "ax8.set_ylabel('I (µA)',fontsize=14)\n",
    "ax8.axvspan(75, 225, color='cyan', alpha=0.1)\n",
    "ax8.axvspan(475, 1400, color='red', alpha=0.1)\n",
    "\n",
    "\n",
    "\n",
    "\n",
    "##### AXIS 2####\n",
    "#### MEC-4\n",
    "ax2.set_ylim([-15, 15])\n",
    "ax2.spines['right'].set_visible(False)                                  # no spine at the right\n",
    "ax2.spines['top'].set_visible(False)                                     # no spine at the top\n",
    "ax2.yaxis.set_ticks_position('left')                                     # ticks at the left\n",
    "ax2.xaxis.set_ticks_position('bottom')                                 # no spine at the right\n",
    "ax2.spines['left'].set_position('zero')                           # a spine at the left that is put a little aside\n",
    "ax2.spines['bottom'].set_position('zero') \n",
    "ax2.spines['top'].set_position(('axes',5)) \n",
    "ax2.get_yaxis().set_tick_params(direction='in')\n",
    "ax2.get_xaxis().set_tick_params(direction='in')\n",
    "#ax2.plot([-1,20], [0,0] , 'k--', color='#000000', linewidth=1)#gray line for Zero or 1        \n",
    "#ax2.set_title('MEC-4d (A713T)',size=14)\n",
    "#ax2.set_xticklabels(np.unique(AmilAll30['Injection']),rotation=30)\n",
    "#ax2.set_xticklabels([\"MEC-4d\",\"UNC-8d\",\"DEGT-1d\",\"uninjected\"],rotation=30)\n",
    "ax2.set_xlim([-110,70])\n",
    "ax2.set_xticks([-100,-50,50])\n",
    "ax2.set_yticks([-15,-5,5,15])\n",
    "ax2.set_xlabel('V (mV)',fontsize=12)\n",
    "ax2.set_ylabel('I (µA)',fontsize=12)\n",
    "ax2.xaxis.set_label_coords(0.85,0.39)\n",
    "ax2.yaxis.set_label_coords(0.79,0.93)\n",
    "ax2.tick_params(axis='both', which='major', labelsize=10)  \n",
    "ax2.legend(bbox_to_anchor=(0.4, 0.3, 0.11, 0.78),frameon=False)\n",
    "\n",
    "##### AXIS 3#### \n",
    "#### UNC-8\n",
    "ax3.set_ylim([-6,6])\n",
    "ax3.spines['right'].set_visible(False)                                  # no spine at the right\n",
    "ax3.spines['top'].set_visible(False)                                     # no spine at the top\n",
    "ax3.yaxis.set_ticks_position('left')                                     # ticks at the left\n",
    "ax3.xaxis.set_ticks_position('bottom')                                 # no spine at the right\n",
    "ax3.spines['left'].set_position('zero')                           # a spine at the left that is put a little aside\n",
    "ax3.spines['bottom'].set_position('zero') \n",
    "ax3.spines['top'].set_position(('axes',5)) \n",
    "ax3.get_yaxis().set_tick_params(direction='in')\n",
    "ax3.get_xaxis().set_tick_params(direction='in')\n",
    "#ax3.plot([-1,20], [0,0] , 'k--', color='#000000', linewidth=1)#gray line for Zero or 1          \n",
    "#ax3.set_title('UNC-8d (G378E)',size=14)\n",
    "#ax3.set_xticklabels(np.unique(AmilAll30['Injection']),rotation=30)\n",
    "#ax3.set_xticklabels([\"MEC-4d\",\"UNC-8d\",\"DEGT-1d\",\"uninjected\"],rotation=30)\n",
    "ax3.set_xlim([-110,70])\n",
    "ax3.set_xticks([-100,-50,50])\n",
    "ax3.set_yticks([-6,-3,3,6])\n",
    "ax3.set_xlabel('V (mV)',fontsize=12)\n",
    "ax3.set_ylabel('I (µA)',fontsize=12)\n",
    "ax3.xaxis.set_label_coords(0.85,0.39)\n",
    "ax3.yaxis.set_label_coords(0.79,0.93)\n",
    "ax3.tick_params(axis='both', which='major', labelsize=10) \n",
    "ax3.legend(bbox_to_anchor=(0.4, 0.3, 0.11, 0.78),frameon=False)\n",
    "\n",
    "\n",
    "##### AXIS 4####\n",
    "#### DEGT-1\n",
    "#ax4.set_ylim([-1, 1])\n",
    "ax4.set_yticks([-2,-2,-1,1,2])\n",
    "ax4.set_xlim([-100, 100])\n",
    "ax4.spines['right'].set_visible(False)                                  # no spine at the right\n",
    "ax4.spines['top'].set_visible(False)                                     # no spine at the top\n",
    "ax4.yaxis.set_ticks_position('left')                                     # ticks at the left\n",
    "ax4.xaxis.set_ticks_position('bottom')                                 # no spine at the right\n",
    "ax4.spines['left'].set_position('zero')                           # a spine at the left that is put a little aside\n",
    "ax4.spines['bottom'].set_position('zero')  \n",
    "ax4.spines['top'].set_position(('axes',5)) \n",
    "ax4.get_yaxis().set_tick_params(direction='in')\n",
    "ax4.get_xaxis().set_tick_params(direction='in')\n",
    "#ax4.plot([-1,20], [0,0] , 'k--', color='#000000', linewidth=1)#gray line for Zero or 1        \n",
    "#ax4.set_title('ADD DEL-1d',size=14, color = 'red')\n",
    "ax4.set_xlim([-110,70])\n",
    "ax4.set_xticks([-100,-50,50])\n",
    "ax4.set_xlabel('V (mV)',fontsize=12)\n",
    "ax4.set_ylabel('I (µA)',fontsize=12)\n",
    "ax4.xaxis.set_label_coords(0.87,0.39)\n",
    "ax4.yaxis.set_label_coords(0.79,0.93)\n",
    "ax4.tick_params(axis='both', which='major', labelsize=10)  \n",
    "ax4.legend(bbox_to_anchor=(0.48, 0.3, 0.11, 0.78),frameon=False)\n",
    "\n",
    "##### AXIS 5####\n",
    "#### DEL-1\n",
    "#ax5.set_ylim([-1, 1])\n",
    "ax5.set_yticks([-2,-2,-1,1,2])\n",
    "ax5.set_xlim([-100, 100])\n",
    "ax5.spines['right'].set_visible(False)                                  # no spine at the right\n",
    "ax5.spines['top'].set_visible(False)                                     # no spine at the top\n",
    "ax5.yaxis.set_ticks_position('left')                                     # ticks at the left\n",
    "ax5.xaxis.set_ticks_position('bottom')                                 # no spine at the right\n",
    "ax5.spines['left'].set_position('zero')                           # a spine at the left that is put a little aside\n",
    "ax5.spines['bottom'].set_position('zero')  \n",
    "ax5.spines['top'].set_position(('axes',5)) \n",
    "ax5.get_yaxis().set_tick_params(direction='in')\n",
    "ax5.get_xaxis().set_tick_params(direction='in')\n",
    "#ax4.plot([-1,20], [0,0] , 'k--', color='#000000', linewidth=1)#gray line for Zero or 1        \n",
    "#ax4.set_title('ADD DEL-1d',size=14, color = 'red')\n",
    "ax5.set_xlim([-110,70])\n",
    "ax5.set_xticks([-100,-50,50])\n",
    "ax5.set_xlabel('V (mV)',fontsize=12)\n",
    "ax5.set_ylabel('I (µA)',fontsize=12)\n",
    "ax5.xaxis.set_label_coords(0.87,0.39)\n",
    "ax5.yaxis.set_label_coords(0.79,0.93)\n",
    "ax5.tick_params(axis='both', which='major', labelsize=10)  \n",
    "ax5.legend(bbox_to_anchor=(0.48, 0.3, 0.11, 0.78),frameon=False)\n",
    "\n",
    "##### AXIS 6####\n",
    "#### MEC-10\n",
    "#ax6.set_ylim([-1, 1])\n",
    "ax6.set_yticks([-2,-2,-1,1,2])\n",
    "ax6.set_xlim([-100, 100])\n",
    "ax6.spines['right'].set_visible(False)                                  # no spine at the right\n",
    "ax6.spines['top'].set_visible(False)                                     # no spine at the top\n",
    "ax6.yaxis.set_ticks_position('left')                                     # ticks at the left\n",
    "ax6.xaxis.set_ticks_position('bottom')                                 # no spine at the right\n",
    "ax6.spines['left'].set_position('zero')                           # a spine at the left that is put a little aside\n",
    "ax6.spines['bottom'].set_position('zero')  \n",
    "ax6.spines['top'].set_position(('axes',5)) \n",
    "ax6.get_yaxis().set_tick_params(direction='in')\n",
    "ax6.get_xaxis().set_tick_params(direction='in')\n",
    "#ax4.plot([-1,20], [0,0] , 'k--', color='#000000', linewidth=1)#gray line for Zero or 1        \n",
    "#ax4.set_title('ADD DEL-1d',size=14, color = 'red')\n",
    "ax6.set_xlim([-110,70])\n",
    "ax6.set_xticks([-100,-50,50])\n",
    "ax6.set_xlabel('V (mV)',fontsize=12)\n",
    "ax6.set_ylabel('I (µA)',fontsize=12)\n",
    "ax6.xaxis.set_label_coords(0.87,0.39)\n",
    "ax6.yaxis.set_label_coords(0.79,0.93)\n",
    "ax6.tick_params(axis='both', which='major', labelsize=10)  \n",
    "ax6.legend(bbox_to_anchor=(0.48, 0.3, 0.11, 0.78),frameon=False)\n",
    "\n",
    "\n",
    "##### AXIS 7####\n",
    "#### Uninjected\n",
    "#ax7.set_ylim([-1, 1])\n",
    "ax7.set_xlim([-100, 100])\n",
    "ax7.spines['right'].set_visible(False)                                  # no spine at the right\n",
    "ax7.spines['top'].set_visible(False)                                     # no spine at the top\n",
    "ax7.yaxis.set_ticks_position('left')                                     # ticks at the left\n",
    "ax7.xaxis.set_ticks_position('bottom')                                 # no spine at the right\n",
    "ax7.spines['left'].set_position('zero')                           # a spine at the left that is put a little aside\n",
    "ax7.spines['bottom'].set_position('zero')  \n",
    "ax7.spines['top'].set_position(('axes',5)) \n",
    "ax7.get_yaxis().set_tick_params(direction='in')\n",
    "ax7.get_xaxis().set_tick_params(direction='in')\n",
    "#ax4.plot([-1,20], [0,0] , 'k--', color='#000000', linewidth=1)#gray line for Zero or 1        \n",
    "#ax4.set_title('ADD DEL-1d',size=14, color = 'red')\n",
    "ax7.set_xlim([-110,70])\n",
    "ax7.set_xticks([-100,-50,50])\n",
    "ax7.set_yticks([-2,-2,-1,1,2])\n",
    "ax7.set_xlabel('V (mV)',fontsize=12)\n",
    "ax7.set_ylabel('I (µA)',fontsize=12)\n",
    "ax7.xaxis.set_label_coords(0.87,0.39)\n",
    "ax7.yaxis.set_label_coords(0.79,0.93)\n",
    "ax7.tick_params(axis='both', which='major', labelsize=10)  \n",
    "ax7.legend(bbox_to_anchor=(0.35, 0.3, 0.11, 0.78),frameon=False)\n",
    "\n",
    "\n",
    "#plt.ylabel('Change in current', fontsize=16) \n",
    "#plt.xlabel('DEG/ENaC/ASIC subunits', fontsize=16)\n",
    "\n",
    "plt.gcf().subplots_adjust(bottom=0.15, left=0.15,hspace=.3, wspace=0.25) \n",
    "#plt.savefig(filedir+\"Fig1-NaGlu-IVcurves\"+'.jpg')\n",
    "#plt.savefig(filedir+\"Fig1-NaGlu-IVcurves\"+'.eps')\n",
    "plt.savefig(filedirManuscript+\"Fig1-NaGlu-RepresentativeTraces\"+'.pdf')\n",
    "#plt.savefig('/Users/Fechner/Dropbox/Manuscript_Pharmacology_DEGENACASIC⁩/FiguresManuscript⁩/Fig1/'+\"Fig1-NaGlu-IVcurves\"+'.jpg')\n",
    "#Dropbox⁩ ▸ ⁨ManuscriptPharmacologyDEGENACASIC⁩ ▸ ⁨FiguresManuscript⁩\n",
    "plt.show()"
   ]
  },
  {
   "cell_type": "code",
   "execution_count": 15,
   "metadata": {},
   "outputs": [
    {
     "data": {
      "text/plain": [
       "'/Users/Fechner/Box Sync/Fechner/TEVC-GoodmanlabBOX/Project-STFX/MetaDataSTFX/MetaDelta/'"
      ]
     },
     "execution_count": 15,
     "metadata": {},
     "output_type": "execute_result"
    }
   ],
   "source": [
    "filedir"
   ]
  },
  {
   "cell_type": "code",
   "execution_count": 16,
   "metadata": {},
   "outputs": [
    {
     "ename": "NameError",
     "evalue": "name 'dataCur' is not defined",
     "output_type": "error",
     "traceback": [
      "\u001b[0;31m---------------------------------------------------------------------------\u001b[0m",
      "\u001b[0;31mNameError\u001b[0m                                 Traceback (most recent call last)",
      "\u001b[0;32m<ipython-input-16-0b4b5e137047>\u001b[0m in \u001b[0;36m<module>\u001b[0;34m\u001b[0m\n\u001b[0;32m----> 1\u001b[0;31m \u001b[0mplt\u001b[0m\u001b[0;34m.\u001b[0m\u001b[0mplot\u001b[0m\u001b[0;34m(\u001b[0m\u001b[0mdataCur\u001b[0m\u001b[0;34m)\u001b[0m\u001b[0;34m\u001b[0m\u001b[0;34m\u001b[0m\u001b[0m\n\u001b[0m\u001b[1;32m      2\u001b[0m \u001b[0;31m#plt.axis([0, 6, 0, 20])\u001b[0m\u001b[0;34m\u001b[0m\u001b[0;34m\u001b[0m\u001b[0;34m\u001b[0m\u001b[0m\n\u001b[1;32m      3\u001b[0m \u001b[0mplt\u001b[0m\u001b[0;34m.\u001b[0m\u001b[0mshow\u001b[0m\u001b[0;34m(\u001b[0m\u001b[0;34m)\u001b[0m\u001b[0;34m\u001b[0m\u001b[0;34m\u001b[0m\u001b[0m\n",
      "\u001b[0;31mNameError\u001b[0m: name 'dataCur' is not defined"
     ]
    }
   ],
   "source": [
    "plt.plot(dataCur)\n",
    "#plt.axis([0, 6, 0, 20])\n",
    "plt.show()"
   ]
  },
  {
   "cell_type": "code",
   "execution_count": null,
   "metadata": {},
   "outputs": [],
   "source": []
  },
  {
   "cell_type": "code",
   "execution_count": null,
   "metadata": {},
   "outputs": [],
   "source": []
  },
  {
   "cell_type": "code",
   "execution_count": null,
   "metadata": {},
   "outputs": [],
   "source": []
  },
  {
   "cell_type": "markdown",
   "metadata": {},
   "source": [
    "### GUTTER"
   ]
  },
  {
   "cell_type": "code",
   "execution_count": null,
   "metadata": {},
   "outputs": [],
   "source": [
    "#test = LastSweepNaGlu.values.tolist() #taht works and makes a list"
   ]
  },
  {
   "cell_type": "code",
   "execution_count": null,
   "metadata": {},
   "outputs": [],
   "source": [
    "#delete this part\n",
    "#root = tk.Tk()\n",
    "#root.withdraw() not sure if necessary, description to avoid opening full gui\n",
    "#either choose a cetain file or open dialog box\n",
    "#certain file\n",
    "\n",
    "#filename = 'TEVCMeta'+ frog + '.xlsx'\n",
    "#Recording = frog + RecNr #maybe trouble with - in .dat file. matlab ignored all of them. hekareader not\n",
    "#open dialog box\n",
    "#filename = filedialog.askopenfilename() #creates filename and directory. TODO: write conditional sentence\n",
    "#root.update() # necessary in Mac(?) to close the dialog box"
   ]
  },
  {
   "cell_type": "code",
   "execution_count": null,
   "metadata": {},
   "outputs": [],
   "source": [
    "#DELETE\n",
    "#pandas environment\n",
    "#xl = pd.ExcelFile(filedir+filename)\n",
    "#xl.sheet_names\n",
    "#df = xl.parse(\"Sheet1\") #calls for Sheet names \n",
    "\n",
    "#df.head()\n",
    "#find the .dat file name in the MetaData sheet of the corresponding recording\n",
    "#DatFile = df.Filename[(df.CellID == Recording)]#.values[0] values[0] gives me the integer directly. no need for iloc\n",
    "#print(DatFile)"
   ]
  },
  {
   "cell_type": "code",
   "execution_count": null,
   "metadata": {},
   "outputs": [],
   "source": [
    "#df.pivot(columns='InjectionMix', values='Rating').describe().T #check data for which Injections have been used"
   ]
  },
  {
   "cell_type": "code",
   "execution_count": null,
   "metadata": {
    "scrolled": true
   },
   "outputs": [],
   "source": [
    "# Load a .dat file\n",
    "#loadFile = heka_reader.Bundle(str(DatFile.iloc[0])+'.dat')"
   ]
  },
  {
   "cell_type": "code",
   "execution_count": null,
   "metadata": {},
   "outputs": [],
   "source": [
    "# trace \n",
    "#traceCurrent = loadFile.pul[0][1][10][0]\n",
    "#traceVoltage = loadFile.pul[0][1][10][1]"
   ]
  },
  {
   "cell_type": "code",
   "execution_count": null,
   "metadata": {},
   "outputs": [],
   "source": [
    "# str(DatFile.iloc[0])+'.dat'"
   ]
  }
 ],
 "metadata": {
  "kernelspec": {
   "display_name": "Python 3",
   "language": "python",
   "name": "python3"
  },
  "language_info": {
   "codemirror_mode": {
    "name": "ipython",
    "version": 3
   },
   "file_extension": ".py",
   "mimetype": "text/x-python",
   "name": "python",
   "nbconvert_exporter": "python",
   "pygments_lexer": "ipython3",
   "version": "3.7.4"
  }
 },
 "nbformat": 4,
 "nbformat_minor": 2
}
