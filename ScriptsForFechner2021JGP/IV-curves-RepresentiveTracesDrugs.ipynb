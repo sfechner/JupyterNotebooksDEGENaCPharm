{
 "cells": [
  {
   "cell_type": "markdown",
   "metadata": {},
   "source": [
    "potential representative traces\n",
    "\n",
    "DEGT-1d: \n",
    "\n",
    "MEC-4d: \n",
    "\n",
    "UNC8d: \n",
    "\n",
    "uinjected: \n",
    "\n"
   ]
  },
  {
   "cell_type": "code",
   "execution_count": 1,
   "metadata": {},
   "outputs": [
    {
     "name": "stderr",
     "output_type": "stream",
     "text": [
      "/Users/wormsenselab/anaconda3/envs/dabest/lib/python3.7/site-packages/matplotlib/__init__.py:1003: UserWarning: Duplicate key in file \"/Users/Fechner/.matplotlib/matplotlibrc\", line #3\n",
      "  (fname, cnt))\n",
      "/Users/wormsenselab/anaconda3/envs/dabest/lib/python3.7/site-packages/matplotlib/__init__.py:1003: UserWarning: Duplicate key in file \"/Users/Fechner/.matplotlib/matplotlibrc\", line #4\n",
      "  (fname, cnt))\n"
     ]
    }
   ],
   "source": [
    "from matplotlib import pyplot as plt\n",
    "import numpy as np\n",
    "%matplotlib inline\n",
    "from matplotlib import gridspec\n",
    "from matplotlib import rcParams\n",
    "from scipy.optimize import curve_fit\n",
    "import scipy.stats as stats\n",
    "from matplotlib import lines\n",
    "import seaborn as sns\n",
    "\n",
    "import pandas as pd\n",
    "import glob\n",
    "\n",
    "plt.rcParams['pdf.fonttype'] = 42 # to be able to change text in pdf opened with illustrator\n",
    "plt.rcParams['ps.fonttype'] = 42"
   ]
  },
  {
   "cell_type": "markdown",
   "metadata": {},
   "source": [
    "### HARDCODING THE IMPORT HEKA PATH"
   ]
  },
  {
   "cell_type": "code",
   "execution_count": 2,
   "metadata": {},
   "outputs": [],
   "source": [
    "# Add heka_reader to PYTHONPATH\n",
    "import sys\n",
    "#fpath = '/Users/Fechner/PythonStuff/heka_reader' #initial version delete\n",
    "fpath = '/Users/Fechner/Dropbox/PythonImport/heka_reader' #MAC\n",
    "sys.path.append(fpath)\n",
    "import heka_reader"
   ]
  },
  {
   "cell_type": "markdown",
   "metadata": {},
   "source": [
    "### got the heka reader from here\n",
    "https://github.com/campagnola/heka_reader\n",
    "\n",
    "- clone the repository to your computer (move to directory with terminal commands. Mine here is called PythonStuff at the moment: change name)\n",
    "    - git clone https://github.com/campagnola/heka_reader.git\n",
    "- the heka reader enables to read and access the .dat files (to work in jupyter notebook, you habe to append the heka_reader to the path where the heka reader is stored)\n",
    "- browser.py enables to easily browse for recordings within a .dat comparable to Igor or other similar programs\n",
    "- I changed the following in my local browser.py version, because the functions output was a tuple:\n",
    "    - def load_clicked():\n",
    "    - Display a file dialog to select a .dat file\n",
    "    - file_name = pg.QtGui.QFileDialog.getOpenFileName()\n",
    "    - if isinstance(file_name, tuple):   (ADDED THIS LINE)\n",
    "        -    file_name = file_name[0]    (ADDED THIS LINE)\n",
    "    - if file_name == '':\n",
    "        -    return\n",
    "    - load(file_name)"
   ]
  },
  {
   "cell_type": "markdown",
   "metadata": {},
   "source": [
    "### Brief example for heka_reader: we changed \n",
    "\n",
    "    # Load a .dat file\n",
    "    bundle = Bundle(file_name)\n",
    "    \n",
    "    # Select a trace\n",
    "    trace = bundle.pul[group_ind][series_ind][sweep_ind][trace_ind]\n",
    "    \n",
    "    # Print meta-data for this trace\n",
    "    print(trace)\n",
    "    \n",
    "    # Load data for this trace\n",
    "    data = bundle.data[group_id, series_id, sweep_ind, trace_ind]"
   ]
  },
  {
   "cell_type": "markdown",
   "metadata": {},
   "source": [
    "### HARDCODING:\n",
    "- Choose different Reprensentive Traces \n",
    "- enter hardcoding part: choose frog ID (e.g. STFX073) and Recording ID (e.g. '001') for each recording condition\n",
    "- identify series and sweeps per recording and excel sheet"
   ]
  },
  {
   "cell_type": "markdown",
   "metadata": {},
   "source": [
    "# common axis parameter"
   ]
  },
  {
   "cell_type": "code",
   "execution_count": 3,
   "metadata": {},
   "outputs": [],
   "source": [
    "AxisTickLabelSize = 8\n",
    "AxisLabelSize = 10\n",
    "AxisLegendSize = 8\n",
    "SizeOfMarker = 3\n",
    "ErrorColor = 'red'"
   ]
  },
  {
   "cell_type": "markdown",
   "metadata": {},
   "source": [
    "#### change initial directory to datFilesSTFX "
   ]
  },
  {
   "cell_type": "code",
   "execution_count": 4,
   "metadata": {},
   "outputs": [
    {
     "name": "stdout",
     "output_type": "stream",
     "text": [
      "/Users/Fechner/Box Sync/Fechner/TEVC-GoodmanlabBOX/Project-STFX/datFilesSTFX\n"
     ]
    }
   ],
   "source": [
    "cd ~/Box Sync/Fechner/TEVC-GoodmanlabBOX/Project-STFX/datFilesSTFX"
   ]
  },
  {
   "cell_type": "code",
   "execution_count": 5,
   "metadata": {},
   "outputs": [
    {
     "name": "stdout",
     "output_type": "stream",
     "text": [
      "/Users/Fechner/Box Sync/Fechner/TEVC-GoodmanlabBOX/Project-STFX/MetaDataSTFX/MetaDelta/\n"
     ]
    }
   ],
   "source": [
    "####### Hardcoding the data path to your device ####\n",
    "Changefiledir ='/Users/Fechner/Box Sync/Fechner/'\n",
    "\n",
    "#### doesn't need to be changed for TEVC analysis ###\n",
    "filedir = Changefiledir + 'TEVC-GoodmanlabBOX/Project-STFX/MetaDataSTFX/MetaDelta/'\n",
    "\n",
    "filedirManuscript ='/Users/Fechner/Dropbox/ManuscriptFechnerPharmacology/Figures/ExportedFromNotebook/'\n",
    "#CHANGE USER NAME ON PRIVATE LAPTOP TO Fechner or be more clever about the Filename\n",
    "print(filedir)"
   ]
  },
  {
   "cell_type": "markdown",
   "metadata": {},
   "source": [
    "### ALL traces picked for 30 uM Ibuprofen"
   ]
  },
  {
   "cell_type": "code",
   "execution_count": 6,
   "metadata": {},
   "outputs": [],
   "source": [
    "####### hardcoding ########## FOR Ibuprofen\n",
    "#enter here different IDs\n",
    "#mg419 = M4d (A713T)\n",
    "mg419frogIbu30 = 'STFX071'\n",
    "mg419RecNrIbu30 = '011' \n",
    "mg419SeriesIbu30 = 2-1\n",
    "#### STFX070-015 (series 5): clamping errors at positive voltages (maybe not as I needed to switch to NagluIbu)\n",
    "#### STFX071-011 (series 2): clamping errors at positive voltages, but less\n",
    "#### STFX070-001 (series 2): \n",
    "\n",
    "mg418frogIbu30 = 'STFX033'\n",
    "mg418RecNrIbu30 = '044' \n",
    "mg418SeriesIbu30 = 9-1\n",
    "\n",
    "pTL69frogIbu30 = 'STFX070'\n",
    "pTL69RecNrIbu30 = '022' \n",
    "pTL69SeriesIbu30 = 4-1\n",
    "\n",
    "UninjfrogIbu30 = 'STFX033'\n",
    "UninjRecNrIbu30 = '024' \n",
    "UninjSeriesIbu30 = 23-1"
   ]
  },
  {
   "cell_type": "markdown",
   "metadata": {},
   "source": [
    "### ALL traces picked for 30 uM Fibuprofen"
   ]
  },
  {
   "cell_type": "code",
   "execution_count": 7,
   "metadata": {},
   "outputs": [],
   "source": [
    "####### hardcoding ########## FOR Ibuprofen\n",
    "#enter here different IDs\n",
    "#mg419 = M4d (A713T)\n",
    "mg419frogFibu30 = 'STFX075'\n",
    "mg419RecNrFibu30 = '001' \n",
    "mg419SeriesFibu30 = 1-1\n",
    "\n",
    "mg418frogFibu30 = 'STFX073'\n",
    "mg418RecNrFibu30 = '005' \n",
    "mg418SeriesFibu30 = 6-1\n",
    "\n",
    "pTL69frogFibu30 = 'STFX075'\n",
    "pTL69RecNrFibu30 = '009' \n",
    "pTL69SeriesFibu30 = 16-1\n",
    "\n",
    "UninjfrogFibu30 = 'STFX073'\n",
    "UninjRecNrFibu30 = '022' #'006' \n",
    "UninjSeriesFibu30 = 18-1#7-1"
   ]
  },
  {
   "cell_type": "markdown",
   "metadata": {},
   "source": [
    "### ALL traces picked for 30 uM Diclofenac"
   ]
  },
  {
   "cell_type": "code",
   "execution_count": 8,
   "metadata": {},
   "outputs": [],
   "source": [
    "####### hardcoding ########## FOR Ibuprofen\n",
    "#enter here different IDs\n",
    "#mg419 = M4d (A713T)\n",
    "mg419frogDiclo30 = 'STFX033'\n",
    "mg419RecNrDiclo30 = '002' \n",
    "mg419SeriesDiclo30 = 4-1\n",
    "\n",
    "mg418frogDiclo30 = 'STFX072'\n",
    "mg418RecNrDiclo30 = '014' \n",
    "mg418SeriesDiclo30 = 20-1\n",
    "\n",
    "pTL69frogDiclo30 = 'STFX071'\n",
    "pTL69RecNrDiclo30 = '029' \n",
    "pTL69SeriesDiclo30 = 11-1\n",
    "\n",
    "UninjfrogDiclo30 = 'STFX074'\n",
    "UninjRecNrDiclo30 = '005' \n",
    "UninjSeriesDiclo30 = 7-1"
   ]
  },
  {
   "cell_type": "markdown",
   "metadata": {},
   "source": [
    "### All traces picked for 30 uM EIPA"
   ]
  },
  {
   "cell_type": "code",
   "execution_count": 9,
   "metadata": {},
   "outputs": [],
   "source": [
    "####### hardcoding ########## FOR Ibuprofen\n",
    "#enter here different IDs\n",
    "#mg419 = M4d (A713T)\n",
    "mg419frogEIPA30 = 'STFX032'\n",
    "mg419RecNrEIPA30 = '031' \n",
    "mg419SeriesEIPA30 = 20-1\n",
    "\n",
    "mg418frogEIPA30 = 'STFX033'\n",
    "mg418RecNrEIPA30 = '029' \n",
    "mg418SeriesEIPA30 = 4-1\n",
    "\n",
    "pTL69frogEIPA30 = 'STFX072'\n",
    "pTL69RecNrEIPA30 = '019' \n",
    "pTL69SeriesEIPA30 = 3-1\n",
    "\n",
    "UninjfrogEIPA30 = 'STFX030'\n",
    "UninjRecNrEIPA30 = '043' \n",
    "UninjSeriesEIPA30 = 7-1"
   ]
  },
  {
   "cell_type": "markdown",
   "metadata": {},
   "source": [
    "### The text below finds the .datfile belonging to the recording e.g.  mg419frog/mg419RecNr"
   ]
  },
  {
   "cell_type": "markdown",
   "metadata": {},
   "source": [
    "#### The text below finds the .datfile belonging to the recording mg419frog/mg419RecNr 30 uM Ibu"
   ]
  },
  {
   "cell_type": "code",
   "execution_count": 10,
   "metadata": {},
   "outputs": [],
   "source": [
    "mg419filenameIbu30 = 'TEVCMeta'+ mg419frogIbu30 +'.xlsx'\n",
    "#mg419Recording = mg419frog + mg419RecNr #maybe trouble with - in .dat file. matlab ignored all of them. hekareader not\n",
    "mg419xlIbu30 = pd.ExcelFile(filedir+mg419filenameIbu30)#converters={'names':str,'ages':str}\n",
    "mg419xlIbu30.sheet_names\n",
    "mg419dfIbu30 = mg419xlIbu30.parse(\"Sheet1\",converters={'Filename': np.int64,'ContRamp1550': np.int64,'NaGlu1': np.int64, 'NaGluIbu30': np.int64}) #calls for Sheet names \n",
    "mg419RecordingIbu30 = mg419frogIbu30 + mg419RecNrIbu30\n",
    "\n",
    "#### mg418\n",
    "mg418filenameIbu30 = 'TEVCMeta'+ mg418frogIbu30 +'.xlsx'\n",
    "#mg419Recording = mg419frog + mg419RecNr #maybe trouble with - in .dat file. matlab ignored all of them. hekareader not\n",
    "mg418xlIbu30 = pd.ExcelFile(filedir+mg418filenameIbu30)#converters={'names':str,'ages':str}\n",
    "mg418xlIbu30.sheet_names\n",
    "mg418dfIbu30 = mg418xlIbu30.parse(\"Sheet1\",converters={'Filename': np.int64,'ContRamp1550': np.int64,'NaGlu1': np.int64, 'NaGluIbu30': np.int64}) #calls for Sheet names \n",
    "mg418RecordingIbu30 = mg418frogIbu30 + mg418RecNrIbu30\n",
    "\n",
    "#### pTL69\n",
    "pTL69filenameIbu30 = 'TEVCMeta'+ pTL69frogIbu30 +'.xlsx'\n",
    "#mg419Recording = mg419frog + mg419RecNr #maybe trouble with - in .dat file. matlab ignored all of them. hekareader not\n",
    "pTL69xlIbu30 = pd.ExcelFile(filedir+pTL69filenameIbu30)#converters={'names':str,'ages':str}\n",
    "pTL69xlIbu30.sheet_names\n",
    "pTL69dfIbu30 = pTL69xlIbu30.parse(\"Sheet1\",converters={'Filename': np.int64,'ContRamp1550': np.int64,'NaGlu1': np.int64, 'NaGluIbu30': np.int64}) #calls for Sheet names \n",
    "pTL69RecordingIbu30 = pTL69frogIbu30 + pTL69RecNrIbu30\n",
    "\n",
    "#### Uninj\n",
    "UninjfilenameIbu30 = 'TEVCMeta'+ UninjfrogIbu30 +'.xlsx'\n",
    "#mg419Recording = mg419frog + mg419RecNr #maybe trouble with - in .dat file. matlab ignored all of them. hekareader not\n",
    "UninjxlIbu30 = pd.ExcelFile(filedir+UninjfilenameIbu30)#converters={'names':str,'ages':str}\n",
    "UninjxlIbu30.sheet_names\n",
    "UninjdfIbu30 = UninjxlIbu30.parse(\"Sheet1\",converters={'Filename': np.int64,'ContRamp1550': np.int64,'NaGlu1': np.int64, 'NaGluIbu30': np.int64}) #calls for Sheet names \n",
    "UninjRecordingIbu30 = UninjfrogIbu30 + UninjRecNrIbu30\n"
   ]
  },
  {
   "cell_type": "markdown",
   "metadata": {},
   "source": [
    "#### The text below finds the .datfile belonging to the recording mg419frog/mg419RecNr 30 uM Fibuprofen"
   ]
  },
  {
   "cell_type": "code",
   "execution_count": 11,
   "metadata": {},
   "outputs": [],
   "source": [
    "mg419filenameFibu30 = 'TEVCMeta'+ mg419frogFibu30 +'.xlsx'\n",
    "#mg419Recording = mg419frog + mg419RecNr #maybe trouble with - in .dat file. matlab ignored all of them. hekareader not\n",
    "mg419xlFibu30 = pd.ExcelFile(filedir+mg419filenameFibu30)#converters={'names':str,'ages':str}\n",
    "mg419xlFibu30.sheet_names\n",
    "mg419dfFibu30 = mg419xlFibu30.parse(\"Sheet1\",converters={'Filename': np.int64,'ContRamp1550': np.int64,'NaGlu1': np.int64,'NaGlu3': np.int64,'NaGluFibu30': np.int64}) #calls for Sheet names \n",
    "mg419RecordingFibu30 = mg419frogFibu30 + mg419RecNrFibu30\n",
    "\n",
    "#### mg418\n",
    "mg418filenameFibu30 = 'TEVCMeta'+ mg418frogFibu30 +'.xlsx'\n",
    "#mg419Recording = mg419frog + mg419RecNr #maybe trouble with - in .dat file. matlab ignored all of them. hekareader not\n",
    "mg418xlFibu30 = pd.ExcelFile(filedir+mg418filenameFibu30)#converters={'names':str,'ages':str}\n",
    "mg418xlFibu30.sheet_names\n",
    "mg418dfFibu30 = mg418xlFibu30.parse(\"Sheet1\",converters={'Filename': np.int64,'ContRamp1550': np.int64,'NaGlu1': np.int64, 'NaGlu3': np.int64, 'NaGluFibu30': np.int64}) #calls for Sheet names \n",
    "mg418RecordingFibu30 = mg418frogFibu30 + mg418RecNrFibu30\n",
    "\n",
    "#### pTL69\n",
    "pTL69filenameFibu30 = 'TEVCMeta'+ pTL69frogFibu30 +'.xlsx'\n",
    "#mg419Recording = mg419frog + mg419RecNr #maybe trouble with - in .dat file. matlab ignored all of them. hekareader not\n",
    "pTL69xlFibu30 = pd.ExcelFile(filedir+pTL69filenameFibu30)#converters={'names':str,'ages':str}\n",
    "pTL69xlFibu30.sheet_names\n",
    "pTL69dfFibu30 = pTL69xlFibu30.parse(\"Sheet1\",converters={'Filename': np.int64,'ContRamp1550': np.int64,'NaGlu1': np.int64, 'NaGluFibu30': np.int64}) #calls for Sheet names \n",
    "pTL69RecordingFibu30 = pTL69frogFibu30 + pTL69RecNrFibu30\n",
    "\n",
    "#### Uninj\n",
    "UninjfilenameFibu30 = 'TEVCMeta'+ UninjfrogFibu30 +'.xlsx'\n",
    "#mg419Recording = mg419frog + mg419RecNr #maybe trouble with - in .dat file. matlab ignored all of them. hekareader not\n",
    "UninjxlFibu30 = pd.ExcelFile(filedir+UninjfilenameFibu30)#converters={'names':str,'ages':str}\n",
    "UninjxlFibu30.sheet_names\n",
    "UninjdfFibu30 = UninjxlFibu30.parse(\"Sheet1\",converters={'Filename': np.int64,'ContRamp1550': np.int64,'NaGlu1': np.int64, 'NaGluFibu30': np.int64}) #calls for Sheet names \n",
    "UninjRecordingFibu30 = UninjfrogFibu30 + UninjRecNrFibu30\n"
   ]
  },
  {
   "cell_type": "markdown",
   "metadata": {},
   "source": [
    "#### The text below finds the .datfile belonging to the recording mg419frog/mg419RecNr 30 uM Diclofenac"
   ]
  },
  {
   "cell_type": "code",
   "execution_count": 12,
   "metadata": {},
   "outputs": [],
   "source": [
    "mg419filenameDiclo30 = 'TEVCMeta'+ mg419frogDiclo30 +'.xlsx'\n",
    "#mg419Recording = mg419frog + mg419RecNr #maybe trouble with - in .dat file. matlab ignored all of them. hekareader not\n",
    "mg419xlDiclo30 = pd.ExcelFile(filedir+mg419filenameDiclo30)#converters={'names':str,'ages':str}\n",
    "mg419xlDiclo30.sheet_names\n",
    "mg419dfDiclo30 = mg419xlDiclo30.parse(\"Sheet1\",converters={'Filename': np.int64,'ContRamp1550': np.int64,'NaGlu1': np.int64, 'NaGluDiclo30': np.int64}) #calls for Sheet names \n",
    "mg419RecordingDiclo30 = mg419frogDiclo30 + mg419RecNrDiclo30\n",
    "\n",
    "#### mg418\n",
    "mg418filenameDiclo30 = 'TEVCMeta'+ mg418frogDiclo30 +'.xlsx'\n",
    "#mg419Recording = mg419frog + mg419RecNr #maybe trouble with - in .dat file. matlab ignored all of them. hekareader not\n",
    "mg418xlDiclo30 = pd.ExcelFile(filedir+mg418filenameDiclo30)#converters={'names':str,'ages':str}\n",
    "mg418xlDiclo30.sheet_names\n",
    "mg418dfDiclo30 = mg418xlDiclo30.parse(\"Sheet1\",converters={'Filename': np.int64,'ContRamp1550': np.int64,'NaGlu1': np.int64, 'NaGluDiclo30': np.int64}) #calls for Sheet names \n",
    "mg418RecordingDiclo30 = mg418frogDiclo30 + mg418RecNrDiclo30\n",
    "\n",
    "#### pTL69\n",
    "pTL69filenameDiclo30 = 'TEVCMeta'+ pTL69frogDiclo30 +'.xlsx'\n",
    "#mg419Recording = mg419frog + mg419RecNr #maybe trouble with - in .dat file. matlab ignored all of them. hekareader not\n",
    "pTL69xlDiclo30 = pd.ExcelFile(filedir+pTL69filenameDiclo30)#converters={'names':str,'ages':str}\n",
    "pTL69xlDiclo30.sheet_names\n",
    "pTL69dfDiclo30 = pTL69xlDiclo30.parse(\"Sheet1\",converters={'Filename': np.int64,'ContRamp1550': np.int64,'NaGlu1': np.int64, 'NaGluDiclo30': np.int64}) #calls for Sheet names \n",
    "pTL69RecordingDiclo30 = pTL69frogDiclo30 + pTL69RecNrDiclo30\n",
    "\n",
    "#### Uninj\n",
    "UninjfilenameDiclo30 = 'TEVCMeta'+ UninjfrogDiclo30 +'.xlsx'\n",
    "#mg419Recording = mg419frog + mg419RecNr #maybe trouble with - in .dat file. matlab ignored all of them. hekareader not\n",
    "UninjxlDiclo30 = pd.ExcelFile(filedir+UninjfilenameDiclo30)#converters={'names':str,'ages':str}\n",
    "UninjxlDiclo30.sheet_names\n",
    "UninjdfDiclo30 = UninjxlDiclo30.parse(\"Sheet1\",converters={'Filename': np.int64,'ContRamp1550': np.int64,'NaGlu1': np.int64, 'NaGluDiclo30': np.int64}) #calls for Sheet names \n",
    "UninjRecordingDiclo30 = UninjfrogDiclo30 + UninjRecNrDiclo30\n"
   ]
  },
  {
   "cell_type": "markdown",
   "metadata": {},
   "source": [
    "#### The text below finds the .datfile belonging to the recording mg419frog/mg419RecNr 30 uM EIPA"
   ]
  },
  {
   "cell_type": "code",
   "execution_count": 13,
   "metadata": {},
   "outputs": [],
   "source": [
    "mg419filenameEIPA30 = 'TEVCMeta'+ mg419frogEIPA30 +'.xlsx'\n",
    "#mg419Recording = mg419frog + mg419RecNr #maybe trouble with - in .dat file. matlab ignored all of them. hekareader not\n",
    "mg419xlEIPA30 = pd.ExcelFile(filedir+mg419filenameEIPA30)#converters={'names':str,'ages':str}\n",
    "mg419xlEIPA30.sheet_names\n",
    "mg419dfEIPA30 = mg419xlEIPA30.parse(\"Sheet1\",converters={'Filename': np.int64,'ContRamp1550': np.int64,'NaGlu1': np.int64,'NaGlu3': np.int64, 'NaGluEipa30': np.int64}) #calls for Sheet names \n",
    "mg419RecordingEIPA30 = mg419frogEIPA30 + mg419RecNrEIPA30\n",
    "\n",
    "#### mg418\n",
    "mg418filenameEIPA30 = 'TEVCMeta'+ mg418frogEIPA30 +'.xlsx'\n",
    "#mg419Recording = mg419frog + mg419RecNr #maybe trouble with - in .dat file. matlab ignored all of them. hekareader not\n",
    "mg418xlEIPA30 = pd.ExcelFile(filedir+mg418filenameEIPA30)#converters={'names':str,'ages':str}\n",
    "mg418xlEIPA30.sheet_names\n",
    "mg418dfEIPA30 = mg418xlEIPA30.parse(\"Sheet1\",converters={'Filename': np.int64,'ContRamp1550': np.int64,'NaGlu5': np.int64, 'NaGluEipa30': np.int64}) #calls for Sheet names \n",
    "mg418RecordingEIPA30 = mg418frogEIPA30 + mg418RecNrEIPA30\n",
    "\n",
    "#### pTL69\n",
    "pTL69filenameEIPA30 = 'TEVCMeta'+ pTL69frogEIPA30 +'.xlsx'\n",
    "#mg419Recording = mg419frog + mg419RecNr #maybe trouble with - in .dat file. matlab ignored all of them. hekareader not\n",
    "pTL69xlEIPA30 = pd.ExcelFile(filedir+pTL69filenameEIPA30)#converters={'names':str,'ages':str}\n",
    "pTL69xlEIPA30.sheet_names\n",
    "pTL69dfEIPA30 = pTL69xlEIPA30.parse(\"Sheet1\",converters={'Filename': np.int64,'ContRamp1550': np.int64,'NaGlu1': np.int64, 'NaGluEipa30': np.int64}) #calls for Sheet names \n",
    "pTL69RecordingEIPA30 = pTL69frogEIPA30 + pTL69RecNrEIPA30\n",
    "\n",
    "# #### Uninj\n",
    "UninjfilenameEIPA30 = 'TEVCMeta'+ UninjfrogEIPA30 +'.xlsx'\n",
    "#mg419Recording = mg419frog + mg419RecNr #maybe trouble with - in .dat file. matlab ignored all of them. hekareader not\n",
    "UninjxlEIPA30 = pd.ExcelFile(filedir+UninjfilenameEIPA30)#converters={'names':str,'ages':str}\n",
    "UninjxlEIPA30.sheet_names\n",
    "UninjdfEIPA30 = UninjxlEIPA30.parse(\"Sheet1\",converters={'Filename': np.int64,'ContRamp1550': np.int64,'NaGlu1': np.int64, 'NaGluEipa30': np.int64,'NaGlu5': np.int64 }) #calls for Sheet names \n",
    "UninjRecordingEIPA30 = UninjfrogEIPA30 + UninjRecNrEIPA30\n"
   ]
  },
  {
   "cell_type": "code",
   "execution_count": 14,
   "metadata": {},
   "outputs": [
    {
     "data": {
      "text/plain": [
       "'STFX030043'"
      ]
     },
     "execution_count": 14,
     "metadata": {},
     "output_type": "execute_result"
    }
   ],
   "source": [
    "UninjRecordingEIPA30"
   ]
  },
  {
   "cell_type": "markdown",
   "metadata": {},
   "source": [
    "### find the .dat file name in the MetaData sheet of the corresponding recording"
   ]
  },
  {
   "cell_type": "markdown",
   "metadata": {},
   "source": [
    "#### find for 30 uM Ibuprofen"
   ]
  },
  {
   "cell_type": "code",
   "execution_count": 15,
   "metadata": {},
   "outputs": [],
   "source": [
    "#find the .dat file name in the MetaData sheet of the corresponding recording\n",
    "mg419DatFileIbu30 = mg419dfIbu30.Filename[(mg419dfIbu30.CellID == mg419RecordingIbu30)]#.values[0] #values[0] gives me the integer directly. no need for iloc\n",
    "mg418DatFileIbu30 = mg418dfIbu30.Filename[(mg418dfIbu30.CellID == mg418RecordingIbu30)]\n",
    "pTL69DatFileIbu30 = pTL69dfIbu30.Filename[(pTL69dfIbu30.CellID == pTL69RecordingIbu30)]\n",
    "UninjDatFileIbu30 = UninjdfIbu30.Filename[(UninjdfIbu30.CellID == UninjRecordingIbu30)]\n"
   ]
  },
  {
   "cell_type": "markdown",
   "metadata": {},
   "source": [
    "#### find .dat file name for 30 uM Fibuprofen"
   ]
  },
  {
   "cell_type": "code",
   "execution_count": 16,
   "metadata": {},
   "outputs": [],
   "source": [
    "#find the .dat file name in the MetaData sheet of the corresponding recording\n",
    "mg419DatFileFibu30 = mg419dfFibu30.Filename[(mg419dfFibu30.CellID == mg419RecordingFibu30)]#.values[0] #values[0] gives me the integer directly. no need for iloc\n",
    "mg418DatFileFibu30 = mg418dfFibu30.Filename[(mg418dfFibu30.CellID == mg418RecordingFibu30)]\n",
    "pTL69DatFileFibu30 = pTL69dfFibu30.Filename[(pTL69dfFibu30.CellID == pTL69RecordingFibu30)]\n",
    "UninjDatFileFibu30 = UninjdfFibu30.Filename[(UninjdfFibu30.CellID == UninjRecordingFibu30)]\n"
   ]
  },
  {
   "cell_type": "code",
   "execution_count": 17,
   "metadata": {},
   "outputs": [
    {
     "data": {
      "text/plain": [
       "16    20190320\n",
       "Name: Filename, dtype: int64"
      ]
     },
     "execution_count": 17,
     "metadata": {},
     "output_type": "execute_result"
    }
   ],
   "source": [
    "UninjDatFileFibu30"
   ]
  },
  {
   "cell_type": "markdown",
   "metadata": {},
   "source": [
    "#### find .dat file name for 30 uM Diclofenac"
   ]
  },
  {
   "cell_type": "code",
   "execution_count": 18,
   "metadata": {},
   "outputs": [],
   "source": [
    "#find the .dat file name in the MetaData sheet of the corresponding recording\n",
    "mg419DatFileDiclo30 = mg419dfDiclo30.Filename[(mg419dfDiclo30.CellID == mg419RecordingDiclo30)]#.values[0] #values[0] gives me the integer directly. no need for iloc\n",
    "mg418DatFileDiclo30 = mg418dfDiclo30.Filename[(mg418dfDiclo30.CellID == mg418RecordingDiclo30)]\n",
    "pTL69DatFileDiclo30 = pTL69dfDiclo30.Filename[(pTL69dfDiclo30.CellID == pTL69RecordingDiclo30)]\n",
    "UninjDatFileDiclo30 = UninjdfDiclo30.Filename[(UninjdfDiclo30.CellID == UninjRecordingDiclo30)]\n"
   ]
  },
  {
   "cell_type": "markdown",
   "metadata": {},
   "source": [
    "#### find .dat file name for 30 uM EIPA"
   ]
  },
  {
   "cell_type": "code",
   "execution_count": 19,
   "metadata": {},
   "outputs": [],
   "source": [
    "#find the .dat file name in the MetaData sheet of the corresponding recording\n",
    "mg419DatFileEIPA30 = mg419dfEIPA30.Filename[(mg419dfEIPA30.CellID == mg419RecordingEIPA30)]#.values[0] #values[0] gives me the integer directly. no need for iloc\n",
    "mg418DatFileEIPA30 = mg418dfEIPA30.Filename[(mg418dfEIPA30.CellID == mg418RecordingEIPA30)]\n",
    "pTL69DatFileEIPA30 = pTL69dfEIPA30.Filename[(pTL69dfEIPA30.CellID == pTL69RecordingEIPA30)]\n",
    "UninjDatFileEIPA30 = UninjdfEIPA30.Filename[(UninjdfEIPA30.CellID == UninjRecordingEIPA30)]\n"
   ]
  },
  {
   "cell_type": "code",
   "execution_count": 20,
   "metadata": {},
   "outputs": [
    {
     "data": {
      "text/plain": [
       "17    20170712\n",
       "Name: Filename, dtype: int64"
      ]
     },
     "execution_count": 20,
     "metadata": {},
     "output_type": "execute_result"
    }
   ],
   "source": [
    "UninjDatFileEIPA30"
   ]
  },
  {
   "cell_type": "code",
   "execution_count": null,
   "metadata": {},
   "outputs": [],
   "source": []
  },
  {
   "cell_type": "markdown",
   "metadata": {},
   "source": [
    "### load dat files"
   ]
  },
  {
   "cell_type": "markdown",
   "metadata": {},
   "source": [
    "#### load dat files 30 uM Ibuprofen"
   ]
  },
  {
   "cell_type": "code",
   "execution_count": 21,
   "metadata": {},
   "outputs": [],
   "source": [
    "# Load a .dat file\n",
    "mg419loadFileIbu30 = heka_reader.Bundle(str(mg419DatFileIbu30.iloc[0])+'.dat')\n",
    "mg418loadFileIbu30 = heka_reader.Bundle(str(mg418DatFileIbu30.iloc[0])+'.dat')\n",
    "pTL69loadFileIbu30 = heka_reader.Bundle(str(pTL69DatFileIbu30.iloc[0])+'.dat')\n",
    "UninjloadFileIbu30 = heka_reader.Bundle(str(UninjDatFileIbu30.iloc[0])+'.dat')\n"
   ]
  },
  {
   "cell_type": "markdown",
   "metadata": {},
   "source": [
    "#### load dat files 30 uM Fibuprofen"
   ]
  },
  {
   "cell_type": "code",
   "execution_count": 22,
   "metadata": {},
   "outputs": [],
   "source": [
    "# Load a .dat file\n",
    "mg419loadFileFibu30 = heka_reader.Bundle(str(mg419DatFileFibu30.iloc[0])+'.dat')\n",
    "mg418loadFileFibu30 = heka_reader.Bundle(str(mg418DatFileFibu30.iloc[0])+'.dat')\n",
    "pTL69loadFileFibu30 = heka_reader.Bundle(str(pTL69DatFileFibu30.iloc[0])+'.dat')\n",
    "UninjloadFileFibu30 = heka_reader.Bundle(str(UninjDatFileFibu30.iloc[0])+'.dat')\n"
   ]
  },
  {
   "cell_type": "markdown",
   "metadata": {},
   "source": [
    "#### load dat files 30 uM Diclofenac"
   ]
  },
  {
   "cell_type": "code",
   "execution_count": 23,
   "metadata": {},
   "outputs": [],
   "source": [
    "# Load a .dat file\n",
    "mg419loadFileDiclo30 = heka_reader.Bundle(str(mg419DatFileDiclo30.iloc[0])+'.dat')\n",
    "mg418loadFileDiclo30 = heka_reader.Bundle(str(mg418DatFileDiclo30.iloc[0])+'.dat')\n",
    "pTL69loadFileDiclo30 = heka_reader.Bundle(str(pTL69DatFileDiclo30.iloc[0])+'.dat')\n",
    "UninjloadFileDiclo30 = heka_reader.Bundle(str(UninjDatFileDiclo30.iloc[0])+'.dat')\n"
   ]
  },
  {
   "cell_type": "markdown",
   "metadata": {},
   "source": [
    "#### load dat files 30 uM EIPA"
   ]
  },
  {
   "cell_type": "code",
   "execution_count": 24,
   "metadata": {},
   "outputs": [],
   "source": [
    "# Load a .dat file\n",
    "mg419loadFileEIPA30 = heka_reader.Bundle(str(mg419DatFileEIPA30.iloc[0])+'.dat')\n",
    "mg418loadFileEIPA30 = heka_reader.Bundle(str(mg418DatFileEIPA30.iloc[0])+'.dat')\n",
    "pTL69loadFileEIPA30 = heka_reader.Bundle(str(pTL69DatFileEIPA30.iloc[0])+'.dat')\n",
    "UninjloadFileEIPA30 = heka_reader.Bundle(str(UninjDatFileEIPA30.iloc[0])+'.dat')\n"
   ]
  },
  {
   "cell_type": "markdown",
   "metadata": {},
   "source": [
    "### ToDo: Figure out how to simplify calculation of mean "
   ]
  },
  {
   "cell_type": "markdown",
   "metadata": {},
   "source": [
    "###  ToDO: figure out how to plot previous trace as well"
   ]
  },
  {
   "cell_type": "markdown",
   "metadata": {},
   "source": [
    "### ToDo: How to figure out the series number or access the recordung via the label????"
   ]
  },
  {
   "cell_type": "markdown",
   "metadata": {},
   "source": [
    "#### caculate mean values for IBU"
   ]
  },
  {
   "cell_type": "code",
   "execution_count": 25,
   "metadata": {},
   "outputs": [],
   "source": [
    "#find the value of the sweep entered in meta data sheet for \n",
    "#Ibu30 \n",
    "mg419LastSweepNaGluIbu30 = mg419dfIbu30.NaGluIbu30[(mg419dfIbu30.CellID == mg419RecordingIbu30)]\n",
    "mg419CountRampIbu30 = mg419dfIbu30.ContRamp1550[(mg419dfIbu30.CellID == mg419RecordingIbu30)]\n",
    "### add other cell IDs here, too ####\n",
    "\n",
    "mg419dataVol1Ibu30 = mg419loadFileIbu30.data[mg419SeriesIbu30,mg419CountRampIbu30.iloc[0]-1,mg419LastSweepNaGluIbu30.iloc[0]-1 ,1]# remember python nomenclature\n",
    "mg419dataVol2Ibu30 = mg419loadFileIbu30.data[mg419SeriesIbu30,mg419CountRampIbu30.iloc[0]-1,mg419LastSweepNaGluIbu30.iloc[0]-2 ,1]\n",
    "mg419dataVol3Ibu30 = mg419loadFileIbu30.data[mg419SeriesIbu30,mg419CountRampIbu30.iloc[0]-1,mg419LastSweepNaGluIbu30.iloc[0]-3 ,1]\n",
    "\n",
    "mg419dataCur1Ibu30 = mg419loadFileIbu30.data[mg419SeriesIbu30,mg419CountRampIbu30.iloc[0]-1,mg419LastSweepNaGluIbu30.iloc[0]-1 ,0]# remember python nomenclature\n",
    "mg419dataCur2Ibu30 = mg419loadFileIbu30.data[mg419SeriesIbu30,mg419CountRampIbu30.iloc[0]-1,mg419LastSweepNaGluIbu30.iloc[0]-2 ,0]\n",
    "mg419dataCur3Ibu30 = mg419loadFileIbu30.data[mg419SeriesIbu30,mg419CountRampIbu30.iloc[0]-1,mg419LastSweepNaGluIbu30.iloc[0]-3 ,0]\n",
    "\n",
    "mg419dataVolIbu30 = (mg419dataVol1Ibu30+mg419dataVol2Ibu30+mg419dataVol3Ibu30)/3*1000\n",
    "mg419dataCurIbu30 = (mg419dataCur1Ibu30+mg419dataCur2Ibu30+mg419dataCur3Ibu30)/3*1000000\n",
    "\n",
    "\n",
    "##### mg418\n",
    "mg418LastSweepNaGluIbu30 = mg418dfIbu30.NaGluIbu30[(mg418dfIbu30.CellID == mg418RecordingIbu30)]\n",
    "mg418CountRampIbu30 = mg418dfIbu30.ContRamp1550[(mg418dfIbu30.CellID == mg418RecordingIbu30)]\n",
    "### add other cell IDs here, too ####\n",
    "\n",
    "mg418dataVol1Ibu30 = mg418loadFileIbu30.data[mg418SeriesIbu30,mg418CountRampIbu30.iloc[0]-1,mg418LastSweepNaGluIbu30.iloc[0]-1 ,1]# remember python nomenclature\n",
    "mg418dataVol2Ibu30 = mg418loadFileIbu30.data[mg418SeriesIbu30,mg418CountRampIbu30.iloc[0]-1,mg418LastSweepNaGluIbu30.iloc[0]-2 ,1]\n",
    "mg418dataVol3Ibu30 = mg418loadFileIbu30.data[mg418SeriesIbu30,mg418CountRampIbu30.iloc[0]-1,mg418LastSweepNaGluIbu30.iloc[0]-3 ,1]\n",
    "\n",
    "mg418dataCur1Ibu30 = mg418loadFileIbu30.data[mg418SeriesIbu30,mg418CountRampIbu30.iloc[0]-1,mg418LastSweepNaGluIbu30.iloc[0]-1 ,0]# remember python nomenclature\n",
    "mg418dataCur2Ibu30 = mg418loadFileIbu30.data[mg418SeriesIbu30,mg418CountRampIbu30.iloc[0]-1,mg418LastSweepNaGluIbu30.iloc[0]-2 ,0]\n",
    "mg418dataCur3Ibu30 = mg418loadFileIbu30.data[mg418SeriesIbu30,mg418CountRampIbu30.iloc[0]-1,mg418LastSweepNaGluIbu30.iloc[0]-3 ,0]\n",
    "\n",
    "mg418dataVolIbu30 = (mg418dataVol1Ibu30+mg418dataVol2Ibu30+mg418dataVol3Ibu30)/3*1000\n",
    "mg418dataCurIbu30 = (mg418dataCur1Ibu30+mg418dataCur2Ibu30+mg418dataCur3Ibu30)/3*1000000\n",
    "\n",
    "\n",
    "##### pTL69\n",
    "pTL69LastSweepNaGluIbu30 = pTL69dfIbu30.NaGluIbu30[(pTL69dfIbu30.CellID == pTL69RecordingIbu30)]\n",
    "pTL69CountRampIbu30 = pTL69dfIbu30.ContRamp1550[(pTL69dfIbu30.CellID == pTL69RecordingIbu30)]\n",
    "### add other cell IDs here, too ####\n",
    "\n",
    "pTL69dataVol1Ibu30 = pTL69loadFileIbu30.data[pTL69SeriesIbu30,pTL69CountRampIbu30.iloc[0]-1,pTL69LastSweepNaGluIbu30.iloc[0]-1 ,1]# remember python nomenclature\n",
    "pTL69dataVol2Ibu30 = pTL69loadFileIbu30.data[pTL69SeriesIbu30,pTL69CountRampIbu30.iloc[0]-1,pTL69LastSweepNaGluIbu30.iloc[0]-2 ,1]\n",
    "pTL69dataVol3Ibu30 = pTL69loadFileIbu30.data[pTL69SeriesIbu30,pTL69CountRampIbu30.iloc[0]-1,pTL69LastSweepNaGluIbu30.iloc[0]-3 ,1]\n",
    "\n",
    "pTL69dataCur1Ibu30 = pTL69loadFileIbu30.data[pTL69SeriesIbu30,pTL69CountRampIbu30.iloc[0]-1,pTL69LastSweepNaGluIbu30.iloc[0]-1 ,0]# remember python nomenclature\n",
    "pTL69dataCur2Ibu30 = pTL69loadFileIbu30.data[pTL69SeriesIbu30,pTL69CountRampIbu30.iloc[0]-1,pTL69LastSweepNaGluIbu30.iloc[0]-2 ,0]\n",
    "pTL69dataCur3Ibu30 = pTL69loadFileIbu30.data[pTL69SeriesIbu30,pTL69CountRampIbu30.iloc[0]-1,pTL69LastSweepNaGluIbu30.iloc[0]-3 ,0]\n",
    "\n",
    "pTL69dataVolIbu30 = (pTL69dataVol1Ibu30+pTL69dataVol2Ibu30+pTL69dataVol3Ibu30)/3*1000\n",
    "pTL69dataCurIbu30 = (pTL69dataCur1Ibu30+pTL69dataCur2Ibu30+pTL69dataCur3Ibu30)/3*1000000\n",
    "\n",
    "\n",
    "##### Uninj\n",
    "UninjLastSweepNaGluIbu30 = UninjdfIbu30.NaGluIbu30[(UninjdfIbu30.CellID == UninjRecordingIbu30)]\n",
    "UninjCountRampIbu30 = UninjdfIbu30.ContRamp1550[(UninjdfIbu30.CellID == UninjRecordingIbu30)]\n",
    "### add other cell IDs here, too ####\n",
    "\n",
    "UninjdataVol1Ibu30 = UninjloadFileIbu30.data[UninjSeriesIbu30,UninjCountRampIbu30.iloc[0]-1,UninjLastSweepNaGluIbu30.iloc[0]-1 ,1]# remember python nomenclature\n",
    "UninjdataVol2Ibu30 = UninjloadFileIbu30.data[UninjSeriesIbu30,UninjCountRampIbu30.iloc[0]-1,UninjLastSweepNaGluIbu30.iloc[0]-2 ,1]\n",
    "UninjdataVol3Ibu30 = UninjloadFileIbu30.data[UninjSeriesIbu30,UninjCountRampIbu30.iloc[0]-1,UninjLastSweepNaGluIbu30.iloc[0]-3 ,1]\n",
    "\n",
    "UninjdataCur1Ibu30 = UninjloadFileIbu30.data[UninjSeriesIbu30,UninjCountRampIbu30.iloc[0]-1,UninjLastSweepNaGluIbu30.iloc[0]-1 ,0]# remember python nomenclature\n",
    "UninjdataCur2Ibu30 = UninjloadFileIbu30.data[UninjSeriesIbu30,UninjCountRampIbu30.iloc[0]-1,UninjLastSweepNaGluIbu30.iloc[0]-2 ,0]\n",
    "UninjdataCur3Ibu30 = UninjloadFileIbu30.data[UninjSeriesIbu30,UninjCountRampIbu30.iloc[0]-1,UninjLastSweepNaGluIbu30.iloc[0]-3 ,0]\n",
    "\n",
    "UninjdataVolIbu30 = (UninjdataVol1Ibu30+UninjdataVol2Ibu30+UninjdataVol3Ibu30)/3*1000\n",
    "UninjdataCurIbu30 = (UninjdataCur1Ibu30+UninjdataCur2Ibu30+UninjdataCur3Ibu30)/3*1000000\n",
    "\n"
   ]
  },
  {
   "cell_type": "markdown",
   "metadata": {},
   "source": [
    "#### caculate mean values for 30 uM Fibuprofen (includes before and after) "
   ]
  },
  {
   "cell_type": "code",
   "execution_count": 26,
   "metadata": {},
   "outputs": [],
   "source": [
    "#find the value of the sweep entered in meta data sheet for \n",
    "#Fibu30 \n",
    "mg419LastSweepNaGluFibu30 = mg419dfFibu30.NaGluFibu30[(mg419dfFibu30.CellID == mg419RecordingFibu30)]\n",
    "mg419CountRampFibu30 = mg419dfFibu30.ContRamp1550[(mg419dfFibu30.CellID == mg419RecordingFibu30)]\n",
    "### BEFORE FIBU, BUT HARDCODED\n",
    "mg419LastSweepNaGlu3 = mg419dfFibu30.NaGlu3[(mg419dfFibu30.CellID == mg419RecordingFibu30)]\n",
    "### add other cell IDs here, too ####\n",
    "\n",
    "### CALUCLATE TRACEBEFOREFIBU\n",
    "mg419dataVol1Naglu3 = mg419loadFileFibu30.data[mg419SeriesFibu30,mg419CountRampFibu30.iloc[0]-1,mg419LastSweepNaGlu3.iloc[0]-1 ,1]# remember python nomenclature\n",
    "mg419dataVol2Naglu3= mg419loadFileFibu30.data[mg419SeriesFibu30,mg419CountRampFibu30.iloc[0]-1,mg419LastSweepNaGlu3.iloc[0]-2 ,1]\n",
    "mg419dataVol3Naglu3 = mg419loadFileFibu30.data[mg419SeriesFibu30,mg419CountRampFibu30.iloc[0]-1,mg419LastSweepNaGlu3.iloc[0]-3 ,1]\n",
    "\n",
    "mg419dataCur1Naglu3 = mg419loadFileFibu30.data[mg419SeriesFibu30,mg419CountRampFibu30.iloc[0]-1,mg419LastSweepNaGlu3.iloc[0]-1 ,0]# remember python nomenclature\n",
    "mg419dataCur2Naglu3 = mg419loadFileFibu30.data[mg419SeriesFibu30,mg419CountRampFibu30.iloc[0]-1,mg419LastSweepNaGlu3.iloc[0]-2 ,0]\n",
    "mg419dataCur3Naglu3 = mg419loadFileFibu30.data[mg419SeriesFibu30,mg419CountRampFibu30.iloc[0]-1,mg419LastSweepNaGlu3.iloc[0]-3 ,0]\n",
    "\n",
    "mg419dataVolNaglu3= (mg419dataVol1Naglu3+mg419dataVol2Naglu3+mg419dataVol3Naglu3)/3*1000\n",
    "mg419dataCurNaglu3 = (mg419dataCur1Naglu3+mg419dataCur2Naglu3+mg419dataCur3Naglu3)/3*1000000\n",
    "\n",
    "### CALCULATE FIBU\n",
    "mg419dataVol1Fibu30 = mg419loadFileFibu30.data[mg419SeriesFibu30,mg419CountRampFibu30.iloc[0]-1,mg419LastSweepNaGluFibu30.iloc[0]-1 ,1]# remember python nomenclature\n",
    "mg419dataVol2Fibu30 = mg419loadFileFibu30.data[mg419SeriesFibu30,mg419CountRampFibu30.iloc[0]-1,mg419LastSweepNaGluFibu30.iloc[0]-2 ,1]\n",
    "mg419dataVol3Fibu30 = mg419loadFileFibu30.data[mg419SeriesFibu30,mg419CountRampFibu30.iloc[0]-1,mg419LastSweepNaGluFibu30.iloc[0]-3 ,1]\n",
    "\n",
    "mg419dataCur1Fibu30 = mg419loadFileFibu30.data[mg419SeriesFibu30,mg419CountRampFibu30.iloc[0]-1,mg419LastSweepNaGluFibu30.iloc[0]-1 ,0]# remember python nomenclature\n",
    "mg419dataCur2Fibu30 = mg419loadFileFibu30.data[mg419SeriesFibu30,mg419CountRampFibu30.iloc[0]-1,mg419LastSweepNaGluFibu30.iloc[0]-2 ,0]\n",
    "mg419dataCur3Fibu30 = mg419loadFileFibu30.data[mg419SeriesFibu30,mg419CountRampFibu30.iloc[0]-1,mg419LastSweepNaGluFibu30.iloc[0]-3 ,0]\n",
    "\n",
    "mg419dataVolFibu30 = (mg419dataVol1Fibu30+mg419dataVol2Fibu30+mg419dataVol3Fibu30)/3*1000\n",
    "mg419dataCurFibu30 = (mg419dataCur1Fibu30+mg419dataCur2Fibu30+mg419dataCur3Fibu30)/3*1000000\n",
    "\n",
    "\n",
    "##### mg418\n",
    "mg418LastSweepNaGluFibu30 = mg418dfFibu30.NaGluFibu30[(mg418dfFibu30.CellID == mg418RecordingFibu30)]\n",
    "mg418CountRampFibu30 = mg418dfFibu30.ContRamp1550[(mg418dfFibu30.CellID == mg418RecordingFibu30)]\n",
    "### trace before Fibu\n",
    "mg418LastSweepNaGlu1 = mg418dfFibu30.NaGlu1[(mg418dfFibu30.CellID == mg418RecordingFibu30)]\n",
    "### add other cell IDs here, too ####\n",
    "\n",
    "#### traces before Fibu\n",
    "mg418dataVol1NaGlu1 = mg418loadFileFibu30.data[mg418SeriesFibu30,mg418CountRampFibu30.iloc[0]-1,mg418LastSweepNaGlu1.iloc[0]-1 ,1]# remember python nomenclature\n",
    "mg418dataVol2NaGlu1 = mg418loadFileFibu30.data[mg418SeriesFibu30,mg418CountRampFibu30.iloc[0]-1,mg418LastSweepNaGlu1.iloc[0]-2 ,1]\n",
    "mg418dataVol3NaGlu1 = mg418loadFileFibu30.data[mg418SeriesFibu30,mg418CountRampFibu30.iloc[0]-1,mg418LastSweepNaGlu1.iloc[0]-3 ,1]\n",
    "\n",
    "mg418dataCur1NaGlu1 = mg418loadFileFibu30.data[mg418SeriesFibu30,mg418CountRampFibu30.iloc[0]-1,mg418LastSweepNaGlu1.iloc[0]-1 ,0]# remember python nomenclature\n",
    "mg418dataCur2NaGlu1= mg418loadFileFibu30.data[mg418SeriesFibu30,mg418CountRampFibu30.iloc[0]-1,mg418LastSweepNaGlu1.iloc[0]-2 ,0]\n",
    "mg418dataCur3NaGlu1 = mg418loadFileFibu30.data[mg418SeriesFibu30,mg418CountRampFibu30.iloc[0]-1,mg418LastSweepNaGlu1.iloc[0]-3 ,0]\n",
    "\n",
    "mg418dataVolNaGlu1 = (mg418dataVol1NaGlu1+mg418dataVol2NaGlu1+mg418dataVol3NaGlu1)/3*1000\n",
    "mg418dataCurNaGlu1 = (mg418dataCur1NaGlu1+mg418dataCur2NaGlu1+mg418dataCur3NaGlu1)/3*1000000\n",
    "\n",
    "\n",
    "### traces Fibu\n",
    "mg418dataVol1Fibu30 = mg418loadFileFibu30.data[mg418SeriesFibu30,mg418CountRampFibu30.iloc[0]-1,mg418LastSweepNaGluFibu30.iloc[0]-1 ,1]# remember python nomenclature\n",
    "mg418dataVol2Fibu30 = mg418loadFileFibu30.data[mg418SeriesFibu30,mg418CountRampFibu30.iloc[0]-1,mg418LastSweepNaGluFibu30.iloc[0]-2 ,1]\n",
    "mg418dataVol3Fibu30 = mg418loadFileFibu30.data[mg418SeriesFibu30,mg418CountRampFibu30.iloc[0]-1,mg418LastSweepNaGluFibu30.iloc[0]-3 ,1]\n",
    "\n",
    "mg418dataCur1Fibu30 = mg418loadFileFibu30.data[mg418SeriesFibu30,mg418CountRampFibu30.iloc[0]-1,mg418LastSweepNaGluFibu30.iloc[0]-1 ,0]# remember python nomenclature\n",
    "mg418dataCur2Fibu30 = mg418loadFileFibu30.data[mg418SeriesFibu30,mg418CountRampFibu30.iloc[0]-1,mg418LastSweepNaGluFibu30.iloc[0]-2 ,0]\n",
    "mg418dataCur3Fibu30 = mg418loadFileFibu30.data[mg418SeriesFibu30,mg418CountRampFibu30.iloc[0]-1,mg418LastSweepNaGluFibu30.iloc[0]-3 ,0]\n",
    "\n",
    "mg418dataVolFibu30 = (mg418dataVol1Fibu30+mg418dataVol2Fibu30+mg418dataVol3Fibu30)/3*1000\n",
    "mg418dataCurFibu30 = (mg418dataCur1Fibu30+mg418dataCur2Fibu30+mg418dataCur3Fibu30)/3*1000000\n",
    "\n",
    "\n",
    "##### pTL69 #### \n",
    "pTL69LastSweepNaGluFibu30 = pTL69dfFibu30.NaGluFibu30[(pTL69dfFibu30.CellID == pTL69RecordingFibu30)]\n",
    "pTL69CountRampFibu30 = pTL69dfFibu30.ContRamp1550[(pTL69dfFibu30.CellID == pTL69RecordingFibu30)]\n",
    "####before \n",
    "pTL69LastSweepNaGlu1=  pTL69dfFibu30.NaGlu1[(pTL69dfFibu30.CellID == pTL69RecordingFibu30)]\n",
    "### add other cell IDs here, too ####\n",
    "\n",
    "\n",
    "##### before Fibu\n",
    "pTL69dataVol1NaGlu1 = pTL69loadFileFibu30.data[pTL69SeriesFibu30,pTL69CountRampFibu30.iloc[0]-1,pTL69LastSweepNaGlu1.iloc[0]-1 ,1]# remember python nomenclature\n",
    "pTL69dataVol2NaGlu1 = pTL69loadFileFibu30.data[pTL69SeriesFibu30,pTL69CountRampFibu30.iloc[0]-1,pTL69LastSweepNaGlu1.iloc[0]-2 ,1]\n",
    "pTL69dataVol3NaGlu1 = pTL69loadFileFibu30.data[pTL69SeriesFibu30,pTL69CountRampFibu30.iloc[0]-1,pTL69LastSweepNaGlu1.iloc[0]-3 ,1]\n",
    "\n",
    "pTL69dataCur1NaGlu1 = pTL69loadFileFibu30.data[pTL69SeriesFibu30,pTL69CountRampFibu30.iloc[0]-1,pTL69LastSweepNaGlu1.iloc[0]-1 ,0]# remember python nomenclature\n",
    "pTL69dataCur2NaGlu1 = pTL69loadFileFibu30.data[pTL69SeriesFibu30,pTL69CountRampFibu30.iloc[0]-1,pTL69LastSweepNaGlu1.iloc[0]-2 ,0]\n",
    "pTL69dataCur3NaGlu1 = pTL69loadFileFibu30.data[pTL69SeriesFibu30,pTL69CountRampFibu30.iloc[0]-1,pTL69LastSweepNaGlu1.iloc[0]-3 ,0]\n",
    "\n",
    "pTL69dataVolNaGlu1 = (pTL69dataVol1NaGlu1+pTL69dataVol2NaGlu1+pTL69dataVol3NaGlu1)/3*1000\n",
    "pTL69dataCurNaGlu1 = (pTL69dataCur1NaGlu1+pTL69dataCur2NaGlu1+pTL69dataCur3NaGlu1)/3*1000000\n",
    "\n",
    "\n",
    "#### Fibu\n",
    "pTL69dataVol1Fibu30 = pTL69loadFileFibu30.data[pTL69SeriesFibu30,pTL69CountRampFibu30.iloc[0]-1,pTL69LastSweepNaGluFibu30.iloc[0]-1 ,1]# remember python nomenclature\n",
    "pTL69dataVol2Fibu30 = pTL69loadFileFibu30.data[pTL69SeriesFibu30,pTL69CountRampFibu30.iloc[0]-1,pTL69LastSweepNaGluFibu30.iloc[0]-2 ,1]\n",
    "pTL69dataVol3Fibu30 = pTL69loadFileFibu30.data[pTL69SeriesFibu30,pTL69CountRampFibu30.iloc[0]-1,pTL69LastSweepNaGluFibu30.iloc[0]-3 ,1]\n",
    "\n",
    "pTL69dataCur1Fibu30 = pTL69loadFileFibu30.data[pTL69SeriesFibu30,pTL69CountRampFibu30.iloc[0]-1,pTL69LastSweepNaGluFibu30.iloc[0]-1 ,0]# remember python nomenclature\n",
    "pTL69dataCur2Fibu30 = pTL69loadFileFibu30.data[pTL69SeriesFibu30,pTL69CountRampFibu30.iloc[0]-1,pTL69LastSweepNaGluFibu30.iloc[0]-2 ,0]\n",
    "pTL69dataCur3Fibu30 = pTL69loadFileFibu30.data[pTL69SeriesFibu30,pTL69CountRampFibu30.iloc[0]-1,pTL69LastSweepNaGluFibu30.iloc[0]-3 ,0]\n",
    "\n",
    "pTL69dataVolFibu30 = (pTL69dataVol1Fibu30+pTL69dataVol2Fibu30+pTL69dataVol3Fibu30)/3*1000\n",
    "pTL69dataCurFibu30 = (pTL69dataCur1Fibu30+pTL69dataCur2Fibu30+pTL69dataCur3Fibu30)/3*1000000\n",
    "\n",
    "\n",
    "##### Uninj\n",
    "UninjLastSweepNaGluFibu30 = UninjdfFibu30.NaGluFibu30[(UninjdfFibu30.CellID == UninjRecordingFibu30)]\n",
    "UninjCountRampFibu30 = UninjdfFibu30.ContRamp1550[(UninjdfFibu30.CellID == UninjRecordingFibu30)]\n",
    "### add other cell IDs here, too ####\n",
    "UninjLastSweepNaGlu3 = UninjdfFibu30.NaGlu1[(UninjdfFibu30.CellID == UninjRecordingFibu30)]\n",
    "\n",
    "###before Fibu\n",
    "UninjdataVol1Naglu3 = UninjloadFileFibu30.data[UninjSeriesFibu30,UninjCountRampFibu30.iloc[0]-1,UninjLastSweepNaGlu3.iloc[0]-1 ,1]# remember python nomenclature\n",
    "UninjdataVol2Naglu3= UninjloadFileFibu30.data[UninjSeriesFibu30,UninjCountRampFibu30.iloc[0]-1,UninjLastSweepNaGlu3.iloc[0]-2 ,1]\n",
    "UninjdataVol3Naglu3 = UninjloadFileFibu30.data[UninjSeriesFibu30,UninjCountRampFibu30.iloc[0]-1,UninjLastSweepNaGlu3.iloc[0]-3 ,1]\n",
    "\n",
    "UninjdataCur1Naglu3 = UninjloadFileFibu30.data[UninjSeriesFibu30,UninjCountRampFibu30.iloc[0]-1,UninjLastSweepNaGlu3.iloc[0]-1 ,0]# remember python nomenclature\n",
    "UninjdataCur2Naglu3 = UninjloadFileFibu30.data[UninjSeriesFibu30,UninjCountRampFibu30.iloc[0]-1,UninjLastSweepNaGlu3.iloc[0]-2 ,0]\n",
    "UninjdataCur3Naglu3 = UninjloadFileFibu30.data[UninjSeriesFibu30,UninjCountRampFibu30.iloc[0]-1,UninjLastSweepNaGlu3.iloc[0]-3 ,0]\n",
    "\n",
    "UninjdataVolNaglu1Fibu= (UninjdataVol1Naglu3+UninjdataVol2Naglu3+UninjdataVol3Naglu3)/3*1000\n",
    "UninjdataCurNaglu1Fibu = (UninjdataCur1Naglu3+UninjdataCur2Naglu3+UninjdataCur3Naglu3)/3*1000000\n",
    "\n",
    "### CALCULATE FIBU\n",
    "UninjdataVol1Fibu30 = UninjloadFileFibu30.data[UninjSeriesFibu30,UninjCountRampFibu30.iloc[0]-1,UninjLastSweepNaGluFibu30.iloc[0]-1 ,1]# remember python nomenclature\n",
    "UninjdataVol2Fibu30 = UninjloadFileFibu30.data[UninjSeriesFibu30,UninjCountRampFibu30.iloc[0]-1,UninjLastSweepNaGluFibu30.iloc[0]-2 ,1]\n",
    "UninjdataVol3Fibu30 = UninjloadFileFibu30.data[UninjSeriesFibu30,UninjCountRampFibu30.iloc[0]-1,UninjLastSweepNaGluFibu30.iloc[0]-3 ,1]\n",
    "\n",
    "UninjdataCur1Fibu30 = UninjloadFileFibu30.data[UninjSeriesFibu30,UninjCountRampFibu30.iloc[0]-1,UninjLastSweepNaGluFibu30.iloc[0]-1 ,0]# remember python nomenclature\n",
    "UninjdataCur2Fibu30 = UninjloadFileFibu30.data[UninjSeriesFibu30,UninjCountRampFibu30.iloc[0]-1,UninjLastSweepNaGluFibu30.iloc[0]-2 ,0]\n",
    "UninjdataCur3Fibu30 = UninjloadFileFibu30.data[UninjSeriesFibu30,UninjCountRampFibu30.iloc[0]-1,UninjLastSweepNaGluFibu30.iloc[0]-3 ,0]\n",
    "\n",
    "\n",
    "UninjdataVolFibu30 = (UninjdataVol1Fibu30+UninjdataVol2Fibu30+UninjdataVol3Fibu30)/3*1000\n",
    "UninjdataCurFibu30 = (UninjdataCur1Fibu30+UninjdataCur2Fibu30+UninjdataCur3Fibu30)/3*1000000\n",
    "\n",
    "\n"
   ]
  },
  {
   "cell_type": "code",
   "execution_count": null,
   "metadata": {},
   "outputs": [],
   "source": []
  },
  {
   "cell_type": "code",
   "execution_count": null,
   "metadata": {},
   "outputs": [],
   "source": []
  },
  {
   "cell_type": "code",
   "execution_count": 27,
   "metadata": {},
   "outputs": [
    {
     "data": {
      "text/plain": [
       "16    2\n",
       "Name: ContRamp1550, dtype: int64"
      ]
     },
     "execution_count": 27,
     "metadata": {},
     "output_type": "execute_result"
    }
   ],
   "source": [
    "UninjCountRampFibu30 "
   ]
  },
  {
   "cell_type": "code",
   "execution_count": 28,
   "metadata": {},
   "outputs": [
    {
     "data": {
      "text/plain": [
       "16    28\n",
       "Name: NaGluFibu30, dtype: object"
      ]
     },
     "execution_count": 28,
     "metadata": {},
     "output_type": "execute_result"
    }
   ],
   "source": [
    "UninjLastSweepNaGluFibu30"
   ]
  },
  {
   "cell_type": "markdown",
   "metadata": {},
   "source": [
    "#### caculate mean values for 30 uM Diclofenac"
   ]
  },
  {
   "cell_type": "code",
   "execution_count": 29,
   "metadata": {},
   "outputs": [],
   "source": [
    "#find the value of the sweep entered in meta data sheet for \n",
    "#Diclo30 \n",
    "mg419LastSweepNaGluDiclo30 = mg419dfDiclo30.NaGluDiclo30[(mg419dfDiclo30.CellID == mg419RecordingDiclo30)]\n",
    "mg419CountRampDiclo30 = mg419dfDiclo30.ContRamp1550[(mg419dfDiclo30.CellID == mg419RecordingDiclo30)]\n",
    "### add other cell IDs here, too ####\n",
    "\n",
    "mg419dataVol1Diclo30 = mg419loadFileDiclo30.data[mg419SeriesDiclo30,mg419CountRampDiclo30.iloc[0]-1,mg419LastSweepNaGluDiclo30.iloc[0]-1 ,1]# remember python nomenclature\n",
    "mg419dataVol2Diclo30 = mg419loadFileDiclo30.data[mg419SeriesDiclo30,mg419CountRampDiclo30.iloc[0]-1,mg419LastSweepNaGluDiclo30.iloc[0]-2 ,1]\n",
    "mg419dataVol3Diclo30 = mg419loadFileDiclo30.data[mg419SeriesDiclo30,mg419CountRampDiclo30.iloc[0]-1,mg419LastSweepNaGluDiclo30.iloc[0]-3 ,1]\n",
    "\n",
    "mg419dataCur1Diclo30 = mg419loadFileDiclo30.data[mg419SeriesDiclo30,mg419CountRampDiclo30.iloc[0]-1,mg419LastSweepNaGluDiclo30.iloc[0]-1 ,0]# remember python nomenclature\n",
    "mg419dataCur2Diclo30 = mg419loadFileDiclo30.data[mg419SeriesDiclo30,mg419CountRampDiclo30.iloc[0]-1,mg419LastSweepNaGluDiclo30.iloc[0]-2 ,0]\n",
    "mg419dataCur3Diclo30 = mg419loadFileDiclo30.data[mg419SeriesDiclo30,mg419CountRampDiclo30.iloc[0]-1,mg419LastSweepNaGluDiclo30.iloc[0]-3 ,0]\n",
    "\n",
    "mg419dataVolDiclo30 = (mg419dataVol1Diclo30+mg419dataVol2Diclo30+mg419dataVol3Diclo30)/3*1000\n",
    "mg419dataCurDiclo30 = (mg419dataCur1Diclo30+mg419dataCur2Diclo30+mg419dataCur3Diclo30)/3*1000000\n",
    "\n",
    "\n",
    "##### mg418\n",
    "mg418LastSweepNaGluDiclo30 = mg418dfDiclo30.NaGluDiclo30[(mg418dfDiclo30.CellID == mg418RecordingDiclo30)]\n",
    "mg418CountRampDiclo30 = mg418dfDiclo30.ContRamp1550[(mg418dfDiclo30.CellID == mg418RecordingDiclo30)]\n",
    "### add other cell IDs here, too ####\n",
    "\n",
    "mg418dataVol1Diclo30 = mg418loadFileDiclo30.data[mg418SeriesDiclo30,mg418CountRampDiclo30.iloc[0]-1,mg418LastSweepNaGluDiclo30.iloc[0]-1 ,1]# remember python nomenclature\n",
    "mg418dataVol2Diclo30 = mg418loadFileDiclo30.data[mg418SeriesDiclo30,mg418CountRampDiclo30.iloc[0]-1,mg418LastSweepNaGluDiclo30.iloc[0]-2 ,1]\n",
    "mg418dataVol3Diclo30 = mg418loadFileDiclo30.data[mg418SeriesDiclo30,mg418CountRampDiclo30.iloc[0]-1,mg418LastSweepNaGluDiclo30.iloc[0]-3 ,1]\n",
    "\n",
    "mg418dataCur1Diclo30 = mg418loadFileDiclo30.data[mg418SeriesDiclo30,mg418CountRampDiclo30.iloc[0]-1,mg418LastSweepNaGluDiclo30.iloc[0]-1 ,0]# remember python nomenclature\n",
    "mg418dataCur2Diclo30 = mg418loadFileDiclo30.data[mg418SeriesDiclo30,mg418CountRampDiclo30.iloc[0]-1,mg418LastSweepNaGluDiclo30.iloc[0]-2 ,0]\n",
    "mg418dataCur3Diclo30 = mg418loadFileDiclo30.data[mg418SeriesDiclo30,mg418CountRampDiclo30.iloc[0]-1,mg418LastSweepNaGluDiclo30.iloc[0]-3 ,0]\n",
    "\n",
    "mg418dataVolDiclo30 = (mg418dataVol1Diclo30+mg418dataVol2Diclo30+mg418dataVol3Diclo30)/3*1000\n",
    "mg418dataCurDiclo30 = (mg418dataCur1Diclo30+mg418dataCur2Diclo30+mg418dataCur3Diclo30)/3*1000000\n",
    "\n",
    "\n",
    "##### pTL69\n",
    "pTL69LastSweepNaGluDiclo30 = pTL69dfDiclo30.NaGluDiclo30[(pTL69dfDiclo30.CellID == pTL69RecordingDiclo30)]\n",
    "pTL69CountRampDiclo30 = pTL69dfDiclo30.ContRamp1550[(pTL69dfDiclo30.CellID == pTL69RecordingDiclo30)]\n",
    "### add other cell IDs here, too ####\n",
    "\n",
    "pTL69dataVol1Diclo30 = pTL69loadFileDiclo30.data[pTL69SeriesDiclo30,pTL69CountRampDiclo30.iloc[0]-1,pTL69LastSweepNaGluDiclo30.iloc[0]-1 ,1]# remember python nomenclature\n",
    "pTL69dataVol2Diclo30 = pTL69loadFileDiclo30.data[pTL69SeriesDiclo30,pTL69CountRampDiclo30.iloc[0]-1,pTL69LastSweepNaGluDiclo30.iloc[0]-2 ,1]\n",
    "pTL69dataVol3Diclo30 = pTL69loadFileDiclo30.data[pTL69SeriesDiclo30,pTL69CountRampDiclo30.iloc[0]-1,pTL69LastSweepNaGluDiclo30.iloc[0]-3 ,1]\n",
    "\n",
    "pTL69dataCur1Diclo30 = pTL69loadFileDiclo30.data[pTL69SeriesDiclo30,pTL69CountRampDiclo30.iloc[0]-1,pTL69LastSweepNaGluDiclo30.iloc[0]-1 ,0]# remember python nomenclature\n",
    "pTL69dataCur2Diclo30 = pTL69loadFileDiclo30.data[pTL69SeriesDiclo30,pTL69CountRampDiclo30.iloc[0]-1,pTL69LastSweepNaGluDiclo30.iloc[0]-2 ,0]\n",
    "pTL69dataCur3Diclo30 = pTL69loadFileDiclo30.data[pTL69SeriesDiclo30,pTL69CountRampDiclo30.iloc[0]-1,pTL69LastSweepNaGluDiclo30.iloc[0]-3 ,0]\n",
    "\n",
    "pTL69dataVolDiclo30 = (pTL69dataVol1Diclo30+pTL69dataVol2Diclo30+pTL69dataVol3Diclo30)/3*1000\n",
    "pTL69dataCurDiclo30 = (pTL69dataCur1Diclo30+pTL69dataCur2Diclo30+pTL69dataCur3Diclo30)/3*1000000\n",
    "\n",
    "\n",
    "##### Uninj\n",
    "UninjLastSweepNaGluDiclo30 = UninjdfDiclo30.NaGluDiclo30[(UninjdfDiclo30.CellID == UninjRecordingDiclo30)]\n",
    "UninjCountRampDiclo30 = UninjdfDiclo30.ContRamp1550[(UninjdfDiclo30.CellID == UninjRecordingDiclo30)]\n",
    "### add other cell IDs here, too ####\n",
    "\n",
    "UninjdataVol1Diclo30 = UninjloadFileDiclo30.data[UninjSeriesDiclo30,UninjCountRampDiclo30.iloc[0]-1,UninjLastSweepNaGluDiclo30.iloc[0]-1 ,1]# remember python nomenclature\n",
    "UninjdataVol2Diclo30 = UninjloadFileDiclo30.data[UninjSeriesDiclo30,UninjCountRampDiclo30.iloc[0]-1,UninjLastSweepNaGluDiclo30.iloc[0]-2 ,1]\n",
    "UninjdataVol3Diclo30 = UninjloadFileDiclo30.data[UninjSeriesDiclo30,UninjCountRampDiclo30.iloc[0]-1,UninjLastSweepNaGluDiclo30.iloc[0]-3 ,1]\n",
    "\n",
    "UninjdataCur1Diclo30 = UninjloadFileDiclo30.data[UninjSeriesDiclo30,UninjCountRampDiclo30.iloc[0]-1,UninjLastSweepNaGluDiclo30.iloc[0]-1 ,0]# remember python nomenclature\n",
    "UninjdataCur2Diclo30 = UninjloadFileDiclo30.data[UninjSeriesDiclo30,UninjCountRampDiclo30.iloc[0]-1,UninjLastSweepNaGluDiclo30.iloc[0]-2 ,0]\n",
    "UninjdataCur3Diclo30 = UninjloadFileDiclo30.data[UninjSeriesDiclo30,UninjCountRampDiclo30.iloc[0]-1,UninjLastSweepNaGluDiclo30.iloc[0]-3 ,0]\n",
    "\n",
    "UninjdataVolDiclo30 = (UninjdataVol1Diclo30+UninjdataVol2Diclo30+UninjdataVol3Diclo30)/3*1000\n",
    "UninjdataCurDiclo30 = (UninjdataCur1Diclo30+UninjdataCur2Diclo30+UninjdataCur3Diclo30)/3*1000000\n",
    "\n"
   ]
  },
  {
   "cell_type": "markdown",
   "metadata": {},
   "source": [
    "#### caculate mean values for 30 uM EIPA"
   ]
  },
  {
   "cell_type": "code",
   "execution_count": 30,
   "metadata": {},
   "outputs": [],
   "source": [
    "#find the value of the sweep entered in meta data sheet for \n",
    "#EIPA30 \n",
    "mg419LastSweepNaGluEIPA30 = mg419dfEIPA30.NaGluEipa30[(mg419dfEIPA30.CellID == mg419RecordingEIPA30)]\n",
    "mg419CountRampEIPA30 = mg419dfEIPA30.ContRamp1550[(mg419dfEIPA30.CellID == mg419RecordingEIPA30)]\n",
    "### BEFORE EIPA, BUT HARDCODED\n",
    "#### change NaGLu3 depending on which was previous solution\n",
    "mg419LastSweepBeforeEIPA = mg419dfEIPA30.NaGlu3[(mg419dfEIPA30.CellID == mg419RecordingEIPA30)]\n",
    "# ### add other cell IDs here, too ####\n",
    "\n",
    "### CALUCLATE TRACEBEFOREEIPA\n",
    "mg419dataVol1BeforeEIPA = mg419loadFileEIPA30.data[mg419SeriesEIPA30,mg419CountRampEIPA30.iloc[0]-1,mg419LastSweepBeforeEIPA.iloc[0]-1 ,1]# remember python nomenclature\n",
    "mg419dataVol2BeforeEIPA= mg419loadFileEIPA30.data[mg419SeriesEIPA30,mg419CountRampEIPA30.iloc[0]-1,mg419LastSweepBeforeEIPA.iloc[0]-2 ,1]\n",
    "mg419dataVol3BeforeEIPA = mg419loadFileEIPA30.data[mg419SeriesEIPA30,mg419CountRampEIPA30.iloc[0]-1,mg419LastSweepBeforeEIPA.iloc[0]-3 ,1]\n",
    "\n",
    "mg419dataCur1BeforeEIPA = mg419loadFileEIPA30.data[mg419SeriesEIPA30,mg419CountRampEIPA30.iloc[0]-1,mg419LastSweepBeforeEIPA.iloc[0]-1 ,0]# remember python nomenclature\n",
    "mg419dataCur2BeforeEIPA = mg419loadFileEIPA30.data[mg419SeriesEIPA30,mg419CountRampEIPA30.iloc[0]-1,mg419LastSweepBeforeEIPA.iloc[0]-2 ,0]\n",
    "mg419dataCur3BeforeEIPA= mg419loadFileEIPA30.data[mg419SeriesEIPA30,mg419CountRampEIPA30.iloc[0]-1,mg419LastSweepBeforeEIPA.iloc[0]-3 ,0]\n",
    "\n",
    "mg419dataVolBeforeEIPA= (mg419dataVol1BeforeEIPA+mg419dataVol2BeforeEIPA+mg419dataVol3BeforeEIPA)/3*1000\n",
    "mg419dataCurBeforeEIPA = (mg419dataCur1BeforeEIPA+mg419dataCur2BeforeEIPA+mg419dataCur3BeforeEIPA)/3*1000000\n",
    "\n",
    "### CALCULATE EIPA\n",
    "mg419dataVol1EIPA30 = mg419loadFileEIPA30.data[mg419SeriesEIPA30,mg419CountRampEIPA30.iloc[0]-1,mg419LastSweepNaGluEIPA30.iloc[0]-1 ,1]# remember python nomenclature\n",
    "mg419dataVol2EIPA30 = mg419loadFileEIPA30.data[mg419SeriesEIPA30,mg419CountRampEIPA30.iloc[0]-1,mg419LastSweepNaGluEIPA30.iloc[0]-2 ,1]\n",
    "mg419dataVol3EIPA30 = mg419loadFileEIPA30.data[mg419SeriesEIPA30,mg419CountRampEIPA30.iloc[0]-1,mg419LastSweepNaGluEIPA30.iloc[0]-3 ,1]\n",
    "\n",
    "mg419dataCur1EIPA30 = mg419loadFileEIPA30.data[mg419SeriesEIPA30,mg419CountRampEIPA30.iloc[0]-1,mg419LastSweepNaGluEIPA30.iloc[0]-1 ,0]# remember python nomenclature\n",
    "mg419dataCur2EIPA30 = mg419loadFileEIPA30.data[mg419SeriesEIPA30,mg419CountRampEIPA30.iloc[0]-1,mg419LastSweepNaGluEIPA30.iloc[0]-2 ,0]\n",
    "mg419dataCur3EIPA30 = mg419loadFileEIPA30.data[mg419SeriesEIPA30,mg419CountRampEIPA30.iloc[0]-1,mg419LastSweepNaGluEIPA30.iloc[0]-3 ,0]\n",
    "\n",
    "mg419dataVolEIPA30 = (mg419dataVol1EIPA30+mg419dataVol2EIPA30+mg419dataVol3EIPA30)/3*1000\n",
    "mg419dataCurEIPA30 = (mg419dataCur1EIPA30+mg419dataCur2EIPA30+mg419dataCur3EIPA30)/3*1000000\n",
    "\n",
    "\n",
    "##### mg418\n",
    "mg418LastSweepNaGluEIPA30 = mg418dfEIPA30.NaGluEipa30[(mg418dfEIPA30.CellID == mg418RecordingEIPA30)]\n",
    "mg418CountRampEIPA30 = mg418dfEIPA30.ContRamp1550[(mg418dfEIPA30.CellID == mg418RecordingEIPA30)]\n",
    "### trace before EIPA\n",
    "mg418LastSweepBeforeEIPA = mg418dfEIPA30.NaGlu5[(mg418dfEIPA30.CellID == mg418RecordingEIPA30)]\n",
    "### add other cell IDs here, too ####\n",
    "\n",
    "#### traces before EIPA\n",
    "mg418dataVol1BeforeEIPA = mg418loadFileEIPA30.data[mg418SeriesEIPA30,mg418CountRampEIPA30.iloc[0]-1,mg418LastSweepBeforeEIPA.iloc[0]-1 ,1]# remember python nomenclature\n",
    "mg418dataVol2BeforeEIPA = mg418loadFileEIPA30.data[mg418SeriesEIPA30,mg418CountRampEIPA30.iloc[0]-1,mg418LastSweepBeforeEIPA.iloc[0]-2 ,1]\n",
    "mg418dataVol3BeforeEIPA = mg418loadFileEIPA30.data[mg418SeriesEIPA30,mg418CountRampEIPA30.iloc[0]-1,mg418LastSweepBeforeEIPA.iloc[0]-3 ,1]\n",
    "\n",
    "mg418dataCur1BeforeEIPA = mg418loadFileEIPA30.data[mg418SeriesEIPA30,mg418CountRampEIPA30.iloc[0]-1,mg418LastSweepBeforeEIPA.iloc[0]-1 ,0]# remember python nomenclature\n",
    "mg418dataCur2BeforeEIPA= mg418loadFileEIPA30.data[mg418SeriesEIPA30,mg418CountRampEIPA30.iloc[0]-1,mg418LastSweepBeforeEIPA.iloc[0]-2 ,0]\n",
    "mg418dataCur3BeforeEIPA = mg418loadFileEIPA30.data[mg418SeriesEIPA30,mg418CountRampEIPA30.iloc[0]-1,mg418LastSweepBeforeEIPA.iloc[0]-3 ,0]\n",
    "\n",
    "mg418dataVolBeforeEIPA = (mg418dataVol1BeforeEIPA+mg418dataVol2BeforeEIPA+mg418dataVol3BeforeEIPA)/3*1000\n",
    "mg418dataCurBeforeEIPA= (mg418dataCur1BeforeEIPA+mg418dataCur2BeforeEIPA+mg418dataCur3BeforeEIPA)/3*1000000\n",
    "\n",
    "\n",
    "### traces EIPA\n",
    "mg418dataVol1EIPA30 = mg418loadFileEIPA30.data[mg418SeriesEIPA30,mg418CountRampEIPA30.iloc[0]-1,mg418LastSweepNaGluEIPA30.iloc[0]-1 ,1]# remember python nomenclature\n",
    "mg418dataVol2EIPA30 = mg418loadFileEIPA30.data[mg418SeriesEIPA30,mg418CountRampEIPA30.iloc[0]-1,mg418LastSweepNaGluEIPA30.iloc[0]-2 ,1]\n",
    "mg418dataVol3EIPA30 = mg418loadFileEIPA30.data[mg418SeriesEIPA30,mg418CountRampEIPA30.iloc[0]-1,mg418LastSweepNaGluEIPA30.iloc[0]-3 ,1]\n",
    "\n",
    "mg418dataCur1EIPA30 = mg418loadFileEIPA30.data[mg418SeriesEIPA30,mg418CountRampEIPA30.iloc[0]-1,mg418LastSweepNaGluEIPA30.iloc[0]-1 ,0]# remember python nomenclature\n",
    "mg418dataCur2EIPA30 = mg418loadFileEIPA30.data[mg418SeriesEIPA30,mg418CountRampEIPA30.iloc[0]-1,mg418LastSweepNaGluEIPA30.iloc[0]-2 ,0]\n",
    "mg418dataCur3EIPA30 = mg418loadFileEIPA30.data[mg418SeriesEIPA30,mg418CountRampEIPA30.iloc[0]-1,mg418LastSweepNaGluEIPA30.iloc[0]-3 ,0]\n",
    "\n",
    "mg418dataVolEIPA30 = (mg418dataVol1EIPA30+mg418dataVol2EIPA30+mg418dataVol3EIPA30)/3*1000\n",
    "mg418dataCurEIPA30 = (mg418dataCur1EIPA30+mg418dataCur2EIPA30+mg418dataCur3EIPA30)/3*1000000\n",
    "\n",
    "\n",
    "##### pTL69 #### \n",
    "pTL69LastSweepNaGluEIPA30 = pTL69dfEIPA30.NaGluEipa30[(pTL69dfEIPA30.CellID == pTL69RecordingEIPA30)]\n",
    "pTL69CountRampEIPA30 = pTL69dfEIPA30.ContRamp1550[(pTL69dfEIPA30.CellID == pTL69RecordingEIPA30)]\n",
    "####before \n",
    "pTL69LastSweepBeforeEIPA=  pTL69dfEIPA30.NaGlu1[(pTL69dfEIPA30.CellID == pTL69RecordingEIPA30)]\n",
    "### add other cell IDs here, too ####\n",
    "\n",
    "##### before EIPA\n",
    "pTL69dataVol1BeforeEIPA = pTL69loadFileEIPA30.data[pTL69SeriesEIPA30,pTL69CountRampEIPA30.iloc[0]-1,pTL69LastSweepBeforeEIPA.iloc[0]-1 ,1]# remember python nomenclature\n",
    "pTL69dataVol2BeforeEIPA = pTL69loadFileEIPA30.data[pTL69SeriesEIPA30,pTL69CountRampEIPA30.iloc[0]-1,pTL69LastSweepBeforeEIPA.iloc[0]-2 ,1]\n",
    "pTL69dataVol3BeforeEIPA = pTL69loadFileEIPA30.data[pTL69SeriesEIPA30,pTL69CountRampEIPA30.iloc[0]-1,pTL69LastSweepBeforeEIPA.iloc[0]-3 ,1]\n",
    "\n",
    "pTL69dataCur1BeforeEIPA = pTL69loadFileEIPA30.data[pTL69SeriesEIPA30,pTL69CountRampEIPA30.iloc[0]-1,pTL69LastSweepBeforeEIPA.iloc[0]-1 ,0]# remember python nomenclature\n",
    "pTL69dataCur2BeforeEIPA = pTL69loadFileEIPA30.data[pTL69SeriesEIPA30,pTL69CountRampEIPA30.iloc[0]-1,pTL69LastSweepBeforeEIPA.iloc[0]-2 ,0]\n",
    "pTL69dataCur3BeforeEIPA = pTL69loadFileEIPA30.data[pTL69SeriesEIPA30,pTL69CountRampEIPA30.iloc[0]-1,pTL69LastSweepBeforeEIPA.iloc[0]-3 ,0]\n",
    "\n",
    "pTL69dataVolBeforeEIPA = (pTL69dataVol1BeforeEIPA+pTL69dataVol2BeforeEIPA+pTL69dataVol3BeforeEIPA)/3*1000\n",
    "pTL69dataCurBeforeEIPA = (pTL69dataCur1BeforeEIPA+pTL69dataCur2BeforeEIPA+pTL69dataCur3BeforeEIPA)/3*1000000\n",
    "\n",
    "\n",
    "#### EIPA\n",
    "pTL69dataVol1EIPA30 = pTL69loadFileEIPA30.data[pTL69SeriesEIPA30,pTL69CountRampEIPA30.iloc[0]-1,pTL69LastSweepNaGluEIPA30.iloc[0]-1 ,1]# remember python nomenclature\n",
    "pTL69dataVol2EIPA30 = pTL69loadFileEIPA30.data[pTL69SeriesEIPA30,pTL69CountRampEIPA30.iloc[0]-1,pTL69LastSweepNaGluEIPA30.iloc[0]-2 ,1]\n",
    "pTL69dataVol3EIPA30 = pTL69loadFileEIPA30.data[pTL69SeriesEIPA30,pTL69CountRampEIPA30.iloc[0]-1,pTL69LastSweepNaGluEIPA30.iloc[0]-3 ,1]\n",
    "\n",
    "pTL69dataCur1EIPA30 = pTL69loadFileEIPA30.data[pTL69SeriesEIPA30,pTL69CountRampEIPA30.iloc[0]-1,pTL69LastSweepNaGluEIPA30.iloc[0]-1 ,0]# remember python nomenclature\n",
    "pTL69dataCur2EIPA30 = pTL69loadFileEIPA30.data[pTL69SeriesEIPA30,pTL69CountRampEIPA30.iloc[0]-1,pTL69LastSweepNaGluEIPA30.iloc[0]-2 ,0]\n",
    "pTL69dataCur3EIPA30 = pTL69loadFileEIPA30.data[pTL69SeriesEIPA30,pTL69CountRampEIPA30.iloc[0]-1,pTL69LastSweepNaGluEIPA30.iloc[0]-3 ,0]\n",
    "\n",
    "pTL69dataVolEIPA30 = (pTL69dataVol1EIPA30+pTL69dataVol2EIPA30+pTL69dataVol3EIPA30)/3*1000\n",
    "pTL69dataCurEIPA30 = (pTL69dataCur1EIPA30+pTL69dataCur2EIPA30+pTL69dataCur3EIPA30)/3*1000000\n",
    "\n",
    "\n",
    "# ##### Uninj\n",
    "UninjLastSweepNaGluEIPA30 = UninjdfEIPA30.NaGluEipa30[(UninjdfEIPA30.CellID == UninjRecordingEIPA30)]\n",
    "UninjCountRampEIPA30 = UninjdfEIPA30.ContRamp1550[(UninjdfEIPA30.CellID == UninjRecordingEIPA30)]\n",
    "\n",
    "UninjLastSweepBeforeEIPA = UninjdfEIPA30.NaGlu5[(UninjdfEIPA30.CellID ==UninjRecordingEIPA30)]\n",
    "\n",
    "UninjdataVol1BeforeEIPA = UninjloadFileEIPA30.data[UninjSeriesEIPA30,UninjCountRampEIPA30.iloc[0]-1,UninjLastSweepBeforeEIPA.iloc[0]-1 ,1]# remember python nomenclature\n",
    "UninjdataVol2BeforeEIPA= UninjloadFileEIPA30.data[UninjSeriesEIPA30,UninjCountRampEIPA30.iloc[0]-1,UninjLastSweepBeforeEIPA.iloc[0]-2 ,1]\n",
    "UninjdataVol3BeforeEIPA = UninjloadFileEIPA30.data[UninjSeriesEIPA30,UninjCountRampEIPA30.iloc[0]-1,UninjLastSweepBeforeEIPA.iloc[0]-3 ,1]\n",
    "\n",
    "UninjdataCur1BeforeEIPA = UninjloadFileEIPA30.data[UninjSeriesEIPA30,UninjCountRampEIPA30.iloc[0]-1,UninjLastSweepBeforeEIPA.iloc[0]-1 ,0]# remember python nomenclature\n",
    "UninjdataCur2BeforeEIPA = UninjloadFileEIPA30.data[UninjSeriesEIPA30,UninjCountRampEIPA30.iloc[0]-1,UninjLastSweepBeforeEIPA.iloc[0]-2 ,0]\n",
    "UninjdataCur3BeforeEIPA= UninjloadFileEIPA30.data[UninjSeriesEIPA30,UninjCountRampEIPA30.iloc[0]-1,UninjLastSweepBeforeEIPA.iloc[0]-3 ,0]\n",
    "\n",
    "UninjdataVolBeforeEIPA= (UninjdataVol1BeforeEIPA+UninjdataVol2BeforeEIPA+UninjdataVol3BeforeEIPA)/3*1000\n",
    "UninjdataCurBeforeEIPA = (UninjdataCur1BeforeEIPA+UninjdataCur2BeforeEIPA+UninjdataCur3BeforeEIPA)/3*1000000\n",
    "\n",
    "### CALCULATE EIPA\n",
    "UninjdataVol1EIPA30 = UninjloadFileEIPA30.data[UninjSeriesEIPA30,UninjCountRampEIPA30.iloc[0]-1,UninjLastSweepNaGluEIPA30.iloc[0]-1 ,1]# remember python nomenclature\n",
    "UninjdataVol2EIPA30 = UninjloadFileEIPA30.data[UninjSeriesEIPA30,UninjCountRampEIPA30.iloc[0]-1,UninjLastSweepNaGluEIPA30.iloc[0]-2 ,1]\n",
    "UninjdataVol3EIPA30 = UninjloadFileEIPA30.data[UninjSeriesEIPA30,UninjCountRampEIPA30.iloc[0]-1,UninjLastSweepNaGluEIPA30.iloc[0]-3 ,1]\n",
    "\n",
    "UninjdataCur1EIPA30 = UninjloadFileEIPA30.data[UninjSeriesEIPA30,UninjCountRampEIPA30.iloc[0]-1,UninjLastSweepNaGluEIPA30.iloc[0]-1 ,0]# remember python nomenclature\n",
    "UninjdataCur2EIPA30 = UninjloadFileEIPA30.data[UninjSeriesEIPA30,UninjCountRampEIPA30.iloc[0]-1,UninjLastSweepNaGluEIPA30.iloc[0]-2 ,0]\n",
    "UninjdataCur3EIPA30 = UninjloadFileEIPA30.data[UninjSeriesEIPA30,UninjCountRampEIPA30.iloc[0]-1,UninjLastSweepNaGluEIPA30.iloc[0]-3 ,0]\n",
    "\n",
    "UninjdataVolEIPA30 = (UninjdataVol1EIPA30+UninjdataVol2EIPA30+UninjdataVol3EIPA30)/3*1000\n",
    "UninjdataCurEIPA30 = (UninjdataCur1EIPA30+UninjdataCur2EIPA30+UninjdataCur3EIPA30)/3*1000000\n",
    "\n",
    "\n"
   ]
  },
  {
   "cell_type": "markdown",
   "metadata": {},
   "source": [
    "## plot all representative traces drug (doesn't include before drug. how does mean I Naglu look like?)"
   ]
  },
  {
   "cell_type": "code",
   "execution_count": 31,
   "metadata": {},
   "outputs": [],
   "source": [
    "colorM4 = (0.30, 0.69, 0.29)\n",
    "colorU8 = (0.60, 0.31,0.64)\n",
    "colorDT1 = (0.89, 0.11,0.10)\n",
    "colorM10 = (1, 0.50,0)\n",
    "colorDel1 = (0.22,0.49,0.72)\n",
    "coloruninj = (0.00, 0.00, 0.00)\n",
    "#colorsSINGLES = [(0.30, 0.69, 0.29),(0.60, 0.31,0.64),(0.89, 0.11,0.10),(1, 0.50,0),(0.22,0.49,0.72),(0.00, 0.00, 0.00),\"red\",\"blue\",(0.00, 0.00, 0.00),(0.22, 0.49, 0.72),(1.00, 0.50, 0.00),\"darkgreen\",(0.30, 0.69, 0.29),(0.30, 0.69, 0.29),(0.6, 0.31, 0.64)]\n"
   ]
  },
  {
   "cell_type": "markdown",
   "metadata": {},
   "source": [
    "### MAKE IV CURVES"
   ]
  },
  {
   "cell_type": "markdown",
   "metadata": {},
   "source": [
    "### amiloride analog"
   ]
  },
  {
   "cell_type": "code",
   "execution_count": 35,
   "metadata": {},
   "outputs": [
    {
     "data": {
      "image/png": "[encoded data removed]",
      "text/plain": [
       "<Figure size 684x158.4 with 4 Axes>"
      ]
     },
     "metadata": {
      "needs_background": "light"
     },
     "output_type": "display_data"
    }
   ],
   "source": [
    "#plt.figure(figsize=(8.5, 8)) \n",
    "fig = plt.figure() \n",
    "fig.set_figheight(2.2)\n",
    "fig.set_figwidth(9.5)\n",
    "#plt.subplots(2, 2, sharex='col')\n",
    "#ax1 = plt.subplot(3,3,1)\n",
    "ax0 = plt.subplot(1,4,1)\n",
    "\n",
    "plt.plot(UninjdataVolBeforeEIPA[450:1449],UninjdataCurBeforeEIPA[450:1449], color= 'black',label=\"before\", alpha=0.5)\n",
    "plt.plot(UninjdataVolEIPA30[450:1449],UninjdataCurEIPA30[450:1449], color= 'black',label=\"30 µM EIPA\")\n",
    "\n",
    "ax1 = plt.subplot(1,4,2)\n",
    "#plt.plot(mg418dataVolIbu30[450:1449],mg418dataCurIbu30[450:1449], color= colorDT1,label=\"30 uM Ibu\")\n",
    "plt.plot(mg418dataVolBeforeEIPA[450:1449],mg418dataCurBeforeEIPA[450:1449], color= colorDT1,label=\"before\", alpha=0.5)\n",
    "plt.plot(mg418dataVolEIPA30[450:1449],mg418dataCurEIPA30[450:1449], color= colorDT1,label=\"30 µM EIPA\")\n",
    "\n",
    "#plt.plot(mg418dataVolDiclo30[450:1449],mg418dataCurDiclo30[450:1449], color= colorDT1,label=\"30 uM Diclo\")\n",
    "#plt.plot(UninjdataVolIbu30[450:1449],UninjdataCurIbu30[450:1449], color= coloruninj,label=\"Uninj\")\n",
    "\n",
    "ax2 = plt.subplot(1,4,3)\n",
    "#plt.plot(pTL69dataVolIbu30[450:1449],pTL69dataCurIbu30[450:1449], color = colorU8,label=\"UNC-8d\")\n",
    "plt.plot(pTL69dataVolBeforeEIPA[450:1449],pTL69dataCurBeforeEIPA[450:1449], color = colorU8,label=\"before\", alpha=0.5)\n",
    "plt.plot(pTL69dataVolEIPA30[450:1449],pTL69dataCurEIPA30[450:1449], color = colorU8,label=\"30 µM EIPA\")\n",
    "#plt.plot(pTL69dataVolDiclo30[450:1449],pTL69dataCurDiclo30[450:1449], color = colorU8,label=\"UNC-8d\")\n",
    "#plt.plot(UninjdataVolIbu30[450:1449],UninjdataCurIbu30[450:1449], color= coloruninj,label=\"Uninj\")\n",
    "\n",
    "ax3 = plt.subplot(1,4,4)\n",
    "#plt.plot(mg419dataVolIbu30[450:1449],mg419dataCurIbu30[450:1449], color= colorM4,label=\"MEC-4d\")\n",
    "plt.plot(mg419dataVolBeforeEIPA[450:1449],mg419dataCurBeforeEIPA[450:1449], color= colorM4,label=\"before\", alpha=0.5)\n",
    "plt.plot(mg419dataVolEIPA30[450:1449],mg419dataCurEIPA30[450:1449], color= colorM4,label=\"30 µM EIPA\")\n",
    "\n",
    "#plt.plot(mg419dataVolDiclo30[450:1449],mg419dataCurDiclo30[450:1449], color= colorM4,label=\"MEC-4d\")\n",
    "#plt.plot(UninjdataVolIbu30[450:1449],UninjdataCurIbu30[450:1449], color= coloruninj,label=\"Uninj\")\n",
    "xlimSet = [-100,75]\n",
    "xticksSet=[-100,-50,50,75]\n",
    "\n",
    "##### AXIS 2####\n",
    "ax0.set_ylim([-0.5, 1])\n",
    "ax0.spines['right'].set_visible(False)                                  # no spine at the right\n",
    "ax0.spines['top'].set_visible(False)                                     # no spine at the top\n",
    "ax0.yaxis.set_ticks_position('left')                                     # ticks at the left\n",
    "ax0.xaxis.set_ticks_position('bottom')                                 # no spine at the right\n",
    "ax0.spines['left'].set_position('zero')                           # a spine at the left that is put a little aside\n",
    "ax0.spines['bottom'].set_position('zero') \n",
    "ax0.spines['top'].set_position(('axes',5)) \n",
    "ax0.get_yaxis().set_tick_params(direction='in')\n",
    "ax0.get_xaxis().set_tick_params(direction='in')\n",
    "#ax2.plot([-1,20], [0,0] , 'k--', color='#000000', linewidth=1)#gray line for Zero or 1        \n",
    "#ax2.set_title('MEC-4d (A713T)',size=14)\n",
    "#ax2.set_xticklabels(np.unique(AmilAll30['Injection']),rotation=30)\n",
    "#ax2.set_xticklabels([\"MEC-4d\",\"UNC-8d\",\"DEGT-1d\",\"uninjected\"],rotation=30)\n",
    "ax0.set_xlim(xlimSet)\n",
    "ax0.set_xticks(xticksSet)\n",
    "ax0.set_yticks([-0.5,0.5,1])\n",
    "ax0.set_xlabel('mV',fontsize=AxisLabelSize)\n",
    "ax0.set_ylabel('µA',rotation=0,fontsize=AxisLabelSize)\n",
    "ax0.xaxis.set_label_coords(0.06,0.46)\n",
    "ax0.yaxis.set_label_coords(0.7,0.96)\n",
    "ax0.tick_params(axis='both', which='major', labelsize=AxisTickLabelSize)  \n",
    "#ax0.legend(bbox_to_anchor=(0.57, 0.3, 0.11, 0.78),frameon=False)\n",
    "#ax1.set_title('30 uM Ibu',size=14, color = 'red')\n",
    "\n",
    "##### AXIS 2####\n",
    "ax1.set_ylim([-0.5, 1])\n",
    "ax1.spines['right'].set_visible(False)                                  # no spine at the right\n",
    "ax1.spines['top'].set_visible(False)                                     # no spine at the top\n",
    "ax1.yaxis.set_ticks_position('left')                                     # ticks at the left\n",
    "ax1.xaxis.set_ticks_position('bottom')                                 # no spine at the right\n",
    "ax1.spines['left'].set_position('zero')                           # a spine at the left that is put a little aside\n",
    "ax1.spines['bottom'].set_position('zero') \n",
    "ax1.spines['top'].set_position(('axes',5)) \n",
    "ax1.get_yaxis().set_tick_params(direction='in')\n",
    "ax1.get_xaxis().set_tick_params(direction='in')\n",
    "#ax2.plot([-1,20], [0,0] , 'k--', color='#000000', linewidth=1)#gray line for Zero or 1        \n",
    "#ax2.set_title('MEC-4d (A713T)',size=14)\n",
    "#ax2.set_xticklabels(np.unique(AmilAll30['Injection']),rotation=30)\n",
    "#ax2.set_xticklabels([\"MEC-4d\",\"UNC-8d\",\"DEGT-1d\",\"uninjected\"],rotation=30)\n",
    "ax1.set_xlim(xlimSet)\n",
    "ax1.set_xticks(xticksSet)\n",
    "ax1.set_yticks([-0.5,0.5,1])\n",
    "ax1.set_xlabel('mV',fontsize=AxisLabelSize)\n",
    "ax1.set_ylabel('µA',rotation=0,fontsize=AxisLabelSize)\n",
    "ax1.xaxis.set_label_coords(0.06,0.46)\n",
    "ax1.yaxis.set_label_coords(0.7,0.96)\n",
    "ax1.tick_params(axis='both', which='major', labelsize=AxisTickLabelSize)  \n",
    "#ax1.legend(bbox_to_anchor=(0.57, 0.3, 0.11, 0.78),frameon=False)\n",
    "#ax1.set_title('30 uM Ibu',size=14, color = 'red')\n",
    "\n",
    "##### AXIS 3####\n",
    "ax2.set_ylim([-5,10])\n",
    "ax2.spines['right'].set_visible(False)                                  # no spine at the right\n",
    "ax2.spines['top'].set_visible(False)                                     # no spine at the top\n",
    "ax2.yaxis.set_ticks_position('left')                                     # ticks at the left\n",
    "ax2.xaxis.set_ticks_position('bottom')                                 # no spine at the right\n",
    "ax2.spines['left'].set_position('zero')                           # a spine at the left that is put a little aside\n",
    "ax2.spines['bottom'].set_position('zero') \n",
    "ax2.spines['top'].set_position(('axes',5)) \n",
    "ax2.get_yaxis().set_tick_params(direction='in')\n",
    "ax2.get_xaxis().set_tick_params(direction='in')\n",
    "#ax3.plot([-1,20], [0,0] , 'k--', color='#000000', linewidth=1)#gray line for Zero or 1          \n",
    "#ax3.set_title('UNC-8d (G378E)',size=14)\n",
    "#ax3.set_xticklabels(np.unique(AmilAll30['Injection']),rotation=30)\n",
    "#ax3.set_xticklabels([\"MEC-4d\",\"UNC-8d\",\"DEGT-1d\",\"uninjected\"],rotation=30)\n",
    "ax2.set_xlim(xlimSet)\n",
    "ax2.set_xticks(xticksSet)\n",
    "ax2.set_yticks([-5,5,10])\n",
    "ax2.set_xlabel('mV',fontsize=AxisLabelSize)\n",
    "ax2.set_ylabel('µA',rotation=0,fontsize=AxisLabelSize)\n",
    "ax2.xaxis.set_label_coords(0.06,0.46)\n",
    "ax2.yaxis.set_label_coords(0.7,0.96)\n",
    "ax2.tick_params(axis='both', which='major', labelsize=AxisTickLabelSize) \n",
    "#ax2.legend(bbox_to_anchor=(0.57, 0.3, 0.11, 0.78),frameon=False)\n",
    "\n",
    "\n",
    "##### AXIS 4####\n",
    "ax3.set_ylim([-5, 10])\n",
    "ax3.spines['right'].set_visible(False)                                  # no spine at the right\n",
    "ax3.spines['top'].set_visible(False)                                     # no spine at the top\n",
    "ax3.yaxis.set_ticks_position('left')                                     # ticks at the left\n",
    "ax3.xaxis.set_ticks_position('bottom')                                 # no spine at the right\n",
    "ax3.spines['left'].set_position('zero')                           # a spine at the left that is put a little aside\n",
    "ax3.spines['bottom'].set_position('zero')  \n",
    "ax3.spines['top'].set_position(('axes',5)) \n",
    "ax3.get_yaxis().set_tick_params(direction='in')\n",
    "ax3.get_xaxis().set_tick_params(direction='in')\n",
    "#a4.plot([-1,20], [0,0] , 'k--', color='#000000', linewidth=1)#gray line for Zero or 1        \n",
    "ax3.set_xlim(xlimSet)\n",
    "ax3.set_xticks(xticksSet)\n",
    "ax3.set_yticks([-5,5,10])\n",
    "ax3.set_xlabel('mV',fontsize=AxisLabelSize)\n",
    "ax3.set_ylabel('µA',rotation=0,fontsize=AxisLabelSize)\n",
    "ax3.xaxis.set_label_coords(0.06,0.46)\n",
    "ax3.yaxis.set_label_coords(0.7,0.96)\n",
    "ax3.tick_params(axis='both', which='major', labelsize=AxisTickLabelSize)  \n",
    "# ax3.legend(bbox_to_anchor=(0.57, 0.3, 0.11, 0.78),frameon=False)\n",
    "\n",
    "#plt.ylabel('Change in current', fontsize=16) \n",
    "#plt.xlabel('DEG/ENaC/ASIC subunits', fontsize=16)\n",
    "\n",
    "plt.gcf().subplots_adjust(bottom=0.1, left=0.1,right=None, top=None,hspace=2, wspace=0.5)     \n",
    " \n",
    "plt.savefig(filedirManuscript+\"Fig3-IVcurves-amilAnalog\"+'.pdf')\n",
    "\n",
    "#plt.savefig('/Users/Fechner/Dropbox/Manuscript_Pharmacology_DEGENACASIC⁩/FiguresManuscript⁩/Fig1/'+\"Fig1-NaGlu-IVcurves\"+'.jpg')\n",
    "#Dropbox⁩ ▸ ⁨ManuscriptPharmacologyDEGENACASIC⁩ ▸ ⁨FiguresManuscript⁩\n",
    "plt.show()\n",
    "\n"
   ]
  },
  {
   "cell_type": "markdown",
   "metadata": {},
   "source": [
    "#### NSAIDs"
   ]
  },
  {
   "cell_type": "code",
   "execution_count": 36,
   "metadata": {},
   "outputs": [
    {
     "data": {
      "image/png": "[encoded data removed]",
      "text/plain": [
       "<Figure size 684x158.4 with 4 Axes>"
      ]
     },
     "metadata": {
      "needs_background": "light"
     },
     "output_type": "display_data"
    }
   ],
   "source": [
    "#plt.figure(figsize=(8.5, 8)) \n",
    "fig = plt.figure() \n",
    "fig.set_figheight(2.2)\n",
    "fig.set_figwidth(9.5)\n",
    "#plt.subplots(2, 2, sharex='col')\n",
    "#ax1 = plt.subplot(3,3,1)\n",
    "ax0 = plt.subplot(1,4,1)\n",
    "plt.plot(UninjdataVolNaglu1Fibu[450:1449],UninjdataCurNaglu1Fibu[450:1449], color= 'black', alpha=0.5) #,label=\"before\",\n",
    "plt.plot(UninjdataVolFibu30[450:1449],UninjdataCurFibu30[450:1449], color= 'black')#,label=\"30 µM Fibu\"\n",
    "\n",
    "\n",
    "ax1 = plt.subplot(1,4,2)\n",
    "#plt.plot(mg418dataVolIbu30[450:1449],mg418dataCurIbu30[450:1449], color= colorDT1,label=\"30 uM Ibu\")\n",
    "plt.plot(mg418dataVolNaGlu1[450:1449],mg418dataCurNaGlu1[450:1449], color= colorDT1, alpha=0.5)\n",
    "plt.plot(mg418dataVolFibu30[450:1449],mg418dataCurFibu30[450:1449], color= colorDT1)\n",
    "\n",
    "#plt.plot(mg418dataVolDiclo30[450:1449],mg418dataCurDiclo30[450:1449], color= colorDT1,label=\"30 uM Diclo\")\n",
    "#plt.plot(UninjdataVolIbu30[450:1449],UninjdataCurIbu30[450:1449], color= coloruninj,label=\"Uninj\")\n",
    "\n",
    "ax2 = plt.subplot(1,4,3)\n",
    "#plt.plot(pTL69dataVolIbu30[450:1449],pTL69dataCurIbu30[450:1449], color = colorU8,label=\"UNC-8d\")\n",
    "plt.plot(pTL69dataVolNaGlu1[450:1449],pTL69dataCurNaGlu1[450:1449], color = colorU8, alpha=0.5)\n",
    "plt.plot(pTL69dataVolFibu30[450:1449],pTL69dataCurFibu30[450:1449], color = colorU8)\n",
    "#plt.plot(pTL69dataVolDiclo30[450:1449],pTL69dataCurDiclo30[450:1449], color = colorU8,label=\"UNC-8d\")\n",
    "#plt.plot(UninjdataVolIbu30[450:1449],UninjdataCurIbu30[450:1449], color= coloruninj,label=\"Uninj\")\n",
    "\n",
    "ax3 = plt.subplot(1,4,4)\n",
    "#plt.plot(mg419dataVolIbu30[450:1449],mg419dataCurIbu30[450:1449], color= colorM4,label=\"MEC-4d\")\n",
    "plt.plot(mg419dataVolNaglu3[450:1449],mg419dataCurNaglu3[450:1449], color= colorM4, alpha=0.5)\n",
    "plt.plot(mg419dataVolFibu30[450:1449],mg419dataCurFibu30[450:1449], color= colorM4)\n",
    "\n",
    "#plt.plot(mg419dataVolDiclo30[450:1449],mg419dataCurDiclo30[450:1449], color= colorM4,label=\"MEC-4d\")\n",
    "#plt.plot(UninjdataVolIbu30[450:1449],UninjdataCurIbu30[450:1449], color= coloruninj,label=\"Uninj\")\n",
    "\n",
    "xlimSet = [-100,75]\n",
    "xticksSet=[-100,-50,50,75]\n",
    "\n",
    "AxisTickLabelSize =8\n",
    "##### AXIS 2####\n",
    "ax0.set_ylim([-1.5, 1.5])\n",
    "ax0.spines['right'].set_visible(False)                                  # no spine at the right\n",
    "ax0.spines['top'].set_visible(False)                                     # no spine at the top\n",
    "ax0.yaxis.set_ticks_position('left')                                     # ticks at the left\n",
    "ax0.xaxis.set_ticks_position('bottom')                                 # no spine at the right\n",
    "ax0.spines['left'].set_position('zero')                           # a spine at the left that is put a little aside\n",
    "ax0.spines['bottom'].set_position('zero') \n",
    "ax0.spines['top'].set_position(('axes',5)) \n",
    "ax0.get_yaxis().set_tick_params(direction='in')\n",
    "ax0.get_xaxis().set_tick_params(direction='in')\n",
    "#ax2.plot([-1,20], [0,0] , 'k--', color='#000000', linewidth=1)#gray line for Zero or 1        \n",
    "#ax2.set_title('MEC-4d (A713T)',size=14)\n",
    "#ax2.set_xticklabels(np.unique(AmilAll30['Injection']),rotation=30)\n",
    "#ax2.set_xticklabels([\"MEC-4d\",\"UNC-8d\",\"DEGT-1d\",\"uninjected\"],rotation=30)\n",
    "ax0.set_xlim(xlimSet)\n",
    "ax0.set_xticks(xticksSet)\n",
    "ax0.set_yticks([-1.5,-0.5,0.5,1.5])\n",
    "ax0.set_xlabel('mV',fontsize=AxisLabelSize)\n",
    "ax0.set_ylabel('µA',rotation=0,fontsize=AxisLabelSize)\n",
    "ax0.xaxis.set_label_coords(0.06,0.62)\n",
    "ax0.yaxis.set_label_coords(0.7,0.96)\n",
    "ax0.tick_params(axis='both', which='major', labelsize=AxisTickLabelSize)  \n",
    "#ax0.legend(bbox_to_anchor=(0.57, 0.3, 0.11, 0.78),frameon=False)\n",
    "#ax1.set_title('30 uM Ibu',size=14, color = 'red')\n",
    "# ax0.annotate('pre',xy=(50, 35),xycoords='figure points', color=\"black\", alpha=0.5)#FIGURE Poitns: default coordinates\n",
    "# ax0.annotate('Fibu',xy=(42, 50),xycoords='figure points', color=\"black\")\n",
    "\n",
    "##### AXIS 2####\n",
    "ax1.set_ylim([-1.5, 1.5])\n",
    "ax1.spines['right'].set_visible(False)                                  # no spine at the right\n",
    "ax1.spines['top'].set_visible(False)                                     # no spine at the top\n",
    "ax1.yaxis.set_ticks_position('left')                                     # ticks at the left\n",
    "ax1.xaxis.set_ticks_position('bottom')                                 # no spine at the right\n",
    "ax1.spines['left'].set_position('zero')                           # a spine at the left that is put a little aside\n",
    "ax1.spines['bottom'].set_position('zero') \n",
    "ax1.spines['top'].set_position(('axes',5)) \n",
    "ax1.get_yaxis().set_tick_params(direction='in')\n",
    "ax1.get_xaxis().set_tick_params(direction='in')\n",
    "#ax2.plot([-1,20], [0,0] , 'k--', color='#000000', linewidth=1)#gray line for Zero or 1        \n",
    "#ax2.set_title('MEC-4d (A713T)',size=14)\n",
    "#ax2.set_xticklabels(np.unique(AmilAll30['Injection']),rotation=30)\n",
    "#ax2.set_xticklabels([\"MEC-4d\",\"UNC-8d\",\"DEGT-1d\",\"uninjected\"],rotation=30)\n",
    "ax1.set_xlim(xlimSet)\n",
    "ax1.set_xticks(xticksSet)\n",
    "ax1.set_yticks([-1.5,-0.5,0.5,1.5])\n",
    "ax1.set_xlabel('mV',fontsize=AxisLabelSize)\n",
    "ax1.set_ylabel('µA',rotation=0,fontsize=AxisLabelSize)\n",
    "ax1.xaxis.set_label_coords(0.06,0.62)\n",
    "ax1.yaxis.set_label_coords(0.7,0.96)\n",
    "ax1.tick_params(axis='both', which='major', labelsize=AxisTickLabelSize)  \n",
    "# ax1.annotate('pre',xy=(150, 35),xycoords='figure points', color=colorDT1, alpha=0.5)#FIGURE Poitns: default coordinates\n",
    "# ax1.annotate('Fibu',xy=(142, 50),xycoords='figure points', color=colorDT1)\n",
    "#ax1.set_title('30 uM Ibu',size=14, color = 'red')\n",
    "\n",
    "##### AXIS 3####\n",
    "ax2.set_ylim([-15,15])\n",
    "ax2.spines['right'].set_visible(False)                                  # no spine at the right\n",
    "ax2.spines['top'].set_visible(False)                                     # no spine at the top\n",
    "ax2.yaxis.set_ticks_position('left')                                     # ticks at the left\n",
    "ax2.xaxis.set_ticks_position('bottom')                                 # no spine at the right\n",
    "ax2.spines['left'].set_position('zero')                           # a spine at the left that is put a little aside\n",
    "ax2.spines['bottom'].set_position('zero') \n",
    "ax2.spines['top'].set_position(('axes',5)) \n",
    "ax2.get_yaxis().set_tick_params(direction='in')\n",
    "ax2.get_xaxis().set_tick_params(direction='in')\n",
    "#ax3.plot([-1,20], [0,0] , 'k--', color='#000000', linewidth=1)#gray line for Zero or 1          \n",
    "#ax3.set_title('UNC-8d (G378E)',size=14)\n",
    "#ax3.set_xticklabels(np.unique(AmilAll30['Injection']),rotation=30)\n",
    "#ax3.set_xticklabels([\"MEC-4d\",\"UNC-8d\",\"DEGT-1d\",\"uninjected\"],rotation=30)\n",
    "ax2.set_xlim(xlimSet)\n",
    "ax2.set_xticks(xticksSet)\n",
    "ax2.set_yticks([-15,-5,5,15])\n",
    "ax2.set_xlabel('mV',fontsize=AxisLabelSize)\n",
    "ax2.set_ylabel('µA',rotation=0,fontsize=AxisLabelSize)\n",
    "ax2.xaxis.set_label_coords(0.06,0.62)\n",
    "ax2.yaxis.set_label_coords(0.7,0.96)\n",
    "ax2.tick_params(axis='both', which='major', labelsize=AxisTickLabelSize) \n",
    "# ax2.legend(bbox_to_anchor=(0.57, 0.3, 0.11, 0.78),frameon=False)\n",
    "\n",
    "\n",
    "##### AXIS 4####\n",
    "ax3.set_ylim([-15, 15])\n",
    "ax3.spines['right'].set_visible(False)                                  # no spine at the right\n",
    "ax3.spines['top'].set_visible(False)                                     # no spine at the top\n",
    "ax3.yaxis.set_ticks_position('left')                                     # ticks at the left\n",
    "ax3.xaxis.set_ticks_position('bottom')                                 # no spine at the right\n",
    "ax3.spines['left'].set_position('zero')                           # a spine at the left that is put a little aside\n",
    "ax3.spines['bottom'].set_position('zero')  \n",
    "ax3.spines['top'].set_position(('axes',5)) \n",
    "ax3.get_yaxis().set_tick_params(direction='in')\n",
    "ax3.get_xaxis().set_tick_params(direction='in')\n",
    "#a4.plot([-1,20], [0,0] , 'k--', color='#000000', linewidth=1)#gray line for Zero or 1        \n",
    "ax3.set_xlim(xlimSet)\n",
    "ax3.set_xticks(xticksSet)\n",
    "ax3.set_yticks([-15,-5,5,15])\n",
    "ax3.set_xlabel('mV',fontsize=AxisLabelSize)\n",
    "ax3.set_ylabel('µA',rotation=0,fontsize=AxisLabelSize)\n",
    "ax3.xaxis.set_label_coords(0.06,0.62)\n",
    "ax3.yaxis.set_label_coords(0.7,0.96)\n",
    "ax3.tick_params(axis='both', which='major', labelsize=AxisTickLabelSize)  \n",
    "# ax3.legend(bbox_to_anchor=(0.57, 0.3, 0.11, 0.78),frameon=False)\n",
    "\n",
    "#plt.ylabel('Change in current', fontsize=16) \n",
    "#plt.xlabel('DEG/ENaC/ASIC subunits', fontsize=16)\n",
    "\n",
    "#plt.gcf().subplots_adjust(bottom=0.1, left=0.1,hspace=.5, wspace=0.3) \n",
    "plt.gcf().subplots_adjust(bottom=0.1, left=0.1,right=None, top=None,hspace=2, wspace=0.5)     \n",
    " \n",
    "    \n",
    "plt.savefig(filedirManuscript+\"Fig4-IVcurves-NSAIDs\"+'.pdf')\n",
    "\n",
    "#plt.savefig('/Users/Fechner/Dropbox/Manuscript_Pharmacology_DEGENACASIC⁩/FiguresManuscript⁩/Fig1/'+\"Fig1-NaGlu-IVcurves\"+'.jpg')\n",
    "#Dropbox⁩ ▸ ⁨ManuscriptPharmacologyDEGENACASIC⁩ ▸ ⁨FiguresManuscript⁩\n",
    "plt.show()\n",
    "\n"
   ]
  },
  {
   "cell_type": "code",
   "execution_count": null,
   "metadata": {},
   "outputs": [],
   "source": []
  },
  {
   "cell_type": "code",
   "execution_count": null,
   "metadata": {},
   "outputs": [],
   "source": []
  },
  {
   "cell_type": "code",
   "execution_count": null,
   "metadata": {},
   "outputs": [],
   "source": []
  },
  {
   "cell_type": "code",
   "execution_count": null,
   "metadata": {},
   "outputs": [],
   "source": []
  }
 ],
 "metadata": {
  "kernelspec": {
   "display_name": "Python 3",
   "language": "python",
   "name": "python3"
  },
  "language_info": {
   "codemirror_mode": {
    "name": "ipython",
    "version": 3
   },
   "file_extension": ".py",
   "mimetype": "text/x-python",
   "name": "python",
   "nbconvert_exporter": "python",
   "pygments_lexer": "ipython3",
   "version": "3.7.4"
  }
 },
 "nbformat": 4,
 "nbformat_minor": 2
}
