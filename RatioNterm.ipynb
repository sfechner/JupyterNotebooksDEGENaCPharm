{
 "cells": [
  {
   "cell_type": "code",
   "execution_count": 1,
   "metadata": {},
   "outputs": [
    {
     "name": "stderr",
     "output_type": "stream",
     "text": [
      "/Users/wormsenselab/anaconda3/envs/dabest/lib/python3.7/site-packages/matplotlib/__init__.py:1003: UserWarning: Duplicate key in file \"/Users/Fechner/.matplotlib/matplotlibrc\", line #3\n",
      "  (fname, cnt))\n",
      "/Users/wormsenselab/anaconda3/envs/dabest/lib/python3.7/site-packages/matplotlib/__init__.py:1003: UserWarning: Duplicate key in file \"/Users/Fechner/.matplotlib/matplotlibrc\", line #4\n",
      "  (fname, cnt))\n"
     ]
    }
   ],
   "source": [
    "from matplotlib import pyplot as plt\n",
    "import numpy as np\n",
    "%matplotlib inline\n",
    "from matplotlib import gridspec\n",
    "from matplotlib import rcParams\n",
    "from scipy.optimize import curve_fit\n",
    "import scipy.stats as stats\n",
    "from matplotlib import lines\n",
    "import seaborn as sns\n",
    "plt.rcParams['pdf.fonttype'] = 42 # to be able to change text in pdf opened with illustrator\n",
    "plt.rcParams['ps.fonttype'] = 42\n",
    "#import scipy.stats as stats\n",
    "from statsmodels.stats import multicomp \n",
    "from scipy import stats\n",
    "import dabest\n",
    "\n",
    "import pandas as pd\n",
    "import glob\n",
    "\n",
    "import tkinter as tk\n",
    "from tkinter import filedialog#to open dialog box to choose file\n",
    "from tkinter.filedialog import askopenfilename"
   ]
  },
  {
   "cell_type": "code",
   "execution_count": 2,
   "metadata": {},
   "outputs": [],
   "source": [
    "# Add heka_reader to PYTHONPATH\n",
    "import sys\n",
    "fpath = '/Users/Fechner/PythonStuff/heka_reader'\n",
    "sys.path.append(fpath)"
   ]
  },
  {
   "cell_type": "markdown",
   "metadata": {},
   "source": [
    "### switch to my directory and check if I am in the correct directory"
   ]
  },
  {
   "cell_type": "code",
   "execution_count": 3,
   "metadata": {},
   "outputs": [
    {
     "name": "stdout",
     "output_type": "stream",
     "text": [
      "/Users/Fechner/Box Sync/Fechner/TEVC-GoodmanlabBOX/Project-STFX/AnalysisSTFX/AnalysisNterm\n"
     ]
    }
   ],
   "source": [
    "cd ~/Box Sync/Fechner/TEVC-GoodmanlabBOX/Project-STFX/AnalysisSTFX/AnalysisNterm\n"
   ]
  },
  {
   "cell_type": "markdown",
   "metadata": {},
   "source": [
    "## Ratio plots are a result of the Matlab script TEVCAnalyzeLoopSTFX.m found on github analyzing mean values of 3 recordings for several conditions \n",
    "\n",
    "https://github.com/sfechner/AnalysisFunction/tree/master/TEVC"
   ]
  },
  {
   "cell_type": "code",
   "execution_count": 4,
   "metadata": {},
   "outputs": [],
   "source": [
    "filedir ='/Users/Fechner/Box Sync/Fechner/TEVC-GoodmanlabBOX/Project-STFX/AnalysisSTFX/AnalysisNterm/'\n",
    "filedirExportFig ='/Users/Fechner/Box Sync/Fechner/TEVC-GoodmanlabBOX/Project-STFX/AnalysisSTFX/AnalysisNterm/FiguresFromNotebook/'\n",
    "# filedirManuscript ='/Users/Fechner/Dropbox/ManuscriptFechnerPharmacology/Figures/ExportedFromNotebook/'\n",
    "# filedirManuscriptStat ='/Users/Fechner/Dropbox/ManuscriptFechnerPharmacology/Statistics/'\n",
    "\n",
    "#CHANGE USER NAME ON PRIVATE LAPTOP TO Fechner or be more clever about the Filename\n",
    "\n",
    "#root = tk.Tk()\n",
    "#root.withdraw() not sure if necessary, description to avoid opening full gui\n",
    "\n",
    "#either choose a cetain file or open dialog box\n",
    "#certain file\n",
    "filename = 'RatioNterm-20201026.xlsx'\n",
    "\n",
    "\n"
   ]
  },
  {
   "cell_type": "code",
   "execution_count": 5,
   "metadata": {},
   "outputs": [
    {
     "name": "stdout",
     "output_type": "stream",
     "text": [
      "RatioNterm-20201026.xlsx\n"
     ]
    },
    {
     "data": {
      "text/html": [
       "<div>\n",
       "<style scoped>\n",
       "    .dataframe tbody tr th:only-of-type {\n",
       "        vertical-align: middle;\n",
       "    }\n",
       "\n",
       "    .dataframe tbody tr th {\n",
       "        vertical-align: top;\n",
       "    }\n",
       "\n",
       "    .dataframe thead th {\n",
       "        text-align: right;\n",
       "    }\n",
       "</style>\n",
       "<table border=\"1\" class=\"dataframe\">\n",
       "  <thead>\n",
       "    <tr style=\"text-align: right;\">\n",
       "      <th></th>\n",
       "      <th>CellIDRec</th>\n",
       "      <th>Injection</th>\n",
       "      <th>CultivationSol</th>\n",
       "      <th>DaysPostInj</th>\n",
       "      <th>Rating</th>\n",
       "      <th>StartSol</th>\n",
       "      <th>TestSol</th>\n",
       "      <th>MeanSTART</th>\n",
       "      <th>MeanTEST</th>\n",
       "      <th>DELTA</th>\n",
       "      <th>RATIO</th>\n",
       "      <th>VrevSTART</th>\n",
       "      <th>VrevTEST</th>\n",
       "      <th>DELTAVrev</th>\n",
       "      <th>copyCELL</th>\n",
       "      <th>RestingVM</th>\n",
       "    </tr>\n",
       "  </thead>\n",
       "  <tbody>\n",
       "    <tr>\n",
       "      <th>0</th>\n",
       "      <td>STFX105001</td>\n",
       "      <td>mg419mg012</td>\n",
       "      <td>L-15(300Amil)</td>\n",
       "      <td>4</td>\n",
       "      <td>2.5</td>\n",
       "      <td>NaGluSel1</td>\n",
       "      <td>NaGluSelAmil300</td>\n",
       "      <td>-1.205231e-05</td>\n",
       "      <td>-3.208448e-07</td>\n",
       "      <td>1.173147e-05</td>\n",
       "      <td>0.026621</td>\n",
       "      <td>-0.010119</td>\n",
       "      <td>-0.058635</td>\n",
       "      <td>-0.048516</td>\n",
       "      <td>STFX105001</td>\n",
       "      <td>NaN</td>\n",
       "    </tr>\n",
       "    <tr>\n",
       "      <th>1</th>\n",
       "      <td>STFX105001</td>\n",
       "      <td>mg419mg012</td>\n",
       "      <td>L-15(300Amil)</td>\n",
       "      <td>4</td>\n",
       "      <td>2.5</td>\n",
       "      <td>NaGluSelAmil300</td>\n",
       "      <td>NaGluSel2</td>\n",
       "      <td>-3.208448e-07</td>\n",
       "      <td>-8.292098e-06</td>\n",
       "      <td>-7.971253e-06</td>\n",
       "      <td>25.844570</td>\n",
       "      <td>-0.058635</td>\n",
       "      <td>-0.010901</td>\n",
       "      <td>0.047734</td>\n",
       "      <td>NaN</td>\n",
       "      <td>NaN</td>\n",
       "    </tr>\n",
       "    <tr>\n",
       "      <th>2</th>\n",
       "      <td>STFX105003</td>\n",
       "      <td>mg751mg012</td>\n",
       "      <td>L-15(300Amil)</td>\n",
       "      <td>4</td>\n",
       "      <td>3.0</td>\n",
       "      <td>NaGluSel1</td>\n",
       "      <td>NaGluSelAmil300</td>\n",
       "      <td>-3.059278e-05</td>\n",
       "      <td>-1.594895e-06</td>\n",
       "      <td>2.899788e-05</td>\n",
       "      <td>0.052133</td>\n",
       "      <td>-0.007020</td>\n",
       "      <td>-0.033100</td>\n",
       "      <td>-0.026080</td>\n",
       "      <td>NaN</td>\n",
       "      <td>NaN</td>\n",
       "    </tr>\n",
       "    <tr>\n",
       "      <th>3</th>\n",
       "      <td>STFX105003</td>\n",
       "      <td>mg751mg012</td>\n",
       "      <td>L-15(300Amil)</td>\n",
       "      <td>4</td>\n",
       "      <td>3.0</td>\n",
       "      <td>NaGluSelAmil300</td>\n",
       "      <td>NaGluSel2</td>\n",
       "      <td>-1.594895e-06</td>\n",
       "      <td>-2.531582e-05</td>\n",
       "      <td>-2.372092e-05</td>\n",
       "      <td>15.873040</td>\n",
       "      <td>-0.033100</td>\n",
       "      <td>-0.007504</td>\n",
       "      <td>0.025595</td>\n",
       "      <td>NaN</td>\n",
       "      <td>NaN</td>\n",
       "    </tr>\n",
       "    <tr>\n",
       "      <th>4</th>\n",
       "      <td>STFX105004</td>\n",
       "      <td>mg758mg012</td>\n",
       "      <td>L-15(300Amil)</td>\n",
       "      <td>4</td>\n",
       "      <td>3.0</td>\n",
       "      <td>NaGluSel1</td>\n",
       "      <td>NaGluSelAmil300</td>\n",
       "      <td>-1.950847e-07</td>\n",
       "      <td>-2.006971e-07</td>\n",
       "      <td>-5.612408e-09</td>\n",
       "      <td>1.028769</td>\n",
       "      <td>-0.035235</td>\n",
       "      <td>-0.037840</td>\n",
       "      <td>-0.002605</td>\n",
       "      <td>NaN</td>\n",
       "      <td>NaN</td>\n",
       "    </tr>\n",
       "  </tbody>\n",
       "</table>\n",
       "</div>"
      ],
      "text/plain": [
       "    CellIDRec   Injection CultivationSol  DaysPostInj  Rating  \\\n",
       "0  STFX105001  mg419mg012  L-15(300Amil)            4     2.5   \n",
       "1  STFX105001  mg419mg012  L-15(300Amil)            4     2.5   \n",
       "2  STFX105003  mg751mg012  L-15(300Amil)            4     3.0   \n",
       "3  STFX105003  mg751mg012  L-15(300Amil)            4     3.0   \n",
       "4  STFX105004  mg758mg012  L-15(300Amil)            4     3.0   \n",
       "\n",
       "          StartSol          TestSol     MeanSTART      MeanTEST         DELTA  \\\n",
       "0        NaGluSel1  NaGluSelAmil300 -1.205231e-05 -3.208448e-07  1.173147e-05   \n",
       "1  NaGluSelAmil300        NaGluSel2 -3.208448e-07 -8.292098e-06 -7.971253e-06   \n",
       "2        NaGluSel1  NaGluSelAmil300 -3.059278e-05 -1.594895e-06  2.899788e-05   \n",
       "3  NaGluSelAmil300        NaGluSel2 -1.594895e-06 -2.531582e-05 -2.372092e-05   \n",
       "4        NaGluSel1  NaGluSelAmil300 -1.950847e-07 -2.006971e-07 -5.612408e-09   \n",
       "\n",
       "       RATIO  VrevSTART  VrevTEST  DELTAVrev    copyCELL  RestingVM  \n",
       "0   0.026621  -0.010119 -0.058635  -0.048516  STFX105001        NaN  \n",
       "1  25.844570  -0.058635 -0.010901   0.047734         NaN        NaN  \n",
       "2   0.052133  -0.007020 -0.033100  -0.026080         NaN        NaN  \n",
       "3  15.873040  -0.033100 -0.007504   0.025595         NaN        NaN  \n",
       "4   1.028769  -0.035235 -0.037840  -0.002605         NaN        NaN  "
      ]
     },
     "execution_count": 5,
     "metadata": {},
     "output_type": "execute_result"
    }
   ],
   "source": [
    "#pandas environment\n",
    "print(filename)\n",
    "xl = pd.ExcelFile(filedir+filename)\n",
    "xl.sheet_names\n",
    "\n",
    "df = xl.parse(\"Sheet1\",converters={'CultivationSol': str}) #calls for Sheet names \n",
    "df['RATIO'] = pd.to_numeric(df['RATIO'], errors='coerce')\n",
    "df.head()"
   ]
  },
  {
   "cell_type": "code",
   "execution_count": null,
   "metadata": {},
   "outputs": [],
   "source": []
  },
  {
   "cell_type": "markdown",
   "metadata": {},
   "source": [
    "# Plotting EST DATA before and after drug application to see soze of current and change in current"
   ]
  },
  {
   "cell_type": "markdown",
   "metadata": {},
   "source": [
    "# Re-arrange Before And After Drug"
   ]
  },
  {
   "cell_type": "code",
   "execution_count": 6,
   "metadata": {},
   "outputs": [],
   "source": [
    "AllInjection =  pd.unique(df[\"Injection\"])\n",
    "AllInjection = AllInjection.tolist()\n",
    "              \n",
    "TestSolution = pd.unique(df[\"TestSol\"])\n",
    "TestSolution  = TestSolution.tolist()\n",
    "\n",
    "df_new = pd.DataFrame()\n",
    "results = {}\n",
    "\n",
    "for Solelement in TestSolution: \n",
    "    for element in AllInjection:\n",
    "        if df[(df.Injection.isin([element])) & (df.TestSol.isin([Solelement]))].empty == True:\n",
    "            #print('sdsdsd')\n",
    "            continue\n",
    "        else: \n",
    "            #print('sol presetn')\n",
    "            result = df[(df.Injection.isin([element])) & (df.TestSol.isin([Solelement]))]\n",
    "            results[element] = result\n",
    "            if len(results[element]) <= 1:\n",
    "#                 print(results[element][\"TestSol\"] + '+' + results[element][\"Injection\"] + ' has less or equal to 2 recordings')\n",
    "                continue\n",
    "            else:\n",
    "                df_new = pd.concat([df_new,results[element][\"MeanSTART\"].rename(element+\"-\"+Solelement).reset_index(drop=True),results[element][\"MeanTEST\"].rename(element+'+'+Solelement).reset_index(drop=True)],sort=False, axis=1)\n",
    "            #print(len(results[element]))\n",
    "        \n",
    "df_newInuA = df_new.astype(float)*1000000  \n",
    "#\n",
    "#print(df_newInuA[\"mg012-NaGluAmil300\"])\n",
    "\n"
   ]
  },
  {
   "cell_type": "markdown",
   "metadata": {},
   "source": [
    "# Re-arrange Ratio "
   ]
  },
  {
   "cell_type": "code",
   "execution_count": 7,
   "metadata": {},
   "outputs": [],
   "source": [
    "AllInjection =  pd.unique(df[\"Injection\"])\n",
    "AllInjection = AllInjection.tolist()\n",
    "              \n",
    "TestSolution = pd.unique(df[\"TestSol\"])\n",
    "TestSolution  = TestSolution.tolist()\n",
    "\n",
    "df_Ratio = pd.DataFrame()\n",
    "results = {}\n",
    "\n",
    "for Solelement in TestSolution: \n",
    "    for element in AllInjection:\n",
    "        if df[(df.Injection.isin([element])) & (df.TestSol.isin([Solelement]))].empty == True:\n",
    "            #print('sdsdsd')\n",
    "            continue\n",
    "        else: \n",
    "            #print('sol presetn')\n",
    "            result = df[(df.Injection.isin([element])) & (df.TestSol.isin([Solelement]))]\n",
    "            results[element] = result\n",
    "            if len(results[element]) <= 2:\n",
    "#                 print(results[element][\"TestSol\"] + '+' + results[element][\"Injection\"] + ' has less or equal to 2 recordings')\n",
    "                continue\n",
    "            else:          \n",
    "                df_Ratio = pd.concat([df_Ratio,results[element][\"RATIO\"].rename(element+\"RATIO\"+Solelement).reset_index(drop=True),],sort=False, axis=1)\n",
    "\n",
    "        \n"
   ]
  },
  {
   "cell_type": "markdown",
   "metadata": {},
   "source": [
    "# Re-Arrange Change in Current"
   ]
  },
  {
   "cell_type": "code",
   "execution_count": 8,
   "metadata": {},
   "outputs": [
    {
     "data": {
      "text/html": [
       "<div>\n",
       "<style scoped>\n",
       "    .dataframe tbody tr th:only-of-type {\n",
       "        vertical-align: middle;\n",
       "    }\n",
       "\n",
       "    .dataframe tbody tr th {\n",
       "        vertical-align: top;\n",
       "    }\n",
       "\n",
       "    .dataframe thead th {\n",
       "        text-align: right;\n",
       "    }\n",
       "</style>\n",
       "<table border=\"1\" class=\"dataframe\">\n",
       "  <thead>\n",
       "    <tr style=\"text-align: right;\">\n",
       "      <th></th>\n",
       "      <th>mg419mg012DELTANaGluSelAmil300</th>\n",
       "      <th>mg751mg012DELTANaGluSelAmil300</th>\n",
       "      <th>mg758mg012DELTANaGluSelAmil300</th>\n",
       "      <th>mg757mg012DELTANaGluSelAmil300</th>\n",
       "      <th>mg759mg012DELTANaGluSelAmil300</th>\n",
       "      <th>mg760mg012DELTANaGluSelAmil300</th>\n",
       "      <th>mg761mg012DELTANaGluSelAmil300</th>\n",
       "      <th>mg733mg012DELTANaGluSelAmil300</th>\n",
       "      <th>mg745mg012DELTANaGluSelAmil300</th>\n",
       "      <th>mg746mg012DELTANaGluSelAmil300</th>\n",
       "      <th>...</th>\n",
       "      <th>mg742mg012DELTANaGluSel2</th>\n",
       "      <th>mg737mg012DELTANaGluSel2</th>\n",
       "      <th>mg418DELTANaGluAmil300</th>\n",
       "      <th>mg012DELTANaGluAmil300</th>\n",
       "      <th>mg418DELTANaGlu2</th>\n",
       "      <th>mg012DELTANaGlu2</th>\n",
       "      <th>mg418DELTANaGlu84</th>\n",
       "      <th>mg012DELTANaGlu84</th>\n",
       "      <th>mg418DELTANaGlu3</th>\n",
       "      <th>mg012DELTANaGlu3</th>\n",
       "    </tr>\n",
       "  </thead>\n",
       "  <tbody>\n",
       "    <tr>\n",
       "      <th>0</th>\n",
       "      <td>11.731470</td>\n",
       "      <td>28.99788</td>\n",
       "      <td>-0.005612</td>\n",
       "      <td>-0.043792</td>\n",
       "      <td>26.695210</td>\n",
       "      <td>8.462283</td>\n",
       "      <td>-0.006446</td>\n",
       "      <td>-0.002266</td>\n",
       "      <td>-0.016778</td>\n",
       "      <td>-0.025460</td>\n",
       "      <td>...</td>\n",
       "      <td>-48.92075</td>\n",
       "      <td>0.027137</td>\n",
       "      <td>-0.025042</td>\n",
       "      <td>0.012369</td>\n",
       "      <td>-0.057799</td>\n",
       "      <td>-0.010540</td>\n",
       "      <td>-0.446846</td>\n",
       "      <td>0.040706</td>\n",
       "      <td>-0.218854</td>\n",
       "      <td>-0.148770</td>\n",
       "    </tr>\n",
       "    <tr>\n",
       "      <th>1</th>\n",
       "      <td>4.669471</td>\n",
       "      <td>16.61951</td>\n",
       "      <td>-0.134361</td>\n",
       "      <td>0.038241</td>\n",
       "      <td>13.217030</td>\n",
       "      <td>11.950790</td>\n",
       "      <td>-0.036169</td>\n",
       "      <td>-0.016736</td>\n",
       "      <td>-0.010987</td>\n",
       "      <td>-0.017934</td>\n",
       "      <td>...</td>\n",
       "      <td>-13.36775</td>\n",
       "      <td>-0.061261</td>\n",
       "      <td>0.104454</td>\n",
       "      <td>-0.003150</td>\n",
       "      <td>0.005262</td>\n",
       "      <td>-0.009631</td>\n",
       "      <td>-0.101661</td>\n",
       "      <td>-0.017727</td>\n",
       "      <td>-0.076336</td>\n",
       "      <td>-0.051302</td>\n",
       "    </tr>\n",
       "    <tr>\n",
       "      <th>2</th>\n",
       "      <td>0.523840</td>\n",
       "      <td>24.69797</td>\n",
       "      <td>-0.127793</td>\n",
       "      <td>NaN</td>\n",
       "      <td>10.263970</td>\n",
       "      <td>11.722810</td>\n",
       "      <td>0.030530</td>\n",
       "      <td>-0.026429</td>\n",
       "      <td>0.088482</td>\n",
       "      <td>0.224322</td>\n",
       "      <td>...</td>\n",
       "      <td>-31.59876</td>\n",
       "      <td>NaN</td>\n",
       "      <td>-0.025540</td>\n",
       "      <td>0.011732</td>\n",
       "      <td>-0.032680</td>\n",
       "      <td>-0.029049</td>\n",
       "      <td>-0.262531</td>\n",
       "      <td>-0.015530</td>\n",
       "      <td>0.073907</td>\n",
       "      <td>-0.007442</td>\n",
       "    </tr>\n",
       "    <tr>\n",
       "      <th>3</th>\n",
       "      <td>0.960105</td>\n",
       "      <td>33.88875</td>\n",
       "      <td>NaN</td>\n",
       "      <td>NaN</td>\n",
       "      <td>-0.100829</td>\n",
       "      <td>42.901070</td>\n",
       "      <td>0.016518</td>\n",
       "      <td>NaN</td>\n",
       "      <td>0.010996</td>\n",
       "      <td>0.030478</td>\n",
       "      <td>...</td>\n",
       "      <td>-33.77262</td>\n",
       "      <td>NaN</td>\n",
       "      <td>0.003412</td>\n",
       "      <td>-0.012185</td>\n",
       "      <td>-0.184919</td>\n",
       "      <td>-0.022771</td>\n",
       "      <td>-0.329429</td>\n",
       "      <td>-0.020184</td>\n",
       "      <td>0.001165</td>\n",
       "      <td>-0.082996</td>\n",
       "    </tr>\n",
       "    <tr>\n",
       "      <th>4</th>\n",
       "      <td>13.838890</td>\n",
       "      <td>51.80703</td>\n",
       "      <td>NaN</td>\n",
       "      <td>NaN</td>\n",
       "      <td>31.912290</td>\n",
       "      <td>NaN</td>\n",
       "      <td>NaN</td>\n",
       "      <td>NaN</td>\n",
       "      <td>0.004091</td>\n",
       "      <td>0.022611</td>\n",
       "      <td>...</td>\n",
       "      <td>NaN</td>\n",
       "      <td>NaN</td>\n",
       "      <td>0.001603</td>\n",
       "      <td>-0.006354</td>\n",
       "      <td>-0.092611</td>\n",
       "      <td>-0.014239</td>\n",
       "      <td>-0.122499</td>\n",
       "      <td>-0.019938</td>\n",
       "      <td>0.409389</td>\n",
       "      <td>-0.148781</td>\n",
       "    </tr>\n",
       "  </tbody>\n",
       "</table>\n",
       "<p>5 rows × 54 columns</p>\n",
       "</div>"
      ],
      "text/plain": [
       "   mg419mg012DELTANaGluSelAmil300  mg751mg012DELTANaGluSelAmil300  \\\n",
       "0                       11.731470                        28.99788   \n",
       "1                        4.669471                        16.61951   \n",
       "2                        0.523840                        24.69797   \n",
       "3                        0.960105                        33.88875   \n",
       "4                       13.838890                        51.80703   \n",
       "\n",
       "   mg758mg012DELTANaGluSelAmil300  mg757mg012DELTANaGluSelAmil300  \\\n",
       "0                       -0.005612                       -0.043792   \n",
       "1                       -0.134361                        0.038241   \n",
       "2                       -0.127793                             NaN   \n",
       "3                             NaN                             NaN   \n",
       "4                             NaN                             NaN   \n",
       "\n",
       "   mg759mg012DELTANaGluSelAmil300  mg760mg012DELTANaGluSelAmil300  \\\n",
       "0                       26.695210                        8.462283   \n",
       "1                       13.217030                       11.950790   \n",
       "2                       10.263970                       11.722810   \n",
       "3                       -0.100829                       42.901070   \n",
       "4                       31.912290                             NaN   \n",
       "\n",
       "   mg761mg012DELTANaGluSelAmil300  mg733mg012DELTANaGluSelAmil300  \\\n",
       "0                       -0.006446                       -0.002266   \n",
       "1                       -0.036169                       -0.016736   \n",
       "2                        0.030530                       -0.026429   \n",
       "3                        0.016518                             NaN   \n",
       "4                             NaN                             NaN   \n",
       "\n",
       "   mg745mg012DELTANaGluSelAmil300  mg746mg012DELTANaGluSelAmil300  ...  \\\n",
       "0                       -0.016778                       -0.025460  ...   \n",
       "1                       -0.010987                       -0.017934  ...   \n",
       "2                        0.088482                        0.224322  ...   \n",
       "3                        0.010996                        0.030478  ...   \n",
       "4                        0.004091                        0.022611  ...   \n",
       "\n",
       "   mg742mg012DELTANaGluSel2  mg737mg012DELTANaGluSel2  mg418DELTANaGluAmil300  \\\n",
       "0                 -48.92075                  0.027137               -0.025042   \n",
       "1                 -13.36775                 -0.061261                0.104454   \n",
       "2                 -31.59876                       NaN               -0.025540   \n",
       "3                 -33.77262                       NaN                0.003412   \n",
       "4                       NaN                       NaN                0.001603   \n",
       "\n",
       "   mg012DELTANaGluAmil300  mg418DELTANaGlu2  mg012DELTANaGlu2  \\\n",
       "0                0.012369         -0.057799         -0.010540   \n",
       "1               -0.003150          0.005262         -0.009631   \n",
       "2                0.011732         -0.032680         -0.029049   \n",
       "3               -0.012185         -0.184919         -0.022771   \n",
       "4               -0.006354         -0.092611         -0.014239   \n",
       "\n",
       "   mg418DELTANaGlu84  mg012DELTANaGlu84  mg418DELTANaGlu3  mg012DELTANaGlu3  \n",
       "0          -0.446846           0.040706         -0.218854         -0.148770  \n",
       "1          -0.101661          -0.017727         -0.076336         -0.051302  \n",
       "2          -0.262531          -0.015530          0.073907         -0.007442  \n",
       "3          -0.329429          -0.020184          0.001165         -0.082996  \n",
       "4          -0.122499          -0.019938          0.409389         -0.148781  \n",
       "\n",
       "[5 rows x 54 columns]"
      ]
     },
     "execution_count": 8,
     "metadata": {},
     "output_type": "execute_result"
    }
   ],
   "source": [
    "AllInjection =  pd.unique(df[\"Injection\"])\n",
    "AllInjection = AllInjection.tolist()\n",
    "              \n",
    "TestSolution = pd.unique(df[\"TestSol\"])\n",
    "TestSolution  = TestSolution.tolist()\n",
    "\n",
    "df_ChangeInCur = pd.DataFrame()\n",
    "results = {}\n",
    "\n",
    "for Solelement in TestSolution: \n",
    "    for element in AllInjection:\n",
    "        if df[(df.Injection.isin([element])) & (df.TestSol.isin([Solelement]))].empty == True:\n",
    "            #print('sdsdsd')\n",
    "            continue\n",
    "        else: \n",
    "            #print('sol presetn')\n",
    "            result = df[(df.Injection.isin([element])) & (df.TestSol.isin([Solelement]))]\n",
    "            results[element] = result\n",
    "            if len(results[element]) <= 1:\n",
    "#                 print(results[element][\"TestSol\"] + '+' + results[element][\"Injection\"] + ' has less or equal to 2 recordings')\n",
    "                continue\n",
    "            else:          \n",
    "                df_ChangeInCur = pd.concat([df_ChangeInCur,results[element][\"DELTA\"].rename(element+\"DELTA\"+Solelement).reset_index(drop=True),],sort=False, axis=1)\n",
    "\n",
    "df_ChangeInCuruA = df_ChangeInCur.astype(float)*1000000\n",
    "\n",
    "df_ChangeInCuruA.head()"
   ]
  },
  {
   "cell_type": "code",
   "execution_count": null,
   "metadata": {},
   "outputs": [],
   "source": []
  },
  {
   "cell_type": "markdown",
   "metadata": {},
   "source": [
    "## Rename Mutations and plasmid Names"
   ]
  },
  {
   "cell_type": "code",
   "execution_count": 44,
   "metadata": {
    "scrolled": true
   },
   "outputs": [],
   "source": [
    "ReNameAlanin ={#'F84A':'mg738mg012',\n",
    "         #'K85A':'mg739mg012',\n",
    "         #'E86A':'mg740mg012',\n",
    "         #'F87A':'mg741mg012',\n",
    "         #'C88A':'mg748mg012',\n",
    "         'Y89A':'mg759mg012',\n",
    "         'K90A':'mg745mg012',\n",
    "         'T91A':'mg752mg012',\n",
    "         'S92A':'mg749mg012',\n",
    "         'ctr A93':'mg419mg012',\n",
    "         'H94A':'mg750mg012',\n",
    "         'G95A':'mg746mg012',\n",
    "         'I96A':'mg747mg012',\n",
    "         'P97A':'mg760mg012',\n",
    "         #'M98A':'mg753mg012',\n",
    "         #'I99A':'mg761mg012',\n",
    "         #'G100A':'mg751mg012'      \n",
    "        }\n",
    "\n",
    "ReNameChimera={#'M4-NtermDT1':'mg755mg012',\n",
    "               'M4-DT1ABC':'mg733mg012',\n",
    "               #'M4-DT1A':'mg734mg012',\n",
    "               #'M4-DT1B':'mg735mg012',\n",
    "               'M4-DT1C':'mg742mg012',\n",
    "               #'DT1-NtermM4':'mg756mg012',\n",
    "               #'DT1-M4ABC':'mg736mg012',\n",
    "               'DT1-M4A':'mg737mg012',\n",
    "               'DT1-M4B':'mg757mg012',\n",
    "               'DT1-M4C':'mg758mg012',\n",
    "        }\n",
    "#print(ReNameAlanin)\n",
    "LabelAlanin = list(ReNameAlanin.keys())\n",
    "LabelChimera = list(ReNameChimera.keys())"
   ]
  },
  {
   "cell_type": "markdown",
   "metadata": {},
   "source": [
    "# Make list of different groups for plotting "
   ]
  },
  {
   "cell_type": "code",
   "execution_count": 45,
   "metadata": {},
   "outputs": [],
   "source": [
    "FigAlaninAll = LabelAlanin\n",
    "FigChimeraAll = LabelChimera"
   ]
  },
  {
   "cell_type": "markdown",
   "metadata": {},
   "source": [
    "## concatenate data"
   ]
  },
  {
   "cell_type": "markdown",
   "metadata": {},
   "source": [
    "## Fig All Alanin mutants Before and After"
   ]
  },
  {
   "cell_type": "code",
   "execution_count": 46,
   "metadata": {},
   "outputs": [],
   "source": [
    "all_alanin300Amil = []\n",
    "Uninj300Amil = (\"uninjected-NaGluSelAmil300\", \"uninjected+NaGluSelAmil300\",)\n",
    "all_alanin300Amil.append(Uninj300Amil)\n",
    "\n",
    "for i in range(len(FigAlaninAll)):\n",
    "    X = (ReNameAlanin[FigAlaninAll[i]]+\"-NaGluSelAmil300\", ReNameAlanin[FigAlaninAll[i]]+\"+NaGluSelAmil300\",)\n",
    "    all_alanin300Amil.append(X)\n",
    "    \n",
    "#dabest load\n",
    "Fig_BeforeAfter_Alanin = dabest.load(df_newInuA, idx= (\n",
    "    all_alanin300Amil\n",
    "))     "
   ]
  },
  {
   "cell_type": "code",
   "execution_count": 47,
   "metadata": {},
   "outputs": [],
   "source": [
    "all_Chimera300Amil = []\n",
    "Uninj300Amil = (\"uninjected-NaGluSelAmil300\", \"uninjected+NaGluSelAmil300\",)\n",
    "all_Chimera300Amil.append(Uninj300Amil)\n",
    "\n",
    "for i in range(len(FigChimeraAll)):\n",
    "    X = (ReNameChimera[FigChimeraAll[i]]+\"-NaGluSelAmil300\", ReNameChimera[FigChimeraAll[i]]+\"+NaGluSelAmil300\",)\n",
    "    all_Chimera300Amil.append(X)\n",
    "    \n",
    "#dabest load\n",
    "Fig_BeforeAfter_Chimera = dabest.load(df_newInuA, idx= (\n",
    "    all_Chimera300Amil\n",
    "))  "
   ]
  },
  {
   "cell_type": "markdown",
   "metadata": {},
   "source": [
    "## Fig All Alanin mutants change in current compared to chaneg in current to uninjected"
   ]
  },
  {
   "cell_type": "code",
   "execution_count": 48,
   "metadata": {},
   "outputs": [],
   "source": [
    "all_alanin300AmilDelta = [\"uninjectedDELTANaGluSelAmil300\"]\n",
    "\n",
    "#Uninj300AmilDelta = (\"uninjectedDELTANaGluSelAmil300\",)\n",
    "#all_alanin300AmilDelta.append(Uninj300AmilDelta)\n",
    "\n",
    "for i in range(len(FigAlaninAll)):\n",
    "    X = (ReNameAlanin[FigAlaninAll[i]]+\"DELTANaGluSelAmil300\")\n",
    "    all_alanin300AmilDelta.append(X)\n",
    "\n",
    "    \n",
    "#print(all_alanin300AmilDelta)\n",
    "\n",
    "#dabest load\n",
    "Fig_Delta_Alanin = dabest.load(df_ChangeInCuruA, idx= (\n",
    "    all_alanin300AmilDelta\n",
    "))   "
   ]
  },
  {
   "cell_type": "code",
   "execution_count": 49,
   "metadata": {},
   "outputs": [],
   "source": [
    "all_Chimera300AmilDelta = [\"uninjectedDELTANaGluSelAmil300\"]\n",
    "\n",
    "#Uninj300AmilDelta = (\"uninjectedDELTANaGluSelAmil300\",)\n",
    "#all_chimera300AmilDelta.append(Uninj300AmilDelta)\n",
    "\n",
    "for i in range(len(FigChimeraAll)):\n",
    "    X = (ReNameChimera[FigChimeraAll[i]]+\"DELTANaGluSelAmil300\")\n",
    "    all_Chimera300AmilDelta.append(X)\n",
    "\n",
    "    \n",
    "#print(all_chimera300AmilDelta)\n",
    "\n",
    "#dabest load\n",
    "Fig_Delta_Chimera = dabest.load(df_ChangeInCuruA, idx= (\n",
    "    all_Chimera300AmilDelta\n",
    "))   "
   ]
  },
  {
   "cell_type": "code",
   "execution_count": 50,
   "metadata": {},
   "outputs": [],
   "source": [
    "colorsBefAfter = []\n",
    "for i in range(50):\n",
    "    colorsBefAfter.append(\"black\")\n",
    "    colorsBefAfter.append(\"red\")\n",
    "    \n",
    "colorsDelta = ['black']\n",
    "for i in range(50):\n",
    "    colorsDelta.append(\"red\")\n",
    "    \n",
    "# colorsSINGLES = [(0.30, 0.69, 0.29),(0.60, 0.31,0.64),(0.89, 0.11,0.10),(1, 0.50,0),(0.22,0.49,0.72),(0.00, 0.00, 0.00),\"red\",\"blue\",(0.00, 0.00, 0.00),(0.22, 0.49, 0.72),(1.00, 0.50, 0.00),\"darkgreen\",(0.30, 0.69, 0.29),(0.30, 0.69, 0.29),(0.6, 0.31, 0.64)]\n",
    "# colorsPharma = [(0.30, 0.69, 0.29),(0.60, 0.31,0.64),(0.89, 0.11,0.10),(0.00, 0.00, 0.00),(0.22,0.49,0.72),(0.00, 0.00, 0.00),\"red\",\"blue\",(0.00, 0.00, 0.00),(0.22, 0.49, 0.72),(1.00, 0.50, 0.00),\"darkgreen\",(0.30, 0.69, 0.29),(0.30, 0.69, 0.29),(0.6, 0.31, 0.64)]\n",
    "# colorsEST = [(0.00, 0.00, 0.00),(0.89, 0.11,0.10),(0.60, 0.31,0.64),(0.30, 0.69, 0.29),(1, 0.50,0),(0.22,0.49,0.72),(0.00, 0.00, 0.00),\"red\",\"blue\",(0.00, 0.00, 0.00),(0.22, 0.49, 0.72),(1.00, 0.50, 0.00)]\n",
    "# colorsESTAll = [(0.00, 0.00, 0.00),(0.89, 0.11,0.10),(0.60, 0.31,0.64),(0.22, 0.49, 0.72),(1.00, 0.50, 0.00),(0.30, 0.69, 0.29),(1, 0.50,0),(0.22,0.49,0.72)]"
   ]
  },
  {
   "cell_type": "markdown",
   "metadata": {},
   "source": [
    "# plot all alanin before after"
   ]
  },
  {
   "cell_type": "code",
   "execution_count": 53,
   "metadata": {},
   "outputs": [
    {
     "data": {
      "image/png": "[encoded data removed]",
      "text/plain": [
       "<Figure size 550x600 with 2 Axes>"
      ]
     },
     "metadata": {
      "needs_background": "light"
     },
     "output_type": "display_data"
    }
   ],
   "source": [
    "#plt.figure(figsize=(3.5, 3)) \n",
    "fig1= Fig_BeforeAfter_Alanin.mean_diff.plot(swarm_ylim=(-40,1), contrast_ylim=(40,-1), fig_size=(5.5, 6),  raw_marker_size=(2),es_marker_size=2,contrast_label='Amil mediated\\n current ΔI(µA)',\n",
    "                                    swarm_label='I (µA)',custom_palette=colorsBefAfter, reflines_kwargs = {'linestyle':'dashed', 'linewidth':0.75})#,reflines_kwargs\n",
    "\n",
    "\n",
    "fig1.axes[0].plot([-1,50], [0,0], 'k-', color='#000000', linewidth=1)\n",
    "#fig1.axes[1].plot([-1,20], [-1,-1], 'k--', color='#000000', linewidth=1)\n",
    "fig1.axes[0].tick_params(axis='both', which='major', labelsize=8)  \n",
    "fig1.axes[1].tick_params(axis='both', which='major', labelsize=8)  \n",
    "#fig1 = plot([-1,1], [0,0])# , 'k--', color='#000000', linewidth=1)\n",
    "#ax1.spines['left'].set_position(('outward',35))\n",
    "\n",
    "\n",
    "labels = ['','']\n",
    "fig1.axes[0].set_xticklabels(labels, rotation=30, ha='right')\n",
    "# fig1.axes[0].text(0.13, -12.5, 'Ibu (µM)')\n",
    "# fig1.axes[0].text(4.0, -12.5, 'Asp  (µM)')\n",
    "\n",
    "labels2 = ['','Uninj']\n",
    "for i in range(0,len(LabelAlanin)):\n",
    "    labels2.append('')\n",
    "    labels2.append(LabelAlanin[i])\n",
    "                                                                                                       \n",
    "#labels2 = ['',LabelAlanin[0],'','F84A','','K85A','','E86A','','F87A','','C88A','','Y89A','','K90A','','T91A','','S92A','','H94A','','G95A','','I96A','','P97A','','M98A','','I99A','','G100A']\n",
    "fig1.axes[1].set_xticklabels(labels2, rotation=30, ha='right')\n",
    "\n",
    "#plt.gcf().subplots_adjust(bottom=0.2, left=0.3,right=None, top=None,hspace=1.5, wspace=0.2) \n",
    "plt.gcf().subplots_adjust(bottom=0.17, left=0.25,right=None, top=None,hspace=0.75, wspace=0.2) \n",
    "plt.savefig(filedirExportFig+\"BeforeAfterPilotAlanin-WithOutCurrent\"+'.pdf')\n"
   ]
  },
  {
   "cell_type": "markdown",
   "metadata": {},
   "source": [
    "# plot alanin delta"
   ]
  },
  {
   "cell_type": "code",
   "execution_count": 52,
   "metadata": {},
   "outputs": [
    {
     "data": {
      "image/png": "[encoded data removed]",
      "text/plain": [
       "<Figure size 700x450 with 2 Axes>"
      ]
     },
     "metadata": {
      "needs_background": "light"
     },
     "output_type": "display_data"
    }
   ],
   "source": [
    "#plt.figure(figsize=(3.5, 3)) \n",
    "fig1= Fig_Delta_Alanin.mean_diff.plot(swarm_ylim=(40,-1), contrast_ylim=(40,-1), fig_size=(7, 4.5),  raw_marker_size=(2),es_marker_size=2,contrast_label='Amil mediated\\n current ΔI(µA)',\n",
    "                                    swarm_label='I (µA)',custom_palette=colorsDelta, reflines_kwargs = {'linestyle':'dashed', 'linewidth':0.75})#,reflines_kwargs\n",
    "\n",
    "\n",
    "fig1.axes[0].plot([-1,50], [0,0], 'k-', color='#000000', linewidth=1)\n",
    "#fig1.axes[1].plot([-1,20], [-1,-1], 'k--', color='#000000', linewidth=1)\n",
    "fig1.axes[0].tick_params(axis='both', which='major', labelsize=8)  \n",
    "fig1.axes[1].tick_params(axis='both', which='major', labelsize=8)  \n",
    "#fig1 = plot([-1,1], [0,0])# , 'k--', color='#000000', linewidth=1)\n",
    "#ax1.spines['left'].set_position(('outward',35))\n",
    "\n",
    "\n",
    "labels = ['','']\n",
    "fig1.axes[0].set_xticklabels(labels, rotation=30, ha='right')\n",
    "# fig1.axes[0].text(0.13, -12.5, 'Ibu (µM)')\n",
    "# fig1.axes[0].text(4.0, -12.5, 'Asp  (µM)')\n",
    "\n",
    "labels2 = ['Uninj']\n",
    "for i in range(0,len(LabelAlanin)):\n",
    "    #labels2.append('')\n",
    "    labels2.append(LabelAlanin[i])\n",
    "                                                                                                       \n",
    "#labels2 = ['',LabelAlanin[0],'','F84A','','K85A','','E86A','','F87A','','C88A','','Y89A','','K90A','','T91A','','S92A','','H94A','','G95A','','I96A','','P97A','','M98A','','I99A','','G100A']\n",
    "fig1.axes[1].set_xticklabels(labels2, rotation=30, ha='right')\n",
    "\n",
    "#plt.gcf().subplots_adjust(bottom=0.2, left=0.3,right=None, top=None,hspace=1.5, wspace=0.2) \n",
    "plt.gcf().subplots_adjust(bottom=0.17, left=0.25,right=None, top=None,hspace=0.75, wspace=0.2) \n",
    "plt.savefig(filedirExportFig+\"ChangeinCurrentPilotAlanin-WithOutCurrent\"+'.pdf')\n"
   ]
  },
  {
   "cell_type": "markdown",
   "metadata": {},
   "source": [
    "# plot chimera before and after"
   ]
  },
  {
   "cell_type": "code",
   "execution_count": 18,
   "metadata": {},
   "outputs": [
    {
     "data": {
      "image/png": "[encoded data removed]",
      "text/plain": [
       "<Figure size 1200x450 with 2 Axes>"
      ]
     },
     "metadata": {
      "needs_background": "light"
     },
     "output_type": "display_data"
    }
   ],
   "source": [
    "#plt.figure(figsize=(3.5, 3)) \n",
    "fig1= Fig_BeforeAfter_Chimera.mean_diff.plot(swarm_ylim=(-100,1), contrast_ylim=(100,-1), fig_size=(12, 4.5),  raw_marker_size=(2),es_marker_size=2,contrast_label='Amil mediated\\n current ΔI(µA)',\n",
    "                                    swarm_label='I (µA)',custom_palette=colorsBefAfter, reflines_kwargs = {'linestyle':'dashed', 'linewidth':0.75})#,reflines_kwargs\n",
    "\n",
    "\n",
    "fig1.axes[0].plot([-1,50], [0,0], 'k-', color='#000000', linewidth=1)\n",
    "#fig1.axes[1].plot([-1,20], [-1,-1], 'k--', color='#000000', linewidth=1)\n",
    "fig1.axes[0].tick_params(axis='both', which='major', labelsize=8)  \n",
    "fig1.axes[1].tick_params(axis='both', which='major', labelsize=8)  \n",
    "#fig1 = plot([-1,1], [0,0])# , 'k--', color='#000000', linewidth=1)\n",
    "#ax1.spines['left'].set_position(('outward',35))\n",
    "\n",
    "\n",
    "labels = ['','']\n",
    "fig1.axes[0].set_xticklabels(labels, rotation=30, ha='right')\n",
    "# fig1.axes[0].text(0.13, -12.5, 'Ibu (µM)')\n",
    "# fig1.axes[0].text(4.0, -12.5, 'Asp  (µM)')\n",
    "\n",
    "labels2 = ['','Uninj']\n",
    "for i in range(0,len(LabelChimera)):\n",
    "    labels2.append('')\n",
    "    labels2.append(LabelChimera[i])\n",
    "                                                                                                       \n",
    "#labels2 = ['',LabelAlanin[0],'','F84A','','K85A','','E86A','','F87A','','C88A','','Y89A','','K90A','','T91A','','S92A','','H94A','','G95A','','I96A','','P97A','','M98A','','I99A','','G100A']\n",
    "fig1.axes[1].set_xticklabels(labels2, rotation=30, ha='right')\n",
    "\n",
    "#plt.gcf().subplots_adjust(bottom=0.2, left=0.3,right=None, top=None,hspace=1.5, wspace=0.2) \n",
    "plt.gcf().subplots_adjust(bottom=0.17, left=0.25,right=None, top=None,hspace=0.75, wspace=0.2) \n",
    "plt.savefig(filedirExportFig+\"ChangeinCurrentPilotAlanin\"+'.pdf')\n"
   ]
  },
  {
   "cell_type": "markdown",
   "metadata": {},
   "source": [
    "# plot chimera Delta"
   ]
  },
  {
   "cell_type": "code",
   "execution_count": 19,
   "metadata": {},
   "outputs": [
    {
     "data": {
      "image/png": "[encoded data removed]",
      "text/plain": [
       "<Figure size 1200x450 with 2 Axes>"
      ]
     },
     "metadata": {
      "needs_background": "light"
     },
     "output_type": "display_data"
    }
   ],
   "source": [
    "#plt.figure(figsize=(3.5, 3)) \n",
    "fig1= Fig_Delta_Chimera.mean_diff.plot(swarm_ylim=(0.5,-1), contrast_ylim=(0.5,-1), fig_size=(12, 4.5),  raw_marker_size=(2),es_marker_size=2,contrast_label='Amil mediated\\n current ΔI(µA)',\n",
    "                                    swarm_label='I (µA)',custom_palette=colorsDelta, reflines_kwargs = {'linestyle':'dashed', 'linewidth':0.75})#,reflines_kwargs\n",
    "\n",
    "\n",
    "fig1.axes[0].plot([-1,50], [0,0], 'k-', color='#000000', linewidth=1)\n",
    "#fig1.axes[1].plot([-1,20], [-1,-1], 'k--', color='#000000', linewidth=1)\n",
    "fig1.axes[0].tick_params(axis='both', which='major', labelsize=8)  \n",
    "fig1.axes[1].tick_params(axis='both', which='major', labelsize=8)  \n",
    "#fig1 = plot([-1,1], [0,0])# , 'k--', color='#000000', linewidth=1)\n",
    "#ax1.spines['left'].set_position(('outward',35))\n",
    "\n",
    "\n",
    "labels = ['','']\n",
    "fig1.axes[0].set_xticklabels(labels, rotation=30, ha='right')\n",
    "# fig1.axes[0].text(0.13, -12.5, 'Ibu (µM)')\n",
    "# fig1.axes[0].text(4.0, -12.5, 'Asp  (µM)')\n",
    "\n",
    "labels2 = ['Uninj']\n",
    "for i in range(0,len(LabelChimera)):\n",
    "    #labels2.append('')\n",
    "    labels2.append(LabelChimera[i])\n",
    "                                                                                                       \n",
    "#labels2 = ['',LabelAlanin[0],'','F84A','','K85A','','E86A','','F87A','','C88A','','Y89A','','K90A','','T91A','','S92A','','H94A','','G95A','','I96A','','P97A','','M98A','','I99A','','G100A']\n",
    "fig1.axes[1].set_xticklabels(labels2, rotation=30, ha='right')\n",
    "\n",
    "#plt.gcf().subplots_adjust(bottom=0.2, left=0.3,right=None, top=None,hspace=1.5, wspace=0.2) \n",
    "plt.gcf().subplots_adjust(bottom=0.17, left=0.25,right=None, top=None,hspace=0.75, wspace=0.2) \n",
    "plt.savefig(filedirExportFig+\"ChangeinCurrentPilotAlanin\"+'.pdf')\n"
   ]
  },
  {
   "cell_type": "code",
   "execution_count": null,
   "metadata": {},
   "outputs": [],
   "source": []
  },
  {
   "cell_type": "code",
   "execution_count": null,
   "metadata": {},
   "outputs": [],
   "source": []
  },
  {
   "cell_type": "code",
   "execution_count": null,
   "metadata": {},
   "outputs": [],
   "source": []
  },
  {
   "cell_type": "code",
   "execution_count": null,
   "metadata": {},
   "outputs": [],
   "source": []
  }
 ],
 "metadata": {
  "kernelspec": {
   "display_name": "Python 3",
   "language": "python",
   "name": "python3"
  },
  "language_info": {
   "codemirror_mode": {
    "name": "ipython",
    "version": 3
   },
   "file_extension": ".py",
   "mimetype": "text/x-python",
   "name": "python",
   "nbconvert_exporter": "python",
   "pygments_lexer": "ipython3",
   "version": "3.7.4"
  }
 },
 "nbformat": 4,
 "nbformat_minor": 2
}
