{
 "cells": [
  {
   "cell_type": "code",
   "execution_count": 2,
   "metadata": {},
   "outputs": [
    {
     "name": "stderr",
     "output_type": "stream",
     "text": [
      "/Users/wormsenselab/anaconda3/envs/dabest/lib/python3.7/site-packages/matplotlib/__init__.py:1003: UserWarning: Duplicate key in file \"/Users/Fechner/.matplotlib/matplotlibrc\", line #3\n",
      "  (fname, cnt))\n",
      "/Users/wormsenselab/anaconda3/envs/dabest/lib/python3.7/site-packages/matplotlib/__init__.py:1003: UserWarning: Duplicate key in file \"/Users/Fechner/.matplotlib/matplotlibrc\", line #4\n",
      "  (fname, cnt))\n"
     ]
    }
   ],
   "source": [
    "from matplotlib import pyplot as plt\n",
    "import numpy as np\n",
    "%matplotlib inline\n",
    "from matplotlib import gridspec\n",
    "from matplotlib import rcParams\n",
    "from scipy.optimize import curve_fit\n",
    "import scipy.stats as stats\n",
    "from matplotlib import lines\n",
    "import seaborn as sns\n",
    "plt.rcParams['pdf.fonttype'] = 42 # to be able to change text in pdf opened with illustrator\n",
    "plt.rcParams['ps.fonttype'] = 42\n",
    "#import scipy.stats as stats\n",
    "from statsmodels.stats import multicomp \n",
    "from scipy import stats\n",
    "import dabest\n",
    "\n",
    "import pandas as pd\n",
    "import glob\n",
    "\n",
    "import tkinter as tk\n",
    "from tkinter import filedialog#to open dialog box to choose file\n",
    "from tkinter.filedialog import askopenfilename"
   ]
  },
  {
   "cell_type": "code",
   "execution_count": 3,
   "metadata": {},
   "outputs": [],
   "source": [
    "# Add heka_reader to PYTHONPATH\n",
    "import sys\n",
    "fpath = '/Users/Fechner/PythonStuff/heka_reader'\n",
    "sys.path.append(fpath)"
   ]
  },
  {
   "cell_type": "markdown",
   "metadata": {},
   "source": [
    "### switch to my directory and check if I am in the correct directory"
   ]
  },
  {
   "cell_type": "code",
   "execution_count": 4,
   "metadata": {},
   "outputs": [
    {
     "name": "stdout",
     "output_type": "stream",
     "text": [
      "/Users/Fechner/Box Sync/Fechner/TEVC-GoodmanlabBOX/Project-STFX/AnalysisSTFX/AnalysisNterm\n"
     ]
    }
   ],
   "source": [
    "cd ~/Box Sync/Fechner/TEVC-GoodmanlabBOX/Project-STFX/AnalysisSTFX/AnalysisNterm\n"
   ]
  },
  {
   "cell_type": "markdown",
   "metadata": {},
   "source": [
    "## Ratio plots are a result of the Matlab script TEVCAnalyzeLoopSTFX.m found on github analyzing mean values of 3 recordings for several conditions \n",
    "\n",
    "https://github.com/sfechner/AnalysisFunction/tree/master/TEVC"
   ]
  },
  {
   "cell_type": "code",
   "execution_count": 5,
   "metadata": {},
   "outputs": [],
   "source": [
    "filedir ='/Users/Fechner/Box Sync/Fechner/TEVC-GoodmanlabBOX/Project-STFX/AnalysisSTFX/AnalysisNterm/'\n",
    "filedirExportFig ='/Users/Fechner/Box Sync/Fechner/TEVC-GoodmanlabBOX/Project-STFX/AnalysisSTFX/AnalysisNterm/FiguresFromNotebook/'\n",
    "# filedirManuscript ='/Users/Fechner/Dropbox/ManuscriptFechnerPharmacology/Figures/ExportedFromNotebook/'\n",
    "# filedirManuscriptStat ='/Users/Fechner/Dropbox/ManuscriptFechnerPharmacology/Statistics/'\n",
    "\n",
    "#CHANGE USER NAME ON PRIVATE LAPTOP TO Fechner or be more clever about the Filename\n",
    "\n",
    "#root = tk.Tk()\n",
    "#root.withdraw() not sure if necessary, description to avoid opening full gui\n",
    "\n",
    "#either choose a cetain file or open dialog box\n",
    "#certain file\n",
    "#filename = 'RatioNterm-20201026.xlsx'\n",
    "\n",
    "\n"
   ]
  },
  {
   "cell_type": "code",
   "execution_count": 6,
   "metadata": {},
   "outputs": [],
   "source": [
    "filenameRatio = '/Users/Fechner/Box Sync/Fechner/TEVC-GoodmanlabBOX/Project-STFX/RatioSTFX/'"
   ]
  },
  {
   "cell_type": "code",
   "execution_count": 7,
   "metadata": {},
   "outputs": [],
   "source": [
    "listofFiles = ['099','100','101','102','103','104','105','106','107','108','109','110','111']"
   ]
  },
  {
   "cell_type": "code",
   "execution_count": 8,
   "metadata": {},
   "outputs": [],
   "source": [
    "df = pd.DataFrame()\n",
    "\n",
    "for i in range(len(listofFiles)):\n",
    "    df_temp = pd.read_csv(filenameRatio+'RatioDeltaTEVC-STFX'+listofFiles[i]+'.txt', sep=\",\" )\n",
    "    df = df.append(df_temp,ignore_index=True)\n",
    "\n",
    "df.to_csv(filedir+'RatioNterm-.csv', header=True, index=None, sep=',', mode='w')    "
   ]
  },
  {
   "cell_type": "code",
   "execution_count": 25,
   "metadata": {},
   "outputs": [
    {
     "data": {
      "text/plain": [
       "range(0, 13)"
      ]
     },
     "execution_count": 25,
     "metadata": {},
     "output_type": "execute_result"
    }
   ],
   "source": [
    "range(len(listofFiles))"
   ]
  },
  {
   "cell_type": "code",
   "execution_count": 9,
   "metadata": {},
   "outputs": [
    {
     "data": {
      "text/html": [
       "<div>\n",
       "<style scoped>\n",
       "    .dataframe tbody tr th:only-of-type {\n",
       "        vertical-align: middle;\n",
       "    }\n",
       "\n",
       "    .dataframe tbody tr th {\n",
       "        vertical-align: top;\n",
       "    }\n",
       "\n",
       "    .dataframe thead th {\n",
       "        text-align: right;\n",
       "    }\n",
       "</style>\n",
       "<table border=\"1\" class=\"dataframe\">\n",
       "  <thead>\n",
       "    <tr style=\"text-align: right;\">\n",
       "      <th></th>\n",
       "      <th>Date</th>\n",
       "      <th>CellIDRec</th>\n",
       "      <th>Injection</th>\n",
       "      <th>CultivationSol</th>\n",
       "      <th>DaysPostInj</th>\n",
       "      <th>Rating</th>\n",
       "      <th>StartSol</th>\n",
       "      <th>TestSol</th>\n",
       "      <th>MeanSTART</th>\n",
       "      <th>MeanTEST</th>\n",
       "      <th>DELTA</th>\n",
       "      <th>RATIO</th>\n",
       "      <th>VrevSTART</th>\n",
       "      <th>VrevTEST</th>\n",
       "      <th>DELTAVrev</th>\n",
       "    </tr>\n",
       "  </thead>\n",
       "  <tbody>\n",
       "    <tr>\n",
       "      <th>687</th>\n",
       "      <td>겿</td>\n",
       "      <td>STFX111033</td>\n",
       "      <td>mg753mg012</td>\n",
       "      <td>L-15(300Amil)</td>\n",
       "      <td>6</td>\n",
       "      <td>4.0</td>\n",
       "      <td>NaGluSel1</td>\n",
       "      <td>NaGluSelAmil300</td>\n",
       "      <td>-0.000021</td>\n",
       "      <td>-0.000001</td>\n",
       "      <td>0.000020</td>\n",
       "      <td>0.055664</td>\n",
       "      <td>-0.000978</td>\n",
       "      <td>-0.034978</td>\n",
       "      <td>-0.034000</td>\n",
       "    </tr>\n",
       "    <tr>\n",
       "      <th>688</th>\n",
       "      <td>겿</td>\n",
       "      <td>STFX111033</td>\n",
       "      <td>mg753mg012</td>\n",
       "      <td>L-15(300Amil)</td>\n",
       "      <td>6</td>\n",
       "      <td>4.0</td>\n",
       "      <td>NaGluSelAmil300</td>\n",
       "      <td>NaGluSel2</td>\n",
       "      <td>-0.000001</td>\n",
       "      <td>-0.000013</td>\n",
       "      <td>-0.000011</td>\n",
       "      <td>10.790900</td>\n",
       "      <td>-0.034978</td>\n",
       "      <td>-0.002376</td>\n",
       "      <td>0.032602</td>\n",
       "    </tr>\n",
       "    <tr>\n",
       "      <th>689</th>\n",
       "      <td>겿</td>\n",
       "      <td>STFX111034</td>\n",
       "      <td>mg751mg012</td>\n",
       "      <td>L-15(300Amil)</td>\n",
       "      <td>6</td>\n",
       "      <td>2.5</td>\n",
       "      <td>KGluSel1</td>\n",
       "      <td>NaGluSel1</td>\n",
       "      <td>-0.000023</td>\n",
       "      <td>-0.000031</td>\n",
       "      <td>-0.000008</td>\n",
       "      <td>1.360725</td>\n",
       "      <td>-0.010168</td>\n",
       "      <td>0.005213</td>\n",
       "      <td>0.015381</td>\n",
       "    </tr>\n",
       "    <tr>\n",
       "      <th>690</th>\n",
       "      <td>겿</td>\n",
       "      <td>STFX111034</td>\n",
       "      <td>mg751mg012</td>\n",
       "      <td>L-15(300Amil)</td>\n",
       "      <td>6</td>\n",
       "      <td>2.5</td>\n",
       "      <td>NaGluSel1</td>\n",
       "      <td>NaGluSelAmil300</td>\n",
       "      <td>-0.000031</td>\n",
       "      <td>-0.000012</td>\n",
       "      <td>0.000019</td>\n",
       "      <td>0.376198</td>\n",
       "      <td>0.005213</td>\n",
       "      <td>-0.003841</td>\n",
       "      <td>-0.009053</td>\n",
       "    </tr>\n",
       "    <tr>\n",
       "      <th>691</th>\n",
       "      <td>겿</td>\n",
       "      <td>STFX111034</td>\n",
       "      <td>mg751mg012</td>\n",
       "      <td>L-15(300Amil)</td>\n",
       "      <td>6</td>\n",
       "      <td>2.5</td>\n",
       "      <td>NaGluSelAmil300</td>\n",
       "      <td>NaGluSel2</td>\n",
       "      <td>-0.000012</td>\n",
       "      <td>-0.000009</td>\n",
       "      <td>0.000003</td>\n",
       "      <td>0.786438</td>\n",
       "      <td>-0.003841</td>\n",
       "      <td>-0.003122</td>\n",
       "      <td>0.000719</td>\n",
       "    </tr>\n",
       "  </tbody>\n",
       "</table>\n",
       "</div>"
      ],
      "text/plain": [
       "    Date   CellIDRec   Injection CultivationSol  DaysPostInj  Rating  \\\n",
       "687    겿  STFX111033  mg753mg012  L-15(300Amil)            6     4.0   \n",
       "688    겿  STFX111033  mg753mg012  L-15(300Amil)            6     4.0   \n",
       "689    겿  STFX111034  mg751mg012  L-15(300Amil)            6     2.5   \n",
       "690    겿  STFX111034  mg751mg012  L-15(300Amil)            6     2.5   \n",
       "691    겿  STFX111034  mg751mg012  L-15(300Amil)            6     2.5   \n",
       "\n",
       "            StartSol          TestSol  MeanSTART  MeanTEST     DELTA  \\\n",
       "687        NaGluSel1  NaGluSelAmil300  -0.000021 -0.000001  0.000020   \n",
       "688  NaGluSelAmil300        NaGluSel2  -0.000001 -0.000013 -0.000011   \n",
       "689         KGluSel1        NaGluSel1  -0.000023 -0.000031 -0.000008   \n",
       "690        NaGluSel1  NaGluSelAmil300  -0.000031 -0.000012  0.000019   \n",
       "691  NaGluSelAmil300        NaGluSel2  -0.000012 -0.000009  0.000003   \n",
       "\n",
       "         RATIO  VrevSTART  VrevTEST  DELTAVrev  \n",
       "687   0.055664  -0.000978 -0.034978  -0.034000  \n",
       "688  10.790900  -0.034978 -0.002376   0.032602  \n",
       "689   1.360725  -0.010168  0.005213   0.015381  \n",
       "690   0.376198   0.005213 -0.003841  -0.009053  \n",
       "691   0.786438  -0.003841 -0.003122   0.000719  "
      ]
     },
     "execution_count": 9,
     "metadata": {},
     "output_type": "execute_result"
    }
   ],
   "source": [
    "# #pandas environment\n",
    "# print(filename)\n",
    "# xl = pd.ExcelFile(filedir+filename)\n",
    "# xl.sheet_names\n",
    "\n",
    "# df = xl.parse(\"Sheet1\",converters={'CultivationSol': str}) #calls for Sheet names \n",
    "df['RATIO'] = pd.to_numeric(df['RATIO'], errors='coerce')\n",
    "df.tail()"
   ]
  },
  {
   "cell_type": "markdown",
   "metadata": {},
   "source": [
    "# common axis parameters"
   ]
  },
  {
   "cell_type": "code",
   "execution_count": 10,
   "metadata": {},
   "outputs": [],
   "source": [
    "AxisTickLabelSize = 8\n",
    "AxisLabelSize = 10\n",
    "AxisLegendSize = 8\n",
    "SizeOfMarker = 3\n",
    "ErrorColor = 'red'\n",
    "\n",
    "SizeOfMarker = 2\n",
    "SizeofLine = 0.5"
   ]
  },
  {
   "cell_type": "markdown",
   "metadata": {},
   "source": [
    "# Hard coding here: \n",
    "- Rename Mutations and plasmid Names\n",
    "- determines which mutant to plot and in which order"
   ]
  },
  {
   "cell_type": "code",
   "execution_count": 11,
   "metadata": {
    "scrolled": true
   },
   "outputs": [],
   "source": [
    "ReNameAlanin ={'F84A':'mg738mg012',\n",
    "         'K85A':'mg739mg012',\n",
    "         'E86A':'mg740mg012',\n",
    "         'F87A':'mg741mg012',\n",
    "         'C88A':'mg748mg012',\n",
    "         'Y89A':'mg759mg012',\n",
    "         'K90A':'mg745mg012',\n",
    "         'T91A':'mg752mg012',\n",
    "         'S92A':'mg749mg012',\n",
    "         'ctr A93':'mg419mg012',\n",
    "         'H94A':'mg750mg012',\n",
    "         'G95A':'mg746mg012',\n",
    "         'I96A':'mg747mg012',\n",
    "         'P97A':'mg760mg012',\n",
    "         'M98A':'mg753mg012',\n",
    "         'I99A':'mg761mg012',\n",
    "         'G100A':'mg751mg012'      \n",
    "        }\n",
    "\n",
    "ReNameChimera={ 'ctr A93':'mg419mg012',\n",
    "               'M4-NtermDT1':'mg755mg012',\n",
    "               'M4d-DT1ABC':'mg733mg012',\n",
    "               'M4d-DT1A':'mg734mg012',\n",
    "               'M4d-DT1A':'mg734mg012',\n",
    "               'M4d-DT1B':'mg735mg012',\n",
    "               'M4d-DT1C':'mg742mg012',\n",
    "#                 'M4+M4-DT1A':'mg419mg734mg012',\n",
    "#                'M4+M4-DT1B':'mg419mg735mg012',\n",
    "#                'M4+M4-DT1C':'mg419mg742mg012',\n",
    "#                'DT1-NtermM4':'mg756mg012',\n",
    "#                'DT1-M4ABC':'mg736mg012',\n",
    "#                'DT1-M4A':'mg737mg012',\n",
    "#                'DT1-M4B':'mg757mg012',\n",
    "#                'DT1-M4C':'mg758mg012',\n",
    "        }\n",
    "#print(ReNameAlanin)\n",
    "LabelAlanin = list(ReNameAlanin.keys())\n",
    "LabelChimera = list(ReNameChimera.keys())"
   ]
  },
  {
   "cell_type": "markdown",
   "metadata": {},
   "source": [
    "# Input for df_current for Estimation plot"
   ]
  },
  {
   "cell_type": "code",
   "execution_count": 12,
   "metadata": {},
   "outputs": [],
   "source": [
    "ListofAllAlanin = ['uninjected']\n",
    "for i in range(len(ReNameAlanin)):\n",
    "    ListofAllAlanin.append(ReNameAlanin[LabelAlanin[i]])\n",
    "#print(ListofAllAlanin)\n",
    "\n",
    "ListofAllChimera = ['uninjected']\n",
    "for i in range(len(ReNameChimera)):\n",
    "    ListofAllChimera.append(ReNameChimera[LabelChimera[i]])"
   ]
  },
  {
   "cell_type": "markdown",
   "metadata": {},
   "source": [
    "# Re-Arrange Data Frame with All data with Test Solution 300 uM Amil\n",
    "used in the Section Quality check"
   ]
  },
  {
   "cell_type": "code",
   "execution_count": 13,
   "metadata": {},
   "outputs": [],
   "source": [
    "df_Alanin300Amil = df[(df.Injection.isin(pd.unique(ListofAllAlanin))) & (df.TestSol.isin([\"NaGluSelAmil300\"]))] \n",
    "df_Chimera300Amil = df[(df.Injection.isin(pd.unique(ListofAllChimera))) & (df.TestSol.isin([\"NaGluSelAmil300\"]))]"
   ]
  },
  {
   "cell_type": "markdown",
   "metadata": {},
   "source": [
    "### Re-concatenat data (problem if data are in concatenated file which are not in column file)"
   ]
  },
  {
   "cell_type": "markdown",
   "metadata": {},
   "source": [
    "# Re-Arrange Before and After current all Alanin mutations"
   ]
  },
  {
   "cell_type": "code",
   "execution_count": 14,
   "metadata": {},
   "outputs": [],
   "source": [
    "AllInjection =  pd.unique(ListofAllAlanin)\n",
    "AllInjection = AllInjection.tolist()\n",
    "              \n",
    "TestSolution = pd.unique(\"NaGluSelAmil300\")\n",
    "TestSolution  = TestSolution.tolist()\n",
    "\n",
    "df_new = pd.DataFrame()\n",
    "results = {}\n",
    "\n",
    "for Solelement in TestSolution: \n",
    "    for element in AllInjection:\n",
    "        if df[(df.Injection.isin([element])) & (df.TestSol.isin([Solelement]))].empty == True:\n",
    "            #print('sdsdsd')\n",
    "            continue\n",
    "        else: \n",
    "            #print('sol presetn')\n",
    "            result = df[(df.Injection.isin([element])) & (df.TestSol.isin([Solelement]))]\n",
    "            results[element] = result\n",
    "            if len(results[element]) <= 2:\n",
    "#                 print(results[element][\"TestSol\"] + '+' + results[element][\"Injection\"] + ' has less or equal to 2 recordings')\n",
    "                continue\n",
    "            else:\n",
    "                df_new = pd.concat([df_new,results[element][\"MeanSTART\"].rename(element+\"-\"+Solelement).reset_index(drop=True),results[element][\"MeanTEST\"].rename(element+'+'+Solelement).reset_index(drop=True)],sort=False, axis=1)\n",
    "            #print(len(results[element]))\n",
    "        \n",
    "df_newInuA_Bef_Alanine = df_new.astype(float)*1000000  \n",
    "#\n",
    "#print(df_newInuA[\"mg012-NaGluAmil300\"])\n",
    "\n"
   ]
  },
  {
   "cell_type": "markdown",
   "metadata": {},
   "source": [
    "# Re-Arrange Before and After current all Chimera mutations"
   ]
  },
  {
   "cell_type": "code",
   "execution_count": 15,
   "metadata": {},
   "outputs": [],
   "source": [
    "AllInjection =  pd.unique(ListofAllChimera)\n",
    "AllInjection = AllInjection.tolist()\n",
    "              \n",
    "TestSolution = pd.unique(\"NaGluSelAmil300\")\n",
    "TestSolution  = TestSolution.tolist()\n",
    "\n",
    "df_new = pd.DataFrame()\n",
    "results = {}\n",
    "\n",
    "for Solelement in TestSolution: \n",
    "    for element in AllInjection:\n",
    "        if df[(df.Injection.isin([element])) & (df.TestSol.isin([Solelement]))].empty == True:\n",
    "            #print('sdsdsd')\n",
    "            continue\n",
    "        else: \n",
    "            #print('sol presetn')\n",
    "            result = df[(df.Injection.isin([element])) & (df.TestSol.isin([Solelement]))]\n",
    "            results[element] = result\n",
    "            if len(results[element]) <= 2:\n",
    "#                 print(results[element][\"TestSol\"] + '+' + results[element][\"Injection\"] + ' has less or equal to 2 recordings')\n",
    "                continue\n",
    "            else:\n",
    "                df_new = pd.concat([df_new,results[element][\"MeanSTART\"].rename(element+\"-\"+Solelement).reset_index(drop=True),results[element][\"MeanTEST\"].rename(element+'+'+Solelement).reset_index(drop=True)],sort=False, axis=1)\n",
    "            #print(len(results[element]))\n",
    "        \n",
    "df_newInuA_Bef_Chimera = df_new.astype(float)*1000000  \n",
    "#\n",
    "#print(df_newInuA[\"mg012-NaGluAmil300\"])\n",
    "\n"
   ]
  },
  {
   "cell_type": "markdown",
   "metadata": {},
   "source": [
    "# Re-Arrange Change in Current All Single Alanin Mutants"
   ]
  },
  {
   "cell_type": "code",
   "execution_count": 16,
   "metadata": {
    "scrolled": true
   },
   "outputs": [],
   "source": [
    "AllInjection =  pd.unique(ListofAllAlanin)\n",
    "AllInjection = AllInjection.tolist()\n",
    "              \n",
    "TestSolution = pd.unique(\"NaGluSelAmil300\")\n",
    "TestSolution  = TestSolution.tolist()\n",
    "\n",
    "df_ChangeInCur = pd.DataFrame()\n",
    "results = {}\n",
    "\n",
    "for Solelement in TestSolution: \n",
    "    for element in AllInjection:\n",
    "        if df[(df.Injection.isin([element])) & (df.TestSol.isin([Solelement]))].empty == True:\n",
    "            #print('sdsdsd')\n",
    "            continue\n",
    "        else: \n",
    "            #print('sol presetn')\n",
    "            result = df[(df.Injection.isin([element])) & (df.TestSol.isin([Solelement]))]\n",
    "            results[element] = result\n",
    "            if len(results[element]) <= 1:\n",
    "#                 print(results[element][\"TestSol\"] + '+' + results[element][\"Injection\"] + ' has less or equal to 2 recordings')\n",
    "                continue\n",
    "            else:          \n",
    "                df_ChangeInCur = pd.concat([df_ChangeInCur,results[element][\"DELTA\"].rename(element+\"DELTA\"+Solelement).reset_index(drop=True),],sort=False, axis=1)\n",
    "\n",
    "df_ChangeInCuruA = df_ChangeInCur.astype(float)*1000000\n",
    "\n",
    "#print(df_ChangeInCuruA['mg753mg012DELTANaGluSelAmil300'])"
   ]
  },
  {
   "cell_type": "markdown",
   "metadata": {},
   "source": [
    "# Re-Arrange Change in Current All Single Chimera Mutants"
   ]
  },
  {
   "cell_type": "code",
   "execution_count": 17,
   "metadata": {},
   "outputs": [],
   "source": [
    "AllInjection =  pd.unique(ListofAllChimera)\n",
    "AllInjection = AllInjection.tolist()\n",
    "              \n",
    "TestSolution = pd.unique(\"NaGluSelAmil300\")\n",
    "TestSolution  = TestSolution.tolist()\n",
    "\n",
    "df_ChangeInCurAllChimera = pd.DataFrame()\n",
    "results = {}\n",
    "\n",
    "for Solelement in TestSolution: \n",
    "    for element in AllInjection:\n",
    "        if df[(df.Injection.isin([element])) & (df.TestSol.isin([Solelement]))].empty == True:\n",
    "            #print('sdsdsd')\n",
    "            continue\n",
    "        else: \n",
    "            #print('sol presetn')\n",
    "            result = df[(df.Injection.isin([element])) & (df.TestSol.isin([Solelement]))]\n",
    "            results[element] = result\n",
    "            if len(results[element]) <= 1:\n",
    "#                 print(results[element][\"TestSol\"] + '+' + results[element][\"Injection\"] + ' has less or equal to 2 recordings')\n",
    "                continue\n",
    "            else:          \n",
    "                df_ChangeInCurAllChimera = pd.concat([df_ChangeInCurAllChimera,results[element][\"DELTA\"].rename(element+\"DELTA\"+Solelement).reset_index(drop=True),],sort=False, axis=1)\n",
    "\n",
    "df_ChangeInCurAllChimerauA = df_ChangeInCurAllChimera.astype(float)*1000000\n",
    "\n",
    "#print(df_ChangeInCuruA['mg753mg012DELTANaGluSelAmil300'])"
   ]
  },
  {
   "cell_type": "markdown",
   "metadata": {},
   "source": [
    "# Make list of different groups for plotting "
   ]
  },
  {
   "cell_type": "code",
   "execution_count": 18,
   "metadata": {},
   "outputs": [],
   "source": [
    "FigAlaninAll = LabelAlanin\n",
    "FigChimeraAll = LabelChimera"
   ]
  },
  {
   "cell_type": "markdown",
   "metadata": {},
   "source": [
    "# dabest load file concatenation "
   ]
  },
  {
   "cell_type": "markdown",
   "metadata": {},
   "source": [
    "## Fig All Alanin mutants change in current compared to chaneg in current to uninjected"
   ]
  },
  {
   "cell_type": "code",
   "execution_count": 19,
   "metadata": {},
   "outputs": [],
   "source": [
    "all_alanin300AmilDelta = [\"uninjectedDELTANaGluSelAmil300\"]\n",
    "\n",
    "#Uninj300AmilDelta = (\"uninjectedDELTANaGluSelAmil300\",)\n",
    "#all_alanin300AmilDelta.append(Uninj300AmilDelta)\n",
    "\n",
    "for i in range(len(FigAlaninAll)):\n",
    "    X = (ReNameAlanin[FigAlaninAll[i]]+\"DELTANaGluSelAmil300\")\n",
    "    all_alanin300AmilDelta.append(X)\n",
    "\n",
    "    \n",
    "#print(all_alanin300AmilDelta)\n",
    "\n",
    "#dabest load\n",
    "Fig_Delta_Alanin = dabest.load(df_ChangeInCuruA, idx= (\n",
    "    all_alanin300AmilDelta\n",
    "))   "
   ]
  },
  {
   "cell_type": "code",
   "execution_count": 20,
   "metadata": {},
   "outputs": [],
   "source": [
    "all_Chimera300AmilDelta = [\"uninjectedDELTANaGluSelAmil300\"]\n",
    "\n",
    "#Uninj300AmilDelta = (\"uninjectedDELTANaGluSelAmil300\",)\n",
    "#all_chimera300AmilDelta.append(Uninj300AmilDelta)\n",
    "\n",
    "for i in range(len(FigChimeraAll)):\n",
    "    X = (ReNameChimera[FigChimeraAll[i]]+\"DELTANaGluSelAmil300\")\n",
    "    all_Chimera300AmilDelta.append(X)\n",
    "\n",
    "    \n",
    "#print(all_chimera300AmilDelta)\n",
    "\n",
    "#dabest load\n",
    "Fig_Delta_Chimera = dabest.load(df_ChangeInCurAllChimerauA, idx= (\n",
    "    all_Chimera300AmilDelta\n",
    "))   "
   ]
  },
  {
   "cell_type": "markdown",
   "metadata": {},
   "source": [
    "# color code for different plots"
   ]
  },
  {
   "cell_type": "code",
   "execution_count": 21,
   "metadata": {},
   "outputs": [],
   "source": [
    "colorsBefAfter = []\n",
    "for i in range(50):\n",
    "    colorsBefAfter.append(\"black\")\n",
    "    colorsBefAfter.append(\"red\")\n",
    "    \n",
    "colorsDelta = ['black']\n",
    "for i in range(50):\n",
    "    colorsDelta.append(\"red\")\n",
    "    \n",
    "# colorsSINGLES = [(0.30, 0.69, 0.29),(0.60, 0.31,0.64),(0.89, 0.11,0.10),(1, 0.50,0),(0.22,0.49,0.72),(0.00, 0.00, 0.00),\"red\",\"blue\",(0.00, 0.00, 0.00),(0.22, 0.49, 0.72),(1.00, 0.50, 0.00),\"darkgreen\",(0.30, 0.69, 0.29),(0.30, 0.69, 0.29),(0.6, 0.31, 0.64)]\n",
    "# colorsPharma = [(0.30, 0.69, 0.29),(0.60, 0.31,0.64),(0.89, 0.11,0.10),(0.00, 0.00, 0.00),(0.22,0.49,0.72),(0.00, 0.00, 0.00),\"red\",\"blue\",(0.00, 0.00, 0.00),(0.22, 0.49, 0.72),(1.00, 0.50, 0.00),\"darkgreen\",(0.30, 0.69, 0.29),(0.30, 0.69, 0.29),(0.6, 0.31, 0.64)]\n",
    "# colorsEST = [(0.00, 0.00, 0.00),(0.89, 0.11,0.10),(0.60, 0.31,0.64),(0.30, 0.69, 0.29),(1, 0.50,0),(0.22,0.49,0.72),(0.00, 0.00, 0.00),\"red\",\"blue\",(0.00, 0.00, 0.00),(0.22, 0.49, 0.72),(1.00, 0.50, 0.00)]\n",
    "# colorsESTAll = [(0.00, 0.00, 0.00),(0.89, 0.11,0.10),(0.60, 0.31,0.64),(0.22, 0.49, 0.72),(1.00, 0.50, 0.00),(0.30, 0.69, 0.29),(1, 0.50,0),(0.22,0.49,0.72)]"
   ]
  },
  {
   "cell_type": "markdown",
   "metadata": {},
   "source": [
    "# paired dot plot All Singles"
   ]
  },
  {
   "cell_type": "markdown",
   "metadata": {},
   "source": [
    "## alanine Singles paired dot plot"
   ]
  },
  {
   "cell_type": "code",
   "execution_count": 22,
   "metadata": {},
   "outputs": [
    {
     "data": {
      "text/plain": [
       "'mg751mg012'"
      ]
     },
     "execution_count": 22,
     "metadata": {},
     "output_type": "execute_result"
    }
   ],
   "source": [
    "ListofAllAlanin[17]"
   ]
  },
  {
   "cell_type": "code",
   "execution_count": null,
   "metadata": {},
   "outputs": [],
   "source": [
    "# import matplotlib.pyplot as plt\n",
    "# import numpy as np\n",
    "\n",
    "fig = plt.figure(figsize=(5.2, 1.9)) \n",
    "\n",
    "ax1 = plt.subplot(1,1,1)\n",
    "\n",
    "#### common parameters\n",
    "axesText = ''\n",
    "\n",
    "\n",
    "# loop to plot paired data. Refers to List of Alanines and the before and after array\n",
    "plotnr = np.array([1,2]) \n",
    "for n in range(int(len(df_newInuA_Bef_Alanine.columns)/2)):\n",
    "    #print('plotting the lines')\n",
    "    for i in range(len(df_newInuA_Bef_Alanine[ListofAllAlanin[n]+\"-NaGluSelAmil300\"])):\n",
    "        ax1.plot(plotnr, [df_newInuA_Bef_Alanine[ListofAllAlanin[n]+\"-NaGluSelAmil300\"][i], df_newInuA_Bef_Alanine[ListofAllAlanin[n]+\"+NaGluSelAmil300\"][i]], c=colorsDelta[n],marker = 'o',markersize=SizeOfMarker, linewidth=SizeofLine,clip_on=False)# alpha=0.5\n",
    "    plotnr = plotnr +2\n",
    "    #print(plotnr)\n",
    "\n",
    "ylimSetM4 = [0,-150]\n",
    "\n",
    "##### AXIS 1 ####\n",
    "ax1.set_ylim(ylimSetM4)\n",
    "ax1.spines['right'].set_visible(False)                                  # no spine at the right\n",
    "ax1.spines['top'].set_visible(False)                                     # no spine at the top\n",
    "ax1.yaxis.set_ticks_position('left')                                     # ticks at the left\n",
    "ax1.xaxis.set_ticks_position('bottom')                                 # no spine at the right\n",
    "ax1.spines['left'].set_position(('outward',10))                           # a spine at the left that is put a little aside\n",
    "ax1.spines['bottom'].set_position(('outward',1))  \n",
    "ax1.spines['top'].set_position(('axes',5)) \n",
    "ax1.get_yaxis().set_tick_params(direction='in')\n",
    "ax1.get_xaxis().set_tick_params(direction='in')\n",
    "# ax1.plot([-1,20], [0,0], 'k--', color='#000000', linewidth=1)#gray line for Zero or 1        \n",
    "ax1.tick_params(axis='y', which='major', labelsize=AxisTickLabelSize )  \n",
    "ax1.tick_params(axis='x', which='major', labelsize=AxisTickLabelSize, length=0) \n",
    "ax1.spines['bottom'].set_visible(False) \n",
    "\n",
    "labels2 = ['Uninj']\n",
    "for i in range(0,len(LabelAlanin)):\n",
    "    #labels2.append('')\n",
    "    labels2.append(LabelAlanin[i])\n",
    "\n",
    "#ax1.set_xticklabels(labels2,  ha='right',rotation=30,fontsize=AxisLegendSize)    \n",
    "ax1.xaxis.set_visible(False)\n",
    "\n",
    "n=1.9\n",
    "for i in range(len(labels2)):    \n",
    "    ax1.text(n, 20, labels2[i],ha='right',rotation=30,fontsize= AxisLegendSize)\n",
    "    n = n+2\n",
    "\n",
    "# plt.draw()      # Note, this line is important\n",
    "# labels = [l.get_text() for l in ax1.get_yticklabels()]\n",
    "# labels[0] = '0'\n",
    "#ax1.set_yticklabels(labels)\n",
    "\n",
    "#ax1.set_ylabel('Change in current @-85 mV (I(drug) - I(before)',fontsize=14)\n",
    "ax1.set_ylabel(axesText)\n",
    "ax1.set_xlabel(axesText)\n",
    "ax1.text(-6, -120.5, 'current, $\\it{I}$ (µA)',fontsize=AxisLabelSize,rotation=90,ha='center')\n",
    "   \n",
    "plt.gcf().subplots_adjust(bottom=0.2, left=0.15,right=None, top=None,hspace=None, wspace=None)     \n",
    "      \n",
    "plt.savefig(filedirExportFig+\"PairedDataAllAlanineSingles\"+'.pdf')"
   ]
  },
  {
   "cell_type": "markdown",
   "metadata": {},
   "source": [
    "## chimera singles paired dot plot"
   ]
  },
  {
   "cell_type": "code",
   "execution_count": 26,
   "metadata": {},
   "outputs": [
    {
     "data": {
      "image/png": "[encoded data removed]",
      "text/plain": [
       "<Figure size 288x144 with 1 Axes>"
      ]
     },
     "metadata": {
      "needs_background": "light"
     },
     "output_type": "display_data"
    }
   ],
   "source": [
    "# import matplotlib.pyplot as plt\n",
    "# import numpy as np\n",
    "\n",
    "fig = plt.figure(figsize=(4, 2)) \n",
    "\n",
    "ax1 = plt.subplot(1,1,1)\n",
    "\n",
    "#### common parameters\n",
    "axesText = ''\n",
    "\n",
    "\n",
    "# loop to plot paired data. Refers to List of Alanines and the before and after array\n",
    "plotnr = np.array([1,2]) \n",
    "for n in range(int(len(df_newInuA_Bef_Chimera.columns)/2)):\n",
    "    #print('plotting the lines')\n",
    "    for i in range(len(df_newInuA_Bef_Chimera[ListofAllChimera[n]+\"-NaGluSelAmil300\"])):\n",
    "        ax1.plot(plotnr, [df_newInuA_Bef_Chimera[ListofAllChimera[n]+\"-NaGluSelAmil300\"][i], df_newInuA_Bef_Chimera[ListofAllChimera[n]+\"+NaGluSelAmil300\"][i]], c=colorsDelta[n],marker = 'o',markersize=SizeOfMarker, linewidth=SizeofLine,clip_on=False)# alpha=0.5\n",
    "    plotnr = plotnr +2\n",
    "\n",
    "\n",
    "ylimSetM4 = [0,-80]\n",
    "\n",
    "##### AXIS 1 ####\n",
    "ax1.set_ylim(ylimSetM4)\n",
    "ax1.spines['right'].set_visible(False)                                  # no spine at the right\n",
    "ax1.spines['top'].set_visible(False)                                     # no spine at the top\n",
    "ax1.yaxis.set_ticks_position('left')                                     # ticks at the left\n",
    "ax1.xaxis.set_ticks_position('bottom')                                 # no spine at the right\n",
    "ax1.spines['left'].set_position(('outward',10))                           # a spine at the left that is put a little aside\n",
    "ax1.spines['bottom'].set_position(('outward',1))  \n",
    "ax1.spines['top'].set_position(('axes',5)) \n",
    "ax1.get_yaxis().set_tick_params(direction='in')\n",
    "ax1.get_xaxis().set_tick_params(direction='in')\n",
    "# ax1.plot([-1,20], [0,0], 'k--', color='#000000', linewidth=1)#gray line for Zero or 1        \n",
    "ax1.tick_params(axis='y', which='major', labelsize=AxisTickLabelSize )  \n",
    "ax1.tick_params(axis='x', which='major', labelsize=AxisTickLabelSize, length=0) \n",
    "# ax7.set_title('Ibuoride Analogues',size=12)\n",
    "# ax1.set_xticklabels(np.unique(IbuAll30['Injection']),rotation=30)\n",
    "#ax1.set_xticks((plot1[0],plot1[1], plot2[0],plot2[1], plot3[0], plot3[1],plot4[0],plot4[1],plot5[0],plot5[1])) \n",
    "ax1.spines['bottom'].set_visible(False) \n",
    "\n",
    "labels2 = ['','Uninj']\n",
    "for i in range(0,len(LabelChimera)):\n",
    "    #labels2.append('')\n",
    "    labels2.append(LabelChimera[i])\n",
    "\n",
    "ax1.set_xticklabels(labels2,  ha='right',rotation=30,fontsize=AxisLegendSize)    \n",
    "#a1.xaxis.set_visible(False)\n",
    "\n",
    "# plt.draw()      # Note, this line is important\n",
    "# labels = [l.get_text() for l in ax1.get_yticklabels()]\n",
    "# labels[0] = '0'\n",
    "#ax1.set_yticklabels(labels)\n",
    "\n",
    "# #ax1.set_xlabel('V (mV)',fontsize=14)\n",
    "# #ax1.set_ylabel('Change in current @-85 mV (I(drug) - I(before)',fontsize=14)\n",
    "ax1.set_ylabel(axesText)\n",
    "ax1.set_xlabel(axesText)\n",
    "ax1.text(-2, -60.5, 'current, $\\it{I}$ (µA)',fontsize=AxisLabelSize,rotation=90,ha='center')\n",
    "\n",
    "    \n",
    "plt.gcf().subplots_adjust(bottom=0.25, left=0.15,right=None, top=None,hspace=1.5, wspace=0.5)     \n",
    "    \n",
    "# plt.show()\n",
    "\n",
    "plt.savefig(filedirExportFig+\"PairedDataAllChimera\"+'.pdf')"
   ]
  },
  {
   "cell_type": "markdown",
   "metadata": {},
   "source": [
    "# plot Change in Current for Different conditions"
   ]
  },
  {
   "cell_type": "markdown",
   "metadata": {},
   "source": [
    "# plot alanin delta"
   ]
  },
  {
   "cell_type": "code",
   "execution_count": 27,
   "metadata": {},
   "outputs": [
    {
     "name": "stderr",
     "output_type": "stream",
     "text": [
      "/Users/wormsenselab/anaconda3/envs/dabest/lib/python3.7/site-packages/dabest/_classes.py:534: UserWarning: The upper limit of the interval was in the top 10 values. The result should be considered unstable.\n",
      "  stacklevel=1)\n",
      "/Users/wormsenselab/anaconda3/envs/dabest/lib/python3.7/site-packages/seaborn/categorical.py:1243: RuntimeWarning: invalid value encountered in sqrt\n",
      "  dx = np.sqrt(d ** 2 - dy ** 2) * 1.05\n"
     ]
    },
    {
     "data": {
      "image/png": "[encoded data removed]",
      "text/plain": [
       "<Figure size 520x450 with 2 Axes>"
      ]
     },
     "metadata": {
      "needs_background": "light"
     },
     "output_type": "display_data"
    }
   ],
   "source": [
    "#plt.figure(figsize=(3.5, 3)) \n",
    "fig1= Fig_Delta_Alanin.mean_diff.plot(swarm_ylim=(5,-1), contrast_ylim=(50,-1), fig_size=(5.2, 4.5),  raw_marker_size=(2),es_marker_size=2,contrast_label='ΔI$_{drug}$ (µA)',\n",
    "                                    swarm_label='I$_{drug}$ (µA)',custom_palette=colorsDelta, reflines_kwargs = {'linestyle':'dashed', 'linewidth':0.75})#,reflines_kwargs\n",
    "\n",
    "\n",
    "fig1.axes[0].plot([-1,50], [0,0], 'k-', color='#000000', linestyle='--',linewidth=0.5)\n",
    "#fig1.axes[1].plot([-1,20], [-1,-1], 'k--', color='#000000', linewidth=1)\n",
    "fig1.axes[0].tick_params(axis='both', which='major', labelsize=AxisLegendSize)  \n",
    "fig1.axes[1].tick_params(axis='both', which='major', labelsize=AxisLegendSize)  \n",
    "fig1.axes[0].get_yaxis().set_tick_params(direction='in')\n",
    "fig1.axes[1].get_yaxis().set_tick_params(direction='in')\n",
    "fig1.axes[0].get_xaxis().set_tick_params(direction='in')\n",
    "fig1.axes[1].get_xaxis().set_tick_params(direction='in')\n",
    "\n",
    "\n",
    "\n",
    "labels = ['','']\n",
    "fig1.axes[0].set_xticklabels(labels, rotation=30, ha='right')\n",
    "# fig1.axes[0].text(0.13, -12.5, 'Ibu (µM)')\n",
    "# fig1.axes[0].text(4.0, -12.5, 'Asp  (µM)')\n",
    "\n",
    "labels2 = ['Uninj']\n",
    "for i in range(0,len(LabelAlanin)):\n",
    "    #labels2.append('')\n",
    "    labels2.append(LabelAlanin[i])\n",
    "                                                                                                       \n",
    "#labels2 = ['',LabelAlanin[0],'','F84A','','K85A','','E86A','','F87A','','C88A','','Y89A','','K90A','','T91A','','S92A','','H94A','','G95A','','I96A','','P97A','','M98A','','I99A','','G100A']\n",
    "fig1.axes[1].set_xticklabels(labels2, rotation=30, ha='right')\n",
    "\n",
    "#plt.gcf().subplots_adjust(bottom=0.2, left=0.3,right=None, top=None,hspace=1.5, wspace=0.2) \n",
    "#plt.gcf().subplots_adjust(bottom=0.17, left=0.25,right=None, top=None,hspace=0.75, wspace=0.2) \n",
    "plt.gcf().subplots_adjust(bottom=0.2, left=0.15,right=None, top=None,hspace=None, wspace=None)  \n",
    "plt.savefig(filedirExportFig+\"ChangeinCurrentPilotAlanin-WithOutCurrent\"+'.pdf')\n"
   ]
  },
  {
   "cell_type": "markdown",
   "metadata": {},
   "source": [
    "# plot chimera Delta All singles"
   ]
  },
  {
   "cell_type": "code",
   "execution_count": 29,
   "metadata": {
    "scrolled": true
   },
   "outputs": [
    {
     "data": {
      "image/png": "[encoded data removed]",
      "text/plain": [
       "<Figure size 500x450 with 2 Axes>"
      ]
     },
     "metadata": {
      "needs_background": "light"
     },
     "output_type": "display_data"
    }
   ],
   "source": [
    "#plt.figure(figsize=(3.5, 3)) \n",
    "fig1= Fig_Delta_Chimera.mean_diff.plot(swarm_ylim=(60,-1), contrast_ylim=(60,-1), fig_size=(5, 4.5),  raw_marker_size=(2),es_marker_size=2,contrast_label='ΔI$_{drug}$ (µA)',\n",
    "                                    swarm_label='I$_{drug}$ (µA)',custom_palette=colorsDelta, reflines_kwargs = {'linestyle':'dashed', 'linewidth':0.75})#,reflines_kwargs\n",
    "\n",
    "\n",
    "fig1.axes[0].plot([-1,50], [0,0], 'k-', color='#000000', linestyle='--',linewidth=0.5)\n",
    "#fig1.axes[1].plot([-1,20], [-1,-1], 'k--', color='#000000', linewidth=1)\n",
    "fig1.axes[0].tick_params(axis='both', which='major', labelsize=AxisLegendSize)  \n",
    "fig1.axes[1].tick_params(axis='both', which='major', labelsize=AxisLegendSize)  \n",
    "fig1.axes[0].get_yaxis().set_tick_params(direction='in')\n",
    "fig1.axes[1].get_yaxis().set_tick_params(direction='in')\n",
    "fig1.axes[0].get_xaxis().set_tick_params(direction='in')\n",
    "fig1.axes[1].get_xaxis().set_tick_params(direction='in')\n",
    "\n",
    "\n",
    "\n",
    "labels = ['','']\n",
    "fig1.axes[0].set_xticklabels(labels, rotation=30, ha='right')\n",
    "# fig1.axes[0].text(0.13, -12.5, 'Ibu (µM)')\n",
    "# fig1.axes[0].text(4.0, -12.5, 'Asp  (µM)')\n",
    "\n",
    "labels2 = ['Uninj']\n",
    "for i in range(0,len(LabelChimera)):\n",
    "    #labels2.append('')\n",
    "    labels2.append(LabelChimera[i])\n",
    "                                                                                                       \n",
    "#labels2 = ['',LabelAlanin[0],'','F84A','','K85A','','E86A','','F87A','','C88A','','Y89A','','K90A','','T91A','','S92A','','H94A','','G95A','','I96A','','P97A','','M98A','','I99A','','G100A']\n",
    "fig1.axes[1].set_xticklabels(labels2, rotation=30, ha='right')\n",
    "\n",
    "#plt.gcf().subplots_adjust(bottom=0.2, left=0.3,right=None, top=None,hspace=1.5, wspace=0.2) \n",
    "plt.gcf().subplots_adjust(bottom=0.17, left=0.25,right=None, top=None,hspace=0.75, wspace=0.2) \n",
    "plt.savefig(filedirExportFig+\"ChangeinCurrentPilotChimera\"+'.pdf')\n"
   ]
  },
  {
   "cell_type": "markdown",
   "metadata": {},
   "source": [
    "# plot chimera delta heteromeric expression"
   ]
  },
  {
   "cell_type": "markdown",
   "metadata": {},
   "source": [
    "# paired dot plot"
   ]
  },
  {
   "cell_type": "code",
   "execution_count": null,
   "metadata": {},
   "outputs": [],
   "source": []
  },
  {
   "cell_type": "markdown",
   "metadata": {},
   "source": [
    "# Quality CHECK Data"
   ]
  },
  {
   "cell_type": "markdown",
   "metadata": {},
   "source": [
    "# Check Some Statistics about number of Recordings etc"
   ]
  },
  {
   "cell_type": "code",
   "execution_count": null,
   "metadata": {},
   "outputs": [],
   "source": [
    "df_Alanin300Amil.pivot(columns='Injection', values='TestSol').describe().T"
   ]
  },
  {
   "cell_type": "code",
   "execution_count": null,
   "metadata": {},
   "outputs": [],
   "source": [
    "df_Chimera300Amil.pivot(columns='Injection', values='TestSol').describe().T"
   ]
  },
  {
   "cell_type": "code",
   "execution_count": null,
   "metadata": {},
   "outputs": [],
   "source": []
  },
  {
   "cell_type": "markdown",
   "metadata": {},
   "source": [
    "# Control Rating"
   ]
  },
  {
   "cell_type": "code",
   "execution_count": null,
   "metadata": {},
   "outputs": [],
   "source": [
    "df_Alanin300Amil"
   ]
  },
  {
   "cell_type": "code",
   "execution_count": null,
   "metadata": {},
   "outputs": [],
   "source": [
    "fig = plt.figure(figsize=(8, 4.5)) \n",
    "#plt.subplots(2, 2, sharex='col')\n",
    "ax1 = plt.subplot(1,1,1)\n",
    "\n",
    "\n",
    "orderCons = ListofAllAlanin #[\"uninjected\",\"mg419mg012\",\"mg738mg012\",\"mg739mg012\",\"mg740mg012\",\"mg741mg012\",\"mg748mg012\",\"mg759mg012\",\"mg745mg012\",\"mg752mg012\",\"mg749mg012\",\"mg750mg012\",\"mg746mg012\",\"mg747mg012\", \"mg760mg012\",\"mg753mg012\",\"mg761mg012\",\"mg751mg012\"]\n",
    "\n",
    "labels2 = ['Uninj']\n",
    "#labels2 = []\n",
    "for i in range(0,len(LabelAlanin)):\n",
    "    #labels2.append('')\n",
    "    labels2.append(LabelAlanin[i])\n",
    "sns.swarmplot(x= df_Alanin300Amil['Injection'], y=df_Alanin300Amil['Rating'], data = df_Alanin300Amil,palette=colorsDelta, edgecolor='white', linewidth=0.5, ax = ax1, size = 4,order=orderCons)#order=[\"mg419mg012\",\"pTL69mg012\",\"mg418mg012\",\"mg418mg419mg012\"]\n",
    "sns.boxplot(x= df_Alanin300Amil['Injection'], y=df_Alanin300Amil['Rating'], data = df_Alanin300Amil, palette=colorsDelta,ax=ax1,order=orderCons)\n",
    "\n",
    "YlimitPerm = [0,5]\n",
    "\n",
    "##### AXIS 1 ####\n",
    "ax1.set_ylim(YlimitPerm)\n",
    "ax1.spines['right'].set_visible(False)                                  # no spine at the right\n",
    "ax1.spines['top'].set_visible(False)  # no spine at the top\n",
    "ax1.spines['bottom'].set_visible(False)  \n",
    "ax1.yaxis.set_ticks_position('left')                                     # ticks at the left\n",
    "ax1.xaxis.set_ticks_position('bottom')                                 # no spine at the right\n",
    "ax1.spines['left'].set_position(('outward',15))                           # a spine at the left that is put a little aside\n",
    "ax1.spines['bottom'].set_position(('outward',10))  \n",
    "ax1.spines['top'].set_position(('axes',5)) \n",
    "ax1.get_yaxis().set_tick_params(direction='in')\n",
    "ax1.get_xaxis().set_tick_params(direction='in')\n",
    "#ax1.plot([-1,50], [0.2,0.2] , 'k--', color='#111111', linewidth=1) #gray line for Zero or 1   \n",
    "#ax1.plot([-1,50], [1,1] , 'k-', color='#000000', linewidth=1)\n",
    "#ax1.plot([-1,50], [0.2,0.2] , 'k--', color='#111111', linewidth=1) #gray line for Zero or 1     \n",
    "ax1.tick_params(axis='both', which='major', labelsize=AxisTickLabelSize)  \n",
    "ax1.set_title('Quality Rating All Single Alanine Mutations',size=AxisLabelSize) \n",
    "ax1.yaxis.label.set_size(20)\n",
    "ax1.set_ylabel('Quality Rating from 0 to 4', fontsize=AxisLabelSize)\n",
    "\n",
    "#ax1.xaxis.set_visible(False)\n",
    "ax1.set_xticklabels(labels2,rotation=30)\n",
    "\n",
    "\n",
    "\n",
    "\n",
    "\n",
    "\n",
    "plt.gcf().subplots_adjust(bottom=0.17, left=0.25,right=None, top=None,hspace=0.75, wspace=0.2) \n",
    "\n",
    "# plt.savefig(filedirExportFig+\"PotassiumPermeabilityNtermAlaninWithCurrent\"+'.pdf')\n",
    "\n",
    "\n"
   ]
  },
  {
   "cell_type": "code",
   "execution_count": null,
   "metadata": {
    "scrolled": true
   },
   "outputs": [],
   "source": [
    "fig = plt.figure(figsize=(8, 4.5)) \n",
    "#plt.subplots(2, 2, sharex='col')\n",
    "ax1 = plt.subplot(1,1,1)\n",
    "\n",
    "\n",
    "orderCons = ListofAllChimera #[\"uninjected\",\"mg419mg012\",\"mg738mg012\",\"mg739mg012\",\"mg740mg012\",\"mg741mg012\",\"mg748mg012\",\"mg759mg012\",\"mg745mg012\",\"mg752mg012\",\"mg749mg012\",\"mg750mg012\",\"mg746mg012\",\"mg747mg012\", \"mg760mg012\",\"mg753mg012\",\"mg761mg012\",\"mg751mg012\"]\n",
    "\n",
    "labels2 = ['Uninj']\n",
    "#labels2 = []\n",
    "for i in range(0,len(LabelChimera)):\n",
    "    #labels2.append('')\n",
    "    labels2.append(LabelChimera[i])\n",
    "    \n",
    "sns.swarmplot(x= df_Chimera300Amil['Injection'], y=df_Chimera300Amil['Rating'], data = df_Chimera300Amil,palette=colorsDelta, edgecolor='white', linewidth=0.5, ax = ax1, size = 4,order=orderCons)#order=[\"mg419mg012\",\"pTL69mg012\",\"mg418mg012\",\"mg418mg419mg012\"]\n",
    "sns.boxplot(x= df_Chimera300Amil['Injection'], y=df_Chimera300Amil['Rating'], data = df_Chimera300Amil, palette=colorsDelta,ax=ax1,order=orderCons)\n",
    "\n",
    "YlimitPerm = [0,5]\n",
    "\n",
    "##### AXIS 1 ####\n",
    "ax1.set_ylim(YlimitPerm)\n",
    "ax1.spines['right'].set_visible(False)                                  # no spine at the right\n",
    "ax1.spines['top'].set_visible(False)  # no spine at the top\n",
    "ax1.spines['bottom'].set_visible(False)  \n",
    "ax1.yaxis.set_ticks_position('left')                                     # ticks at the left\n",
    "ax1.xaxis.set_ticks_position('bottom')                                 # no spine at the right\n",
    "ax1.spines['left'].set_position(('outward',15))                           # a spine at the left that is put a little aside\n",
    "ax1.spines['bottom'].set_position(('outward',10))  \n",
    "ax1.spines['top'].set_position(('axes',5)) \n",
    "ax1.get_yaxis().set_tick_params(direction='in')\n",
    "ax1.get_xaxis().set_tick_params(direction='in')\n",
    "#ax1.plot([-1,50], [0.2,0.2] , 'k--', color='#111111', linewidth=1) #gray line for Zero or 1   \n",
    "#ax1.plot([-1,50], [1,1] , 'k-', color='#000000', linewidth=1)\n",
    "#ax1.plot([-1,50], [0.2,0.2] , 'k--', color='#111111', linewidth=1) #gray line for Zero or 1     \n",
    "ax1.tick_params(axis='both', which='major', labelsize=8)  \n",
    "ax1.set_title('Quality Rating All Single Chimera Mutations',size=14) \n",
    "ax1.yaxis.label.set_size(20)\n",
    "ax1.set_ylabel('Quality Rating from 0 to 4', fontsize=10)\n",
    "\n",
    "#ax1.xaxis.set_visible(False)\n",
    "ax1.set_xticklabels(labels2,rotation=30)\n",
    "\n",
    "\n",
    "\n",
    "plt.gcf().subplots_adjust(bottom=0.17, left=0.25,right=None, top=None,hspace=0.75, wspace=0.2) \n",
    "\n",
    "# plt.savefig(filedirExportFig+\"PotassiumPermeabilityNtermAlaninWithCurrent\"+'.pdf')\n",
    "\n",
    "\n"
   ]
  },
  {
   "cell_type": "markdown",
   "metadata": {},
   "source": [
    "# Control Leak"
   ]
  },
  {
   "cell_type": "code",
   "execution_count": null,
   "metadata": {
    "scrolled": false
   },
   "outputs": [],
   "source": [
    "fig = plt.figure(figsize=(8, 4.5)) \n",
    "#plt.subplots(2, 2, sharex='col')\n",
    "ax1 = plt.subplot(1,1,1)\n",
    "\n",
    "\n",
    "orderCons = ListofAllAlanin #[\"uninjected\",\"mg419mg012\",\"mg738mg012\",\"mg739mg012\",\"mg740mg012\",\"mg741mg012\",\"mg748mg012\",\"mg759mg012\",\"mg745mg012\",\"mg752mg012\",\"mg749mg012\",\"mg750mg012\",\"mg746mg012\",\"mg747mg012\", \"mg760mg012\",\"mg753mg012\",\"mg761mg012\",\"mg751mg012\"]\n",
    "\n",
    "labels2 = ['Uninj']\n",
    "#labels2 = []\n",
    "for i in range(0,len(LabelAlanin)):\n",
    "    #labels2.append('')\n",
    "    labels2.append(LabelAlanin[i])\n",
    "sns.swarmplot(x= df_Alanin300Amil['Injection'], y=df_Alanin300Amil['MeanTEST']*1000000, data = df_Alanin300Amil,palette=colorsDelta, edgecolor='white', linewidth=0.5, ax = ax1, size = 4,order=orderCons)#order=[\"mg419mg012\",\"pTL69mg012\",\"mg418mg012\",\"mg418mg419mg012\"]\n",
    "sns.boxplot(x= df_Alanin300Amil['Injection'], y=df_Alanin300Amil['MeanTEST']*1000000, data = df_Alanin300Amil, palette=colorsDelta,ax=ax1,order=orderCons)\n",
    "\n",
    "YlimitPerm = [1,-10]\n",
    "\n",
    "##### AXIS 1 ####\n",
    "#ax1.set_ylim(YlimitPerm)\n",
    "ax1.spines['right'].set_visible(False)                                  # no spine at the right\n",
    "ax1.spines['top'].set_visible(False)  # no spine at the top\n",
    "ax1.spines['bottom'].set_visible(False)  \n",
    "ax1.yaxis.set_ticks_position('left')                                     # ticks at the left\n",
    "ax1.xaxis.set_ticks_position('bottom')                                 # no spine at the right\n",
    "ax1.spines['left'].set_position(('outward',15))                           # a spine at the left that is put a little aside\n",
    "ax1.spines['bottom'].set_position(('outward',10))  \n",
    "ax1.spines['top'].set_position(('axes',5)) \n",
    "ax1.get_yaxis().set_tick_params(direction='in')\n",
    "ax1.get_xaxis().set_tick_params(direction='in')\n",
    "#ax1.plot([-1,50], [0.2,0.2] , 'k--', color='#111111', linewidth=1) #gray line for Zero or 1   \n",
    "#ax1.plot([-1,50], [1,1] , 'k-', color='#000000', linewidth=1)\n",
    "#ax1.plot([-1,50], [0.2,0.2] , 'k--', color='#111111', linewidth=1) #gray line for Zero or 1     \n",
    "ax1.tick_params(axis='both', which='major', labelsize=8)  \n",
    "ax1.set_title('Leak (uA)',size=14) \n",
    "ax1.yaxis.label.set_size(20)\n",
    "ax1.set_ylabel('Leak (uA) All SIngle Alanine mutations', fontsize=10)\n",
    "\n",
    "#ax1.xaxis.set_visible(False)\n",
    "ax1.set_xticklabels(labels2,rotation=30)\n",
    "\n",
    "\n",
    "\n",
    "plt.gcf().subplots_adjust(bottom=0.17, left=0.25,right=None, top=None,hspace=0.75, wspace=0.2) \n",
    "\n",
    "# plt.savefig(filedirExportFig+\"PotassiumPermeabilityNtermAlaninWithCurrent\"+'.pdf')\n",
    "\n",
    "\n"
   ]
  },
  {
   "cell_type": "code",
   "execution_count": null,
   "metadata": {},
   "outputs": [],
   "source": []
  },
  {
   "cell_type": "code",
   "execution_count": null,
   "metadata": {},
   "outputs": [],
   "source": [
    "fig = plt.figure(figsize=(8, 4.5)) \n",
    "#plt.subplots(2, 2, sharex='col')\n",
    "ax1 = plt.subplot(1,1,1)\n",
    "\n",
    "\n",
    "orderCons = ListofAllChimera #[\"uninjected\",\"mg419mg012\",\"mg738mg012\",\"mg739mg012\",\"mg740mg012\",\"mg741mg012\",\"mg748mg012\",\"mg759mg012\",\"mg745mg012\",\"mg752mg012\",\"mg749mg012\",\"mg750mg012\",\"mg746mg012\",\"mg747mg012\", \"mg760mg012\",\"mg753mg012\",\"mg761mg012\",\"mg751mg012\"]\n",
    "\n",
    "labels2 = ['Uninj']\n",
    "#labels2 = []\n",
    "for i in range(0,len(LabelChimera)):\n",
    "    #labels2.append('')\n",
    "    labels2.append(LabelChimera[i])\n",
    "    \n",
    "sns.swarmplot(x= df_Chimera300Amil['Injection'], y=df_Chimera300Amil['MeanTEST']*1000000, data = df_Chimera300Amil,palette=colorsDelta, edgecolor='white', linewidth=0.5, ax = ax1, size = 4,order=orderCons)#order=[\"mg419mg012\",\"pTL69mg012\",\"mg418mg012\",\"mg418mg419mg012\"]\n",
    "sns.boxplot(x= df_Chimera300Amil['Injection'], y=df_Chimera300Amil['MeanTEST']*1000000, data = df_Chimera300Amil, palette=colorsDelta,ax=ax1,order=orderCons)\n",
    "\n",
    "YlimitPerm = [1,-10]\n",
    "\n",
    "##### AXIS 1 ####\n",
    "ax1.set_ylim(YlimitPerm)\n",
    "ax1.spines['right'].set_visible(False)                                  # no spine at the right\n",
    "ax1.spines['top'].set_visible(False)  # no spine at the top\n",
    "ax1.spines['bottom'].set_visible(False)  \n",
    "ax1.yaxis.set_ticks_position('left')                                     # ticks at the left\n",
    "ax1.xaxis.set_ticks_position('bottom')                                 # no spine at the right\n",
    "ax1.spines['left'].set_position(('outward',15))                           # a spine at the left that is put a little aside\n",
    "ax1.spines['bottom'].set_position(('outward',10))  \n",
    "ax1.spines['top'].set_position(('axes',5)) \n",
    "ax1.get_yaxis().set_tick_params(direction='in')\n",
    "ax1.get_xaxis().set_tick_params(direction='in')\n",
    "#ax1.plot([-1,50], [0.2,0.2] , 'k--', color='#111111', linewidth=1) #gray line for Zero or 1   \n",
    "#ax1.plot([-1,50], [1,1] , 'k-', color='#000000', linewidth=1)\n",
    "#ax1.plot([-1,50], [0.2,0.2] , 'k--', color='#111111', linewidth=1) #gray line for Zero or 1     \n",
    "ax1.tick_params(axis='both', which='major', labelsize=8)  \n",
    "ax1.set_title('Leak (uA) All Single Chimera Mutations',size=14) \n",
    "ax1.yaxis.label.set_size(20)\n",
    "ax1.set_ylabel('Leak (uA)', fontsize=10)\n",
    "\n",
    "#ax1.xaxis.set_visible(False)\n",
    "ax1.set_xticklabels(labels2,rotation=30)\n",
    "\n",
    "\n",
    "\n",
    "plt.gcf().subplots_adjust(bottom=0.17, left=0.25,right=None, top=None,hspace=0.75, wspace=0.2) \n",
    "\n",
    "# plt.savefig(filedirExportFig+\"PotassiumPermeabilityNtermAlaninWithCurrent\"+'.pdf')\n",
    "\n",
    "\n"
   ]
  },
  {
   "cell_type": "code",
   "execution_count": null,
   "metadata": {},
   "outputs": [],
   "source": []
  },
  {
   "cell_type": "code",
   "execution_count": null,
   "metadata": {},
   "outputs": [],
   "source": []
  },
  {
   "cell_type": "code",
   "execution_count": null,
   "metadata": {},
   "outputs": [],
   "source": []
  },
  {
   "cell_type": "code",
   "execution_count": null,
   "metadata": {},
   "outputs": [],
   "source": []
  }
 ],
 "metadata": {
  "kernelspec": {
   "display_name": "Python 3",
   "language": "python",
   "name": "python3"
  },
  "language_info": {
   "codemirror_mode": {
    "name": "ipython",
    "version": 3
   },
   "file_extension": ".py",
   "mimetype": "text/x-python",
   "name": "python",
   "nbconvert_exporter": "python",
   "pygments_lexer": "ipython3",
   "version": "3.7.4"
  }
 },
 "nbformat": 4,
 "nbformat_minor": 2
}
