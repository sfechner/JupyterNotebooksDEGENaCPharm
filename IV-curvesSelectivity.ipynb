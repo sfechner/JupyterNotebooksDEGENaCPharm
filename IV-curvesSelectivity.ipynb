{
 "cells": [
  {
   "cell_type": "markdown",
   "metadata": {},
   "source": [
    "## potential representative traces\n",
    "\n",
    "MEC-4d: STFX069\tSTFX069005\t\t20181217\n",
    "\n",
    "UNC8d: STFX069\tSTFX069008\t\t20181218 (maybe, first a bit shitty)\n",
    "\n",
    "STFX069\tSTFX069004\t\t20181218 (probably better)\n",
    "\n",
    "DEGT-1d STFX069003\t\t20181218 (maybe...)"
   ]
  },
  {
   "cell_type": "code",
   "execution_count": 1,
   "metadata": {},
   "outputs": [
    {
     "name": "stderr",
     "output_type": "stream",
     "text": [
      "/Users/wormsenselab/anaconda3/envs/dabest/lib/python3.7/site-packages/matplotlib/__init__.py:1003: UserWarning: Duplicate key in file \"/Users/Fechner/.matplotlib/matplotlibrc\", line #3\n",
      "  (fname, cnt))\n",
      "/Users/wormsenselab/anaconda3/envs/dabest/lib/python3.7/site-packages/matplotlib/__init__.py:1003: UserWarning: Duplicate key in file \"/Users/Fechner/.matplotlib/matplotlibrc\", line #4\n",
      "  (fname, cnt))\n"
     ]
    }
   ],
   "source": [
    "from matplotlib import pyplot as plt\n",
    "import numpy as np\n",
    "%matplotlib inline\n",
    "from matplotlib import gridspec\n",
    "from matplotlib import rcParams\n",
    "from scipy.optimize import curve_fit\n",
    "import scipy.stats as stats\n",
    "from matplotlib import lines\n",
    "import seaborn as sns\n",
    "\n",
    "import pandas as pd\n",
    "import glob\n",
    "\n",
    "#thinter to tbe able to choose a meta data file\n",
    "#import tkinter as tk\n",
    "#from tkinter import filedialog#to open dialog box to choose file\n",
    "#from tkinter.filedialog import askopenfilename"
   ]
  },
  {
   "cell_type": "code",
   "execution_count": 2,
   "metadata": {},
   "outputs": [],
   "source": [
    "#I don't need to install HEKA reader as I am plotting the IV curves from the derived mean data"
   ]
  },
  {
   "cell_type": "code",
   "execution_count": 3,
   "metadata": {},
   "outputs": [
    {
     "data": {
      "text/plain": [
       "'/Users/Fechner/Box Sync/Fechner/TEVC-GoodmanlabBOX/Project-STFX/AnalysisSTFX/JupyterNotebooksDEGENaCPharm'"
      ]
     },
     "execution_count": 3,
     "metadata": {},
     "output_type": "execute_result"
    }
   ],
   "source": [
    "pwd"
   ]
  },
  {
   "cell_type": "markdown",
   "metadata": {},
   "source": [
    "# change file directory\n",
    "## cd gives me an error if there is a comment beforehand"
   ]
  },
  {
   "cell_type": "code",
   "execution_count": 4,
   "metadata": {},
   "outputs": [
    {
     "name": "stdout",
     "output_type": "stream",
     "text": [
      "/Users/Fechner/Box Sync/Fechner/TEVC-GoodmanlabBOX/Project-STFX/RatioSTFX\n"
     ]
    }
   ],
   "source": [
    "cd ~/Box Sync/Fechner/TEVC-GoodmanlabBOX/Project-STFX/RatioSTFX"
   ]
  },
  {
   "cell_type": "code",
   "execution_count": 5,
   "metadata": {},
   "outputs": [],
   "source": [
    "mg419filename = 'Selectivity-TEVC-STFX069005.txt'\n",
    "pTL69filename = 'Selectivity-TEVC-STFX069008.txt'#'Selectivity-TEVC-STFX069004.txt'\n",
    "mg418filename = 'Selectivity-TEVC-STFX069003.txt'"
   ]
  },
  {
   "cell_type": "code",
   "execution_count": 6,
   "metadata": {
    "scrolled": true
   },
   "outputs": [
    {
     "data": {
      "text/plain": [
       "'/Users/Fechner/Box Sync/Fechner/TEVC-GoodmanlabBOX/Project-STFX/RatioSTFX'"
      ]
     },
     "execution_count": 6,
     "metadata": {},
     "output_type": "execute_result"
    }
   ],
   "source": [
    "pwd"
   ]
  },
  {
   "cell_type": "code",
   "execution_count": 7,
   "metadata": {},
   "outputs": [],
   "source": [
    "filedir ='/Users/Fechner/Box Sync/Fechner/TEVC-GoodmanlabBOX/Project-STFX/AnalysisSTFX/Selectivity/'\n",
    "filedirManuscript ='/Users/Fechner/Dropbox/ManuscriptFechnerPharmacology/Figures/ExportedFromNotebook/'\n"
   ]
  },
  {
   "cell_type": "markdown",
   "metadata": {},
   "source": [
    "# How to change labels to be specific to frog"
   ]
  },
  {
   "cell_type": "code",
   "execution_count": 8,
   "metadata": {
    "scrolled": false
   },
   "outputs": [
    {
     "name": "stdout",
     "output_type": "stream",
     "text": [
      "['CellIDRec' 'Injection' 'CultivationSol' 'DaysPostInj' 'Rating'\n",
      " 'Voltage_1' 'Voltage_2' 'Voltage_3' 'Voltage_4' 'Voltage_5' 'Voltage_6'\n",
      " 'Voltage_7' 'Voltage_8' 'Voltage_9' 'MeanSTEPs_1' 'MeanSTEPs_2'\n",
      " 'MeanSTEPs_3' 'MeanSTEPs_4' 'MeanSTEPs_5' 'MeanSTEPs_6' 'MeanSTEPs_7'\n",
      " 'MeanSTEPs_8' 'MeanSTEPs_9' 'LEAKMinus85' 'TestSol' 'Vrev' 'CurMinus85']\n"
     ]
    }
   ],
   "source": [
    "#data=io.StringIO('Copy2.txt', delimiter = ',')\n",
    "labels = np.genfromtxt(mg419filename, delimiter='\\t',  dtype=str)[0,:]\n",
    "raw_data = np.genfromtxt(mg419filename, delimiter='\\t')[1:-1,:]#[1:-1,:]\n",
    "Solutionsmg419 = np.genfromtxt(mg419filename, delimiter='\\t',  dtype=str)[1:-1,24]\n",
    "SolutionspTL69 = np.genfromtxt(pTL69filename, delimiter='\\t',  dtype=str)[1:-1,24]\n",
    "Solutionsmg418 = np.genfromtxt(mg418filename, delimiter='\\t',  dtype=str)[1:-1,24]\n",
    "#data = {labe: row for label, row in zip(labels, raw_data)} #not sure if this is correct or what it is actually doing\n",
    "raw_datapTL69 = np.genfromtxt(pTL69filename, delimiter='\\t')[1:-1,:]#[1:-1,:]\n",
    "raw_datamg418 = np.genfromtxt(mg418filename, delimiter='\\t')[1:-1,:]#[1:-1,:]\n",
    "\n",
    "print(labels)\n",
    "#print(raw_data)"
   ]
  },
  {
   "cell_type": "code",
   "execution_count": 9,
   "metadata": {
    "scrolled": true
   },
   "outputs": [
    {
     "name": "stdout",
     "output_type": "stream",
     "text": [
      "['NaGluSel1' 'KGluSel' 'NaGluSel2' 'CsGluSel' 'NaGluSel3' 'LiGluSel'\n",
      " 'NaGluSel4' 'NmgGluSel']\n",
      "['NaGluSel1' 'KGluSel' 'NaGluSel2' 'CsGluSel' 'NaGluSel3' 'LiGluSel'\n",
      " 'NaGluSel4' 'NmgGluSel']\n",
      "['NaGluSel1' 'KGluSel' 'NaGluSel2' 'CsGluSel' 'NaGluSel3' 'LiGluSel'\n",
      " 'NaGluSel4' 'NmgGluSel' '' '' '' '' '' '' '' '' '' '' '' '' '' '' '' ''\n",
      " '']\n"
     ]
    }
   ],
   "source": [
    "print(SolutionspTL69)\n",
    "print(Solutionsmg418)\n",
    "print(Solutionsmg419)"
   ]
  },
  {
   "cell_type": "markdown",
   "metadata": {},
   "source": [
    "# FIND Voltage Protocol "
   ]
  },
  {
   "cell_type": "markdown",
   "metadata": {},
   "source": [
    "### HARDCODING THE IMPORT HEKA PATH"
   ]
  },
  {
   "cell_type": "code",
   "execution_count": 10,
   "metadata": {},
   "outputs": [],
   "source": [
    "# Add heka_reader to PYTHONPATH\n",
    "import sys\n",
    "#fpath = '/Users/Fechner/PythonStuff/heka_reader' #initial version delete\n",
    "fpath = '/Users/Fechner/Dropbox/PythonImport/heka_reader' #MAC\n",
    "sys.path.append(fpath)\n",
    "import heka_reader"
   ]
  },
  {
   "cell_type": "markdown",
   "metadata": {},
   "source": [
    "### got the heka reader from here\n",
    "https://github.com/campagnola/heka_reader\n",
    "\n",
    "- clone the repository to your computer (move to directory with terminal commands. Mine here is called PythonStuff at the moment: change name)\n",
    "    - git clone https://github.com/campagnola/heka_reader.git\n",
    "- the heka reader enables to read and access the .dat files (to work in jupyter notebook, you habe to append the heka_reader to the path where the heka reader is stored)\n",
    "- browser.py enables to easily browse for recordings within a .dat comparable to Igor or other similar programs\n",
    "- I changed the following in my local browser.py version, because the functions output was a tuple:\n",
    "    - def load_clicked():\n",
    "    - Display a file dialog to select a .dat file\n",
    "    - file_name = pg.QtGui.QFileDialog.getOpenFileName()\n",
    "    - if isinstance(file_name, tuple):   (ADDED THIS LINE)\n",
    "        -    file_name = file_name[0]    (ADDED THIS LINE)\n",
    "    - if file_name == '':\n",
    "        -    return\n",
    "    - load(file_name)"
   ]
  },
  {
   "cell_type": "markdown",
   "metadata": {},
   "source": [
    "## examples of how to access data structure"
   ]
  },
  {
   "cell_type": "markdown",
   "metadata": {},
   "source": [
    "    # Select a trace\n",
    "    trace = bundle.pul[group_ind][series_ind][sweep_ind][trace_ind]\n",
    "    \n",
    "    # Print meta-data for this trace\n",
    "    print(trace)\n",
    "    \n",
    "    # Load data for this trace\n",
    "    data = bundle.data[group_id, series_id, sweep_ind, trace_ind]"
   ]
  },
  {
   "cell_type": "markdown",
   "metadata": {},
   "source": [
    "# CHANGE DIRECTORY"
   ]
  },
  {
   "cell_type": "code",
   "execution_count": 11,
   "metadata": {},
   "outputs": [
    {
     "name": "stdout",
     "output_type": "stream",
     "text": [
      "/Users/Fechner/Box Sync/Fechner/TEVC-GoodmanlabBOX/Project-STFX/datFilesSTFX\n"
     ]
    }
   ],
   "source": [
    "cd ~/Box Sync/Fechner/TEVC-GoodmanlabBOX/Project-STFX/datFilesSTFX"
   ]
  },
  {
   "cell_type": "code",
   "execution_count": 12,
   "metadata": {},
   "outputs": [
    {
     "name": "stdout",
     "output_type": "stream",
     "text": [
      "/Users/Fechner/Box Sync/Fechner/TEVC-GoodmanlabBOX/Project-STFX/MetaDataSTFX/\n"
     ]
    }
   ],
   "source": [
    "####### Hardcoding the data path to your device ####\n",
    "Changefiledir ='/Users/Fechner/Box Sync/Fechner/'\n",
    "\n",
    "#### doesn't need to be changed for TEVC analysis ###\n",
    "filedirMeta = Changefiledir + 'TEVC-GoodmanlabBOX/Project-STFX/MetaDataSTFX/'\n",
    "#filedirManuscript ='/Users/Fechner/Dropbox/ManuscriptFechnerPharmacology/Figures/ExportedFromNotebook/'\n",
    "\n",
    "#CHANGE USER NAME ON PRIVATE LAPTOP TO Fechner or be more clever about the Filename\n",
    "print(filedirMeta)"
   ]
  },
  {
   "cell_type": "markdown",
   "metadata": {},
   "source": [
    "### define recording number and group number"
   ]
  },
  {
   "cell_type": "markdown",
   "metadata": {},
   "source": [
    "### takes the voltage protocol from the IBUPROFEN dose response curves, which is in principle the same, but only recorded to +40 mV, not +60"
   ]
  },
  {
   "cell_type": "code",
   "execution_count": 13,
   "metadata": {},
   "outputs": [],
   "source": [
    "#takes the voltage protocol from the IBUPROFEN dose response curves, which is in principle the same, but only recorded to +40 mV, not +60\n",
    "\n",
    "Ibumg419frog = 'STFX057'\n",
    "Ibumg419RecNr = '005' \n",
    "Ibumg419Group = 2-1  #Group Number, -1 for python convention\n",
    "\n"
   ]
  },
  {
   "cell_type": "markdown",
   "metadata": {},
   "source": [
    "## Find filenames of recordings"
   ]
  },
  {
   "cell_type": "markdown",
   "metadata": {},
   "source": [
    "### for Ibuprofen trace"
   ]
  },
  {
   "cell_type": "code",
   "execution_count": 14,
   "metadata": {},
   "outputs": [],
   "source": [
    "Ibumg419filename = 'MetaSTFX057SensitivityMetadataSTFXIBU.xlsx'\n",
    "#Ibumg419Recording = Ibumg419frog + Ibumg419RecNr #maybe trouble with - in .dat file. matlab ignored all of them. hekareader not\n",
    "Ibumg419xl = pd.ExcelFile(filedirMeta+Ibumg419filename)#converters={'names':str,'ages':str}\n",
    "Ibumg419xl.sheet_names\n",
    "Ibumg419df = Ibumg419xl.parse(\"Sheet1\",converters={'Filename': np.int64}) #calls for Sheet names \n",
    "Ibumg419Recording = Ibumg419frog + Ibumg419RecNr\n"
   ]
  },
  {
   "cell_type": "markdown",
   "metadata": {},
   "source": [
    "### for Selectivity MEC-4 traces"
   ]
  },
  {
   "cell_type": "code",
   "execution_count": 15,
   "metadata": {},
   "outputs": [
    {
     "data": {
      "text/plain": [
       "'/Users/Fechner/Box Sync/Fechner/TEVC-GoodmanlabBOX/Project-STFX/MetaDataSTFX/'"
      ]
     },
     "execution_count": 15,
     "metadata": {},
     "output_type": "execute_result"
    }
   ],
   "source": [
    "filedirMeta"
   ]
  },
  {
   "cell_type": "markdown",
   "metadata": {},
   "source": [
    "## find filename on meta data sheet"
   ]
  },
  {
   "cell_type": "code",
   "execution_count": 16,
   "metadata": {},
   "outputs": [],
   "source": [
    "#find the .dat file name in the MetaData sheet of the corresponding recording\n",
    "Ibumg419DatFile = Ibumg419df.Filename[(Ibumg419df.CellID == Ibumg419Recording)]"
   ]
  },
  {
   "cell_type": "markdown",
   "metadata": {},
   "source": [
    "## load dat files"
   ]
  },
  {
   "cell_type": "code",
   "execution_count": 17,
   "metadata": {},
   "outputs": [],
   "source": [
    "# Load a .dat file\n",
    "Ibumg419loadFile = heka_reader.Bundle(str(Ibumg419DatFile.iloc[0])+'.dat')"
   ]
  },
  {
   "cell_type": "markdown",
   "metadata": {},
   "source": [
    "## MEC-4d Ibuprofen"
   ]
  },
  {
   "cell_type": "code",
   "execution_count": 18,
   "metadata": {},
   "outputs": [],
   "source": [
    "Ibumg419Before1 = []\n",
    "for i in range(0,8):#(0,len(tt)):\n",
    "    Ibumg419Before1.append(Ibumg419loadFile.data[Ibumg419Group,1,i,1])\n",
    "    \n",
    "Ibumg419Before2 = []\n",
    "for j in range(0,8):#(0,len(tt)):\n",
    "    Ibumg419Before2.append(Ibumg419loadFile.data[Ibumg419Group,2,j,1])\n",
    "    \n",
    "Ibumg419Before3 = []\n",
    "for k in range(0,8):#(0,len(tt)):\n",
    "    Ibumg419Before3.append(Ibumg419loadFile.data[Ibumg419Group,3,k,1])"
   ]
  },
  {
   "cell_type": "code",
   "execution_count": 19,
   "metadata": {},
   "outputs": [],
   "source": [
    "Ibumg419BeforeMEAN =[]\n",
    "for i in range(0,8):\n",
    "    Ibumg419BeforeMEAN.append(((Ibumg419Before1[i]+Ibumg419Before2[i]+Ibumg419Before3[i])/3)*1000)"
   ]
  },
  {
   "cell_type": "code",
   "execution_count": null,
   "metadata": {},
   "outputs": [],
   "source": []
  },
  {
   "cell_type": "markdown",
   "metadata": {},
   "source": [
    "# find original traces for Selectivity data"
   ]
  },
  {
   "cell_type": "markdown",
   "metadata": {},
   "source": [
    "#### still hast to be in '/Users/Fechner/Box Sync/Fechner/TEVC-GoodmanlabBOX/Project-STFX/datFilesSTFX'\n",
    "#### filedirMeta in META data "
   ]
  },
  {
   "cell_type": "markdown",
   "metadata": {},
   "source": [
    "### define recording number and group number"
   ]
  },
  {
   "cell_type": "code",
   "execution_count": 20,
   "metadata": {},
   "outputs": [],
   "source": [
    "#\n",
    "#mg419filename = 'Selectivity-TEVC-STFX069005.txt'\n",
    "#pTL69filename = 'Selectivity-TEVC-STFX069008.txt'#'Selectivity-TEVC-STFX069004.txt'\n",
    "#mg418filename = 'Selectivity-TEVC-STFX069003.txt'\n",
    "\n",
    "#Selectivity MEC4d\n",
    "Selmg419frog = 'STFX069' #20181217 \n",
    "Selmg419RecNr = '005' \n",
    "Selmg419Group = 10-1 \n",
    "\n",
    "#Selectivity UNC-8d\n",
    "SelpTL69frog = 'STFX069' #20181217 \n",
    "SelpTL69RecNr = '008' \n",
    "SelpTL69Group = 2-1\n",
    "\n",
    "#Selectivity DEGT1-d\n",
    "Selmg418frog = 'STFX069' #20181217 \n",
    "Selmg418RecNr = '003' \n",
    "Selmg418Group = 7-1 "
   ]
  },
  {
   "cell_type": "markdown",
   "metadata": {},
   "source": [
    "## Find filenames of recordings"
   ]
  },
  {
   "cell_type": "code",
   "execution_count": 21,
   "metadata": {},
   "outputs": [],
   "source": [
    "Selmg419filename = 'TEVCMetaSTFX069-Selectivity.xlsx'\n",
    "#Selmg419Recording = Selmg419frog + Selmg419RecNr #maybe trouble with - in .dat file. matlab ignored all of them. hekareader not\n",
    "Selmg419xl = pd.ExcelFile(filedirMeta+Selmg419filename)#converters={'names':str,'ages':str}\n",
    "Selmg419xl.sheet_names\n",
    "Selmg419df = Selmg419xl.parse(\"Sheet1\",converters={'Filename': np.int64}) #calls for Sheet names \n",
    "Selmg419Recording = Selmg419frog + Selmg419RecNr"
   ]
  },
  {
   "cell_type": "code",
   "execution_count": 22,
   "metadata": {},
   "outputs": [],
   "source": [
    "SelpTL69filename = 'TEVCMetaSTFX069-Selectivity.xlsx'\n",
    "#SelpTL69Recording = SelpTL69frog + SelpTL69RecNr #maybe trouble with - in .dat file. matlab ignored all of them. hekareader not\n",
    "SelpTL69xl = pd.ExcelFile(filedirMeta+SelpTL69filename)#converters={'names':str,'ages':str}\n",
    "SelpTL69xl.sheet_names\n",
    "SelpTL69df = SelpTL69xl.parse(\"Sheet1\",converters={'Filename': np.int64}) #calls for Sheet names \n",
    "SelpTL69Recording = SelpTL69frog + SelpTL69RecNr"
   ]
  },
  {
   "cell_type": "code",
   "execution_count": 23,
   "metadata": {},
   "outputs": [],
   "source": [
    "Selmg418filename = 'TEVCMetaSTFX069-Selectivity.xlsx'\n",
    "#Selmg418Recording = Selmg418frog + Selmg418RecNr #maybe trouble with - in .dat file. matlab ignored all of them. hekareader not\n",
    "Selmg418xl = pd.ExcelFile(filedirMeta+Selmg418filename)#converters={'names':str,'ages':str}\n",
    "Selmg418xl.sheet_names\n",
    "Selmg418df = Selmg418xl.parse(\"Sheet1\",converters={'Filename': np.int64}) #calls for Sheet names \n",
    "Selmg418Recording = Selmg418frog + Selmg418RecNr"
   ]
  },
  {
   "cell_type": "code",
   "execution_count": 24,
   "metadata": {},
   "outputs": [
    {
     "data": {
      "text/html": [
       "<div>\n",
       "<style scoped>\n",
       "    .dataframe tbody tr th:only-of-type {\n",
       "        vertical-align: middle;\n",
       "    }\n",
       "\n",
       "    .dataframe tbody tr th {\n",
       "        vertical-align: top;\n",
       "    }\n",
       "\n",
       "    .dataframe thead th {\n",
       "        text-align: right;\n",
       "    }\n",
       "</style>\n",
       "<table border=\"1\" class=\"dataframe\">\n",
       "  <thead>\n",
       "    <tr style=\"text-align: right;\">\n",
       "      <th></th>\n",
       "      <th>Animal ID</th>\n",
       "      <th>CellID</th>\n",
       "      <th>CellDuplicates</th>\n",
       "      <th>Filename</th>\n",
       "      <th>Day Index</th>\n",
       "      <th>Rating</th>\n",
       "      <th>Recording Date</th>\n",
       "      <th>Harvest Date</th>\n",
       "      <th>Injection Date</th>\n",
       "      <th>Days Post-injection</th>\n",
       "      <th>...</th>\n",
       "      <th>KGluSel</th>\n",
       "      <th>NaGluSel2</th>\n",
       "      <th>CsGluSel</th>\n",
       "      <th>NaGluSel3</th>\n",
       "      <th>LiGluSel</th>\n",
       "      <th>NaGluSel4</th>\n",
       "      <th>NmgGluSel</th>\n",
       "      <th>comment</th>\n",
       "      <th>copyID</th>\n",
       "      <th>AllSolutions</th>\n",
       "    </tr>\n",
       "  </thead>\n",
       "  <tbody>\n",
       "    <tr>\n",
       "      <th>0</th>\n",
       "      <td>STFX069</td>\n",
       "      <td>STFX069001</td>\n",
       "      <td>STFX069001</td>\n",
       "      <td>20181217</td>\n",
       "      <td>NaN</td>\n",
       "      <td>4</td>\n",
       "      <td>2018-12-17</td>\n",
       "      <td>2018-12-12</td>\n",
       "      <td>2018-12-13</td>\n",
       "      <td>4</td>\n",
       "      <td>...</td>\n",
       "      <td>6,7,8</td>\n",
       "      <td>10,11,12</td>\n",
       "      <td>14,15,16</td>\n",
       "      <td>18,19,20</td>\n",
       "      <td>22,23,24</td>\n",
       "      <td>26,27,28</td>\n",
       "      <td>30,31,32</td>\n",
       "      <td>NaN</td>\n",
       "      <td>STFX069001</td>\n",
       "      <td>NaGluSel1</td>\n",
       "    </tr>\n",
       "    <tr>\n",
       "      <th>1</th>\n",
       "      <td>STFX069</td>\n",
       "      <td>STFX069002</td>\n",
       "      <td>STFX069002</td>\n",
       "      <td>20181217</td>\n",
       "      <td>NaN</td>\n",
       "      <td>4</td>\n",
       "      <td>2018-12-17</td>\n",
       "      <td>2018-12-12</td>\n",
       "      <td>2018-12-13</td>\n",
       "      <td>4</td>\n",
       "      <td>...</td>\n",
       "      <td>7,8,9</td>\n",
       "      <td>11,12,13</td>\n",
       "      <td>17,18,19</td>\n",
       "      <td>21,22,23</td>\n",
       "      <td>25,26,27</td>\n",
       "      <td>29,30,31</td>\n",
       "      <td>33,34,35</td>\n",
       "      <td>NaN</td>\n",
       "      <td>STFX069002</td>\n",
       "      <td>KGluSel</td>\n",
       "    </tr>\n",
       "    <tr>\n",
       "      <th>2</th>\n",
       "      <td>STFX069</td>\n",
       "      <td>STFX069003</td>\n",
       "      <td>STFX069003</td>\n",
       "      <td>20181217</td>\n",
       "      <td>NaN</td>\n",
       "      <td>3</td>\n",
       "      <td>2018-12-17</td>\n",
       "      <td>2018-12-12</td>\n",
       "      <td>2018-12-13</td>\n",
       "      <td>4</td>\n",
       "      <td>...</td>\n",
       "      <td>6,7,8</td>\n",
       "      <td>10,11,12</td>\n",
       "      <td>14,15,16</td>\n",
       "      <td>18,19,20</td>\n",
       "      <td>22,23,24</td>\n",
       "      <td>26,27,28</td>\n",
       "      <td>30,31,32</td>\n",
       "      <td>NaN</td>\n",
       "      <td>STFX069003</td>\n",
       "      <td>NaGluSel2</td>\n",
       "    </tr>\n",
       "    <tr>\n",
       "      <th>3</th>\n",
       "      <td>STFX069</td>\n",
       "      <td>STFX069004</td>\n",
       "      <td>STFX069004</td>\n",
       "      <td>20181217</td>\n",
       "      <td>NaN</td>\n",
       "      <td>3</td>\n",
       "      <td>2018-12-17</td>\n",
       "      <td>2018-12-12</td>\n",
       "      <td>2018-12-13</td>\n",
       "      <td>4</td>\n",
       "      <td>...</td>\n",
       "      <td>6,7,8</td>\n",
       "      <td>10,11,12</td>\n",
       "      <td>14,15,16</td>\n",
       "      <td>18,19,20</td>\n",
       "      <td>22,23,24</td>\n",
       "      <td>26,27,28</td>\n",
       "      <td>30,31,32</td>\n",
       "      <td>NaN</td>\n",
       "      <td>STFX069004</td>\n",
       "      <td>CsGluSel</td>\n",
       "    </tr>\n",
       "    <tr>\n",
       "      <th>4</th>\n",
       "      <td>STFX069</td>\n",
       "      <td>STFX069005</td>\n",
       "      <td>STFX069005</td>\n",
       "      <td>20181217</td>\n",
       "      <td>NaN</td>\n",
       "      <td>3</td>\n",
       "      <td>2018-12-17</td>\n",
       "      <td>2018-12-12</td>\n",
       "      <td>2018-12-13</td>\n",
       "      <td>4</td>\n",
       "      <td>...</td>\n",
       "      <td>6,7,8</td>\n",
       "      <td>10,11,12</td>\n",
       "      <td>14,15,16</td>\n",
       "      <td>18,19,20</td>\n",
       "      <td>22,23,24</td>\n",
       "      <td>26,27,28</td>\n",
       "      <td>30,31,32</td>\n",
       "      <td>NaN</td>\n",
       "      <td>STFX069005</td>\n",
       "      <td>NaGluSel3</td>\n",
       "    </tr>\n",
       "  </tbody>\n",
       "</table>\n",
       "<p>5 rows × 28 columns</p>\n",
       "</div>"
      ],
      "text/plain": [
       "  Animal ID      CellID CellDuplicates  Filename  Day Index  Rating  \\\n",
       "0   STFX069  STFX069001     STFX069001  20181217        NaN       4   \n",
       "1   STFX069  STFX069002     STFX069002  20181217        NaN       4   \n",
       "2   STFX069  STFX069003     STFX069003  20181217        NaN       3   \n",
       "3   STFX069  STFX069004     STFX069004  20181217        NaN       3   \n",
       "4   STFX069  STFX069005     STFX069005  20181217        NaN       3   \n",
       "\n",
       "  Recording Date Harvest Date Injection Date  Days Post-injection  ...  \\\n",
       "0     2018-12-17   2018-12-12     2018-12-13                    4  ...   \n",
       "1     2018-12-17   2018-12-12     2018-12-13                    4  ...   \n",
       "2     2018-12-17   2018-12-12     2018-12-13                    4  ...   \n",
       "3     2018-12-17   2018-12-12     2018-12-13                    4  ...   \n",
       "4     2018-12-17   2018-12-12     2018-12-13                    4  ...   \n",
       "\n",
       "  KGluSel NaGluSel2  CsGluSel  NaGluSel3  LiGluSel NaGluSel4  NmgGluSel  \\\n",
       "0   6,7,8  10,11,12  14,15,16   18,19,20  22,23,24  26,27,28   30,31,32   \n",
       "1   7,8,9  11,12,13  17,18,19   21,22,23  25,26,27  29,30,31   33,34,35   \n",
       "2   6,7,8  10,11,12  14,15,16   18,19,20  22,23,24  26,27,28   30,31,32   \n",
       "3   6,7,8  10,11,12  14,15,16   18,19,20  22,23,24  26,27,28   30,31,32   \n",
       "4   6,7,8  10,11,12  14,15,16   18,19,20  22,23,24  26,27,28   30,31,32   \n",
       "\n",
       "  comment      copyID AllSolutions  \n",
       "0     NaN  STFX069001    NaGluSel1  \n",
       "1     NaN  STFX069002      KGluSel  \n",
       "2     NaN  STFX069003    NaGluSel2  \n",
       "3     NaN  STFX069004     CsGluSel  \n",
       "4     NaN  STFX069005    NaGluSel3  \n",
       "\n",
       "[5 rows x 28 columns]"
      ]
     },
     "execution_count": 24,
     "metadata": {},
     "output_type": "execute_result"
    }
   ],
   "source": [
    "Selmg419df.head()"
   ]
  },
  {
   "cell_type": "markdown",
   "metadata": {},
   "source": [
    "## find filename on meta data sheet for selectivity"
   ]
  },
  {
   "cell_type": "code",
   "execution_count": 25,
   "metadata": {},
   "outputs": [],
   "source": [
    "#find the .dat file name in the MetaData sheet of the corresponding recording\n",
    "Selmg419DatFile = Selmg419df.Filename[(Selmg419df.CellID == Selmg419Recording)]"
   ]
  },
  {
   "cell_type": "code",
   "execution_count": 26,
   "metadata": {},
   "outputs": [],
   "source": [
    "SelpTL69DatFile = SelpTL69df.Filename[(SelpTL69df.CellID == SelpTL69Recording)]"
   ]
  },
  {
   "cell_type": "code",
   "execution_count": 27,
   "metadata": {},
   "outputs": [],
   "source": [
    "Selmg418DatFile = Selmg418df.Filename[(Selmg418df.CellID == Selmg418Recording)]"
   ]
  },
  {
   "cell_type": "markdown",
   "metadata": {},
   "source": [
    "## load .data files for Selecitvity data"
   ]
  },
  {
   "cell_type": "code",
   "execution_count": 28,
   "metadata": {},
   "outputs": [],
   "source": [
    "# Load a .dat file\n",
    "Selmg419loadFile = heka_reader.Bundle(str(Selmg419DatFile.iloc[0])+'.dat')"
   ]
  },
  {
   "cell_type": "code",
   "execution_count": 29,
   "metadata": {},
   "outputs": [],
   "source": [
    "SelpTL69loadFile = heka_reader.Bundle(str(SelpTL69DatFile.iloc[0])+'.dat')"
   ]
  },
  {
   "cell_type": "code",
   "execution_count": 30,
   "metadata": {},
   "outputs": [],
   "source": [
    "Selmg418loadFile = heka_reader.Bundle(str(Selmg418DatFile.iloc[0])+'.dat')"
   ]
  },
  {
   "cell_type": "markdown",
   "metadata": {},
   "source": [
    "### Hardcoded: last series from traces"
   ]
  },
  {
   "cell_type": "code",
   "execution_count": 31,
   "metadata": {},
   "outputs": [],
   "source": [
    "mg419NaGlu2 = [12] #last series of replicates of three\n",
    "mg419NaLi = [24] \n",
    "mg419NaK = [8] \n",
    "mg419NaCs = [16]\n",
    "mg419NaNMG = [32]"
   ]
  },
  {
   "cell_type": "code",
   "execution_count": 32,
   "metadata": {},
   "outputs": [],
   "source": [
    "pTL69NaGlu2 = [15] #last series of replicates of three\n",
    "pTL69NaLi = [27] \n",
    "pTL69NaK = [11] \n",
    "pTL69NaCs = [19]\n",
    "pTL69NaNMG = [35]"
   ]
  },
  {
   "cell_type": "code",
   "execution_count": 33,
   "metadata": {},
   "outputs": [],
   "source": [
    "mg418NaGlu2 = [12] #last series of replicates of three\n",
    "mg418NaLi = [24] \n",
    "mg418NaK = [8] \n",
    "mg418NaCs = [16]\n",
    "mg418NaNMG = [32]"
   ]
  },
  {
   "cell_type": "markdown",
   "metadata": {},
   "source": [
    "## voltage trace"
   ]
  },
  {
   "cell_type": "code",
   "execution_count": 34,
   "metadata": {},
   "outputs": [],
   "source": [
    "\n",
    "Selmg419Before1 = []\n",
    "for i in range(0,9):#(0,len(tt)):\n",
    "    Selmg419Before1.append(Selmg419loadFile.data[Selmg419Group,mg419NaGlu2[0]-3,i,1])\n",
    "    \n",
    "Selmg419Before2 = []\n",
    "for j in range(0,9):#(0,len(tt)):\n",
    "    Selmg419Before2.append(Selmg419loadFile.data[Selmg419Group,mg419NaGlu2[0]-2,j,1])\n",
    "    \n",
    "Selmg419Before3 = []\n",
    "for k in range(0,9):#(0,len(tt)):\n",
    "    Selmg419Before3.append(Selmg419loadFile.data[Selmg419Group,mg419NaGlu2[0]-1,k,1])\n",
    "    \n",
    "Selmg419BeforeMEAN =[]\n",
    "for m in range(0,9):\n",
    "    Selmg419BeforeMEAN.append(((Selmg419Before1[m]+Selmg419Before2[m]+Selmg419Before3[m])/3)*1000)"
   ]
  },
  {
   "cell_type": "markdown",
   "metadata": {},
   "source": [
    "## cur traces"
   ]
  },
  {
   "cell_type": "markdown",
   "metadata": {},
   "source": [
    "### mg419 NaGlu2"
   ]
  },
  {
   "cell_type": "code",
   "execution_count": 35,
   "metadata": {},
   "outputs": [],
   "source": [
    "ISelmg419Before1 = []\n",
    "for i in range(0,9):#(0,len(tt)):\n",
    "    ISelmg419Before1.append(Selmg419loadFile.data[Selmg419Group,mg419NaGlu2[0]-3,i,0])\n",
    "    \n",
    "ISelmg419Before2 = []\n",
    "for j in range(0,9):#(0,len(tt)):\n",
    "    ISelmg419Before2.append(Selmg419loadFile.data[Selmg419Group,mg419NaGlu2[0]-2,j,0])\n",
    "    \n",
    "ISelmg419Before3 = []\n",
    "for k in range(0,9):#(0,len(tt)):\n",
    "    ISelmg419Before3.append(Selmg419loadFile.data[Selmg419Group,mg419NaGlu2[0]-1,k,0])\n",
    "    \n",
    "CurSelmg419BeforeMEAN =[]\n",
    "for m in range(0,9):\n",
    "    CurSelmg419BeforeMEAN.append(((ISelmg419Before1[m]+ISelmg419Before2[m]+ISelmg419Before3[m])/3)*1000000)"
   ]
  },
  {
   "cell_type": "markdown",
   "metadata": {},
   "source": [
    "### pTL69 NaGlu2"
   ]
  },
  {
   "cell_type": "code",
   "execution_count": 36,
   "metadata": {},
   "outputs": [],
   "source": [
    "ISelpTL69Before1 = []\n",
    "for i in range(0,9):#(0,len(tt)):\n",
    "    ISelpTL69Before1.append(SelpTL69loadFile.data[SelpTL69Group,pTL69NaGlu2[0]-3,i,0])\n",
    "    \n",
    "ISelpTL69Before2 = []\n",
    "for j in range(0,9):#(0,len(tt)):\n",
    "    ISelpTL69Before2.append(SelpTL69loadFile.data[SelpTL69Group,pTL69NaGlu2[0]-2,j,0])\n",
    "    \n",
    "ISelpTL69Before3 = []\n",
    "for k in range(0,9):#(0,len(tt)):\n",
    "    ISelpTL69Before3.append(SelpTL69loadFile.data[SelpTL69Group,pTL69NaGlu2[0]-1,k,0])\n",
    "    \n",
    "CurSelpTL69BeforeMEAN =[]\n",
    "for m in range(0,9):\n",
    "    CurSelpTL69BeforeMEAN.append(((ISelpTL69Before1[m]+ISelpTL69Before2[m]+ISelpTL69Before3[m])/3)*1000000)"
   ]
  },
  {
   "cell_type": "markdown",
   "metadata": {},
   "source": [
    "### mg418 NaGlu2"
   ]
  },
  {
   "cell_type": "code",
   "execution_count": 37,
   "metadata": {},
   "outputs": [],
   "source": [
    "ISelmg418Before1 = []\n",
    "for i in range(0,9):#(0,len(tt)):\n",
    "    ISelmg418Before1.append(Selmg418loadFile.data[Selmg418Group,mg418NaGlu2[0]-3,i,0])\n",
    "    \n",
    "ISelmg418Before2 = []\n",
    "for j in range(0,9):#(0,len(tt)):\n",
    "    ISelmg418Before2.append(Selmg418loadFile.data[Selmg418Group,mg418NaGlu2[0]-2,j,0])\n",
    "    \n",
    "ISelmg418Before3 = []\n",
    "for k in range(0,9):#(0,len(tt)):\n",
    "    ISelmg418Before3.append(Selmg418loadFile.data[Selmg418Group,mg418NaGlu2[0]-1,k,0])\n",
    "    \n",
    "CurSelmg418BeforeMEAN =[]\n",
    "for m in range(0,9):\n",
    "    CurSelmg418BeforeMEAN.append(((ISelmg418Before1[m]+ISelmg418Before2[m]+ISelmg418Before3[m])/3)*1000000)"
   ]
  },
  {
   "cell_type": "markdown",
   "metadata": {},
   "source": [
    "### mg419 K"
   ]
  },
  {
   "cell_type": "code",
   "execution_count": 38,
   "metadata": {},
   "outputs": [],
   "source": [
    "ISelmg419Potassium1 = []\n",
    "for i in range(0,9):#(0,len(tt)):\n",
    "    ISelmg419Potassium1.append(Selmg419loadFile.data[Selmg419Group,mg419NaK[0]-3,i,0])\n",
    "    \n",
    "ISelmg419Potassium2 = []\n",
    "for j in range(0,9):#(0,len(tt)):\n",
    "    ISelmg419Potassium2.append(Selmg419loadFile.data[Selmg419Group,mg419NaK[0]-2,j,0])\n",
    "    \n",
    "ISelmg419Potassium3 = []\n",
    "for k in range(0,9):#(0,len(tt)):\n",
    "    ISelmg419Potassium3.append(Selmg419loadFile.data[Selmg419Group,mg419NaK[0]-1,k,0])\n",
    "    \n",
    "CurSelmg419PotassiumMEAN =[]\n",
    "for m in range(0,9):\n",
    "    CurSelmg419PotassiumMEAN.append(((ISelmg419Potassium1[m]+ISelmg419Potassium2[m]+ISelmg419Potassium3[m])/3)*1000000)"
   ]
  },
  {
   "cell_type": "markdown",
   "metadata": {},
   "source": [
    "### pTL69 K"
   ]
  },
  {
   "cell_type": "code",
   "execution_count": 39,
   "metadata": {},
   "outputs": [],
   "source": [
    "ISelpTL69Potassium1 = []\n",
    "for i in range(0,9):#(0,len(tt)):\n",
    "    ISelpTL69Potassium1.append(SelpTL69loadFile.data[SelpTL69Group,pTL69NaK[0]-3,i,0])\n",
    "    \n",
    "ISelpTL69Potassium2 = []\n",
    "for j in range(0,9):#(0,len(tt)):\n",
    "    ISelpTL69Potassium2.append(SelpTL69loadFile.data[SelpTL69Group,pTL69NaK[0]-2,j,0])\n",
    "    \n",
    "ISelpTL69Potassium3 = []\n",
    "for k in range(0,9):#(0,len(tt)):\n",
    "    ISelpTL69Potassium3.append(SelpTL69loadFile.data[SelpTL69Group,pTL69NaK[0]-1,k,0])\n",
    "    \n",
    "CurSelpTL69PotassiumMEAN =[]\n",
    "for m in range(0,9):\n",
    "    CurSelpTL69PotassiumMEAN.append(((ISelpTL69Potassium1[m]+ISelpTL69Potassium2[m]+ISelpTL69Potassium3[m])/3)*1000000)"
   ]
  },
  {
   "cell_type": "markdown",
   "metadata": {},
   "source": [
    "### mg418 K"
   ]
  },
  {
   "cell_type": "code",
   "execution_count": 40,
   "metadata": {},
   "outputs": [],
   "source": [
    "ISelmg418Potassium1 = []\n",
    "for i in range(0,9):#(0,len(tt)):\n",
    "    ISelmg418Potassium1.append(Selmg418loadFile.data[Selmg418Group,mg418NaK[0]-3,i,0])\n",
    "    \n",
    "ISelmg418Potassium2 = []\n",
    "for j in range(0,9):#(0,len(tt)):\n",
    "    ISelmg418Potassium2.append(Selmg418loadFile.data[Selmg418Group,mg418NaK[0]-2,j,0])\n",
    "    \n",
    "ISelmg418Potassium3 = []\n",
    "for k in range(0,9):#(0,len(tt)):\n",
    "    ISelmg418Potassium3.append(Selmg418loadFile.data[Selmg418Group,mg418NaK[0]-1,k,0])\n",
    "    \n",
    "CurSelmg418PotassiumMEAN =[]\n",
    "for m in range(0,9):\n",
    "    CurSelmg418PotassiumMEAN.append(((ISelmg418Potassium1[m]+ISelmg418Potassium2[m]+ISelmg418Potassium3[m])/3)*1000000)"
   ]
  },
  {
   "cell_type": "code",
   "execution_count": null,
   "metadata": {},
   "outputs": [],
   "source": []
  },
  {
   "cell_type": "markdown",
   "metadata": {},
   "source": [
    "### mg419NMG"
   ]
  },
  {
   "cell_type": "code",
   "execution_count": 41,
   "metadata": {},
   "outputs": [],
   "source": [
    "ISelmg419NMG1 = []\n",
    "for i in range(0,9):#(0,len(tt)):\n",
    "    ISelmg419NMG1.append(Selmg419loadFile.data[Selmg419Group,mg419NaNMG[0]-3,i,0])\n",
    "    \n",
    "ISelmg419NMG2 = []\n",
    "for j in range(0,9):#(0,len(tt)):\n",
    "    ISelmg419NMG2.append(Selmg419loadFile.data[Selmg419Group,mg419NaNMG[0]-2,j,0])\n",
    "    \n",
    "ISelmg419NMG3 = []\n",
    "for k in range(0,9):#(0,len(tt)):\n",
    "    ISelmg419NMG3.append(Selmg419loadFile.data[Selmg419Group,mg419NaNMG[0]-1,k,0])\n",
    "    \n",
    "CurSelmg419NMGMEAN =[]\n",
    "for m in range(0,9):\n",
    "    CurSelmg419NMGMEAN.append(((ISelmg419NMG1[m]+ISelmg419NMG2[m]+ISelmg419NMG3[m])/3)*1000000)"
   ]
  },
  {
   "cell_type": "markdown",
   "metadata": {},
   "source": [
    "### pTL69 NMG"
   ]
  },
  {
   "cell_type": "code",
   "execution_count": 42,
   "metadata": {},
   "outputs": [],
   "source": [
    "ISelpTL69NMG1 = []\n",
    "for i in range(0,9):#(0,len(tt)):\n",
    "    ISelpTL69NMG1.append(SelpTL69loadFile.data[SelpTL69Group,pTL69NaNMG[0]-3,i,0])\n",
    "    \n",
    "ISelpTL69NMG2 = []\n",
    "for j in range(0,9):#(0,len(tt)):\n",
    "    ISelpTL69NMG2.append(SelpTL69loadFile.data[SelpTL69Group,pTL69NaNMG[0]-2,j,0])\n",
    "    \n",
    "ISelpTL69NMG3 = []\n",
    "for k in range(0,9):#(0,len(tt)):\n",
    "    ISelpTL69NMG3.append(SelpTL69loadFile.data[SelpTL69Group,pTL69NaNMG[0]-1,k,0])\n",
    "    \n",
    "CurSelpTL69NMGMEAN =[]\n",
    "for m in range(0,9):\n",
    "    CurSelpTL69NMGMEAN.append(((ISelpTL69NMG1[m]+ISelpTL69NMG2[m]+ISelpTL69NMG3[m])/3)*1000000)"
   ]
  },
  {
   "cell_type": "markdown",
   "metadata": {},
   "source": [
    "### mg418 NMG"
   ]
  },
  {
   "cell_type": "code",
   "execution_count": 43,
   "metadata": {},
   "outputs": [],
   "source": [
    "ISelmg418NMG1 = []\n",
    "for i in range(0,9):#(0,len(tt)):\n",
    "    ISelmg418NMG1.append(Selmg418loadFile.data[Selmg418Group,mg418NaNMG[0]-3,i,0])\n",
    "    \n",
    "ISelmg418NMG2 = []\n",
    "for j in range(0,9):#(0,len(tt)):\n",
    "    ISelmg418NMG2.append(Selmg418loadFile.data[Selmg418Group,mg418NaNMG[0]-2,j,0])\n",
    "    \n",
    "ISelmg418NMG3 = []\n",
    "for k in range(0,9):#(0,len(tt)):\n",
    "    ISelmg418NMG3.append(Selmg418loadFile.data[Selmg418Group,mg418NaNMG[0]-1,k,0])\n",
    "    \n",
    "CurSelmg418NMGMEAN =[]\n",
    "for m in range(0,9):\n",
    "    CurSelmg418NMGMEAN.append(((ISelmg418NMG1[m]+ISelmg418NMG2[m]+ISelmg418NMG3[m])/3)*1000000)"
   ]
  },
  {
   "cell_type": "markdown",
   "metadata": {},
   "source": [
    "# error: legends is not picking up all the labels???"
   ]
  },
  {
   "cell_type": "code",
   "execution_count": 44,
   "metadata": {},
   "outputs": [],
   "source": [
    "colorM4 = (0.30, 0.69, 0.29)\n",
    "colorU8 = (0.60, 0.31,0.64)\n",
    "colorDT1 = (0.89, 0.11,0.10)"
   ]
  },
  {
   "cell_type": "code",
   "execution_count": 45,
   "metadata": {
    "scrolled": true
   },
   "outputs": [
    {
     "data": {
      "image/png": "[encoded data removed]",
      "text/plain": [
       "<Figure size 684x504 with 8 Axes>"
      ]
     },
     "metadata": {
      "needs_background": "light"
     },
     "output_type": "display_data"
    }
   ],
   "source": [
    "#index into Voltage 1 to Voltage 9 AND index into MeandStep1 to 9 (Currents) and rename  \n",
    "#TODO: change to not hardcoded if order in textfile changes\n",
    "fig = plt.figure(figsize=(9.5, 7)) \n",
    "#plt.subplots(2, 2, sharex='col')\n",
    "ax1 = plt.subplot(2,4,1)\n",
    "for m in range(0,9): #hard coded final number (change)\n",
    "    plt.plot(Selmg419BeforeMEAN[m],'black' )#color = colorsSINGLES[0]\n",
    "    \n",
    "ax2 = plt.subplot(2,4,4) # MEC-4d\n",
    "ax3 = plt.subplot(2,4,3) # UNC-8d\n",
    "ax4 = plt.subplot(2,4,2) # DEGT-1d\n",
    "\n",
    "ax5 = plt.subplot(2,4,5)\n",
    "plt.plot(Selmg419BeforeMEAN[0],'black')#color = colorsSINGLES[0]\n",
    "plt.plot(Selmg419BeforeMEAN[8],'black',linestyle='--')\n",
    "\n",
    "\n",
    "ax6 = plt.subplot(2,4,6)\n",
    "plt.plot(CurSelmg418BeforeMEAN[0],'black')#color = colorsSINGLES[0]\n",
    "plt.plot(CurSelmg418BeforeMEAN[8],'black',linestyle='--')\n",
    "\n",
    "plt.plot(CurSelmg418PotassiumMEAN[0],  color = 'cyan')#color = colorsSINGLES[0]\n",
    "plt.plot(CurSelmg418PotassiumMEAN[8],  color = 'cyan',linestyle='--')\n",
    "\n",
    "ax7 = plt.subplot(2,4,7)\n",
    "plt.plot(CurSelpTL69BeforeMEAN[0],'black')#color = colorsSINGLES[0]\n",
    "plt.plot(CurSelpTL69BeforeMEAN[8],'black',linestyle='--')\n",
    "\n",
    "plt.plot(CurSelpTL69PotassiumMEAN[0],  color = 'cyan')#color = colorsSINGLES[0]\n",
    "plt.plot(CurSelpTL69PotassiumMEAN[8],  color = 'cyan',linestyle='--')\n",
    "\n",
    "\n",
    "ax8 = plt.subplot(2,4,8)\n",
    "plt.plot(CurSelmg419BeforeMEAN[0],'black')#color = colorsSINGLES[0]\n",
    "plt.plot(CurSelmg419BeforeMEAN[8],'black',linestyle='--')\n",
    "\n",
    "plt.plot(CurSelmg419PotassiumMEAN[0], color = 'cyan')#color = colorsSINGLES[0]\n",
    "plt.plot(CurSelmg419PotassiumMEAN[8], color = 'cyan',linestyle='--')\n",
    "\n",
    "#plt.plot(CurSelmg419NMGMEAN[0], color = 'g')#color = colorsSINGLES[0]\n",
    "#plt.plot(CurSelmg419NMGMEAN[8], color = 'g',linestyle='--')\n",
    "\n",
    "CurSelmg419NMGMEAN\n",
    "\n",
    "#######################\n",
    "Voltages = []\n",
    "Currents = []\n",
    "CurrentspTL69 = []\n",
    "Currentsmg418 = []\n",
    "for volt in range(0,len(raw_data)):\n",
    "    Voltages.append([raw_data[volt,5:14]]) #TODO: CHANGE\n",
    "    Currents.append([raw_data[volt,14:23]])\n",
    "\n",
    "for volt in range(0,len(raw_datapTL69)):\n",
    "    CurrentspTL69.append([raw_datapTL69[volt,14:23]])  \n",
    "    \n",
    "for volt in range(0,len(raw_datamg418)):\n",
    "    Currentsmg418.append([raw_datamg418[volt,14:23]])   \n",
    "    \n",
    "#change to mV and uA    \n",
    "VoltagesInmV = np.multiply(1000,Voltages) #becomes a np.array with shape 7,1,9 \n",
    "CurrentsInuA = np.multiply(1000000,Currents)\n",
    "CurrentspTL69InuA = np.multiply(1000000,CurrentspTL69)\n",
    "Currentsmg418InuA = np.multiply(1000000,Currentsmg418)\n",
    "    \n",
    "#reshape Array\n",
    "VoltagesInmV = VoltagesInmV.reshape(VoltagesInmV.shape[0],VoltagesInmV.shape[2]) #reshape 7,1,9 \n",
    "CurrentsInuA = CurrentsInuA.reshape(CurrentsInuA.shape[0],CurrentsInuA.shape[2])\n",
    "CurrentspTL69InuA = CurrentspTL69InuA.reshape(CurrentspTL69InuA.shape[0],CurrentspTL69InuA.shape[2])\n",
    "Currentsmg418InuA  = Currentsmg418InuA .reshape(Currentsmg418InuA.shape[0],Currentsmg418InuA.shape[2])\n",
    "    \n",
    "#for i in range(0,4):\n",
    "  #  ax.plot(VoltagesInmV[i],CurrentsInuA[i])\n",
    "  #  ax.scatter(VoltagesInmV[i],CurrentsInuA[i])    \n",
    "#ax1.set_title('used to +60 in some \\n how to include current response?',size=10) \n",
    "ax1.set_ylim([-150, 150])\n",
    "ax1.set_xlim([0, 1500])\n",
    "ax1.spines['right'].set_visible(False)                                  # no spine at the right\n",
    "ax1.spines['top'].set_visible(False)                                     # no spine at the top\n",
    "ax1.yaxis.set_ticks_position('left')                                     # ticks at the left\n",
    "ax1.xaxis.set_ticks_position('bottom')                                 # no spine at the right\n",
    "ax1.spines['left'].set_position(('outward',10))                           # a spine at the left that is put a little aside\n",
    "ax1.spines['bottom'].set_position(('outward',10))  \n",
    "ax1.spines['top'].set_position(('axes',5)) \n",
    "ax1.get_yaxis().set_tick_params(direction='in')\n",
    "ax1.get_xaxis().set_tick_params(direction='in')\n",
    "#ax1.plot([-1,20], [0,0] , 'k--', color='#000000', linewidth=1)#gray line for Zero or 1        \n",
    "ax1.tick_params(axis='both', which='major', labelsize=12)  \n",
    "#ax1.annotate('ramp',xy=(125, 300), xycoords='figure points')#FIGURE Poitns: default coordinates\n",
    "ax1.set_yticks([-150,-85,0,150])\n",
    "ax1.set_xticks([0,500, 1000, 1500])\n",
    "ax1.set_xlabel('t (ms)',fontsize=14)\n",
    "ax1.set_ylabel('V (mV)',fontsize=14)\n",
    "ax1.axvspan(75, 225, color='cyan', alpha=0.1)\n",
    "ax1.axvspan(390, 1300, color='red', alpha=0.1)\n",
    "#ax1.set_title('Voltage Step protocol',size=14)\n",
    "#ax1.spines['bottom'].set_visible(False) \n",
    "#ax1.xaxis.set_visible(False)\n",
    "#ax1.set_xlabel('t (ms)',fontsize=14)\n",
    "\n",
    "#ax1.spines['left'].set_visible(False) \n",
    "#ax1.yaxis.set_visible(False)\n",
    "#ax1.set_xticklabels(np.unique(AmilAll30['Injection']),rotation=30)\n",
    "#ax1.set_xticklabels([\"MEC-4d\",\"UNC-8d\",\"DEGT-1d\",\"uninjected\"],rotation=30)\n",
    "\n",
    "legendlabel = ['Na', 'Li', 'K', 'Cs', 'NMG']\n",
    "\n",
    "\n",
    "#Find Solutions used to plot (color code) different solutions in the same order\n",
    "ax2.plot(VoltagesInmV[np.asarray(np.where(Solutionsmg419 == 'NaGluSel2'))[0,-1]],CurrentsInuA[np.asarray(np.where(Solutionsmg419 == 'NaGluSel2'))[0,-1]],'black')\n",
    "ax2.scatter(VoltagesInmV[np.asarray(np.where(Solutionsmg419 == 'NaGluSel2'))[0,-1]],CurrentsInuA[np.asarray(np.where(Solutionsmg419 == 'NaGluSel2'))[0,-1]],color = 'black')      \n",
    "ax2.plot(VoltagesInmV[np.asarray(np.where(Solutionsmg419 == 'LiGluSel'))[0,-1]],CurrentsInuA[np.asarray(np.where(Solutionsmg419 == 'LiGluSel'))[0,-1]],'r')\n",
    "ax2.scatter(VoltagesInmV[np.asarray(np.where(Solutionsmg419 == 'LiGluSel'))[0,-1]],CurrentsInuA[np.asarray(np.where(Solutionsmg419 == 'LiGluSel'))[0,-1]], color ='r')      \n",
    "ax2.plot(VoltagesInmV[np.asarray(np.where(Solutionsmg419 == 'KGluSel'))[0,-1]],CurrentsInuA[np.asarray(np.where(Solutionsmg419 == 'KGluSel'))[0,-1]],'cyan')\n",
    "ax2.scatter(VoltagesInmV[np.asarray(np.where(Solutionsmg419 == 'KGluSel'))[0,-1]],CurrentsInuA[np.asarray(np.where(Solutionsmg419 == 'KGluSel'))[0,-1]], color = 'cyan')      \n",
    "ax2.plot(VoltagesInmV[np.asarray(np.where(Solutionsmg419 == 'CsGluSel'))[0,-1]],CurrentsInuA[np.asarray(np.where(Solutionsmg419 == 'CsGluSel'))[0,-1]],'y')\n",
    "ax2.scatter(VoltagesInmV[np.asarray(np.where(Solutionsmg419 == 'CsGluSel'))[0,-1]],CurrentsInuA[np.asarray(np.where(Solutionsmg419 == 'CsGluSel'))[0,-1]], color = 'y')      \n",
    "ax2.plot(VoltagesInmV[np.asarray(np.where(Solutionsmg419 == 'NmgGluSel'))[0,-1]],CurrentsInuA[np.asarray(np.where(Solutionsmg419 == 'NmgGluSel'))[0,-1]],'g')\n",
    "ax2.scatter(VoltagesInmV[np.asarray(np.where(Solutionsmg419 == 'NmgGluSel'))[0,-1]],CurrentsInuA[np.asarray(np.where(Solutionsmg419 == 'NmgGluSel'))[0,-1]], color = 'g')          \n",
    "# Hide the right and top spines\n",
    "ax2.spines['right'].set_visible(False)\n",
    "ax2.spines['top'].set_visible(False)\n",
    "# Only show ticks on the left and bottom spines\n",
    "ax2.yaxis.set_ticks_position('left')\n",
    "ax2.xaxis.set_ticks_position('bottom')\n",
    "# Move left y-axis and bottim x-axis to centre, passing through (0,0)\n",
    "ax2.spines['left'].set_position('zero')\n",
    "ax2.spines['bottom'].set_position('zero')\n",
    "# No ticklabels at zero\n",
    "ax2.set_ylim([-20,20])\n",
    "ax2.set_xlim([-110,70])\n",
    "ax2.set_xticks([-100,-50,50])\n",
    "ax2.set_yticks([-20,-20,-10,10,20])\n",
    "#ax2.xaxis.set_label_position(\"right\")\n",
    "ax2.set_xlabel('V (mV)',fontsize=14)\n",
    "ax2.set_ylabel('I (µA)',fontsize=14)\n",
    "ax2.xaxis.set_label_coords(0.85,0.39)\n",
    "ax2.yaxis.set_label_coords(0.77,0.93)\n",
    "ax2.tick_params(axis='both', which='major', labelsize=10)  \n",
    "ax2.legend(legendlabel,bbox_to_anchor=(0.4, 0.3, 0.11, 0.78),frameon=False)\n",
    "# Hide the right and top spines\n",
    "ax2.text(-30, 23, 'MEC-4d',color=colorM4)\n",
    "\n",
    "ax3.plot(VoltagesInmV[np.asarray(np.where(SolutionspTL69 == 'NaGluSel2'))[0,-1]],CurrentspTL69InuA[np.asarray(np.where(SolutionspTL69 == 'NaGluSel2'))[0,-1]],'black')\n",
    "ax3.scatter(VoltagesInmV[np.asarray(np.where(SolutionspTL69 == 'NaGluSel2'))[0,-1]],CurrentspTL69InuA[np.asarray(np.where(SolutionspTL69 == 'NaGluSel2'))[0,-1]], color = 'black')      \n",
    "ax3.plot(VoltagesInmV[np.asarray(np.where(SolutionspTL69 == 'LiGluSel'))[0,-1]],CurrentspTL69InuA[np.asarray(np.where(SolutionspTL69 == 'LiGluSel'))[0,-1]],'r')\n",
    "ax3.scatter(VoltagesInmV[np.asarray(np.where(SolutionspTL69 == 'LiGluSel'))[0,-1]],CurrentspTL69InuA[np.asarray(np.where(SolutionspTL69 == 'LiGluSel'))[0,-1]], color = 'r')      \n",
    "ax3.plot(VoltagesInmV[np.asarray(np.where(SolutionspTL69 == 'KGluSel'))[0,-1]],CurrentspTL69InuA[np.asarray(np.where(SolutionspTL69 == 'KGluSel'))[0,-1]],'cyan')\n",
    "ax3.scatter(VoltagesInmV[np.asarray(np.where(SolutionspTL69 == 'KGluSel'))[0,-1]],CurrentspTL69InuA[np.asarray(np.where(SolutionspTL69 == 'KGluSel'))[0,-1]], color = 'cyan')      \n",
    "ax3.plot(VoltagesInmV[np.asarray(np.where(SolutionspTL69 == 'CsGluSel'))[0,-1]],CurrentspTL69InuA[np.asarray(np.where(SolutionspTL69 == 'CsGluSel'))[0,-1]],'y')\n",
    "ax3.scatter(VoltagesInmV[np.asarray(np.where(SolutionspTL69 == 'CsGluSel'))[0,-1]],CurrentspTL69InuA[np.asarray(np.where(SolutionspTL69 == 'CsGluSel'))[0,-1]], color = 'y')      \n",
    "ax3.plot(VoltagesInmV[np.asarray(np.where(SolutionspTL69 == 'NmgGluSel'))[0,-1]],CurrentspTL69InuA[np.asarray(np.where(SolutionspTL69 == 'NmgGluSel'))[0,-1]],'g')\n",
    "ax3.scatter(VoltagesInmV[np.asarray(np.where(SolutionspTL69== 'NmgGluSel'))[0,-1]],CurrentspTL69InuA[np.asarray(np.where(SolutionspTL69 == 'NmgGluSel'))[0,-1]], color = 'g') \n",
    "ax3.spines['right'].set_visible(False)\n",
    "ax3.spines['top'].set_visible(False)\n",
    "# Only show ticks on the left and bottom spines\n",
    "ax3.yaxis.set_ticks_position('left')\n",
    "ax3.xaxis.set_ticks_position('bottom')\n",
    "# Move left y-axis and bottim x-axis to centre, passing through (0,0)\n",
    "ax3.spines['left'].set_position('zero')\n",
    "ax3.spines['bottom'].set_position('zero')\n",
    "ax3.set_ylim([-20,20])\n",
    "ax3.set_xlim([-110,70])\n",
    "ax3.set_xticks([-100,-50,50])\n",
    "ax3.set_yticks([-20,-20,-10,10,20])\n",
    "ax3.set_xlabel('V (mV)',fontsize=14)\n",
    "ax3.set_ylabel('I (µA)',fontsize=14)\n",
    "ax3.xaxis.set_label_coords(0.85,0.39)\n",
    "ax3.yaxis.set_label_coords(0.77,0.93)\n",
    "ax3.tick_params(axis='both', which='major', labelsize=10)  \n",
    "ax3.text(-30, 23, 'UNC-8d',color=colorU8)\n",
    "\n",
    "ax4.plot(VoltagesInmV[np.asarray(np.where(Solutionsmg418 == 'NaGluSel2'))[0,-1]],Currentsmg418InuA[np.asarray(np.where(Solutionsmg418 == 'NaGluSel2'))[0,-1]],'black')\n",
    "ax4.scatter(VoltagesInmV[np.asarray(np.where(Solutionsmg418 == 'NaGluSel2'))[0,-1]],Currentsmg418InuA[np.asarray(np.where(Solutionsmg418 == 'NaGluSel2'))[0,-1]], color = 'black')      \n",
    "ax4.plot(VoltagesInmV[np.asarray(np.where(Solutionsmg418 == 'LiGluSel'))[0,-1]],Currentsmg418InuA[np.asarray(np.where(Solutionsmg418 == 'LiGluSel'))[0,-1]],'r')\n",
    "ax4.scatter(VoltagesInmV[np.asarray(np.where(Solutionsmg418 == 'LiGluSel'))[0,-1]],Currentsmg418InuA[np.asarray(np.where(Solutionsmg418 == 'LiGluSel'))[0,-1]], color = 'r')      \n",
    "ax4.plot(VoltagesInmV[np.asarray(np.where(Solutionsmg418 == 'KGluSel'))[0,-1]],Currentsmg418InuA[np.asarray(np.where(Solutionsmg418 == 'KGluSel'))[0,-1]],'cyan')\n",
    "ax4.scatter(VoltagesInmV[np.asarray(np.where(Solutionsmg418 == 'KGluSel'))[0,-1]],Currentsmg418InuA[np.asarray(np.where(Solutionsmg418 == 'KGluSel'))[0,-1]], color = 'cyan')      \n",
    "ax4.plot(VoltagesInmV[np.asarray(np.where(Solutionsmg418 == 'CsGluSel'))[0,-1]],Currentsmg418InuA[np.asarray(np.where(Solutionsmg418 == 'CsGluSel'))[0,-1]],'y')\n",
    "ax4.scatter(VoltagesInmV[np.asarray(np.where(Solutionsmg418 == 'CsGluSel'))[0,-1]],Currentsmg418InuA[np.asarray(np.where(Solutionsmg418 == 'CsGluSel'))[0,-1]], color = 'y')      \n",
    "ax4.plot(VoltagesInmV[np.asarray(np.where(Solutionsmg418 == 'NmgGluSel'))[0,-1]],Currentsmg418InuA[np.asarray(np.where(Solutionsmg418 == 'NmgGluSel'))[0,-1]],'g')\n",
    "ax4.scatter(VoltagesInmV[np.asarray(np.where(Solutionsmg418 == 'NmgGluSel'))[0,-1]],Currentsmg418InuA[np.asarray(np.where(Solutionsmg418 == 'NmgGluSel'))[0,-1]],color = 'g')      \n",
    "# Hide the right and top spines\n",
    "ax4.spines['right'].set_visible(False)\n",
    "ax4.spines['top'].set_visible(False)\n",
    "# Only show ticks on the left and bottom spines\n",
    "ax4.yaxis.set_ticks_position('left')\n",
    "ax4.xaxis.set_ticks_position('bottom')\n",
    "# Move left y-axis and bottim x-axis to centre, passing through (0,0)\n",
    "ax4.spines['left'].set_position('zero')\n",
    "ax4.spines['bottom'].set_position('zero')\n",
    "ax4.set_xlabel('V (mV)',fontsize=14)\n",
    "ax4.set_ylabel('I (µA)',fontsize=14)\n",
    "ax4.set_ylim([-2,2])\n",
    "ax4.set_xlim([-110,70])\n",
    "ax4.set_xticks([-100,-50,50])\n",
    "ax4.set_yticks([-2,-2,-1,1,2])\n",
    "ax4.xaxis.set_label_coords(0.85,0.39)\n",
    "ax4.yaxis.set_label_coords(0.77,0.93)\n",
    "ax4.tick_params(axis='both', which='major', labelsize=10)  \n",
    "ax4.text(-30, 2.3, 'DEGT-1d',color=colorDT1)\n",
    "\n",
    "#bbox_to_anchor=(left, down, right, up)\n",
    "#ax4.legend(legendlabel,bbox_to_anchor=(0., 1.02, 1, .102))\n",
    "\n",
    "\n",
    "ax5.set_ylim([-150, 150])\n",
    "ax5.set_xlim([0, 1500])\n",
    "ax5.spines['right'].set_visible(False)                                  # no spine at the right\n",
    "ax5.spines['top'].set_visible(False)                                     # no spine at the top\n",
    "ax5.yaxis.set_ticks_position('left')                                     # ticks at the left\n",
    "ax5.xaxis.set_ticks_position('bottom')                                 # no spine at the right\n",
    "ax5.spines['left'].set_position(('outward',10))                           # a spine at the left that is put a little aside\n",
    "ax5.spines['bottom'].set_position(('outward',10))  \n",
    "ax5.spines['top'].set_position(('axes',5)) \n",
    "ax5.get_yaxis().set_tick_params(direction='in')\n",
    "ax5.get_xaxis().set_tick_params(direction='in')\n",
    "#ax1.plot([-1,20], [0,0] , 'k--', color='#000000', linewidth=1)#gray line for Zero or 1        \n",
    "ax5.tick_params(axis='both', which='major', labelsize=12)  \n",
    "#ax1.annotate('ramp',xy=(125, 300), xycoords='figure points')#FIGURE Poitns: default coordinates\n",
    "ax5.set_yticks([-150,-85,0,150])\n",
    "ax5.set_xticks([0,500, 1000, 1500])\n",
    "ax5.set_xlabel('t (ms)',fontsize=14)\n",
    "ax5.set_ylabel('V (mV)',fontsize=14)\n",
    "#ax5.axvspan(75, 225, color='cyan', alpha=0.1)\n",
    "#ax5.axvspan(390, 1300, color='red', alpha=0.1)\n",
    "\n",
    "\n",
    "#plt.gcf().subplots_adjust(bottom=0.3, left=0.25,hspace=0.75, wspace=0.1) \n",
    "plt.gcf().subplots_adjust(bottom=0.15, left=0.15,hspace=.3, wspace=0.3) \n",
    "#ax.legend(LegendsSolutions) #loc = 0 = best\n",
    "\n",
    "#plt.savefig(filedir+\"Fig2-IVcurvesPerm\"+'.eps')\n",
    "#plt.savefig(filedirManuscript+\"Fig2-IVcurvesPerm\"+'.pdf')\n",
    " \n",
    "\n",
    "plt.show()"
   ]
  },
  {
   "cell_type": "markdown",
   "metadata": {},
   "source": [
    "### CURRENT VERSION"
   ]
  },
  {
   "cell_type": "code",
   "execution_count": 46,
   "metadata": {
    "scrolled": true
   },
   "outputs": [
    {
     "data": {
      "image/png": "[encoded data removed]",
      "text/plain": [
       "<Figure size 684x216 with 3 Axes>"
      ]
     },
     "metadata": {
      "needs_background": "light"
     },
     "output_type": "display_data"
    }
   ],
   "source": [
    "#index into Voltage 1 to Voltage 9 AND index into MeandStep1 to 9 (Currents) and rename  \n",
    "#TODO: change to not hardcoded if order in textfile changes\n",
    "fig = plt.figure(figsize=(9.5, 3)) \n",
    "#plt.subplots(2, 2, sharex='col')\n",
    "# ax1 = plt.subplot(2,4,1)\n",
    "# for m in range(0,9): #hard coded final number (change)\n",
    "#     plt.plot(Selmg419BeforeMEAN[m],'black' )#color = colorsSINGLES[0]\n",
    "    \n",
    "ax2 = plt.subplot(1,3,3) # MEC-4d\n",
    "ax3 = plt.subplot(1,3,2) # UNC-8d\n",
    "ax4 = plt.subplot(1,3,1) # DEGT-1d\n",
    "\n",
    "# ax5 = plt.subplot(2,4,5)\n",
    "# plt.plot(Selmg419BeforeMEAN[0],'black')#color = colorsSINGLES[0]\n",
    "# plt.plot(Selmg419BeforeMEAN[8],'black',linestyle='--')\n",
    "\n",
    "\n",
    "# ax6 = plt.subplot(2,4,6)\n",
    "# plt.plot(CurSelmg418BeforeMEAN[0],'black')#color = colorsSINGLES[0]\n",
    "# plt.plot(CurSelmg418BeforeMEAN[8],'black',linestyle='--')\n",
    "\n",
    "# plt.plot(CurSelmg418PotassiumMEAN[0],  color = 'cyan')#color = colorsSINGLES[0]\n",
    "# plt.plot(CurSelmg418PotassiumMEAN[8],  color = 'cyan',linestyle='--')\n",
    "\n",
    "# ax7 = plt.subplot(2,4,7)\n",
    "# plt.plot(CurSelpTL69BeforeMEAN[0],'black')#color = colorsSINGLES[0]\n",
    "# plt.plot(CurSelpTL69BeforeMEAN[8],'black',linestyle='--')\n",
    "\n",
    "# plt.plot(CurSelpTL69PotassiumMEAN[0],  color = 'cyan')#color = colorsSINGLES[0]\n",
    "# plt.plot(CurSelpTL69PotassiumMEAN[8],  color = 'cyan',linestyle='--')\n",
    "\n",
    "\n",
    "# ax8 = plt.subplot(2,4,8)\n",
    "# plt.plot(CurSelmg419BeforeMEAN[0],'black')#color = colorsSINGLES[0]\n",
    "# plt.plot(CurSelmg419BeforeMEAN[8],'black',linestyle='--')\n",
    "\n",
    "# plt.plot(CurSelmg419PotassiumMEAN[0], color = 'cyan')#color = colorsSINGLES[0]\n",
    "# plt.plot(CurSelmg419PotassiumMEAN[8], color = 'cyan',linestyle='--')\n",
    "\n",
    "#plt.plot(CurSelmg419NMGMEAN[0], color = 'g')#color = colorsSINGLES[0]\n",
    "#plt.plot(CurSelmg419NMGMEAN[8], color = 'g',linestyle='--')\n",
    "\n",
    "CurSelmg419NMGMEAN\n",
    "\n",
    "#######################\n",
    "Voltages = []\n",
    "Currents = []\n",
    "CurrentspTL69 = []\n",
    "Currentsmg418 = []\n",
    "for volt in range(0,len(raw_data)):\n",
    "    Voltages.append([raw_data[volt,5:14]]) #TODO: CHANGE\n",
    "    Currents.append([raw_data[volt,14:23]])\n",
    "\n",
    "for volt in range(0,len(raw_datapTL69)):\n",
    "    CurrentspTL69.append([raw_datapTL69[volt,14:23]])  \n",
    "    \n",
    "for volt in range(0,len(raw_datamg418)):\n",
    "    Currentsmg418.append([raw_datamg418[volt,14:23]])   \n",
    "    \n",
    "#change to mV and uA    \n",
    "VoltagesInmV = np.multiply(1000,Voltages) #becomes a np.array with shape 7,1,9 \n",
    "CurrentsInuA = np.multiply(1000000,Currents)\n",
    "CurrentspTL69InuA = np.multiply(1000000,CurrentspTL69)\n",
    "Currentsmg418InuA = np.multiply(1000000,Currentsmg418)\n",
    "    \n",
    "#reshape Array\n",
    "VoltagesInmV = VoltagesInmV.reshape(VoltagesInmV.shape[0],VoltagesInmV.shape[2]) #reshape 7,1,9 \n",
    "CurrentsInuA = CurrentsInuA.reshape(CurrentsInuA.shape[0],CurrentsInuA.shape[2])\n",
    "CurrentspTL69InuA = CurrentspTL69InuA.reshape(CurrentspTL69InuA.shape[0],CurrentspTL69InuA.shape[2])\n",
    "Currentsmg418InuA  = Currentsmg418InuA .reshape(Currentsmg418InuA.shape[0],Currentsmg418InuA.shape[2])\n",
    "    \n",
    "#for i in range(0,4):\n",
    "  #  ax.plot(VoltagesInmV[i],CurrentsInuA[i])\n",
    "  #  ax.scatter(VoltagesInmV[i],CurrentsInuA[i])    \n",
    "#ax1.set_title('used to +60 in some \\n how to include current response?',size=10) \n",
    "# ax1.set_ylim([-150, 150])\n",
    "# ax1.set_xlim([0, 1500])\n",
    "# ax1.spines['right'].set_visible(False)                                  # no spine at the right\n",
    "# ax1.spines['top'].set_visible(False)                                     # no spine at the top\n",
    "# ax1.yaxis.set_ticks_position('left')                                     # ticks at the left\n",
    "# ax1.xaxis.set_ticks_position('bottom')                                 # no spine at the right\n",
    "# ax1.spines['left'].set_position(('outward',10))                           # a spine at the left that is put a little aside\n",
    "# ax1.spines['bottom'].set_position(('outward',10))  \n",
    "# ax1.spines['top'].set_position(('axes',5)) \n",
    "# ax1.get_yaxis().set_tick_params(direction='in')\n",
    "# ax1.get_xaxis().set_tick_params(direction='in')\n",
    "# #ax1.plot([-1,20], [0,0] , 'k--', color='#000000', linewidth=1)#gray line for Zero or 1        \n",
    "# ax1.tick_params(axis='both', which='major', labelsize=12)  \n",
    "# #ax1.annotate('ramp',xy=(125, 300), xycoords='figure points')#FIGURE Poitns: default coordinates\n",
    "# ax1.set_yticks([-150,-85,0,150])\n",
    "# ax1.set_xticks([0,500, 1000, 1500])\n",
    "# ax1.set_xlabel('t (ms)',fontsize=14)\n",
    "# ax1.set_ylabel('V (mV)',fontsize=14)\n",
    "# ax1.axvspan(75, 225, color='cyan', alpha=0.1)\n",
    "# ax1.axvspan(390, 1300, color='red', alpha=0.1)\n",
    "\n",
    "\n",
    "legendlabel = ['Na', 'Li', 'K', 'Cs', 'NMG']\n",
    "\n",
    "\n",
    "#Find Solutions used to plot (color code) different solutions in the same order\n",
    "ax2.plot(VoltagesInmV[np.asarray(np.where(Solutionsmg419 == 'NaGluSel2'))[0,-1]],CurrentsInuA[np.asarray(np.where(Solutionsmg419 == 'NaGluSel2'))[0,-1]],'black')\n",
    "ax2.scatter(VoltagesInmV[np.asarray(np.where(Solutionsmg419 == 'NaGluSel2'))[0,-1]],CurrentsInuA[np.asarray(np.where(Solutionsmg419 == 'NaGluSel2'))[0,-1]],color = 'black')      \n",
    "ax2.plot(VoltagesInmV[np.asarray(np.where(Solutionsmg419 == 'LiGluSel'))[0,-1]],CurrentsInuA[np.asarray(np.where(Solutionsmg419 == 'LiGluSel'))[0,-1]],'r')\n",
    "ax2.scatter(VoltagesInmV[np.asarray(np.where(Solutionsmg419 == 'LiGluSel'))[0,-1]],CurrentsInuA[np.asarray(np.where(Solutionsmg419 == 'LiGluSel'))[0,-1]], color ='r')      \n",
    "ax2.plot(VoltagesInmV[np.asarray(np.where(Solutionsmg419 == 'KGluSel'))[0,-1]],CurrentsInuA[np.asarray(np.where(Solutionsmg419 == 'KGluSel'))[0,-1]],'cyan')\n",
    "ax2.scatter(VoltagesInmV[np.asarray(np.where(Solutionsmg419 == 'KGluSel'))[0,-1]],CurrentsInuA[np.asarray(np.where(Solutionsmg419 == 'KGluSel'))[0,-1]], color = 'cyan')      \n",
    "ax2.plot(VoltagesInmV[np.asarray(np.where(Solutionsmg419 == 'CsGluSel'))[0,-1]],CurrentsInuA[np.asarray(np.where(Solutionsmg419 == 'CsGluSel'))[0,-1]],'y')\n",
    "ax2.scatter(VoltagesInmV[np.asarray(np.where(Solutionsmg419 == 'CsGluSel'))[0,-1]],CurrentsInuA[np.asarray(np.where(Solutionsmg419 == 'CsGluSel'))[0,-1]], color = 'y')      \n",
    "ax2.plot(VoltagesInmV[np.asarray(np.where(Solutionsmg419 == 'NmgGluSel'))[0,-1]],CurrentsInuA[np.asarray(np.where(Solutionsmg419 == 'NmgGluSel'))[0,-1]],'g')\n",
    "ax2.scatter(VoltagesInmV[np.asarray(np.where(Solutionsmg419 == 'NmgGluSel'))[0,-1]],CurrentsInuA[np.asarray(np.where(Solutionsmg419 == 'NmgGluSel'))[0,-1]], color = 'g')          \n",
    "# Hide the right and top spines\n",
    "ax2.spines['right'].set_visible(False)\n",
    "ax2.spines['top'].set_visible(False)\n",
    "# Only show ticks on the left and bottom spines\n",
    "ax2.yaxis.set_ticks_position('left')\n",
    "ax2.xaxis.set_ticks_position('bottom')\n",
    "# Move left y-axis and bottim x-axis to centre, passing through (0,0)\n",
    "ax2.spines['left'].set_position('zero')\n",
    "ax2.spines['bottom'].set_position('zero')\n",
    "# No ticklabels at zero\n",
    "ax2.set_ylim([-20,20])\n",
    "ax2.set_xlim([-110,70])\n",
    "ax2.set_xticks([-100,-50,50])\n",
    "ax2.set_yticks([-20,-20,-10,10,20])\n",
    "#ax2.xaxis.set_label_position(\"right\")\n",
    "ax2.set_xlabel('V (mV)',fontsize=14)\n",
    "ax2.set_ylabel('I (µA)',fontsize=14)\n",
    "ax2.xaxis.set_label_coords(0.85,0.39)\n",
    "ax2.yaxis.set_label_coords(0.77,0.93)\n",
    "ax2.tick_params(axis='both', which='major', labelsize=10)  \n",
    "#ax2.legend(legendlabel,bbox_to_anchor=(0.4, 0.3, 0.11, 0.78),frameon=False)\n",
    "# Hide the right and top spines\n",
    "ax2.text(-30, 23, 'MEC-4d',color=colorM4)\n",
    "\n",
    "ax3.plot(VoltagesInmV[np.asarray(np.where(SolutionspTL69 == 'NaGluSel2'))[0,-1]],CurrentspTL69InuA[np.asarray(np.where(SolutionspTL69 == 'NaGluSel2'))[0,-1]],'black')\n",
    "ax3.scatter(VoltagesInmV[np.asarray(np.where(SolutionspTL69 == 'NaGluSel2'))[0,-1]],CurrentspTL69InuA[np.asarray(np.where(SolutionspTL69 == 'NaGluSel2'))[0,-1]], color = 'black')      \n",
    "ax3.plot(VoltagesInmV[np.asarray(np.where(SolutionspTL69 == 'LiGluSel'))[0,-1]],CurrentspTL69InuA[np.asarray(np.where(SolutionspTL69 == 'LiGluSel'))[0,-1]],'r')\n",
    "ax3.scatter(VoltagesInmV[np.asarray(np.where(SolutionspTL69 == 'LiGluSel'))[0,-1]],CurrentspTL69InuA[np.asarray(np.where(SolutionspTL69 == 'LiGluSel'))[0,-1]], color = 'r')      \n",
    "ax3.plot(VoltagesInmV[np.asarray(np.where(SolutionspTL69 == 'KGluSel'))[0,-1]],CurrentspTL69InuA[np.asarray(np.where(SolutionspTL69 == 'KGluSel'))[0,-1]],'cyan')\n",
    "ax3.scatter(VoltagesInmV[np.asarray(np.where(SolutionspTL69 == 'KGluSel'))[0,-1]],CurrentspTL69InuA[np.asarray(np.where(SolutionspTL69 == 'KGluSel'))[0,-1]], color = 'cyan')      \n",
    "ax3.plot(VoltagesInmV[np.asarray(np.where(SolutionspTL69 == 'CsGluSel'))[0,-1]],CurrentspTL69InuA[np.asarray(np.where(SolutionspTL69 == 'CsGluSel'))[0,-1]],'y')\n",
    "ax3.scatter(VoltagesInmV[np.asarray(np.where(SolutionspTL69 == 'CsGluSel'))[0,-1]],CurrentspTL69InuA[np.asarray(np.where(SolutionspTL69 == 'CsGluSel'))[0,-1]], color = 'y')      \n",
    "ax3.plot(VoltagesInmV[np.asarray(np.where(SolutionspTL69 == 'NmgGluSel'))[0,-1]],CurrentspTL69InuA[np.asarray(np.where(SolutionspTL69 == 'NmgGluSel'))[0,-1]],'g')\n",
    "ax3.scatter(VoltagesInmV[np.asarray(np.where(SolutionspTL69== 'NmgGluSel'))[0,-1]],CurrentspTL69InuA[np.asarray(np.where(SolutionspTL69 == 'NmgGluSel'))[0,-1]], color = 'g') \n",
    "ax3.spines['right'].set_visible(False)\n",
    "ax3.spines['top'].set_visible(False)\n",
    "# Only show ticks on the left and bottom spines\n",
    "ax3.yaxis.set_ticks_position('left')\n",
    "ax3.xaxis.set_ticks_position('bottom')\n",
    "# Move left y-axis and bottim x-axis to centre, passing through (0,0)\n",
    "ax3.spines['left'].set_position('zero')\n",
    "ax3.spines['bottom'].set_position('zero')\n",
    "ax3.set_ylim([-20,20])\n",
    "ax3.set_xlim([-110,70])\n",
    "ax3.set_xticks([-100,-50,50])\n",
    "ax3.set_yticks([-20,-20,-10,10,20])\n",
    "ax3.set_xlabel('V (mV)',fontsize=14)\n",
    "ax3.set_ylabel('I (µA)',fontsize=14)\n",
    "ax3.xaxis.set_label_coords(0.85,0.39)\n",
    "ax3.yaxis.set_label_coords(0.77,0.93)\n",
    "ax3.tick_params(axis='both', which='major', labelsize=10)  \n",
    "ax3.text(-30, 23, 'UNC-8d',color=colorU8)\n",
    "\n",
    "ax4.plot(VoltagesInmV[np.asarray(np.where(Solutionsmg418 == 'NaGluSel2'))[0,-1]],Currentsmg418InuA[np.asarray(np.where(Solutionsmg418 == 'NaGluSel2'))[0,-1]],'black')\n",
    "ax4.scatter(VoltagesInmV[np.asarray(np.where(Solutionsmg418 == 'NaGluSel2'))[0,-1]],Currentsmg418InuA[np.asarray(np.where(Solutionsmg418 == 'NaGluSel2'))[0,-1]], color = 'black')      \n",
    "ax4.plot(VoltagesInmV[np.asarray(np.where(Solutionsmg418 == 'LiGluSel'))[0,-1]],Currentsmg418InuA[np.asarray(np.where(Solutionsmg418 == 'LiGluSel'))[0,-1]],'r')\n",
    "ax4.scatter(VoltagesInmV[np.asarray(np.where(Solutionsmg418 == 'LiGluSel'))[0,-1]],Currentsmg418InuA[np.asarray(np.where(Solutionsmg418 == 'LiGluSel'))[0,-1]], color = 'r')      \n",
    "ax4.plot(VoltagesInmV[np.asarray(np.where(Solutionsmg418 == 'KGluSel'))[0,-1]],Currentsmg418InuA[np.asarray(np.where(Solutionsmg418 == 'KGluSel'))[0,-1]],'cyan')\n",
    "ax4.scatter(VoltagesInmV[np.asarray(np.where(Solutionsmg418 == 'KGluSel'))[0,-1]],Currentsmg418InuA[np.asarray(np.where(Solutionsmg418 == 'KGluSel'))[0,-1]], color = 'cyan')      \n",
    "ax4.plot(VoltagesInmV[np.asarray(np.where(Solutionsmg418 == 'CsGluSel'))[0,-1]],Currentsmg418InuA[np.asarray(np.where(Solutionsmg418 == 'CsGluSel'))[0,-1]],'y')\n",
    "ax4.scatter(VoltagesInmV[np.asarray(np.where(Solutionsmg418 == 'CsGluSel'))[0,-1]],Currentsmg418InuA[np.asarray(np.where(Solutionsmg418 == 'CsGluSel'))[0,-1]], color = 'y')      \n",
    "ax4.plot(VoltagesInmV[np.asarray(np.where(Solutionsmg418 == 'NmgGluSel'))[0,-1]],Currentsmg418InuA[np.asarray(np.where(Solutionsmg418 == 'NmgGluSel'))[0,-1]],'g')\n",
    "ax4.scatter(VoltagesInmV[np.asarray(np.where(Solutionsmg418 == 'NmgGluSel'))[0,-1]],Currentsmg418InuA[np.asarray(np.where(Solutionsmg418 == 'NmgGluSel'))[0,-1]],color = 'g')      \n",
    "# Hide the right and top spines\n",
    "ax4.spines['right'].set_visible(False)\n",
    "ax4.spines['top'].set_visible(False)\n",
    "# Only show ticks on the left and bottom spines\n",
    "ax4.yaxis.set_ticks_position('left')\n",
    "ax4.xaxis.set_ticks_position('bottom')\n",
    "# Move left y-axis and bottim x-axis to centre, passing through (0,0)\n",
    "ax4.spines['left'].set_position('zero')\n",
    "ax4.spines['bottom'].set_position('zero')\n",
    "ax4.set_xlabel('V (mV)',fontsize=14)\n",
    "ax4.set_ylabel('I (µA)',fontsize=14)\n",
    "ax4.set_ylim([-2,2])\n",
    "ax4.set_xlim([-110,70])\n",
    "ax4.set_xticks([-100,-50,50])\n",
    "ax4.set_yticks([-2,-2,-1,1,2])\n",
    "ax4.xaxis.set_label_coords(0.85,0.39)\n",
    "ax4.yaxis.set_label_coords(0.77,0.93)\n",
    "ax4.tick_params(axis='both', which='major', labelsize=10)  \n",
    "ax4.text(-30, 2.3, 'DEGT-1d',color=colorDT1)\n",
    "ax4.legend(legendlabel,bbox_to_anchor=(0.4, 0.3, 0.11, 0.78),frameon=False)\n",
    "\n",
    "#bbox_to_anchor=(left, down, right, up)\n",
    "#ax4.legend(legendlabel,bbox_to_anchor=(0., 1.02, 1, .102))\n",
    "\n",
    "\n",
    "# ax5.set_ylim([-150, 150])\n",
    "# ax5.set_xlim([0, 1500])\n",
    "# ax5.spines['right'].set_visible(False)                                  # no spine at the right\n",
    "# ax5.spines['top'].set_visible(False)                                     # no spine at the top\n",
    "# ax5.yaxis.set_ticks_position('left')                                     # ticks at the left\n",
    "# ax5.xaxis.set_ticks_position('bottom')                                 # no spine at the right\n",
    "# ax5.spines['left'].set_position(('outward',10))                           # a spine at the left that is put a little aside\n",
    "# ax5.spines['bottom'].set_position(('outward',10))  \n",
    "# ax5.spines['top'].set_position(('axes',5)) \n",
    "# ax5.get_yaxis().set_tick_params(direction='in')\n",
    "# ax5.get_xaxis().set_tick_params(direction='in')\n",
    "# #ax1.plot([-1,20], [0,0] , 'k--', color='#000000', linewidth=1)#gray line for Zero or 1        \n",
    "# ax5.tick_params(axis='both', which='major', labelsize=12)  \n",
    "# #ax1.annotate('ramp',xy=(125, 300), xycoords='figure points')#FIGURE Poitns: default coordinates\n",
    "# ax5.set_yticks([-150,-85,0,150])\n",
    "# ax5.set_xticks([0,500, 1000, 1500])\n",
    "# ax5.set_xlabel('t (ms)',fontsize=14)\n",
    "# ax5.set_ylabel('V (mV)',fontsize=14)\n",
    "# #ax5.axvspan(75, 225, color='cyan', alpha=0.1)\n",
    "# #ax5.axvspan(390, 1300, color='red', alpha=0.1)\n",
    "\n",
    "\n",
    "#plt.gcf().subplots_adjust(bottom=0.3, left=0.25,hspace=0.75, wspace=0.1) \n",
    "plt.gcf().subplots_adjust(bottom=0.15, left=0.15,hspace=.3, wspace=0.3) \n",
    "#ax.legend(LegendsSolutions) #loc = 0 = best\n",
    "\n",
    "plt.savefig(filedir+\"Fig2-IVcurvesPerm\"+'.eps')\n",
    "plt.savefig(filedirManuscript+\"Fig2-IVcurvesPerm\"+'.pdf')\n",
    " \n",
    "\n",
    "plt.show()"
   ]
  },
  {
   "cell_type": "markdown",
   "metadata": {},
   "source": [
    "# version talk and maybe adapt shades of red, purple, green"
   ]
  },
  {
   "cell_type": "code",
   "execution_count": 59,
   "metadata": {},
   "outputs": [
    {
     "data": {
      "image/png": "[encoded data removed]",
      "text/plain": [
       "<Figure size 684x216 with 3 Axes>"
      ]
     },
     "metadata": {
      "needs_background": "light"
     },
     "output_type": "display_data"
    }
   ],
   "source": [
    "#index into Voltage 1 to Voltage 9 AND index into MeandStep1 to 9 (Currents) and rename  \n",
    "#TODO: change to not hardcoded if order in textfile changes\n",
    "fig = plt.figure(figsize=(9.5, 3)) \n",
    "#plt.subplots(2, 2, sharex='col')\n",
    "# ax1 = plt.subplot(2,4,1)\n",
    "# for m in range(0,9): #hard coded final number (change)\n",
    "#     plt.plot(Selmg419BeforeMEAN[m],'black' )#color = colorsSINGLES[0]\n",
    "    \n",
    "ax2 = plt.subplot(1,3,3) # MEC-4d\n",
    "ax3 = plt.subplot(1,3,2) # UNC-8d\n",
    "ax4 = plt.subplot(1,3,1) # DEGT-1d\n",
    "\n",
    "# ax5 = plt.subplot(2,4,5)\n",
    "# plt.plot(Selmg419BeforeMEAN[0],'black')#color = colorsSINGLES[0]\n",
    "# plt.plot(Selmg419BeforeMEAN[8],'black',linestyle='--')\n",
    "\n",
    "\n",
    "# ax6 = plt.subplot(2,4,6)\n",
    "# plt.plot(CurSelmg418BeforeMEAN[0],'black')#color = colorsSINGLES[0]\n",
    "# plt.plot(CurSelmg418BeforeMEAN[8],'black',linestyle='--')\n",
    "\n",
    "# plt.plot(CurSelmg418PotassiumMEAN[0],  color = 'cyan')#color = colorsSINGLES[0]\n",
    "# plt.plot(CurSelmg418PotassiumMEAN[8],  color = 'cyan',linestyle='--')\n",
    "\n",
    "# ax7 = plt.subplot(2,4,7)\n",
    "# plt.plot(CurSelpTL69BeforeMEAN[0],'black')#color = colorsSINGLES[0]\n",
    "# plt.plot(CurSelpTL69BeforeMEAN[8],'black',linestyle='--')\n",
    "\n",
    "# plt.plot(CurSelpTL69PotassiumMEAN[0],  color = 'cyan')#color = colorsSINGLES[0]\n",
    "# plt.plot(CurSelpTL69PotassiumMEAN[8],  color = 'cyan',linestyle='--')\n",
    "\n",
    "\n",
    "# ax8 = plt.subplot(2,4,8)\n",
    "# plt.plot(CurSelmg419BeforeMEAN[0],'black')#color = colorsSINGLES[0]\n",
    "# plt.plot(CurSelmg419BeforeMEAN[8],'black',linestyle='--')\n",
    "\n",
    "# plt.plot(CurSelmg419PotassiumMEAN[0], color = 'cyan')#color = colorsSINGLES[0]\n",
    "# plt.plot(CurSelmg419PotassiumMEAN[8], color = 'cyan',linestyle='--')\n",
    "\n",
    "#plt.plot(CurSelmg419NMGMEAN[0], color = 'g')#color = colorsSINGLES[0]\n",
    "#plt.plot(CurSelmg419NMGMEAN[8], color = 'g',linestyle='--')\n",
    "\n",
    "CurSelmg419NMGMEAN\n",
    "\n",
    "#######################\n",
    "Voltages = []\n",
    "Currents = []\n",
    "CurrentspTL69 = []\n",
    "Currentsmg418 = []\n",
    "for volt in range(0,len(raw_data)):\n",
    "    Voltages.append([raw_data[volt,5:14]]) #TODO: CHANGE\n",
    "    Currents.append([raw_data[volt,14:23]])\n",
    "\n",
    "for volt in range(0,len(raw_datapTL69)):\n",
    "    CurrentspTL69.append([raw_datapTL69[volt,14:23]])  \n",
    "    \n",
    "for volt in range(0,len(raw_datamg418)):\n",
    "    Currentsmg418.append([raw_datamg418[volt,14:23]])   \n",
    "    \n",
    "#change to mV and uA    \n",
    "VoltagesInmV = np.multiply(1000,Voltages) #becomes a np.array with shape 7,1,9 \n",
    "CurrentsInuA = np.multiply(1000000,Currents)\n",
    "CurrentspTL69InuA = np.multiply(1000000,CurrentspTL69)\n",
    "Currentsmg418InuA = np.multiply(1000000,Currentsmg418)\n",
    "    \n",
    "#reshape Array\n",
    "VoltagesInmV = VoltagesInmV.reshape(VoltagesInmV.shape[0],VoltagesInmV.shape[2]) #reshape 7,1,9 \n",
    "CurrentsInuA = CurrentsInuA.reshape(CurrentsInuA.shape[0],CurrentsInuA.shape[2])\n",
    "CurrentspTL69InuA = CurrentspTL69InuA.reshape(CurrentspTL69InuA.shape[0],CurrentspTL69InuA.shape[2])\n",
    "Currentsmg418InuA  = Currentsmg418InuA .reshape(Currentsmg418InuA.shape[0],Currentsmg418InuA.shape[2])\n",
    "    \n",
    "#for i in range(0,4):\n",
    "  #  ax.plot(VoltagesInmV[i],CurrentsInuA[i])\n",
    "  #  ax.scatter(VoltagesInmV[i],CurrentsInuA[i])    \n",
    "#ax1.set_title('used to +60 in some \\n how to include current response?',size=10) \n",
    "# ax1.set_ylim([-150, 150])\n",
    "# ax1.set_xlim([0, 1500])\n",
    "# ax1.spines['right'].set_visible(False)                                  # no spine at the right\n",
    "# ax1.spines['top'].set_visible(False)                                     # no spine at the top\n",
    "# ax1.yaxis.set_ticks_position('left')                                     # ticks at the left\n",
    "# ax1.xaxis.set_ticks_position('bottom')                                 # no spine at the right\n",
    "# ax1.spines['left'].set_position(('outward',10))                           # a spine at the left that is put a little aside\n",
    "# ax1.spines['bottom'].set_position(('outward',10))  \n",
    "# ax1.spines['top'].set_position(('axes',5)) \n",
    "# ax1.get_yaxis().set_tick_params(direction='in')\n",
    "# ax1.get_xaxis().set_tick_params(direction='in')\n",
    "# #ax1.plot([-1,20], [0,0] , 'k--', color='#000000', linewidth=1)#gray line for Zero or 1        \n",
    "# ax1.tick_params(axis='both', which='major', labelsize=12)  \n",
    "# #ax1.annotate('ramp',xy=(125, 300), xycoords='figure points')#FIGURE Poitns: default coordinates\n",
    "# ax1.set_yticks([-150,-85,0,150])\n",
    "# ax1.set_xticks([0,500, 1000, 1500])\n",
    "# ax1.set_xlabel('t (ms)',fontsize=14)\n",
    "# ax1.set_ylabel('V (mV)',fontsize=14)\n",
    "# ax1.axvspan(75, 225, color='cyan', alpha=0.1)\n",
    "# ax1.axvspan(390, 1300, color='red', alpha=0.1)\n",
    "\n",
    "\n",
    "legendlabel = ['Na', 'Li', 'K', 'Cs', 'NMG']\n",
    "\n",
    "\n",
    "#Find Solutions used to plot (color code) different solutions in the same order\n",
    "ax2.plot(VoltagesInmV[np.asarray(np.where(Solutionsmg419 == 'NaGluSel2'))[0,-1]],CurrentsInuA[np.asarray(np.where(Solutionsmg419 == 'NaGluSel2'))[0,-1]],'black')\n",
    "ax2.scatter(VoltagesInmV[np.asarray(np.where(Solutionsmg419 == 'NaGluSel2'))[0,-1]],CurrentsInuA[np.asarray(np.where(Solutionsmg419 == 'NaGluSel2'))[0,-1]],color = 'black')      \n",
    "ax2.plot(VoltagesInmV[np.asarray(np.where(Solutionsmg419 == 'LiGluSel'))[0,-1]],CurrentsInuA[np.asarray(np.where(Solutionsmg419 == 'LiGluSel'))[0,-1]],'r')\n",
    "ax2.scatter(VoltagesInmV[np.asarray(np.where(Solutionsmg419 == 'LiGluSel'))[0,-1]],CurrentsInuA[np.asarray(np.where(Solutionsmg419 == 'LiGluSel'))[0,-1]], color ='r')      \n",
    "ax2.plot(VoltagesInmV[np.asarray(np.where(Solutionsmg419 == 'KGluSel'))[0,-1]],CurrentsInuA[np.asarray(np.where(Solutionsmg419 == 'KGluSel'))[0,-1]],'cyan')\n",
    "ax2.scatter(VoltagesInmV[np.asarray(np.where(Solutionsmg419 == 'KGluSel'))[0,-1]],CurrentsInuA[np.asarray(np.where(Solutionsmg419 == 'KGluSel'))[0,-1]], color = 'cyan')      \n",
    "ax2.plot(VoltagesInmV[np.asarray(np.where(Solutionsmg419 == 'CsGluSel'))[0,-1]],CurrentsInuA[np.asarray(np.where(Solutionsmg419 == 'CsGluSel'))[0,-1]],'y')\n",
    "ax2.scatter(VoltagesInmV[np.asarray(np.where(Solutionsmg419 == 'CsGluSel'))[0,-1]],CurrentsInuA[np.asarray(np.where(Solutionsmg419 == 'CsGluSel'))[0,-1]], color = 'y')      \n",
    "ax2.plot(VoltagesInmV[np.asarray(np.where(Solutionsmg419 == 'NmgGluSel'))[0,-1]],CurrentsInuA[np.asarray(np.where(Solutionsmg419 == 'NmgGluSel'))[0,-1]],'g')\n",
    "ax2.scatter(VoltagesInmV[np.asarray(np.where(Solutionsmg419 == 'NmgGluSel'))[0,-1]],CurrentsInuA[np.asarray(np.where(Solutionsmg419 == 'NmgGluSel'))[0,-1]], color = 'g')          \n",
    "# Hide the right and top spines\n",
    "ax2.spines['right'].set_visible(False)\n",
    "ax2.spines['top'].set_visible(False)\n",
    "# Only show ticks on the left and bottom spines\n",
    "ax2.yaxis.set_ticks_position('left')\n",
    "ax2.xaxis.set_ticks_position('bottom')\n",
    "# Move left y-axis and bottim x-axis to centre, passing through (0,0)\n",
    "ax2.spines['left'].set_position('zero')\n",
    "ax2.spines['bottom'].set_position('zero')\n",
    "# No ticklabels at zero\n",
    "ax2.set_ylim([-20,20])\n",
    "ax2.set_xlim([-110,70])\n",
    "ax2.set_xticks([-100,-50,50])\n",
    "ax2.set_yticks([-20,-20,-10,10,20])\n",
    "#ax2.xaxis.set_label_position(\"right\")\n",
    "ax2.set_xlabel('V (mV)',fontsize=14)\n",
    "ax2.set_ylabel('I (µA)',fontsize=14)\n",
    "ax2.xaxis.set_label_coords(0.85,0.39)\n",
    "ax2.yaxis.set_label_coords(0.77,0.93)\n",
    "ax2.tick_params(axis='both', which='major', labelsize=10)  \n",
    "#ax2.legend(legendlabel,bbox_to_anchor=(0.4, 0.3, 0.11, 0.78),frameon=False)\n",
    "# Hide the right and top spines\n",
    "ax2.text(-30, 23, 'MEC-4d',color=colorM4)\n",
    "\n",
    "ax3.plot(VoltagesInmV[np.asarray(np.where(SolutionspTL69 == 'NaGluSel2'))[0,-1]],CurrentspTL69InuA[np.asarray(np.where(SolutionspTL69 == 'NaGluSel2'))[0,-1]],'black')\n",
    "ax3.scatter(VoltagesInmV[np.asarray(np.where(SolutionspTL69 == 'NaGluSel2'))[0,-1]],CurrentspTL69InuA[np.asarray(np.where(SolutionspTL69 == 'NaGluSel2'))[0,-1]], color = 'black')      \n",
    "ax3.plot(VoltagesInmV[np.asarray(np.where(SolutionspTL69 == 'LiGluSel'))[0,-1]],CurrentspTL69InuA[np.asarray(np.where(SolutionspTL69 == 'LiGluSel'))[0,-1]],'r')\n",
    "ax3.scatter(VoltagesInmV[np.asarray(np.where(SolutionspTL69 == 'LiGluSel'))[0,-1]],CurrentspTL69InuA[np.asarray(np.where(SolutionspTL69 == 'LiGluSel'))[0,-1]], color = 'r')      \n",
    "ax3.plot(VoltagesInmV[np.asarray(np.where(SolutionspTL69 == 'KGluSel'))[0,-1]],CurrentspTL69InuA[np.asarray(np.where(SolutionspTL69 == 'KGluSel'))[0,-1]],'cyan')\n",
    "ax3.scatter(VoltagesInmV[np.asarray(np.where(SolutionspTL69 == 'KGluSel'))[0,-1]],CurrentspTL69InuA[np.asarray(np.where(SolutionspTL69 == 'KGluSel'))[0,-1]], color = 'cyan')      \n",
    "ax3.plot(VoltagesInmV[np.asarray(np.where(SolutionspTL69 == 'CsGluSel'))[0,-1]],CurrentspTL69InuA[np.asarray(np.where(SolutionspTL69 == 'CsGluSel'))[0,-1]],'y')\n",
    "ax3.scatter(VoltagesInmV[np.asarray(np.where(SolutionspTL69 == 'CsGluSel'))[0,-1]],CurrentspTL69InuA[np.asarray(np.where(SolutionspTL69 == 'CsGluSel'))[0,-1]], color = 'y')      \n",
    "ax3.plot(VoltagesInmV[np.asarray(np.where(SolutionspTL69 == 'NmgGluSel'))[0,-1]],CurrentspTL69InuA[np.asarray(np.where(SolutionspTL69 == 'NmgGluSel'))[0,-1]],'g')\n",
    "ax3.scatter(VoltagesInmV[np.asarray(np.where(SolutionspTL69== 'NmgGluSel'))[0,-1]],CurrentspTL69InuA[np.asarray(np.where(SolutionspTL69 == 'NmgGluSel'))[0,-1]], color = 'g') \n",
    "ax3.spines['right'].set_visible(False)\n",
    "ax3.spines['top'].set_visible(False)\n",
    "# Only show ticks on the left and bottom spines\n",
    "ax3.yaxis.set_ticks_position('left')\n",
    "ax3.xaxis.set_ticks_position('bottom')\n",
    "# Move left y-axis and bottim x-axis to centre, passing through (0,0)\n",
    "ax3.spines['left'].set_position('zero')\n",
    "ax3.spines['bottom'].set_position('zero')\n",
    "ax3.set_ylim([-20,20])\n",
    "ax3.set_xlim([-110,70])\n",
    "ax3.set_xticks([-100,-50,50])\n",
    "ax3.set_yticks([-20,-20,-10,10,20])\n",
    "ax3.set_xlabel('V (mV)',fontsize=14)\n",
    "ax3.set_ylabel('I (µA)',fontsize=14)\n",
    "ax3.xaxis.set_label_coords(0.85,0.39)\n",
    "ax3.yaxis.set_label_coords(0.77,0.93)\n",
    "ax3.tick_params(axis='both', which='major', labelsize=10)  \n",
    "ax3.text(-30, 23, 'UNC-8d',color=colorU8)\n",
    "\n",
    "ax4.plot(VoltagesInmV[np.asarray(np.where(Solutionsmg418 == 'NaGluSel2'))[0,-1]],Currentsmg418InuA[np.asarray(np.where(Solutionsmg418 == 'NaGluSel2'))[0,-1]],color=(0.2, 0,0))\n",
    "ax4.scatter(VoltagesInmV[np.asarray(np.where(Solutionsmg418 == 'NaGluSel2'))[0,-1]],Currentsmg418InuA[np.asarray(np.where(Solutionsmg418 == 'NaGluSel2'))[0,-1]], color=(0.2, 0,0))      \n",
    "ax4.plot(VoltagesInmV[np.asarray(np.where(Solutionsmg418 == 'LiGluSel'))[0,-1]],Currentsmg418InuA[np.asarray(np.where(Solutionsmg418 == 'LiGluSel'))[0,-1]],color = (0.4, 0,0))\n",
    "ax4.scatter(VoltagesInmV[np.asarray(np.where(Solutionsmg418 == 'LiGluSel'))[0,-1]],Currentsmg418InuA[np.asarray(np.where(Solutionsmg418 == 'LiGluSel'))[0,-1]], color = (0.4, 0,0))      \n",
    "ax4.plot(VoltagesInmV[np.asarray(np.where(Solutionsmg418 == 'KGluSel'))[0,-1]],Currentsmg418InuA[np.asarray(np.where(Solutionsmg418 == 'KGluSel'))[0,-1]],color = (0.6, 0,0))\n",
    "ax4.scatter(VoltagesInmV[np.asarray(np.where(Solutionsmg418 == 'KGluSel'))[0,-1]],Currentsmg418InuA[np.asarray(np.where(Solutionsmg418 == 'KGluSel'))[0,-1]], color = (0.6, 0,0))      \n",
    "ax4.plot(VoltagesInmV[np.asarray(np.where(Solutionsmg418 == 'CsGluSel'))[0,-1]],Currentsmg418InuA[np.asarray(np.where(Solutionsmg418 == 'CsGluSel'))[0,-1]],color = (0.8, 0,0))\n",
    "ax4.scatter(VoltagesInmV[np.asarray(np.where(Solutionsmg418 == 'CsGluSel'))[0,-1]],Currentsmg418InuA[np.asarray(np.where(Solutionsmg418 == 'CsGluSel'))[0,-1]], color =(0.8, 0,0))      \n",
    "ax4.plot(VoltagesInmV[np.asarray(np.where(Solutionsmg418 == 'NmgGluSel'))[0,-1]],Currentsmg418InuA[np.asarray(np.where(Solutionsmg418 == 'NmgGluSel'))[0,-1]],color = (1, 0,0))\n",
    "ax4.scatter(VoltagesInmV[np.asarray(np.where(Solutionsmg418 == 'NmgGluSel'))[0,-1]],Currentsmg418InuA[np.asarray(np.where(Solutionsmg418 == 'NmgGluSel'))[0,-1]],color = (1, 0,0))      \n",
    "# Hide the right and top spines\n",
    "ax4.spines['right'].set_visible(False)\n",
    "ax4.spines['top'].set_visible(False)\n",
    "# Only show ticks on the left and bottom spines\n",
    "ax4.yaxis.set_ticks_position('left')\n",
    "ax4.xaxis.set_ticks_position('bottom')\n",
    "# Move left y-axis and bottim x-axis to centre, passing through (0,0)\n",
    "ax4.spines['left'].set_position('zero')\n",
    "ax4.spines['bottom'].set_position('zero')\n",
    "ax4.set_xlabel('V (mV)',fontsize=14)\n",
    "ax4.set_ylabel('I (µA)',fontsize=14)\n",
    "ax4.set_ylim([-2,2])\n",
    "ax4.set_xlim([-110,70])\n",
    "ax4.set_xticks([-100,-50,50])\n",
    "ax4.set_yticks([-2,-2,-1,1,2])\n",
    "ax4.xaxis.set_label_coords(0.85,0.39)\n",
    "ax4.yaxis.set_label_coords(0.77,0.93)\n",
    "ax4.tick_params(axis='both', which='major', labelsize=10)  \n",
    "ax4.text(-30, 2.3, 'DEGT-1d',color=colorDT1)\n",
    "ax4.legend(legendlabel,bbox_to_anchor=(0.4, 0.3, 0.11, 0.78),frameon=False)\n",
    "\n",
    "#bbox_to_anchor=(left, down, right, up)\n",
    "#ax4.legend(legendlabel,bbox_to_anchor=(0., 1.02, 1, .102))\n",
    "\n",
    "\n",
    "# ax5.set_ylim([-150, 150])\n",
    "# ax5.set_xlim([0, 1500])\n",
    "# ax5.spines['right'].set_visible(False)                                  # no spine at the right\n",
    "# ax5.spines['top'].set_visible(False)                                     # no spine at the top\n",
    "# ax5.yaxis.set_ticks_position('left')                                     # ticks at the left\n",
    "# ax5.xaxis.set_ticks_position('bottom')                                 # no spine at the right\n",
    "# ax5.spines['left'].set_position(('outward',10))                           # a spine at the left that is put a little aside\n",
    "# ax5.spines['bottom'].set_position(('outward',10))  \n",
    "# ax5.spines['top'].set_position(('axes',5)) \n",
    "# ax5.get_yaxis().set_tick_params(direction='in')\n",
    "# ax5.get_xaxis().set_tick_params(direction='in')\n",
    "# #ax1.plot([-1,20], [0,0] , 'k--', color='#000000', linewidth=1)#gray line for Zero or 1        \n",
    "# ax5.tick_params(axis='both', which='major', labelsize=12)  \n",
    "# #ax1.annotate('ramp',xy=(125, 300), xycoords='figure points')#FIGURE Poitns: default coordinates\n",
    "# ax5.set_yticks([-150,-85,0,150])\n",
    "# ax5.set_xticks([0,500, 1000, 1500])\n",
    "# ax5.set_xlabel('t (ms)',fontsize=14)\n",
    "# ax5.set_ylabel('V (mV)',fontsize=14)\n",
    "# #ax5.axvspan(75, 225, color='cyan', alpha=0.1)\n",
    "# #ax5.axvspan(390, 1300, color='red', alpha=0.1)\n",
    "\n",
    "\n",
    "#plt.gcf().subplots_adjust(bottom=0.3, left=0.25,hspace=0.75, wspace=0.1) \n",
    "plt.gcf().subplots_adjust(bottom=0.15, left=0.15,hspace=.3, wspace=0.3) \n",
    "#ax.legend(LegendsSolutions) #loc = 0 = best\n",
    "\n",
    "plt.savefig(filedir+\"Fig2-IVcurvesPerm\"+'.eps')\n",
    "plt.savefig(filedirManuscript+\"Fig2-IVcurvesPerm-DIFFCOLOR\"+'.pdf')\n",
    " \n",
    "\n",
    "plt.show()"
   ]
  },
  {
   "cell_type": "code",
   "execution_count": 58,
   "metadata": {},
   "outputs": [
    {
     "data": {
      "text/plain": [
       "(0.89, 0.11, 0.1)"
      ]
     },
     "execution_count": 58,
     "metadata": {},
     "output_type": "execute_result"
    }
   ],
   "source": [
    "colorDT1"
   ]
  },
  {
   "cell_type": "code",
   "execution_count": 47,
   "metadata": {},
   "outputs": [
    {
     "ename": "NameError",
     "evalue": "name 'LegendsSolutions' is not defined",
     "output_type": "error",
     "traceback": [
      "\u001b[0;31m---------------------------------------------------------------------------\u001b[0m",
      "\u001b[0;31mNameError\u001b[0m                                 Traceback (most recent call last)",
      "\u001b[0;32m<ipython-input-47-628e42c1f983>\u001b[0m in \u001b[0;36m<module>\u001b[0;34m\u001b[0m\n\u001b[0;32m----> 1\u001b[0;31m \u001b[0mresult\u001b[0m \u001b[0;34m=\u001b[0m \u001b[0mnp\u001b[0m\u001b[0;34m.\u001b[0m\u001b[0mwhere\u001b[0m\u001b[0;34m(\u001b[0m\u001b[0mLegendsSolutions\u001b[0m \u001b[0;34m==\u001b[0m \u001b[0;34m'NmgGluSel'\u001b[0m\u001b[0;34m)\u001b[0m\u001b[0;34m\u001b[0m\u001b[0;34m\u001b[0m\u001b[0m\n\u001b[0m\u001b[1;32m      2\u001b[0m \u001b[0;31m#print(result)\u001b[0m\u001b[0;34m\u001b[0m\u001b[0;34m\u001b[0m\u001b[0;34m\u001b[0m\u001b[0m\n\u001b[1;32m      3\u001b[0m \u001b[0mtype\u001b[0m\u001b[0;34m(\u001b[0m\u001b[0mresult\u001b[0m\u001b[0;34m)\u001b[0m\u001b[0;34m\u001b[0m\u001b[0;34m\u001b[0m\u001b[0m\n\u001b[1;32m      4\u001b[0m \u001b[0mtest\u001b[0m \u001b[0;34m=\u001b[0m \u001b[0mLegendsSolutions\u001b[0m\u001b[0;34m[\u001b[0m\u001b[0mresult\u001b[0m\u001b[0;34m]\u001b[0m\u001b[0;34m\u001b[0m\u001b[0;34m\u001b[0m\u001b[0m\n\u001b[1;32m      5\u001b[0m \u001b[0mtype\u001b[0m\u001b[0;34m(\u001b[0m\u001b[0mtest\u001b[0m\u001b[0;34m)\u001b[0m\u001b[0;34m\u001b[0m\u001b[0;34m\u001b[0m\u001b[0m\n",
      "\u001b[0;31mNameError\u001b[0m: name 'LegendsSolutions' is not defined"
     ]
    }
   ],
   "source": [
    "result = np.where(LegendsSolutions == 'NmgGluSel')\n",
    "#print(result)\n",
    "type(result)\n",
    "test = LegendsSolutions[result] \n",
    "type(test)\n",
    "print(test)\n",
    "result1 = list(result)"
   ]
  },
  {
   "cell_type": "code",
   "execution_count": null,
   "metadata": {},
   "outputs": [],
   "source": [
    "result2 = np.asarray(result)\n",
    "type(result2)\n",
    "result2.shape"
   ]
  },
  {
   "cell_type": "code",
   "execution_count": null,
   "metadata": {},
   "outputs": [],
   "source": [
    "CurrentsInuA[result2[0,-1]]\n",
    "#type(CurrentsInuA)\n",
    "\n"
   ]
  },
  {
   "cell_type": "code",
   "execution_count": null,
   "metadata": {},
   "outputs": [],
   "source": [
    "#result = np.asarray(np.where(LegendsSolutions == 'NmgGluSel'))[0,-1]\n",
    "#result2 = np.asarray(result)\n",
    "CurrentsInuA[np.asarray(np.where(LegendsSolutions == 'NmgGluSel'))[0,-1]]\n",
    "\n"
   ]
  },
  {
   "cell_type": "code",
   "execution_count": null,
   "metadata": {},
   "outputs": [],
   "source": [
    "M4label = ['Na', 'Li', 'K', 'Cs', 'NMG']"
   ]
  },
  {
   "cell_type": "code",
   "execution_count": null,
   "metadata": {},
   "outputs": [],
   "source": [
    "print(result)"
   ]
  },
  {
   "cell_type": "code",
   "execution_count": null,
   "metadata": {},
   "outputs": [],
   "source": []
  }
 ],
 "metadata": {
  "kernelspec": {
   "display_name": "Python 3",
   "language": "python",
   "name": "python3"
  },
  "language_info": {
   "codemirror_mode": {
    "name": "ipython",
    "version": 3
   },
   "file_extension": ".py",
   "mimetype": "text/x-python",
   "name": "python",
   "nbconvert_exporter": "python",
   "pygments_lexer": "ipython3",
   "version": "3.7.4"
  }
 },
 "nbformat": 4,
 "nbformat_minor": 2
}
