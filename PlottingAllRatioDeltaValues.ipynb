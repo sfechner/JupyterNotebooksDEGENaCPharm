{
 "cells": [
  {
   "cell_type": "code",
   "execution_count": 2,
   "metadata": {},
   "outputs": [
    {
     "name": "stderr",
     "output_type": "stream",
     "text": [
      "/Users/wormsenselab/anaconda3/envs/dabest/lib/python3.7/site-packages/matplotlib/__init__.py:1003: UserWarning: Duplicate key in file \"/Users/Fechner/.matplotlib/matplotlibrc\", line #3\n",
      "  (fname, cnt))\n",
      "/Users/wormsenselab/anaconda3/envs/dabest/lib/python3.7/site-packages/matplotlib/__init__.py:1003: UserWarning: Duplicate key in file \"/Users/Fechner/.matplotlib/matplotlibrc\", line #4\n",
      "  (fname, cnt))\n"
     ]
    }
   ],
   "source": [
    "from matplotlib import pyplot as plt\n",
    "import numpy as np\n",
    "%matplotlib inline\n",
    "from matplotlib import gridspec\n",
    "from matplotlib import rcParams\n",
    "from scipy.optimize import curve_fit\n",
    "import scipy.stats as stats\n",
    "from matplotlib import lines\n",
    "import seaborn as sns\n",
    "plt.rcParams['pdf.fonttype'] = 42 # to be able to change text in pdf opened with illustrator\n",
    "plt.rcParams['ps.fonttype'] = 42\n",
    "#import scipy.stats as stats\n",
    "from statsmodels.stats import multicomp \n",
    "from scipy import stats\n",
    "import dabest\n",
    "\n",
    "import pandas as pd\n",
    "import glob\n",
    "\n",
    "import tkinter as tk\n",
    "from tkinter import filedialog#to open dialog box to choose file\n",
    "from tkinter.filedialog import askopenfilename"
   ]
  },
  {
   "cell_type": "code",
   "execution_count": 3,
   "metadata": {},
   "outputs": [],
   "source": [
    "# Add heka_reader to PYTHONPATH\n",
    "import sys\n",
    "fpath = '/Users/Fechner/PythonStuff/heka_reader'\n",
    "sys.path.append(fpath)"
   ]
  },
  {
   "cell_type": "markdown",
   "metadata": {},
   "source": [
    "### switch to my directory and check if I am in the correct directory"
   ]
  },
  {
   "cell_type": "code",
   "execution_count": 4,
   "metadata": {},
   "outputs": [
    {
     "name": "stdout",
     "output_type": "stream",
     "text": [
      "/Users/Fechner/Box Sync/Fechner/TEVC-GoodmanlabBOX/Project-STFX/AnalysisSTFX/DrugResponse2019-30uM\n"
     ]
    }
   ],
   "source": [
    "cd ~/Box Sync/Fechner/TEVC-GoodmanlabBOX/Project-STFX/AnalysisSTFX/DrugResponse2019-30uM\n"
   ]
  },
  {
   "cell_type": "code",
   "execution_count": 5,
   "metadata": {
    "scrolled": true
   },
   "outputs": [
    {
     "data": {
      "text/plain": [
       "'/Users/Fechner/Box Sync/Fechner/TEVC-GoodmanlabBOX/Project-STFX/AnalysisSTFX/DrugResponse2019-30uM'"
      ]
     },
     "execution_count": 5,
     "metadata": {},
     "output_type": "execute_result"
    }
   ],
   "source": [
    "pwd"
   ]
  },
  {
   "cell_type": "markdown",
   "metadata": {},
   "source": [
    "### create a shortcut for my file directory where to save and the filename of the RATIO/DELTA data"
   ]
  },
  {
   "cell_type": "markdown",
   "metadata": {},
   "source": [
    "## Ratio plots are a result of the Matlab script TEVCAnalyzeLoopSTFX.m found on github analyzing mean values of 3 recordings for several conditions \n",
    "\n",
    "https://github.com/sfechner/AnalysisFunction/tree/master/TEVC"
   ]
  },
  {
   "cell_type": "code",
   "execution_count": 6,
   "metadata": {},
   "outputs": [],
   "source": [
    "filedir ='/Users/Fechner/Box Sync/Fechner/TEVC-GoodmanlabBOX/Project-STFX/AnalysisSTFX/DrugResponse2019-30uM/'\n",
    "filedirManuscript ='/Users/Fechner/Dropbox/ManuscriptFechnerPharmacology/Figures/ExportedFromNotebook/'\n",
    "filedirManuscriptStat ='/Users/Fechner/Dropbox/ManuscriptFechnerPharmacology/Statistics/'\n",
    "\n",
    "#CHANGE USER NAME ON PRIVATE LAPTOP TO Fechner or be more clever about the Filename\n",
    "\n",
    "#root = tk.Tk()\n",
    "#root.withdraw() not sure if necessary, description to avoid opening full gui\n",
    "\n",
    "#either choose a cetain file or open dialog box\n",
    "#certain file\n",
    "filename = 'AllRatioDrug-20200330.xlsx'\n",
    "#'AllRatioDrug-20200330.xlsx'\n",
    "#open dialog box\n",
    "#filename = filedialog.askopenfilename() #creates filename and directory. TODO: write conditional sentence\n",
    "#root.update() # necessary in Mac(?) to close the dialog box\n",
    "\n"
   ]
  },
  {
   "cell_type": "markdown",
   "metadata": {},
   "source": [
    "# ToDO\n",
    "\n",
    "- Analysis (Drug response)\n",
    "    - re-analyze the data from Isabel, because Matlab script was changed\n",
    "- DataSlicing\n",
    "    - how to reorder according to a list input \n",
    "   \n",
    "- plotting: \n",
    "    - how to make plot similar size. never end up exactly the same with holgers script\n",
    "    - how to plot several plots on the same plit\n",
    "    "
   ]
  },
  {
   "cell_type": "code",
   "execution_count": 7,
   "metadata": {},
   "outputs": [
    {
     "name": "stdout",
     "output_type": "stream",
     "text": [
      "AllRatioDrug-20200330.xlsx\n",
      "0        1.033787\n",
      "1        1.397592\n",
      "2        1.006062\n",
      "3        1.027657\n",
      "4        1.082456\n",
      "5        1.100123\n",
      "6        1.260092\n",
      "7        1.176013\n",
      "8        1.147461\n",
      "9        1.437354\n",
      "10       1.173107\n",
      "11       1.393110\n",
      "12       2.148813\n",
      "13       1.064669\n",
      "14       1.371188\n",
      "15       0.707641\n",
      "16       1.560379\n",
      "17       1.182957\n",
      "18       1.167505\n",
      "19       1.162672\n",
      "20       1.209578\n",
      "21       0.430102\n",
      "22       1.165151\n",
      "23       1.134414\n",
      "24       1.146924\n",
      "25       0.975063\n",
      "26       1.053971\n",
      "27       1.033856\n",
      "28       0.849882\n",
      "29       1.161686\n",
      "          ...    \n",
      "4242     1.060418\n",
      "4243     1.192081\n",
      "4244     1.583220\n",
      "4245     1.187767\n",
      "4246     1.066805\n",
      "4247     1.428136\n",
      "4248     1.991363\n",
      "4249     1.798107\n",
      "4250    -0.214631\n",
      "4251     1.048099\n",
      "4252     0.952697\n",
      "4253     1.086443\n",
      "4254     0.962278\n",
      "4255     0.818423\n",
      "4256     0.752474\n",
      "4257     0.973576\n",
      "4258     0.863233\n",
      "4259     1.066522\n",
      "4260     0.925522\n",
      "4261     1.974177\n",
      "4262     0.859437\n",
      "4263     0.869210\n",
      "4264     0.994250\n",
      "4265     0.866674\n",
      "4266     1.225148\n",
      "4267     0.767081\n",
      "4268     0.053623\n",
      "4269     1.591759\n",
      "4270    11.322050\n",
      "4271     7.197577\n",
      "Name: RATIO, Length: 4272, dtype: float64\n"
     ]
    }
   ],
   "source": [
    "#pandas environment\n",
    "print(filename)\n",
    "xl = pd.ExcelFile(filedir+filename)\n",
    "xl.sheet_names\n",
    "\n",
    "df = xl.parse(\"Sheet1\",converters={'CultivationSol': str,'RATIO':str,'VrevSTART':str}) #calls for Sheet names ,'RATIO': np.int64}\n",
    "\n",
    "df['RATIO'] = pd.to_numeric(df['RATIO'], errors='coerce')\n",
    "df['VrevSTART'] = pd.to_numeric(df['VrevSTART'], errors='coerce')\n",
    "\n",
    "df.head()\n",
    "\n",
    "print(df['RATIO'])\n"
   ]
  },
  {
   "cell_type": "code",
   "execution_count": 8,
   "metadata": {},
   "outputs": [],
   "source": [
    "# for elements in len(df[\"RATIO\"]):\n",
    "# float(df[\"RATIO\"][1])    "
   ]
  },
  {
   "cell_type": "code",
   "execution_count": null,
   "metadata": {},
   "outputs": [],
   "source": []
  },
  {
   "cell_type": "markdown",
   "metadata": {},
   "source": [
    "# Control/Inspection\n",
    "- check if there is a mistake in how I wrote the Inspection mix (if there are doubles)\n",
    "- same for the TestSol"
   ]
  },
  {
   "cell_type": "markdown",
   "metadata": {
    "scrolled": true
   },
   "source": [
    "df.pivot(columns='Injection', values='DELTA').describe().T #check data for which Injections have been used"
   ]
  },
  {
   "cell_type": "markdown",
   "metadata": {
    "scrolled": true
   },
   "source": [
    "df.pivot(columns='TestSol', values='DELTA').describe().T  #check if I was consistent with labeling solutions"
   ]
  },
  {
   "cell_type": "markdown",
   "metadata": {},
   "source": [
    "# color/hardcoded"
   ]
  },
  {
   "cell_type": "code",
   "execution_count": 9,
   "metadata": {},
   "outputs": [],
   "source": [
    "colors = [\"red\",\"blue\",(0.30, 0.69, 0.29),(0.00, 0.00, 0.00),(0.22, 0.49, 0.72),(1.00, 0.50, 0.00),\"darkgreen\",(0.30, 0.69, 0.29),(0.30, 0.69, 0.29),(0.6, 0.31, 0.64)]\n",
    "colorsSINGLES = [(0.30, 0.69, 0.29),(0.60, 0.31,0.64),(0.89, 0.11,0.10),(1, 0.50,0),(0.22,0.49,0.72),(0.00, 0.00, 0.00),\"red\",\"blue\",(0.00, 0.00, 0.00),(0.22, 0.49, 0.72),(1.00, 0.50, 0.00),\"darkgreen\",(0.30, 0.69, 0.29),(0.30, 0.69, 0.29),(0.6, 0.31, 0.64)]\n",
    "colorsPharma = [(0.30, 0.69, 0.29),(0.60, 0.31,0.64),(0.89, 0.11,0.10),(0.00, 0.00, 0.00),(0.22,0.49,0.72),(0.00, 0.00, 0.00),\"red\",\"blue\",(0.00, 0.00, 0.00),(0.22, 0.49, 0.72),(1.00, 0.50, 0.00),\"darkgreen\",(0.30, 0.69, 0.29),(0.30, 0.69, 0.29),(0.6, 0.31, 0.64)]\n",
    "colorsEST = [(0.00, 0.00, 0.00),(0.89, 0.11,0.10),(0.60, 0.31,0.64),(0.30, 0.69, 0.29),(1, 0.50,0),(0.22,0.49,0.72),(0.00, 0.00, 0.00),\"red\",\"blue\",(0.00, 0.00, 0.00),(0.22, 0.49, 0.72),(1.00, 0.50, 0.00)]\n",
    "colorsESTAll = [(0.00, 0.00, 0.00),(0.89, 0.11,0.10),(0.60, 0.31,0.64),(0.22, 0.49, 0.72),(1.00, 0.50, 0.00),(0.30, 0.69, 0.29),(1, 0.50,0),(0.22,0.49,0.72)]"
   ]
  },
  {
   "cell_type": "markdown",
   "metadata": {},
   "source": [
    "# common axis parameters for graph"
   ]
  },
  {
   "cell_type": "code",
   "execution_count": 10,
   "metadata": {},
   "outputs": [],
   "source": [
    "AxisTickLabelSize = 8\n",
    "AxisLabelSize = 10\n",
    "AxisLegendSize = 8\n",
    "SizeOfMarker = 3\n",
    "ErrorColor = 'red'"
   ]
  },
  {
   "cell_type": "markdown",
   "metadata": {},
   "source": [
    "### Figure 1\n",
    "MeanSTART Values of StartSol NaGlu1 with different single subunit Injections\n",
    "\n",
    "Vrev Values of StartSol NaGlu1 with different single subunit Injections"
   ]
  },
  {
   "cell_type": "markdown",
   "metadata": {},
   "source": [
    "# Re-arrange ALL data for Estimation plot according to MeanSTART and MeanTEST"
   ]
  },
  {
   "cell_type": "markdown",
   "metadata": {},
   "source": [
    "# Re-arrange ALL data for Estimation plot according to Vrev Start and  Vrev Test\n"
   ]
  },
  {
   "cell_type": "code",
   "execution_count": 11,
   "metadata": {},
   "outputs": [
    {
     "name": "stdout",
     "output_type": "stream",
     "text": [
      "['mg012', 'mg410mg012', 'mg410mg428mg012', 'mg410mg428mg427mg012', 'mg418', 'mg418mg012', 'mg418mg012mg512', 'mg419', 'mg419mg012', 'mg419mg012mg418', 'mg419mg012mg418mg512', 'mg419mg012mg512', 'mg427mg012', 'mg428mg012', 'mg512mg012', 'mg691', 'mg693', 'mg751mg012', 'mg757mg012', 'mg758mg012', 'pTL69mg012', 'pTL69pTL70mg512mg012', 'pTL70mg012', 'uninjected']\n"
     ]
    }
   ],
   "source": [
    "AllInjection =  pd.unique(df[\"Injection\"])\n",
    "#AllInjection =  ['uninjected']\n",
    "AllInjection = AllInjection.tolist()\n",
    "print(AllInjection)\n",
    "\n",
    "StartSolution = pd.unique(df[\"StartSol\"])\n",
    "StartSolution  = StartSolution.tolist()\n",
    "\n",
    "df_newVrev = pd.DataFrame()\n",
    "df_newVrevInmV =pd.DataFrame()\n",
    "results = {}\n",
    "\n",
    "for Solelement in StartSolution: \n",
    "    for element in AllInjection:\n",
    "        if df[(df.Injection.isin([element])) & (df.StartSol.isin([Solelement]))].empty == True:\n",
    "            #print('sdsdsd')\n",
    "            continue\n",
    "        else: \n",
    "            #print('sol presetn')\n",
    "            result = df[(df.Injection.isin([element])) & (df.StartSol.isin([Solelement]))]\n",
    "            results[element] = result\n",
    "            if len(results[element]) <= 2:\n",
    "#                 print(results[element][\"TestSol\"] + '+' + results[element][\"Injection\"] + ' has less or equal to 2 recordings')\n",
    "                continue\n",
    "            else:\n",
    "                df_newVrev = pd.concat([df_newVrev,results[element][\"VrevSTART\"].rename(element+\"-\"+Solelement)],sort=False, axis=1)\n",
    "            #print(len(results[element]))\n",
    "        \n",
    "df_newVrevInmV = df_newVrev.astype(float)\n",
    "#\n",
    "#print(df_newVrevInmV['mg419mg012-NaGlu1'])\n",
    "#print(df_newVrevInmV.head())\n",
    "\n",
    "\n",
    "\n"
   ]
  },
  {
   "cell_type": "code",
   "execution_count": 12,
   "metadata": {},
   "outputs": [],
   "source": [
    "#df_newVrevInmV.columns.values\n",
    "#df_newVrevInmV\n",
    "#display(list(df_newVrevInmV.columns.values) )\n"
   ]
  },
  {
   "cell_type": "markdown",
   "metadata": {},
   "source": [
    "# check type of data\n"
   ]
  },
  {
   "cell_type": "code",
   "execution_count": 13,
   "metadata": {
    "scrolled": true
   },
   "outputs": [
    {
     "data": {
      "image/png": "[encoded data removed]",
      "text/plain": [
       "<Figure size 432x288 with 1 Axes>"
      ]
     },
     "metadata": {
      "needs_background": "light"
     },
     "output_type": "display_data"
    }
   ],
   "source": [
    "plt.plot(df_newVrevInmV['uninjected-NaGlu1'],'o')\n",
    "plt.plot(df_newVrevInmV['mg418mg012-NaGlu1'],'o')\n",
    "plt.plot(df_newVrevInmV['mg419mg012-NaGlu1'],'o')\n",
    "plt.plot(df_newVrevInmV['pTL69mg012-NaGlu1'],'o')\n",
    "plt.show()"
   ]
  },
  {
   "cell_type": "code",
   "execution_count": 14,
   "metadata": {
    "scrolled": true
   },
   "outputs": [
    {
     "data": {
      "text/plain": [
       "DABEST v0.2.4\n",
       "=============\n",
       "             \n",
       "Good afternoon!\n",
       "The current time is Thu Dec 17 13:35:06 2020.\n",
       "\n",
       "Effect size(s) with 95% confidence intervals will be computed for:\n",
       "1. mg418mg012-NaGlu1 minus uninjected-NaGlu1\n",
       "\n",
       "5000 resamples will be used to generate the effect size bootstraps."
      ]
     },
     "execution_count": 14,
     "metadata": {},
     "output_type": "execute_result"
    }
   ],
   "source": [
    "shared_controlVrevTalk = dabest.load(df_newVrevInmV, idx=(\"uninjected-NaGlu1\",\"mg418mg012-NaGlu1\"))\n",
    "shared_controlVrevTalk\n"
   ]
  },
  {
   "cell_type": "code",
   "execution_count": 15,
   "metadata": {},
   "outputs": [],
   "source": [
    "#shared_controlVrevTalk.mean_diff()"
   ]
  },
  {
   "cell_type": "code",
   "execution_count": null,
   "metadata": {},
   "outputs": [],
   "source": []
  },
  {
   "cell_type": "code",
   "execution_count": 16,
   "metadata": {},
   "outputs": [],
   "source": [
    "colorsESTTalk = [(0.00, 0.00, 0.00),(0.89, 0.11,0.10),(0.60, 0.31,0.64),(0.30, 0.69, 0.29),(1, 0.50,0),(0.22,0.49,0.72)]"
   ]
  },
  {
   "cell_type": "code",
   "execution_count": 17,
   "metadata": {},
   "outputs": [],
   "source": [
    "# #change figure!!!!\n",
    "# #fig1 = plt.figure(figsize=(3.5, 3)) \n",
    "# #ax1 = plt.subplot(1,1,1)\n",
    "# #\n",
    "# plt.figure(figsize=(2.8, 5)) \n",
    "# #fig_size=(4, 5.5)\n",
    "# fig1= shared_controlVrevTalk.mean_diff.plot(swarm_ylim=(-100,50), contrast_ylim=(-60,60), custom_palette=colorsESTTalk,fig_size=(3,5),\n",
    "#                                      raw_marker_size=(2),es_marker_size=2,contrast_label= 'ΔV$_{rev}$ (mV)',\n",
    "#                                     swarm_label='reversal potential, V$_{rev}$ (mV)',reflines_kwargs = {'linestyle':'dashed', 'linewidth':0.75,\n",
    "#                                    'color':'red'})#,reflines_kwargs\n",
    "\n",
    "\n",
    "# fig1.axes[0].plot([-1,20], [0,0], 'k-', color='#000000', linestyle='--',linewidth=0.5)\n",
    "# #fig1.axes[1].plot([-1,20], [-1,-1], 'k--', color='#000000', linewidth=1)\n",
    "# fig1.axes[0].tick_params(axis='both', which='major', labelsize=AxisLegendSize)  \n",
    "# fig1.axes[1].tick_params(axis='both', which='major', labelsize=AxisLegendSize)  \n",
    "# #fig1 = plot([-1,20], [0,0])# , 'k--', color='#000000', linewidth=1)\n",
    "# #ax1.spines['left'].set_position(('outward',35))\n",
    "# fig1.axes[0].get_yaxis().set_tick_params(direction='in')\n",
    "# fig1.axes[1].get_yaxis().set_tick_params(direction='in')\n",
    "# fig1.axes[0].get_xaxis().set_tick_params(direction='in')\n",
    "# fig1.axes[1].get_xaxis().set_tick_params(direction='in')\n",
    "\n",
    "# labels = ['Uninj','DEGT-1d', 'UNC-8d', 'DEL-1d', 'MEC-10d','MEC-4d']\n",
    "# fig1.axes[0].set_xticklabels(labels, rotation=30, ha='right',fontsize=AxisLegendSize)\n",
    "# labels2 = ['','DEGT-1d', 'UNC-8d', 'DEL-1d', 'MEC-10d','MEC-4d']\n",
    "# fig1.axes[1].set_xticklabels(labels2, rotation=30, ha='right',fontsize=AxisLegendSize)\n",
    "\n",
    "# plt.gcf().subplots_adjust(bottom=0.1, left=0.25,right=None, top=None,hspace=2, wspace=0.2) \n",
    "# plt.savefig(filedir+\"Fig1-EstStat-NaGlu-MeanVrev\"+'.pdf')\n",
    "# #plt.savefig(filedir+\"Fig1-NaGlu-MeanStart\"+'.eps')\n",
    "# plt.savefig(filedirManuscript+\"Fig1-EstStat-NaGlu-MeanVrevTalk\"+'.pdf')\n",
    "\n",
    "\n"
   ]
  },
  {
   "cell_type": "markdown",
   "metadata": {},
   "source": [
    "## DELTA NaGlu1 single subunits\n",
    "\n",
    " separate data from individual injection groups for the first solution recorden = NaGlu1 into separate variables as \"Initial current\""
   ]
  },
  {
   "cell_type": "code",
   "execution_count": 18,
   "metadata": {
    "scrolled": true
   },
   "outputs": [
    {
     "data": {
      "text/plain": [
       "'/Users/Fechner/Box Sync/Fechner/TEVC-GoodmanlabBOX/Project-STFX/AnalysisSTFX/DrugResponse2019-30uM/'"
      ]
     },
     "execution_count": 18,
     "metadata": {},
     "output_type": "execute_result"
    }
   ],
   "source": [
    "filedir"
   ]
  },
  {
   "cell_type": "code",
   "execution_count": 19,
   "metadata": {},
   "outputs": [],
   "source": [
    "#Initial Current for statistics\n",
    "IniCurmg419 = df[(df.Injection.isin([\"mg419mg012\"])) & (df.StartSol.isin([\"NaGlu1\"]))]\n",
    "IniCurpTL69 = df[(df.Injection.isin([\"pTL69mg012\"])) & (df.StartSol.isin([\"NaGlu1\"]))]\n",
    "IniCurmg418 = df[(df.Injection.isin([\"mg418mg012\"])) & (df.StartSol.isin([\"NaGlu1\"]))]\n",
    "IniCurmgmg512 = df[(df.Injection.isin([\"mg512mg012\"])) & (df.StartSol.isin([\"NaGlu1\"]))]\n",
    "IniCurmgmgpTL70 = df[(df.Injection.isin([\"pTL70mg012\"])) & (df.StartSol.isin([\"NaGlu1\"]))]\n",
    "IniCurmgUninj = df[(df.Injection.isin([\"uninjected\"])) & (df.StartSol.isin([\"NaGlu1\"]))]\n",
    "IniCurmg012only = df[(df.Injection.isin([\"mg012\"])) & (df.StartSol.isin([\"NaGlu1\"]))]\n",
    "IniCurmg418only = df[(df.Injection.isin([\"mg418\"])) & (df.StartSol.isin([\"NaGlu1\"]))]\n",
    "\n",
    "IniCurmg419.to_csv(filedir+'IniCurmg419.csv', header=True, index=None, sep=',', mode='w')\n",
    "IniCurpTL69.to_csv(filedir+'IniCurpTL69.csv', header=True, index=None, sep=',', mode='w')\n",
    "IniCurmg418.to_csv(filedir+'IniCurmg418.csv', header=True, index=None, sep=',', mode='w')\n",
    "IniCurmgmg512.to_csv(filedir+'IniCurmgmg512.csv', header=True, index=None, sep=',', mode='w')\n",
    "IniCurmgmgpTL70.to_csv(filedir+'IniCurmgmgpTL70.csv', header=True, index=None, sep=',', mode='w')\n",
    "IniCurmgUninj.to_csv(filedir+'IniCurmgUninj.csv', header=True, index=None, sep=',', mode='w')\n",
    "\n",
    "#copy to MAnuscrit folder\n",
    "IniCurmg419.to_csv(filedirManuscriptStat+'Initial-Current-MEC4d.csv', header=True, index=None, sep=',', mode='w')\n",
    "IniCurpTL69.to_csv(filedirManuscriptStat+'Initial-Current-UNC8d.csv', header=True, index=None, sep=',', mode='w')\n",
    "IniCurmg418.to_csv(filedirManuscriptStat+'Initial-Current-DEGT1d.csv', header=True, index=None, sep=',', mode='w')\n",
    "IniCurmgmg512.to_csv(filedirManuscriptStat+'Initial-Current-MEC10d.csv', header=True, index=None, sep=',', mode='w')\n",
    "IniCurmgmgpTL70.to_csv(filedirManuscriptStat+'Initial-Current-DEL1d.csv', header=True, index=None, sep=',', mode='w')\n",
    "IniCurmgUninj.to_csv(filedirManuscriptStat+'Initial-Current-uninjected.csv', header=True, index=None, sep=',', mode='w')\n",
    "\n"
   ]
  },
  {
   "cell_type": "code",
   "execution_count": 20,
   "metadata": {},
   "outputs": [
    {
     "data": {
      "text/html": [
       "<div>\n",
       "<style scoped>\n",
       "    .dataframe tbody tr th:only-of-type {\n",
       "        vertical-align: middle;\n",
       "    }\n",
       "\n",
       "    .dataframe tbody tr th {\n",
       "        vertical-align: top;\n",
       "    }\n",
       "\n",
       "    .dataframe thead th {\n",
       "        text-align: right;\n",
       "    }\n",
       "</style>\n",
       "<table border=\"1\" class=\"dataframe\">\n",
       "  <thead>\n",
       "    <tr style=\"text-align: right;\">\n",
       "      <th></th>\n",
       "      <th>count</th>\n",
       "      <th>mean</th>\n",
       "      <th>std</th>\n",
       "      <th>min</th>\n",
       "      <th>25%</th>\n",
       "      <th>50%</th>\n",
       "      <th>75%</th>\n",
       "      <th>max</th>\n",
       "    </tr>\n",
       "    <tr>\n",
       "      <th>Injection</th>\n",
       "      <th></th>\n",
       "      <th></th>\n",
       "      <th></th>\n",
       "      <th></th>\n",
       "      <th></th>\n",
       "      <th></th>\n",
       "      <th></th>\n",
       "      <th></th>\n",
       "    </tr>\n",
       "  </thead>\n",
       "  <tbody>\n",
       "    <tr>\n",
       "      <th>mg418</th>\n",
       "      <td>15.0</td>\n",
       "      <td>2.845738e-08</td>\n",
       "      <td>4.908766e-08</td>\n",
       "      <td>-2.554029e-08</td>\n",
       "      <td>-4.178972e-09</td>\n",
       "      <td>1.359890e-08</td>\n",
       "      <td>4.429406e-08</td>\n",
       "      <td>1.471085e-07</td>\n",
       "    </tr>\n",
       "  </tbody>\n",
       "</table>\n",
       "</div>"
      ],
      "text/plain": [
       "           count          mean           std           min           25%  \\\n",
       "Injection                                                                  \n",
       "mg418       15.0  2.845738e-08  4.908766e-08 -2.554029e-08 -4.178972e-09   \n",
       "\n",
       "                    50%           75%           max  \n",
       "Injection                                            \n",
       "mg418      1.359890e-08  4.429406e-08  1.471085e-07  "
      ]
     },
     "execution_count": 20,
     "metadata": {},
     "output_type": "execute_result"
    }
   ],
   "source": [
    "###  control to get quick count of cells etc... \n",
    "\n",
    "IniCurmg418only.pivot(columns='Injection', values='DELTA').describe().T"
   ]
  },
  {
   "cell_type": "markdown",
   "metadata": {},
   "source": [
    "## plot for Initial current of individual injections. This version of plot is not in the manuscript"
   ]
  },
  {
   "cell_type": "code",
   "execution_count": 21,
   "metadata": {
    "scrolled": true
   },
   "outputs": [
    {
     "data": {
      "image/png": "[encoded data removed]",
      "text/plain": [
       "<Figure size 252x216 with 1 Axes>"
      ]
     },
     "metadata": {
      "needs_background": "light"
     },
     "output_type": "display_data"
    }
   ],
   "source": [
    "#Plot1\n",
    "fig = plt.figure(figsize=(3.5, 3)) \n",
    "ax1 = plt.subplot(1,1,1)\n",
    "\n",
    "InitialCurrent = df[(df.Injection.isin([\"mg419mg012\",\"pTL69mg012\",\"mg418mg012\",\"mg512mg012\",\"pTL70mg012\",\"uninjected\",\"mg418\",\"mg012\"])) & (df.StartSol.isin([\"NaGlu1\"]))] #& (df.TestSol.isin(\"NaGluAmil30\"))] #WORKS !!!\n",
    "\n",
    "InitialCurrent.to_csv(filedir+'InitialCurrent.csv', header=True, sep=',', mode='a')\n",
    "InitialCurrent.to_csv(filedirManuscriptStat+'InitialCurrent.csv', header=True, index=None, sep=',', mode='w')\n",
    "\n",
    "\n",
    "#plot 300 uM\n",
    "#,order=[\"NaGluAmil30\",\"NaGluBmil30\",\"NaGluEipa30\", \"NaGluPhen30\", \"NaGluBzd30\",\"NaGluDiclo30\", \"NaGluIbu30\",\"NaGluGMQ30\"]\n",
    "\n",
    "#plot 30 uM Amil\n",
    "#sns.swarmplot(x = InitialCurrent['Injection'], y = InitialCurrent['MeanSTART']*1000000 , data = InitialCurrent,palette=sns.color_palette(colors), edgecolor='white', linewidth=0.5, size = 8,ax=ax1, order=np.unique(InitialCurrent['Injection']))\n",
    "sns.swarmplot(x = InitialCurrent['Injection'], y = InitialCurrent['MeanSTART']*1000000 , data = InitialCurrent,palette=sns.color_palette(colorsSINGLES), edgecolor='white', linewidth=0.5, size = 3,ax=ax1, order=[\"mg419mg012\",\"pTL69mg012\",\"mg418mg012\",\"mg512mg012\",\"pTL70mg012\",\"uninjected\"])\n",
    "sns.boxplot(x = InitialCurrent['Injection'], y = InitialCurrent['MeanSTART']*1000000 , data = InitialCurrent, palette=sns.color_palette(colorsSINGLES),ax=ax1,order=[\"mg419mg012\",\"pTL69mg012\",\"mg418mg012\",\"mg512mg012\",\"pTL70mg012\",\"uninjected\"])\n",
    "##### AXIS 1 ####\n",
    "#ax1.set_ylim([-50, 1])\n",
    "ax1.set_ylim([-40, 0.1])\n",
    "ax1.spines['right'].set_visible(False)                                  # no spine at the right\n",
    "ax1.spines['top'].set_visible(False)                                     # no spine at the top\n",
    "ax1.yaxis.set_ticks_position('left')                                     # ticks at the left\n",
    "ax1.xaxis.set_ticks_position('bottom')                                 # no spine at the right\n",
    "ax1.spines['left'].set_position(('outward',15))                           # a spine at the left that is put a little aside\n",
    "ax1.spines['bottom'].set_position(('outward',10))  \n",
    "ax1.spines['top'].set_position(('axes',5)) \n",
    "ax1.get_yaxis().set_tick_params(direction='in')\n",
    "ax1.get_xaxis().set_tick_params(direction='in')\n",
    "ax1.plot([-1,20], [0,0] , 'k--', color='#000000', linewidth=1)#gray line for Zero or 1        \n",
    "ax1.tick_params(axis='both', which='major', labelsize=10)  \n",
    "#ax1.set_title('bla',size=18)\n",
    "ax1.set_xticklabels([\"mg419mg012\",\"pTL69mg012\",\"mg418mg012\",\"mg512mg012\",\"pTL70mg012\",\"uninjected\"],rotation=30)\n",
    "ax1.spines['bottom'].set_visible(False) \n",
    "ax1.xaxis.set_visible(False)\n",
    "\n",
    "plt.ylabel('Current @-85 mV (µA)', fontsize=AxisLabelSize) \n",
    "plt.xlabel('DEG/ENaC/ASIC subunits', fontsize=AxisLabelSize)\n",
    "plt.gcf().subplots_adjust(bottom=0.3, left=0.3)\n",
    "plt.savefig(filedir+\"Fig1-NaGlu-MeanStart\"+'.pdf')\n",
    "#plt.savefig(filedir+\"Fig1-NaGlu-MeanStart\"+'.eps')\n",
    "plt.savefig(filedirManuscript+\"Fig1-NaGlu-MeanStart\"+'.pdf')\n",
    "plt.show()"
   ]
  },
  {
   "cell_type": "code",
   "execution_count": 22,
   "metadata": {},
   "outputs": [
    {
     "data": {
      "text/html": [
       "<div>\n",
       "<style scoped>\n",
       "    .dataframe tbody tr th:only-of-type {\n",
       "        vertical-align: middle;\n",
       "    }\n",
       "\n",
       "    .dataframe tbody tr th {\n",
       "        vertical-align: top;\n",
       "    }\n",
       "\n",
       "    .dataframe thead th {\n",
       "        text-align: right;\n",
       "    }\n",
       "</style>\n",
       "<table border=\"1\" class=\"dataframe\">\n",
       "  <thead>\n",
       "    <tr style=\"text-align: right;\">\n",
       "      <th></th>\n",
       "      <th>CellIDRec</th>\n",
       "      <th>Injection</th>\n",
       "      <th>CultivationSol</th>\n",
       "      <th>DaysPostInj</th>\n",
       "      <th>Rating</th>\n",
       "      <th>StartSol</th>\n",
       "      <th>TestSol</th>\n",
       "      <th>MeanSTART</th>\n",
       "      <th>MeanTEST</th>\n",
       "      <th>DELTA</th>\n",
       "      <th>RATIO</th>\n",
       "      <th>VrevSTART</th>\n",
       "      <th>VrevTEST</th>\n",
       "      <th>DELTAVrev</th>\n",
       "      <th>copyCELL</th>\n",
       "      <th>RestingVM</th>\n",
       "    </tr>\n",
       "  </thead>\n",
       "  <tbody>\n",
       "    <tr>\n",
       "      <th>0</th>\n",
       "      <td>STFX103004</td>\n",
       "      <td>mg012</td>\n",
       "      <td>L-15(300Amil)</td>\n",
       "      <td>4</td>\n",
       "      <td>2.5</td>\n",
       "      <td>NaGluAmil300</td>\n",
       "      <td>NaGlu2</td>\n",
       "      <td>-2.122042e-07</td>\n",
       "      <td>-2.193738e-07</td>\n",
       "      <td>-7.169659e-09</td>\n",
       "      <td>1.033787</td>\n",
       "      <td>-0.042497</td>\n",
       "      <td>-0.041392</td>\n",
       "      <td>0.001106</td>\n",
       "      <td>STFX103004</td>\n",
       "      <td>-5.4</td>\n",
       "    </tr>\n",
       "    <tr>\n",
       "      <th>1</th>\n",
       "      <td>STFX104027</td>\n",
       "      <td>mg012</td>\n",
       "      <td>L-15(300Amil)</td>\n",
       "      <td>6</td>\n",
       "      <td>2.0</td>\n",
       "      <td>NaGluAmil300</td>\n",
       "      <td>NaGlu2</td>\n",
       "      <td>-1.870089e-07</td>\n",
       "      <td>-2.613622e-07</td>\n",
       "      <td>-7.435325e-08</td>\n",
       "      <td>1.397592</td>\n",
       "      <td>-0.045129</td>\n",
       "      <td>-0.035311</td>\n",
       "      <td>0.009818</td>\n",
       "      <td>STFX104027</td>\n",
       "      <td>-5.4</td>\n",
       "    </tr>\n",
       "    <tr>\n",
       "      <th>2</th>\n",
       "      <td>STFX103022</td>\n",
       "      <td>mg012</td>\n",
       "      <td>L-15(300Amil)</td>\n",
       "      <td>5</td>\n",
       "      <td>3.0</td>\n",
       "      <td>NaGluAmil300</td>\n",
       "      <td>NaGlu2</td>\n",
       "      <td>-1.819118e-07</td>\n",
       "      <td>-1.830145e-07</td>\n",
       "      <td>-1.102670e-09</td>\n",
       "      <td>1.006062</td>\n",
       "      <td>-0.047429</td>\n",
       "      <td>-0.048975</td>\n",
       "      <td>-0.001546</td>\n",
       "      <td>STFX103022</td>\n",
       "      <td>-5.4</td>\n",
       "    </tr>\n",
       "    <tr>\n",
       "      <th>3</th>\n",
       "      <td>STFX103035</td>\n",
       "      <td>mg012</td>\n",
       "      <td>L-15(300Amil)</td>\n",
       "      <td>6</td>\n",
       "      <td>3.0</td>\n",
       "      <td>NaGluAmil300</td>\n",
       "      <td>NaGlu2</td>\n",
       "      <td>-1.354247e-07</td>\n",
       "      <td>-1.391701e-07</td>\n",
       "      <td>-3.745396e-09</td>\n",
       "      <td>1.027657</td>\n",
       "      <td>-0.062758</td>\n",
       "      <td>-0.062891</td>\n",
       "      <td>-0.000133</td>\n",
       "      <td>STFX103035</td>\n",
       "      <td>-7.7</td>\n",
       "    </tr>\n",
       "    <tr>\n",
       "      <th>4</th>\n",
       "      <td>STFX103040</td>\n",
       "      <td>mg012</td>\n",
       "      <td>L-15(300Amil)</td>\n",
       "      <td>6</td>\n",
       "      <td>2.0</td>\n",
       "      <td>NaGluAmil300</td>\n",
       "      <td>NaGlu2</td>\n",
       "      <td>-1.041255e-07</td>\n",
       "      <td>-1.127112e-07</td>\n",
       "      <td>-8.585737e-09</td>\n",
       "      <td>1.082456</td>\n",
       "      <td>-0.034900</td>\n",
       "      <td>-0.033720</td>\n",
       "      <td>0.001180</td>\n",
       "      <td>STFX103040</td>\n",
       "      <td>-5.4</td>\n",
       "    </tr>\n",
       "  </tbody>\n",
       "</table>\n",
       "</div>"
      ],
      "text/plain": [
       "    CellIDRec Injection CultivationSol  DaysPostInj  Rating      StartSol  \\\n",
       "0  STFX103004     mg012  L-15(300Amil)            4     2.5  NaGluAmil300   \n",
       "1  STFX104027     mg012  L-15(300Amil)            6     2.0  NaGluAmil300   \n",
       "2  STFX103022     mg012  L-15(300Amil)            5     3.0  NaGluAmil300   \n",
       "3  STFX103035     mg012  L-15(300Amil)            6     3.0  NaGluAmil300   \n",
       "4  STFX103040     mg012  L-15(300Amil)            6     2.0  NaGluAmil300   \n",
       "\n",
       "  TestSol     MeanSTART      MeanTEST         DELTA     RATIO  VrevSTART  \\\n",
       "0  NaGlu2 -2.122042e-07 -2.193738e-07 -7.169659e-09  1.033787  -0.042497   \n",
       "1  NaGlu2 -1.870089e-07 -2.613622e-07 -7.435325e-08  1.397592  -0.045129   \n",
       "2  NaGlu2 -1.819118e-07 -1.830145e-07 -1.102670e-09  1.006062  -0.047429   \n",
       "3  NaGlu2 -1.354247e-07 -1.391701e-07 -3.745396e-09  1.027657  -0.062758   \n",
       "4  NaGlu2 -1.041255e-07 -1.127112e-07 -8.585737e-09  1.082456  -0.034900   \n",
       "\n",
       "   VrevTEST  DELTAVrev    copyCELL  RestingVM  \n",
       "0 -0.041392   0.001106  STFX103004       -5.4  \n",
       "1 -0.035311   0.009818  STFX104027       -5.4  \n",
       "2 -0.048975  -0.001546  STFX103022       -5.4  \n",
       "3 -0.062891  -0.000133  STFX103035       -7.7  \n",
       "4 -0.033720   0.001180  STFX103040       -5.4  "
      ]
     },
     "execution_count": 22,
     "metadata": {},
     "output_type": "execute_result"
    }
   ],
   "source": [
    "df.head()"
   ]
  },
  {
   "cell_type": "code",
   "execution_count": 23,
   "metadata": {},
   "outputs": [
    {
     "data": {
      "image/png": "[encoded data removed]",
      "text/plain": [
       "<Figure size 252x216 with 1 Axes>"
      ]
     },
     "metadata": {
      "needs_background": "light"
     },
     "output_type": "display_data"
    }
   ],
   "source": [
    "#Plot1\n",
    "fig = plt.figure(figsize=(3.5, 3)) \n",
    "ax1 = plt.subplot(1,1,1)\n",
    "\n",
    "InitialCurrent = df[(df.Injection.isin([\"mg419mg012\",\"pTL69mg012\",\"mg418mg012\",\"mg512mg012\",\"pTL70mg012\",\"uninjected\",\"mg418\",\"mg012\"])) & (df.StartSol.isin([\"NaGlu1\"]))] #& (df.TestSol.isin(\"NaGluAmil30\"))] #WORKS !!!\n",
    "\n",
    "InitialCurrent.to_csv(filedir+'InitialCurrent.csv', header=True, sep=',', mode='a')\n",
    "InitialCurrent.to_csv(filedirManuscriptStat+'InitialCurrent.csv', header=True, index=None, sep=',', mode='w')\n",
    "\n",
    "\n",
    "#plot 300 uM\n",
    "#,order=[\"NaGluAmil30\",\"NaGluBmil30\",\"NaGluEipa30\", \"NaGluPhen30\", \"NaGluBzd30\",\"NaGluDiclo30\", \"NaGluIbu30\",\"NaGluGMQ30\"]\n",
    "\n",
    "#plot 30 uM Amil\n",
    "#sns.swarmplot(x = InitialCurrent['Injection'], y = InitialCurrent['MeanSTART']*1000000 , data = InitialCurrent,palette=sns.color_palette(colors), edgecolor='white', linewidth=0.5, size = 8,ax=ax1, order=np.unique(InitialCurrent['Injection']))\n",
    "sns.swarmplot(x = InitialCurrent['Injection'], y = InitialCurrent['VrevSTART']*1000 , data = InitialCurrent,palette=sns.color_palette(colorsSINGLES), edgecolor='white', linewidth=0.5, size = 3,ax=ax1, order=[\"mg419mg012\",\"pTL69mg012\",\"mg418mg012\",\"mg512mg012\",\"pTL70mg012\",\"uninjected\"])\n",
    "sns.boxplot(x = InitialCurrent['Injection'], y = InitialCurrent['VrevSTART']*1000 , data = InitialCurrent, palette=sns.color_palette(colorsSINGLES),ax=ax1,order=[\"mg419mg012\",\"pTL69mg012\",\"mg418mg012\",\"mg512mg012\",\"pTL70mg012\",\"uninjected\"])\n",
    "##### AXIS 1 ####\n",
    "#ax1.set_ylim([-50, 1])\n",
    "ax1.set_ylim([-150, 0.1])\n",
    "ax1.spines['right'].set_visible(False)                                  # no spine at the right\n",
    "ax1.spines['top'].set_visible(False)                                     # no spine at the top\n",
    "ax1.yaxis.set_ticks_position('left')                                     # ticks at the left\n",
    "ax1.xaxis.set_ticks_position('bottom')                                 # no spine at the right\n",
    "ax1.spines['left'].set_position(('outward',15))                           # a spine at the left that is put a little aside\n",
    "ax1.spines['bottom'].set_position(('outward',10))  \n",
    "ax1.spines['top'].set_position(('axes',5)) \n",
    "ax1.get_yaxis().set_tick_params(direction='in')\n",
    "ax1.get_xaxis().set_tick_params(direction='in')\n",
    "ax1.plot([-1,20], [0,0] , 'k--', color='#000000', linewidth=1)#gray line for Zero or 1        \n",
    "ax1.tick_params(axis='both', which='major', labelsize=10)  \n",
    "#ax1.set_title('bla',size=18)\n",
    "ax1.set_xticklabels([\"mg419mg012\",\"pTL69mg012\",\"mg418mg012\",\"mg512mg012\",\"pTL70mg012\",\"uninjected\"],rotation=30)\n",
    "ax1.spines['bottom'].set_visible(False) \n",
    "ax1.xaxis.set_visible(False)\n",
    "\n",
    "plt.ylabel('Current @-85 mV (µA)', fontsize=AxisLabelSize) \n",
    "plt.xlabel('DEG/ENaC/ASIC subunits', fontsize=AxisLabelSize)\n",
    "plt.gcf().subplots_adjust(bottom=0.3, left=0.3)\n",
    "plt.savefig(filedir+\"Fig1-NaGlu-MeanStart\"+'.pdf')\n",
    "#plt.savefig(filedir+\"Fig1-NaGlu-MeanStart\"+'.eps')\n",
    "plt.savefig(filedirManuscript+\"Fig1-NaGlu-Vrev\"+'.pdf')\n",
    "plt.show()"
   ]
  },
  {
   "cell_type": "markdown",
   "metadata": {},
   "source": [
    "## plotting initial current data with as estimation statistics plot"
   ]
  },
  {
   "cell_type": "code",
   "execution_count": 24,
   "metadata": {},
   "outputs": [],
   "source": [
    "Img419Naglu = InitialCurrent.loc[InitialCurrent['Injection'] == 'mg419mg012',['MeanSTART']] #returns a data frame \n",
    "Img419Naglu.columns = ['M4d']\n",
    "Img418Naglu = InitialCurrent.loc[InitialCurrent['Injection'] == 'mg418mg012',['MeanSTART']] #returns a data frame \n",
    "Img418Naglu.columns = ['DT1d']\n",
    "IpTL69Naglu = InitialCurrent.loc[InitialCurrent['Injection'] == 'pTL69mg012',['MeanSTART']] #returns a data frame \n",
    "IpTL69Naglu.columns = ['U8d']\n",
    "IuninjNaglu = InitialCurrent.loc[InitialCurrent['Injection'] == 'uninjected',['MeanSTART']] #returns a data frame \n",
    "IuninjNaglu.columns = ['Uninj']\n",
    "Img512Naglu = InitialCurrent.loc[InitialCurrent['Injection'] == 'mg512mg012',['MeanSTART']] #returns a data frame \n",
    "Img512Naglu.columns = ['M10d']\n",
    "IpTL70Naglu = InitialCurrent.loc[InitialCurrent['Injection'] == 'pTL70mg012',['MeanSTART']] #returns a data frame \n",
    "IpTL70Naglu.columns = ['Del1d']\n",
    "Img418AloneNaglu = InitialCurrent.loc[InitialCurrent['Injection'] == 'mg418',['MeanSTART']] #returns a data frame \n",
    "Img418AloneNaglu.columns = ['DEGT1alone']\n",
    "Img012AloneNaglu = InitialCurrent.loc[InitialCurrent['Injection'] == 'mg012',['MeanSTART']] #returns a data frame \n",
    "Img012AloneNaglu.columns = ['M2alone']"
   ]
  },
  {
   "cell_type": "code",
   "execution_count": 25,
   "metadata": {},
   "outputs": [],
   "source": [
    "\n",
    "#plt.show()"
   ]
  },
  {
   "cell_type": "code",
   "execution_count": 26,
   "metadata": {},
   "outputs": [
    {
     "data": {
      "text/html": [
       "<div>\n",
       "<style scoped>\n",
       "    .dataframe tbody tr th:only-of-type {\n",
       "        vertical-align: middle;\n",
       "    }\n",
       "\n",
       "    .dataframe tbody tr th {\n",
       "        vertical-align: top;\n",
       "    }\n",
       "\n",
       "    .dataframe thead th {\n",
       "        text-align: right;\n",
       "    }\n",
       "</style>\n",
       "<table border=\"1\" class=\"dataframe\">\n",
       "  <thead>\n",
       "    <tr style=\"text-align: right;\">\n",
       "      <th></th>\n",
       "      <th>Uninj</th>\n",
       "    </tr>\n",
       "  </thead>\n",
       "  <tbody>\n",
       "    <tr>\n",
       "      <th>3158</th>\n",
       "      <td>-1.792342e-07</td>\n",
       "    </tr>\n",
       "    <tr>\n",
       "      <th>3582</th>\n",
       "      <td>-3.970221e-08</td>\n",
       "    </tr>\n",
       "    <tr>\n",
       "      <th>3679</th>\n",
       "      <td>-2.379636e-07</td>\n",
       "    </tr>\n",
       "    <tr>\n",
       "      <th>3683</th>\n",
       "      <td>-1.640000e-07</td>\n",
       "    </tr>\n",
       "    <tr>\n",
       "      <th>3696</th>\n",
       "      <td>-4.615499e-08</td>\n",
       "    </tr>\n",
       "    <tr>\n",
       "      <th>3705</th>\n",
       "      <td>-2.536767e-08</td>\n",
       "    </tr>\n",
       "    <tr>\n",
       "      <th>3707</th>\n",
       "      <td>-2.114284e-08</td>\n",
       "    </tr>\n",
       "    <tr>\n",
       "      <th>3711</th>\n",
       "      <td>-9.479853e-09</td>\n",
       "    </tr>\n",
       "    <tr>\n",
       "      <th>3712</th>\n",
       "      <td>-1.996223e-09</td>\n",
       "    </tr>\n",
       "    <tr>\n",
       "      <th>3742</th>\n",
       "      <td>-2.066367e-08</td>\n",
       "    </tr>\n",
       "    <tr>\n",
       "      <th>3743</th>\n",
       "      <td>-1.885348e-08</td>\n",
       "    </tr>\n",
       "    <tr>\n",
       "      <th>3757</th>\n",
       "      <td>-4.830369e-07</td>\n",
       "    </tr>\n",
       "    <tr>\n",
       "      <th>3758</th>\n",
       "      <td>-4.510405e-07</td>\n",
       "    </tr>\n",
       "    <tr>\n",
       "      <th>3759</th>\n",
       "      <td>-3.312568e-07</td>\n",
       "    </tr>\n",
       "    <tr>\n",
       "      <th>3761</th>\n",
       "      <td>-2.774757e-07</td>\n",
       "    </tr>\n",
       "    <tr>\n",
       "      <th>3762</th>\n",
       "      <td>-2.668174e-07</td>\n",
       "    </tr>\n",
       "    <tr>\n",
       "      <th>3763</th>\n",
       "      <td>-2.244528e-07</td>\n",
       "    </tr>\n",
       "    <tr>\n",
       "      <th>3764</th>\n",
       "      <td>-2.197651e-07</td>\n",
       "    </tr>\n",
       "    <tr>\n",
       "      <th>3765</th>\n",
       "      <td>-2.152411e-07</td>\n",
       "    </tr>\n",
       "    <tr>\n",
       "      <th>3766</th>\n",
       "      <td>-1.959498e-07</td>\n",
       "    </tr>\n",
       "    <tr>\n",
       "      <th>3767</th>\n",
       "      <td>-1.954227e-07</td>\n",
       "    </tr>\n",
       "    <tr>\n",
       "      <th>3768</th>\n",
       "      <td>-1.823887e-07</td>\n",
       "    </tr>\n",
       "    <tr>\n",
       "      <th>3769</th>\n",
       "      <td>-1.696293e-07</td>\n",
       "    </tr>\n",
       "    <tr>\n",
       "      <th>3774</th>\n",
       "      <td>-1.272486e-07</td>\n",
       "    </tr>\n",
       "    <tr>\n",
       "      <th>3776</th>\n",
       "      <td>-7.323728e-08</td>\n",
       "    </tr>\n",
       "    <tr>\n",
       "      <th>3777</th>\n",
       "      <td>-6.307102e-08</td>\n",
       "    </tr>\n",
       "    <tr>\n",
       "      <th>3778</th>\n",
       "      <td>-6.225898e-08</td>\n",
       "    </tr>\n",
       "    <tr>\n",
       "      <th>3779</th>\n",
       "      <td>-6.008017e-08</td>\n",
       "    </tr>\n",
       "    <tr>\n",
       "      <th>3782</th>\n",
       "      <td>-5.423435e-08</td>\n",
       "    </tr>\n",
       "    <tr>\n",
       "      <th>3783</th>\n",
       "      <td>-4.848089e-08</td>\n",
       "    </tr>\n",
       "    <tr>\n",
       "      <th>...</th>\n",
       "      <td>...</td>\n",
       "    </tr>\n",
       "    <tr>\n",
       "      <th>4150</th>\n",
       "      <td>-1.640000e-07</td>\n",
       "    </tr>\n",
       "    <tr>\n",
       "      <th>4151</th>\n",
       "      <td>-1.554068e-07</td>\n",
       "    </tr>\n",
       "    <tr>\n",
       "      <th>4152</th>\n",
       "      <td>-1.453427e-07</td>\n",
       "    </tr>\n",
       "    <tr>\n",
       "      <th>4153</th>\n",
       "      <td>-1.245500e-07</td>\n",
       "    </tr>\n",
       "    <tr>\n",
       "      <th>4154</th>\n",
       "      <td>-1.168000e-07</td>\n",
       "    </tr>\n",
       "    <tr>\n",
       "      <th>4155</th>\n",
       "      <td>-1.120000e-07</td>\n",
       "    </tr>\n",
       "    <tr>\n",
       "      <th>4156</th>\n",
       "      <td>-1.100000e-07</td>\n",
       "    </tr>\n",
       "    <tr>\n",
       "      <th>4158</th>\n",
       "      <td>-1.018528e-07</td>\n",
       "    </tr>\n",
       "    <tr>\n",
       "      <th>4159</th>\n",
       "      <td>-8.040179e-08</td>\n",
       "    </tr>\n",
       "    <tr>\n",
       "      <th>4160</th>\n",
       "      <td>-7.009215e-08</td>\n",
       "    </tr>\n",
       "    <tr>\n",
       "      <th>4161</th>\n",
       "      <td>-5.770318e-08</td>\n",
       "    </tr>\n",
       "    <tr>\n",
       "      <th>4162</th>\n",
       "      <td>-5.730203e-08</td>\n",
       "    </tr>\n",
       "    <tr>\n",
       "      <th>4163</th>\n",
       "      <td>-5.075311e-08</td>\n",
       "    </tr>\n",
       "    <tr>\n",
       "      <th>4164</th>\n",
       "      <td>-4.730804e-08</td>\n",
       "    </tr>\n",
       "    <tr>\n",
       "      <th>4165</th>\n",
       "      <td>-3.820000e-08</td>\n",
       "    </tr>\n",
       "    <tr>\n",
       "      <th>4166</th>\n",
       "      <td>-3.784530e-08</td>\n",
       "    </tr>\n",
       "    <tr>\n",
       "      <th>4167</th>\n",
       "      <td>-3.478571e-08</td>\n",
       "    </tr>\n",
       "    <tr>\n",
       "      <th>4168</th>\n",
       "      <td>-2.850000e-08</td>\n",
       "    </tr>\n",
       "    <tr>\n",
       "      <th>4169</th>\n",
       "      <td>-2.791209e-08</td>\n",
       "    </tr>\n",
       "    <tr>\n",
       "      <th>4170</th>\n",
       "      <td>-2.230041e-08</td>\n",
       "    </tr>\n",
       "    <tr>\n",
       "      <th>4171</th>\n",
       "      <td>-1.781308e-08</td>\n",
       "    </tr>\n",
       "    <tr>\n",
       "      <th>4172</th>\n",
       "      <td>5.080000e-09</td>\n",
       "    </tr>\n",
       "    <tr>\n",
       "      <th>4173</th>\n",
       "      <td>1.670000e-08</td>\n",
       "    </tr>\n",
       "    <tr>\n",
       "      <th>4174</th>\n",
       "      <td>-2.720092e-07</td>\n",
       "    </tr>\n",
       "    <tr>\n",
       "      <th>4176</th>\n",
       "      <td>-2.487592e-07</td>\n",
       "    </tr>\n",
       "    <tr>\n",
       "      <th>4179</th>\n",
       "      <td>-2.002863e-07</td>\n",
       "    </tr>\n",
       "    <tr>\n",
       "      <th>4193</th>\n",
       "      <td>-2.636767e-08</td>\n",
       "    </tr>\n",
       "    <tr>\n",
       "      <th>4206</th>\n",
       "      <td>-1.592289e-07</td>\n",
       "    </tr>\n",
       "    <tr>\n",
       "      <th>4219</th>\n",
       "      <td>-2.451427e-08</td>\n",
       "    </tr>\n",
       "    <tr>\n",
       "      <th>4232</th>\n",
       "      <td>-4.029853e-08</td>\n",
       "    </tr>\n",
       "  </tbody>\n",
       "</table>\n",
       "<p>156 rows × 1 columns</p>\n",
       "</div>"
      ],
      "text/plain": [
       "             Uninj\n",
       "3158 -1.792342e-07\n",
       "3582 -3.970221e-08\n",
       "3679 -2.379636e-07\n",
       "3683 -1.640000e-07\n",
       "3696 -4.615499e-08\n",
       "3705 -2.536767e-08\n",
       "3707 -2.114284e-08\n",
       "3711 -9.479853e-09\n",
       "3712 -1.996223e-09\n",
       "3742 -2.066367e-08\n",
       "3743 -1.885348e-08\n",
       "3757 -4.830369e-07\n",
       "3758 -4.510405e-07\n",
       "3759 -3.312568e-07\n",
       "3761 -2.774757e-07\n",
       "3762 -2.668174e-07\n",
       "3763 -2.244528e-07\n",
       "3764 -2.197651e-07\n",
       "3765 -2.152411e-07\n",
       "3766 -1.959498e-07\n",
       "3767 -1.954227e-07\n",
       "3768 -1.823887e-07\n",
       "3769 -1.696293e-07\n",
       "3774 -1.272486e-07\n",
       "3776 -7.323728e-08\n",
       "3777 -6.307102e-08\n",
       "3778 -6.225898e-08\n",
       "3779 -6.008017e-08\n",
       "3782 -5.423435e-08\n",
       "3783 -4.848089e-08\n",
       "...            ...\n",
       "4150 -1.640000e-07\n",
       "4151 -1.554068e-07\n",
       "4152 -1.453427e-07\n",
       "4153 -1.245500e-07\n",
       "4154 -1.168000e-07\n",
       "4155 -1.120000e-07\n",
       "4156 -1.100000e-07\n",
       "4158 -1.018528e-07\n",
       "4159 -8.040179e-08\n",
       "4160 -7.009215e-08\n",
       "4161 -5.770318e-08\n",
       "4162 -5.730203e-08\n",
       "4163 -5.075311e-08\n",
       "4164 -4.730804e-08\n",
       "4165 -3.820000e-08\n",
       "4166 -3.784530e-08\n",
       "4167 -3.478571e-08\n",
       "4168 -2.850000e-08\n",
       "4169 -2.791209e-08\n",
       "4170 -2.230041e-08\n",
       "4171 -1.781308e-08\n",
       "4172  5.080000e-09\n",
       "4173  1.670000e-08\n",
       "4174 -2.720092e-07\n",
       "4176 -2.487592e-07\n",
       "4179 -2.002863e-07\n",
       "4193 -2.636767e-08\n",
       "4206 -1.592289e-07\n",
       "4219 -2.451427e-08\n",
       "4232 -4.029853e-08\n",
       "\n",
       "[156 rows x 1 columns]"
      ]
     },
     "execution_count": 26,
     "metadata": {},
     "output_type": "execute_result"
    }
   ],
   "source": [
    "IuninjNaglu"
   ]
  },
  {
   "cell_type": "markdown",
   "metadata": {},
   "source": [
    "### concatenate data for estimations stats plot"
   ]
  },
  {
   "cell_type": "markdown",
   "metadata": {},
   "source": [
    "### comment: ERRORS in the dispplay of the estimation plot if fata are concatenated that are not used in the graph!!! make concatenation for each plot"
   ]
  },
  {
   "cell_type": "code",
   "execution_count": 27,
   "metadata": {},
   "outputs": [],
   "source": [
    "#concatenateData\n",
    "INagluConcat = pd.concat([IuninjNaglu.reset_index(drop=True),\n",
    "                          Img418Naglu.reset_index(drop=True),\n",
    "                          Img419Naglu.reset_index(drop=True),\n",
    "                          IpTL69Naglu.reset_index(drop=True),\n",
    "                          Img512Naglu.reset_index(drop=True),\n",
    "                          IpTL70Naglu.reset_index(drop=True)],sort=False, axis=1)\n",
    "#                           Img418AloneNaglu.reset_index(drop=True),\n",
    "#                           Img012AloneNaglu.reset_index(drop=True)] #sort=False removed the warning, but no idea what its doing\n",
    "INagluConcatuA = INagluConcat *1000000\n",
    "INagluConcatDEGT1 = pd.concat([IuninjNaglu.reset_index(drop=True),Img418Naglu.reset_index(drop=True)],sort=False, axis=1) #sort=False removed the warning, but no idea what its doing\n",
    "INagluConcatuADEGT1 = INagluConcatDEGT1 *1000000"
   ]
  },
  {
   "cell_type": "code",
   "execution_count": 28,
   "metadata": {
    "scrolled": false
   },
   "outputs": [
    {
     "data": {
      "text/plain": [
       "DABEST v0.2.4\n",
       "=============\n",
       "             \n",
       "Good afternoon!\n",
       "The current time is Thu Dec 17 13:35:09 2020.\n",
       "\n",
       "Effect size(s) with 95% confidence intervals will be computed for:\n",
       "1. DT1d minus Uninj\n",
       "\n",
       "5000 resamples will be used to generate the effect size bootstraps."
      ]
     },
     "execution_count": 28,
     "metadata": {},
     "output_type": "execute_result"
    }
   ],
   "source": [
    "#load Data\n",
    "shared_control = dabest.load(INagluConcatuA, idx=(\"Uninj\",\"DT1d\",\"U8d\",\"Del1d\", \"M10d\",\"M4d\"))#,\"DEGT1alone\",\"M2alone\"\n",
    "shared_control\n",
    "\n",
    "shared_controlDEGT1 = dabest.load(INagluConcatuADEGT1, idx=(\"Uninj\",\"DT1d\"))\n",
    "shared_controlDEGT1"
   ]
  },
  {
   "cell_type": "markdown",
   "metadata": {},
   "source": [
    "### Statistics for estimation plot for Initial current Figure 1"
   ]
  },
  {
   "cell_type": "code",
   "execution_count": 29,
   "metadata": {},
   "outputs": [
    {
     "data": {
      "text/plain": [
       "DABEST v0.2.4\n",
       "=============\n",
       "             \n",
       "Good afternoon!\n",
       "The current time is Thu Dec 17 13:35:11 2020.\n",
       "\n",
       "The unpaired mean difference between Uninj and DT1d is -0.478 [95%CI -0.555, -0.411].\n",
       "The two-sided p-value of the Mann-Whitney test is 1.51e-35.\n",
       "\n",
       "The unpaired mean difference between Uninj and U8d is -1.58 [95%CI -1.87, -1.34].\n",
       "The two-sided p-value of the Mann-Whitney test is 2.26e-28.\n",
       "\n",
       "The unpaired mean difference between Uninj and Del1d is -0.061 [95%CI -0.159, 0.00631].\n",
       "The two-sided p-value of the Mann-Whitney test is 0.101.\n",
       "\n",
       "The unpaired mean difference between Uninj and M10d is -0.098 [95%CI -0.185, -0.0353].\n",
       "The two-sided p-value of the Mann-Whitney test is 0.00146.\n",
       "\n",
       "The unpaired mean difference between Uninj and M4d is -10.9 [95%CI -12.6, -9.31].\n",
       "The two-sided p-value of the Mann-Whitney test is 2.99e-41.\n",
       "\n",
       "5000 bootstrap samples were taken; the confidence interval is bias-corrected and accelerated.\n",
       "The p-value(s) reported are the likelihood(s) of observing the effect size(s),\n",
       "if the null hypothesis of zero difference is true.\n",
       "\n",
       "To get the results of all valid statistical tests, use `.mean_diff.statistical_tests`"
      ]
     },
     "execution_count": 29,
     "metadata": {},
     "output_type": "execute_result"
    }
   ],
   "source": [
    "shared_control.mean_diff"
   ]
  },
  {
   "cell_type": "code",
   "execution_count": 30,
   "metadata": {},
   "outputs": [
    {
     "data": {
      "text/plain": [
       "DABEST v0.2.4\n",
       "=============\n",
       "             \n",
       "Good afternoon!\n",
       "The current time is Thu Dec 17 13:35:11 2020.\n",
       "\n",
       "Effect size(s) with 95% confidence intervals will be computed for:\n",
       "1. DT1d minus Uninj\n",
       "2. U8d minus Uninj\n",
       "3. Del1d minus Uninj\n",
       "4. M10d minus Uninj\n",
       "5. M4d minus Uninj\n",
       "\n",
       "5000 resamples will be used to generate the effect size bootstraps."
      ]
     },
     "execution_count": 30,
     "metadata": {},
     "output_type": "execute_result"
    }
   ],
   "source": [
    "shared_control"
   ]
  },
  {
   "cell_type": "markdown",
   "metadata": {},
   "source": [
    "### TODO: How to break the lines on y axis below ?"
   ]
  },
  {
   "cell_type": "markdown",
   "metadata": {},
   "source": [
    "# KEEP"
   ]
  },
  {
   "cell_type": "markdown",
   "metadata": {},
   "source": [
    "## Figure 1 estimation plot Initial current: Fig1-EstStat-NaGlu-MeanStart.pdf"
   ]
  },
  {
   "cell_type": "code",
   "execution_count": 31,
   "metadata": {
    "scrolled": true
   },
   "outputs": [
    {
     "data": {
      "text/plain": [
       "<Figure size 201.6x360 with 0 Axes>"
      ]
     },
     "metadata": {},
     "output_type": "display_data"
    },
    {
     "data": {
      "image/png": "[encoded data removed]",
      "text/plain": [
       "<Figure size 300x500 with 2 Axes>"
      ]
     },
     "metadata": {
      "needs_background": "light"
     },
     "output_type": "display_data"
    }
   ],
   "source": [
    "#change figure!!!!\n",
    "#fig1 = plt.figure(figsize=(3.5, 3)) \n",
    "#ax1 = plt.subplot(1,1,1)\n",
    "plt.figure(figsize=(2.8, 5)) \n",
    "fig1= shared_control.mean_diff.plot(swarm_ylim=(-40,5), contrast_ylim=(-25,5), custom_palette=colorsESTAll,fig_size=(3, 5),\n",
    "                                     raw_marker_size=(2),es_marker_size=2,contrast_label='Δ$\\it{I}$ (µA)',\n",
    "                                    swarm_label='current,$\\it{I}$ (µA)',reflines_kwargs = {'linestyle':'dashed', 'linewidth':0.75,\n",
    "                                   'color':'red'})\n",
    "#fig1.axes[0].ylabel('Current @-85 mV (µA)', fontsize=14) ‘color’ : ‘linestyle’:’dashed’}\n",
    "#ax1.spines['left'].set_position(('outward',15))  \n",
    "\n",
    "\n",
    "\n",
    "fig1.axes[0].plot([-1,20], [0,0], 'k-', color='#000000', linestyle='--',linewidth=0.5)\n",
    "#fig1.axes[1].plot([-1,20], [-1,-1], 'k--', color='#000000', linewidth=1)\n",
    "fig1.axes[0].tick_params(axis='both', which='major', labelsize=AxisLegendSize)  \n",
    "fig1.axes[1].tick_params(axis='both', which='major', labelsize=AxisLegendSize)  \n",
    "fig1.axes[0].get_yaxis().set_tick_params(direction='in')\n",
    "fig1.axes[1].get_yaxis().set_tick_params(direction='in')\n",
    "fig1.axes[0].get_xaxis().set_tick_params(direction='in')\n",
    "fig1.axes[1].get_xaxis().set_tick_params(direction='in')\n",
    "#ax1.spines['left'].set_position(('outward',35))\n",
    "fig1.axes[0].set_yticks([5,0,-10,-20,-30,-40])\n",
    "\n",
    "labels = ['Uninj','DEGT-1d', 'UNC-8d', 'DEL-1d', 'MEC-10d','MEC-4d']\n",
    "fig1.axes[0].set_xticklabels(labels, rotation=30, ha='right',fontsize=AxisLegendSize)\n",
    "labels2 = ['','DEGT-1d', 'UNC-8d', 'DEL-1d', 'MEC-10d','MEC-4d']\n",
    "fig1.axes[1].set_xticklabels(labels2, rotation=30, ha='right',fontsize=AxisLegendSize)\n",
    "\n",
    "plt.gcf().subplots_adjust(bottom=0.1, left=0.27,right=None, top=None,hspace=0.75, wspace=0.2) \n",
    "\n",
    "plt.savefig(filedir+\"Fig1-EstStat-NaGlu-MeanStart\"+'.pdf')\n",
    "#plt.savefig(filedir+\"Fig1-NaGlu-MeanStart\"+'.eps')\n",
    "plt.savefig(filedirManuscript+\"Fig1-EstStat-NaGlu-MeanStart\"+'.pdf')\n",
    "\n",
    "\n"
   ]
  },
  {
   "cell_type": "markdown",
   "metadata": {},
   "source": [
    "### Initial Current Vrev estimated statistics?"
   ]
  },
  {
   "cell_type": "code",
   "execution_count": 32,
   "metadata": {},
   "outputs": [],
   "source": [
    "Vmg419Naglu = InitialCurrent.loc[InitialCurrent['Injection'] == 'mg419mg012',['VrevSTART']] #returns a data frame \n",
    "Vmg419Naglu.columns = ['M4d']\n",
    "Vmg418Naglu = InitialCurrent.loc[InitialCurrent['Injection'] == 'mg418mg012',['VrevSTART']] #returns a data frame \n",
    "Vmg418Naglu.columns = ['DT1d']\n",
    "VpTL69Naglu = InitialCurrent.loc[InitialCurrent['Injection'] == 'pTL69mg012',['VrevSTART']] #returns a data frame \n",
    "VpTL69Naglu.columns = ['U8d']\n",
    "VuninjNaglu = InitialCurrent.loc[InitialCurrent['Injection'] == 'uninjected',['VrevSTART']] #returns a data frame \n",
    "VuninjNaglu.columns = ['Uninj']\n",
    "VuninjNaglu = VuninjNaglu.sort_values(by=['Uninj'])\n",
    "Vmg512Naglu = InitialCurrent.loc[InitialCurrent['Injection'] == 'mg512mg012',['VrevSTART']] #returns a data frame \n",
    "Vmg512Naglu.columns = ['M10d']\n",
    "VpTL70Naglu = InitialCurrent.loc[InitialCurrent['Injection'] == 'pTL70mg012',['VrevSTART']] #returns a data frame \n",
    "VpTL70Naglu.columns = ['Del1d']\n",
    "Vmg418aloneNaglu = InitialCurrent.loc[InitialCurrent['Injection'] == 'mg418',['VrevSTART']] #returns a data frame \n",
    "Vmg418aloneNaglu.columns = ['DT1alone']\n",
    "Vmg012aloneNaglu = InitialCurrent.loc[InitialCurrent['Injection'] == 'mg012',['VrevSTART']] #returns a data frame \n",
    "Vmg012aloneNaglu.columns = ['M2alone']\n",
    "\n",
    "\n",
    "VuninjNaglu.to_csv(filedirManuscript+'VuninjNaglu.csv', header=True, sep=',', mode='w')\n"
   ]
  },
  {
   "cell_type": "code",
   "execution_count": 33,
   "metadata": {},
   "outputs": [],
   "source": [
    "#concatenateData\n",
    "VNagluConcat = pd.concat([VuninjNaglu.reset_index(drop=True),\n",
    "                          Vmg418Naglu.reset_index(drop=True),\n",
    "                          Vmg419Naglu.reset_index(drop=True),\n",
    "                          VpTL69Naglu.reset_index(drop=True),\n",
    "                          Vmg512Naglu.reset_index(drop=True),\n",
    "                          VpTL70Naglu.reset_index(drop=True)],sort=True, axis=1)\n",
    "#                           Vmg418aloneNaglu.reset_index(drop=True),\n",
    "#                           Vmg012aloneNaglu.reset_index(drop=True) #sort=False removed the warning, but no idea what its doing\n",
    "VNagluConcatuA = VNagluConcat *1000\n",
    "# VNagluConcat = pd.concat([VuninjNaglu.reset_index(drop=True)],sort=False, axis=1) #sort=False removed the warning, but no idea what its doing\n",
    "# VNagluConcatuA = VNagluConcat *1000\n",
    "\n",
    "\n",
    "VNagluConcatDEGT1 = pd.concat([VuninjNaglu.reset_index(drop=True),Vmg418Naglu.reset_index(drop=True)],sort=False, axis=1) #sort=False removed the warning, but no idea what its doing\n",
    "VNagluConcatuADEGT1 = VNagluConcatDEGT1 *1000"
   ]
  },
  {
   "cell_type": "code",
   "execution_count": 34,
   "metadata": {
    "scrolled": true
   },
   "outputs": [
    {
     "data": {
      "text/plain": [
       "DABEST v0.2.4\n",
       "=============\n",
       "             \n",
       "Good afternoon!\n",
       "The current time is Thu Dec 17 13:35:13 2020.\n",
       "\n",
       "Effect size(s) with 95% confidence intervals will be computed for:\n",
       "1. DT1d minus Uninj\n",
       "\n",
       "5000 resamples will be used to generate the effect size bootstraps."
      ]
     },
     "execution_count": 34,
     "metadata": {},
     "output_type": "execute_result"
    }
   ],
   "source": [
    "#load Data\n",
    "shared_controlVrev = dabest.load(VNagluConcatuA, idx=(\"Uninj\",\"DT1d\",\"U8d\",\"Del1d\", \"M10d\",\"M4d\"))#,\"DT1alone\", \"M2alone\"\n",
    "shared_controlVrev\n",
    "shared_controlVrevDEGT1 = dabest.load(VNagluConcatuADEGT1, idx=(\"Uninj\",\"DT1d\"))\n",
    "shared_controlVrevDEGT1"
   ]
  },
  {
   "cell_type": "code",
   "execution_count": 35,
   "metadata": {},
   "outputs": [
    {
     "data": {
      "text/plain": [
       "DABEST v0.2.4\n",
       "=============\n",
       "             \n",
       "Good afternoon!\n",
       "The current time is Thu Dec 17 13:35:14 2020.\n",
       "\n",
       "The unpaired mean difference between Uninj and DT1d is 30.8 [95%CI 22.3, 38.3].\n",
       "The two-sided p-value of the Mann-Whitney test is 3.5e-15.\n",
       "\n",
       "The unpaired mean difference between Uninj and U8d is 58.5 [95%CI 50.0, 66.5].\n",
       "The two-sided p-value of the Mann-Whitney test is 1.09e-21.\n",
       "\n",
       "The unpaired mean difference between Uninj and Del1d is -2.72 [95%CI -20.4, 13.6].\n",
       "The two-sided p-value of the Mann-Whitney test is 0.784.\n",
       "\n",
       "The unpaired mean difference between Uninj and M10d is 12.7 [95%CI -0.0546, 23.6].\n",
       "The two-sided p-value of the Mann-Whitney test is 0.0798.\n",
       "\n",
       "The unpaired mean difference between Uninj and M4d is 53.1 [95%CI 45.2, 61.0].\n",
       "The two-sided p-value of the Mann-Whitney test is 3.71e-28.\n",
       "\n",
       "5000 bootstrap samples were taken; the confidence interval is bias-corrected and accelerated.\n",
       "The p-value(s) reported are the likelihood(s) of observing the effect size(s),\n",
       "if the null hypothesis of zero difference is true.\n",
       "\n",
       "To get the results of all valid statistical tests, use `.mean_diff.statistical_tests`"
      ]
     },
     "execution_count": 35,
     "metadata": {},
     "output_type": "execute_result"
    }
   ],
   "source": [
    "shared_controlVrev.mean_diff"
   ]
  },
  {
   "cell_type": "code",
   "execution_count": 36,
   "metadata": {
    "scrolled": false
   },
   "outputs": [
    {
     "data": {
      "text/plain": [
       "<Figure size 201.6x360 with 0 Axes>"
      ]
     },
     "metadata": {},
     "output_type": "display_data"
    },
    {
     "data": {
      "image/png": "[encoded data removed]",
      "text/plain": [
       "<Figure size 300x500 with 2 Axes>"
      ]
     },
     "metadata": {
      "needs_background": "light"
     },
     "output_type": "display_data"
    }
   ],
   "source": [
    "#change figure!!!!\n",
    "#fig1 = plt.figure(figsize=(3.5, 3)) \n",
    "#ax1 = plt.subplot(1,1,1)\n",
    "#\n",
    "plt.figure(figsize=(2.8, 5)) \n",
    "#fig_size=(4, 5.5)\n",
    "fig1= shared_controlVrev.mean_diff.plot(swarm_ylim=(-150,50), contrast_ylim=(-60,80), custom_palette=colorsESTAll,fig_size=(3,5),\n",
    "                                     raw_marker_size=(2),es_marker_size=2,contrast_label= 'Δ$\\it{V}$$_{rev}$ (mV)',\n",
    "                                    swarm_label='reversal potential, $\\it{V}$$_{rev}$ (mV)',reflines_kwargs = {'linestyle':'dashed', 'linewidth':0.75,\n",
    "                                   'color':'red'})#,reflines_kwargs\n",
    "\n",
    "\n",
    "fig1.axes[0].plot([-1,20], [0,0], 'k-', color='#000000', linestyle='--',linewidth=0.5)\n",
    "#fig1.axes[1].plot([-1,20], [-1,-1], 'k--', color='#000000', linewidth=1)\n",
    "fig1.axes[0].tick_params(axis='both', which='major', labelsize=AxisLegendSize)  \n",
    "fig1.axes[1].tick_params(axis='both', which='major', labelsize=AxisLegendSize)  \n",
    "#fig1 = plot([-1,20], [0,0])# , 'k--', color='#000000', linewidth=1)\n",
    "#ax1.spines['left'].set_position(('outward',35))\n",
    "fig1.axes[0].get_yaxis().set_tick_params(direction='in')\n",
    "fig1.axes[1].get_yaxis().set_tick_params(direction='in')\n",
    "fig1.axes[0].get_xaxis().set_tick_params(direction='in')\n",
    "fig1.axes[1].get_xaxis().set_tick_params(direction='in')\n",
    "\n",
    "labels = ['Uninj','DEGT-1d', 'UNC-8d', 'DEL-1d', 'MEC-10d','MEC-4d']\n",
    "fig1.axes[0].set_xticklabels(labels, rotation=30, ha='right',fontsize=AxisLegendSize)\n",
    "labels2 = ['','DEGT-1d', 'UNC-8d', 'DEL-1d', 'MEC-10d','MEC-4d']\n",
    "fig1.axes[1].set_xticklabels(labels2, rotation=30, ha='right',fontsize=AxisLegendSize)\n",
    "\n",
    "plt.gcf().subplots_adjust(bottom=0.1, left=0.25,right=None, top=None,hspace=2, wspace=0.2) \n",
    "plt.savefig(filedir+\"Fig1-EstStat-NaGlu-MeanVrev\"+'.pdf')\n",
    "#plt.savefig(filedir+\"Fig1-NaGlu-MeanStart\"+'.eps')\n",
    "plt.savefig(filedirManuscript+\"Fig1-EstStat-NaGlu-MeanVrev\"+'.pdf')\n",
    "\n",
    "\n"
   ]
  },
  {
   "cell_type": "code",
   "execution_count": null,
   "metadata": {},
   "outputs": [],
   "source": []
  },
  {
   "cell_type": "code",
   "execution_count": null,
   "metadata": {},
   "outputs": [],
   "source": []
  },
  {
   "cell_type": "code",
   "execution_count": 37,
   "metadata": {},
   "outputs": [],
   "source": [
    "colorsESTTalk = [(0.00, 0.00, 0.00),(0.89, 0.11,0.10),(0.60, 0.31,0.64),(0.30, 0.69, 0.29),(1, 0.50,0),(0.22,0.49,0.72)]"
   ]
  },
  {
   "cell_type": "code",
   "execution_count": null,
   "metadata": {},
   "outputs": [],
   "source": []
  },
  {
   "cell_type": "code",
   "execution_count": 38,
   "metadata": {},
   "outputs": [
    {
     "data": {
      "text/plain": [
       "DABEST v0.2.4\n",
       "=============\n",
       "             \n",
       "Good afternoon!\n",
       "The current time is Thu Dec 17 13:35:15 2020.\n",
       "\n",
       "Effect size(s) with 95% confidence intervals will be computed for:\n",
       "1. DT1d minus Uninj\n",
       "2. U8d minus Uninj\n",
       "3. M4d minus Uninj\n",
       "\n",
       "5000 resamples will be used to generate the effect size bootstraps."
      ]
     },
     "execution_count": 38,
     "metadata": {},
     "output_type": "execute_result"
    }
   ],
   "source": [
    "shared_controlVrevTalk = dabest.load(VNagluConcatuA, idx=(\"Uninj\",\"DT1d\",\"U8d\",\"M4d\"))#,\"DT1alone\", \"M2alone\"\n",
    "shared_controlVrevTalk"
   ]
  },
  {
   "cell_type": "code",
   "execution_count": 39,
   "metadata": {},
   "outputs": [],
   "source": [
    "colorsESTTalk = [(0.00, 0.00, 0.00),(0.89, 0.11,0.10),(0.60, 0.31,0.64),(0.30, 0.69, 0.29),(1, 0.50,0),(0.22,0.49,0.72)]"
   ]
  },
  {
   "cell_type": "code",
   "execution_count": 40,
   "metadata": {},
   "outputs": [
    {
     "data": {
      "text/plain": [
       "<Figure size 201.6x360 with 0 Axes>"
      ]
     },
     "metadata": {},
     "output_type": "display_data"
    },
    {
     "data": {
      "image/png": "[encoded data removed]",
      "text/plain": [
       "<Figure size 300x500 with 2 Axes>"
      ]
     },
     "metadata": {
      "needs_background": "light"
     },
     "output_type": "display_data"
    }
   ],
   "source": [
    "#change figure!!!!\n",
    "#fig1 = plt.figure(figsize=(3.5, 3)) \n",
    "#ax1 = plt.subplot(1,1,1)\n",
    "#\n",
    "plt.figure(figsize=(2.8, 5)) \n",
    "#fig_size=(4, 5.5)\n",
    "fig1= shared_controlVrevTalk.mean_diff.plot(swarm_ylim=(-100,50), contrast_ylim=(-60,60), custom_palette=colorsESTTalk,fig_size=(3,5),\n",
    "                                     raw_marker_size=(2),es_marker_size=2,contrast_label= 'ΔV$_{rev}$ (mV)',\n",
    "                                    swarm_label='reversal potential, V$_{rev}$ (mV)',reflines_kwargs = {'linestyle':'dashed', 'linewidth':0.75,\n",
    "                                   'color':'red'})#,reflines_kwargs\n",
    "\n",
    "\n",
    "fig1.axes[0].plot([-1,20], [0,0], 'k-', color='#000000', linestyle='--',linewidth=0.5)\n",
    "#fig1.axes[1].plot([-1,20], [-1,-1], 'k--', color='#000000', linewidth=1)\n",
    "fig1.axes[0].tick_params(axis='both', which='major', labelsize=AxisLegendSize)  \n",
    "fig1.axes[1].tick_params(axis='both', which='major', labelsize=AxisLegendSize)  \n",
    "#fig1 = plot([-1,20], [0,0])# , 'k--', color='#000000', linewidth=1)\n",
    "#ax1.spines['left'].set_position(('outward',35))\n",
    "fig1.axes[0].get_yaxis().set_tick_params(direction='in')\n",
    "fig1.axes[1].get_yaxis().set_tick_params(direction='in')\n",
    "fig1.axes[0].get_xaxis().set_tick_params(direction='in')\n",
    "fig1.axes[1].get_xaxis().set_tick_params(direction='in')\n",
    "\n",
    "labels = ['Uninj','DEGT-1d', 'UNC-8d', 'DEL-1d', 'MEC-10d','MEC-4d']\n",
    "fig1.axes[0].set_xticklabels(labels, rotation=30, ha='right',fontsize=AxisLegendSize)\n",
    "labels2 = ['','DEGT-1d', 'UNC-8d', 'DEL-1d', 'MEC-10d','MEC-4d']\n",
    "fig1.axes[1].set_xticklabels(labels2, rotation=30, ha='right',fontsize=AxisLegendSize)\n",
    "\n",
    "plt.gcf().subplots_adjust(bottom=0.1, left=0.25,right=None, top=None,hspace=2, wspace=0.2) \n",
    "plt.savefig(filedir+\"Fig1-EstStat-NaGlu-MeanVrev\"+'.pdf')\n",
    "#plt.savefig(filedir+\"Fig1-NaGlu-MeanStart\"+'.eps')\n",
    "plt.savefig(filedirManuscript+\"Fig1-EstStat-NaGlu-MeanVrevTalk\"+'.pdf')\n",
    "\n",
    "\n"
   ]
  },
  {
   "cell_type": "code",
   "execution_count": 41,
   "metadata": {
    "scrolled": true
   },
   "outputs": [
    {
     "data": {
      "text/plain": [
       "DABEST v0.2.4\n",
       "=============\n",
       "             \n",
       "Good afternoon!\n",
       "The current time is Thu Dec 17 13:35:14 2020.\n",
       "\n",
       "The unpaired mean difference between Uninj and DT1d is 30.8 [95%CI 22.3, 38.3].\n",
       "The two-sided p-value of the Mann-Whitney test is 3.5e-15.\n",
       "\n",
       "The unpaired mean difference between Uninj and U8d is 58.5 [95%CI 50.0, 66.5].\n",
       "The two-sided p-value of the Mann-Whitney test is 1.09e-21.\n",
       "\n",
       "The unpaired mean difference between Uninj and Del1d is -2.72 [95%CI -20.4, 13.6].\n",
       "The two-sided p-value of the Mann-Whitney test is 0.784.\n",
       "\n",
       "The unpaired mean difference between Uninj and M10d is 12.7 [95%CI -0.0546, 23.6].\n",
       "The two-sided p-value of the Mann-Whitney test is 0.0798.\n",
       "\n",
       "The unpaired mean difference between Uninj and M4d is 53.1 [95%CI 45.2, 61.0].\n",
       "The two-sided p-value of the Mann-Whitney test is 3.71e-28.\n",
       "\n",
       "5000 bootstrap samples were taken; the confidence interval is bias-corrected and accelerated.\n",
       "The p-value(s) reported are the likelihood(s) of observing the effect size(s),\n",
       "if the null hypothesis of zero difference is true.\n",
       "\n",
       "To get the results of all valid statistical tests, use `.mean_diff.statistical_tests`"
      ]
     },
     "execution_count": 41,
     "metadata": {},
     "output_type": "execute_result"
    }
   ],
   "source": [
    "shared_controlVrev.mean_diff"
   ]
  },
  {
   "cell_type": "markdown",
   "metadata": {},
   "source": [
    "# Mean Current cal Inititial current"
   ]
  },
  {
   "cell_type": "code",
   "execution_count": 42,
   "metadata": {},
   "outputs": [],
   "source": [
    "InitialCurrent = df[(df.Injection.isin([\"mg012\",\"mg419mg012\",\"pTL69mg012\",\"mg418mg012\",\"mg512mg012\",\"pTL70mg012\",\"uninjected\",\"mg418\"])) & (df.StartSol.isin([\"NaGlu1\"]))] #& (df.TestSol.isin(\"NaGluAmil30\"))] #WORKS !!!\n",
    "#InitialCurrent = df[(df.Injection.isin([\"mg418\"])) & (df.StartSol.isin([\"NaGlu1\"]))] #& (df.TestSol.isin(\"NaGluAmil30\"))] #WORKS !!!"
   ]
  },
  {
   "cell_type": "code",
   "execution_count": 43,
   "metadata": {
    "scrolled": true
   },
   "outputs": [
    {
     "name": "stdout",
     "output_type": "stream",
     "text": [
      "Injection\n",
      "mg012         -0.11\n",
      "mg418         -0.53\n",
      "mg418mg012    -0.59\n",
      "mg419mg012   -10.99\n",
      "mg512mg012    -0.21\n",
      "pTL69mg012    -1.68\n",
      "pTL70mg012    -0.17\n",
      "uninjected    -0.11\n",
      "Name: mean, dtype: float64\n",
      "Injection\n",
      "mg012         0.004\n",
      "mg418         0.019\n",
      "mg418mg012    0.003\n",
      "mg419mg012    0.085\n",
      "mg512mg012    0.009\n",
      "pTL69mg012    0.017\n",
      "pTL70mg012    0.010\n",
      "uninjected    0.001\n",
      "dtype: float64\n",
      "Injection\n",
      "mg012          11.0\n",
      "mg418          15.0\n",
      "mg418mg012    111.0\n",
      "mg419mg012     99.0\n",
      "mg512mg012     19.0\n",
      "pTL69mg012     59.0\n",
      "pTL70mg012     17.0\n",
      "uninjected    156.0\n",
      "Name: count, dtype: float64\n"
     ]
    }
   ],
   "source": [
    "ExInitialCurrent = InitialCurrent.pivot(columns='Injection', values='MeanSTART').describe().T\n",
    "ExInitialCurrent.to_csv(filedir+'ExInitialCurrent.csv', header=True, sep=',', mode='w')\n",
    "\n",
    "MeanIniCurrent = ExInitialCurrent['mean']*1000000\n",
    "MeanIniCurrent = MeanIniCurrent.round(2)\n",
    "SDIniCurrent = ExInitialCurrent['std']*1000000\n",
    "SDIniCurrent = SDIniCurrent.round(2)\n",
    "countIniCurrent  = ExInitialCurrent['count']\n",
    "SEMIniCurrent = SDIniCurrent /countIniCurrent \n",
    "SEMIniCurrent = SEMIniCurrent.round(3)\n",
    "\n",
    "print(MeanIniCurrent)\n",
    "print(SEMIniCurrent)\n",
    "print(countIniCurrent)"
   ]
  },
  {
   "cell_type": "markdown",
   "metadata": {},
   "source": [
    "## mean +- SEM Vrev (Initial current)"
   ]
  },
  {
   "cell_type": "code",
   "execution_count": 44,
   "metadata": {
    "scrolled": false
   },
   "outputs": [
    {
     "name": "stdout",
     "output_type": "stream",
     "text": [
      "Injection\n",
      "mg012        -67.28\n",
      "mg418        -23.99\n",
      "mg418mg012   -24.06\n",
      "mg419mg012    -1.76\n",
      "mg512mg012   -42.12\n",
      "pTL69mg012     3.67\n",
      "pTL70mg012   -57.54\n",
      "uninjected   -54.82\n",
      "Name: mean, dtype: float64\n",
      "Injection\n",
      "mg012         1.686\n",
      "mg418         0.717\n",
      "mg418mg012    0.135\n",
      "mg419mg012    0.107\n",
      "mg512mg012    1.089\n",
      "pTL69mg012    0.163\n",
      "pTL70mg012    1.958\n",
      "uninjected    0.376\n",
      "dtype: float64\n",
      "Injection\n",
      "mg012          11.0\n",
      "mg418          15.0\n",
      "mg418mg012    109.0\n",
      "mg419mg012     97.0\n",
      "mg512mg012     19.0\n",
      "pTL69mg012     59.0\n",
      "pTL70mg012     16.0\n",
      "uninjected    107.0\n",
      "Name: count, dtype: float64\n"
     ]
    }
   ],
   "source": [
    "ExInitialVrev = InitialCurrent.pivot(columns='Injection', values='VrevSTART').describe().T\n",
    "ExInitialVrev.to_csv(filedir+'ExInitialVrev.csv', header=True, sep=',', mode='w')\n",
    "MeanIniCurVrev = ExInitialVrev['mean']*1000\n",
    "MeanIniCurVrev = MeanIniCurVrev.round(2)\n",
    "SDIniCurVrev = ExInitialVrev['std']*1000\n",
    "SDIniCurVrev = SDIniCurVrev.round(2)\n",
    "\n",
    "countIniCurVrev  = ExInitialVrev['count']\n",
    "SEMIniCurVrev = SDIniCurVrev/countIniCurVrev\n",
    "SEMIniCurVrev = SEMIniCurVrev.round(3)\n",
    "\n",
    "print(MeanIniCurVrev)\n",
    "print(SEMIniCurVrev)\n",
    "print(countIniCurVrev)"
   ]
  },
  {
   "cell_type": "markdown",
   "metadata": {},
   "source": [
    "## mean +- SEM Vrest (Initial current)"
   ]
  },
  {
   "cell_type": "markdown",
   "metadata": {},
   "source": [
    "# commetn: Vrest pTL69 MIX OF WITH AND WITHOUT BENZAMIL"
   ]
  },
  {
   "cell_type": "markdown",
   "metadata": {},
   "source": [
    "### there is an error in the ratio data excel sheet with the Vres as I  sort the columns while some fields were empty in Vrest. now, something ist werid! neeed to check this"
   ]
  },
  {
   "cell_type": "code",
   "execution_count": 45,
   "metadata": {
    "scrolled": false
   },
   "outputs": [
    {
     "name": "stdout",
     "output_type": "stream",
     "text": [
      "Injection\n",
      "mg012          7.56\n",
      "mg418        -23.69\n",
      "mg418mg012    -5.29\n",
      "mg419mg012    -4.44\n",
      "mg512mg012    29.82\n",
      "pTL69mg012   -16.18\n",
      "pTL70mg012    -9.99\n",
      "uninjected    -5.05\n",
      "Name: mean, dtype: float64\n",
      "Injection\n",
      "mg012         0.79\n",
      "mg418         1.02\n",
      "mg418mg012    0.24\n",
      "mg419mg012    0.18\n",
      "mg512mg012    0.44\n",
      "pTL69mg012    0.59\n",
      "pTL70mg012    1.31\n",
      "uninjected    0.20\n",
      "dtype: float64\n",
      "Injection\n",
      "mg012          11.0\n",
      "mg418          15.0\n",
      "mg418mg012     90.0\n",
      "mg419mg012     97.0\n",
      "mg512mg012     19.0\n",
      "pTL69mg012     59.0\n",
      "pTL70mg012     17.0\n",
      "uninjected    156.0\n",
      "Name: count, dtype: float64\n"
     ]
    }
   ],
   "source": [
    "ExInitialVrest = InitialCurrent.pivot(columns='Injection', values='RestingVM').describe().T\n",
    "ExInitialVrest.to_csv(filedir+'ExInitialVrest.csv', header=True, sep=',', mode='w')\n",
    "MeanIniCurVrest = ExInitialVrest['mean']\n",
    "MeanIniCurVrest = MeanIniCurVrest.round(2)\n",
    "SDIniCurVrest = ExInitialVrest['std']\n",
    "SDIniCurVrest = SDIniCurVrest.round(2)\n",
    "\n",
    "countIniCurVrest  = ExInitialVrest['count']\n",
    "SEMIniCurVrest = SDIniCurVrest/countIniCurVrest\n",
    "SEMIniCurVrest = SEMIniCurVrest.round(2)\n",
    "\n",
    "print(MeanIniCurVrest)\n",
    "print(SEMIniCurVrest)\n",
    "print(countIniCurVrest)"
   ]
  },
  {
   "cell_type": "markdown",
   "metadata": {},
   "source": [
    "## Figure 3: Pharmacology "
   ]
  },
  {
   "cell_type": "markdown",
   "metadata": {},
   "source": [
    "#### Amiloride Analoga 30 uM\n"
   ]
  },
  {
   "cell_type": "code",
   "execution_count": 46,
   "metadata": {},
   "outputs": [],
   "source": [
    "#sort data for amiloride!!!!\n",
    "#Plot1\n",
    "Amil30uninj = df[(df.Injection.isin([\"mg419mg012\",\"pTL69mg012\",\"mg418mg012\",\"uninjected\"])) & (df.TestSol.isin([\"NaGluAmil30\"]))] \n",
    "#Plot2\n",
    "Bmil30uninj = df[(df.Injection.isin([\"mg419mg012\",\"pTL69mg012\",\"mg418mg012\",\"uninjected\"])) & (df.TestSol.isin([\"NaGluBmil30\"]))]\n",
    "#Plot3\n",
    "EIPA30uninj = df[(df.Injection.isin([\"mg419mg012\",\"pTL69mg012\",\"mg418mg012\",\"uninjected\"])) & (df.TestSol.isin([\"NaGluEipa30\"]))]\n",
    "#Plot4\n",
    "Phen30uninj = df[(df.Injection.isin([\"mg419mg012\",\"pTL69mg012\",\"mg418mg012\",\"uninjected\"])) & (df.TestSol.isin([\"NaGluPhen30\"]))]\n",
    "#Plot5\n",
    "Bzd30uninj = df[(df.Injection.isin([\"mg419mg012\",\"pTL69mg012\",\"mg418mg012\",\"uninjected\"])) & (df.TestSol.isin([\"NaGluBzd30\"]))] \n"
   ]
  },
  {
   "cell_type": "code",
   "execution_count": 47,
   "metadata": {},
   "outputs": [],
   "source": [
    "Amil30 = Amil30uninj\n",
    "Bmil30 = Bmil30uninj\n",
    "EIPA30 = EIPA30uninj\n",
    "Phen30 = Phen30uninj\n",
    "Bzd30 = Bzd30uninj \n"
   ]
  },
  {
   "cell_type": "markdown",
   "metadata": {},
   "source": [
    "# ESTIMATION STATISTICS ACCORDING TO CHANNEL - AMIL. ANALOG"
   ]
  },
  {
   "cell_type": "markdown",
   "metadata": {},
   "source": [
    "### AMIL analog & DEGT-1d"
   ]
  },
  {
   "cell_type": "code",
   "execution_count": 48,
   "metadata": {
    "scrolled": true
   },
   "outputs": [
    {
     "data": {
      "text/plain": [
       "DABEST v0.2.4\n",
       "=============\n",
       "             \n",
       "Good afternoon!\n",
       "The current time is Thu Dec 17 13:35:18 2020.\n",
       "\n",
       "Effect size(s) with 95% confidence intervals will be computed for:\n",
       "1. DT1d-Amil minus Uninj-Amil\n",
       "2. DT1d-Bmil minus Uninj-Bmil\n",
       "3. DT1d-Eipa minus Uninj-Eipa\n",
       "4. DT1d-Phen minus Uninj-Phen\n",
       "5. DT1d-Bzd minus Uninj-Bzd\n",
       "\n",
       "5000 resamples will be used to generate the effect size bootstraps."
      ]
     },
     "execution_count": 48,
     "metadata": {},
     "output_type": "execute_result"
    }
   ],
   "source": [
    "Img418Amil = Amil30uninj.loc[Amil30uninj['Injection'] == 'mg418mg012',['DELTA']] #returns a data frame \n",
    "Img418Amil.columns = ['DT1d-Amil']\n",
    "\n",
    "Img418Bmil = Bmil30uninj.loc[Bmil30uninj['Injection'] == 'mg418mg012',['DELTA']] #returns a data frame \n",
    "Img418Bmil.columns = ['DT1d-Bmil']\n",
    "\n",
    "Img418EIPA = EIPA30uninj.loc[EIPA30uninj['Injection'] == 'mg418mg012',['DELTA']] #returns a data frame \n",
    "Img418EIPA.columns = ['DT1d-Eipa']\n",
    "\n",
    "Img418Phen= Phen30uninj.loc[Phen30uninj['Injection'] == 'mg418mg012',['DELTA']] #returns a data frame \n",
    "Img418Phen.columns = ['DT1d-Phen']\n",
    "\n",
    "Img418Bzd= Bzd30uninj.loc[Bzd30uninj['Injection'] == 'mg418mg012',['DELTA']] #returns a data frame \n",
    "Img418Bzd.columns = ['DT1d-Bzd']\n",
    "\n",
    "\n",
    "UninjAmil = Amil30uninj.loc[Amil30uninj['Injection'] == 'uninjected',['DELTA']] #returns a data frame \n",
    "UninjAmil.columns = ['Uninj-Amil']\n",
    "\n",
    "UninjBmil = Bmil30uninj.loc[Bmil30uninj['Injection'] == 'uninjected',['DELTA']] #returns a data frame \n",
    "UninjBmil.columns = ['Uninj-Bmil']\n",
    "\n",
    "UninjEIPA = EIPA30uninj.loc[EIPA30uninj['Injection'] == 'uninjected',['DELTA']] #returns a data frame \n",
    "UninjEIPA.columns = ['Uninj-Eipa']\n",
    "\n",
    "UninjPhen = Phen30uninj.loc[Phen30uninj['Injection'] == 'uninjected',['DELTA']] #returns a data frame \n",
    "UninjPhen.columns = ['Uninj-Phen']\n",
    "\n",
    "UninjBzd = Bzd30uninj.loc[Bzd30uninj['Injection'] == 'uninjected',['DELTA']] #returns a data frame \n",
    "UninjBzd.columns = ['Uninj-Bzd']\n",
    "\n",
    "#concatenateData\n",
    "IDT1UninjConcat = pd.concat([Img418Amil.reset_index(drop=True),Img418Bmil.reset_index(drop=True),Img418EIPA.reset_index(drop=True),Img418Phen.reset_index(drop=True),Img418Bzd.reset_index(drop=True),UninjAmil.reset_index(drop=True),UninjBmil.reset_index(drop=True),UninjEIPA.reset_index(drop=True),UninjPhen.reset_index(drop=True),UninjBzd.reset_index(drop=True)],sort=False, axis=1)\n",
    "#sort=False removed the warning, but no idea what its doing\n",
    "IDT1UninjConcatuA = IDT1UninjConcat.astype(float)*1000000\n",
    "\n",
    "# #load Data\n",
    "shared_controlIDT1Uninj = dabest.load(IDT1UninjConcatuA, idx=(('Uninj-Amil','DT1d-Amil',),('Uninj-Bmil','DT1d-Bmil',),('Uninj-Eipa','DT1d-Eipa',),('Uninj-Phen','DT1d-Phen',),('Uninj-Bzd','DT1d-Bzd'))) \n",
    "shared_controlIDT1Uninj\n"
   ]
  },
  {
   "cell_type": "code",
   "execution_count": 49,
   "metadata": {},
   "outputs": [
    {
     "data": {
      "text/plain": [
       "DABEST v0.2.4\n",
       "=============\n",
       "             \n",
       "Good afternoon!\n",
       "The current time is Thu Dec 17 13:35:19 2020.\n",
       "\n",
       "The unpaired mean difference between Uninj-Amil and DT1d-Amil is 0.00799 [95%CI -0.0124, 0.0293].\n",
       "The two-sided p-value of the Mann-Whitney test is 0.213.\n",
       "\n",
       "The unpaired mean difference between Uninj-Bmil and DT1d-Bmil is 0.00728 [95%CI -0.00872, 0.0327].\n",
       "The two-sided p-value of the Mann-Whitney test is 0.605.\n",
       "\n",
       "The unpaired mean difference between Uninj-Eipa and DT1d-Eipa is 0.00732 [95%CI -0.00807, 0.0265].\n",
       "The two-sided p-value of the Mann-Whitney test is 0.43.\n",
       "\n",
       "The unpaired mean difference between Uninj-Phen and DT1d-Phen is -0.00432 [95%CI -0.0228, 0.0163].\n",
       "The two-sided p-value of the Mann-Whitney test is 0.323.\n",
       "\n",
       "The unpaired mean difference between Uninj-Bzd and DT1d-Bzd is 0.0041 [95%CI -0.0114, 0.0251].\n",
       "The two-sided p-value of the Mann-Whitney test is 0.773.\n",
       "\n",
       "5000 bootstrap samples were taken; the confidence interval is bias-corrected and accelerated.\n",
       "The p-value(s) reported are the likelihood(s) of observing the effect size(s),\n",
       "if the null hypothesis of zero difference is true.\n",
       "\n",
       "To get the results of all valid statistical tests, use `.mean_diff.statistical_tests`"
      ]
     },
     "execution_count": 49,
     "metadata": {},
     "output_type": "execute_result"
    }
   ],
   "source": [
    "shared_controlIDT1Uninj.mean_diff"
   ]
  },
  {
   "cell_type": "code",
   "execution_count": 50,
   "metadata": {
    "scrolled": false
   },
   "outputs": [
    {
     "name": "stderr",
     "output_type": "stream",
     "text": [
      "/Users/wormsenselab/anaconda3/envs/dabest/lib/python3.7/site-packages/seaborn/categorical.py:1243: RuntimeWarning: invalid value encountered in sqrt\n",
      "  dx = np.sqrt(d ** 2 - dy ** 2) * 1.05\n"
     ]
    },
    {
     "data": {
      "text/plain": [
       "<Figure size 216x288 with 0 Axes>"
      ]
     },
     "metadata": {},
     "output_type": "display_data"
    },
    {
     "data": {
      "image/png": "[encoded data removed]",
      "text/plain": [
       "<Figure size 300x400 with 2 Axes>"
      ]
     },
     "metadata": {
      "needs_background": "light"
     },
     "output_type": "display_data"
    }
   ],
   "source": [
    "#change figure!!!!\n",
    "#fig1 = plt.figure(figsize=(3.5, 3)) \n",
    "#ax1 = plt.subplot(1,1,1)\n",
    "plt.figure(figsize=(3, 4)) \n",
    "colorsESTDT1=[(0.00, 0.00, 0.00),(0.89, 0.11,0.10),(0.00, 0.00, 0.00),(0.89, 0.11,0.10),(0.00, 0.00, 0.00),(0.89, 0.11,0.10),(0.00, 0.00, 0.00),(0.89, 0.11,0.10),(0.00, 0.00, 0.00),(0.89, 0.11,0.10)]\n",
    "#colorsEST = [(0.00, 0.00, 0.00),(0.89, 0.11,0.10),(0.60, 0.31,0.64),(0.30, 0.69, 0.29),(1, 0.50,0),(0.22,0.49,0.72),(0.00, 0.00, 0.00),\"red\",\"blue\",(0.00, 0.00, 0.00),(0.22, 0.49, 0.72),(1.00, 0.50, 0.00)]\n",
    "\n",
    "fig1= shared_controlIDT1Uninj.mean_diff.plot(swarm_ylim=(0.2,-0.05), contrast_ylim=(0.15,-0.05), custom_palette=colorsESTDT1,fig_size=(3, 4),\n",
    "                                     raw_marker_size=(2),es_marker_size=2,contrast_label='Δ$\\it{I}$$_{drug}$ (µA)',\n",
    "                                    swarm_label='$\\it{I}$$_{drug}$ (µA)',reflines_kwargs = {'linestyle':'dashed', 'linewidth':0.75,\n",
    "                                   'color':'red'})#,reflines_kwargs\n",
    "#fig1.axes[0].ylabel('Current @-85 mV (µA)', fontsize=14) ‘color’ : ‘linestyle’:’dashed’}\n",
    "#ax1.spines['left'].set_position(('outward',15))  \n",
    "\n",
    "fig1.axes[0].plot([-1,20], [0,0], 'k-', color='#000000', linestyle='--',linewidth=0.5)\n",
    "#fig1.axes[1].plot([-1,20], [-1,-1], 'k--', color='#000000', linewidth=1)\n",
    "fig1.axes[0].tick_params(axis='both', which='major', labelsize=AxisLegendSize)  \n",
    "fig1.axes[1].tick_params(axis='both', which='major', labelsize=AxisLegendSize)  \n",
    "#fig1 = plot([-1,20], [0,0])# , 'k--', color='#000000', linewidth=1)\n",
    "#ax1.spines['left'].set_position(('outward',35))\n",
    "\n",
    "labels = []\n",
    "fig1.axes[0].set_xticklabels(labels, rotation=30, ha='right',fontsize=AxisLegendSize)\n",
    "labels2 = ['','Amil','','Bmil','','EIPA','',\"Phen\",'','Bzd']\n",
    "fig1.axes[1].set_xticklabels(labels2, rotation=30, ha='right',fontsize=AxisLegendSize)\n",
    "fig1.axes[0].get_yaxis().set_tick_params(direction='in')\n",
    "fig1.axes[1].get_yaxis().set_tick_params(direction='in')\n",
    "fig1.axes[0].get_xaxis().set_tick_params(direction='in')\n",
    "fig1.axes[1].get_xaxis().set_tick_params(direction='in')\n",
    "\n",
    "\n",
    "fig1.axes[0].set_yticks([0.2,0.15,0.1,0.05,0,-0.05])\n",
    "plt.draw()      # Note, this line is important\n",
    "labels = [l.get_text() for l in fig1.axes[0].get_yticklabels()]\n",
    "labels[4] = '0'\n",
    "fig1.axes[0].set_yticklabels(labels)\n",
    "\n",
    "fig1.axes[1].set_yticks([0.15,0.1,0.05,0,-0.05])\n",
    "plt.draw()      # Note, this line is important\n",
    "labels = [l.get_text() for l in fig1.axes[1].get_yticklabels()]\n",
    "labels[3] = '0'\n",
    "fig1.axes[1].set_yticklabels(labels)\n",
    "\n",
    "\n",
    "plt.gcf().subplots_adjust(bottom=0.1, left=0.27,right=None, top=None,hspace=1, wspace=0.2) \n",
    "plt.savefig(filedir+\"Fig3-EstStat-IDT1Uninj\"+'.pdf')\n",
    "#plt.savefig(filedir+\"Fig1-NaGlu-MeanStart\"+'.eps')\n",
    "plt.savefig(filedirManuscript+\"Fig3-EstStat-IDT1Uninj\"+'.pdf')\n",
    "\n",
    "\n"
   ]
  },
  {
   "cell_type": "code",
   "execution_count": null,
   "metadata": {},
   "outputs": [],
   "source": []
  },
  {
   "cell_type": "markdown",
   "metadata": {},
   "source": [
    "### AMIL analog & UNC-8d"
   ]
  },
  {
   "cell_type": "code",
   "execution_count": 51,
   "metadata": {},
   "outputs": [
    {
     "data": {
      "text/plain": [
       "DABEST v0.2.4\n",
       "=============\n",
       "             \n",
       "Good afternoon!\n",
       "The current time is Thu Dec 17 13:35:21 2020.\n",
       "\n",
       "Effect size(s) with 95% confidence intervals will be computed for:\n",
       "1. U8d-Amil minus Uninj-Amil\n",
       "2. U8d-Bmil minus Uninj-Bmil\n",
       "3. U8d-Eipa minus Uninj-Eipa\n",
       "4. U8d-Phen minus Uninj-Phen\n",
       "5. U8d-Bzd minus Uninj-Bzd\n",
       "\n",
       "5000 resamples will be used to generate the effect size bootstraps."
      ]
     },
     "execution_count": 51,
     "metadata": {},
     "output_type": "execute_result"
    }
   ],
   "source": [
    "IpTL69Amil = Amil30uninj.loc[Amil30uninj['Injection'] == 'pTL69mg012',['DELTA']] #returns a data frame \n",
    "IpTL69Amil.columns = ['U8d-Amil']\n",
    "\n",
    "IpTL69Bmil = Bmil30uninj.loc[Bmil30uninj['Injection'] == 'pTL69mg012',['DELTA']] #returns a data frame \n",
    "IpTL69Bmil.columns = ['U8d-Bmil']\n",
    "\n",
    "IpTL69EIPA = EIPA30uninj.loc[EIPA30uninj['Injection'] == 'pTL69mg012',['DELTA']] #returns a data frame \n",
    "IpTL69EIPA.columns = ['U8d-Eipa']\n",
    "\n",
    "IpTL69Phen= Phen30uninj.loc[Phen30uninj['Injection'] == 'pTL69mg012',['DELTA']] #returns a data frame \n",
    "IpTL69Phen.columns = ['U8d-Phen']\n",
    "\n",
    "IpTL69Bzd= Bzd30uninj.loc[Bzd30uninj['Injection'] == 'pTL69mg012',['DELTA']] #returns a data frame \n",
    "IpTL69Bzd.columns = ['U8d-Bzd']\n",
    "\n",
    "\n",
    "UninjAmil = Amil30uninj.loc[Amil30uninj['Injection'] == 'uninjected',['DELTA']] #returns a data frame \n",
    "UninjAmil.columns = ['Uninj-Amil']\n",
    "\n",
    "UninjBmil = Bmil30uninj.loc[Bmil30uninj['Injection'] == 'uninjected',['DELTA']] #returns a data frame \n",
    "UninjBmil.columns = ['Uninj-Bmil']\n",
    "\n",
    "UninjEIPA = EIPA30uninj.loc[EIPA30uninj['Injection'] == 'uninjected',['DELTA']] #returns a data frame \n",
    "UninjEIPA.columns = ['Uninj-Eipa']\n",
    "\n",
    "UninjPhen = Phen30uninj.loc[Phen30uninj['Injection'] == 'uninjected',['DELTA']] #returns a data frame \n",
    "UninjPhen.columns = ['Uninj-Phen']\n",
    "\n",
    "UninjBzd = Bzd30uninj.loc[Bzd30uninj['Injection'] == 'uninjected',['DELTA']] #returns a data frame \n",
    "UninjBzd.columns = ['Uninj-Bzd']\n",
    "\n",
    "#concatenateData\n",
    "IU8dUninjConcat = pd.concat([IpTL69Amil.reset_index(drop=True),IpTL69Bmil.reset_index(drop=True),IpTL69EIPA.reset_index(drop=True),IpTL69Phen.reset_index(drop=True),IpTL69Bzd.reset_index(drop=True),UninjAmil.reset_index(drop=True),UninjBmil.reset_index(drop=True),UninjEIPA.reset_index(drop=True),UninjPhen.reset_index(drop=True),UninjBzd.reset_index(drop=True)],sort=False, axis=1)\n",
    "#sort=False removed the warning, but no idea what its doing\n",
    "IU8dUninjConcatuA = IU8dUninjConcat.astype(float)*1000000\n",
    "\n",
    "# #load Data\n",
    "shared_controlIU8dUninj = dabest.load(IU8dUninjConcatuA, idx=(('Uninj-Amil','U8d-Amil',),('Uninj-Bmil','U8d-Bmil',),('Uninj-Eipa','U8d-Eipa',),('Uninj-Phen','U8d-Phen',),('Uninj-Bzd','U8d-Bzd'))) \n",
    "shared_controlIU8dUninj\n"
   ]
  },
  {
   "cell_type": "code",
   "execution_count": 52,
   "metadata": {},
   "outputs": [
    {
     "data": {
      "text/plain": [
       "DABEST v0.2.4\n",
       "=============\n",
       "             \n",
       "Good afternoon!\n",
       "The current time is Thu Dec 17 13:35:22 2020.\n",
       "\n",
       "The unpaired mean difference between Uninj-Amil and U8d-Amil is 0.219 [95%CI 0.0274, 0.29].\n",
       "The two-sided p-value of the Mann-Whitney test is 0.0296.\n",
       "\n",
       "The unpaired mean difference between Uninj-Bmil and U8d-Bmil is 0.866 [95%CI 0.64, 1.13].\n",
       "The two-sided p-value of the Mann-Whitney test is 2.08e-09.\n",
       "\n",
       "The unpaired mean difference between Uninj-Eipa and U8d-Eipa is 0.607 [95%CI 0.451, 0.832].\n",
       "The two-sided p-value of the Mann-Whitney test is 4.92e-06.\n",
       "\n",
       "The unpaired mean difference between Uninj-Phen and U8d-Phen is 0.183 [95%CI 0.12, 0.263].\n",
       "The two-sided p-value of the Mann-Whitney test is 2.86e-06.\n",
       "\n",
       "The unpaired mean difference between Uninj-Bzd and U8d-Bzd is 0.32 [95%CI 0.17, 0.582].\n",
       "The two-sided p-value of the Mann-Whitney test is 1.29e-05.\n",
       "\n",
       "5000 bootstrap samples were taken; the confidence interval is bias-corrected and accelerated.\n",
       "The p-value(s) reported are the likelihood(s) of observing the effect size(s),\n",
       "if the null hypothesis of zero difference is true.\n",
       "\n",
       "To get the results of all valid statistical tests, use `.mean_diff.statistical_tests`"
      ]
     },
     "execution_count": 52,
     "metadata": {},
     "output_type": "execute_result"
    }
   ],
   "source": [
    "shared_controlIU8dUninj.mean_diff"
   ]
  },
  {
   "cell_type": "code",
   "execution_count": 53,
   "metadata": {},
   "outputs": [
    {
     "data": {
      "text/plain": [
       "<Figure size 216x288 with 0 Axes>"
      ]
     },
     "metadata": {},
     "output_type": "display_data"
    },
    {
     "data": {
      "image/png": "[encoded data removed]",
      "text/plain": [
       "<Figure size 300x400 with 2 Axes>"
      ]
     },
     "metadata": {
      "needs_background": "light"
     },
     "output_type": "display_data"
    }
   ],
   "source": [
    "#change figure!!!!\n",
    "#fig1 = plt.figure(figsize=(3.5, 3)) \n",
    "#ax1 = plt.subplot(1,1,1)\n",
    "plt.figure(figsize=(3, 4)) \n",
    "colorsESTU8=[(0.00, 0.00, 0.00),(0.60, 0.31,0.64),(0.00, 0.00, 0.00),(0.60, 0.31,0.64),(0.00, 0.00, 0.00),(0.60, 0.31,0.64),(0.00, 0.00, 0.00),(0.60, 0.31,0.64),(0.00, 0.00, 0.00),(0.60, 0.31,0.64)]\n",
    "#colorsEST = [(0.00, 0.00, 0.00),(0.89, 0.11,0.10),(0.60, 0.31,0.64),(0.30, 0.69, 0.29),(1, 0.50,0),(0.22,0.49,0.72),(0.00, 0.00, 0.00),\"red\",\"blue\",(0.00, 0.00, 0.00),(0.22, 0.49, 0.72),(1.00, 0.50, 0.00)]\n",
    "\n",
    "fig1= shared_controlIU8dUninj.mean_diff.plot(swarm_ylim=(2,-0.5), contrast_ylim=(1.5,-0.5), custom_palette=colorsESTU8,fig_size=(3, 4),\n",
    "                                     raw_marker_size=(2),es_marker_size=2,contrast_label='Δ$\\it{I}$$_{drug}$ (µA)',\n",
    "                                    swarm_label='$\\it{I}$$_{drug}$ (µA)',reflines_kwargs = {'linestyle':'dashed', 'linewidth':0.75,\n",
    "                                   'color':'red'})#,reflines_kwargs\n",
    "#fig1.axes[0].ylabel('Current @-85 mV (µA)', fontsize=14) ‘color’ : ‘linestyle’:’dashed’}\n",
    "#ax1.spines['left'].set_position(('outward',15))  \n",
    "\n",
    "fig1.axes[0].plot([-1,20], [0,0], 'k-', linestyle='--',linewidth=0.5)\n",
    "#fig1.axes[1].plot([-1,20], [-1,-1], 'k--', color='#000000', linewidth=1)\n",
    "fig1.axes[0].tick_params(axis='both', which='major', labelsize=AxisLegendSize)  \n",
    "fig1.axes[1].tick_params(axis='both', which='major', labelsize=AxisLegendSize)  \n",
    "#fig1 = plot([-1,20], [0,0])# , 'k--', color='#000000', linewidth=1)\n",
    "#ax1.spines['left'].set_position(('outward',35))\n",
    "\n",
    "labels = []\n",
    "fig1.axes[0].set_xticklabels(labels, rotation=30, ha='right',fontsize=AxisLegendSize)\n",
    "labels2 = ['','Amil','','Bmil','','EIPA','',\"Phen\",'','Bzd']\n",
    "fig1.axes[1].set_xticklabels(labels2, rotation=30, ha='right',fontsize=AxisLegendSize)\n",
    "fig1.axes[0].get_yaxis().set_tick_params(direction='in')\n",
    "fig1.axes[1].get_yaxis().set_tick_params(direction='in')\n",
    "fig1.axes[0].get_xaxis().set_tick_params(direction='in')\n",
    "fig1.axes[1].get_xaxis().set_tick_params(direction='in')\n",
    "\n",
    "fig1.axes[0].set_yticks([2.0,1.5,1.0,0.5,0,-0.5])\n",
    "plt.draw()      # Note, this line is important\n",
    "labels = [l.get_text() for l in fig1.axes[0].get_yticklabels()]\n",
    "labels[4] = '0'\n",
    "fig1.axes[0].set_yticklabels(labels)\n",
    "\n",
    "fig1.axes[1].set_yticks([1.5,1.0,0.5,0,-0.5])\n",
    "plt.draw()      # Note, this line is important\n",
    "labels = [l.get_text() for l in fig1.axes[1].get_yticklabels()]\n",
    "labels[3] = '0'\n",
    "fig1.axes[1].set_yticklabels(labels)\n",
    "\n",
    "\n",
    "\n",
    "plt.gcf().subplots_adjust(bottom=0.1, left=0.27,right=None, top=None,hspace=1, wspace=0.2) \n",
    "plt.savefig(filedir+\"Fig3-EstStat-IU8Uninj\"+'.pdf')\n",
    "#plt.savefig(filedir+\"Fig1-NaGlu-MeanStart\"+'.eps')\n",
    "plt.savefig(filedirManuscript+\"Fig3-EstStat-IU8Uninj\"+'.pdf')\n",
    "\n",
    "\n"
   ]
  },
  {
   "cell_type": "code",
   "execution_count": 54,
   "metadata": {},
   "outputs": [
    {
     "data": {
      "text/plain": [
       "[Text(0, 1.5, '1.5'),\n",
       " Text(0, 1.0, '0'),\n",
       " Text(0, 0.5, '0.5'),\n",
       " Text(0, 0.0, '0'),\n",
       " Text(0, -0.5, '−0.5')]"
      ]
     },
     "execution_count": 54,
     "metadata": {},
     "output_type": "execute_result"
    },
    {
     "data": {
      "text/plain": [
       "<Figure size 432x288 with 0 Axes>"
      ]
     },
     "metadata": {},
     "output_type": "display_data"
    }
   ],
   "source": [
    "#fig1.axes[0].ylabel('Current @-85 mV (µA)', fontsize=14) ‘color’ : ‘linestyle’:’dashed’}\n",
    "#ax1.spines['left'].set_position(('outward',15))  \n",
    "\n",
    "fig1.axes[0].plot([-1,20], [0,0], 'k-', color='#000000',linestyle='--',linewidth=0.5)\n",
    "#fig1.axes[1].plot([-1,20], [-1,-1], 'k--', color='#000000', linewidth=1)\n",
    "fig1.axes[0].tick_params(axis='both', which='major', labelsize=AxisLegendSize)  \n",
    "fig1.axes[1].tick_params(axis='both', which='major', labelsize=AxisLegendSize)  \n",
    "#fig1 = plot([-1,20], [0,0])# , 'k--', color='#000000', linewidth=1)\n",
    "#ax1.spines['left'].set_position(('outward',35))\n",
    "\n",
    "\n",
    "labels = []\n",
    "fig1.axes[0].set_xticklabels(labels, rotation=30, ha='right',fontsize= AxisLegendSize)\n",
    "labels2 = ['','Ibu','','Fibu','','Diclo','',\"Asp\",'','SA']\n",
    "fig1.axes[1].set_xticklabels(labels2, rotation=30, ha='right',fontsize= AxisLegendSize)\n",
    "fig1.axes[0].get_yaxis().set_tick_params(direction='in')\n",
    "fig1.axes[1].get_yaxis().set_tick_params(direction='in')\n",
    "fig1.axes[0].get_xaxis().set_tick_params(direction='in')\n",
    "fig1.axes[1].get_xaxis().set_tick_params(direction='in')\n",
    "fig1.axes[1].set_yticks([0.5,0,-1,-0.5,-1])\n",
    "plt.draw()      # Note, this line is important\n",
    "labels = [l.get_text() for l in fig1.axes[1].get_yticklabels()]\n",
    "labels[1] = '0'\n",
    "fig1.axes[1].set_yticklabels(labels)\n",
    "\n"
   ]
  },
  {
   "cell_type": "markdown",
   "metadata": {},
   "source": [
    "### AMIL analog & MEC-4d"
   ]
  },
  {
   "cell_type": "code",
   "execution_count": 55,
   "metadata": {},
   "outputs": [
    {
     "data": {
      "text/plain": [
       "DABEST v0.2.4\n",
       "=============\n",
       "             \n",
       "Good afternoon!\n",
       "The current time is Thu Dec 17 13:35:23 2020.\n",
       "\n",
       "Effect size(s) with 95% confidence intervals will be computed for:\n",
       "1. M4d-Amil minus Uninj-Amil\n",
       "2. M4d-Bmil minus Uninj-Bmil\n",
       "3. M4d-Eipa minus Uninj-Eipa\n",
       "4. M4d-Phen minus Uninj-Phen\n",
       "5. M4d-Bzd minus Uninj-Bzd\n",
       "\n",
       "5000 resamples will be used to generate the effect size bootstraps."
      ]
     },
     "execution_count": 55,
     "metadata": {},
     "output_type": "execute_result"
    }
   ],
   "source": [
    "Img419Amil = Amil30uninj.loc[Amil30uninj['Injection'] == 'mg419mg012',['DELTA']] #returns a data frame \n",
    "Img419Amil.columns = ['M4d-Amil']\n",
    "\n",
    "Img419Bmil = Bmil30uninj.loc[Bmil30uninj['Injection'] == 'mg419mg012',['DELTA']] #returns a data frame \n",
    "Img419Bmil.columns = ['M4d-Bmil']\n",
    "\n",
    "Img419EIPA = EIPA30uninj.loc[EIPA30uninj['Injection'] == 'mg419mg012',['DELTA']] #returns a data frame \n",
    "Img419EIPA.columns = ['M4d-Eipa']\n",
    "\n",
    "Img419Phen= Phen30uninj.loc[Phen30uninj['Injection'] == 'mg419mg012',['DELTA']] #returns a data frame \n",
    "Img419Phen.columns = ['M4d-Phen']\n",
    "\n",
    "Img419Bzd= Bzd30uninj.loc[Bzd30uninj['Injection'] == 'mg419mg012',['DELTA']] #returns a data frame \n",
    "Img419Bzd.columns = ['M4d-Bzd']\n",
    "\n",
    "\n",
    "UninjAmil = Amil30uninj.loc[Amil30uninj['Injection'] == 'uninjected',['DELTA']] #returns a data frame \n",
    "UninjAmil.columns = ['Uninj-Amil']\n",
    "\n",
    "UninjBmil = Bmil30uninj.loc[Bmil30uninj['Injection'] == 'uninjected',['DELTA']] #returns a data frame \n",
    "UninjBmil.columns = ['Uninj-Bmil']\n",
    "\n",
    "UninjEIPA = EIPA30uninj.loc[EIPA30uninj['Injection'] == 'uninjected',['DELTA']] #returns a data frame \n",
    "UninjEIPA.columns = ['Uninj-Eipa']\n",
    "\n",
    "UninjPhen = Phen30uninj.loc[Phen30uninj['Injection'] == 'uninjected',['DELTA']] #returns a data frame \n",
    "UninjPhen.columns = ['Uninj-Phen']\n",
    "\n",
    "UninjBzd = Bzd30uninj.loc[Bzd30uninj['Injection'] == 'uninjected',['DELTA']] #returns a data frame \n",
    "UninjBzd.columns = ['Uninj-Bzd']\n",
    "\n",
    "#concatenateData\n",
    "IM4dUninjConcat = pd.concat([Img419Amil.reset_index(drop=True),Img419Bmil.reset_index(drop=True),Img419EIPA.reset_index(drop=True),Img419Phen.reset_index(drop=True),Img419Bzd.reset_index(drop=True),UninjAmil.reset_index(drop=True),UninjBmil.reset_index(drop=True),UninjEIPA.reset_index(drop=True),UninjPhen.reset_index(drop=True),UninjBzd.reset_index(drop=True)],sort=False, axis=1)\n",
    "#sort=False removed the warning, but no idea what its doing\n",
    "IM4dUninjConcatuA = IM4dUninjConcat.astype(float)*1000000\n",
    "\n",
    "# #load Data\n",
    "shared_controlIM4dUninj = dabest.load(IM4dUninjConcatuA, idx=(('Uninj-Amil','M4d-Amil',),('Uninj-Bmil','M4d-Bmil',),('Uninj-Eipa','M4d-Eipa',),('Uninj-Phen','M4d-Phen',),('Uninj-Bzd','M4d-Bzd'))) \n",
    "shared_controlIM4dUninj\n"
   ]
  },
  {
   "cell_type": "code",
   "execution_count": 56,
   "metadata": {},
   "outputs": [
    {
     "data": {
      "text/plain": [
       "DABEST v0.2.4\n",
       "=============\n",
       "             \n",
       "Good afternoon!\n",
       "The current time is Thu Dec 17 13:35:25 2020.\n",
       "\n",
       "The unpaired mean difference between Uninj-Amil and M4d-Amil is 6.71 [95%CI 5.12, 8.95].\n",
       "The two-sided p-value of the Mann-Whitney test is 2.07e-15.\n",
       "\n",
       "The unpaired mean difference between Uninj-Bmil and M4d-Bmil is 7.81 [95%CI 5.44, 11.1].\n",
       "The two-sided p-value of the Mann-Whitney test is 2.03e-12.\n",
       "\n",
       "The unpaired mean difference between Uninj-Eipa and M4d-Eipa is 5.53 [95%CI 3.79, 8.16].\n",
       "The two-sided p-value of the Mann-Whitney test is 2.07e-11.\n",
       "\n",
       "The unpaired mean difference between Uninj-Phen and M4d-Phen is 5.18 [95%CI 2.94, 7.99].\n",
       "The two-sided p-value of the Mann-Whitney test is 2.02e-09.\n",
       "\n",
       "The unpaired mean difference between Uninj-Bzd and M4d-Bzd is 0.607 [95%CI -0.0395, 1.68].\n",
       "The two-sided p-value of the Mann-Whitney test is 0.00219.\n",
       "\n",
       "5000 bootstrap samples were taken; the confidence interval is bias-corrected and accelerated.\n",
       "The p-value(s) reported are the likelihood(s) of observing the effect size(s),\n",
       "if the null hypothesis of zero difference is true.\n",
       "\n",
       "To get the results of all valid statistical tests, use `.mean_diff.statistical_tests`"
      ]
     },
     "execution_count": 56,
     "metadata": {},
     "output_type": "execute_result"
    }
   ],
   "source": [
    "shared_controlIM4dUninj.mean_diff"
   ]
  },
  {
   "cell_type": "markdown",
   "metadata": {},
   "source": [
    "# estimation plot M4 amiloride"
   ]
  },
  {
   "cell_type": "code",
   "execution_count": 57,
   "metadata": {},
   "outputs": [
    {
     "data": {
      "text/plain": [
       "<Figure size 216x288 with 0 Axes>"
      ]
     },
     "metadata": {},
     "output_type": "display_data"
    },
    {
     "data": {
      "image/png": "[encoded data removed]",
      "text/plain": [
       "<Figure size 300x400 with 2 Axes>"
      ]
     },
     "metadata": {
      "needs_background": "light"
     },
     "output_type": "display_data"
    }
   ],
   "source": [
    "#change figure!!!!\n",
    "#fig1 = plt.figure(figsize=(3.5, 3)) \n",
    "#ax1 = plt.subplot(1,1,1)\n",
    "plt.figure(figsize=(3, 4)) \n",
    "colorsESTM4=[(0.00, 0.00, 0.00),(0.30, 0.69, 0.29),(0.00, 0.00, 0.00),(0.30, 0.69, 0.29),(0.00, 0.00, 0.00),(0.30, 0.69, 0.29),(0.00, 0.00, 0.00),(0.30, 0.69, 0.29),(0.00, 0.00, 0.00),(0.30, 0.69, 0.29)]\n",
    "#colorsEST = [(0.00, 0.00, 0.00),(0.89, 0.11,0.10),(0.60, 0.31,0.64),(0.30, 0.69, 0.29),(1, 0.50,0),(0.22,0.49,0.72),(0.00, 0.00, 0.00),\"red\",\"blue\",(0.00, 0.00, 0.00),(0.22, 0.49, 0.72),(1.00, 0.50, 0.00)]\n",
    "#\n",
    "\n",
    "fig1= shared_controlIM4dUninj.mean_diff.plot(swarm_ylim=(20,-5), contrast_ylim=(15,-5), custom_palette=colorsESTM4,fig_size=(3, 4),\n",
    "                                     raw_marker_size=(2),es_marker_size=2,contrast_label='Δ$\\it{I}$$_{drug}$ (µA)',\n",
    "                                    swarm_label='$\\it{I}$$_{drug}$ (µA)',reflines_kwargs = {'linestyle':'dashed', 'linewidth':0.75,\n",
    "                                   'color':'red'})#,reflines_kwargs\n",
    " \n",
    "\n",
    "fig1.axes[0].plot([-1,20], [0,0], 'k-', color='#000000', linestyle='--',linewidth=0.5)\n",
    "#fig1.axes[1].plot([-1,20], [-1,-1], 'k--', color='#000000', linewidth=1)\n",
    "fig1.axes[0].tick_params(axis='both', which='major', labelsize=AxisLegendSize)  \n",
    "fig1.axes[1].tick_params(axis='both', which='major', labelsize=AxisLegendSize)  \n",
    "#fig1 = plot([-1,20], [0,0])# , 'k--', color='#000000', linewidth=1)\n",
    "#ax1.spines['left'].set_position(('outward',35))\n",
    "\n",
    "labels = []\n",
    "fig1.axes[0].set_xticklabels(labels, rotation=30, ha='right',fontsize= AxisLegendSize)\n",
    "labels2 = ['','Amil','','Bmil','','EIPA','',\"Phen\",'','Bzd']\n",
    "fig1.axes[1].set_xticklabels(labels2, rotation=30, ha='right',fontsize= AxisLegendSize)\n",
    "fig1.axes[0].get_yaxis().set_tick_params(direction='in')\n",
    "fig1.axes[1].get_yaxis().set_tick_params(direction='in')\n",
    "fig1.axes[0].get_xaxis().set_tick_params(direction='in')\n",
    "fig1.axes[1].get_xaxis().set_tick_params(direction='in')\n",
    "\n",
    "plt.gcf().subplots_adjust(bottom=0.1, left=0.27,right=None, top=None,hspace=1, wspace=0.2) \n",
    "plt.savefig(filedir+\"Fig3-EstStat-IM4Uninj\"+'.pdf')\n",
    "#plt.savefig(filedir+\"Fig1-NaGlu-MeanStart\"+'.eps')\n",
    "plt.savefig(filedirManuscript+\"Fig3-EstStat-IM4Uninj\"+'.pdf')\n",
    "\n",
    "\n"
   ]
  },
  {
   "cell_type": "code",
   "execution_count": null,
   "metadata": {},
   "outputs": [],
   "source": []
  },
  {
   "cell_type": "markdown",
   "metadata": {},
   "source": [
    "### calculate mean to pick representative trace Amil Analog"
   ]
  },
  {
   "cell_type": "markdown",
   "metadata": {},
   "source": [
    "### amiloride"
   ]
  },
  {
   "cell_type": "code",
   "execution_count": 58,
   "metadata": {},
   "outputs": [
    {
     "name": "stdout",
     "output_type": "stream",
     "text": [
      "Injection\n",
      "mg418mg012    19.0\n",
      "mg419mg012    50.0\n",
      "pTL69mg012     5.0\n",
      "uninjected    37.0\n",
      "Name: count, dtype: float64\n"
     ]
    }
   ],
   "source": [
    "pivotAmil30uninj = Amil30uninj.pivot(columns='Injection', values='DELTA').describe().T\n",
    "\n",
    "Amil30uninj.to_csv(filedirManuscriptStat+'Amiloride30uM.csv', header=True, sep=',', mode='w')\n",
    "\n",
    "MeanAmil30 = pivotAmil30uninj['mean']*1000000\n",
    "MeanAmil30 = MeanAmil30.round(2)\n",
    "SDAmil30 = pivotAmil30uninj['std']*1000000\n",
    "SDAmil30 = SDAmil30.round(2)\n",
    "countAmil30 = pivotAmil30uninj['count']\n",
    "SEMAmil30 = SDAmil30/countAmil30\n",
    "SEMAmil30 = SEMAmil30.round(3)\n",
    "print(countAmil30)\n",
    "\n"
   ]
  },
  {
   "cell_type": "markdown",
   "metadata": {},
   "source": [
    "### benzamil"
   ]
  },
  {
   "cell_type": "code",
   "execution_count": 59,
   "metadata": {},
   "outputs": [
    {
     "name": "stdout",
     "output_type": "stream",
     "text": [
      "Injection\n",
      "mg418mg012    18.0\n",
      "mg419mg012    32.0\n",
      "pTL69mg012    18.0\n",
      "uninjected    38.0\n",
      "Name: count, dtype: float64\n"
     ]
    }
   ],
   "source": [
    "pivotBmil30uninj = Bmil30uninj.pivot(columns='Injection', values='DELTA').describe().T\n",
    "\n",
    "Bmil30uninj.to_csv(filedirManuscriptStat+'Benzamil30uM.csv', header=True, sep=',', mode='w')\n",
    "\n",
    "MeanBmil30 = pivotBmil30uninj['mean']*1000000\n",
    "MeanBmil30 = MeanBmil30.round(2)\n",
    "SDBmil30 = pivotBmil30uninj['std']*1000000\n",
    "SDBmil30 = SDBmil30.round(2)\n",
    "countBmil30 = pivotBmil30uninj['count']\n",
    "SEMBmil30 = SDBmil30/countBmil30\n",
    "SEMBmil30 = SEMBmil30.round(3)\n",
    "print(countBmil30)\n"
   ]
  },
  {
   "cell_type": "markdown",
   "metadata": {},
   "source": [
    "#### EIPA"
   ]
  },
  {
   "cell_type": "code",
   "execution_count": 60,
   "metadata": {
    "scrolled": true
   },
   "outputs": [
    {
     "name": "stdout",
     "output_type": "stream",
     "text": [
      "Injection\n",
      "mg418mg012    13.0\n",
      "mg419mg012    27.0\n",
      "pTL69mg012     9.0\n",
      "uninjected    35.0\n",
      "Name: count, dtype: float64\n"
     ]
    }
   ],
   "source": [
    "pivotEIPA30uninj = EIPA30uninj.pivot(columns='Injection', values='DELTA').describe().T\n",
    "\n",
    "EIPA30uninj.to_csv(filedirManuscriptStat+'EIPA30uM.csv', header=True, sep=',', mode='w')\n",
    "\n",
    "MeanEIPA30 = pivotEIPA30uninj['mean']*1000000\n",
    "MeanEIPA30 = MeanEIPA30.round(2)\n",
    "SDEIPA30 = pivotEIPA30uninj['std']*1000000\n",
    "SDEIPA30 = SDEIPA30.round(2)\n",
    "countEIPA30 = pivotEIPA30uninj['count']\n",
    "SEMEIPA30 = SDEIPA30/countEIPA30\n",
    "SEMEIPA30 = SEMEIPA30.round(3)\n",
    "print(countEIPA30)\n"
   ]
  },
  {
   "cell_type": "markdown",
   "metadata": {},
   "source": [
    "### Phenamil"
   ]
  },
  {
   "cell_type": "code",
   "execution_count": 61,
   "metadata": {
    "scrolled": true
   },
   "outputs": [
    {
     "name": "stdout",
     "output_type": "stream",
     "text": [
      "Injection\n",
      "mg418mg012    13.0\n",
      "mg419mg012    26.0\n",
      "pTL69mg012    10.0\n",
      "uninjected    32.0\n",
      "Name: count, dtype: float64\n"
     ]
    }
   ],
   "source": [
    "pivotPhen30uninj = Phen30uninj.pivot(columns='Injection', values='DELTA').describe().T\n",
    "\n",
    "Phen30uninj.to_csv(filedirManuscriptStat+'Phenamil30uM.csv', header=True, sep=',', mode='w')\n",
    "\n",
    "MeanPhen30 = pivotPhen30uninj['mean']*1000000\n",
    "MeanPhen30 = MeanPhen30.round(2)\n",
    "SDPhen30 = pivotPhen30uninj['std']*1000000\n",
    "SDPhen30 = SDPhen30.round(2)\n",
    "countPhen30 = pivotPhen30uninj['count']\n",
    "SEMPhen30 = SDPhen30/countPhen30\n",
    "SEMPhen30 = SEMPhen30.round(3)\n",
    "print(countPhen30)\n"
   ]
  },
  {
   "cell_type": "markdown",
   "metadata": {},
   "source": [
    "### benzamidine"
   ]
  },
  {
   "cell_type": "code",
   "execution_count": 62,
   "metadata": {
    "scrolled": true
   },
   "outputs": [
    {
     "name": "stdout",
     "output_type": "stream",
     "text": [
      "Injection\n",
      "mg418mg012    13.0\n",
      "mg419mg012    25.0\n",
      "pTL69mg012     9.0\n",
      "uninjected    32.0\n",
      "Name: count, dtype: float64\n"
     ]
    }
   ],
   "source": [
    "pivotBzd30uninj = Bzd30uninj.pivot(columns='Injection', values='DELTA').describe().T\n",
    "\n",
    "Bzd30uninj.to_csv(filedirManuscriptStat+'Benzamidine30uM.csv', header=True, sep=',', mode='w')\n",
    "\n",
    "MeanBzd30 = pivotBzd30uninj['mean']*1000000\n",
    "MeanBzd30 = MeanBzd30.round(2)\n",
    "SDBzd30 = pivotBzd30uninj['std']*1000000\n",
    "SDBzd30 = SDBzd30.round(2)\n",
    "countBzd30 = pivotBzd30uninj['count']\n",
    "SEMBzd30 = SDBzd30/countBzd30\n",
    "SEMBzd30 = SEMBzd30.round(3)\n",
    "print(countBzd30)\n"
   ]
  },
  {
   "cell_type": "code",
   "execution_count": null,
   "metadata": {},
   "outputs": [],
   "source": []
  },
  {
   "cell_type": "markdown",
   "metadata": {},
   "source": [
    "# Estimation statistics for NSAIDs"
   ]
  },
  {
   "cell_type": "code",
   "execution_count": 63,
   "metadata": {},
   "outputs": [],
   "source": [
    "#SortNSAID Data\n",
    "Ibu30 = df[(df.Injection.isin([\"mg419mg012\",\"pTL69mg012\",\"mg418mg012\",\"uninjected\"])) & (df.TestSol.isin([\"NaGluIbu30\"]))] \n",
    "#Plot2\n",
    "Fibu30 = df[(df.Injection.isin([\"mg419mg012\",\"pTL69mg012\",\"mg418mg012\",\"uninjected\"])) & (df.TestSol.isin([\"NaGluFibu30\"]))]\n",
    "#Plot3\n",
    "Diclo30 = df[(df.Injection.isin([\"mg419mg012\",\"pTL69mg012\",\"mg418mg012\",\"uninjected\"])) & (df.TestSol.isin([\"NaGluDiclo30\"]))]\n",
    "#Plot4\n",
    "Asp30 = df[(df.Injection.isin([\"mg419mg012\",\"pTL69mg012\",\"mg418mg012\",\"uninjected\"])) & (df.TestSol.isin([\"NaGluAsp30\"]))]\n",
    "#Plot5\n",
    "SA30 = df[(df.Injection.isin([\"mg419mg012\",\"pTL69mg012\",\"mg418mg012\",\"uninjected\"])) & (df.TestSol.isin([\"NaGluSA30\"]))] \n"
   ]
  },
  {
   "cell_type": "markdown",
   "metadata": {},
   "source": [
    "## calculate mean values to pick representative traces NSAIDs"
   ]
  },
  {
   "cell_type": "code",
   "execution_count": 64,
   "metadata": {
    "scrolled": true
   },
   "outputs": [
    {
     "name": "stdout",
     "output_type": "stream",
     "text": [
      "Injection\n",
      "mg418mg012    18.0\n",
      "mg419mg012    13.0\n",
      "pTL69mg012    15.0\n",
      "uninjected    17.0\n",
      "Name: count, dtype: float64\n"
     ]
    }
   ],
   "source": [
    "pivotIbu30 = Ibu30.pivot(columns='Injection', values='DELTA').describe().T\n",
    "\n",
    "Ibu30.to_csv(filedirManuscriptStat+'Ibuprofen30uM.csv', header=True, sep=',', mode='w')\n",
    "\n",
    "MeanIbu30 = pivotIbu30['mean']*1000000\n",
    "MeanIbu30 = MeanIbu30.round(2)\n",
    "SDIbu30 = pivotIbu30['std']*1000000\n",
    "SDIbu30 = SDIbu30.round(2)\n",
    "countIbu30 = pivotIbu30['count']\n",
    "SEMIbu30 = SDIbu30/countIbu30\n",
    "SEMIbu30 = SEMIbu30.round(3)\n",
    "print(countIbu30)"
   ]
  },
  {
   "cell_type": "markdown",
   "metadata": {},
   "source": [
    "### Flurbiprofen"
   ]
  },
  {
   "cell_type": "code",
   "execution_count": 65,
   "metadata": {
    "scrolled": true
   },
   "outputs": [
    {
     "name": "stdout",
     "output_type": "stream",
     "text": [
      "Injection\n",
      "mg418mg012     5.0\n",
      "mg419mg012     8.0\n",
      "pTL69mg012    10.0\n",
      "uninjected    10.0\n",
      "Name: count, dtype: float64\n"
     ]
    }
   ],
   "source": [
    "pivotFibu30 = Fibu30.pivot(columns='Injection', values='DELTA').describe().T\n",
    "\n",
    "Fibu30.to_csv(filedirManuscriptStat+'Flurbiprofen30uM.csv', header=True, sep=',', mode='w')\n",
    "\n",
    "MeanFibu30 = pivotFibu30['mean']*1000000\n",
    "MeanFibu30 = MeanFibu30.round(2)\n",
    "SDFibu30 = pivotFibu30['std']*1000000\n",
    "SDFibu30 = SDFibu30.round(2)\n",
    "countFibu30 = pivotFibu30['count']\n",
    "SEMFibu30 = SDFibu30/countFibu30\n",
    "SEMFibu30 = SEMFibu30.round(3)\n",
    "print(countFibu30)"
   ]
  },
  {
   "cell_type": "markdown",
   "metadata": {},
   "source": [
    "### Diclofenac"
   ]
  },
  {
   "cell_type": "code",
   "execution_count": 66,
   "metadata": {
    "scrolled": true
   },
   "outputs": [
    {
     "name": "stdout",
     "output_type": "stream",
     "text": [
      "Injection\n",
      "mg418mg012     5.0\n",
      "mg419mg012    25.0\n",
      "pTL69mg012    13.0\n",
      "uninjected    34.0\n",
      "Name: count, dtype: float64\n"
     ]
    }
   ],
   "source": [
    "pivotDiclo30 = Diclo30.pivot(columns='Injection', values='DELTA').describe().T\n",
    "\n",
    "Diclo30.to_csv(filedirManuscriptStat+'Diclofenac30uM.csv', header=True, sep=',', mode='w')\n",
    "\n",
    "MeanDiclo30 = pivotDiclo30['mean']*1000000\n",
    "MeanDiclo30 = MeanDiclo30.round(2)\n",
    "SDDiclo30 = pivotDiclo30['std']*1000000\n",
    "SDDiclo30 = SDDiclo30.round(2)\n",
    "countDiclo30 = pivotDiclo30['count']\n",
    "SEMDiclo30 = SDDiclo30/countDiclo30\n",
    "SEMDiclo30 = SEMDiclo30.round(3)\n",
    "print(countDiclo30)"
   ]
  },
  {
   "cell_type": "markdown",
   "metadata": {},
   "source": [
    "### Aspirin"
   ]
  },
  {
   "cell_type": "code",
   "execution_count": 67,
   "metadata": {},
   "outputs": [
    {
     "name": "stdout",
     "output_type": "stream",
     "text": [
      "Injection\n",
      "mg418mg012     5.0\n",
      "mg419mg012     7.0\n",
      "pTL69mg012     9.0\n",
      "uninjected    10.0\n",
      "Name: count, dtype: float64\n"
     ]
    }
   ],
   "source": [
    "pivotAsp30 = Asp30.pivot(columns='Injection', values='DELTA').describe().T\n",
    "\n",
    "Asp30.to_csv(filedirManuscriptStat+'Aspirin30uM.csv', header=True, sep=',', mode='w')\n",
    "\n",
    "MeanAsp30 = pivotAsp30['mean']*1000000\n",
    "MeanAsp30 = MeanAsp30.round(2)\n",
    "SDAsp30 = pivotAsp30['std']*1000000\n",
    "SDAsp30 = SDAsp30.round(2)\n",
    "countAsp30 = pivotAsp30['count']\n",
    "SEMAsp30 = SDAsp30/countAsp30\n",
    "SEMAsp30 = SEMAsp30.round(3)\n",
    "print(countAsp30)"
   ]
  },
  {
   "cell_type": "markdown",
   "metadata": {},
   "source": [
    "### Salicycil Acid"
   ]
  },
  {
   "cell_type": "code",
   "execution_count": 68,
   "metadata": {
    "scrolled": true
   },
   "outputs": [
    {
     "name": "stdout",
     "output_type": "stream",
     "text": [
      "Injection\n",
      "mg418mg012     4.0\n",
      "mg419mg012     7.0\n",
      "pTL69mg012    10.0\n",
      "uninjected    10.0\n",
      "Name: count, dtype: float64\n"
     ]
    }
   ],
   "source": [
    "pivotSA30 = SA30.pivot(columns='Injection', values='DELTA').describe().T\n",
    "\n",
    "SA30.to_csv(filedirManuscriptStat+'SalicylicAcid30uM.csv', header=True, sep=',', mode='w')\n",
    "\n",
    "MeanSA30 = pivotSA30['mean']*1000000\n",
    "MeanSA30 = MeanSA30.round(2)\n",
    "SDSA30 = pivotSA30['std']*1000000\n",
    "SDSA30 = SDSA30.round(2)\n",
    "countSA30 = pivotSA30['count']\n",
    "SEMSA30 = SDSA30/countSA30\n",
    "SEMSA30 = SEMSA30.round(3)\n",
    "print(countSA30)"
   ]
  },
  {
   "cell_type": "code",
   "execution_count": null,
   "metadata": {},
   "outputs": [],
   "source": []
  },
  {
   "cell_type": "markdown",
   "metadata": {},
   "source": [
    "# ESTIMATION STATISTICS ACCORDING TO CHANNEL - NSAIDs"
   ]
  },
  {
   "cell_type": "markdown",
   "metadata": {},
   "source": [
    "### NSAIDS estimation stats DEGT-1d"
   ]
  },
  {
   "cell_type": "code",
   "execution_count": 69,
   "metadata": {},
   "outputs": [
    {
     "data": {
      "text/plain": [
       "DABEST v0.2.4\n",
       "=============\n",
       "             \n",
       "Good afternoon!\n",
       "The current time is Thu Dec 17 13:35:27 2020.\n",
       "\n",
       "Effect size(s) with 95% confidence intervals will be computed for:\n",
       "1. DT1d-Ibu minus Uninj-Ibu\n",
       "2. DT1d-Fibu minus Uninj-Fibu\n",
       "3. DT1d-Diclo minus Uninj-Diclo\n",
       "4. DT1d-Asp minus Uninj-Asp\n",
       "5. DT1d-SA minus Uninj-SA\n",
       "\n",
       "5000 resamples will be used to generate the effect size bootstraps."
      ]
     },
     "execution_count": 69,
     "metadata": {},
     "output_type": "execute_result"
    }
   ],
   "source": [
    "Img418Ibu30= Ibu30.loc[Ibu30['Injection'] == 'mg418mg012',['DELTA']] #returns a data frame \n",
    "Img418Ibu30.columns = ['DT1d-Ibu']\n",
    "\n",
    "Img418Fibu30 = Fibu30.loc[Fibu30['Injection'] == 'mg418mg012',['DELTA']] #returns a data frame \n",
    "Img418Fibu30.columns = ['DT1d-Fibu']\n",
    "\n",
    "Img418Diclo30= Diclo30.loc[Diclo30['Injection'] == 'mg418mg012',['DELTA']] #returns a data frame \n",
    "Img418Diclo30.columns = ['DT1d-Diclo']\n",
    "\n",
    "Img418Asp30= Asp30.loc[Asp30['Injection'] == 'mg418mg012',['DELTA']] #returns a data frame \n",
    "Img418Asp30.columns = ['DT1d-Asp']\n",
    "\n",
    "Img418SA30= SA30.loc[SA30['Injection'] == 'mg418mg012',['DELTA']] #returns a data frame \n",
    "Img418SA30.columns = ['DT1d-SA']\n",
    "\n",
    "\n",
    "UninjIbu30 = Ibu30.loc[Ibu30['Injection'] == 'uninjected',['DELTA']] #returns a data frame \n",
    "UninjIbu30.columns = ['Uninj-Ibu']\n",
    "\n",
    "UninjFibu30 = Fibu30.loc[Fibu30['Injection'] == 'uninjected',['DELTA']] #returns a data frame \n",
    "UninjFibu30.columns = ['Uninj-Fibu']\n",
    "\n",
    "UninjDiclo30 = Diclo30.loc[Diclo30['Injection'] == 'uninjected',['DELTA']] #returns a data frame \n",
    "UninjDiclo30.columns = ['Uninj-Diclo']\n",
    "\n",
    "UninjAsp30 = Asp30.loc[Asp30['Injection'] == 'uninjected',['DELTA']] #returns a data frame \n",
    "UninjAsp30.columns = ['Uninj-Asp']\n",
    "\n",
    "UninjSA30 = SA30.loc[SA30['Injection'] == 'uninjected',['DELTA']] #returns a data frame \n",
    "UninjSA30.columns = ['Uninj-SA']\n",
    "\n",
    "#concatenateData\n",
    "IDT1UninjConcat = pd.concat([Img418Ibu30.reset_index(drop=True),Img418Fibu30.reset_index(drop=True),Img418Diclo30.reset_index(drop=True),Img418Asp30.reset_index(drop=True),Img418SA30.reset_index(drop=True),UninjIbu30.reset_index(drop=True),UninjFibu30.reset_index(drop=True),UninjDiclo30.reset_index(drop=True),UninjAsp30.reset_index(drop=True),UninjSA30.reset_index(drop=True)],sort=False, axis=1)\n",
    "#sort=False removed the warning, but no idea what its doing\n",
    "IDT1UninjConcatuA = IDT1UninjConcat.astype(float)*1000000\n",
    "\n",
    "# #load Data\n",
    "shared_controlIDT1UninjNSAID = dabest.load(IDT1UninjConcatuA, idx=(('Uninj-Ibu','DT1d-Ibu',),('Uninj-Fibu','DT1d-Fibu',),('Uninj-Diclo','DT1d-Diclo',),('Uninj-Asp','DT1d-Asp',),('Uninj-SA','DT1d-SA'))) \n",
    "shared_controlIDT1UninjNSAID\n"
   ]
  },
  {
   "cell_type": "code",
   "execution_count": 70,
   "metadata": {},
   "outputs": [
    {
     "data": {
      "text/plain": [
       "<Figure size 216x288 with 0 Axes>"
      ]
     },
     "metadata": {},
     "output_type": "display_data"
    },
    {
     "data": {
      "image/png": "[encoded data removed]",
      "text/plain": [
       "<Figure size 300x400 with 2 Axes>"
      ]
     },
     "metadata": {
      "needs_background": "light"
     },
     "output_type": "display_data"
    }
   ],
   "source": [
    "#change figure!!!!\n",
    "#fig1 = plt.figure(figsize=(3.5, 3)) \n",
    "#ax1 = plt.subplot(1,1,1)\n",
    "plt.figure(figsize=(3, 4)) \n",
    "colorsESTDT1=[(0.00, 0.00, 0.00),(0.89, 0.11,0.10),(0.00, 0.00, 0.00),(0.89, 0.11,0.10),(0.00, 0.00, 0.00),(0.89, 0.11,0.10),(0.00, 0.00, 0.00),(0.89, 0.11,0.10),(0.00, 0.00, 0.00),(0.89, 0.11,0.10)]\n",
    "#colorsEST = [(0.00, 0.00, 0.00),(0.89, 0.11,0.10),(0.60, 0.31,0.64),(0.30, 0.69, 0.29),(1, 0.50,0),(0.22,0.49,0.72),(0.00, 0.00, 0.00),\"red\",\"blue\",(0.00, 0.00, 0.00),(0.22, 0.49, 0.72),(1.00, 0.50, 0.00)]\n",
    "\n",
    "fig1= shared_controlIDT1UninjNSAID.mean_diff.plot(swarm_ylim=(0.5,-1.5), contrast_ylim=(0.5,-1), custom_palette=colorsESTDT1,fig_size=(3, 4),\n",
    "                                     raw_marker_size=(2),es_marker_size=2,contrast_label='Δ$\\it{I}$$_{drug}$ (µA)',\n",
    "                                    swarm_label='$\\it{I}$$_{drug}$ (µA)',reflines_kwargs = {'linestyle':'dashed', 'linewidth':0.75,\n",
    "                                    'color':'red'})#,reflines_kwargs\n",
    "                                       #previous y label: ΔI-ΔIUninj (µA) \n",
    "\n",
    "\n",
    "#fig1.axes[0].ylabel('Current @-85 mV (µA)', fontsize=14) ‘color’ : ‘linestyle’:’dashed’}\n",
    "#ax1.spines['left'].set_position(('outward',15))  \n",
    "\n",
    "fig1.axes[0].plot([-1,20], [0,0], 'k-', color='#000000',linestyle='--',linewidth=0.5)\n",
    "#fig1.axes[1].plot([-1,20], [-1,-1], 'k--', color='#000000', linewidth=1)\n",
    "fig1.axes[0].tick_params(axis='both', which='major', labelsize=AxisLegendSize)  \n",
    "fig1.axes[1].tick_params(axis='both', which='major', labelsize=AxisLegendSize)  \n",
    "#fig1 = plot([-1,20], [0,0])# , 'k--', color='#000000', linewidth=1)\n",
    "#ax1.spines['left'].set_position(('outward',35))\n",
    "\n",
    "\n",
    "labels = []\n",
    "fig1.axes[0].set_xticklabels(labels, rotation=30, ha='right',fontsize= AxisLegendSize)\n",
    "labels2 = ['','Ibu','','Fibu','','Diclo','',\"Asp\",'','SA']\n",
    "fig1.axes[1].set_xticklabels(labels2, rotation=30, ha='right',fontsize= AxisLegendSize)\n",
    "fig1.axes[0].get_yaxis().set_tick_params(direction='in')\n",
    "fig1.axes[1].get_yaxis().set_tick_params(direction='in')\n",
    "fig1.axes[0].get_xaxis().set_tick_params(direction='in')\n",
    "fig1.axes[1].get_xaxis().set_tick_params(direction='in')\n",
    "fig1.axes[1].set_yticks([0.5,0,-1,-0.5,-1])\n",
    "plt.draw()      # Note, this line is important\n",
    "labels = [l.get_text() for l in fig1.axes[1].get_yticklabels()]\n",
    "labels[1] = '0'\n",
    "fig1.axes[1].set_yticklabels(labels)\n",
    "\n",
    "\n",
    "\n",
    "#plt.gcf().subplots_adjust(bottom=0.2, left=0.25,right=None, top=None,hspace=3.75, wspace=0.2) \n",
    "plt.gcf().subplots_adjust(bottom=0.1, left=0.25,right=None, top=None,hspace=1, wspace=0.2) \n",
    "plt.savefig(filedir+\"Fig4-EstStat-IDT1Uninj-NSAID\"+'.pdf')\n",
    "#plt.savefig(filedir+\"Fig1-NaGlu-MeanStart\"+'.eps')\n",
    "plt.savefig(filedirManuscript+\"Fig4-EstStat-IDT1Uninj-NSAID\"+'.pdf')\n",
    "\n",
    "\n"
   ]
  },
  {
   "cell_type": "markdown",
   "metadata": {},
   "source": [
    "# vakues estimations stats DEGT1 NSAIDs"
   ]
  },
  {
   "cell_type": "code",
   "execution_count": 71,
   "metadata": {},
   "outputs": [
    {
     "data": {
      "text/plain": [
       "DABEST v0.2.4\n",
       "=============\n",
       "             \n",
       "Good afternoon!\n",
       "The current time is Thu Dec 17 13:35:28 2020.\n",
       "\n",
       "The unpaired mean difference between Uninj-Ibu and DT1d-Ibu is 0.0199 [95%CI 0.00658, 0.036].\n",
       "The two-sided p-value of the Mann-Whitney test is 0.00102.\n",
       "\n",
       "The unpaired mean difference between Uninj-Fibu and DT1d-Fibu is 0.152 [95%CI 0.0832, 0.226].\n",
       "The two-sided p-value of the Mann-Whitney test is 0.00269.\n",
       "\n",
       "The unpaired mean difference between Uninj-Diclo and DT1d-Diclo is -0.0368 [95%CI -0.0753, -0.0144].\n",
       "The two-sided p-value of the Mann-Whitney test is 0.00306.\n",
       "\n",
       "The unpaired mean difference between Uninj-Asp and DT1d-Asp is 0.0368 [95%CI 0.0069, 0.0642].\n",
       "The two-sided p-value of the Mann-Whitney test is 0.0758.\n",
       "\n",
       "The unpaired mean difference between Uninj-SA and DT1d-SA is 0.0734 [95%CI 0.0413, 0.0927].\n",
       "The two-sided p-value of the Mann-Whitney test is 0.00582.\n",
       "\n",
       "5000 bootstrap samples were taken; the confidence interval is bias-corrected and accelerated.\n",
       "The p-value(s) reported are the likelihood(s) of observing the effect size(s),\n",
       "if the null hypothesis of zero difference is true.\n",
       "\n",
       "To get the results of all valid statistical tests, use `.mean_diff.statistical_tests`"
      ]
     },
     "execution_count": 71,
     "metadata": {},
     "output_type": "execute_result"
    }
   ],
   "source": [
    "shared_controlIDT1UninjNSAID.mean_diff"
   ]
  },
  {
   "cell_type": "markdown",
   "metadata": {},
   "source": [
    "### UNC-8 NSAIDS \n"
   ]
  },
  {
   "cell_type": "code",
   "execution_count": 72,
   "metadata": {
    "scrolled": true
   },
   "outputs": [
    {
     "data": {
      "text/plain": [
       "DABEST v0.2.4\n",
       "=============\n",
       "             \n",
       "Good afternoon!\n",
       "The current time is Thu Dec 17 13:35:29 2020.\n",
       "\n",
       "Effect size(s) with 95% confidence intervals will be computed for:\n",
       "1. U8d-Ibu minus Uninj-Ibu\n",
       "2. U8d-Fibu minus Uninj-Fibu\n",
       "3. U8d-Diclo minus Uninj-Diclo\n",
       "4. U8d-Asp minus Uninj-Asp\n",
       "5. U8d-SA minus Uninj-SA\n",
       "\n",
       "5000 resamples will be used to generate the effect size bootstraps."
      ]
     },
     "execution_count": 72,
     "metadata": {},
     "output_type": "execute_result"
    }
   ],
   "source": [
    "IpTL69Ibu30= Ibu30.loc[Ibu30['Injection'] == 'pTL69mg012',['DELTA']] #returns a data frame \n",
    "IpTL69Ibu30.columns = ['U8d-Ibu']\n",
    "\n",
    "IpTL69Fibu30 = Fibu30.loc[Fibu30['Injection'] == 'pTL69mg012',['DELTA']] #returns a data frame \n",
    "IpTL69Fibu30.columns = ['U8d-Fibu']\n",
    "\n",
    "IpTL69Diclo30= Diclo30.loc[Diclo30['Injection'] == 'pTL69mg012',['DELTA']] #returns a data frame \n",
    "IpTL69Diclo30.columns = ['U8d-Diclo']\n",
    "\n",
    "IpTL69Asp30= Asp30.loc[Asp30['Injection'] == 'pTL69mg012',['DELTA']] #returns a data frame \n",
    "IpTL69Asp30.columns = ['U8d-Asp']\n",
    "\n",
    "IpTL69SA30= SA30.loc[SA30['Injection'] == 'pTL69mg012',['DELTA']] #returns a data frame \n",
    "IpTL69SA30.columns = ['U8d-SA']\n",
    "\n",
    "\n",
    "UninjIbu30 = Ibu30.loc[Ibu30['Injection'] == 'uninjected',['DELTA']] #returns a data frame \n",
    "UninjIbu30.columns = ['Uninj-Ibu']\n",
    "\n",
    "UninjFibu30 = Fibu30.loc[Fibu30['Injection'] == 'uninjected',['DELTA']] #returns a data frame \n",
    "UninjFibu30.columns = ['Uninj-Fibu']\n",
    "\n",
    "UninjDiclo30 = Diclo30.loc[Diclo30['Injection'] == 'uninjected',['DELTA']] #returns a data frame \n",
    "UninjDiclo30.columns = ['Uninj-Diclo']\n",
    "\n",
    "UninjAsp30 = Asp30.loc[Asp30['Injection'] == 'uninjected',['DELTA']] #returns a data frame \n",
    "UninjAsp30.columns = ['Uninj-Asp']\n",
    "\n",
    "UninjSA30 = SA30.loc[SA30['Injection'] == 'uninjected',['DELTA']] #returns a data frame \n",
    "UninjSA30.columns = ['Uninj-SA']\n",
    "\n",
    "#concatenateData\n",
    "IU8UninjConcat = pd.concat([IpTL69Ibu30.reset_index(drop=True),IpTL69Fibu30.reset_index(drop=True),IpTL69Diclo30.reset_index(drop=True),IpTL69Asp30.reset_index(drop=True),IpTL69SA30.reset_index(drop=True),UninjIbu30.reset_index(drop=True),UninjFibu30.reset_index(drop=True),UninjDiclo30.reset_index(drop=True),UninjAsp30.reset_index(drop=True),UninjSA30.reset_index(drop=True)],sort=False, axis=1)\n",
    "#sort=False removed the warning, but no idea what its doing\n",
    "IU8UninjConcatuA = IU8UninjConcat.astype(float)*1000000\n",
    "\n",
    "# #load Data\n",
    "shared_controlIU8UninjNSAID = dabest.load(IU8UninjConcatuA, idx=(('Uninj-Ibu','U8d-Ibu',),('Uninj-Fibu','U8d-Fibu',),('Uninj-Diclo','U8d-Diclo',),('Uninj-Asp','U8d-Asp',),('Uninj-SA','U8d-SA'))) \n",
    "shared_controlIU8UninjNSAID\n"
   ]
  },
  {
   "cell_type": "code",
   "execution_count": 73,
   "metadata": {},
   "outputs": [
    {
     "data": {
      "text/plain": [
       "DABEST v0.2.4\n",
       "=============\n",
       "             \n",
       "Good afternoon!\n",
       "The current time is Thu Dec 17 13:35:31 2020.\n",
       "\n",
       "The unpaired mean difference between Uninj-Ibu and U8d-Ibu is 0.0259 [95%CI 0.00162, 0.0507].\n",
       "The two-sided p-value of the Mann-Whitney test is 0.0235.\n",
       "\n",
       "The unpaired mean difference between Uninj-Fibu and U8d-Fibu is 0.221 [95%CI 0.126, 0.386].\n",
       "The two-sided p-value of the Mann-Whitney test is 0.00033.\n",
       "\n",
       "The unpaired mean difference between Uninj-Diclo and U8d-Diclo is 0.242 [95%CI 0.152, 0.348].\n",
       "The two-sided p-value of the Mann-Whitney test is 5.25e-06.\n",
       "\n",
       "The unpaired mean difference between Uninj-Asp and U8d-Asp is -0.0711 [95%CI -0.163, 0.0103].\n",
       "The two-sided p-value of the Mann-Whitney test is 0.391.\n",
       "\n",
       "The unpaired mean difference between Uninj-SA and U8d-SA is -0.062 [95%CI -0.196, 0.00805].\n",
       "The two-sided p-value of the Mann-Whitney test is 0.162.\n",
       "\n",
       "5000 bootstrap samples were taken; the confidence interval is bias-corrected and accelerated.\n",
       "The p-value(s) reported are the likelihood(s) of observing the effect size(s),\n",
       "if the null hypothesis of zero difference is true.\n",
       "\n",
       "To get the results of all valid statistical tests, use `.mean_diff.statistical_tests`"
      ]
     },
     "execution_count": 73,
     "metadata": {},
     "output_type": "execute_result"
    }
   ],
   "source": [
    "shared_controlIU8UninjNSAID.mean_diff"
   ]
  },
  {
   "cell_type": "code",
   "execution_count": 74,
   "metadata": {},
   "outputs": [
    {
     "data": {
      "text/plain": [
       "<Figure size 216x288 with 0 Axes>"
      ]
     },
     "metadata": {},
     "output_type": "display_data"
    },
    {
     "data": {
      "image/png": "[encoded data removed]",
      "text/plain": [
       "<Figure size 300x400 with 2 Axes>"
      ]
     },
     "metadata": {
      "needs_background": "light"
     },
     "output_type": "display_data"
    }
   ],
   "source": [
    "#change figure!!!!\n",
    "#fig1 = plt.figure(figsize=(3.5, 3)) \n",
    "#ax1 = plt.subplot(1,1,1)\n",
    "plt.figure(figsize=(3, 4)) \n",
    "colorsESTU8=[(0.00, 0.00, 0.00),(0.60, 0.31,0.64),(0.00, 0.00, 0.00),(0.60, 0.31,0.64),(0.00, 0.00, 0.00),(0.60, 0.31,0.64),(0.00, 0.00, 0.00),(0.60, 0.31,0.64),(0.00, 0.00, 0.00),(0.60, 0.31,0.64)]\n",
    "#colorsEST = [(0.00, 0.00, 0.00),(0.89, 0.11,0.10),(0.60, 0.31,0.64),(0.30, 0.69, 0.29),(1, 0.50,0),(0.22,0.49,0.72),(0.00, 0.00, 0.00),\"red\",\"blue\",(0.00, 0.00, 0.00),(0.22, 0.49, 0.72),(1.00, 0.50, 0.00)]\n",
    "\n",
    "fig1= shared_controlIU8UninjNSAID.mean_diff.plot(swarm_ylim=(0.5,-1.5), contrast_ylim=(0.5,-1), custom_palette=colorsESTU8,fig_size=(3, 4),\n",
    "                                     raw_marker_size=(2),es_marker_size=2,contrast_label='Δ$\\it{I}$$_{drug}$ (µA)',\n",
    "                                    swarm_label='$\\it{I}$$_{drug}$ (µA)',reflines_kwargs = {'linestyle':'dashed', 'linewidth':0.75,\n",
    "                                   'color':'red'})#,reflines_kwargs\n",
    "#fig1.axes[0].ylabel('Current @-85 mV (µA)', fontsize=14) ‘color’ : ‘linestyle’:’dashed’}\n",
    "#ax1.spines['left'].set_position(('outward',15))  \n",
    "\n",
    "fig1.axes[0].plot([-1,20], [0,0], 'k-', color='#000000', linestyle='--',linewidth=0.5)\n",
    "#fig1.axes[1].plot([-1,20], [-1,-1], 'k--', color='#000000', linewidth=1)\n",
    "fig1.axes[0].tick_params(axis='both', which='major', labelsize=AxisLegendSize)  \n",
    "fig1.axes[1].tick_params(axis='both', which='major', labelsize=AxisLegendSize)  \n",
    "#fig1 = plot([-1,20], [0,0])# , 'k--', color='#000000', linewidth=1)\n",
    "#ax1.spines['left'].set_position(('outward',35))\n",
    "\n",
    "labels = []\n",
    "fig1.axes[0].set_xticklabels(labels, rotation=30, ha='right',fontsize= AxisLegendSize)\n",
    "labels2 = ['','Ibu','','Fibu','','Diclo','',\"Asp\",'','SA']\n",
    "fig1.axes[1].set_xticklabels(labels2, rotation=30, ha='right',fontsize= AxisLegendSize)\n",
    "fig1.axes[0].get_yaxis().set_tick_params(direction='in')\n",
    "fig1.axes[1].get_yaxis().set_tick_params(direction='in')\n",
    "fig1.axes[0].get_xaxis().set_tick_params(direction='in')\n",
    "fig1.axes[1].get_xaxis().set_tick_params(direction='in')\n",
    "fig1.axes[1].set_yticks([0.5,0,-1,-0.5,-1])\n",
    "plt.draw()      # Note, this line is important\n",
    "labels = [l.get_text() for l in fig1.axes[1].get_yticklabels()]\n",
    "labels[1] = '0'\n",
    "fig1.axes[1].set_yticklabels(labels)\n",
    "\n",
    "\n",
    "plt.gcf().subplots_adjust(bottom=0.1, left=0.25,right=None, top=None,hspace=1, wspace=0.2) \n",
    "plt.savefig(filedir+\"Fig4-EstStat-IU8Uninj-NSAIDs\"+'.pdf')\n",
    "#plt.savefig(filedir+\"Fig1-NaGlu-MeanStart\"+'.eps')\n",
    "plt.savefig(filedirManuscript+\"Fig4-EstStat-IU8Uninj-NSAIDs\"+'.pdf')\n",
    "\n",
    "\n"
   ]
  },
  {
   "cell_type": "markdown",
   "metadata": {},
   "source": [
    "### MEC-4 NSAIDs"
   ]
  },
  {
   "cell_type": "code",
   "execution_count": 75,
   "metadata": {
    "scrolled": true
   },
   "outputs": [
    {
     "data": {
      "text/plain": [
       "DABEST v0.2.4\n",
       "=============\n",
       "             \n",
       "Good afternoon!\n",
       "The current time is Thu Dec 17 13:35:32 2020.\n",
       "\n",
       "Effect size(s) with 95% confidence intervals will be computed for:\n",
       "1. M4d-Ibu minus Uninj-Ibu\n",
       "2. M4d-Fibu minus Uninj-Fibu\n",
       "3. M4d-Diclo minus Uninj-Diclo\n",
       "4. M4d-Asp minus Uninj-Asp\n",
       "5. M4d-SA minus Uninj-SA\n",
       "\n",
       "5000 resamples will be used to generate the effect size bootstraps."
      ]
     },
     "execution_count": 75,
     "metadata": {},
     "output_type": "execute_result"
    }
   ],
   "source": [
    "Img419Ibu30= Ibu30.loc[Ibu30['Injection'] == 'mg419mg012',['DELTA']] #returns a data frame \n",
    "Img419Ibu30.columns = ['M4d-Ibu']\n",
    "\n",
    "Img419Fibu30 = Fibu30.loc[Fibu30['Injection'] == 'mg419mg012',['DELTA']] #returns a data frame \n",
    "Img419Fibu30.columns = ['M4d-Fibu']\n",
    "\n",
    "Img419Diclo30= Diclo30.loc[Diclo30['Injection'] == 'mg419mg012',['DELTA']] #returns a data frame \n",
    "Img419Diclo30.columns = ['M4d-Diclo']\n",
    "\n",
    "Img419Asp30= Asp30.loc[Asp30['Injection'] == 'mg419mg012',['DELTA']] #returns a data frame \n",
    "Img419Asp30.columns = ['M4d-Asp']\n",
    "\n",
    "Img419SA30= SA30.loc[SA30['Injection'] == 'mg419mg012',['DELTA']] #returns a data frame \n",
    "Img419SA30.columns = ['M4d-SA']\n",
    "\n",
    "\n",
    "UninjIbu30 = Ibu30.loc[Ibu30['Injection'] == 'uninjected',['DELTA']] #returns a data frame \n",
    "UninjIbu30.columns = ['Uninj-Ibu']\n",
    "\n",
    "UninjFibu30 = Fibu30.loc[Fibu30['Injection'] == 'uninjected',['DELTA']] #returns a data frame \n",
    "UninjFibu30.columns = ['Uninj-Fibu']\n",
    "\n",
    "UninjDiclo30 = Diclo30.loc[Diclo30['Injection'] == 'uninjected',['DELTA']] #returns a data frame \n",
    "UninjDiclo30.columns = ['Uninj-Diclo']\n",
    "\n",
    "UninjAsp30 = Asp30.loc[Asp30['Injection'] == 'uninjected',['DELTA']] #returns a data frame \n",
    "UninjAsp30.columns = ['Uninj-Asp']\n",
    "\n",
    "UninjSA30 = SA30.loc[SA30['Injection'] == 'uninjected',['DELTA']] #returns a data frame \n",
    "UninjSA30.columns = ['Uninj-SA']\n",
    "\n",
    "#concatenateData\n",
    "IM4UninjConcat = pd.concat([Img419Ibu30.reset_index(drop=True),Img419Fibu30.reset_index(drop=True),Img419Diclo30.reset_index(drop=True),Img419Asp30.reset_index(drop=True),Img419SA30.reset_index(drop=True),UninjIbu30.reset_index(drop=True),UninjFibu30.reset_index(drop=True),UninjDiclo30.reset_index(drop=True),UninjAsp30.reset_index(drop=True),UninjSA30.reset_index(drop=True)],sort=False, axis=1)\n",
    "#sort=False removed the warning, but no idea what its doing\n",
    "IM4UninjConcatuA = IM4UninjConcat.astype(float)*1000000\n",
    "\n",
    "# #load Data\n",
    "shared_controlIM4UninjNSAID = dabest.load(IM4UninjConcatuA, idx=(('Uninj-Ibu','M4d-Ibu',),('Uninj-Fibu','M4d-Fibu',),('Uninj-Diclo','M4d-Diclo',),('Uninj-Asp','M4d-Asp',),('Uninj-SA','M4d-SA'))) \n",
    "shared_controlIM4UninjNSAID\n"
   ]
  },
  {
   "cell_type": "code",
   "execution_count": 76,
   "metadata": {},
   "outputs": [
    {
     "data": {
      "text/plain": [
       "DABEST v0.2.4\n",
       "=============\n",
       "             \n",
       "Good afternoon!\n",
       "The current time is Thu Dec 17 13:35:33 2020.\n",
       "\n",
       "The unpaired mean difference between Uninj-Ibu and M4d-Ibu is -4.01 [95%CI -5.65, -2.7].\n",
       "The two-sided p-value of the Mann-Whitney test is 9.93e-05.\n",
       "\n",
       "The unpaired mean difference between Uninj-Fibu and M4d-Fibu is -3.55 [95%CI -4.47, -2.84].\n",
       "The two-sided p-value of the Mann-Whitney test is 0.000449.\n",
       "\n",
       "The unpaired mean difference between Uninj-Diclo and M4d-Diclo is -2.69 [95%CI -4.4, -1.6].\n",
       "The two-sided p-value of the Mann-Whitney test is 5.39e-08.\n",
       "\n",
       "The unpaired mean difference between Uninj-Asp and M4d-Asp is -4.59 [95%CI -7.43, -3.46].\n",
       "The two-sided p-value of the Mann-Whitney test is 0.00076.\n",
       "\n",
       "The unpaired mean difference between Uninj-SA and M4d-SA is -5.39 [95%CI -7.26, -3.89].\n",
       "The two-sided p-value of the Mann-Whitney test is 0.00076.\n",
       "\n",
       "5000 bootstrap samples were taken; the confidence interval is bias-corrected and accelerated.\n",
       "The p-value(s) reported are the likelihood(s) of observing the effect size(s),\n",
       "if the null hypothesis of zero difference is true.\n",
       "\n",
       "To get the results of all valid statistical tests, use `.mean_diff.statistical_tests`"
      ]
     },
     "execution_count": 76,
     "metadata": {},
     "output_type": "execute_result"
    }
   ],
   "source": [
    "shared_controlIM4UninjNSAID.mean_diff"
   ]
  },
  {
   "cell_type": "code",
   "execution_count": 77,
   "metadata": {},
   "outputs": [
    {
     "data": {
      "text/plain": [
       "<Figure size 216x288 with 0 Axes>"
      ]
     },
     "metadata": {},
     "output_type": "display_data"
    },
    {
     "data": {
      "image/png": "[encoded data removed]",
      "text/plain": [
       "<Figure size 300x400 with 2 Axes>"
      ]
     },
     "metadata": {
      "needs_background": "light"
     },
     "output_type": "display_data"
    }
   ],
   "source": [
    "#change figure!!!!\n",
    "#fig1 = plt.figure(figsize=(3.5, 3)) \n",
    "#ax1 = plt.subplot(1,1,1)\n",
    "plt.figure(figsize=(3, 4)) \n",
    "colorsESTM4=[(0.00, 0.00, 0.00),(0.30, 0.69, 0.29),(0.00, 0.00, 0.00),(0.30, 0.69, 0.29),(0.00, 0.00, 0.00),(0.30, 0.69, 0.29),(0.00, 0.00, 0.00),(0.30, 0.69, 0.29),(0.00, 0.00, 0.00),(0.30, 0.69, 0.29)]\n",
    "#colorsEST = [(0.00, 0.00, 0.00),(0.89, 0.11,0.10),(0.60, 0.31,0.64),(0.30, 0.69, 0.29),(1, 0.50,0),(0.22,0.49,0.72),(0.00, 0.00, 0.00),\"red\",\"blue\",(0.00, 0.00, 0.00),(0.22, 0.49, 0.72),(1.00, 0.50, 0.00)]\n",
    "\n",
    "fig1= shared_controlIM4UninjNSAID.mean_diff.plot(swarm_ylim=(5,-15), contrast_ylim=(5,-10), custom_palette=colorsESTM4,fig_size=(3, 4),\n",
    "                                     raw_marker_size=(2),es_marker_size=2,contrast_label='Δ$\\it{I}$$_{drug}$ (µA)',\n",
    "                                    swarm_label='$\\it{I}$$_{drug}$ (µA)',reflines_kwargs = {'linestyle':'dashed', 'linewidth':0.75,\n",
    "                                   'color':'red'})#,reflines_kwargs\n",
    "#fig1.axes[0].ylabel('Current @-85 mV (µA)', fontsize=14) ‘color’ : ‘linestyle’:’dashed’}\n",
    "#ax1.spines['left'].set_position(('outward',15))  \n",
    "\n",
    "fig1.axes[0].plot([-1,20], [0,0], 'k-', color='#000000',  linestyle='--',linewidth=0.5)\n",
    "#fig1.axes[1].plot([-1,20], [-1,-1], 'k--', color='#000000', linewidth=1)\n",
    "fig1.axes[0].tick_params(axis='both', which='major', labelsize=AxisLegendSize)  \n",
    "fig1.axes[1].tick_params(axis='both', which='major', labelsize=AxisLegendSize)  \n",
    "#fig1 = plot([-1,20], [0,0])# , 'k--', color='#000000', linewidth=1)\n",
    "#ax1.spines['left'].set_position(('outward',35))\n",
    "\n",
    "labels = []\n",
    "fig1.axes[0].set_xticklabels(labels, rotation=30, ha='right',fontsize= AxisLegendSize)\n",
    "labels2 = ['','Ibu','','Fibu','','Diclo','',\"Asp\",'','SA']\n",
    "fig1.axes[1].set_xticklabels(labels2, rotation=30, ha='right',fontsize= AxisLegendSize)\n",
    "fig1.axes[0].get_yaxis().set_tick_params(direction='in')\n",
    "fig1.axes[1].get_yaxis().set_tick_params(direction='in')\n",
    "fig1.axes[0].get_xaxis().set_tick_params(direction='in')\n",
    "fig1.axes[1].get_xaxis().set_tick_params(direction='in')\n",
    "fig1.axes[1].set_yticks([5,0,-10,-5,-10])\n",
    "plt.draw()      # Note, this line is important\n",
    "labels = [l.get_text() for l in fig1.axes[1].get_yticklabels()]\n",
    "labels[1] = '0'\n",
    "fig1.axes[1].set_yticklabels(labels)\n",
    "\n",
    "\n",
    "plt.gcf().subplots_adjust(bottom=0.1, left=0.25,right=None, top=None,hspace=1, wspace=0.2) \n",
    "\n",
    "plt.savefig(filedir+\"Fig4-EstStat-IM4Uninj-NSAIDs\"+'.pdf')\n",
    "plt.savefig(filedirManuscript+\"Fig4-EstStat-IM4Uninj-NSAIDs\"+'.pdf')\n",
    "\n",
    "\n"
   ]
  },
  {
   "cell_type": "code",
   "execution_count": null,
   "metadata": {},
   "outputs": [],
   "source": []
  },
  {
   "cell_type": "markdown",
   "metadata": {},
   "source": [
    "# estimation statistics PH"
   ]
  },
  {
   "cell_type": "markdown",
   "metadata": {},
   "source": [
    "### TODO: get mean values + SD"
   ]
  },
  {
   "cell_type": "code",
   "execution_count": 78,
   "metadata": {
    "scrolled": true
   },
   "outputs": [
    {
     "name": "stdout",
     "output_type": "stream",
     "text": [
      "Injection\n",
      "mg418mg012    0.53\n",
      "mg419mg012    1.00\n",
      "pTL69mg012   -1.14\n",
      "uninjected   -0.03\n",
      "Name: mean, dtype: float64\n",
      "Injection\n",
      "mg418mg012    0.41\n",
      "mg419mg012    1.65\n",
      "pTL69mg012    0.76\n",
      "uninjected    0.10\n",
      "Name: std, dtype: float64\n"
     ]
    }
   ],
   "source": [
    "CALCHANGEinPH = df[(df.Injection.isin([\"mg419mg012\",\"pTL69mg012\",\"mg418mg012\",\"uninjected\"])) & (df.TestSol.isin([\"NaGlu64\"]) & df.StartSol.isin([\"NaGlu84\"]))] \n",
    "\n",
    "CALCHANGEinPH.to_csv(filedirManuscriptStat+'ChangeInpH.csv', header=True, sep=',', mode='w')\n",
    "\n",
    "ExInitialpH = CALCHANGEinPH.pivot(columns='Injection', values='DELTA').describe().T\n",
    "#ExInitialCurrent = ExInitialCurrent.round()\n",
    "ExInitialpH.to_csv(filedir+'ExInitialpH.csv', header=True, sep=',', mode='w')\n",
    "#trying to replace A with uA multiplying by 1000000\n",
    "#ExInitialCurrent.replace(to_replace = [ExInitialCurrent['mean']],value = 100, inplace = True)\n",
    "Mean_ChangepH = ExInitialpH['mean']*1000000\n",
    "Mean_ChangepH = Mean_ChangepH.round(2)\n",
    "SD_ChangepH = ExInitialpH['std']*1000000\n",
    "SD_ChangepH = SD_ChangepH.round(2)\n",
    "print(Mean_ChangepH )\n",
    "print(SD_ChangepH )"
   ]
  },
  {
   "cell_type": "code",
   "execution_count": 79,
   "metadata": {
    "scrolled": false
   },
   "outputs": [
    {
     "data": {
      "text/plain": [
       "DABEST v0.2.4\n",
       "=============\n",
       "             \n",
       "Good afternoon!\n",
       "The current time is Thu Dec 17 13:35:35 2020.\n",
       "\n",
       "Effect size(s) with 95% confidence intervals will be computed for:\n",
       "1. DT1d minus Uninj\n",
       "\n",
       "5000 resamples will be used to generate the effect size bootstraps."
      ]
     },
     "execution_count": 79,
     "metadata": {},
     "output_type": "execute_result"
    }
   ],
   "source": [
    "#change pH START SOL MUST BE 8.4\n",
    "pH = df[(df.Injection.isin([\"mg419mg012\",\"pTL69mg012\",\"mg418mg012\",\"uninjected\"])) & (df.TestSol.isin([\"NaGlu64\"]) & df.StartSol.isin([\"NaGlu84\"]))] \n",
    "\n",
    "Img419pH = pH.loc[pH['Injection'] == 'mg419mg012',['DELTA']] #returns a data frame \n",
    "Img419pH.columns = ['M4d']\n",
    "\n",
    "Img418pH = pH.loc[pH['Injection'] == 'mg418mg012',['DELTA']] #returns a data frame \n",
    "Img418pH.columns = ['DT1d']\n",
    "\n",
    "IpTL69pH = pH.loc[pH['Injection'] == 'pTL69mg012',['DELTA']] #returns a data frame \n",
    "IpTL69pH.columns = ['U8d']\n",
    "\n",
    "IUninjpH = pH.loc[pH['Injection'] == 'uninjected',['DELTA']] #returns a data frame \n",
    "IUninjpH.columns = ['Uninj']\n",
    "\n",
    "#concatenateData\n",
    "IpHConcat = pd.concat([IUninjpH.reset_index(drop=True),Img418pH.reset_index(drop=True),Img419pH.reset_index(drop=True),IpTL69pH.reset_index(drop=True)],sort=False, axis=1)\n",
    "#sort=False removed the warning, but no idea what its doin\n",
    "IpHConcatuA = IpHConcat.astype(float)*1000000\n",
    "\n",
    "#concatenateData\n",
    "IpHConcatDEGT = pd.concat([IUninjpH.reset_index(drop=True),Img418pH.reset_index(drop=True)],sort=False, axis=1)\n",
    "#sort=False removed the warning, but no idea what its doin\n",
    "IpHConcatuADEGT1 = IpHConcatDEGT.astype(float)*1000000\n",
    "\n",
    "#load Data\n",
    "shared_controlIpH = dabest.load(IpHConcatuA, idx=(\"Uninj\",\"DT1d\",'U8d','M4d'))\n",
    "shared_controlIpH\n",
    "\n",
    "shared_controlIpH_DEGT1 = dabest.load(IpHConcatuADEGT1, idx=(\"Uninj\",\"DT1d\"))\n",
    "shared_controlIpH_DEGT1\n"
   ]
  },
  {
   "cell_type": "markdown",
   "metadata": {},
   "source": [
    "# get mean + SD for change in PH"
   ]
  },
  {
   "cell_type": "code",
   "execution_count": 80,
   "metadata": {},
   "outputs": [
    {
     "name": "stdout",
     "output_type": "stream",
     "text": [
      "Injection\n",
      "mg418mg012    0.53\n",
      "mg419mg012    1.00\n",
      "pTL69mg012   -1.14\n",
      "uninjected   -0.03\n",
      "Name: mean, dtype: float64\n",
      "Injection\n",
      "mg418mg012    0.41\n",
      "mg419mg012    1.65\n",
      "pTL69mg012    0.76\n",
      "uninjected    0.10\n",
      "Name: std, dtype: float64\n"
     ]
    }
   ],
   "source": [
    "CALCHANGEinPH = df[(df.Injection.isin([\"mg419mg012\",\"pTL69mg012\",\"mg418mg012\",\"uninjected\"])) & (df.TestSol.isin([\"NaGlu64\"]) & df.StartSol.isin([\"NaGlu84\"]))] \n",
    "\n",
    "CALCHANGEinPH.to_csv(filedirManuscriptStat+'ChangeInpH.csv', header=True, sep=',', mode='w')\n",
    "\n",
    "ExInitialpH = CALCHANGEinPH.pivot(columns='Injection', values='DELTA').describe().T\n",
    "#ExInitialCurrent = ExInitialCurrent.round()\n",
    "ExInitialpH.to_csv(filedir+'ExInitialpH.csv', header=True, sep=',', mode='w')\n",
    "#trying to replace A with uA multiplying by 1000000\n",
    "#ExInitialCurrent.replace(to_replace = [ExInitialCurrent['mean']],value = 100, inplace = True)\n",
    "Mean_ChangepH = ExInitialpH['mean']*1000000\n",
    "Mean_ChangepH = Mean_ChangepH.round(2)\n",
    "SD_ChangepH = ExInitialpH['std']*1000000\n",
    "SD_ChangepH = SD_ChangepH.round(2)\n",
    "print(Mean_ChangepH )\n",
    "print(SD_ChangepH )\n",
    "\n",
    "\n",
    "#CALCHANGEinPH.pivot(columns='Injection', values='DELTA').describe().T "
   ]
  },
  {
   "cell_type": "code",
   "execution_count": 81,
   "metadata": {},
   "outputs": [
    {
     "data": {
      "text/html": [
       "<div>\n",
       "<style scoped>\n",
       "    .dataframe tbody tr th:only-of-type {\n",
       "        vertical-align: middle;\n",
       "    }\n",
       "\n",
       "    .dataframe tbody tr th {\n",
       "        vertical-align: top;\n",
       "    }\n",
       "\n",
       "    .dataframe thead th {\n",
       "        text-align: right;\n",
       "    }\n",
       "</style>\n",
       "<table border=\"1\" class=\"dataframe\">\n",
       "  <thead>\n",
       "    <tr style=\"text-align: right;\">\n",
       "      <th></th>\n",
       "      <th>count</th>\n",
       "      <th>mean</th>\n",
       "      <th>std</th>\n",
       "      <th>min</th>\n",
       "      <th>25%</th>\n",
       "      <th>50%</th>\n",
       "      <th>75%</th>\n",
       "      <th>max</th>\n",
       "    </tr>\n",
       "    <tr>\n",
       "      <th>Injection</th>\n",
       "      <th></th>\n",
       "      <th></th>\n",
       "      <th></th>\n",
       "      <th></th>\n",
       "      <th></th>\n",
       "      <th></th>\n",
       "      <th></th>\n",
       "      <th></th>\n",
       "    </tr>\n",
       "  </thead>\n",
       "  <tbody>\n",
       "    <tr>\n",
       "      <th>mg418mg012</th>\n",
       "      <td>27.0</td>\n",
       "      <td>5.293114e-07</td>\n",
       "      <td>4.087354e-07</td>\n",
       "      <td>-8.030000e-08</td>\n",
       "      <td>2.915000e-07</td>\n",
       "      <td>4.870000e-07</td>\n",
       "      <td>6.333227e-07</td>\n",
       "      <td>1.949204e-06</td>\n",
       "    </tr>\n",
       "    <tr>\n",
       "      <th>mg419mg012</th>\n",
       "      <td>20.0</td>\n",
       "      <td>9.998817e-07</td>\n",
       "      <td>1.649496e-06</td>\n",
       "      <td>-3.200000e-06</td>\n",
       "      <td>3.010281e-07</td>\n",
       "      <td>6.539523e-07</td>\n",
       "      <td>1.820269e-06</td>\n",
       "      <td>5.256567e-06</td>\n",
       "    </tr>\n",
       "    <tr>\n",
       "      <th>pTL69mg012</th>\n",
       "      <td>11.0</td>\n",
       "      <td>-1.138269e-06</td>\n",
       "      <td>7.631883e-07</td>\n",
       "      <td>-2.909289e-06</td>\n",
       "      <td>-1.301463e-06</td>\n",
       "      <td>-1.010066e-06</td>\n",
       "      <td>-7.521986e-07</td>\n",
       "      <td>-2.294659e-07</td>\n",
       "    </tr>\n",
       "    <tr>\n",
       "      <th>uninjected</th>\n",
       "      <td>30.0</td>\n",
       "      <td>-3.066053e-08</td>\n",
       "      <td>9.820421e-08</td>\n",
       "      <td>-2.002773e-07</td>\n",
       "      <td>-1.038965e-07</td>\n",
       "      <td>-4.849671e-08</td>\n",
       "      <td>3.008033e-08</td>\n",
       "      <td>2.013751e-07</td>\n",
       "    </tr>\n",
       "  </tbody>\n",
       "</table>\n",
       "</div>"
      ],
      "text/plain": [
       "            count          mean           std           min           25%  \\\n",
       "Injection                                                                   \n",
       "mg418mg012   27.0  5.293114e-07  4.087354e-07 -8.030000e-08  2.915000e-07   \n",
       "mg419mg012   20.0  9.998817e-07  1.649496e-06 -3.200000e-06  3.010281e-07   \n",
       "pTL69mg012   11.0 -1.138269e-06  7.631883e-07 -2.909289e-06 -1.301463e-06   \n",
       "uninjected   30.0 -3.066053e-08  9.820421e-08 -2.002773e-07 -1.038965e-07   \n",
       "\n",
       "                     50%           75%           max  \n",
       "Injection                                             \n",
       "mg418mg012  4.870000e-07  6.333227e-07  1.949204e-06  \n",
       "mg419mg012  6.539523e-07  1.820269e-06  5.256567e-06  \n",
       "pTL69mg012 -1.010066e-06 -7.521986e-07 -2.294659e-07  \n",
       "uninjected -4.849671e-08  3.008033e-08  2.013751e-07  "
      ]
     },
     "execution_count": 81,
     "metadata": {},
     "output_type": "execute_result"
    }
   ],
   "source": [
    "ExInitialpH"
   ]
  },
  {
   "cell_type": "markdown",
   "metadata": {},
   "source": [
    "# estimation stats for pH Figure 1; estimation pH; pH estimation"
   ]
  },
  {
   "cell_type": "code",
   "execution_count": 82,
   "metadata": {},
   "outputs": [
    {
     "data": {
      "text/plain": [
       "DABEST v0.2.4\n",
       "=============\n",
       "             \n",
       "Good afternoon!\n",
       "The current time is Thu Dec 17 13:35:36 2020.\n",
       "\n",
       "The unpaired mean difference between Uninj and DT1d is 0.56 [95%CI 0.43, 0.757].\n",
       "The two-sided p-value of the Mann-Whitney test is 4.7e-09.\n",
       "\n",
       "The unpaired mean difference between Uninj and U8d is -1.11 [95%CI -1.64, -0.758].\n",
       "The two-sided p-value of the Mann-Whitney test is 1.3e-06.\n",
       "\n",
       "The unpaired mean difference between Uninj and M4d is 1.03 [95%CI 0.357, 1.78].\n",
       "The two-sided p-value of the Mann-Whitney test is 4.14e-06.\n",
       "\n",
       "5000 bootstrap samples were taken; the confidence interval is bias-corrected and accelerated.\n",
       "The p-value(s) reported are the likelihood(s) of observing the effect size(s),\n",
       "if the null hypothesis of zero difference is true.\n",
       "\n",
       "To get the results of all valid statistical tests, use `.mean_diff.statistical_tests`"
      ]
     },
     "execution_count": 82,
     "metadata": {},
     "output_type": "execute_result"
    }
   ],
   "source": [
    "shared_controlIpH.mean_diff"
   ]
  },
  {
   "cell_type": "code",
   "execution_count": 83,
   "metadata": {
    "scrolled": true
   },
   "outputs": [
    {
     "data": {
      "text/plain": [
       "<Figure size 201.6x360 with 0 Axes>"
      ]
     },
     "metadata": {},
     "output_type": "display_data"
    },
    {
     "data": {
      "image/png": "[encoded data removed]",
      "text/plain": [
       "<Figure size 300x500 with 2 Axes>"
      ]
     },
     "metadata": {
      "needs_background": "light"
     },
     "output_type": "display_data"
    }
   ],
   "source": [
    "#change figure!!!!\n",
    "#fig1 = plt.figure(figsize=(3.5, 3)) \n",
    "#ax1 = plt.subplot(1,1,1)\n",
    "#plt.figure(figsize=(3.5, 3)) \n",
    "\n",
    "plt.figure(figsize=(2.8, 5)) \n",
    "fig1= shared_controlIpH.mean_diff.plot(swarm_ylim=(-4,4), contrast_ylim=(-2,2), custom_palette=colorsEST,fig_size=(3, 5),\n",
    "                                     raw_marker_size=(2),es_marker_size=2,contrast_label='Δ$\\it{I}$$_{ΔpH}$ (µA)',\n",
    "                                    swarm_label='$\\it{I}$$_{ΔpH}$',reflines_kwargs = {'linestyle':'dashed', 'linewidth':0.75,\n",
    "                                   'color':'red'})#,reflines_kwargs\n",
    " \n",
    "\n",
    "fig1.axes[0].plot([-1,20], [0,0], 'k-', color='#000000',  linestyle='--',linewidth=0.5)\n",
    "#fig1.axes[1].plot([-1,20], [-1,-1], 'k--', color='#000000', linewidth=1)\n",
    "fig1.axes[0].tick_params(axis='both', which='major', labelsize=AxisTickLabelSize)  \n",
    "fig1.axes[1].tick_params(axis='both', which='major', labelsize=AxisTickLabelSize) \n",
    "fig1.axes[0].get_yaxis().set_tick_params(direction='in')\n",
    "fig1.axes[1].get_yaxis().set_tick_params(direction='in')\n",
    "fig1.axes[0].get_xaxis().set_tick_params(direction='in')\n",
    "fig1.axes[1].get_xaxis().set_tick_params(direction='in')\n",
    "#fig1 = plot([-1,20], [0,0])# , 'k--', color='#000000', linewidth=1)\n",
    "#ax1.spines['left'].set_position(('outward',35))\n",
    "\n",
    "labels = ['Uninj','DEGT-1d', 'UNC-8d','MEC-4d']\n",
    "fig1.axes[0].set_xticklabels(labels, rotation=30, ha='right',fontsize= AxisLegendSize)\n",
    "labels2 = ['','DEGT-1d', 'UNC-8d','MEC-4d']\n",
    "fig1.axes[1].set_xticklabels(labels2, rotation=30, ha='right',fontsize= AxisLegendSize)\n",
    "plt.gcf().subplots_adjust(bottom=0.1, left=0.25,right=None, top=None,hspace=0.75, wspace=0.2) \n",
    "\n",
    "plt.savefig(filedir+\"Fig1-EstStat-pH\"+'.pdf')\n",
    "#plt.savefig(filedir+\"Fig1-NaGlu-MeanStart\"+'.eps')\n",
    "plt.savefig(filedirManuscript+\"Fig1-EstStat-pH\"+'.pdf')\n",
    "\n",
    "\n"
   ]
  },
  {
   "cell_type": "code",
   "execution_count": null,
   "metadata": {},
   "outputs": [],
   "source": []
  },
  {
   "cell_type": "markdown",
   "metadata": {},
   "source": [
    "# Re-arrange ALL data for Estimation plot according to MeanSTART and MeanTEST\n",
    "Before and after drig application"
   ]
  },
  {
   "cell_type": "code",
   "execution_count": 84,
   "metadata": {},
   "outputs": [
    {
     "data": {
      "text/html": [
       "<div>\n",
       "<style scoped>\n",
       "    .dataframe tbody tr th:only-of-type {\n",
       "        vertical-align: middle;\n",
       "    }\n",
       "\n",
       "    .dataframe tbody tr th {\n",
       "        vertical-align: top;\n",
       "    }\n",
       "\n",
       "    .dataframe thead th {\n",
       "        text-align: right;\n",
       "    }\n",
       "</style>\n",
       "<table border=\"1\" class=\"dataframe\">\n",
       "  <thead>\n",
       "    <tr style=\"text-align: right;\">\n",
       "      <th></th>\n",
       "      <th>CellIDRec</th>\n",
       "      <th>Injection</th>\n",
       "      <th>CultivationSol</th>\n",
       "      <th>DaysPostInj</th>\n",
       "      <th>Rating</th>\n",
       "      <th>StartSol</th>\n",
       "      <th>TestSol</th>\n",
       "      <th>MeanSTART</th>\n",
       "      <th>MeanTEST</th>\n",
       "      <th>DELTA</th>\n",
       "      <th>RATIO</th>\n",
       "      <th>VrevSTART</th>\n",
       "      <th>VrevTEST</th>\n",
       "      <th>DELTAVrev</th>\n",
       "      <th>copyCELL</th>\n",
       "      <th>RestingVM</th>\n",
       "    </tr>\n",
       "  </thead>\n",
       "  <tbody>\n",
       "    <tr>\n",
       "      <th>0</th>\n",
       "      <td>STFX103004</td>\n",
       "      <td>mg012</td>\n",
       "      <td>L-15(300Amil)</td>\n",
       "      <td>4</td>\n",
       "      <td>2.5</td>\n",
       "      <td>NaGluAmil300</td>\n",
       "      <td>NaGlu2</td>\n",
       "      <td>-2.122042e-07</td>\n",
       "      <td>-2.193738e-07</td>\n",
       "      <td>-7.169659e-09</td>\n",
       "      <td>1.033787</td>\n",
       "      <td>-0.042497</td>\n",
       "      <td>-0.041392</td>\n",
       "      <td>0.001106</td>\n",
       "      <td>STFX103004</td>\n",
       "      <td>-5.4</td>\n",
       "    </tr>\n",
       "    <tr>\n",
       "      <th>1</th>\n",
       "      <td>STFX104027</td>\n",
       "      <td>mg012</td>\n",
       "      <td>L-15(300Amil)</td>\n",
       "      <td>6</td>\n",
       "      <td>2.0</td>\n",
       "      <td>NaGluAmil300</td>\n",
       "      <td>NaGlu2</td>\n",
       "      <td>-1.870089e-07</td>\n",
       "      <td>-2.613622e-07</td>\n",
       "      <td>-7.435325e-08</td>\n",
       "      <td>1.397592</td>\n",
       "      <td>-0.045129</td>\n",
       "      <td>-0.035311</td>\n",
       "      <td>0.009818</td>\n",
       "      <td>STFX104027</td>\n",
       "      <td>-5.4</td>\n",
       "    </tr>\n",
       "    <tr>\n",
       "      <th>2</th>\n",
       "      <td>STFX103022</td>\n",
       "      <td>mg012</td>\n",
       "      <td>L-15(300Amil)</td>\n",
       "      <td>5</td>\n",
       "      <td>3.0</td>\n",
       "      <td>NaGluAmil300</td>\n",
       "      <td>NaGlu2</td>\n",
       "      <td>-1.819118e-07</td>\n",
       "      <td>-1.830145e-07</td>\n",
       "      <td>-1.102670e-09</td>\n",
       "      <td>1.006062</td>\n",
       "      <td>-0.047429</td>\n",
       "      <td>-0.048975</td>\n",
       "      <td>-0.001546</td>\n",
       "      <td>STFX103022</td>\n",
       "      <td>-5.4</td>\n",
       "    </tr>\n",
       "    <tr>\n",
       "      <th>3</th>\n",
       "      <td>STFX103035</td>\n",
       "      <td>mg012</td>\n",
       "      <td>L-15(300Amil)</td>\n",
       "      <td>6</td>\n",
       "      <td>3.0</td>\n",
       "      <td>NaGluAmil300</td>\n",
       "      <td>NaGlu2</td>\n",
       "      <td>-1.354247e-07</td>\n",
       "      <td>-1.391701e-07</td>\n",
       "      <td>-3.745396e-09</td>\n",
       "      <td>1.027657</td>\n",
       "      <td>-0.062758</td>\n",
       "      <td>-0.062891</td>\n",
       "      <td>-0.000133</td>\n",
       "      <td>STFX103035</td>\n",
       "      <td>-7.7</td>\n",
       "    </tr>\n",
       "    <tr>\n",
       "      <th>4</th>\n",
       "      <td>STFX103040</td>\n",
       "      <td>mg012</td>\n",
       "      <td>L-15(300Amil)</td>\n",
       "      <td>6</td>\n",
       "      <td>2.0</td>\n",
       "      <td>NaGluAmil300</td>\n",
       "      <td>NaGlu2</td>\n",
       "      <td>-1.041255e-07</td>\n",
       "      <td>-1.127112e-07</td>\n",
       "      <td>-8.585737e-09</td>\n",
       "      <td>1.082456</td>\n",
       "      <td>-0.034900</td>\n",
       "      <td>-0.033720</td>\n",
       "      <td>0.001180</td>\n",
       "      <td>STFX103040</td>\n",
       "      <td>-5.4</td>\n",
       "    </tr>\n",
       "  </tbody>\n",
       "</table>\n",
       "</div>"
      ],
      "text/plain": [
       "    CellIDRec Injection CultivationSol  DaysPostInj  Rating      StartSol  \\\n",
       "0  STFX103004     mg012  L-15(300Amil)            4     2.5  NaGluAmil300   \n",
       "1  STFX104027     mg012  L-15(300Amil)            6     2.0  NaGluAmil300   \n",
       "2  STFX103022     mg012  L-15(300Amil)            5     3.0  NaGluAmil300   \n",
       "3  STFX103035     mg012  L-15(300Amil)            6     3.0  NaGluAmil300   \n",
       "4  STFX103040     mg012  L-15(300Amil)            6     2.0  NaGluAmil300   \n",
       "\n",
       "  TestSol     MeanSTART      MeanTEST         DELTA     RATIO  VrevSTART  \\\n",
       "0  NaGlu2 -2.122042e-07 -2.193738e-07 -7.169659e-09  1.033787  -0.042497   \n",
       "1  NaGlu2 -1.870089e-07 -2.613622e-07 -7.435325e-08  1.397592  -0.045129   \n",
       "2  NaGlu2 -1.819118e-07 -1.830145e-07 -1.102670e-09  1.006062  -0.047429   \n",
       "3  NaGlu2 -1.354247e-07 -1.391701e-07 -3.745396e-09  1.027657  -0.062758   \n",
       "4  NaGlu2 -1.041255e-07 -1.127112e-07 -8.585737e-09  1.082456  -0.034900   \n",
       "\n",
       "   VrevTEST  DELTAVrev    copyCELL  RestingVM  \n",
       "0 -0.041392   0.001106  STFX103004       -5.4  \n",
       "1 -0.035311   0.009818  STFX104027       -5.4  \n",
       "2 -0.048975  -0.001546  STFX103022       -5.4  \n",
       "3 -0.062891  -0.000133  STFX103035       -7.7  \n",
       "4 -0.033720   0.001180  STFX103040       -5.4  "
      ]
     },
     "execution_count": 84,
     "metadata": {},
     "output_type": "execute_result"
    }
   ],
   "source": [
    "df.head()"
   ]
  },
  {
   "cell_type": "code",
   "execution_count": 85,
   "metadata": {
    "scrolled": false
   },
   "outputs": [],
   "source": [
    "AllInjection =  pd.unique(df[\"Injection\"])\n",
    "AllInjection = AllInjection.tolist()\n",
    "              \n",
    "TestSolution = pd.unique(df[\"TestSol\"])\n",
    "TestSolution  = TestSolution.tolist()\n",
    "\n",
    "df_new = pd.DataFrame()\n",
    "results = {}\n",
    "\n",
    "for Solelement in TestSolution: \n",
    "    for element in AllInjection:\n",
    "        if df[(df.Injection.isin([element])) & (df.TestSol.isin([Solelement]))].empty == True:\n",
    "            #print('sdsdsd')\n",
    "            continue\n",
    "        else: \n",
    "            #print('sol presetn')\n",
    "            result = df[(df.Injection.isin([element])) & (df.TestSol.isin([Solelement]))]\n",
    "            results[element] = result\n",
    "            if len(results[element]) <= 2:\n",
    "#                 print(results[element][\"TestSol\"] + '+' + results[element][\"Injection\"] + ' has less or equal to 2 recordings')\n",
    "                continue\n",
    "            else:\n",
    "                df_new = pd.concat([df_new,results[element][\"MeanSTART\"].rename(element+\"-\"+Solelement).reset_index(drop=True),results[element][\"MeanTEST\"].rename(element+'+'+Solelement).reset_index(drop=True)],sort=False, axis=1)\n",
    "            #print(len(results[element]))\n",
    "        \n",
    "df_newInuA = df_new.astype(float)*1000000  \n",
    "#\n",
    "#print(df_newInuA[\"mg012-NaGluAmil300\"])\n",
    "\n"
   ]
  },
  {
   "cell_type": "markdown",
   "metadata": {},
   "source": [
    "# Re-arrang Ratio"
   ]
  },
  {
   "cell_type": "code",
   "execution_count": 86,
   "metadata": {},
   "outputs": [],
   "source": [
    "AllInjection =  pd.unique(df[\"Injection\"])\n",
    "AllInjection = AllInjection.tolist()\n",
    "              \n",
    "TestSolution = pd.unique(df[\"TestSol\"])\n",
    "TestSolution  = TestSolution.tolist()\n",
    "\n",
    "df_Ratio = pd.DataFrame()\n",
    "results = {}\n",
    "\n",
    "for Solelement in TestSolution: \n",
    "    for element in AllInjection:\n",
    "        if df[(df.Injection.isin([element])) & (df.TestSol.isin([Solelement]))].empty == True:\n",
    "            #print('sdsdsd')\n",
    "            continue\n",
    "        else: \n",
    "            #print('sol presetn')\n",
    "            result = df[(df.Injection.isin([element])) & (df.TestSol.isin([Solelement]))]\n",
    "            results[element] = result\n",
    "            if len(results[element]) <= 2:\n",
    "#                 print(results[element][\"TestSol\"] + '+' + results[element][\"Injection\"] + ' has less or equal to 2 recordings')\n",
    "                continue\n",
    "            else:          \n",
    "                df_Ratio = pd.concat([df_Ratio,results[element][\"RATIO\"].rename(element+\"RATIO\"+Solelement).reset_index(drop=True),],sort=False, axis=1)\n",
    "#                 for col in len(df_Ratio[element]):\n",
    "#                     df_Ratio = df_Ratio[elememt].astype(float)\n",
    "                #print(results[element][\"RATIO\"])\n",
    "            #print(len(results[element]))\n",
    "        \n",
    "\n",
    "#print(df_Ratio)\n"
   ]
  },
  {
   "cell_type": "code",
   "execution_count": 87,
   "metadata": {},
   "outputs": [],
   "source": [
    "#df_Ratio.dtypes\n",
    "\n",
    "\n"
   ]
  },
  {
   "cell_type": "code",
   "execution_count": 88,
   "metadata": {},
   "outputs": [],
   "source": [
    "#df_newInuA.dtypes\n"
   ]
  },
  {
   "cell_type": "code",
   "execution_count": null,
   "metadata": {},
   "outputs": [],
   "source": []
  },
  {
   "cell_type": "markdown",
   "metadata": {},
   "source": [
    "# Before after in paired "
   ]
  },
  {
   "cell_type": "code",
   "execution_count": null,
   "metadata": {},
   "outputs": [],
   "source": []
  },
  {
   "cell_type": "code",
   "execution_count": 89,
   "metadata": {
    "scrolled": false
   },
   "outputs": [
    {
     "data": {
      "image/png": "[encoded data removed]",
      "text/plain": [
       "<Figure size 864x136.8 with 4 Axes>"
      ]
     },
     "metadata": {
      "needs_background": "light"
     },
     "output_type": "display_data"
    }
   ],
   "source": [
    "# import matplotlib.pyplot as plt\n",
    "# import numpy as np\n",
    "\n",
    "fig = plt.figure(figsize=(12, 1.9)) \n",
    "\n",
    "ax1 = plt.subplot(1,4,1)\n",
    "ax2 = plt.subplot(1,4,2)\n",
    "\n",
    "ax3 = plt.subplot(1,4,3)\n",
    "ax4 = plt.subplot(1,4,4)\n",
    "\n",
    "\n",
    "plot1 = [1,2]\n",
    "plot2 = [3,4]\n",
    "plot3 = [5,6]\n",
    "plot4 = [7,8]\n",
    "plot5 = [9,10]\n",
    "\n",
    "#### common parameters\n",
    "axesText = ''\n",
    "SizeOfMarker = 2\n",
    "SizeofLine = 0.5\n",
    "AxisTickLabelSize =8\n",
    "\n",
    "#plotting the lines\n",
    "for i in range(len(df_newInuA[\"uninjected-NaGluAmil30\"])):\n",
    "    ax1.plot(plot1, [df_newInuA[\"uninjected-NaGluAmil30\"][i], df_newInuA[\"uninjected+NaGluAmil30\"][i]], c='k',marker = 'o',markersize=SizeOfMarker, linewidth=SizeofLine,clip_on=False)# alpha=0.5\n",
    "\n",
    "for i in range(len(df_newInuA[\"uninjected-NaGluBmil30\"])):\n",
    "    ax1.plot(plot2, [df_newInuA[\"uninjected-NaGluBmil30\"][i], df_newInuA[\"uninjected+NaGluBmil30\"][i]], c='k',marker = 'o',markersize=SizeOfMarker, linewidth=SizeofLine,clip_on=False)\n",
    "\n",
    "for i in range(len(df_newInuA[\"uninjected-NaGluEipa30\"])):\n",
    "    ax1.plot(plot3, [df_newInuA[\"uninjected-NaGluEipa30\"][i], df_newInuA[\"uninjected+NaGluEipa30\"][i]], c='k',marker = 'o',markersize=SizeOfMarker, linewidth=SizeofLine,clip_on=False)\n",
    "\n",
    "for i in range(len(df_newInuA[\"uninjected-NaGluPhen30\"])):\n",
    "    ax1.plot(plot4, [df_newInuA[\"uninjected-NaGluPhen30\"][i], df_newInuA[\"uninjected+NaGluPhen30\"][i]], c='k',marker = 'o',markersize=SizeOfMarker, linewidth=SizeofLine,clip_on=False)\n",
    "\n",
    "for i in range(len(df_newInuA[\"uninjected-NaGluBzd30\"])):\n",
    "    ax1.plot(plot5, [df_newInuA[\"uninjected-NaGluBzd30\"][i], df_newInuA[\"uninjected+NaGluBzd30\"][i]], c='k',marker = 'o',markersize=SizeOfMarker, linewidth=SizeofLine,clip_on=False)\n",
    "\n",
    "######\n",
    "\n",
    "# # plotting the lines\n",
    "for i in range(len(df_newInuA[\"mg418mg012-NaGluAmil30\"])):\n",
    "    ax2.plot(plot1, [df_newInuA[\"mg418mg012-NaGluAmil30\"][i], df_newInuA[\"mg418mg012+NaGluAmil30\"][i]], c=(0.89, 0.11, 0.1),marker = 'o',markersize=SizeOfMarker, linewidth=SizeofLine,clip_on=False)\n",
    "\n",
    "for i in range(len(df_newInuA[\"mg418mg012-NaGluBmil30\"])):\n",
    "    ax2.plot(plot2, [df_newInuA[\"mg418mg012-NaGluBmil30\"][i], df_newInuA[\"mg418mg012+NaGluBmil30\"][i]], c=(0.89, 0.11, 0.1),marker = 'o',markersize=SizeOfMarker, linewidth=SizeofLine,clip_on=False)\n",
    "\n",
    "for i in range(len(df_newInuA[\"mg418mg012-NaGluEipa30\"])):\n",
    "    ax2.plot(plot3, [df_newInuA[\"mg418mg012-NaGluEipa30\"][i], df_newInuA[\"mg418mg012+NaGluEipa30\"][i]], c=(0.89, 0.11, 0.1),marker = 'o',markersize=SizeOfMarker, linewidth=SizeofLine,clip_on=False)\n",
    "\n",
    "for i in range(len(df_newInuA[\"mg418mg012-NaGluPhen30\"])):\n",
    "    ax2.plot(plot4, [df_newInuA[\"mg418mg012-NaGluPhen30\"][i], df_newInuA[\"mg418mg012+NaGluPhen30\"][i]], c=(0.89, 0.11, 0.1),marker = 'o',markersize=SizeOfMarker, linewidth=SizeofLine,clip_on=False)\n",
    "\n",
    "for i in range(len(df_newInuA[\"mg418mg012-NaGluBzd30\"])):\n",
    "    ax2.plot(plot5, [df_newInuA[\"mg418mg012-NaGluBzd30\"][i], df_newInuA[\"mg418mg012+NaGluBzd30\"][i]], c=(0.89, 0.11, 0.1),marker = 'o',markersize=SizeOfMarker, linewidth=SizeofLine,clip_on=False)\n",
    "\n",
    "######\n",
    "\n",
    "for i in range(len(df_newInuA[\"pTL69mg012-NaGluAmil30\"])):\n",
    "    ax3.plot(plot1, [df_newInuA[\"pTL69mg012-NaGluAmil30\"][i], df_newInuA[\"pTL69mg012+NaGluAmil30\"][i]], c=(0.6, 0.31, 0.64),marker = 'o',markersize=SizeOfMarker, linewidth=SizeofLine,clip_on=False)\n",
    "\n",
    "for i in range(len(df_newInuA[\"pTL69mg012-NaGluBmil30\"])):\n",
    "    ax3.plot(plot2, [df_newInuA[\"pTL69mg012-NaGluBmil30\"][i], df_newInuA[\"pTL69mg012+NaGluBmil30\"][i]], c=(0.6, 0.31, 0.64),marker = 'o',markersize=SizeOfMarker, linewidth=SizeofLine,clip_on=False)\n",
    "\n",
    "for i in range(len(df_newInuA[\"pTL69mg012-NaGluEipa30\"])):\n",
    "    ax3.plot(plot3, [df_newInuA[\"pTL69mg012-NaGluEipa30\"][i], df_newInuA[\"pTL69mg012+NaGluEipa30\"][i]], c=(0.6, 0.31, 0.64),marker = 'o',markersize=SizeOfMarker, linewidth=SizeofLine,clip_on=False)\n",
    "\n",
    "for i in range(len(df_newInuA[\"pTL69mg012-NaGluPhen30\"])):\n",
    "    ax3.plot(plot4, [df_newInuA[\"pTL69mg012-NaGluPhen30\"][i], df_newInuA[\"pTL69mg012+NaGluPhen30\"][i]], c=(0.6, 0.31, 0.64),marker = 'o',markersize=SizeOfMarker, linewidth=SizeofLine,clip_on=False)\n",
    "\n",
    "for i in range(len(df_newInuA[\"pTL69mg012-NaGluBzd30\"])):\n",
    "    ax3.plot(plot5 , [df_newInuA[\"pTL69mg012-NaGluBzd30\"][i], df_newInuA[\"pTL69mg012+NaGluBzd30\"][i]], c=(0.6, 0.31, 0.64),marker = 'o',markersize=SizeOfMarker, linewidth=SizeofLine,clip_on=False)\n",
    "########\n",
    "\n",
    "  \n",
    "###########\n",
    "for i in range(len(df_newInuA[\"mg419mg012-NaGluAmil30\"])):\n",
    "    ax4.plot(plot1, [df_newInuA[\"mg419mg012-NaGluAmil30\"][i], df_newInuA[\"mg419mg012+NaGluAmil30\"][i]], c=(0.3, 0.69, 0.29),marker = 'o',markersize=SizeOfMarker, linewidth=SizeofLine,clip_on=False)\n",
    "\n",
    "for i in range(len(df_newInuA[\"mg419mg012-NaGluBmil30\"])):\n",
    "    ax4.plot(plot2, [df_newInuA[\"mg419mg012-NaGluBmil30\"][i], df_newInuA[\"mg419mg012+NaGluBmil30\"][i]], c=(0.3, 0.69, 0.29),marker = 'o',markersize=SizeOfMarker, linewidth=SizeofLine,clip_on=False)\n",
    "\n",
    "for i in range(len(df_newInuA[\"mg419mg012-NaGluEipa30\"])):\n",
    "    ax4.plot(plot3, [df_newInuA[\"mg419mg012-NaGluEipa30\"][i], df_newInuA[\"mg419mg012+NaGluEipa30\"][i]], c=(0.3, 0.69, 0.29),marker = 'o',markersize=SizeOfMarker, linewidth=SizeofLine,clip_on=False)\n",
    "\n",
    "for i in range(len(df_newInuA[\"mg419mg012-NaGluPhen30\"])):\n",
    "    ax4.plot(plot4, [df_newInuA[\"mg419mg012-NaGluPhen30\"][i], df_newInuA[\"mg419mg012+NaGluPhen30\"][i]], c=(0.3, 0.69, 0.29),marker = 'o',markersize=SizeOfMarker, linewidth=SizeofLine,clip_on=False)\n",
    "\n",
    "for i in range(len(df_newInuA[\"mg419mg012-NaGluBzd30\"])):\n",
    "    ax4.plot(plot5, [df_newInuA[\"mg419mg012-NaGluBzd30\"][i], df_newInuA[\"mg419mg012+NaGluBzd30\"][i]], c=(0.3, 0.69, 0.29),marker = 'o',markersize=SizeOfMarker, linewidth=SizeofLine,clip_on=False)\n",
    "\n",
    "\n",
    "labelsAmil = [\"Amil\", \"Bmil\",\"EIPA\", \"Phen\", \"Bzd\"]\n",
    "\n",
    "\n",
    "ylimSetM4 = [0,-50]\n",
    "ylimSetU8 = [0,-5]\n",
    "ylimSetDT1 = [0,-2]\n",
    "##### AXIS 1 ####\n",
    "ax1.set_ylim(ylimSetDT1)\n",
    "ax1.spines['right'].set_visible(False)                                  # no spine at the right\n",
    "ax1.spines['top'].set_visible(False)                                     # no spine at the top\n",
    "ax1.yaxis.set_ticks_position('left')                                     # ticks at the left\n",
    "ax1.xaxis.set_ticks_position('bottom')                                 # no spine at the right\n",
    "ax1.spines['left'].set_position(('outward',10))                           # a spine at the left that is put a little aside\n",
    "ax1.spines['bottom'].set_position(('outward',1))  \n",
    "ax1.spines['top'].set_position(('axes',5)) \n",
    "ax1.get_yaxis().set_tick_params(direction='in')\n",
    "ax1.get_xaxis().set_tick_params(direction='in')\n",
    "# ax1.plot([-1,20], [0,0], 'k--', color='#000000', linewidth=1)#gray line for Zero or 1        \n",
    "ax1.tick_params(axis='y', which='major', labelsize=AxisTickLabelSize )  \n",
    "ax1.tick_params(axis='x', which='major', labelsize=AxisTickLabelSize, length=0) \n",
    "# ax7.set_title('Ibuoride Analogues',size=12)\n",
    "# ax1.set_xticklabels(np.unique(IbuAll30['Injection']),rotation=30)\n",
    "ax1.set_xticks((plot1[0],plot1[1], plot2[0],plot2[1], plot3[0], plot3[1],plot4[0],plot4[1],plot5[0],plot5[1])) \n",
    "ax1.spines['bottom'].set_visible(False) \n",
    "#a1.xaxis.set_visible(False)\n",
    "labels = ['-','+','-','+','-','+','-','+','-','+']\n",
    "ax1.set_xticklabels(labels,  ha='right',)\n",
    "ax1.text(1.8, 0.44, labelsAmil[0],ha='right',rotation=30,fontsize= AxisLegendSize)\n",
    "ax1.text(4.,0.44, labelsAmil[1],ha='right',rotation=30,fontsize= AxisLegendSize)\n",
    "ax1.text(6.2, 0.44, labelsAmil[2],ha='right',rotation=30,fontsize= AxisLegendSize)\n",
    "ax1.text(8.2, 0.44, labelsAmil[3],ha='right',rotation=30,fontsize= AxisLegendSize)\n",
    "ax1.text(10.1, 0.44, labelsAmil[4],ha='right',rotation=30,fontsize= AxisLegendSize)\n",
    "ax1.set_yticks([0,-0.5,-1,-1.5,-2])\n",
    "plt.draw()      # Note, this line is important\n",
    "labels = [l.get_text() for l in ax1.get_yticklabels()]\n",
    "labels[0] = '0'\n",
    "ax1.set_yticklabels(labels)\n",
    "\n",
    "# #ax1.set_xlabel('V (mV)',fontsize=14)\n",
    "# #ax1.set_ylabel('Change in current @-85 mV (I(drug) - I(before)',fontsize=14)\n",
    "ax1.set_ylabel(axesText)\n",
    "ax1.set_xlabel(axesText)\n",
    "ax1.text(-4, -1.5, 'current, $\\it{I}$ (µA)',fontsize=10,rotation=90,ha='center')\n",
    "\n",
    "\n",
    "##### AXIS 2 ####\n",
    "ax2.set_ylim(ylimSetDT1)\n",
    "ax2.spines['right'].set_visible(False)                                  # no spine at the right\n",
    "ax2.spines['top'].set_visible(False)                                     # no spine at the top\n",
    "ax2.yaxis.set_ticks_position('left')                                     # ticks at the left\n",
    "ax2.xaxis.set_ticks_position('bottom')                                 # no spine at the right\n",
    "ax2.spines['left'].set_position(('outward',10))                           # a spine at the left that is put a little aside\n",
    "ax2.spines['bottom'].set_position(('outward',1))  \n",
    "ax2.spines['top'].set_position(('axes',5)) \n",
    "ax2.get_yaxis().set_tick_params(direction='in')\n",
    "ax2.get_xaxis().set_tick_params(direction='in')\n",
    "# ax1.plot([-1,20], [0,0], 'k--', color='#000000', linewidth=1)#gray line for Zero or 1        \n",
    "ax2.tick_params(axis='y', which='major', labelsize=AxisTickLabelSize )  \n",
    "ax2.tick_params(axis='x', which='major', labelsize=AxisTickLabelSize, length=0)   \n",
    "# ax7.set_title('Ibuoride Analogues',size=12)\n",
    "ax2.set_xticks((plot1[0],plot1[1], plot2[0],plot2[1], plot3[0], plot3[1],plot4[0],plot4[1],plot5[0],plot5[1])) \n",
    "ax2.spines['bottom'].set_visible(False) \n",
    "#ax1.xaxis.set_visible(False)\n",
    "labels = ['-','+','-','+','-','+','-','+','-','+']\n",
    "ax2.set_xticklabels(labels,  ha='right',) \n",
    "ax2.text(1.8, 0.44, labelsAmil[0],ha='right',rotation=30,fontsize= AxisLegendSize)\n",
    "ax2.text(4., 0.44, labelsAmil[1],ha='right',rotation=30,fontsize= AxisLegendSize)\n",
    "ax2.text(6.2, 0.44, labelsAmil[2],ha='right',rotation=30,fontsize= AxisLegendSize)\n",
    "ax2.text(8.2, 0.44, labelsAmil[3],ha='right',rotation=30,fontsize= AxisLegendSize)\n",
    "ax2.text(10.1, 0.44, labelsAmil[4],ha='right',rotation=30,fontsize= AxisLegendSize)\n",
    "ax2.set_yticks([0,-0.5,-1,-1.5,-2])\n",
    "plt.draw()      # Note, this line is important\n",
    "labels = [l.get_text() for l in ax2.get_yticklabels()]\n",
    "labels[0] = '0'\n",
    "ax2.set_yticklabels(labels)\n",
    "\n",
    "# #ax1.set_xlabel('V (mV)',fontsize=14)\n",
    "# #ax1.set_ylabel('Change in current @-85 mV (I(drug) - I(before)',fontsize=14)\n",
    "ax2.set_ylabel(axesText)\n",
    "ax2.set_xlabel(axesText)\n",
    "# ax7.text(-3.7, -0.1, 'Change in current at -85 mV (I(drug) - I(before)',fontsize=14,rotation=90)\n",
    "\n",
    "   ##### AXIS 3 ####\n",
    "ax3.set_ylim(ylimSetU8)\n",
    "ax3.spines['right'].set_visible(False)                                  # no spine at the right\n",
    "ax3.spines['top'].set_visible(False)                                     # no spine at the top\n",
    "ax3.yaxis.set_ticks_position('left')                                     # ticks at the left\n",
    "ax3.xaxis.set_ticks_position('bottom')                                 # no spine at the right\n",
    "ax3.spines['left'].set_position(('outward',10))                           # a spine at the left that is put a little aside\n",
    "ax3.spines['bottom'].set_position(('outward',1))  \n",
    "ax3.spines['top'].set_position(('axes',5)) \n",
    "ax3.get_yaxis().set_tick_params(direction='in')\n",
    "ax3.get_xaxis().set_tick_params(direction='in')\n",
    "# 3ax1.plot([-1,20], [0,0], 'k--', color='#000000', linewidth=1)#gray line for Zero or 1        \n",
    "ax3.tick_params(axis='y', which='major', labelsize=AxisTickLabelSize )  \n",
    "ax3.tick_params(axis='x', which='major', labelsize=AxisTickLabelSize, length=0) \n",
    "# ax7.set_title('Ibuoride Analogues',size=12)\n",
    "ax3.set_xticks((plot1[0],plot1[1], plot2[0],plot2[1], plot3[0], plot3[1],plot4[0],plot4[1],plot5[0],plot5[1])) \n",
    "ax3.spines['bottom'].set_visible(False) \n",
    "#ax1.xaxis.set_visible(False)\n",
    "labels = ['-','+','-','+','-','+','-','+','-','+']\n",
    "ax3.set_xticklabels(labels,  ha='right',)\n",
    "ax3.text(1.8, 1.1, labelsAmil[0],ha='right',rotation=30,fontsize= AxisLegendSize)\n",
    "ax3.text(4., 1.1, labelsAmil[1],ha='right',rotation=30,fontsize= AxisLegendSize)\n",
    "ax3.text(6.2, 1.1, labelsAmil[2],ha='right',rotation=30,fontsize= AxisLegendSize)\n",
    "ax3.text(8.2, 1.1, labelsAmil[3],ha='right',rotation=30,fontsize= AxisLegendSize)\n",
    "ax3.text(10.1, 1.1, labelsAmil[4],ha='right',rotation=30,fontsize= AxisLegendSize)\n",
    "# #ax1.set_xlabel('V (mV)',fontsize=14)\n",
    "# #ax1.set_ylabel('Change in current @-85 mV (I(drug) - I(before)',fontsize=14)\n",
    "ax3.set_ylabel(axesText)\n",
    "ax3.set_xlabel(axesText)\n",
    "# ax7.text(-3.7, -0.1, 'Change in current at -85 mV (I(drug) - I(before)',fontsize=14,rotation=90)\n",
    "\n",
    "   ##### AXIS 4####\n",
    "ax4.set_ylim(ylimSetM4)\n",
    "ax4.spines['right'].set_visible(False)                                  # no spine at the right\n",
    "ax4.spines['top'].set_visible(False)                                     # no spine at the top\n",
    "ax4.yaxis.set_ticks_position('left')                                     # ticks at the left\n",
    "ax4.xaxis.set_ticks_position('bottom')                                 # no spine at the right\n",
    "ax4.spines['left'].set_position(('outward',10))                           # a spine at the left that is put a little aside\n",
    "ax4.spines['bottom'].set_position(('outward',1))  \n",
    "ax4.spines['top'].set_position(('axes',5)) \n",
    "ax4.get_yaxis().set_tick_params(direction='in')\n",
    "ax4.get_xaxis().set_tick_params(direction='in')\n",
    "# 3ax1.plot([-1,20], [0,0], 'k--', color='#000000', linewidth=1)#gray line for Zero or 1   \n",
    "# ax.tick_params(axis=\"x\", labelsize=18, labelrotation=-60, labelcolor=\"turquoise\")\n",
    "# ax.tick_params(axis=\"y\", labelsize=12, labelrotation=20, labelcolor=\"orange\")\n",
    "ax4.tick_params(axis='y', which='major', labelsize=AxisTickLabelSize )  \n",
    "ax4.tick_params(axis='x', which='major', labelsize=AxisTickLabelSize, length=0)  \n",
    "\n",
    "ax4.set_xticks((plot1[0],plot1[1], plot2[0],plot2[1], plot3[0], plot3[1],plot4[0],plot4[1],plot5[0],plot5[1])) \n",
    "ax4.spines['bottom'].set_visible(False) \n",
    "#ax1.xaxis.set_visible(False)\n",
    "labels = ['-','+','-','+','-','+','-','+','-','+']\n",
    "ax4.set_xticklabels(labels,  ha='right')\n",
    "ax4.text(1.8, 11, labelsAmil[0],ha='right',rotation=30,fontsize= AxisLegendSize)\n",
    "ax4.text(4., 11, labelsAmil[1],ha='right',rotation=30,fontsize= AxisLegendSize)\n",
    "ax4.text(6.2, 11, labelsAmil[2],ha='right',rotation=30,fontsize= AxisLegendSize)\n",
    "ax4.text(8.2, 11, labelsAmil[3],ha='right',rotation=30,fontsize= AxisLegendSize)\n",
    "ax4.text(10.1, 11, labelsAmil[4],ha='right',rotation=30,fontsize= AxisLegendSize)\n",
    "#ax4.set_xticklabels(labelsAmil,rotation=30)\n",
    "\n",
    "\n",
    "ax4.set_ylabel(axesText)\n",
    "ax4.set_xlabel(axesText)\n",
    "\n",
    "    \n",
    "plt.gcf().subplots_adjust(bottom=0.21, left=0.3,right=None, top=None,hspace=1.5, wspace=0.5)     \n",
    "    \n",
    "# plt.show()\n",
    "\n",
    "plt.savefig(filedirManuscript+\"Fig2-amilorideAnalogs-pairedPoints\"+'.pdf')\n",
    "#plt.savefig(filedirManuscript+\"Fig2-amilorideAnalogs-pairedPoints\"+'.eps')\n",
    "#plt.savefig(filedirManuscript+\"Fig2-amilorideAnalogs-pairedPoints\"+'.jpg')"
   ]
  },
  {
   "cell_type": "code",
   "execution_count": null,
   "metadata": {},
   "outputs": [],
   "source": []
  },
  {
   "cell_type": "code",
   "execution_count": 90,
   "metadata": {},
   "outputs": [
    {
     "data": {
      "image/png": "[encoded data removed]",
      "text/plain": [
       "<Figure size 864x136.8 with 4 Axes>"
      ]
     },
     "metadata": {
      "needs_background": "light"
     },
     "output_type": "display_data"
    }
   ],
   "source": [
    "# import matplotlib.pyplot as plt\n",
    "# import numpy as np\n",
    "\n",
    "fig = plt.figure(figsize=(12, 1.9)) \n",
    "\n",
    "ax1 = plt.subplot(1,4,1)\n",
    "ax2 = plt.subplot(1,4,2)\n",
    "\n",
    "ax3 = plt.subplot(1,4,3)\n",
    "ax4 = plt.subplot(1,4,4)\n",
    "\n",
    "\n",
    "plot1 = [1,2]\n",
    "plot2 = [3,4]\n",
    "plot3 = [5,6]\n",
    "plot4 = [7,8]\n",
    "plot5 = [9,10]\n",
    "\n",
    "SizeOfMarker = 2\n",
    "\n",
    "#plotting the lines\n",
    "for i in range(len(df_newInuA[\"uninjected-NaGluIbu30\"])):\n",
    "    ax1.plot(plot1, [df_newInuA[\"uninjected-NaGluIbu30\"][i], df_newInuA[\"uninjected+NaGluIbu30\"][i]], c='k',marker = 'o',markersize=SizeOfMarker, linewidth=SizeofLine,clip_on=False)\n",
    "\n",
    "for i in range(len(df_newInuA[\"uninjected-NaGluFibu30\"])):\n",
    "    ax1.plot(plot2, [df_newInuA[\"uninjected-NaGluFibu30\"][i], df_newInuA[\"uninjected+NaGluFibu30\"][i]], c='k',marker = 'o',markersize=SizeOfMarker, linewidth=SizeofLine,clip_on=False)\n",
    "\n",
    "for i in range(len(df_newInuA[\"uninjected-NaGluDiclo30\"])):\n",
    "    ax1.plot(plot3, [df_newInuA[\"uninjected-NaGluDiclo30\"][i], df_newInuA[\"uninjected+NaGluDiclo30\"][i]], c='k',marker = 'o',markersize=SizeOfMarker, linewidth=SizeofLine,clip_on=False)\n",
    "\n",
    "for i in range(len(df_newInuA[\"uninjected-NaGluAsp30\"])):\n",
    "    ax1.plot(plot4, [df_newInuA[\"uninjected-NaGluAsp30\"][i], df_newInuA[\"uninjected+NaGluAsp30\"][i]], c='k',marker = 'o',markersize=SizeOfMarker, linewidth=SizeofLine,clip_on=False)\n",
    "\n",
    "for i in range(len(df_newInuA[\"uninjected-NaGluSA30\"])):\n",
    "    ax1.plot(plot5, [df_newInuA[\"uninjected-NaGluSA30\"][i], df_newInuA[\"uninjected+NaGluSA30\"][i]], c='k',marker = 'o',markersize=SizeOfMarker, linewidth=SizeofLine,clip_on=False)\n",
    "\n",
    "######\n",
    "\n",
    "# # plotting the lines\n",
    "for i in range(len(df_newInuA[\"mg418mg012-NaGluIbu30\"])):\n",
    "    ax2.plot(plot1, [df_newInuA[\"mg418mg012-NaGluIbu30\"][i], df_newInuA[\"mg418mg012+NaGluIbu30\"][i]], c=(0.89, 0.11, 0.1),marker = 'o',markersize=SizeOfMarker, linewidth=SizeofLine,clip_on=False)\n",
    "\n",
    "for i in range(len(df_newInuA[\"mg418mg012-NaGluFibu30\"])):\n",
    "    ax2.plot(plot2, [df_newInuA[\"mg418mg012-NaGluFibu30\"][i], df_newInuA[\"mg418mg012+NaGluFibu30\"][i]], c=(0.89, 0.11, 0.1),marker = 'o',markersize=SizeOfMarker, linewidth=SizeofLine,clip_on=False)\n",
    "\n",
    "for i in range(len(df_newInuA[\"mg418mg012-NaGluDiclo30\"])):\n",
    "    ax2.plot(plot3, [df_newInuA[\"mg418mg012-NaGluDiclo30\"][i], df_newInuA[\"mg418mg012+NaGluDiclo30\"][i]], c=(0.89, 0.11, 0.1),marker = 'o',markersize=SizeOfMarker, linewidth=SizeofLine,clip_on=False)\n",
    "\n",
    "for i in range(len(df_newInuA[\"mg418mg012-NaGluAsp30\"])):\n",
    "    ax2.plot(plot4, [df_newInuA[\"mg418mg012-NaGluAsp30\"][i], df_newInuA[\"mg418mg012+NaGluAsp30\"][i]], c=(0.89, 0.11, 0.1),marker = 'o',markersize=SizeOfMarker, linewidth=SizeofLine,clip_on=False)\n",
    "\n",
    "for i in range(len(df_newInuA[\"mg418mg012-NaGluSA30\"])):\n",
    "    ax2.plot(plot5, [df_newInuA[\"mg418mg012-NaGluSA30\"][i], df_newInuA[\"mg418mg012+NaGluSA30\"][i]], c=(0.89, 0.11, 0.1),marker = 'o',markersize=SizeOfMarker, linewidth=SizeofLine,clip_on=False)\n",
    "\n",
    "######\n",
    "\n",
    "for i in range(len(df_newInuA[\"pTL69mg012-NaGluIbu30\"])):\n",
    "    ax3.plot(plot1, [df_newInuA[\"pTL69mg012-NaGluIbu30\"][i], df_newInuA[\"pTL69mg012+NaGluIbu30\"][i]], c=(0.6, 0.31, 0.64),marker = 'o',markersize=SizeOfMarker, linewidth=SizeofLine,clip_on=False)\n",
    "\n",
    "for i in range(len(df_newInuA[\"pTL69mg012-NaGluFibu30\"])):\n",
    "    ax3.plot(plot2, [df_newInuA[\"pTL69mg012-NaGluFibu30\"][i], df_newInuA[\"pTL69mg012+NaGluFibu30\"][i]], c=(0.6, 0.31, 0.64),marker = 'o',markersize=SizeOfMarker, linewidth=SizeofLine,clip_on=False)\n",
    "\n",
    "for i in range(len(df_newInuA[\"pTL69mg012-NaGluDiclo30\"])):\n",
    "    ax3.plot(plot3, [df_newInuA[\"pTL69mg012-NaGluDiclo30\"][i], df_newInuA[\"pTL69mg012+NaGluDiclo30\"][i]], c=(0.6, 0.31, 0.64),marker = 'o',markersize=SizeOfMarker, linewidth=SizeofLine,clip_on=False)\n",
    "\n",
    "for i in range(len(df_newInuA[\"pTL69mg012-NaGluAsp30\"])):\n",
    "    ax3.plot(plot4, [df_newInuA[\"pTL69mg012-NaGluAsp30\"][i], df_newInuA[\"pTL69mg012+NaGluAsp30\"][i]], c=(0.6, 0.31, 0.64),marker = 'o',markersize=SizeOfMarker, linewidth=SizeofLine,clip_on=False)\n",
    "\n",
    "for i in range(len(df_newInuA[\"pTL69mg012-NaGluSA30\"])):\n",
    "    ax3.plot(plot5 , [df_newInuA[\"pTL69mg012-NaGluSA30\"][i], df_newInuA[\"pTL69mg012+NaGluSA30\"][i]], c=(0.6, 0.31, 0.64),marker = 'o',markersize=SizeOfMarker, linewidth=SizeofLine,clip_on=False)\n",
    "########\n",
    "\n",
    "  \n",
    "###########\n",
    "for i in range(len(df_newInuA[\"mg419mg012-NaGluIbu30\"])):\n",
    "    ax4.plot(plot1, [df_newInuA[\"mg419mg012-NaGluIbu30\"][i], df_newInuA[\"mg419mg012+NaGluIbu30\"][i]], c=(0.3, 0.69, 0.29),marker = 'o',markersize=SizeOfMarker, linewidth=SizeofLine,clip_on=False)\n",
    "\n",
    "for i in range(len(df_newInuA[\"mg419mg012-NaGluFibu30\"])):\n",
    "    ax4.plot(plot2, [df_newInuA[\"mg419mg012-NaGluFibu30\"][i], df_newInuA[\"mg419mg012+NaGluFibu30\"][i]], c=(0.3, 0.69, 0.29),marker = 'o',markersize=SizeOfMarker, linewidth=SizeofLine,clip_on=False)\n",
    "\n",
    "for i in range(len(df_newInuA[\"mg419mg012-NaGluDiclo30\"])):\n",
    "    ax4.plot(plot3, [df_newInuA[\"mg419mg012-NaGluDiclo30\"][i], df_newInuA[\"mg419mg012+NaGluDiclo30\"][i]], c=(0.3, 0.69, 0.29),marker = 'o',markersize=SizeOfMarker, linewidth=SizeofLine,clip_on=False)\n",
    "\n",
    "for i in range(len(df_newInuA[\"mg419mg012-NaGluAsp30\"])):\n",
    "    ax4.plot(plot4, [df_newInuA[\"mg419mg012-NaGluAsp30\"][i], df_newInuA[\"mg419mg012+NaGluAsp30\"][i]], c=(0.3, 0.69, 0.29),marker = 'o',markersize=SizeOfMarker, linewidth=SizeofLine,clip_on=False)\n",
    "\n",
    "for i in range(len(df_newInuA[\"mg419mg012-NaGluSA30\"])):\n",
    "    ax4.plot(plot5, [df_newInuA[\"mg419mg012-NaGluSA30\"][i], df_newInuA[\"mg419mg012+NaGluSA30\"][i]], c=(0.3, 0.69, 0.29),marker = 'o',markersize=SizeOfMarker, linewidth=SizeofLine,clip_on=False)\n",
    "\n",
    "\n",
    "labelsIbu = [\"Ibu\", \"Fibu\",\"Diclo\", \"Asp\", \"SA\"]\n",
    "\n",
    "ylimSetM4 = [0,-50]\n",
    "ylimSetU8 = [0,-5]\n",
    "ylimSetDT1 = [0,-2]\n",
    "##### AXIS 1 ####\n",
    "ax1.set_ylim(ylimSetDT1)\n",
    "ax1.spines['right'].set_visible(False)                                  # no spine at the right\n",
    "ax1.spines['top'].set_visible(False)                                     # no spine at the top\n",
    "ax1.yaxis.set_ticks_position('left')                                     # ticks at the left\n",
    "ax1.xaxis.set_ticks_position('bottom')                                 # no spine at the right\n",
    "ax1.spines['left'].set_position(('outward',10))                           # a spine at the left that is put a little aside\n",
    "ax1.spines['bottom'].set_position(('outward',2))  \n",
    "ax1.spines['top'].set_position(('axes',5)) \n",
    "ax1.get_yaxis().set_tick_params(direction='in')\n",
    "ax1.get_xaxis().set_tick_params(direction='in')\n",
    "# ax1.plot([-1,20], [0,0], 'k--', color='#000000', linewidth=1)#gray line for Zero or 1        \n",
    "ax1.tick_params(axis='y', which='major', labelsize=AxisTickLabelSize )  \n",
    "ax1.tick_params(axis='x', which='major', labelsize=AxisTickLabelSize, length=0) \n",
    "# ax7.set_title('Ibuoride Analogues',size=12)\n",
    "# ax1.set_xticklabels(np.unique(IbuAll30['Injection']),rotation=30)\n",
    "ax1.set_xticks((plot1[0],plot1[1], plot2[0],plot2[1], plot3[0], plot3[1],plot4[0],plot4[1],plot5[0],plot5[1])) \n",
    "ax1.spines['bottom'].set_visible(False) \n",
    "#a1.xaxis.set_visible(False)\n",
    "labels = ['-','+','-','+','-','+','-','+','-','+']\n",
    "ax1.set_xticklabels(labels,  ha='right',)\n",
    "ax1.text(1.8, 0.44, labelsIbu[0],ha='right',rotation=30,fontsize= AxisLegendSize)\n",
    "ax1.text(4.,0.44, labelsIbu[1],ha='right',rotation=30,fontsize= AxisLegendSize)\n",
    "ax1.text(6.2, 0.44, labelsIbu[2],ha='right',rotation=30,fontsize= AxisLegendSize)\n",
    "ax1.text(8.2, 0.44, labelsIbu[3],ha='right',rotation=30,fontsize= AxisLegendSize)\n",
    "ax1.text(10.1, 0.44, labelsIbu[4],ha='right',rotation=30,fontsize= AxisLegendSize)\n",
    "ax1.set_yticks([0,-0.5,-1,-1.5,-2])\n",
    "plt.draw()      # Note, this line is important\n",
    "labels = [l.get_text() for l in ax1.get_yticklabels()]\n",
    "labels[0] = '0'\n",
    "ax1.set_yticklabels(labels)\n",
    "\n",
    "# #ax1.set_xlabel('V (mV)',fontsize=14)\n",
    "# #ax1.set_ylabel('Change in current @-85 mV (I(drug) - I(before)',fontsize=14)\n",
    "ax1.set_ylabel(axesText)\n",
    "ax1.set_xlabel(axesText)\n",
    "ax1.text(-4, -1.5, 'current, $\\it{I}$ (µA)',fontsize=10,rotation=90,ha='center')\n",
    "\n",
    "\n",
    "##### AXIS 2 ####\n",
    "ax2.set_ylim(ylimSetDT1)\n",
    "ax2.spines['right'].set_visible(False)                                  # no spine at the right\n",
    "ax2.spines['top'].set_visible(False)                                     # no spine at the top\n",
    "ax2.yaxis.set_ticks_position('left')                                     # ticks at the left\n",
    "ax2.xaxis.set_ticks_position('bottom')                                 # no spine at the right\n",
    "ax2.spines['left'].set_position(('outward',10))                           # a spine at the left that is put a little aside\n",
    "ax2.spines['bottom'].set_position(('outward',2))  \n",
    "ax2.spines['top'].set_position(('axes',5)) \n",
    "ax2.get_yaxis().set_tick_params(direction='in')\n",
    "ax2.get_xaxis().set_tick_params(direction='in')\n",
    "# ax1.plot([-1,20], [0,0], 'k--', color='#000000', linewidth=1)#gray line for Zero or 1        \n",
    "ax2.tick_params(axis='y', which='major', labelsize=AxisTickLabelSize )  \n",
    "ax2.tick_params(axis='x', which='major', labelsize=AxisTickLabelSize, length=0)   \n",
    "# ax7.set_title('Ibuoride Analogues',size=12)\n",
    "ax2.set_xticks((plot1[0],plot1[1], plot2[0],plot2[1], plot3[0], plot3[1],plot4[0],plot4[1],plot5[0],plot5[1])) \n",
    "ax2.spines['bottom'].set_visible(False) \n",
    "#ax1.xaxis.set_visible(False)\n",
    "labels = ['-','+','-','+','-','+','-','+','-','+']\n",
    "ax2.set_xticklabels(labels,  ha='right',) \n",
    "ax2.text(1.8,0.44, labelsIbu[0],ha='right',rotation=30,fontsize= AxisLegendSize)\n",
    "ax2.text(4.,0.44, labelsIbu[1],ha='right',rotation=30,fontsize= AxisLegendSize)\n",
    "ax2.text(6.2, 0.44, labelsIbu[2],ha='right',rotation=30,fontsize= AxisLegendSize)\n",
    "ax2.text(8.2, 0.44, labelsIbu[3],ha='right',rotation=30,fontsize= AxisLegendSize)\n",
    "ax2.text(10.1, 0.44, labelsIbu[4],ha='right',rotation=30,fontsize= AxisLegendSize)\n",
    "ax2.set_yticks([0,-0.5,-1,-1.5,-2])\n",
    "plt.draw()      # Note, this line is important\n",
    "labels = [l.get_text() for l in ax2.get_yticklabels()]\n",
    "labels[0] = '0'\n",
    "ax2.set_yticklabels(labels)\n",
    "\n",
    "# #ax1.set_xlabel('V (mV)',fontsize=14)\n",
    "# #ax1.set_ylabel('Change in current @-85 mV (I(drug) - I(before)',fontsize=14)\n",
    "ax2.set_ylabel(axesText)\n",
    "ax2.set_xlabel(axesText)\n",
    "# ax7.text(-3.7, -0.1, 'Change in current at -85 mV (I(drug) - I(before)',fontsize=14,rotation=90)\n",
    "\n",
    "   ##### AXIS 3 ####\n",
    "ax3.set_ylim(ylimSetU8)\n",
    "ax3.spines['right'].set_visible(False)                                  # no spine at the right\n",
    "ax3.spines['top'].set_visible(False)                                     # no spine at the top\n",
    "ax3.yaxis.set_ticks_position('left')                                     # ticks at the left\n",
    "ax3.xaxis.set_ticks_position('bottom')                                 # no spine at the right\n",
    "ax3.spines['left'].set_position(('outward',10))                           # a spine at the left that is put a little aside\n",
    "ax3.spines['bottom'].set_position(('outward',2))  \n",
    "ax3.spines['top'].set_position(('axes',5)) \n",
    "ax3.get_yaxis().set_tick_params(direction='in')\n",
    "ax3.get_xaxis().set_tick_params(direction='in')\n",
    "# 3ax1.plot([-1,20], [0,0], 'k--', color='#000000', linewidth=1)#gray line for Zero or 1        \n",
    "ax3.tick_params(axis='y', which='major', labelsize=AxisTickLabelSize )  \n",
    "ax3.tick_params(axis='x', which='major', labelsize=AxisTickLabelSize, length=0) \n",
    "# ax7.set_title('Ibuoride Analogues',size=12)\n",
    "ax3.set_xticks((plot1[0],plot1[1], plot2[0],plot2[1], plot3[0], plot3[1],plot4[0],plot4[1],plot5[0],plot5[1])) \n",
    "ax3.spines['bottom'].set_visible(False) \n",
    "#ax1.xaxis.set_visible(False)\n",
    "labels = ['-','+','-','+','-','+','-','+','-','+']\n",
    "ax3.set_xticklabels(labels,  ha='right',)\n",
    "ax3.text(1.8, 1.1, labelsIbu[0],ha='right',rotation=30,fontsize= AxisLegendSize)\n",
    "ax3.text(4., 1.1, labelsIbu[1],ha='right',rotation=30,fontsize= AxisLegendSize)\n",
    "ax3.text(6.2, 1.1, labelsIbu[2],ha='right',rotation=30,fontsize= AxisLegendSize)\n",
    "ax3.text(8.2, 1.1, labelsIbu[3],ha='right',rotation=30,fontsize= AxisLegendSize)\n",
    "ax3.text(10.1, 1.1, labelsIbu[4],ha='right',rotation=30,fontsize= AxisLegendSize)\n",
    "# #ax1.set_xlabel('V (mV)',fontsize=14)\n",
    "# #ax1.set_ylabel('Change in current @-85 mV (I(drug) - I(before)',fontsize=14)\n",
    "ax3.set_ylabel(axesText)\n",
    "ax3.set_xlabel(axesText)\n",
    "# ax7.text(-3.7, -0.1, 'Change in current at -85 mV (I(drug) - I(before)',fontsize=14,rotation=90)\n",
    "\n",
    "   ##### AXIS 4####\n",
    "ax4.set_ylim(ylimSetM4)\n",
    "ax4.spines['right'].set_visible(False)                                  # no spine at the right\n",
    "ax4.spines['top'].set_visible(False)                                     # no spine at the top\n",
    "ax4.yaxis.set_ticks_position('left')                                     # ticks at the left\n",
    "ax4.xaxis.set_ticks_position('bottom')                                 # no spine at the right\n",
    "ax4.spines['left'].set_position(('outward',10))                           # a spine at the left that is put a little aside\n",
    "ax4.spines['bottom'].set_position(('outward',2))  \n",
    "ax4.spines['top'].set_position(('axes',5)) \n",
    "ax4.get_yaxis().set_tick_params(direction='in')\n",
    "ax4.get_xaxis().set_tick_params(direction='in')\n",
    "# 3ax1.plot([-1,20], [0,0], 'k--', color='#000000', linewidth=1)#gray line for Zero or 1   \n",
    "# ax.tick_params(axis=\"x\", labelsize=18, labelrotation=-60, labelcolor=\"turquoise\")\n",
    "# ax.tick_params(axis=\"y\", labelsize=12, labelrotation=20, labelcolor=\"orange\")\n",
    "ax4.tick_params(axis='y', which='major', labelsize=AxisTickLabelSize )  \n",
    "ax4.tick_params(axis='x', which='major', labelsize=AxisTickLabelSize, length=0)  \n",
    "\n",
    "ax4.set_xticks((plot1[0],plot1[1], plot2[0],plot2[1], plot3[0], plot3[1],plot4[0],plot4[1],plot5[0],plot5[1])) \n",
    "ax4.spines['bottom'].set_visible(False) \n",
    "#ax1.xaxis.set_visible(False)\n",
    "labels = ['-','+','-','+','-','+','-','+','-','+']\n",
    "ax4.set_xticklabels(labels,  ha='right')\n",
    "ax4.text(1.8, 11, labelsIbu[0],ha='right',rotation=30,fontsize= AxisLegendSize)\n",
    "ax4.text(4., 11, labelsIbu[1],ha='right',rotation=30,fontsize= AxisLegendSize)\n",
    "ax4.text(6.2, 11, labelsIbu[2],ha='right',rotation=30,fontsize= AxisLegendSize)\n",
    "ax4.text(8.2, 11, labelsIbu[3],ha='right',rotation=30,fontsize= AxisLegendSize)\n",
    "ax4.text(10.1, 11, labelsIbu[4],ha='right',rotation=30,fontsize= AxisLegendSize)\n",
    "#ax4.set_xticklabels(labelsIbu,rotation=30)\n",
    "\n",
    "\n",
    "ax4.set_ylabel(axesText)\n",
    "ax4.set_xlabel(axesText)\n",
    "\n",
    "    \n",
    "\n",
    "plt.gcf().subplots_adjust(bottom=0.21, left=0.3,right=None, top=None,hspace=1.5, wspace=0.5)     \n",
    "    \n",
    "# plt.show()\n",
    "\n",
    "plt.savefig(filedirManuscript+\"Fig2-NSAIDs-pairedPoints\"+'.pdf')\n",
    "#plt.savefig(filedirManuscript+\"Fig2-IbuorideAnalogs-pairedPoints\"+'.eps')\n",
    "#plt.savefig(filedirManuscript+\"Fig2-IbuorideAnalogs-pairedPoints\"+'.jpg')"
   ]
  },
  {
   "cell_type": "markdown",
   "metadata": {},
   "source": [
    "### test plot paired data"
   ]
  },
  {
   "cell_type": "code",
   "execution_count": 91,
   "metadata": {
    "scrolled": true
   },
   "outputs": [
    {
     "data": {
      "image/png": "[encoded data removed]",
      "text/plain": [
       "<Figure size 432x288 with 1 Axes>"
      ]
     },
     "metadata": {
      "needs_background": "light"
     },
     "output_type": "display_data"
    }
   ],
   "source": [
    "import matplotlib.pyplot as plt\n",
    "import numpy as np\n",
    "\n",
    "# your input data:\n",
    "befores = np.random.rand(10)\n",
    "afters = np.random.rand(10)\n",
    "\n",
    "# plotting the points\n",
    "plt.scatter(np.zeros(len(befores)), befores)\n",
    "plt.scatter(np.ones(len(afters)), afters)\n",
    "\n",
    "# plotting the lines\n",
    "for i in range(len(befores)):\n",
    "    plt.plot( [0,1], [befores[i], afters[i]], c='k')\n",
    "\n",
    "plt.xticks([0,1], ['before', 'after'])\n",
    "\n",
    "plt.show()"
   ]
  },
  {
   "cell_type": "code",
   "execution_count": null,
   "metadata": {
    "scrolled": true
   },
   "outputs": [],
   "source": []
  },
  {
   "cell_type": "markdown",
   "metadata": {},
   "source": [
    "# supplementary Figure: higher concentrations"
   ]
  },
  {
   "cell_type": "code",
   "execution_count": 92,
   "metadata": {},
   "outputs": [],
   "source": [
    "Amil100 = df[(df.Injection.isin([\"mg418mg012\",\"uninjected\"])) & (df.TestSol.isin([\"NaGluAmil100\"]))]\n",
    "Ibu100 = df[(df.Injection.isin([\"mg418mg012\",\"uninjected\"])) & (df.TestSol.isin([\"NaGluIbu100\"]))]\n",
    "Amil300 = df[(df.Injection.isin([\"mg418mg012\",\"uninjected\",\"mg012\",\"mg418\"])) & (df.TestSol.isin([\"NaGluAmil300\"]))]\n",
    "Ibu300 = df[(df.Injection.isin([\"mg418mg012\",\"uninjected\"])) & (df.TestSol.isin([\"NaGluIbu300\"]))]\n",
    "\n",
    "\n",
    "\n",
    "Img418Amil100 = Amil100.loc[Amil100['Injection'] == 'mg418mg012',['DELTA']] #returns a data frame \n",
    "Img418Amil100.columns = ['D-Amil']\n",
    "\n",
    "\n",
    "Img418Ibu100 = Ibu100.loc[Ibu100['Injection'] == 'mg418mg012',['DELTA']] #returns a data frame \n",
    "Img418Ibu100.columns = ['D-Ibu']\n",
    "\n",
    "IUninjAmil100 = Amil100.loc[Amil100['Injection'] == 'uninjected',['DELTA']] #returns a data frame \n",
    "IUninjAmil100.columns = ['Uij-Amil']\n",
    "\n",
    "\n",
    "IUninjIbu100 = Ibu100.loc[Ibu100['Injection'] == 'uninjected',['DELTA']] #returns a data frame \n",
    "IUninjIbu100.columns = ['Uij-Ibu']\n",
    "\n",
    "\n",
    "### 300 \n",
    "Img418Amil300 = Amil300.loc[Amil300['Injection'] == 'mg418mg012',['DELTA']] #returns a data frame \n",
    "Img418Amil300.columns = ['D-Amil300']\n",
    "\n",
    "Img418aloneAmil300 = Amil300.loc[Amil300['Injection'] == 'mg418',['DELTA']] #returns a data frame \n",
    "Img418aloneAmil300.columns = ['Dalone-Amil300']\n",
    "\n",
    "Img012aloneAmil300 = Amil300.loc[Amil300['Injection'] == 'mg012',['DELTA']] #returns a data frame \n",
    "Img012aloneAmil300.columns = ['M2-Amil300']\n",
    "\n",
    "Img418Ibu300 = Ibu300.loc[Ibu300['Injection'] == 'mg418mg012',['DELTA']] #returns a data frame \n",
    "Img418Ibu300.columns = ['D-Ibu300']\n",
    "\n",
    "IUninjAmil300 = Amil300.loc[Amil300['Injection'] == 'uninjected',['DELTA']] #returns a data frame \n",
    "IUninjAmil300.columns = ['Uij-Amil300']\n",
    "\n",
    "\n",
    "IUninjIbu300 = Ibu300.loc[Ibu300['Injection'] == 'uninjected',['DELTA']] #returns a data frame \n",
    "IUninjIbu300.columns = ['Uij-Ibu300']\n",
    "                       \n"
   ]
  },
  {
   "cell_type": "markdown",
   "metadata": {},
   "source": [
    "### concatenate data to plot all amil including M2 alone"
   ]
  },
  {
   "cell_type": "code",
   "execution_count": 93,
   "metadata": {},
   "outputs": [],
   "source": [
    "I100Concat = pd.concat([Img418Amil100.reset_index(drop=True),IUninjAmil100.reset_index(drop=True),Img418Amil300.reset_index(drop=True),IUninjAmil300.reset_index(drop=True),Img418aloneAmil300.reset_index(drop=True),Img012aloneAmil300.reset_index(drop=True),],sort=False, axis=1)\n",
    "#sort=False removed the warning, but no idea what its doin\n",
    "I100ConcatuA = I100Concat.astype(float)*1000000\n",
    "                                                          \n",
    "#shared_controltest = dabest.load(I100ConcatuA, idx=((\"Uij-Amil\", \"D-Amil\",),(\"Uij-Bmil\", \"D-Bmil\",), (\"Uij-Ibu\", \"D-Ibu\")))\n",
    "multi_2group100 = dabest.load(I100ConcatuA, idx=((\"Uij-Amil\", \"D-Amil\",), (\"Uij-Amil300\",\"M2-Amil300\",\"Dalone-Amil300\", \"D-Amil300\",)))\n",
    "\n"
   ]
  },
  {
   "cell_type": "code",
   "execution_count": null,
   "metadata": {},
   "outputs": [],
   "source": [
    "\n"
   ]
  },
  {
   "cell_type": "code",
   "execution_count": 94,
   "metadata": {},
   "outputs": [
    {
     "data": {
      "text/plain": [
       "DABEST v0.2.4\n",
       "=============\n",
       "             \n",
       "Good afternoon!\n",
       "The current time is Thu Dec 17 13:36:06 2020.\n",
       "\n",
       "The unpaired mean difference between Uij-Amil and D-Amil is 0.0201 [95%CI -0.0369, 0.0696].\n",
       "The two-sided p-value of the Mann-Whitney test is 0.35.\n",
       "\n",
       "The unpaired mean difference between Uij-Amil300 and M2-Amil300 is -0.0067 [95%CI -0.017, 0.00467].\n",
       "The two-sided p-value of the Mann-Whitney test is 0.19.\n",
       "\n",
       "The unpaired mean difference between Uij-Amil300 and Dalone-Amil300 is 0.0288 [95%CI 0.00792, 0.0602].\n",
       "The two-sided p-value of the Mann-Whitney test is 0.0528.\n",
       "\n",
       "The unpaired mean difference between Uij-Amil300 and D-Amil300 is 0.0623 [95%CI 0.0392, 0.094].\n",
       "The two-sided p-value of the Mann-Whitney test is 1.32e-06.\n",
       "\n",
       "5000 bootstrap samples were taken; the confidence interval is bias-corrected and accelerated.\n",
       "The p-value(s) reported are the likelihood(s) of observing the effect size(s),\n",
       "if the null hypothesis of zero difference is true.\n",
       "\n",
       "To get the results of all valid statistical tests, use `.mean_diff.statistical_tests`"
      ]
     },
     "execution_count": 94,
     "metadata": {},
     "output_type": "execute_result"
    }
   ],
   "source": [
    "multi_2group100.mean_diff\n"
   ]
  },
  {
   "cell_type": "markdown",
   "metadata": {},
   "source": [
    "### figure Amil 100 and 300 including M2 alone"
   ]
  },
  {
   "cell_type": "code",
   "execution_count": 95,
   "metadata": {},
   "outputs": [],
   "source": [
    "\n",
    "colorsEST100 = [(0.00, 0.00, 0.00),(0.89, 0.11,0.10),(0.00, 0.00, 0.00),(0.60, 0.62, 0.62),(0.89,0.54,0.56),(0.89, 0.11,0.10),(0.00, 0.00, 0.00),(0.00, 0.00, 0.00),(0.89, 0.11,0.10),(0.89, 0.11,0.10),(0.89, 0.11,0.10),(0.89, 0.11,0.10),(0.30, 0.69, 0.29),(0.30, 0.69, 0.29)]\n"
   ]
  },
  {
   "cell_type": "code",
   "execution_count": 108,
   "metadata": {
    "scrolled": true
   },
   "outputs": [
    {
     "data": {
      "text/plain": [
       "<Figure size 252x216 with 0 Axes>"
      ]
     },
     "metadata": {},
     "output_type": "display_data"
    },
    {
     "data": {
      "image/png": "[encoded data removed]",
      "text/plain": [
       "<Figure size 310x450 with 2 Axes>"
      ]
     },
     "metadata": {
      "needs_background": "light"
     },
     "output_type": "display_data"
    }
   ],
   "source": [
    "#change figure!!!!\n",
    "#fig1 = plt.figure(figsize=(3.5, 3)) \n",
    "#ax1 = plt.subplot(1,1,1)\n",
    "plt.figure(figsize=(3.5, 3)) \n",
    "fig1= multi_2group100.mean_diff.plot(swarm_ylim=(1,-0.5), contrast_ylim=(0.6,-0.2), custom_palette=colorsEST100,fig_size=(3.1, 4.5),\n",
    "                                     raw_marker_size=(2),es_marker_size=2,contrast_label='Δ$\\it{I}$$_{drug}$ (µA)',\n",
    "                                    swarm_label='$\\it{I}$$_{drug}$ (µA)',reflines_kwargs = {'linestyle':'dashed', 'linewidth':0.75,\n",
    "                                   'color':'red'})#,reflines_kwargs\n",
    "#fig1.axes[0].ylabel('Current @-85 mV (µA)', fontsize=14) ‘color’ : ‘linestyle’:’dashed’}\n",
    "#ax1.spines['left'].set_position(('outward',15))\n",
    "\n",
    "\n",
    "\n",
    "fig1.axes[0].plot([-1,20], [0,0], 'k-', color='#000000', linestyle='--',linewidth=0.5)\n",
    "#fig1.axes[1].plot([-1,20], [-1,-1], 'k--', color='#000000', linewidth=1)\n",
    "fig1.axes[0].tick_params(axis='both', which='major', labelsize=AxisTickLabelSize)  \n",
    "fig1.axes[1].tick_params(axis='both', which='major', labelsize=AxisTickLabelSize)  \n",
    "#fig1 = plot([-1,20], [0,0])# , 'k--', color='#000000', linewidth=1)\n",
    "#ax1.spines['left'].set_position(('outward',35))\n",
    "\n",
    "labels = []#'0','100','0','100','0','100','0','100' \n",
    "fig1.axes[0].set_xticklabels(labels, rotation=30, ha='right')\n",
    "\n",
    "#labels2 = ['uninj','DEGT-1d','uninj','MEC-2 alone','DEGT-1d','DEGT-1d alone', ]\n",
    "labels2 = ['',]\n",
    "fig1.axes[1].set_xticklabels(labels2, ha='right',fontsize= AxisLegendSize)\n",
    "fig1.axes[1].text(-0.5, 0.73, 'MEC-2 ',ha='right',fontsize= AxisLegendSize)\n",
    "fig1.axes[1].text(-0.5, 0.83, 'DEGT-1d ',ha='right',fontsize= AxisLegendSize)\n",
    "fig1.axes[0].text(-0.2, 1.18, '100 µM ',fontsize= AxisLegendSize)\n",
    "fig1.axes[0].text(2.4, 1.18, '300 µM Amil',fontsize= AxisLegendSize)\n",
    "fig1.axes[0].get_yaxis().set_tick_params(direction='in')\n",
    "fig1.axes[1].get_yaxis().set_tick_params(direction='in')\n",
    "fig1.axes[0].get_xaxis().set_tick_params(direction='in')\n",
    "fig1.axes[1].get_xaxis().set_tick_params(direction='in')\n",
    "\n",
    "plt.gcf().subplots_adjust(bottom=0.2, left=0.3,right=None, top=None,hspace=1.5, wspace=0.2) \n",
    "plt.savefig(filedir+\"Fig3-Suppl-Amil100and300\"+'.pdf')\n",
    "#plt.savefig(filedir+\"Fig1-NaGlu-MeanStart\"+'.eps')\n",
    "plt.savefig(filedirManuscript+\"Fig3-Suppl-Amil100and300\"+'.pdf')\n",
    "\n",
    "\n"
   ]
  },
  {
   "cell_type": "markdown",
   "metadata": {},
   "source": [
    "## paired data higher amiloride"
   ]
  },
  {
   "cell_type": "code",
   "execution_count": 97,
   "metadata": {},
   "outputs": [
    {
     "data": {
      "image/png": "[encoded data removed]",
      "text/plain": [
       "<Figure size 201.6x129.6 with 1 Axes>"
      ]
     },
     "metadata": {
      "needs_background": "light"
     },
     "output_type": "display_data"
    }
   ],
   "source": [
    "fig = plt.figure(figsize=(2.8, 1.8)) \n",
    "\n",
    "\n",
    "ax1 = plt.subplot(1,1,1)\n",
    "\n",
    "plot1 = [1,2]\n",
    "plot2 = [3,4]\n",
    "plot3 = [6,7]\n",
    "plot4 = [8,9]\n",
    "plot5 = [10,11]\n",
    "plot6 = [12,13]\n",
    "# plot7 = [14,15]\n",
    "\n",
    "SizeOfMarker = 2\n",
    "SizeofLine = 0.5\n",
    "AxisTickLabelSize =8\n",
    "\n",
    "for i in range(len(df_newInuA[\"uninjected-NaGluAmil100\"])):\n",
    "    ax1.plot(plot1, [df_newInuA[\"uninjected-NaGluAmil100\"][i], df_newInuA[\"uninjected+NaGluAmil100\"][i]], c='k',marker = 'o',markersize=SizeOfMarker,linewidth=SizeofLine,clip_on=False)\n",
    "\n",
    "for i in range(len(df_newInuA[\"mg418mg012-NaGluAmil100\"])):\n",
    "    ax1.plot(plot2, [df_newInuA[\"mg418mg012-NaGluAmil100\"][i], df_newInuA[\"mg418mg012+NaGluAmil100\"][i]], c=(0.89, 0.11,0.10),marker = 'o',markersize=SizeOfMarker,linewidth=SizeofLine,clip_on=False)\n",
    "\n",
    "for i in range(len(df_newInuA[\"uninjected-NaGluAmil300\"])):\n",
    "    ax1.plot(plot3, [df_newInuA[\"uninjected-NaGluAmil300\"][i], df_newInuA[\"uninjected+NaGluAmil300\"][i]], c='k',marker = 'o',markersize=SizeOfMarker,linewidth=SizeofLine,clip_on=False)\n",
    "\n",
    "for i in range(len(df_newInuA[\"mg012-NaGluAmil300\"])):\n",
    "    ax1.plot(plot4, [df_newInuA[\"mg012-NaGluAmil300\"][i], df_newInuA[\"mg012+NaGluAmil300\"][i]], c=(0.60, 0.62, 0.62),marker = 'o',markersize=SizeOfMarker,linewidth=SizeofLine,clip_on=False)\n",
    "\n",
    "for i in range(len(df_newInuA[\"mg418-NaGluAmil300\"])):\n",
    "    ax1.plot(plot5, [df_newInuA[\"mg418-NaGluAmil300\"][i], df_newInuA[\"mg418+NaGluAmil300\"][i]], c=(0.89,0.54,0.56),marker = 'o',markersize=SizeOfMarker,linewidth=SizeofLine,clip_on=False)\n",
    "    \n",
    "for i in range(len(df_newInuA[\"mg418mg012-NaGluAmil300\"])):\n",
    "    ax1.plot(plot6, [df_newInuA[\"mg418mg012-NaGluAmil300\"][i], df_newInuA[\"mg418mg012+NaGluAmil300\"][i]], c=(0.89, 0.11,0.10),marker = 'o',markersize=SizeOfMarker,linewidth=SizeofLine,clip_on=False)\n",
    "\n",
    "\n",
    "\n",
    "# for i in range(len(df_newInuA[\"pTL69mg012-NaGluAmil300\"])):\n",
    "#     ax1.plot(plot7, [df_newInuA[\"pTL69mg012-NaGluAmil300\"][i], df_newInuA[\"pTL69mg012+NaGluAmil300\"][i]], c=(0.60, 0.31,0.64),marker = 'o',markersize=SizeOfMarker,linewidth=SizeofLine)\n",
    " \n",
    "\n",
    "\n",
    "\n",
    "labelsAmil = [\"uninj\", \"DEGT-1d\",\"EIPA\", \"Phen\", \"Bzd\",\"\"]\n",
    "\n",
    "ylimSetM4 = [0,-50]\n",
    "ylimSetU8 = [0,-5]\n",
    "ylimSetDT1 = [0,-3]\n",
    "# ylimSetM4 = [0.5,-50]\n",
    "# ylimSetU8 = [0.1,-5]\n",
    "# ylimSetDT1 = [1,-3]\n",
    "##### AXIS 1 ####\n",
    "ax1.set_ylim(ylimSetDT1)\n",
    "\n",
    "# test = [ax1,ax2,ax3,ax4]\n",
    "# for element in test:\n",
    "#     element.spines['right'].set_visible(False) \n",
    "    \n",
    "    \n",
    "ax1.spines['right'].set_visible(False)                                  # no spine at the right\n",
    "ax1.spines['top'].set_visible(False)                                     # no spine at the top\n",
    "ax1.yaxis.set_ticks_position('left')                                     # ticks at the left\n",
    "ax1.xaxis.set_ticks_position('bottom')                                 # no spine at the right\n",
    "ax1.spines['left'].set_position(('outward',10))                           # a spine at the left that is put a little aside\n",
    "ax1.spines['bottom'].set_position(('outward',2))  \n",
    "ax1.spines['top'].set_position(('axes',5)) \n",
    "ax1.get_yaxis().set_tick_params(direction='in')\n",
    "ax1.get_xaxis().set_tick_params(direction='in')\n",
    "# ax1.plot([-1,20], [0,0], 'k--', color='#000000', linewidth=1)#gray line for Zero or 1        \n",
    "ax1.tick_params(axis='y', which='major', labelsize=AxisTickLabelSize )  \n",
    "ax1.tick_params(axis='x', which='major', labelsize=AxisTickLabelSize, length=0)  #0 set tick length to 0 and thus removes it \n",
    "# ax7.set_title('Amiloride Analogues',size=12)\n",
    "# ax1.set_xticklabels(np.unique(AmilAll30['Injection']),rotation=30)\n",
    "ax1.set_xticks((plot1[0],plot1[1], plot2[0],plot2[1], plot3[0], plot3[1],plot4[0],plot4[1],plot5[0],plot5[1],plot6[0],plot6[1])) \n",
    "ax1.spines['bottom'].set_visible(False) \n",
    "#ax1.xaxis.set_visible(False)\n",
    "labels = ['-','+','-','+','-','+','-','+','-','+','-','+',]\n",
    "ax1.set_xticklabels(labels,  ha='right',)\n",
    "# ax1.set_yticks([0,-0.5,-1,-1.5,-2])\n",
    "# #ax1.set_xlabel('V (mV)',fontsize=14)\n",
    "# #ax1.set_ylabel('Change in current @-85 mV (I(drug) - I(before)',fontsize=14)\n",
    "ax1.set_ylabel(axesText)\n",
    "ax1.set_xlabel(axesText)\n",
    "\n",
    "ax1.text(-0.5, 0.9, '100 µM Amil',fontsize= AxisLegendSize)\n",
    "ax1.text(7., 0.9, '300 µM Amil',fontsize= AxisLegendSize)\n",
    "\n",
    "ax1.text(-4.1, -2.35, 'current, $\\it{I}$ (µA)',fontsize=AxisLabelSize,rotation=90,ha='center')\n",
    "\n",
    "\n",
    "  \n",
    "\n",
    "plt.gcf().subplots_adjust(bottom=0.25, left=0.3,right=None, top=None,hspace=1.5, wspace=0.5)     \n",
    "    \n",
    "# plt.show()\n",
    "\n",
    "plt.savefig(filedirManuscript+\"Fig2-Suppl-Paired-Amil\"+'.pdf')\n",
    "#plt.savefig(filedirManuscript+\"Fig2-IbuorideAnalogs-pairedPoints\"+'.eps')\n",
    "#plt.savefig(filedirManuscript+\"Fig2-IbuorideAnalogs-pairedPoints\"+'.jpg')\n"
   ]
  },
  {
   "cell_type": "code",
   "execution_count": null,
   "metadata": {},
   "outputs": [],
   "source": []
  },
  {
   "cell_type": "markdown",
   "metadata": {},
   "source": [
    "# paired higher Ibuprofen"
   ]
  },
  {
   "cell_type": "code",
   "execution_count": 106,
   "metadata": {},
   "outputs": [
    {
     "data": {
      "image/png": "[encoded data removed]",
      "text/plain": [
       "<Figure size 180x129.6 with 1 Axes>"
      ]
     },
     "metadata": {
      "needs_background": "light"
     },
     "output_type": "display_data"
    }
   ],
   "source": [
    "fig = plt.figure(figsize=(2.5, 1.8))  \n",
    "\n",
    "\n",
    "ax1 = plt.subplot(1,1,1)\n",
    "\n",
    "plot1 = [1,2]\n",
    "plot2 = [3,4]\n",
    "plot3 = [6,7]\n",
    "plot4 = [8,9]\n",
    "# plot5 = [9,10]\n",
    "\n",
    "SizeOfMarker = 2\n",
    "\n",
    "for i in range(len(df_newInuA[\"uninjected-NaGluIbu100\"])):\n",
    "    ax1.plot(plot1, [df_newInuA[\"uninjected-NaGluIbu100\"][i], df_newInuA[\"uninjected+NaGluIbu100\"][i]], c='k',marker = 'o',markersize=SizeOfMarker,linewidth=SizeofLine,clip_on=False)\n",
    "\n",
    "for i in range(len(df_newInuA[\"mg418mg012-NaGluIbu100\"])):\n",
    "    ax1.plot(plot2, [df_newInuA[\"mg418mg012-NaGluIbu100\"][i], df_newInuA[\"mg418mg012+NaGluIbu100\"][i]], c=(0.89, 0.11,0.10),marker = 'o',markersize=SizeOfMarker,linewidth=SizeofLine,clip_on=False)\n",
    "\n",
    "for i in range(len(df_newInuA[\"uninjected-NaGluIbu300\"])):\n",
    "    ax1.plot(plot3, [df_newInuA[\"uninjected-NaGluIbu300\"][i], df_newInuA[\"uninjected+NaGluIbu300\"][i]], c='k',marker = 'o',markersize=SizeOfMarker,linewidth=SizeofLine,clip_on=False)\n",
    "\n",
    "for i in range(len(df_newInuA[\"mg418mg012-NaGluIbu300\"])):\n",
    "    ax1.plot(plot4, [df_newInuA[\"mg418mg012-NaGluIbu300\"][i], df_newInuA[\"mg418mg012+NaGluIbu300\"][i]], c=(0.89, 0.11,0.10),marker = 'o',markersize=SizeOfMarker,linewidth=SizeofLine,clip_on=False)\n",
    "\n",
    "\n",
    "\n",
    "######\n",
    "\n",
    "\n",
    "labelsIbu = [\"Ibu\", \"Bmil\",\"EIPA\", \"Phen\", \"Bzd\",\"\"]\n",
    "\n",
    "ylimSetM4 = [0.,-50]\n",
    "ylimSetU8 = [0.,-5]\n",
    "ylimSetDT1 = [0,-3]\n",
    "##### AXIS 1 ####\n",
    "ax1.set_ylim(ylimSetDT1)\n",
    "ax1.spines['right'].set_visible(False)                                  # no spine at the right\n",
    "ax1.spines['top'].set_visible(False)                                     # no spine at the top\n",
    "ax1.yaxis.set_ticks_position('left')                                     # ticks at the left\n",
    "ax1.xaxis.set_ticks_position('bottom')                                 # no spine at the right\n",
    "ax1.spines['left'].set_position(('outward',10))                           # a spine at the left that is put a little aside\n",
    "ax1.spines['bottom'].set_position(('outward',2))  \n",
    "ax1.spines['top'].set_position(('axes',5)) \n",
    "ax1.get_yaxis().set_tick_params(direction='in')\n",
    "ax1.get_xaxis().set_tick_params(direction='in')\n",
    "# ax1.plot([-1,20], [0,0], 'k--', color='#000000', linewidth=1)#gray line for Zero or 1        \n",
    "ax1.tick_params(axis='y', which='major', labelsize=AxisTickLabelSize )  \n",
    "ax1.tick_params(axis='x', which='major', labelsize=AxisTickLabelSize, length=0)  #0 set tick length to 0 and thus removes it \n",
    "# ax7.set_title('Amiloride Analogues',size=12)\n",
    "# ax1.set_xticklabels(np.unique(AmilAll30['Injection']),rotation=30)\n",
    "ax1.set_xticks((plot1[0],plot1[1], plot2[0],plot2[1], plot3[0], plot3[1],plot4[0],plot4[1])) \n",
    "\n",
    "ax1.spines['bottom'].set_visible(False) \n",
    "#ax1.xaxis.set_visible(False)\n",
    "#ax1.tick_params(axis='both', which='major', labelsize=AxisTickLabelSize) \n",
    "labels = ['-','+','-','+','-','+','-','+',]\n",
    "ax1.set_xticklabels(labels,  ha='right',)\n",
    "#rotation=30,\n",
    "# ax1.set_yticks([0,-0.5,-1,-1.5,-2])\n",
    "# #ax1.set_xlabel('V (mV)',fontsize=14)\n",
    "# #ax1.set_ylabel('Change in current @-85 mV (I(drug) - I(before)',fontsize=14)\n",
    "ax1.set_ylabel(axesText)\n",
    "ax1.set_xlabel(axesText)\n",
    "ax1.text(0.6, 0.9, '100 µM Ibu',fontsize= AxisLegendSize)\n",
    "ax1.text(5.7, 0.9, '300 µM Ibu',fontsize= AxisLegendSize)\n",
    "\n",
    "ax1.text(-2.8, -2.35, 'current, $\\it{I}$ (µA)',fontsize=AxisLabelSize,rotation=90,ha='center')\n",
    "\n",
    "plt.gcf().subplots_adjust(bottom=0.25, left=0.3, right=None, top=None,hspace=None, wspace=0.5)     \n",
    "        \n",
    "# plt.show()\n",
    "\n",
    "plt.savefig(filedirManuscript+\"Fig2-Suppl-paired-Ibu\"+'.pdf')\n",
    "#plt.savefig(filedirManuscript+\"Fig2-IbuorideAnalogs-pairedPoints\"+'.eps')\n",
    "#plt.savefig(filedirManuscript+\"Fig2-IbuorideAnalogs-pairedPoints\"+'.jpg')\n"
   ]
  },
  {
   "cell_type": "markdown",
   "metadata": {},
   "source": [
    "### concatenate data Ibu higer concentrations"
   ]
  },
  {
   "cell_type": "code",
   "execution_count": 99,
   "metadata": {},
   "outputs": [],
   "source": [
    "#concatenateData\n",
    "I300Concat = pd.concat([IUninjIbu100.reset_index(drop=True),Img418Ibu100.reset_index(drop=True),IUninjIbu300.reset_index(drop=True),Img418Ibu300.reset_index(drop=True)],sort=False, axis=1)\n",
    "#sort=False removed the warning, but no idea what its doin\n",
    "I300ConcatuA = I300Concat.astype(float)*3000000\n",
    "                                                         \n",
    "\n",
    "multi_2group300 = dabest.load(I300ConcatuA, idx=((\"Uij-Ibu\",\"D-Ibu\",), (\"Uij-Ibu300\", \"D-Ibu300\")))\n",
    "\n",
    "\n"
   ]
  },
  {
   "cell_type": "code",
   "execution_count": 100,
   "metadata": {
    "scrolled": true
   },
   "outputs": [
    {
     "data": {
      "text/plain": [
       "DABEST v0.2.4\n",
       "=============\n",
       "             \n",
       "Good afternoon!\n",
       "The current time is Thu Dec 17 13:36:14 2020.\n",
       "\n",
       "The unpaired mean difference between Uij-Ibu and D-Ibu is 0.19 [95%CI 0.0508, 0.347].\n",
       "The two-sided p-value of the Mann-Whitney test is 0.0229.\n",
       "\n",
       "The unpaired mean difference between Uij-Ibu300 and D-Ibu300 is 0.322 [95%CI 0.214, 0.466].\n",
       "The two-sided p-value of the Mann-Whitney test is 2.48e-06.\n",
       "\n",
       "5000 bootstrap samples were taken; the confidence interval is bias-corrected and accelerated.\n",
       "The p-value(s) reported are the likelihood(s) of observing the effect size(s),\n",
       "if the null hypothesis of zero difference is true.\n",
       "\n",
       "To get the results of all valid statistical tests, use `.mean_diff.statistical_tests`"
      ]
     },
     "execution_count": 100,
     "metadata": {},
     "output_type": "execute_result"
    }
   ],
   "source": [
    "multi_2group300.mean_diff"
   ]
  },
  {
   "cell_type": "code",
   "execution_count": 101,
   "metadata": {},
   "outputs": [],
   "source": [
    "colorsESTIbuhigher= [(0.00, 0.00, 0.00),(0.89, 0.11,0.10),(0.00, 0.00, 0.00),(0.89, 0.11,0.10),(0.89, 0.11,0.10),(0.00, 0.00, 0.00),(0.00, 0.00, 0.00),(0.30, 0.69, 0.29),(0.30, 0.69, 0.29),(0.30, 0.69, 0.29),(0.30, 0.69, 0.29),(0.30, 0.69, 0.29),(0.30, 0.69, 0.29)]"
   ]
  },
  {
   "cell_type": "code",
   "execution_count": 104,
   "metadata": {},
   "outputs": [
    {
     "data": {
      "text/plain": [
       "<Figure size 252x216 with 0 Axes>"
      ]
     },
     "metadata": {},
     "output_type": "display_data"
    },
    {
     "data": {
      "image/png": "[encoded data removed]",
      "text/plain": [
       "<Figure size 280x450 with 2 Axes>"
      ]
     },
     "metadata": {
      "needs_background": "light"
     },
     "output_type": "display_data"
    }
   ],
   "source": [
    "#change figure!!!!\n",
    "#fig1 = plt.figure(figsize=(3.5, 3)) \n",
    "#ax1 = plt.subplot(1,1,1)\n",
    "plt.figure(figsize=(3.5, 3)) \n",
    "fig1= multi_2group300.mean_diff.plot(swarm_ylim=(1,-0.5), contrast_ylim=(0.6,-0.2), custom_palette=colorsESTIbuhigher,fig_size=(2.8, 4.5),\n",
    "                                     raw_marker_size=(2),es_marker_size=2,contrast_label='Δ$\\it{I}$$_{drug}$ (µA)',\n",
    "                                    swarm_label='$\\it{I}$$_{drug}$ (µA)',reflines_kwargs = {'linestyle':'dashed', 'linewidth':0.75,\n",
    "                                   'color':'red'})#,reflines_kwargs\n",
    "#fig1.axes[0].ylabel('Current @-85 mV (µA)', fontsize=14) ‘color’ : ‘linestyle’:’dashed’}\n",
    "#ax1.spines['left'].set_position(('outward',15))  \n",
    "\n",
    "fig1.axes[0].plot([-1,20], [0,0], 'k-', color='#000000',linestyle='--',linewidth=0.5)\n",
    "#fig1.axes[1].plot([-1,20], [-1,-1], 'k--', color='#000000', linewidth=1)\n",
    "fig1.axes[0].tick_params(axis='both', which='major', labelsize=AxisTickLabelSize)  \n",
    "fig1.axes[1].tick_params(axis='both', which='major', labelsize=AxisTickLabelSize)  \n",
    "#fig1 = plot([-1,20], [0,0])# , 'k--', color='#000000', linewidth=1)\n",
    "#ax1.spines['left'].set_position(('outward',35))\n",
    "\n",
    "labels = []#'0','100','0','100','0','100','0','100' \n",
    "fig1.axes[0].set_xticklabels(labels, rotation=30, ha='right',fontsize= AxisLegendSize)\n",
    "\n",
    "#labels2 = ['uninj','DEGT-1d','uninj','DEGT-1d','DEGT-1d alone', 'MEC-2 alone',]\n",
    "labels2 = ['',]\n",
    "fig1.axes[1].set_xticklabels(labels2, ha='right',fontsize= AxisLegendSize)\n",
    "fig1.axes[1].text(-0.5, 0.73, 'MEC-2 ',ha='right',fontsize= AxisLegendSize)\n",
    "fig1.axes[1].text(-0.5, 0.83, 'DEGT-1d ',ha='right',fontsize= AxisLegendSize)\n",
    "fig1.axes[1].set_xticklabels(labels2, rotation=30, ha='right',fontsize= AxisLegendSize)\n",
    "fig1.axes[0].text(-0.0, 1.18, '100 µM ',fontsize= AxisLegendSize)\n",
    "fig1.axes[0].text(1.8, 1.19, '300 µM Ibu',fontsize= AxisLegendSize)\n",
    "fig1.axes[0].get_yaxis().set_tick_params(direction='in')\n",
    "fig1.axes[1].get_yaxis().set_tick_params(direction='in')\n",
    "fig1.axes[0].get_xaxis().set_tick_params(direction='in')\n",
    "fig1.axes[1].get_xaxis().set_tick_params(direction='in')\n",
    "\n",
    "plt.gcf().subplots_adjust(bottom=0.2, left=0.3,right=None, top=None,hspace=1.5, wspace=0.2) \n",
    "plt.savefig(filedir+\"Fig3-Suppl-Ibu100and300\"+'.pdf')\n",
    "#plt.savefig(filedir+\"Fig1-NaGlu-MeanStart\"+'.eps')\n",
    "plt.savefig(filedirManuscript+\"Fig3-Suppl-Ibu100and300\"+'.pdf')\n",
    "\n",
    "\n"
   ]
  },
  {
   "cell_type": "markdown",
   "metadata": {},
   "source": [
    "# New Gutter"
   ]
  },
  {
   "cell_type": "code",
   "execution_count": null,
   "metadata": {},
   "outputs": [],
   "source": []
  }
 ],
 "metadata": {
  "kernelspec": {
   "display_name": "Python 3",
   "language": "python",
   "name": "python3"
  },
  "language_info": {
   "codemirror_mode": {
    "name": "ipython",
    "version": 3
   },
   "file_extension": ".py",
   "mimetype": "text/x-python",
   "name": "python",
   "nbconvert_exporter": "python",
   "pygments_lexer": "ipython3",
   "version": "3.7.4"
  }
 },
 "nbformat": 4,
 "nbformat_minor": 2
}
