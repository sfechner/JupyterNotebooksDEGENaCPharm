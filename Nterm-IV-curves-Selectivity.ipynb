{
 "cells": [
  {
   "cell_type": "code",
   "execution_count": 94,
   "metadata": {},
   "outputs": [],
   "source": [
    "from matplotlib import pyplot as plt\n",
    "import numpy as np\n",
    "%matplotlib inline\n",
    "from matplotlib import gridspec\n",
    "from matplotlib import rcParams\n",
    "from scipy.optimize import curve_fit\n",
    "import scipy.stats as stats\n",
    "from matplotlib import lines\n",
    "import seaborn as sns\n",
    "\n",
    "import pandas as pd\n",
    "import glob\n",
    "\n",
    "#thinter to tbe able to choose a meta data file\n",
    "#import tkinter as tk\n",
    "#from tkinter import filedialog#to open dialog box to choose file\n",
    "#from tkinter.filedialog import askopenfilename"
   ]
  },
  {
   "cell_type": "code",
   "execution_count": 95,
   "metadata": {},
   "outputs": [
    {
     "data": {
      "text/plain": [
       "'/Users/Fechner/Box Sync/Fechner/TEVC-GoodmanlabBOX/Project-STFX/datFilesSTFX'"
      ]
     },
     "execution_count": 95,
     "metadata": {},
     "output_type": "execute_result"
    }
   ],
   "source": [
    "pwd"
   ]
  },
  {
   "cell_type": "markdown",
   "metadata": {},
   "source": [
    "### HARDCODING THE IMPORT HEKA PATH"
   ]
  },
  {
   "cell_type": "code",
   "execution_count": 96,
   "metadata": {},
   "outputs": [],
   "source": [
    "# Add heka_reader to PYTHONPATH\n",
    "import sys\n",
    "#fpath = '/Users/Fechner/PythonStuff/heka_reader' #initial version delete\n",
    "fpath = '/Users/Fechner/Dropbox/PythonImport/heka_reader' #MAC\n",
    "sys.path.append(fpath)\n",
    "import heka_reader"
   ]
  },
  {
   "cell_type": "markdown",
   "metadata": {},
   "source": [
    "### got the heka reader from here\n",
    "https://github.com/campagnola/heka_reader\n",
    "\n",
    "- clone the repository to your computer (move to directory with terminal commands. Mine here is called PythonStuff at the moment: change name)\n",
    "    - git clone https://github.com/campagnola/heka_reader.git\n",
    "- the heka reader enables to read and access the .dat files (to work in jupyter notebook, you habe to append the heka_reader to the path where the heka reader is stored)\n",
    "- browser.py enables to easily browse for recordings within a .dat comparable to Igor or other similar programs\n",
    "- I changed the following in my local browser.py version, because the functions output was a tuple:\n",
    "    - def load_clicked():\n",
    "    - Display a file dialog to select a .dat file\n",
    "    - file_name = pg.QtGui.QFileDialog.getOpenFileName()\n",
    "    - if isinstance(file_name, tuple):   (ADDED THIS LINE)\n",
    "        -    file_name = file_name[0]    (ADDED THIS LINE)\n",
    "    - if file_name == '':\n",
    "        -    return\n",
    "    - load(file_name)"
   ]
  },
  {
   "cell_type": "markdown",
   "metadata": {},
   "source": [
    "## examples of how to access data structure"
   ]
  },
  {
   "cell_type": "markdown",
   "metadata": {},
   "source": [
    "    # Select a trace\n",
    "    trace = bundle.pul[group_ind][series_ind][sweep_ind][trace_ind]\n",
    "    \n",
    "    # Print meta-data for this trace\n",
    "    print(trace)\n",
    "    \n",
    "    # Load data for this trace\n",
    "    data = bundle.data[group_id, series_id, sweep_ind, trace_ind]\n",
    "    "
   ]
  },
  {
   "cell_type": "markdown",
   "metadata": {},
   "source": [
    "# change file directory"
   ]
  },
  {
   "cell_type": "code",
   "execution_count": 97,
   "metadata": {},
   "outputs": [
    {
     "name": "stdout",
     "output_type": "stream",
     "text": [
      "/Users/Fechner/Box Sync/Fechner/TEVC-GoodmanlabBOX/Project-STFX/RatioSTFX\n"
     ]
    }
   ],
   "source": [
    "cd ~/Box Sync/Fechner/TEVC-GoodmanlabBOX/Project-STFX/RatioSTFX"
   ]
  },
  {
   "cell_type": "code",
   "execution_count": 98,
   "metadata": {},
   "outputs": [],
   "source": [
    "#filedir ='C:/Users/Fechner/Box Sync/Fechner/TEVC-GoodmanlabBOX/Project-STFX/RatioSTFX/' #windows\n",
    "filedir ='/Users/Fechner/Box Sync/Fechner/TEVC-GoodmanlabBOX/Project-STFX/AnalysisSTFX/Selectivity/'\n",
    "filedirExportFig ='/Users/Fechner/Box Sync/Fechner/TEVC-GoodmanlabBOX/Project-STFX/AnalysisSTFX/AnalysisNterm/FiguresFromNotebook/'\n",
    "filedirSelNterm = '/Users/Fechner/Box Sync/Fechner/TEVC-GoodmanlabBOX/Project-STFX/AnalysisSTFX/AnalysisNterm/SelectivityNterm/'\n",
    "\n",
    "\n",
    "filenameMeta = '/Users/Fechner/Box Sync/Fechner/TEVC-GoodmanlabBOX/Project-STFX/MetaDataSTFX/'"
   ]
  },
  {
   "cell_type": "markdown",
   "metadata": {},
   "source": [
    "# ENTER HARDCODED HERE: FROGS (FILES) TO USE"
   ]
  },
  {
   "cell_type": "code",
   "execution_count": 99,
   "metadata": {},
   "outputs": [],
   "source": [
    "listofFiles = ['063','064','065','068','069',\n",
    "    '100','101','102','103','104','105','106','107','108','109','110','111']#'100','101','102','103','104','105',"
   ]
  },
  {
   "cell_type": "code",
   "execution_count": 100,
   "metadata": {},
   "outputs": [],
   "source": [
    "AllMetaData = pd.DataFrame()\n",
    "\n",
    "for i in range(len(listofFiles)):\n",
    "    df_temp = pd.read_excel(filenameMeta+'TEVCMetaSTFX'+listofFiles[i]+'-Selectivity.xlsx', sep=\",\" )\n",
    "    AllMetaData = AllMetaData.append(df_temp,ignore_index=True)\n",
    "    #print(df_temp)\n",
    "    \n",
    "AllMetaData.to_csv(filedirSelNterm+'MetaSelectivityNterm-.csv', header=True, index=None, sep=',', mode='w') "
   ]
  },
  {
   "cell_type": "code",
   "execution_count": 101,
   "metadata": {},
   "outputs": [],
   "source": [
    "filenameRatio = '/Users/Fechner/Box Sync/Fechner/TEVC-GoodmanlabBOX/Project-STFX/RatioSTFX/'"
   ]
  },
  {
   "cell_type": "code",
   "execution_count": 102,
   "metadata": {},
   "outputs": [],
   "source": [
    "TESTDIC = {\"Injection\":[],\"CellID\":[],\"StartSol\":[],\"VrStart\":[],'Iminus85Start':[],\"TestSol\":[],\"VrTest\":[],'Iminus85Test':[]}\n",
    "\n",
    "for i in range(len(AllMetaData['CellID'])): #range(28,29\n",
    "    try:\n",
    "        df_temp = pd.read_csv(filenameRatio+'Selectivity-TEVC-'+AllMetaData['CellID'][i]+'.txt', sep=\"\\t\" )\n",
    "    except FileNotFoundError:\n",
    "        continue\n",
    "    else:\n",
    "        df_temp = pd.read_csv(filenameRatio+'Selectivity-TEVC-'+AllMetaData['CellID'][i]+'.txt', sep=\"\\t\" )\n",
    "        #print(df_temp.head())\n",
    "        if len(df_temp) % 2 == 0:\n",
    "            NewLoc = 0\n",
    "            #print(\"{0} is Even\".format(len(df_temp)))\n",
    "            for m in range(int(len(df_temp)/2)):\n",
    "\n",
    "                TESTDIC[\"Injection\"].append(df_temp.loc[m,'Injection'])\n",
    "                TESTDIC[\"CellID\"].append(df_temp.loc[NewLoc,'CellIDRec'])\n",
    "\n",
    "                TESTDIC[\"StartSol\"].append(df_temp.loc[NewLoc,'TestSol'])\n",
    "                TESTDIC[\"VrStart\"].append(df_temp.loc[NewLoc,'Vrev'])\n",
    "                TESTDIC[\"Iminus85Start\"].append(df_temp.loc[NewLoc,'CurMinus85'])\n",
    "\n",
    "                TESTDIC[\"TestSol\"].append(df_temp.loc[NewLoc+1,'TestSol'])\n",
    "                TESTDIC[\"VrTest\"].append(df_temp.loc[NewLoc+1,'Vrev'])\n",
    "                TESTDIC[\"Iminus85Test\"].append(df_temp.loc[NewLoc+1,'CurMinus85'])\n",
    "\n",
    "                #print(NewLoc)\n",
    "                NewLoc = NewLoc +2\n",
    "                #print(NewLoc)\n",
    "                #NewLoc = NewLoc + 10\n",
    "                #print(NewLoc)\n",
    "\n",
    "        else:\n",
    "           # print(\"{0} is Odd\".format(len(df_temp)))\n",
    "            NewLoc = 0\n",
    "            for m in range(int((len(df_temp)-1)/2)): #check if -1 works for more than 3 rows, for 5???\n",
    "                TESTDIC[\"Injection\"].append(df_temp.loc[NewLoc,'Injection'])\n",
    "                TESTDIC[\"CellID\"].append(df_temp.loc[NewLoc,'CellIDRec'])\n",
    "\n",
    "                TESTDIC[\"StartSol\"].append(df_temp.loc[NewLoc,'TestSol'])\n",
    "                TESTDIC[\"VrStart\"].append(df_temp.loc[NewLoc,'Vrev'])\n",
    "                TESTDIC[\"Iminus85Start\"].append(df_temp.loc[NewLoc,'CurMinus85'])\n",
    "\n",
    "                TESTDIC[\"TestSol\"].append(df_temp.loc[NewLoc+1,'TestSol'])\n",
    "                TESTDIC[\"VrTest\"].append(df_temp.loc[NewLoc+1,'Vrev'])\n",
    "                TESTDIC[\"Iminus85Test\"].append(df_temp.loc[NewLoc+1,'CurMinus85'])\n",
    "\n",
    "                #TESTDIC[\"Iminus85Test\"].dropna(how = 'any')\n",
    "                \n",
    "                #print(NewLoc)\n",
    "                NewLoc = NewLoc +2\n",
    "\n",
    "                \n",
    "df = pd.DataFrame.from_dict(TESTDIC)\n",
    "\n",
    "df = df.dropna(how='any')\n",
    "\n",
    "df['Vd'] = df[\"VrTest\"]-df[\"VrStart\"]\n",
    "df['Permeability'] = 1/(np.exp(df['Vd'].values*1000/25.6*-1))\n",
    "df['Ratio'] = df[\"Iminus85Test\"]/df[\"Iminus85Start\"]\n",
    "\n",
    "\n",
    "df.to_csv(filedirSelNterm+'RatioVrevSelectivityNterm-.csv', header=True, index=None, sep=',', mode='w') \n",
    "\n",
    "#print(df['Permeability'])\n"
   ]
  },
  {
   "cell_type": "code",
   "execution_count": 103,
   "metadata": {},
   "outputs": [
    {
     "data": {
      "text/plain": [
       "'/Users/Fechner/Box Sync/Fechner/TEVC-GoodmanlabBOX/Project-STFX/AnalysisSTFX/AnalysisNterm/SelectivityNterm/'"
      ]
     },
     "execution_count": 103,
     "metadata": {},
     "output_type": "execute_result"
    }
   ],
   "source": [
    "filedirSelNterm"
   ]
  },
  {
   "cell_type": "markdown",
   "metadata": {},
   "source": [
    "## common axis parameters"
   ]
  },
  {
   "cell_type": "code",
   "execution_count": 104,
   "metadata": {},
   "outputs": [],
   "source": [
    "AxisTickLabelSize = 8\n",
    "AxisLabelSize = 10\n",
    "AxisLegendSize = 8\n",
    "SizeOfMarker = 3\n",
    "ErrorColor = 'red'\n",
    "\n",
    "SizeOfMarker = 2\n",
    "SizeofLine = 0.5"
   ]
  },
  {
   "cell_type": "markdown",
   "metadata": {},
   "source": [
    "# ENTER HERE HARDCODED THE DICTIONARY OF MUTANTS"
   ]
  },
  {
   "cell_type": "code",
   "execution_count": 105,
   "metadata": {},
   "outputs": [],
   "source": [
    "ReNameAlanin ={'F84A':'mg738mg012',# \n",
    "         'K85A':'mg739mg012',\n",
    "         'E86A':'mg740mg012',\n",
    "         #'F87A':'mg741mg012',\n",
    "         'C88A':'mg748mg012',\n",
    "         'Y89A':'mg759mg012',\n",
    "         'K90A':'mg745mg012',\n",
    "         #'T91A':'mg752mg012',\n",
    "         #'S92A':'mg749mg012',\n",
    "         'ctr A93':'mg419mg012',\n",
    "         'H94A':'mg750mg012',\n",
    "         #'G95A':'mg746mg012',\n",
    "         #'I96A':'mg747mg012',\n",
    "         'P97A':'mg760mg012',\n",
    "         'M98A':'mg753mg012',\n",
    "         #'I99A':'mg761mg012',\n",
    "         'G100A':'mg751mg012'      \n",
    "        }\n",
    "\n",
    "ReNameChimera={ 'ctr A93':'mg419mg012',\n",
    "#               'M4-DT1ABC':'mg733mg012',\n",
    "#       'M4-DT1A':'mg734mg012',\n",
    "#                'M4-DT1A':'mg734mg012',\n",
    "#                'M4-DT1B':'mg735mg012',\n",
    "               'M4-DT1C':'mg742mg012',\n",
    "#                 'M4+M4-DT1A':'mg419mg734mg012',\n",
    "#                'M4+M4-DT1B':'mg419mg735mg012',\n",
    "#                'M4+M4-DT1C':'mg419mg742mg012',\n",
    "               #'DT1-NtermM4':'mg756mg012',\n",
    "               #'DT1-M4ABC':'mg736mg012',\n",
    "#                'DT1-M4A':'mg737mg012',\n",
    "#                'DT1-M4B':'mg757mg012',\n",
    "#                'DT1-M4C':'mg758mg012',\n",
    "              }\n",
    "\n",
    "#print(ReNameAlanin)\n",
    "LabelAlanin = list(ReNameAlanin.keys())\n",
    "LabelChimera = list(ReNameChimera.keys())"
   ]
  },
  {
   "cell_type": "code",
   "execution_count": 106,
   "metadata": {},
   "outputs": [
    {
     "data": {
      "text/html": [
       "<div>\n",
       "<style scoped>\n",
       "    .dataframe tbody tr th:only-of-type {\n",
       "        vertical-align: middle;\n",
       "    }\n",
       "\n",
       "    .dataframe tbody tr th {\n",
       "        vertical-align: top;\n",
       "    }\n",
       "\n",
       "    .dataframe thead th {\n",
       "        text-align: right;\n",
       "    }\n",
       "</style>\n",
       "<table border=\"1\" class=\"dataframe\">\n",
       "  <thead>\n",
       "    <tr style=\"text-align: right;\">\n",
       "      <th></th>\n",
       "      <th>Injection</th>\n",
       "      <th>CellID</th>\n",
       "      <th>StartSol</th>\n",
       "      <th>VrStart</th>\n",
       "      <th>Iminus85Start</th>\n",
       "      <th>TestSol</th>\n",
       "      <th>VrTest</th>\n",
       "      <th>Iminus85Test</th>\n",
       "      <th>Vd</th>\n",
       "      <th>Permeability</th>\n",
       "      <th>Ratio</th>\n",
       "    </tr>\n",
       "  </thead>\n",
       "  <tbody>\n",
       "    <tr>\n",
       "      <th>0</th>\n",
       "      <td>mg418mg419mg012</td>\n",
       "      <td>STFX063014</td>\n",
       "      <td>NaGluSel1</td>\n",
       "      <td>0.005257</td>\n",
       "      <td>1.082743e-05</td>\n",
       "      <td>KGluSel</td>\n",
       "      <td>-0.039298</td>\n",
       "      <td>1.808445e-06</td>\n",
       "      <td>-0.044554</td>\n",
       "      <td>0.175448</td>\n",
       "      <td>0.167024</td>\n",
       "    </tr>\n",
       "    <tr>\n",
       "      <th>3</th>\n",
       "      <td>mg418mg012</td>\n",
       "      <td>STFX063013</td>\n",
       "      <td>NaGluSel1</td>\n",
       "      <td>-0.009738</td>\n",
       "      <td>1.167834e-06</td>\n",
       "      <td>KGluSel</td>\n",
       "      <td>-0.005735</td>\n",
       "      <td>1.194372e-06</td>\n",
       "      <td>0.004003</td>\n",
       "      <td>1.169253</td>\n",
       "      <td>1.022724</td>\n",
       "    </tr>\n",
       "    <tr>\n",
       "      <th>6</th>\n",
       "      <td>mg418mg012</td>\n",
       "      <td>STFX063012</td>\n",
       "      <td>NaGluSel1</td>\n",
       "      <td>-0.008068</td>\n",
       "      <td>1.241020e-06</td>\n",
       "      <td>KGluSel</td>\n",
       "      <td>-0.003690</td>\n",
       "      <td>1.261510e-06</td>\n",
       "      <td>0.004379</td>\n",
       "      <td>1.186534</td>\n",
       "      <td>1.016511</td>\n",
       "    </tr>\n",
       "    <tr>\n",
       "      <th>9</th>\n",
       "      <td>mg418mg419mg012</td>\n",
       "      <td>STFX063011</td>\n",
       "      <td>NaGluSel1</td>\n",
       "      <td>0.008984</td>\n",
       "      <td>7.778207e-06</td>\n",
       "      <td>KGluSel</td>\n",
       "      <td>-0.025637</td>\n",
       "      <td>2.249858e-06</td>\n",
       "      <td>-0.034621</td>\n",
       "      <td>0.258626</td>\n",
       "      <td>0.289251</td>\n",
       "    </tr>\n",
       "    <tr>\n",
       "      <th>12</th>\n",
       "      <td>uninjected</td>\n",
       "      <td>STFX063010</td>\n",
       "      <td>NaGluSel1</td>\n",
       "      <td>-0.012328</td>\n",
       "      <td>8.655528e-08</td>\n",
       "      <td>KGluSel</td>\n",
       "      <td>0.002457</td>\n",
       "      <td>2.743892e-07</td>\n",
       "      <td>0.014786</td>\n",
       "      <td>1.781697</td>\n",
       "      <td>3.170103</td>\n",
       "    </tr>\n",
       "  </tbody>\n",
       "</table>\n",
       "</div>"
      ],
      "text/plain": [
       "          Injection      CellID   StartSol   VrStart  Iminus85Start  TestSol  \\\n",
       "0   mg418mg419mg012  STFX063014  NaGluSel1  0.005257   1.082743e-05  KGluSel   \n",
       "3        mg418mg012  STFX063013  NaGluSel1 -0.009738   1.167834e-06  KGluSel   \n",
       "6        mg418mg012  STFX063012  NaGluSel1 -0.008068   1.241020e-06  KGluSel   \n",
       "9   mg418mg419mg012  STFX063011  NaGluSel1  0.008984   7.778207e-06  KGluSel   \n",
       "12       uninjected  STFX063010  NaGluSel1 -0.012328   8.655528e-08  KGluSel   \n",
       "\n",
       "      VrTest  Iminus85Test        Vd  Permeability     Ratio  \n",
       "0  -0.039298  1.808445e-06 -0.044554      0.175448  0.167024  \n",
       "3  -0.005735  1.194372e-06  0.004003      1.169253  1.022724  \n",
       "6  -0.003690  1.261510e-06  0.004379      1.186534  1.016511  \n",
       "9  -0.025637  2.249858e-06 -0.034621      0.258626  0.289251  \n",
       "12  0.002457  2.743892e-07  0.014786      1.781697  3.170103  "
      ]
     },
     "execution_count": 106,
     "metadata": {},
     "output_type": "execute_result"
    }
   ],
   "source": [
    "df.head()"
   ]
  },
  {
   "cell_type": "markdown",
   "metadata": {},
   "source": [
    "## create arrays for each recording condition and RNA type"
   ]
  },
  {
   "cell_type": "code",
   "execution_count": 107,
   "metadata": {},
   "outputs": [
    {
     "name": "stdout",
     "output_type": "stream",
     "text": [
      "<class 'numpy.ndarray'>\n"
     ]
    }
   ],
   "source": [
    "Allmg419Li = df.CellID[(df.TestSol == \"LiGluSel\") & (df.Injection == ReNameChimera['ctr A93']) ].values\n",
    "Allmg419K = df.CellID[(df.TestSol == \"KGluSel\") & (df.Injection == ReNameChimera['ctr A93']) ].values\n",
    "Allmg419Nmg = df.CellID[(df.TestSol == \"NmgGluSel\") & (df.Injection == ReNameChimera['ctr A93']) ].values\n",
    "\n",
    "Allmg742Li = df.CellID[(df.TestSol == \"LiGluSel\") & (df.Injection == ReNameChimera['M4-DT1C']) ].values\n",
    "Allmg742K = df.CellID[(df.TestSol == \"KGluSel\") & (df.Injection == ReNameChimera['M4-DT1C']) ].values\n",
    "Allmg742Nmg = df.CellID[(df.TestSol == \"NmgGluSel\") & (df.Injection == ReNameChimera['M4-DT1C']) ].values\n",
    "\n",
    "\n",
    "print(type(Allmg419Nmg))\n",
    "#df[np.asarray(np.where(df == 'LiGluSel'))[0,-1]]"
   ]
  },
  {
   "cell_type": "markdown",
   "metadata": {},
   "source": [
    "error in LiGLu in STFX06026 for display...."
   ]
  },
  {
   "cell_type": "markdown",
   "metadata": {},
   "source": [
    "# ENTER HERE HARDCODED THE CELL YOU WANT TO PRINT"
   ]
  },
  {
   "cell_type": "markdown",
   "metadata": {},
   "source": [
    "write a loop to pick recording based on mean Current NAGlu, Vrev and change in Vrev dependent on solution switch"
   ]
  },
  {
   "cell_type": "markdown",
   "metadata": {},
   "source": [
    "## !!!!!!  ACTION !!! Allmg419Li[1] --> change the number in the [] parenthesis for chosing a different representative trace"
   ]
  },
  {
   "cell_type": "markdown",
   "metadata": {},
   "source": [
    "## control"
   ]
  },
  {
   "cell_type": "code",
   "execution_count": 108,
   "metadata": {},
   "outputs": [],
   "source": [
    "Rec_mg419Li = Allmg419Li[1]\n",
    "File_mg419Li = \"Selectivity-TEVC-\"+Rec_mg419Li+\".txt\"\n",
    "Rec_mg419LiString = Rec_mg419Li[:7] + \"-\" + Rec_mg419Li[7:]\n",
    "\n",
    "Rec_mg419K = Allmg419K[0]\n",
    "File_mg419K = \"Selectivity-TEVC-\"+Rec_mg419K+\".txt\"\n",
    "Rec_mg419KString = Rec_mg419K[:7] + \"-\" + Rec_mg419K[7:]\n",
    "\n",
    "Rec_mg419Nmg = Allmg419Nmg[1]\n",
    "File_mg419Nmg = \"Selectivity-TEVC-\"+Rec_mg419Nmg+\".txt\"\n",
    "Rec_mg419NmgString = Rec_mg419Nmg[:7] + \"-\" + Rec_mg419Nmg[7:]"
   ]
  },
  {
   "cell_type": "markdown",
   "metadata": {},
   "source": [
    "## chimera"
   ]
  },
  {
   "cell_type": "code",
   "execution_count": 109,
   "metadata": {},
   "outputs": [],
   "source": [
    "Rec_mg742Li = Allmg742Li[1]\n",
    "File_mg742Li = \"Selectivity-TEVC-\"+Rec_mg742Li+\".txt\"\n",
    "Rec_mg742LiString = Rec_mg742Li[:7] + \"-\" + Rec_mg742Li[7:]\n",
    "\n",
    "Rec_mg742K = Allmg742K[1]\n",
    "File_mg742K = \"Selectivity-TEVC-\"+Rec_mg742K+\".txt\"\n",
    "Rec_mg742KString = Rec_mg742K[:7] + \"-\" + Rec_mg742K[7:]\n",
    "\n",
    "Rec_mg742Nmg = Allmg742Nmg[1]\n",
    "File_mg742Nmg = \"Selectivity-TEVC-\"+Rec_mg742Nmg+\".txt\"\n",
    "Rec_mg742NmgString = Rec_mg742Nmg[:7] + \"-\" + Rec_mg742Nmg[7:]"
   ]
  },
  {
   "cell_type": "markdown",
   "metadata": {},
   "source": [
    "# change labels for specific to recording\n",
    "if this error appears, run the code again from the top as you are in the wrong folder (change directory happens twice in this code): OSError: Selectivity-TEVC-STFX107008.txt not found."
   ]
  },
  {
   "cell_type": "markdown",
   "metadata": {},
   "source": [
    "## control"
   ]
  },
  {
   "cell_type": "code",
   "execution_count": 110,
   "metadata": {},
   "outputs": [
    {
     "name": "stdout",
     "output_type": "stream",
     "text": [
      "['CellIDRec' 'Injection' 'CultivationSol' 'DaysPostInj' 'Rating'\n",
      " 'Voltage_1' 'Voltage_2' 'Voltage_3' 'Voltage_4' 'Voltage_5' 'Voltage_6'\n",
      " 'Voltage_7' 'Voltage_8' 'Voltage_9' 'MeanSTEPs_1' 'MeanSTEPs_2'\n",
      " 'MeanSTEPs_3' 'MeanSTEPs_4' 'MeanSTEPs_5' 'MeanSTEPs_6' 'MeanSTEPs_7'\n",
      " 'MeanSTEPs_8' 'MeanSTEPs_9' 'LEAKMinus85' 'TestSol' 'Vrev' 'CurMinus85'\n",
      " 'SortIndexSolutions']\n"
     ]
    }
   ],
   "source": [
    "labels_Rec_mg419Li = np.genfromtxt(File_mg419Li, delimiter='\\t',  dtype=str)[0,:]\n",
    "raw_data_Rec_mg419Li = np.genfromtxt(File_mg419Li, delimiter='\\t')[1:-1,:]#[1:-1,:]\n",
    "Solutions_Rec_mg419Li = np.genfromtxt(File_mg419Li, delimiter='\\t',  dtype=str)[1:,24]\n",
    "\n",
    "labels_Rec_mg419K = np.genfromtxt(File_mg419K, delimiter='\\t',  dtype=str)[0,:]\n",
    "raw_data_Rec_mg419K = np.genfromtxt(File_mg419K, delimiter='\\t')[1:-1,:]#[1:-1,:]\n",
    "Solutions_Rec_mg419K = np.genfromtxt(File_mg419K, delimiter='\\t',  dtype=str)[1:,24]\n",
    "\n",
    "labels_Rec_mg419Nmg = np.genfromtxt(File_mg419Nmg, delimiter='\\t',  dtype=str)[0,:]\n",
    "raw_data_Rec_mg419Nmg = np.genfromtxt(File_mg419Nmg, delimiter='\\t')[1:-1,:]#[1:-1,:]\n",
    "Solutions_Rec_mg419Nmg = np.genfromtxt(File_mg419Nmg, delimiter='\\t',  dtype=str)[1:,24]\n",
    "\n",
    "print(labels_Rec_mg419Nmg)\n",
    "# #print(raw_data)"
   ]
  },
  {
   "cell_type": "markdown",
   "metadata": {},
   "source": [
    "## chimera"
   ]
  },
  {
   "cell_type": "code",
   "execution_count": 111,
   "metadata": {},
   "outputs": [],
   "source": [
    "labels_Rec_mg742Li = np.genfromtxt(File_mg742Li, delimiter='\\t',  dtype=str)[0,:]\n",
    "raw_data_Rec_mg742Li = np.genfromtxt(File_mg742Li, delimiter='\\t')[1:-1,:]#[1:-1,:]\n",
    "Solutions_Rec_mg742Li = np.genfromtxt(File_mg742Li, delimiter='\\t',  dtype=str)[1:,24]\n",
    "\n",
    "labels_Rec_mg742K = np.genfromtxt(File_mg742K, delimiter='\\t',  dtype=str)[0,:]\n",
    "raw_data_Rec_mg742K = np.genfromtxt(File_mg742K, delimiter='\\t')[1:-1,:]#[1:-1,:]\n",
    "Solutions_Rec_mg742K = np.genfromtxt(File_mg742K, delimiter='\\t',  dtype=str)[1:,24]\n",
    "\n",
    "labels_Rec_mg742Nmg = np.genfromtxt(File_mg742Nmg, delimiter='\\t',  dtype=str)[0,:]\n",
    "raw_data_Rec_mg742Nmg = np.genfromtxt(File_mg742Nmg, delimiter='\\t')[1:-1,:]#[1:-1,:]\n",
    "Solutions_Rec_mg742Nmg = np.genfromtxt(File_mg742Nmg, delimiter='\\t',  dtype=str)[1:,24]\n"
   ]
  },
  {
   "cell_type": "code",
   "execution_count": 112,
   "metadata": {},
   "outputs": [
    {
     "data": {
      "text/plain": [
       "array(['NaGluSel1', 'KGluSel', 'NaGluSel2', 'NmgGluSel', 'LiGluSel',\n",
       "       'NaGluSel3', 'NaGluSel4'], dtype='<U21')"
      ]
     },
     "execution_count": 112,
     "metadata": {},
     "output_type": "execute_result"
    }
   ],
   "source": [
    "Solutions_Rec_mg742Nmg"
   ]
  },
  {
   "cell_type": "markdown",
   "metadata": {},
   "source": [
    "# CHANGE DIRECTORY"
   ]
  },
  {
   "cell_type": "code",
   "execution_count": 113,
   "metadata": {},
   "outputs": [
    {
     "name": "stdout",
     "output_type": "stream",
     "text": [
      "/Users/Fechner/Box Sync/Fechner/TEVC-GoodmanlabBOX/Project-STFX/datFilesSTFX\n"
     ]
    }
   ],
   "source": [
    "cd ~/Box Sync/Fechner/TEVC-GoodmanlabBOX/Project-STFX/datFilesSTFX"
   ]
  },
  {
   "cell_type": "code",
   "execution_count": 114,
   "metadata": {},
   "outputs": [
    {
     "name": "stdout",
     "output_type": "stream",
     "text": [
      "/Users/Fechner/Box Sync/Fechner/TEVC-GoodmanlabBOX/Project-STFX/MetaDataSTFX/\n"
     ]
    }
   ],
   "source": [
    "####### Hardcoding the data path to your device ####\n",
    "Changefiledir ='/Users/Fechner/Box Sync/Fechner/'\n",
    "\n",
    "#### doesn't need to be changed for TEVC analysis ###\n",
    "filedirMeta = Changefiledir + 'TEVC-GoodmanlabBOX/Project-STFX/MetaDataSTFX/'\n",
    "#filedirManuscript ='/Users/Fechner/Dropbox/ManuscriptFechnerPharmacology/Figures/ExportedFromNotebook/'\n",
    "\n",
    "#CHANGE USER NAME ON PRIVATE LAPTOP TO Fechner or be more clever about the Filename\n",
    "print(filedirMeta)"
   ]
  },
  {
   "cell_type": "markdown",
   "metadata": {},
   "source": [
    "# find filename on meta data sheet"
   ]
  },
  {
   "cell_type": "markdown",
   "metadata": {},
   "source": [
    "## find Filename control "
   ]
  },
  {
   "cell_type": "code",
   "execution_count": 115,
   "metadata": {},
   "outputs": [],
   "source": [
    "#find the .dat file name in the MetaData sheet of the corresponding recording\n",
    "DatFile_mg419Li = AllMetaData.Filename[(AllMetaData.CellID == Rec_mg419Li)]\n",
    "DatFile_mg419K = AllMetaData.Filename[(AllMetaData.CellID == Rec_mg419K)]\n",
    "DatFile_mg419Nmg = AllMetaData.Filename[(AllMetaData.CellID == Rec_mg419Nmg)]"
   ]
  },
  {
   "cell_type": "code",
   "execution_count": 116,
   "metadata": {},
   "outputs": [
    {
     "data": {
      "text/plain": [
       "80    20181121\n",
       "Name: Filename, dtype: int64"
      ]
     },
     "execution_count": 116,
     "metadata": {},
     "output_type": "execute_result"
    }
   ],
   "source": [
    "DatFile_mg419Nmg"
   ]
  },
  {
   "cell_type": "markdown",
   "metadata": {},
   "source": [
    "## find Filename chimera "
   ]
  },
  {
   "cell_type": "code",
   "execution_count": 117,
   "metadata": {},
   "outputs": [],
   "source": [
    "DatFile_mg742Li = AllMetaData.Filename[(AllMetaData.CellID == Rec_mg742Li)]\n",
    "DatFile_mg742K = AllMetaData.Filename[(AllMetaData.CellID == Rec_mg742K)]\n",
    "DatFile_mg742Nmg = AllMetaData.Filename[(AllMetaData.CellID == Rec_mg742Nmg)]"
   ]
  },
  {
   "cell_type": "code",
   "execution_count": 118,
   "metadata": {},
   "outputs": [
    {
     "data": {
      "text/plain": [
       "80    20181121\n",
       "Name: Filename, dtype: int64"
      ]
     },
     "execution_count": 118,
     "metadata": {},
     "output_type": "execute_result"
    }
   ],
   "source": [
    "DatFile_mg419Li"
   ]
  },
  {
   "cell_type": "markdown",
   "metadata": {},
   "source": [
    "# load dat files"
   ]
  },
  {
   "cell_type": "markdown",
   "metadata": {},
   "source": [
    "## load dat files control"
   ]
  },
  {
   "cell_type": "code",
   "execution_count": 119,
   "metadata": {},
   "outputs": [],
   "source": [
    "loadFile_mg419Li = heka_reader.Bundle(str(DatFile_mg419Li.iloc[0])+'.dat')\n",
    "loadFile_mg419K = heka_reader.Bundle(str(DatFile_mg419K.iloc[0])+'.dat')\n",
    "loadFile_mg419Nmg = heka_reader.Bundle(str(DatFile_mg419Nmg.iloc[0])+'.dat')"
   ]
  },
  {
   "cell_type": "markdown",
   "metadata": {},
   "source": [
    "## load dat files chimera"
   ]
  },
  {
   "cell_type": "code",
   "execution_count": 120,
   "metadata": {},
   "outputs": [],
   "source": [
    "# Load a .dat file\n",
    "loadFile_mg742Li = heka_reader.Bundle(str(DatFile_mg742Li.iloc[0])+'.dat')\n",
    "loadFile_mg742K = heka_reader.Bundle(str(DatFile_mg742K.iloc[0])+'.dat')\n",
    "loadFile_mg742Nmg = heka_reader.Bundle(str(DatFile_mg742Nmg.iloc[0])+'.dat')"
   ]
  },
  {
   "cell_type": "markdown",
   "metadata": {},
   "source": [
    "# find Group of recording via name"
   ]
  },
  {
   "cell_type": "markdown",
   "metadata": {},
   "source": [
    "## find group of recording for control"
   ]
  },
  {
   "cell_type": "code",
   "execution_count": 121,
   "metadata": {},
   "outputs": [
    {
     "name": "stdout",
     "output_type": "stream",
     "text": [
      "10\n"
     ]
    }
   ],
   "source": [
    "for element in range(50):\n",
    "    if loadFile_mg419Li.pul[element].Label == Rec_mg419LiString:\n",
    "        Group_mg419Li = element\n",
    "        print(Group_mg419Li)\n",
    "        break        \n",
    "        \n",
    "for element in range(50):\n",
    "    if loadFile_mg419K.pul[element].Label == Rec_mg419KString:\n",
    "        Group_mg419K = element\n",
    "        break\n",
    "        \n",
    "for element in range(50):\n",
    "    if loadFile_mg419Nmg.pul[element].Label == Rec_mg419NmgString:\n",
    "        Group_mg419Nmg = element\n",
    "        break        "
   ]
  },
  {
   "cell_type": "markdown",
   "metadata": {},
   "source": [
    "## find group of recording for chimera"
   ]
  },
  {
   "cell_type": "code",
   "execution_count": 122,
   "metadata": {},
   "outputs": [
    {
     "name": "stdout",
     "output_type": "stream",
     "text": [
      "9\n"
     ]
    }
   ],
   "source": [
    "for element in range(50):\n",
    "    if loadFile_mg742Li.pul[element].Label == Rec_mg742LiString:\n",
    "        Group_mg742Li = element\n",
    "        print(Group_mg742Li)\n",
    "        break\n",
    "\n",
    "for element in range(50):\n",
    "    if loadFile_mg742K.pul[element].Label == Rec_mg742KString:\n",
    "        Group_mg742K = element\n",
    "        break \n",
    "        \n",
    "for element in range(50):\n",
    "    if loadFile_mg742Nmg.pul[element].Label == Rec_mg742NmgString:\n",
    "        Group_mg742Nmg = element\n",
    "        break              "
   ]
  },
  {
   "cell_type": "markdown",
   "metadata": {},
   "source": [
    "# find series of three replicates for specific recording conditions"
   ]
  },
  {
   "cell_type": "markdown",
   "metadata": {},
   "source": [
    "## find series for control"
   ]
  },
  {
   "cell_type": "code",
   "execution_count": 123,
   "metadata": {},
   "outputs": [
    {
     "name": "stdout",
     "output_type": "stream",
     "text": [
      "['11', '12', '13']\n"
     ]
    }
   ],
   "source": [
    "VarNaGlu_mg419Li = Solutions_Rec_mg419Li[np.asarray(np.where(Solutions_Rec_mg419Li == 'LiGluSel'))[0,-1]-1]\n",
    "SeriesLi_mg419Li = AllMetaData['LiGluSel'][(AllMetaData.CellID == Rec_mg419Li)].values\n",
    "SeriesLi_mg419Li  = SeriesLi_mg419Li[0].split(\",\")\n",
    "SeriesNa_mg419Li = AllMetaData[VarNaGlu_mg419Li][(AllMetaData.CellID == Rec_mg419Li)].values\n",
    "SeriesNa_mg419Li  = SeriesNa_mg419Li[0].split(\",\")\n",
    "\n",
    "#AllMetaData['NaGluSel4'][(AllMetaData.CellID == Rec_mg419Li)].values\n",
    "\n",
    "VarNaGlu_mg419K = Solutions_Rec_mg419K[np.asarray(np.where(Solutions_Rec_mg419K == 'KGluSel'))[0,-1]-1]\n",
    "SeriesK_mg419K = AllMetaData['KGluSel'][(AllMetaData.CellID == Rec_mg419K)].values\n",
    "SeriesK_mg419K  = SeriesK_mg419K[0].split(\",\")\n",
    "SeriesNa_mg419K = AllMetaData[VarNaGlu_mg419K][(AllMetaData.CellID == Rec_mg419K)].values\n",
    "SeriesNa_mg419K  = SeriesNa_mg419K[0].split(\",\")\n",
    "\n",
    "VarNaGlu_mg419Nmg = Solutions_Rec_mg419Nmg[np.asarray(np.where(Solutions_Rec_mg419Nmg == 'NmgGluSel'))[0,-1]-1]\n",
    "SeriesNmg_mg419Nmg = AllMetaData['NmgGluSel'][(AllMetaData.CellID == Rec_mg419Nmg)].values\n",
    "SeriesNmg_mg419Nmg  = SeriesNmg_mg419Nmg[0].split(\",\")\n",
    "SeriesNa_mg419Nmg = AllMetaData[VarNaGlu_mg419Nmg][(AllMetaData.CellID == Rec_mg419Nmg)].values\n",
    "SeriesNa_mg419Nmg  = SeriesNa_mg419Nmg[0].split(\",\")\n",
    "\n",
    "\n",
    "print(SeriesNa_mg419Li)"
   ]
  },
  {
   "cell_type": "markdown",
   "metadata": {},
   "source": [
    "## find series for chimera"
   ]
  },
  {
   "cell_type": "markdown",
   "metadata": {},
   "source": [
    "# mg742"
   ]
  },
  {
   "cell_type": "code",
   "execution_count": 124,
   "metadata": {
    "scrolled": true
   },
   "outputs": [
    {
     "name": "stdout",
     "output_type": "stream",
     "text": [
      "['13', '14', '15']\n"
     ]
    }
   ],
   "source": [
    "VarNaGlu_mg742Li = Solutions_Rec_mg742Li[np.asarray(np.where(Solutions_Rec_mg742Li == 'LiGluSel'))[0,-1]-1]\n",
    "SeriesLi_mg742Li = AllMetaData['LiGluSel'][(AllMetaData.CellID == Rec_mg742Li)].values\n",
    "SeriesLi_mg742Li  = SeriesLi_mg742Li[0].split(\",\")\n",
    "SeriesNa_mg742Li = AllMetaData[VarNaGlu_mg742Li][(AllMetaData.CellID == Rec_mg742Li)].values\n",
    "SeriesNa_mg742Li  = SeriesNa_mg742Li[0].split(\",\")\n",
    "\n",
    "VarNaGlu_mg742K = Solutions_Rec_mg742K[np.asarray(np.where(Solutions_Rec_mg742K == 'KGluSel'))[0,-1]-1]\n",
    "SeriesK_mg742K = AllMetaData['KGluSel'][(AllMetaData.CellID == Rec_mg742K)].values\n",
    "SeriesK_mg742K  = SeriesK_mg742K[0].split(\",\")\n",
    "SeriesNa_mg742K = AllMetaData[VarNaGlu_mg742K][(AllMetaData.CellID == Rec_mg742K)].values\n",
    "SeriesNa_mg742K  = SeriesNa_mg742K[0].split(\",\")\n",
    "\n",
    "VarNaGlu_mg742Nmg = Solutions_Rec_mg742Nmg[np.asarray(np.where(Solutions_Rec_mg742Nmg == 'NmgGluSel'))[0,-1]-1]\n",
    "SeriesNmg_mg742Nmg = AllMetaData['NmgGluSel'][(AllMetaData.CellID == Rec_mg742Nmg)].values\n",
    "SeriesNmg_mg742Nmg  = SeriesNmg_mg742Nmg[0].split(\",\")\n",
    "SeriesNa_mg742Nmg = AllMetaData[VarNaGlu_mg742Nmg][(AllMetaData.CellID == Rec_mg742Nmg)].values\n",
    "SeriesNa_mg742Nmg  = SeriesNa_mg742Nmg[0].split(\",\")\n",
    "\n",
    "\n",
    "\n",
    "print(SeriesNa_mg742Nmg)\n",
    "\n",
    "# how to find which recording came beforehand? Solutiontest"
   ]
  },
  {
   "cell_type": "markdown",
   "metadata": {},
   "source": [
    "# voltage trace (only necessary for displaying Raw traces)"
   ]
  },
  {
   "cell_type": "code",
   "execution_count": 125,
   "metadata": {},
   "outputs": [],
   "source": [
    "Vol_mg419Li1 = []\n",
    "for i in range(0,9):#(0,len(tt)):\n",
    "    Vol_mg419Li1.append(loadFile_mg419Li.data[Group_mg419Li,int(SeriesNa_mg419Li[0])-1,i,1])\n",
    "    \n",
    "Vol_mg419Li2 = []\n",
    "for j in range(0,9):#(0,len(tt)):\n",
    "    Vol_mg419Li2.append(loadFile_mg419Li.data[Group_mg419Li,int(SeriesNa_mg419Li[1])-1,j,1])\n",
    "    \n",
    "Vol_mg419Li3 = []\n",
    "for k in range(0,9):#(0,len(tt)):\n",
    "    Vol_mg419Li3.append(loadFile_mg419Li.data[Group_mg419Li,int(SeriesNa_mg419Li[2])-1,k,1])\n",
    "    \n",
    "Vol_mg419LiMEAN =[]\n",
    "for m in range(0,9):\n",
    "    Vol_mg419LiMEAN.append(((Vol_mg419Li1[m]+Vol_mg419Li2[m]+Vol_mg419Li3[m])/3)*1000)"
   ]
  },
  {
   "cell_type": "markdown",
   "metadata": {},
   "source": [
    "# current traces (only necessary for displaying Raw traces)"
   ]
  },
  {
   "cell_type": "markdown",
   "metadata": {},
   "source": [
    "### NaGlu mg419 and LiGlu mg419"
   ]
  },
  {
   "cell_type": "code",
   "execution_count": 126,
   "metadata": {},
   "outputs": [],
   "source": [
    "INa_mg419Li1 = []\n",
    "for i in range(0,9):#(0,len(tt)):\n",
    "    INa_mg419Li1.append(loadFile_mg419Li.data[Group_mg419Li,int(SeriesNa_mg419Li[0])-1,i,0])\n",
    "    \n",
    "INa_mg419Li2 = []\n",
    "for j in range(0,9):#(0,len(tt)):\n",
    "    INa_mg419Li2.append(loadFile_mg419Li.data[Group_mg419Li,int(SeriesNa_mg419Li[1])-1,j,0])\n",
    "    \n",
    "INa_mg419Li3 = []\n",
    "for k in range(0,9):#(0,len(tt)):\n",
    "    INa_mg419Li3.append(loadFile_mg419Li.data[Group_mg419Li,int(SeriesNa_mg419Li[2])-1,k,0])\n",
    "    \n",
    "INa_mg419LiMEAN =[]\n",
    "for m in range(0,9):\n",
    "    INa_mg419LiMEAN.append(((INa_mg419Li1[m]+INa_mg419Li2[m]+INa_mg419Li3[m])/3)*1000000)"
   ]
  },
  {
   "cell_type": "code",
   "execution_count": 127,
   "metadata": {},
   "outputs": [],
   "source": [
    "ILi_mg419Li1 = []\n",
    "for i in range(0,9):#(0,len(tt)):\n",
    "    ILi_mg419Li1.append(loadFile_mg419Li.data[Group_mg419Li,int(SeriesLi_mg419Li[0])-1,i,0])\n",
    "    \n",
    "ILi_mg419Li2 = []\n",
    "for j in range(0,9):#(0,len(tt)):\n",
    "    ILi_mg419Li2.append(loadFile_mg419Li.data[Group_mg419Li,int(SeriesLi_mg419Li[1])-1,j,0])\n",
    "    \n",
    "ILi_mg419Li3 = []\n",
    "for k in range(0,9):#(0,len(tt)):\n",
    "    ILi_mg419Li3.append(loadFile_mg419Li.data[Group_mg419Li,int(SeriesLi_mg419Li[2])-1,k,0])\n",
    "    \n",
    "ILi_mg419LiMEAN =[]\n",
    "for m in range(0,9):\n",
    "    ILi_mg419LiMEAN.append(((ILi_mg419Li1[m]+ILi_mg419Li2[m]+ILi_mg419Li3[m])/3)*1000000)"
   ]
  },
  {
   "cell_type": "markdown",
   "metadata": {},
   "source": [
    "# Transform Data from Selectivity_Ratio sheet, which were analyzed via Matlab"
   ]
  },
  {
   "cell_type": "markdown",
   "metadata": {},
   "source": [
    "## transform IV mean values of mg419 LiGLu"
   ]
  },
  {
   "cell_type": "code",
   "execution_count": 128,
   "metadata": {},
   "outputs": [],
   "source": [
    "################### Li #######\n",
    "Voltages_mg419Li = []\n",
    "Currents_mg419Li = []\n",
    "\n",
    "for volt in range(0,len(raw_data_Rec_mg419Li)):\n",
    "    Voltages_mg419Li.append([raw_data_Rec_mg419Li[volt,5:14]]) #TODO: CHANGE\n",
    "    Currents_mg419Li.append([raw_data_Rec_mg419Li[volt,14:23]])\n",
    "\n",
    "#change to mV and uA    \n",
    "Voltages_mg419LiInmV = np.multiply(1000,Voltages_mg419Li) #becomes a np.array with shape 7,1,9 \n",
    "Currents_mg419LiInuA = np.multiply(1000000,Currents_mg419Li)    \n",
    "  \n",
    "#reshape Array\n",
    "Voltages_mg419LiInmV = Voltages_mg419LiInmV.reshape(Voltages_mg419LiInmV.shape[0],Voltages_mg419LiInmV.shape[2]) #reshape 7,1,9 \n",
    "Currents_mg419LiInuA = Currents_mg419LiInuA.reshape(Currents_mg419LiInuA.shape[0],Currents_mg419LiInuA.shape[2])   \n",
    "\n",
    "\n",
    "################### K #######\n",
    "Voltages_mg419K = []\n",
    "Currents_mg419K = []\n",
    "\n",
    "for volt in range(0,len(raw_data_Rec_mg419K)):\n",
    "    Voltages_mg419K.append([raw_data_Rec_mg419K[volt,5:14]]) #TODO: CHANGE\n",
    "    Currents_mg419K.append([raw_data_Rec_mg419K[volt,14:23]])\n",
    "\n",
    "#change to mV and uA    \n",
    "Voltages_mg419KInmV = np.multiply(1000,Voltages_mg419K) #becomes a np.array with shape 7,1,9 \n",
    "Currents_mg419KInuA = np.multiply(1000000,Currents_mg419K)    \n",
    "  \n",
    "#reshape Array\n",
    "Voltages_mg419KInmV = Voltages_mg419KInmV.reshape(Voltages_mg419KInmV.shape[0],Voltages_mg419KInmV.shape[2]) #reshape 7,1,9 \n",
    "Currents_mg419KInuA = Currents_mg419KInuA.reshape(Currents_mg419KInuA.shape[0],Currents_mg419KInuA.shape[2])   \n",
    "\n",
    "################### Nmg #######\n",
    "\n",
    "Voltages_mg419Nmg = []\n",
    "Currents_mg419Nmg = []\n",
    "\n",
    "for volt in range(0,len(raw_data_Rec_mg419Nmg)):\n",
    "    Voltages_mg419Nmg.append([raw_data_Rec_mg419Nmg[volt,5:14]]) #TODO: CHANGE\n",
    "    Currents_mg419Nmg.append([raw_data_Rec_mg419Nmg[volt,14:23]])\n",
    "\n",
    "#change to mV and uA    \n",
    "Voltages_mg419NmgInmV = np.multiply(1000,Voltages_mg419Nmg) #becomes a np.array with shape 7,1,9 \n",
    "Currents_mg419NmgInuA = np.multiply(1000000,Currents_mg419Nmg)    \n",
    "  \n",
    "#reshape Array\n",
    "Voltages_mg419NmgInmV = Voltages_mg419NmgInmV.reshape(Voltages_mg419NmgInmV.shape[0],Voltages_mg419NmgInmV.shape[2]) #reshape 7,1,9 \n",
    "Currents_mg419NmgInuA = Currents_mg419NmgInuA.reshape(Currents_mg419NmgInuA.shape[0],Currents_mg419NmgInuA.shape[2])   \n",
    "\n",
    "\n",
    "\n"
   ]
  },
  {
   "cell_type": "markdown",
   "metadata": {},
   "source": [
    "## transform IV mean values of mg419 LiGLu\n"
   ]
  },
  {
   "cell_type": "code",
   "execution_count": 129,
   "metadata": {},
   "outputs": [],
   "source": [
    "####################### Li ##### \n",
    "Voltages_mg742Li = []\n",
    "Currents_mg742Li = []\n",
    "\n",
    "for volt in range(0,len(raw_data_Rec_mg742Li)):\n",
    "    Voltages_mg742Li.append([raw_data_Rec_mg742Li[volt,5:14]]) #TODO: CHANGE\n",
    "    Currents_mg742Li.append([raw_data_Rec_mg742Li[volt,14:23]])\n",
    "\n",
    "#change to mV and uA    \n",
    "Voltages_mg742LiInmV = np.multiply(1000,Voltages_mg742Li) #becomes a np.array with shape 7,1,9 \n",
    "Currents_mg742LiInuA = np.multiply(1000000,Currents_mg742Li)    \n",
    "  \n",
    "#reshape Array\n",
    "Voltages_mg742LiInmV = Voltages_mg742LiInmV.reshape(Voltages_mg742LiInmV.shape[0],Voltages_mg742LiInmV.shape[2]) #reshape 7,1,9 \n",
    "Currents_mg742LiInuA = Currents_mg742LiInuA.reshape(Currents_mg742LiInuA.shape[0],Currents_mg742LiInuA.shape[2])   \n",
    "\n",
    "####################### K ##### \n",
    "Voltages_mg742K = []\n",
    "Currents_mg742K = []\n",
    "\n",
    "for volt in range(0,len(raw_data_Rec_mg742K)):\n",
    "    Voltages_mg742K.append([raw_data_Rec_mg742K[volt,5:14]]) #TODO: CHANGE\n",
    "    Currents_mg742K.append([raw_data_Rec_mg742K[volt,14:23]])\n",
    "\n",
    "#change to mV and uA    \n",
    "Voltages_mg742KInmV = np.multiply(1000,Voltages_mg742K) #becomes a np.array with shape 7,1,9 \n",
    "Currents_mg742KInuA = np.multiply(1000000,Currents_mg742K)    \n",
    "  \n",
    "#reshape Array\n",
    "Voltages_mg742KInmV = Voltages_mg742KInmV.reshape(Voltages_mg742KInmV.shape[0],Voltages_mg742KInmV.shape[2]) #reshape 7,1,9 \n",
    "Currents_mg742KInuA = Currents_mg742KInuA.reshape(Currents_mg742KInuA.shape[0],Currents_mg742KInuA.shape[2])   \n",
    "\n",
    "####################### Nmg ##### \n",
    "Voltages_mg742Nmg = []\n",
    "Currents_mg742Nmg = []\n",
    "\n",
    "for volt in range(0,len(raw_data_Rec_mg742Nmg)):\n",
    "    Voltages_mg742Nmg.append([raw_data_Rec_mg742Nmg[volt,5:14]]) #TODO: CHANGE\n",
    "    Currents_mg742Nmg.append([raw_data_Rec_mg742Nmg[volt,14:23]])\n",
    "\n",
    "#change to mV and uA    \n",
    "Voltages_mg742NmgInmV = np.multiply(1000,Voltages_mg742Nmg) #becomes a np.array with shape 7,1,9 \n",
    "Currents_mg742NmgInuA = np.multiply(1000000,Currents_mg742Nmg)    \n",
    "  \n",
    "#reshape Array\n",
    "Voltages_mg742NmgInmV = Voltages_mg742NmgInmV.reshape(Voltages_mg742NmgInmV.shape[0],Voltages_mg742NmgInmV.shape[2]) #reshape 7,1,9 \n",
    "Currents_mg742NmgInuA = Currents_mg742NmgInuA.reshape(Currents_mg742NmgInuA.shape[0],Currents_mg742NmgInuA.shape[2])   \n"
   ]
  },
  {
   "cell_type": "code",
   "execution_count": null,
   "metadata": {},
   "outputs": [],
   "source": []
  },
  {
   "cell_type": "code",
   "execution_count": 152,
   "metadata": {},
   "outputs": [
    {
     "data": {
      "image/png": "[encoded data removed]",
      "text/plain": [
       "<Figure size 648x360 with 6 Axes>"
      ]
     },
     "metadata": {
      "needs_background": "light"
     },
     "output_type": "display_data"
    }
   ],
   "source": [
    "#index into Voltage 1 to Voltage 9 AND index into MeandStep1 to 9 (Currents) and rename  \n",
    "#TODO: change to not hardcoded if order in textfile changes\n",
    "\n",
    "fig, axes = plt.subplots(nrows=2, ncols=3, figsize=(9, 5))\n",
    "# if nrows = 2 axes[] counts rows and not col and limits axess handling\n",
    "\n",
    "axes[0][0] = plt.subplot(2,3,1)\n",
    "plt.plot(Voltages_mg419LiInmV[np.asarray(np.where(Solutions_Rec_mg419Li == VarNaGlu_mg419Li))[0,-1]],Currents_mg419LiInuA[np.asarray(np.where(Solutions_Rec_mg419Li == VarNaGlu_mg419Li))[0,-1]],'black',clip_on=False)\n",
    "plt.scatter(Voltages_mg419LiInmV[np.asarray(np.where(Solutions_Rec_mg419Li == VarNaGlu_mg419Li))[0,-1]],Currents_mg419LiInuA[np.asarray(np.where(Solutions_Rec_mg419Li == VarNaGlu_mg419Li))[0,-1]],color = 'black',clip_on=False)    \n",
    "plt.plot(Voltages_mg419LiInmV[np.asarray(np.where(Solutions_Rec_mg419Li == 'LiGluSel'))[0,-1]],Currents_mg419LiInuA[np.asarray(np.where(Solutions_Rec_mg419Li == 'LiGluSel'))[0,-1]],'red',clip_on=False)\n",
    "plt.scatter(Voltages_mg419LiInmV[np.asarray(np.where(Solutions_Rec_mg419Li == 'LiGluSel'))[0,-1]],Currents_mg419LiInuA[np.asarray(np.where(Solutions_Rec_mg419Li == 'LiGluSel'))[0,-1]],color = 'red',clip_on=False)    \n",
    "\n",
    "\n",
    "axes[0][1] = plt.subplot(2,3,2)\n",
    "plt.plot(Voltages_mg419KInmV[np.asarray(np.where(Solutions_Rec_mg419K == VarNaGlu_mg419K))[0,-1]],Currents_mg419KInuA[np.asarray(np.where(Solutions_Rec_mg419K == VarNaGlu_mg419K))[0,-1]],'black',clip_on=False)\n",
    "plt.scatter(Voltages_mg419KInmV[np.asarray(np.where(Solutions_Rec_mg419K == VarNaGlu_mg419K))[0,-1]],Currents_mg419KInuA[np.asarray(np.where(Solutions_Rec_mg419K == VarNaGlu_mg419K))[0,-1]],color = 'black',clip_on=False)    \n",
    "plt.plot(Voltages_mg419KInmV[np.asarray(np.where(Solutions_Rec_mg419K == 'KGluSel'))[0,-1]],Currents_mg419KInuA[np.asarray(np.where(Solutions_Rec_mg419K == 'KGluSel'))[0,-1]],'red',clip_on=False)\n",
    "plt.scatter(Voltages_mg419KInmV[np.asarray(np.where(Solutions_Rec_mg419K == 'KGluSel'))[0,-1]],Currents_mg419KInuA[np.asarray(np.where(Solutions_Rec_mg419K == 'KGluSel'))[0,-1]],color = 'red',clip_on=False)    \n",
    "\n",
    "axes[0][2] = plt.subplot(2,3,3)\n",
    "plt.plot(Voltages_mg419NmgInmV[np.asarray(np.where(Solutions_Rec_mg419Nmg == VarNaGlu_mg419Nmg))[0,-1]],Currents_mg419NmgInuA[np.asarray(np.where(Solutions_Rec_mg419Nmg == VarNaGlu_mg419Nmg))[0,-1]],'black',clip_on=False)\n",
    "plt.scatter(Voltages_mg419NmgInmV[np.asarray(np.where(Solutions_Rec_mg419Nmg == VarNaGlu_mg419Nmg))[0,-1]],Currents_mg419NmgInuA[np.asarray(np.where(Solutions_Rec_mg419Nmg == VarNaGlu_mg419Nmg))[0,-1]],color = 'black',clip_on=False)    \n",
    "plt.plot(Voltages_mg419NmgInmV[np.asarray(np.where(Solutions_Rec_mg419Nmg == 'NmgGluSel'))[0,-1]],Currents_mg419NmgInuA[np.asarray(np.where(Solutions_Rec_mg419Nmg == 'NmgGluSel'))[0,-1]],'red',clip_on=False)\n",
    "plt.scatter(Voltages_mg419NmgInmV[np.asarray(np.where(Solutions_Rec_mg419Nmg == 'NmgGluSel'))[0,-1]],Currents_mg419NmgInuA[np.asarray(np.where(Solutions_Rec_mg419Nmg == 'NmgGluSel'))[0,-1]],color = 'red',clip_on=False)    \n",
    "\n",
    "# ###################################### mg742 \n",
    "axes[1][0] = plt.subplot(2,3,4)\n",
    "plt.plot(Voltages_mg742LiInmV[np.asarray(np.where(Solutions_Rec_mg742Li == VarNaGlu_mg742Li))[0,-1]],Currents_mg742LiInuA[np.asarray(np.where(Solutions_Rec_mg742Li == VarNaGlu_mg742Li))[0,-1]],'black',clip_on=False)\n",
    "plt.scatter(Voltages_mg742LiInmV[np.asarray(np.where(Solutions_Rec_mg742Li == VarNaGlu_mg742Li))[0,-1]],Currents_mg742LiInuA[np.asarray(np.where(Solutions_Rec_mg742Li == VarNaGlu_mg742Li))[0,-1]],color = 'black',clip_on=False)    \n",
    "plt.plot(Voltages_mg742LiInmV[np.asarray(np.where(Solutions_Rec_mg742Li == 'LiGluSel'))[0,-1]],Currents_mg742LiInuA[np.asarray(np.where(Solutions_Rec_mg742Li == 'LiGluSel'))[0,-1]],'red',clip_on=False)\n",
    "plt.scatter(Voltages_mg742LiInmV[np.asarray(np.where(Solutions_Rec_mg742Li == 'LiGluSel'))[0,-1]],Currents_mg742LiInuA[np.asarray(np.where(Solutions_Rec_mg742Li == 'LiGluSel'))[0,-1]],color = 'red',clip_on=False)    \n",
    "\n",
    "axes[1][1] = plt.subplot(2,3,5)\n",
    "plt.plot(Voltages_mg742KInmV[np.asarray(np.where(Solutions_Rec_mg742K == VarNaGlu_mg742K))[0,-1]],Currents_mg742KInuA[np.asarray(np.where(Solutions_Rec_mg742K == VarNaGlu_mg742K))[0,-1]],'black',clip_on=False)\n",
    "plt.scatter(Voltages_mg742KInmV[np.asarray(np.where(Solutions_Rec_mg742K == VarNaGlu_mg742K))[0,-1]],Currents_mg742KInuA[np.asarray(np.where(Solutions_Rec_mg742K == VarNaGlu_mg742K))[0,-1]],color = 'black',clip_on=False)    \n",
    "plt.plot(Voltages_mg742KInmV[np.asarray(np.where(Solutions_Rec_mg742K == 'KGluSel'))[0,-1]],Currents_mg742KInuA[np.asarray(np.where(Solutions_Rec_mg742K == 'KGluSel'))[0,-1]],'red',clip_on=False)\n",
    "plt.scatter(Voltages_mg742KInmV[np.asarray(np.where(Solutions_Rec_mg742K == 'KGluSel'))[0,-1]],Currents_mg742KInuA[np.asarray(np.where(Solutions_Rec_mg742K == 'KGluSel'))[0,-1]],color = 'red',clip_on=False)    \n",
    "\n",
    "axes[1][2] = plt.subplot(2,3,6)\n",
    "plt.plot(Voltages_mg742NmgInmV[np.asarray(np.where(Solutions_Rec_mg742Nmg == VarNaGlu_mg742Nmg))[0,-1]],Currents_mg742NmgInuA[np.asarray(np.where(Solutions_Rec_mg742Nmg == VarNaGlu_mg742Nmg))[0,-1]],'black',clip_on=False)\n",
    "plt.scatter(Voltages_mg742NmgInmV[np.asarray(np.where(Solutions_Rec_mg742Nmg == VarNaGlu_mg742Nmg))[0,-1]],Currents_mg742NmgInuA[np.asarray(np.where(Solutions_Rec_mg742Nmg == VarNaGlu_mg742Nmg))[0,-1]],color = 'black',clip_on=False)    \n",
    "plt.plot(Voltages_mg742NmgInmV[np.asarray(np.where(Solutions_Rec_mg742Nmg == 'NmgGluSel'))[0,-1]],Currents_mg742NmgInuA[np.asarray(np.where(Solutions_Rec_mg742Nmg == 'NmgGluSel'))[0,-1]],'red',clip_on=False)\n",
    "plt.scatter(Voltages_mg742NmgInmV[np.asarray(np.where(Solutions_Rec_mg742Nmg == 'NmgGluSel'))[0,-1]],Currents_mg742NmgInuA[np.asarray(np.where(Solutions_Rec_mg742Nmg == 'NmgGluSel'))[0,-1]],color = 'red',clip_on=False)    \n",
    "\n",
    "\n",
    "###########################\n",
    "xlimSet = [-100,75]\n",
    "xticksSet=[-100,-50,50,75]\n",
    "ylimSet = [-80,40]\n",
    "\n",
    "#add ylim\n",
    "\n",
    "for row in range(2): \n",
    "    for col in range(3):\n",
    "        axes[row][col].set_xlim(xlimSet)\n",
    "        axes[row][col].set_xticks(xticksSet)\n",
    "        axes[row][col].set_ylim(ylimSet)\n",
    "        # Hide the right and top spines\n",
    "        axes[row][col].spines['right'].set_visible(False)\n",
    "        axes[row][col].spines['top'].set_visible(False)\n",
    "        # Only show ticks on the left and bottom spines\n",
    "        axes[row][col].yaxis.set_ticks_position('left')\n",
    "        axes[row][col].xaxis.set_ticks_position('bottom')\n",
    "        axes[row][col].get_yaxis().set_tick_params(direction='in')\n",
    "        axes[row][col].get_xaxis().set_tick_params(direction='in')\n",
    "        # Move left y-axis and bottim x-axis to centre, passing through (0,0)\n",
    "        axes[row][col].spines['left'].set_position('zero')\n",
    "        axes[row][col].spines['bottom'].set_position('zero')\n",
    "        axes[row][col].set_xlabel('mV',fontsize=AxisLabelSize)\n",
    "        axes[row][col].set_ylabel('µA',rotation=0,fontsize=AxisLabelSize)\n",
    "        axes[row][col].xaxis.set_label_coords(0.06,0.75)\n",
    "        axes[row][col].yaxis.set_label_coords(0.7,0.96)\n",
    "        axes[row][col].tick_params(axis='both', which='major', labelsize=AxisTickLabelSize)  \n",
    "\n",
    "\n",
    "axes[0][0].text(-110, 15.8, 'ctr LiGlu',color='red',fontsize=AxisTickLabelSize)\n",
    "axes[1][0].text(-110, 15.8, 'M4d-DT1(C) LiGlu',color='red',fontsize=AxisTickLabelSize)\n",
    "\n",
    "axes[0][1].text(-110, 15.8, 'ctr KGlu',color='red',fontsize=AxisTickLabelSize)\n",
    "axes[1][1].text(-110, 15.8, 'M4d-DT1(C) KGlu',color='red',fontsize=AxisTickLabelSize)\n",
    "\n",
    "axes[0][2].text(-110, 15.8, 'ctr KGlu',color='red',fontsize=AxisTickLabelSize)\n",
    "axes[1][2].text(-110, 15.8, 'M4d-DT1(C) KGlu',color='red',fontsize=AxisTickLabelSize)\n",
    "\n",
    "\n",
    "plt.gcf().subplots_adjust(bottom=0.1, left=0.1,right=None, top=None,hspace=None, wspace=None)     \n",
    "      \n",
    "plt.savefig(filedirExportFig+\"IVcurvesSelectivity-chimera\"+'.pdf')\n"
   ]
  },
  {
   "cell_type": "code",
   "execution_count": 149,
   "metadata": {},
   "outputs": [
    {
     "data": {
      "text/plain": [
       "10"
      ]
     },
     "execution_count": 149,
     "metadata": {},
     "output_type": "execute_result"
    }
   ],
   "source": [
    "AxisTickLabelSize\n",
    "AxisLabelSize"
   ]
  },
  {
   "cell_type": "code",
   "execution_count": null,
   "metadata": {},
   "outputs": [],
   "source": []
  },
  {
   "cell_type": "code",
   "execution_count": null,
   "metadata": {},
   "outputs": [],
   "source": []
  },
  {
   "cell_type": "code",
   "execution_count": null,
   "metadata": {},
   "outputs": [],
   "source": []
  },
  {
   "cell_type": "code",
   "execution_count": null,
   "metadata": {},
   "outputs": [],
   "source": []
  },
  {
   "cell_type": "code",
   "execution_count": null,
   "metadata": {},
   "outputs": [],
   "source": []
  }
 ],
 "metadata": {
  "kernelspec": {
   "display_name": "Python 3",
   "language": "python",
   "name": "python3"
  },
  "language_info": {
   "codemirror_mode": {
    "name": "ipython",
    "version": 3
   },
   "file_extension": ".py",
   "mimetype": "text/x-python",
   "name": "python",
   "nbconvert_exporter": "python",
   "pygments_lexer": "ipython3",
   "version": "3.7.4"
  }
 },
 "nbformat": 4,
 "nbformat_minor": 2
}
