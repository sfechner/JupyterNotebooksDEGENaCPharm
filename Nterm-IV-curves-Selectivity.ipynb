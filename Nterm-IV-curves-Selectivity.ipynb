{
 "cells": [
  {
   "cell_type": "code",
   "execution_count": 1,
   "metadata": {},
   "outputs": [
    {
     "name": "stderr",
     "output_type": "stream",
     "text": [
      "/Users/wormsenselab/anaconda3/envs/dabest/lib/python3.7/site-packages/matplotlib/__init__.py:1003: UserWarning: Duplicate key in file \"/Users/Fechner/.matplotlib/matplotlibrc\", line #3\n",
      "  (fname, cnt))\n",
      "/Users/wormsenselab/anaconda3/envs/dabest/lib/python3.7/site-packages/matplotlib/__init__.py:1003: UserWarning: Duplicate key in file \"/Users/Fechner/.matplotlib/matplotlibrc\", line #4\n",
      "  (fname, cnt))\n"
     ]
    }
   ],
   "source": [
    "from matplotlib import pyplot as plt\n",
    "import numpy as np\n",
    "%matplotlib inline\n",
    "from matplotlib import gridspec\n",
    "from matplotlib import rcParams\n",
    "from scipy.optimize import curve_fit\n",
    "import scipy.stats as stats\n",
    "from matplotlib import lines\n",
    "import seaborn as sns\n",
    "\n",
    "import pandas as pd\n",
    "import glob\n",
    "\n",
    "#thinter to tbe able to choose a meta data file\n",
    "#import tkinter as tk\n",
    "#from tkinter import filedialog#to open dialog box to choose file\n",
    "#from tkinter.filedialog import askopenfilename"
   ]
  },
  {
   "cell_type": "code",
   "execution_count": 2,
   "metadata": {},
   "outputs": [
    {
     "data": {
      "text/plain": [
       "'/Users/Fechner/Box Sync/Fechner/TEVC-GoodmanlabBOX/Project-STFX/AnalysisSTFX/JupyterNotebooksDEGENaCPharm'"
      ]
     },
     "execution_count": 2,
     "metadata": {},
     "output_type": "execute_result"
    }
   ],
   "source": [
    "pwd"
   ]
  },
  {
   "cell_type": "markdown",
   "metadata": {},
   "source": [
    "### HARDCODING THE IMPORT HEKA PATH"
   ]
  },
  {
   "cell_type": "code",
   "execution_count": 3,
   "metadata": {},
   "outputs": [],
   "source": [
    "# Add heka_reader to PYTHONPATH\n",
    "import sys\n",
    "#fpath = '/Users/Fechner/PythonStuff/heka_reader' #initial version delete\n",
    "fpath = '/Users/Fechner/Dropbox/PythonImport/heka_reader' #MAC\n",
    "sys.path.append(fpath)\n",
    "import heka_reader"
   ]
  },
  {
   "cell_type": "markdown",
   "metadata": {},
   "source": [
    "### got the heka reader from here\n",
    "https://github.com/campagnola/heka_reader\n",
    "\n",
    "- clone the repository to your computer (move to directory with terminal commands. Mine here is called PythonStuff at the moment: change name)\n",
    "    - git clone https://github.com/campagnola/heka_reader.git\n",
    "- the heka reader enables to read and access the .dat files (to work in jupyter notebook, you habe to append the heka_reader to the path where the heka reader is stored)\n",
    "- browser.py enables to easily browse for recordings within a .dat comparable to Igor or other similar programs\n",
    "- I changed the following in my local browser.py version, because the functions output was a tuple:\n",
    "    - def load_clicked():\n",
    "    - Display a file dialog to select a .dat file\n",
    "    - file_name = pg.QtGui.QFileDialog.getOpenFileName()\n",
    "    - if isinstance(file_name, tuple):   (ADDED THIS LINE)\n",
    "        -    file_name = file_name[0]    (ADDED THIS LINE)\n",
    "    - if file_name == '':\n",
    "        -    return\n",
    "    - load(file_name)"
   ]
  },
  {
   "cell_type": "markdown",
   "metadata": {},
   "source": [
    "## examples of how to access data structure"
   ]
  },
  {
   "cell_type": "markdown",
   "metadata": {},
   "source": [
    "    # Select a trace\n",
    "    trace = bundle.pul[group_ind][series_ind][sweep_ind][trace_ind]\n",
    "    \n",
    "    # Print meta-data for this trace\n",
    "    print(trace)\n",
    "    \n",
    "    # Load data for this trace\n",
    "    data = bundle.data[group_id, series_id, sweep_ind, trace_ind]\n",
    "    "
   ]
  },
  {
   "cell_type": "markdown",
   "metadata": {},
   "source": [
    "# change file directory"
   ]
  },
  {
   "cell_type": "code",
   "execution_count": 4,
   "metadata": {},
   "outputs": [
    {
     "name": "stdout",
     "output_type": "stream",
     "text": [
      "/Users/Fechner/Box Sync/Fechner/TEVC-GoodmanlabBOX/Project-STFX/RatioSTFX\n"
     ]
    }
   ],
   "source": [
    "cd ~/Box Sync/Fechner/TEVC-GoodmanlabBOX/Project-STFX/RatioSTFX"
   ]
  },
  {
   "cell_type": "code",
   "execution_count": 5,
   "metadata": {},
   "outputs": [],
   "source": [
    "#filedir ='C:/Users/Fechner/Box Sync/Fechner/TEVC-GoodmanlabBOX/Project-STFX/RatioSTFX/' #windows\n",
    "filedir ='/Users/Fechner/Box Sync/Fechner/TEVC-GoodmanlabBOX/Project-STFX/AnalysisSTFX/Selectivity/'\n",
    "filedirExportFig ='/Users/Fechner/Box Sync/Fechner/TEVC-GoodmanlabBOX/Project-STFX/AnalysisSTFX/AnalysisNterm/FiguresFromNotebook/'\n",
    "filedirSelNterm = '/Users/Fechner/Box Sync/Fechner/TEVC-GoodmanlabBOX/Project-STFX/AnalysisSTFX/AnalysisNterm/SelectivityNterm/'\n",
    "\n",
    "\n",
    "filenameMeta = '/Users/Fechner/Box Sync/Fechner/TEVC-GoodmanlabBOX/Project-STFX/MetaDataSTFX/'"
   ]
  },
  {
   "cell_type": "markdown",
   "metadata": {},
   "source": [
    "# ENTER HARDCODED HERE: FROGS (FILES) TO USE"
   ]
  },
  {
   "cell_type": "code",
   "execution_count": 6,
   "metadata": {},
   "outputs": [],
   "source": [
    "listofFiles = ['063','064','065','068','069',\n",
    "    '100','101','102','103','104','105','106','107','108','109','110','111']#'100','101','102','103','104','105',"
   ]
  },
  {
   "cell_type": "code",
   "execution_count": 7,
   "metadata": {},
   "outputs": [
    {
     "name": "stderr",
     "output_type": "stream",
     "text": [
      "/Users/wormsenselab/anaconda3/envs/dabest/lib/python3.7/site-packages/pandas/core/frame.py:6692: FutureWarning: Sorting because non-concatenation axis is not aligned. A future version\n",
      "of pandas will change to not sort by default.\n",
      "\n",
      "To accept the future behavior, pass 'sort=False'.\n",
      "\n",
      "To retain the current behavior and silence the warning, pass 'sort=True'.\n",
      "\n",
      "  sort=sort)\n"
     ]
    }
   ],
   "source": [
    "AllMetaData = pd.DataFrame()\n",
    "\n",
    "for i in range(len(listofFiles)):\n",
    "    df_temp = pd.read_excel(filenameMeta+'TEVCMetaSTFX'+listofFiles[i]+'-Selectivity.xlsx', sep=\",\" )\n",
    "    AllMetaData = AllMetaData.append(df_temp,ignore_index=True)\n",
    "    #print(df_temp)\n",
    "    \n",
    "AllMetaData.to_csv(filedirSelNterm+'MetaSelectivityNterm-.csv', header=True, index=None, sep=',', mode='w') "
   ]
  },
  {
   "cell_type": "code",
   "execution_count": 8,
   "metadata": {},
   "outputs": [],
   "source": [
    "filenameRatio = '/Users/Fechner/Box Sync/Fechner/TEVC-GoodmanlabBOX/Project-STFX/RatioSTFX/'"
   ]
  },
  {
   "cell_type": "code",
   "execution_count": 9,
   "metadata": {},
   "outputs": [],
   "source": [
    "TESTDIC = {\"Injection\":[],\"CellID\":[],\"StartSol\":[],\"VrStart\":[],'Iminus85Start':[],\"TestSol\":[],\"VrTest\":[],'Iminus85Test':[]}\n",
    "\n",
    "for i in range(len(AllMetaData['CellID'])): #range(28,29\n",
    "    try:\n",
    "        df_temp = pd.read_csv(filenameRatio+'Selectivity-TEVC-'+AllMetaData['CellID'][i]+'.txt', sep=\"\\t\" )\n",
    "    except FileNotFoundError:\n",
    "        continue\n",
    "    else:\n",
    "        df_temp = pd.read_csv(filenameRatio+'Selectivity-TEVC-'+AllMetaData['CellID'][i]+'.txt', sep=\"\\t\" )\n",
    "        #print(df_temp.head())\n",
    "        if len(df_temp) % 2 == 0:\n",
    "            NewLoc = 0\n",
    "            #print(\"{0} is Even\".format(len(df_temp)))\n",
    "            for m in range(int(len(df_temp)/2)):\n",
    "\n",
    "                TESTDIC[\"Injection\"].append(df_temp.loc[m,'Injection'])\n",
    "                TESTDIC[\"CellID\"].append(df_temp.loc[NewLoc,'CellIDRec'])\n",
    "\n",
    "                TESTDIC[\"StartSol\"].append(df_temp.loc[NewLoc,'TestSol'])\n",
    "                TESTDIC[\"VrStart\"].append(df_temp.loc[NewLoc,'Vrev'])\n",
    "                TESTDIC[\"Iminus85Start\"].append(df_temp.loc[NewLoc,'CurMinus85'])\n",
    "\n",
    "                TESTDIC[\"TestSol\"].append(df_temp.loc[NewLoc+1,'TestSol'])\n",
    "                TESTDIC[\"VrTest\"].append(df_temp.loc[NewLoc+1,'Vrev'])\n",
    "                TESTDIC[\"Iminus85Test\"].append(df_temp.loc[NewLoc+1,'CurMinus85'])\n",
    "\n",
    "                #print(NewLoc)\n",
    "                NewLoc = NewLoc +2\n",
    "                #print(NewLoc)\n",
    "                #NewLoc = NewLoc + 10\n",
    "                #print(NewLoc)\n",
    "\n",
    "        else:\n",
    "           # print(\"{0} is Odd\".format(len(df_temp)))\n",
    "            NewLoc = 0\n",
    "            for m in range(int((len(df_temp)-1)/2)): #check if -1 works for more than 3 rows, for 5???\n",
    "                TESTDIC[\"Injection\"].append(df_temp.loc[NewLoc,'Injection'])\n",
    "                TESTDIC[\"CellID\"].append(df_temp.loc[NewLoc,'CellIDRec'])\n",
    "\n",
    "                TESTDIC[\"StartSol\"].append(df_temp.loc[NewLoc,'TestSol'])\n",
    "                TESTDIC[\"VrStart\"].append(df_temp.loc[NewLoc,'Vrev'])\n",
    "                TESTDIC[\"Iminus85Start\"].append(df_temp.loc[NewLoc,'CurMinus85'])\n",
    "\n",
    "                TESTDIC[\"TestSol\"].append(df_temp.loc[NewLoc+1,'TestSol'])\n",
    "                TESTDIC[\"VrTest\"].append(df_temp.loc[NewLoc+1,'Vrev'])\n",
    "                TESTDIC[\"Iminus85Test\"].append(df_temp.loc[NewLoc+1,'CurMinus85'])\n",
    "\n",
    "                #TESTDIC[\"Iminus85Test\"].dropna(how = 'any')\n",
    "                \n",
    "                #print(NewLoc)\n",
    "                NewLoc = NewLoc +2\n",
    "\n",
    "                \n",
    "df = pd.DataFrame.from_dict(TESTDIC)\n",
    "\n",
    "df = df.dropna(how='any')\n",
    "\n",
    "df['Vd'] = df[\"VrTest\"]-df[\"VrStart\"]\n",
    "df['Permeability'] = 1/(np.exp(df['Vd'].values*1000/25.6*-1))\n",
    "df['Ratio'] = df[\"Iminus85Test\"]/df[\"Iminus85Start\"]\n",
    "\n",
    "\n",
    "df.to_csv(filedirSelNterm+'RatioVrevSelectivityNterm-.csv', header=True, index=None, sep=',', mode='w') \n",
    "\n",
    "#print(df['Permeability'])\n"
   ]
  },
  {
   "cell_type": "code",
   "execution_count": 10,
   "metadata": {},
   "outputs": [
    {
     "data": {
      "text/plain": [
       "'/Users/Fechner/Box Sync/Fechner/TEVC-GoodmanlabBOX/Project-STFX/AnalysisSTFX/AnalysisNterm/SelectivityNterm/'"
      ]
     },
     "execution_count": 10,
     "metadata": {},
     "output_type": "execute_result"
    }
   ],
   "source": [
    "filedirSelNterm"
   ]
  },
  {
   "cell_type": "markdown",
   "metadata": {},
   "source": [
    "## common axis parameters"
   ]
  },
  {
   "cell_type": "code",
   "execution_count": 11,
   "metadata": {},
   "outputs": [],
   "source": [
    "AxisTickLabelSize = 8\n",
    "AxisLabelSize = 10\n",
    "AxisLegendSize = 8\n",
    "SizeOfMarker = 3\n",
    "ErrorColor = 'red'\n",
    "\n",
    "SizeOfMarker = 2\n",
    "SizeofLine = 0.5"
   ]
  },
  {
   "cell_type": "markdown",
   "metadata": {},
   "source": [
    "# ENTER HERE HARDCODED THE DICTIONARY OF MUTANTS"
   ]
  },
  {
   "cell_type": "code",
   "execution_count": 12,
   "metadata": {},
   "outputs": [],
   "source": [
    "ReNameAlanin ={'F84A':'mg738mg012',# \n",
    "         'K85A':'mg739mg012',\n",
    "         'E86A':'mg740mg012',\n",
    "         #'F87A':'mg741mg012',\n",
    "         'C88A':'mg748mg012',\n",
    "         'Y89A':'mg759mg012',\n",
    "         #'K90A':'mg745mg012',\n",
    "         #'T91A':'mg752mg012',\n",
    "         #'S92A':'mg749mg012',\n",
    "         'ctr A93':'mg419mg012',\n",
    "         'H94A':'mg750mg012',\n",
    "         #'G95A':'mg746mg012',\n",
    "         #'I96A':'mg747mg012',\n",
    "         'P97A':'mg760mg012',\n",
    "         'M98A':'mg753mg012',\n",
    "         #'I99A':'mg761mg012',\n",
    "         'G100A':'mg751mg012'      \n",
    "        }\n",
    "\n",
    "ReNameChimera={ 'ctr A93':'mg419mg012',\n",
    "#               'M4-DT1ABC':'mg733mg012',\n",
    "#       'M4-DT1A':'mg734mg012',\n",
    "#                'M4-DT1A':'mg734mg012',\n",
    "#                'M4-DT1B':'mg735mg012',\n",
    "               'M4-DT1C':'mg742mg012',\n",
    "#                 'M4+M4-DT1A':'mg419mg734mg012',\n",
    "#                'M4+M4-DT1B':'mg419mg735mg012',\n",
    "#                'M4+M4-DT1C':'mg419mg742mg012',\n",
    "               #'DT1-NtermM4':'mg756mg012',\n",
    "               #'DT1-M4ABC':'mg736mg012',\n",
    "#                'DT1-M4A':'mg737mg012',\n",
    "#                'DT1-M4B':'mg757mg012',\n",
    "#                'DT1-M4C':'mg758mg012',\n",
    "              }\n",
    "\n",
    "#print(ReNameAlanin)\n",
    "LabelAlanin = list(ReNameAlanin.keys())\n",
    "LabelChimera = list(ReNameChimera.keys())"
   ]
  },
  {
   "cell_type": "code",
   "execution_count": 13,
   "metadata": {},
   "outputs": [
    {
     "data": {
      "text/html": [
       "<div>\n",
       "<style scoped>\n",
       "    .dataframe tbody tr th:only-of-type {\n",
       "        vertical-align: middle;\n",
       "    }\n",
       "\n",
       "    .dataframe tbody tr th {\n",
       "        vertical-align: top;\n",
       "    }\n",
       "\n",
       "    .dataframe thead th {\n",
       "        text-align: right;\n",
       "    }\n",
       "</style>\n",
       "<table border=\"1\" class=\"dataframe\">\n",
       "  <thead>\n",
       "    <tr style=\"text-align: right;\">\n",
       "      <th></th>\n",
       "      <th>Injection</th>\n",
       "      <th>CellID</th>\n",
       "      <th>StartSol</th>\n",
       "      <th>VrStart</th>\n",
       "      <th>Iminus85Start</th>\n",
       "      <th>TestSol</th>\n",
       "      <th>VrTest</th>\n",
       "      <th>Iminus85Test</th>\n",
       "      <th>Vd</th>\n",
       "      <th>Permeability</th>\n",
       "      <th>Ratio</th>\n",
       "    </tr>\n",
       "  </thead>\n",
       "  <tbody>\n",
       "    <tr>\n",
       "      <th>0</th>\n",
       "      <td>mg418mg419mg012</td>\n",
       "      <td>STFX063014</td>\n",
       "      <td>NaGluSel1</td>\n",
       "      <td>0.005257</td>\n",
       "      <td>1.082743e-05</td>\n",
       "      <td>KGluSel</td>\n",
       "      <td>-0.039298</td>\n",
       "      <td>1.808445e-06</td>\n",
       "      <td>-0.044554</td>\n",
       "      <td>0.175448</td>\n",
       "      <td>0.167024</td>\n",
       "    </tr>\n",
       "    <tr>\n",
       "      <th>3</th>\n",
       "      <td>mg418mg012</td>\n",
       "      <td>STFX063013</td>\n",
       "      <td>NaGluSel1</td>\n",
       "      <td>-0.009738</td>\n",
       "      <td>1.167834e-06</td>\n",
       "      <td>KGluSel</td>\n",
       "      <td>-0.005735</td>\n",
       "      <td>1.194372e-06</td>\n",
       "      <td>0.004003</td>\n",
       "      <td>1.169253</td>\n",
       "      <td>1.022724</td>\n",
       "    </tr>\n",
       "    <tr>\n",
       "      <th>6</th>\n",
       "      <td>mg418mg012</td>\n",
       "      <td>STFX063012</td>\n",
       "      <td>NaGluSel1</td>\n",
       "      <td>-0.008068</td>\n",
       "      <td>1.241020e-06</td>\n",
       "      <td>KGluSel</td>\n",
       "      <td>-0.003690</td>\n",
       "      <td>1.261510e-06</td>\n",
       "      <td>0.004379</td>\n",
       "      <td>1.186534</td>\n",
       "      <td>1.016511</td>\n",
       "    </tr>\n",
       "    <tr>\n",
       "      <th>9</th>\n",
       "      <td>mg418mg419mg012</td>\n",
       "      <td>STFX063011</td>\n",
       "      <td>NaGluSel1</td>\n",
       "      <td>0.008984</td>\n",
       "      <td>7.778207e-06</td>\n",
       "      <td>KGluSel</td>\n",
       "      <td>-0.025637</td>\n",
       "      <td>2.249858e-06</td>\n",
       "      <td>-0.034621</td>\n",
       "      <td>0.258626</td>\n",
       "      <td>0.289251</td>\n",
       "    </tr>\n",
       "    <tr>\n",
       "      <th>12</th>\n",
       "      <td>uninjected</td>\n",
       "      <td>STFX063010</td>\n",
       "      <td>NaGluSel1</td>\n",
       "      <td>-0.012328</td>\n",
       "      <td>8.655528e-08</td>\n",
       "      <td>KGluSel</td>\n",
       "      <td>0.002457</td>\n",
       "      <td>2.743892e-07</td>\n",
       "      <td>0.014786</td>\n",
       "      <td>1.781697</td>\n",
       "      <td>3.170103</td>\n",
       "    </tr>\n",
       "  </tbody>\n",
       "</table>\n",
       "</div>"
      ],
      "text/plain": [
       "          Injection      CellID   StartSol   VrStart  Iminus85Start  TestSol  \\\n",
       "0   mg418mg419mg012  STFX063014  NaGluSel1  0.005257   1.082743e-05  KGluSel   \n",
       "3        mg418mg012  STFX063013  NaGluSel1 -0.009738   1.167834e-06  KGluSel   \n",
       "6        mg418mg012  STFX063012  NaGluSel1 -0.008068   1.241020e-06  KGluSel   \n",
       "9   mg418mg419mg012  STFX063011  NaGluSel1  0.008984   7.778207e-06  KGluSel   \n",
       "12       uninjected  STFX063010  NaGluSel1 -0.012328   8.655528e-08  KGluSel   \n",
       "\n",
       "      VrTest  Iminus85Test        Vd  Permeability     Ratio  \n",
       "0  -0.039298  1.808445e-06 -0.044554      0.175448  0.167024  \n",
       "3  -0.005735  1.194372e-06  0.004003      1.169253  1.022724  \n",
       "6  -0.003690  1.261510e-06  0.004379      1.186534  1.016511  \n",
       "9  -0.025637  2.249858e-06 -0.034621      0.258626  0.289251  \n",
       "12  0.002457  2.743892e-07  0.014786      1.781697  3.170103  "
      ]
     },
     "execution_count": 13,
     "metadata": {},
     "output_type": "execute_result"
    }
   ],
   "source": [
    "df.head()"
   ]
  },
  {
   "cell_type": "markdown",
   "metadata": {},
   "source": [
    "## create arrays for each recording condition and RNA type"
   ]
  },
  {
   "cell_type": "code",
   "execution_count": 14,
   "metadata": {},
   "outputs": [
    {
     "name": "stdout",
     "output_type": "stream",
     "text": [
      "<class 'numpy.ndarray'>\n"
     ]
    }
   ],
   "source": [
    "Allmg419Li = df.CellID[(df.TestSol == \"LiGluSel\") & (df.Injection == ReNameChimera['ctr A93']) ].values\n",
    "Allmg419K = df.CellID[(df.TestSol == \"KGluSel\") & (df.Injection == ReNameChimera['ctr A93']) ].values\n",
    "Allmg419Nmg = df.CellID[(df.TestSol == \"NmgGluSel\") & (df.Injection == ReNameChimera['ctr A93']) ].values\n",
    "\n",
    "Allmg742Li = df.CellID[(df.TestSol == \"LiGluSel\") & (df.Injection == ReNameChimera['M4-DT1C']) ].values\n",
    "Allmg742K = df.CellID[(df.TestSol == \"KGluSel\") & (df.Injection == ReNameChimera['M4-DT1C']) ].values\n",
    "Allmg742Nmg = df.CellID[(df.TestSol == \"NmgGluSel\") & (df.Injection == ReNameChimera['M4-DT1C']) ].values\n",
    "\n",
    "print(type(Allmg419Nmg))\n",
    "#df[np.asarray(np.where(df == 'LiGluSel'))[0,-1]]"
   ]
  },
  {
   "cell_type": "markdown",
   "metadata": {},
   "source": [
    "## Alanine mutations"
   ]
  },
  {
   "cell_type": "code",
   "execution_count": 15,
   "metadata": {},
   "outputs": [],
   "source": [
    "Allmg738Li = df.CellID[(df.TestSol == \"LiGluSel\") & (df.Injection == ReNameAlanin['F84A']) ].values\n",
    "Allmg738K = df.CellID[(df.TestSol == \"KGluSel\") & (df.Injection == ReNameAlanin['F84A']) ].values\n",
    "Allmg738Nmg = df.CellID[(df.TestSol == \"NmgGluSel\") & (df.Injection == ReNameAlanin['F84A']) ].values\n",
    "\n",
    "Allmg739Li = df.CellID[(df.TestSol == \"LiGluSel\") & (df.Injection == ReNameAlanin['K85A']) ].values\n",
    "Allmg739K = df.CellID[(df.TestSol == \"KGluSel\") & (df.Injection == ReNameAlanin['K85A']) ].values\n",
    "Allmg739Nmg = df.CellID[(df.TestSol == \"NmgGluSel\") & (df.Injection == ReNameAlanin['K85A']) ].values\n",
    "\n",
    "Allmg740Li = df.CellID[(df.TestSol == \"LiGluSel\") & (df.Injection == ReNameAlanin['E86A']) ].values\n",
    "Allmg740K = df.CellID[(df.TestSol == \"KGluSel\") & (df.Injection == ReNameAlanin['E86A']) ].values\n",
    "Allmg740Nmg = df.CellID[(df.TestSol == \"NmgGluSel\") & (df.Injection == ReNameAlanin['E86A']) ].values\n",
    "\n",
    "Allmg748Li = df.CellID[(df.TestSol == \"LiGluSel\") & (df.Injection == ReNameAlanin['C88A']) ].values\n",
    "Allmg748K = df.CellID[(df.TestSol == \"KGluSel\") & (df.Injection == ReNameAlanin['C88A']) ].values\n",
    "Allmg748Nmg = df.CellID[(df.TestSol == \"NmgGluSel\") & (df.Injection == ReNameAlanin['C88A']) ].values\n",
    "\n",
    "Allmg759Li = df.CellID[(df.TestSol == \"LiGluSel\") & (df.Injection == ReNameAlanin['Y89A']) ].values\n",
    "Allmg759K = df.CellID[(df.TestSol == \"KGluSel\") & (df.Injection == ReNameAlanin['Y89A']) ].values\n",
    "Allmg759Nmg = df.CellID[(df.TestSol == \"NmgGluSel\") & (df.Injection == ReNameAlanin['Y89A']) ].values\n",
    "\n",
    "Allmg750Li = df.CellID[(df.TestSol == \"LiGluSel\") & (df.Injection == ReNameAlanin['H94A']) ].values\n",
    "Allmg750K = df.CellID[(df.TestSol == \"KGluSel\") & (df.Injection == ReNameAlanin['H94A']) ].values\n",
    "Allmg750Nmg = df.CellID[(df.TestSol == \"NmgGluSel\") & (df.Injection == ReNameAlanin['H94A']) ].values\n",
    "\n",
    "Allmg760Li = df.CellID[(df.TestSol == \"LiGluSel\") & (df.Injection == ReNameAlanin['P97A']) ].values\n",
    "Allmg760K = df.CellID[(df.TestSol == \"KGluSel\") & (df.Injection == ReNameAlanin['P97A']) ].values\n",
    "Allmg760Nmg = df.CellID[(df.TestSol == \"NmgGluSel\") & (df.Injection == ReNameAlanin['P97A']) ].values\n",
    "\n",
    "Allmg753Li = df.CellID[(df.TestSol == \"LiGluSel\") & (df.Injection == ReNameAlanin['M98A']) ].values\n",
    "Allmg753K = df.CellID[(df.TestSol == \"KGluSel\") & (df.Injection == ReNameAlanin['M98A']) ].values\n",
    "Allmg753Nmg = df.CellID[(df.TestSol == \"NmgGluSel\") & (df.Injection == ReNameAlanin['M98A']) ].values\n",
    "\n",
    "Allmg751Li = df.CellID[(df.TestSol == \"LiGluSel\") & (df.Injection == ReNameAlanin['G100A']) ].values\n",
    "Allmg751K = df.CellID[(df.TestSol == \"KGluSel\") & (df.Injection == ReNameAlanin['G100A']) ].values\n",
    "Allmg751Nmg = df.CellID[(df.TestSol == \"NmgGluSel\") & (df.Injection == ReNameAlanin['G100A']) ].values\n"
   ]
  },
  {
   "cell_type": "code",
   "execution_count": 16,
   "metadata": {},
   "outputs": [
    {
     "data": {
      "text/plain": [
       "'mg751mg012'"
      ]
     },
     "execution_count": 16,
     "metadata": {},
     "output_type": "execute_result"
    }
   ],
   "source": [
    "ReNameAlanin['G100A']"
   ]
  },
  {
   "cell_type": "markdown",
   "metadata": {},
   "source": [
    "error in LiGLu in STFX06026 for display...."
   ]
  },
  {
   "cell_type": "markdown",
   "metadata": {},
   "source": [
    "# ENTER HERE HARDCODED THE CELL YOU WANT TO PRINT"
   ]
  },
  {
   "cell_type": "markdown",
   "metadata": {},
   "source": [
    "write a loop to pick recording based on mean Current NAGlu, Vrev and change in Vrev dependent on solution switch"
   ]
  },
  {
   "cell_type": "markdown",
   "metadata": {},
   "source": [
    "## !!!!!!  ACTION !!! Allmg419Li[1] --> change the number in the [] parenthesis for chosing a different representative trace"
   ]
  },
  {
   "cell_type": "markdown",
   "metadata": {},
   "source": [
    "## control"
   ]
  },
  {
   "cell_type": "code",
   "execution_count": 17,
   "metadata": {},
   "outputs": [],
   "source": [
    "Rec_mg419Li = Allmg419Li[1]\n",
    "File_mg419Li = \"Selectivity-TEVC-\"+Rec_mg419Li+\".txt\"\n",
    "Rec_mg419LiString = Rec_mg419Li[:7] + \"-\" + Rec_mg419Li[7:]\n",
    "\n",
    "Rec_mg419K = Allmg419K[0]\n",
    "File_mg419K = \"Selectivity-TEVC-\"+Rec_mg419K+\".txt\"\n",
    "Rec_mg419KString = Rec_mg419K[:7] + \"-\" + Rec_mg419K[7:]\n",
    "\n",
    "Rec_mg419Nmg = Allmg419Nmg[1]\n",
    "File_mg419Nmg = \"Selectivity-TEVC-\"+Rec_mg419Nmg+\".txt\"\n",
    "Rec_mg419NmgString = Rec_mg419Nmg[:7] + \"-\" + Rec_mg419Nmg[7:]"
   ]
  },
  {
   "cell_type": "markdown",
   "metadata": {},
   "source": [
    "## chimera"
   ]
  },
  {
   "cell_type": "code",
   "execution_count": 18,
   "metadata": {},
   "outputs": [],
   "source": [
    "Rec_mg742Li = Allmg742Li[1]\n",
    "File_mg742Li = \"Selectivity-TEVC-\"+Rec_mg742Li+\".txt\"\n",
    "Rec_mg742LiString = Rec_mg742Li[:7] + \"-\" + Rec_mg742Li[7:]\n",
    "\n",
    "Rec_mg742K = Allmg742K[1]\n",
    "File_mg742K = \"Selectivity-TEVC-\"+Rec_mg742K+\".txt\"\n",
    "Rec_mg742KString = Rec_mg742K[:7] + \"-\" + Rec_mg742K[7:]\n",
    "\n",
    "Rec_mg742Nmg = Allmg742Nmg[1]\n",
    "File_mg742Nmg = \"Selectivity-TEVC-\"+Rec_mg742Nmg+\".txt\"\n",
    "Rec_mg742NmgString = Rec_mg742Nmg[:7] + \"-\" + Rec_mg742Nmg[7:]"
   ]
  },
  {
   "cell_type": "markdown",
   "metadata": {},
   "source": [
    "## F84A"
   ]
  },
  {
   "cell_type": "code",
   "execution_count": 19,
   "metadata": {},
   "outputs": [],
   "source": [
    "Rec_mg738Li = Allmg738Li[0] ## error in [1]\n",
    "File_mg738Li = \"Selectivity-TEVC-\"+Rec_mg738Li+\".txt\"\n",
    "Rec_mg738LiString = Rec_mg738Li[:7] + \"-\" + Rec_mg738Li[7:]\n",
    "\n",
    "Rec_mg738K = Allmg738K[1]\n",
    "File_mg738K = \"Selectivity-TEVC-\"+Rec_mg738K+\".txt\"\n",
    "Rec_mg738KString = Rec_mg738K[:7] + \"-\" + Rec_mg738K[7:]\n",
    "\n",
    "Rec_mg738Nmg = Allmg738Nmg[1]\n",
    "File_mg738Nmg = \"Selectivity-TEVC-\"+Rec_mg738Nmg+\".txt\"\n",
    "Rec_mg738NmgString = Rec_mg738Nmg[:7] + \"-\" + Rec_mg738Nmg[7:]"
   ]
  },
  {
   "cell_type": "markdown",
   "metadata": {},
   "source": [
    "## K85A"
   ]
  },
  {
   "cell_type": "code",
   "execution_count": 20,
   "metadata": {},
   "outputs": [],
   "source": [
    "Rec_mg739Li = Allmg739Li[1]\n",
    "File_mg739Li = \"Selectivity-TEVC-\"+Rec_mg739Li+\".txt\"\n",
    "Rec_mg739LiString = Rec_mg739Li[:7] + \"-\" + Rec_mg739Li[7:]\n",
    "\n",
    "Rec_mg739K = Allmg739K[1]\n",
    "File_mg739K = \"Selectivity-TEVC-\"+Rec_mg739K+\".txt\"\n",
    "Rec_mg739KString = Rec_mg739K[:7] + \"-\" + Rec_mg739K[7:]\n",
    "\n",
    "Rec_mg739Nmg = Allmg739Nmg[1]\n",
    "File_mg739Nmg = \"Selectivity-TEVC-\"+Rec_mg739Nmg+\".txt\"\n",
    "Rec_mg739NmgString = Rec_mg739Nmg[:7] + \"-\" + Rec_mg739Nmg[7:]"
   ]
  },
  {
   "cell_type": "markdown",
   "metadata": {},
   "source": [
    "## E86A"
   ]
  },
  {
   "cell_type": "code",
   "execution_count": 21,
   "metadata": {},
   "outputs": [],
   "source": [
    "Rec_mg740Li = Allmg740Li[0]\n",
    "File_mg740Li = \"Selectivity-TEVC-\"+Rec_mg740Li+\".txt\"\n",
    "Rec_mg740LiString = Rec_mg740Li[:7] + \"-\" + Rec_mg740Li[7:]\n",
    "\n",
    "Rec_mg740K = Allmg740K[1]\n",
    "File_mg740K = \"Selectivity-TEVC-\"+Rec_mg740K+\".txt\"\n",
    "Rec_mg740KString = Rec_mg740K[:7] + \"-\" + Rec_mg740K[7:]\n",
    "\n",
    "Rec_mg740Nmg = Allmg740Nmg[1]\n",
    "File_mg740Nmg = \"Selectivity-TEVC-\"+Rec_mg740Nmg+\".txt\"\n",
    "Rec_mg740NmgString = Rec_mg740Nmg[:7] + \"-\" + Rec_mg740Nmg[7:]"
   ]
  },
  {
   "cell_type": "markdown",
   "metadata": {},
   "source": [
    "## C88A"
   ]
  },
  {
   "cell_type": "code",
   "execution_count": 22,
   "metadata": {},
   "outputs": [],
   "source": [
    "Rec_mg748Li = Allmg748Li[3]\n",
    "File_mg748Li = \"Selectivity-TEVC-\"+Rec_mg748Li+\".txt\"\n",
    "Rec_mg748LiString = Rec_mg748Li[:7] + \"-\" + Rec_mg748Li[7:]\n",
    "\n",
    "Rec_mg748K = Allmg748K[1]\n",
    "File_mg748K = \"Selectivity-TEVC-\"+Rec_mg748K+\".txt\"\n",
    "Rec_mg748KString = Rec_mg748K[:7] + \"-\" + Rec_mg748K[7:]\n",
    "\n",
    "Rec_mg748Nmg = Allmg748Nmg[1]\n",
    "File_mg748Nmg = \"Selectivity-TEVC-\"+Rec_mg748Nmg+\".txt\"\n",
    "Rec_mg748NmgString = Rec_mg748Nmg[:7] + \"-\" + Rec_mg748Nmg[7:]"
   ]
  },
  {
   "cell_type": "markdown",
   "metadata": {},
   "source": [
    "## Y89A"
   ]
  },
  {
   "cell_type": "code",
   "execution_count": 23,
   "metadata": {},
   "outputs": [],
   "source": [
    "Rec_mg759Li = Allmg759Li[1]\n",
    "File_mg759Li = \"Selectivity-TEVC-\"+Rec_mg759Li+\".txt\"\n",
    "Rec_mg759LiString = Rec_mg759Li[:7] + \"-\" + Rec_mg759Li[7:]\n",
    "\n",
    "Rec_mg759K = Allmg759K[1]\n",
    "File_mg759K = \"Selectivity-TEVC-\"+Rec_mg759K+\".txt\"\n",
    "Rec_mg759KString = Rec_mg759K[:7] + \"-\" + Rec_mg759K[7:]\n",
    "\n",
    "Rec_mg759Nmg = Allmg759Nmg[1]\n",
    "File_mg759Nmg = \"Selectivity-TEVC-\"+Rec_mg759Nmg+\".txt\"\n",
    "Rec_mg759NmgString = Rec_mg759Nmg[:7] + \"-\" + Rec_mg759Nmg[7:]"
   ]
  },
  {
   "cell_type": "markdown",
   "metadata": {},
   "source": [
    "## H94A"
   ]
  },
  {
   "cell_type": "code",
   "execution_count": 24,
   "metadata": {},
   "outputs": [],
   "source": [
    "Rec_mg750Li = Allmg750Li[1]\n",
    "File_mg750Li = \"Selectivity-TEVC-\"+Rec_mg750Li+\".txt\"\n",
    "Rec_mg750LiString = Rec_mg750Li[:7] + \"-\" + Rec_mg750Li[7:]\n",
    "\n",
    "Rec_mg750K = Allmg750K[1]\n",
    "File_mg750K = \"Selectivity-TEVC-\"+Rec_mg750K+\".txt\"\n",
    "Rec_mg750KString = Rec_mg750K[:7] + \"-\" + Rec_mg750K[7:]\n",
    "\n",
    "Rec_mg750Nmg = Allmg750Nmg[1]\n",
    "File_mg750Nmg = \"Selectivity-TEVC-\"+Rec_mg750Nmg+\".txt\"\n",
    "Rec_mg750NmgString = Rec_mg750Nmg[:7] + \"-\" + Rec_mg750Nmg[7:]"
   ]
  },
  {
   "cell_type": "markdown",
   "metadata": {},
   "source": [
    "## P97A"
   ]
  },
  {
   "cell_type": "code",
   "execution_count": 25,
   "metadata": {},
   "outputs": [],
   "source": [
    "Rec_mg760Li = Allmg760Li[1]\n",
    "File_mg760Li = \"Selectivity-TEVC-\"+Rec_mg760Li+\".txt\"\n",
    "Rec_mg760LiString = Rec_mg760Li[:7] + \"-\" + Rec_mg760Li[7:]\n",
    "\n",
    "Rec_mg760K = Allmg760K[1]\n",
    "File_mg760K = \"Selectivity-TEVC-\"+Rec_mg760K+\".txt\"\n",
    "Rec_mg760KString = Rec_mg760K[:7] + \"-\" + Rec_mg760K[7:]\n",
    "\n",
    "Rec_mg760Nmg = Allmg760Nmg[1]\n",
    "File_mg760Nmg = \"Selectivity-TEVC-\"+Rec_mg760Nmg+\".txt\"\n",
    "Rec_mg760NmgString = Rec_mg760Nmg[:7] + \"-\" + Rec_mg760Nmg[7:]"
   ]
  },
  {
   "cell_type": "markdown",
   "metadata": {},
   "source": [
    "## M98A"
   ]
  },
  {
   "cell_type": "code",
   "execution_count": 26,
   "metadata": {},
   "outputs": [],
   "source": [
    "Rec_mg753Li = Allmg753Li[1]\n",
    "File_mg753Li = \"Selectivity-TEVC-\"+Rec_mg753Li+\".txt\"\n",
    "Rec_mg753LiString = Rec_mg753Li[:7] + \"-\" + Rec_mg753Li[7:]\n",
    "\n",
    "Rec_mg753K = Allmg753K[1]\n",
    "File_mg753K = \"Selectivity-TEVC-\"+Rec_mg753K+\".txt\"\n",
    "Rec_mg753KString = Rec_mg753K[:7] + \"-\" + Rec_mg753K[7:]\n",
    "\n",
    "Rec_mg753Nmg = Allmg753Nmg[1]\n",
    "File_mg753Nmg = \"Selectivity-TEVC-\"+Rec_mg753Nmg+\".txt\"\n",
    "Rec_mg753NmgString = Rec_mg753Nmg[:7] + \"-\" + Rec_mg753Nmg[7:]"
   ]
  },
  {
   "cell_type": "markdown",
   "metadata": {},
   "source": [
    "## G100A"
   ]
  },
  {
   "cell_type": "code",
   "execution_count": 27,
   "metadata": {},
   "outputs": [],
   "source": [
    "Rec_mg751Li = Allmg751Li[1]\n",
    "File_mg751Li = \"Selectivity-TEVC-\"+Rec_mg751Li+\".txt\"\n",
    "Rec_mg751LiString = Rec_mg751Li[:7] + \"-\" + Rec_mg751Li[7:]\n",
    "\n",
    "Rec_mg751K = Allmg751K[1]\n",
    "File_mg751K = \"Selectivity-TEVC-\"+Rec_mg751K+\".txt\"\n",
    "Rec_mg751KString = Rec_mg751K[:7] + \"-\" + Rec_mg751K[7:]\n",
    "\n",
    "Rec_mg751Nmg = Allmg751Nmg[1]\n",
    "File_mg751Nmg = \"Selectivity-TEVC-\"+Rec_mg751Nmg+\".txt\"\n",
    "Rec_mg751NmgString = Rec_mg751Nmg[:7] + \"-\" + Rec_mg751Nmg[7:]"
   ]
  },
  {
   "cell_type": "code",
   "execution_count": 28,
   "metadata": {},
   "outputs": [
    {
     "data": {
      "text/plain": [
       "{'F84A': 'mg738mg012',\n",
       " 'K85A': 'mg739mg012',\n",
       " 'E86A': 'mg740mg012',\n",
       " 'C88A': 'mg748mg012',\n",
       " 'Y89A': 'mg759mg012',\n",
       " 'ctr A93': 'mg419mg012',\n",
       " 'H94A': 'mg750mg012',\n",
       " 'P97A': 'mg760mg012',\n",
       " 'M98A': 'mg753mg012',\n",
       " 'G100A': 'mg751mg012'}"
      ]
     },
     "execution_count": 28,
     "metadata": {},
     "output_type": "execute_result"
    }
   ],
   "source": [
    "ReNameAlanin"
   ]
  },
  {
   "cell_type": "markdown",
   "metadata": {},
   "source": [
    "# change labels for specific to recording\n",
    "if this error appears, run the code again from the top as you are in the wrong folder (change directory happens twice in this code): OSError: Selectivity-TEVC-STFX107008.txt not found."
   ]
  },
  {
   "cell_type": "markdown",
   "metadata": {},
   "source": [
    "## control"
   ]
  },
  {
   "cell_type": "code",
   "execution_count": 29,
   "metadata": {},
   "outputs": [
    {
     "name": "stdout",
     "output_type": "stream",
     "text": [
      "['CellIDRec' 'Injection' 'CultivationSol' 'DaysPostInj' 'Rating'\n",
      " 'Voltage_1' 'Voltage_2' 'Voltage_3' 'Voltage_4' 'Voltage_5' 'Voltage_6'\n",
      " 'Voltage_7' 'Voltage_8' 'Voltage_9' 'MeanSTEPs_1' 'MeanSTEPs_2'\n",
      " 'MeanSTEPs_3' 'MeanSTEPs_4' 'MeanSTEPs_5' 'MeanSTEPs_6' 'MeanSTEPs_7'\n",
      " 'MeanSTEPs_8' 'MeanSTEPs_9' 'LEAKMinus85' 'TestSol' 'Vrev' 'CurMinus85'\n",
      " 'SortIndexSolutions']\n"
     ]
    }
   ],
   "source": [
    "labels_Rec_mg419Li = np.genfromtxt(File_mg419Li, delimiter='\\t',  dtype=str)[0,:]\n",
    "raw_data_Rec_mg419Li = np.genfromtxt(File_mg419Li, delimiter='\\t')[1:-1,:]#[1:-1,:]\n",
    "Solutions_Rec_mg419Li = np.genfromtxt(File_mg419Li, delimiter='\\t',  dtype=str)[1:,24]\n",
    "\n",
    "labels_Rec_mg419K = np.genfromtxt(File_mg419K, delimiter='\\t',  dtype=str)[0,:]\n",
    "raw_data_Rec_mg419K = np.genfromtxt(File_mg419K, delimiter='\\t')[1:-1,:]#[1:-1,:]\n",
    "Solutions_Rec_mg419K = np.genfromtxt(File_mg419K, delimiter='\\t',  dtype=str)[1:,24]\n",
    "\n",
    "labels_Rec_mg419Nmg = np.genfromtxt(File_mg419Nmg, delimiter='\\t',  dtype=str)[0,:]\n",
    "raw_data_Rec_mg419Nmg = np.genfromtxt(File_mg419Nmg, delimiter='\\t')[1:-1,:]#[1:-1,:]\n",
    "Solutions_Rec_mg419Nmg = np.genfromtxt(File_mg419Nmg, delimiter='\\t',  dtype=str)[1:,24]\n",
    "\n",
    "print(labels_Rec_mg419Nmg)\n",
    "# #print(raw_data)"
   ]
  },
  {
   "cell_type": "markdown",
   "metadata": {},
   "source": [
    "## chimera"
   ]
  },
  {
   "cell_type": "code",
   "execution_count": 30,
   "metadata": {},
   "outputs": [],
   "source": [
    "labels_Rec_mg742Li = np.genfromtxt(File_mg742Li, delimiter='\\t',  dtype=str)[0,:]\n",
    "raw_data_Rec_mg742Li = np.genfromtxt(File_mg742Li, delimiter='\\t')[1:-1,:]#[1:-1,:]\n",
    "Solutions_Rec_mg742Li = np.genfromtxt(File_mg742Li, delimiter='\\t',  dtype=str)[1:,24]\n",
    "\n",
    "labels_Rec_mg742K = np.genfromtxt(File_mg742K, delimiter='\\t',  dtype=str)[0,:]\n",
    "raw_data_Rec_mg742K = np.genfromtxt(File_mg742K, delimiter='\\t')[1:-1,:]#[1:-1,:]\n",
    "Solutions_Rec_mg742K = np.genfromtxt(File_mg742K, delimiter='\\t',  dtype=str)[1:,24]\n",
    "\n",
    "labels_Rec_mg742Nmg = np.genfromtxt(File_mg742Nmg, delimiter='\\t',  dtype=str)[0,:]\n",
    "raw_data_Rec_mg742Nmg = np.genfromtxt(File_mg742Nmg, delimiter='\\t')[1:-1,:]#[1:-1,:]\n",
    "Solutions_Rec_mg742Nmg = np.genfromtxt(File_mg742Nmg, delimiter='\\t',  dtype=str)[1:,24]\n"
   ]
  },
  {
   "cell_type": "markdown",
   "metadata": {},
   "source": [
    "## F84A"
   ]
  },
  {
   "cell_type": "code",
   "execution_count": 31,
   "metadata": {},
   "outputs": [],
   "source": [
    "labels_Rec_mg738Li = np.genfromtxt(File_mg738Li, delimiter='\\t',  dtype=str)[0,:]\n",
    "raw_data_Rec_mg738Li = np.genfromtxt(File_mg738Li, delimiter='\\t')[1:-1,:]#[1:-1,:]\n",
    "Solutions_Rec_mg738Li = np.genfromtxt(File_mg738Li, delimiter='\\t',  dtype=str)[1:,24]\n",
    "\n",
    "labels_Rec_mg738K = np.genfromtxt(File_mg738K, delimiter='\\t',  dtype=str)[0,:]\n",
    "raw_data_Rec_mg738K = np.genfromtxt(File_mg738K, delimiter='\\t')[1:-1,:]#[1:-1,:]\n",
    "Solutions_Rec_mg738K = np.genfromtxt(File_mg738K, delimiter='\\t',  dtype=str)[1:,24]\n",
    "\n",
    "labels_Rec_mg738Nmg = np.genfromtxt(File_mg738Nmg, delimiter='\\t',  dtype=str)[0,:]\n",
    "raw_data_Rec_mg738Nmg = np.genfromtxt(File_mg738Nmg, delimiter='\\t')[1:-1,:]#[1:-1,:]\n",
    "Solutions_Rec_mg738Nmg = np.genfromtxt(File_mg738Nmg, delimiter='\\t',  dtype=str)[1:,24]\n"
   ]
  },
  {
   "cell_type": "markdown",
   "metadata": {},
   "source": [
    "## K85A"
   ]
  },
  {
   "cell_type": "code",
   "execution_count": 32,
   "metadata": {},
   "outputs": [],
   "source": [
    "labels_Rec_mg739Li = np.genfromtxt(File_mg739Li, delimiter='\\t',  dtype=str)[0,:]\n",
    "raw_data_Rec_mg739Li = np.genfromtxt(File_mg739Li, delimiter='\\t')[1:-1,:]#[1:-1,:]\n",
    "Solutions_Rec_mg739Li = np.genfromtxt(File_mg739Li, delimiter='\\t',  dtype=str)[1:,24]\n",
    "\n",
    "labels_Rec_mg739K = np.genfromtxt(File_mg739K, delimiter='\\t',  dtype=str)[0,:]\n",
    "raw_data_Rec_mg739K = np.genfromtxt(File_mg739K, delimiter='\\t')[1:-1,:]#[1:-1,:]\n",
    "Solutions_Rec_mg739K = np.genfromtxt(File_mg739K, delimiter='\\t',  dtype=str)[1:,24]\n",
    "\n",
    "labels_Rec_mg739Nmg = np.genfromtxt(File_mg739Nmg, delimiter='\\t',  dtype=str)[0,:]\n",
    "raw_data_Rec_mg739Nmg = np.genfromtxt(File_mg739Nmg, delimiter='\\t')[1:-1,:]#[1:-1,:]\n",
    "Solutions_Rec_mg739Nmg = np.genfromtxt(File_mg739Nmg, delimiter='\\t',  dtype=str)[1:,24]\n"
   ]
  },
  {
   "cell_type": "markdown",
   "metadata": {},
   "source": [
    "## E86A"
   ]
  },
  {
   "cell_type": "code",
   "execution_count": 33,
   "metadata": {},
   "outputs": [],
   "source": [
    "labels_Rec_mg740Li = np.genfromtxt(File_mg740Li, delimiter='\\t',  dtype=str)[0,:]\n",
    "raw_data_Rec_mg740Li = np.genfromtxt(File_mg740Li, delimiter='\\t')[1:-1,:]#[1:-1,:]\n",
    "Solutions_Rec_mg740Li = np.genfromtxt(File_mg740Li, delimiter='\\t',  dtype=str)[1:,24]\n",
    "\n",
    "labels_Rec_mg740K = np.genfromtxt(File_mg740K, delimiter='\\t',  dtype=str)[0,:]\n",
    "raw_data_Rec_mg740K = np.genfromtxt(File_mg740K, delimiter='\\t')[1:-1,:]#[1:-1,:]\n",
    "Solutions_Rec_mg740K = np.genfromtxt(File_mg740K, delimiter='\\t',  dtype=str)[1:,24]\n",
    "\n",
    "labels_Rec_mg740Nmg = np.genfromtxt(File_mg740Nmg, delimiter='\\t',  dtype=str)[0,:]\n",
    "raw_data_Rec_mg740Nmg = np.genfromtxt(File_mg740Nmg, delimiter='\\t')[1:-1,:]#[1:-1,:]\n",
    "Solutions_Rec_mg740Nmg = np.genfromtxt(File_mg740Nmg, delimiter='\\t',  dtype=str)[1:,24]\n"
   ]
  },
  {
   "cell_type": "markdown",
   "metadata": {},
   "source": [
    "## C88A"
   ]
  },
  {
   "cell_type": "code",
   "execution_count": 34,
   "metadata": {},
   "outputs": [],
   "source": [
    "labels_Rec_mg748Li = np.genfromtxt(File_mg748Li, delimiter='\\t',  dtype=str)[0,:]\n",
    "raw_data_Rec_mg748Li = np.genfromtxt(File_mg748Li, delimiter='\\t')[1:-1,:]#[1:-1,:]\n",
    "Solutions_Rec_mg748Li = np.genfromtxt(File_mg748Li, delimiter='\\t',  dtype=str)[1:,24]\n",
    "\n",
    "labels_Rec_mg748K = np.genfromtxt(File_mg748K, delimiter='\\t',  dtype=str)[0,:]\n",
    "raw_data_Rec_mg748K = np.genfromtxt(File_mg748K, delimiter='\\t')[1:-1,:]#[1:-1,:]\n",
    "Solutions_Rec_mg748K = np.genfromtxt(File_mg748K, delimiter='\\t',  dtype=str)[1:,24]\n",
    "\n",
    "labels_Rec_mg748Nmg = np.genfromtxt(File_mg748Nmg, delimiter='\\t',  dtype=str)[0,:]\n",
    "raw_data_Rec_mg748Nmg = np.genfromtxt(File_mg748Nmg, delimiter='\\t')[1:-1,:]#[1:-1,:]\n",
    "Solutions_Rec_mg748Nmg = np.genfromtxt(File_mg748Nmg, delimiter='\\t',  dtype=str)[1:,24]\n"
   ]
  },
  {
   "cell_type": "markdown",
   "metadata": {},
   "source": [
    "## Y89A"
   ]
  },
  {
   "cell_type": "code",
   "execution_count": 35,
   "metadata": {},
   "outputs": [],
   "source": [
    "labels_Rec_mg759Li = np.genfromtxt(File_mg759Li, delimiter='\\t',  dtype=str)[0,:]\n",
    "raw_data_Rec_mg759Li = np.genfromtxt(File_mg759Li, delimiter='\\t')[1:-1,:]#[1:-1,:]\n",
    "Solutions_Rec_mg759Li = np.genfromtxt(File_mg759Li, delimiter='\\t',  dtype=str)[1:,24]\n",
    "\n",
    "labels_Rec_mg759K = np.genfromtxt(File_mg759K, delimiter='\\t',  dtype=str)[0,:]\n",
    "raw_data_Rec_mg759K = np.genfromtxt(File_mg759K, delimiter='\\t')[1:-1,:]#[1:-1,:]\n",
    "Solutions_Rec_mg759K = np.genfromtxt(File_mg759K, delimiter='\\t',  dtype=str)[1:,24]\n",
    "\n",
    "labels_Rec_mg759Nmg = np.genfromtxt(File_mg759Nmg, delimiter='\\t',  dtype=str)[0,:]\n",
    "raw_data_Rec_mg759Nmg = np.genfromtxt(File_mg759Nmg, delimiter='\\t')[1:-1,:]#[1:-1,:]\n",
    "Solutions_Rec_mg759Nmg = np.genfromtxt(File_mg759Nmg, delimiter='\\t',  dtype=str)[1:,24]\n"
   ]
  },
  {
   "cell_type": "markdown",
   "metadata": {},
   "source": [
    "## H94A"
   ]
  },
  {
   "cell_type": "code",
   "execution_count": 36,
   "metadata": {},
   "outputs": [],
   "source": [
    "labels_Rec_mg750Li = np.genfromtxt(File_mg750Li, delimiter='\\t',  dtype=str)[0,:]\n",
    "raw_data_Rec_mg750Li = np.genfromtxt(File_mg750Li, delimiter='\\t')[1:-1,:]#[1:-1,:]\n",
    "Solutions_Rec_mg750Li = np.genfromtxt(File_mg750Li, delimiter='\\t',  dtype=str)[1:,24]\n",
    "\n",
    "labels_Rec_mg750K = np.genfromtxt(File_mg750K, delimiter='\\t',  dtype=str)[0,:]\n",
    "raw_data_Rec_mg750K = np.genfromtxt(File_mg750K, delimiter='\\t')[1:-1,:]#[1:-1,:]\n",
    "Solutions_Rec_mg750K = np.genfromtxt(File_mg750K, delimiter='\\t',  dtype=str)[1:,24]\n",
    "\n",
    "labels_Rec_mg750Nmg = np.genfromtxt(File_mg750Nmg, delimiter='\\t',  dtype=str)[0,:]\n",
    "raw_data_Rec_mg750Nmg = np.genfromtxt(File_mg750Nmg, delimiter='\\t')[1:-1,:]#[1:-1,:]\n",
    "Solutions_Rec_mg750Nmg = np.genfromtxt(File_mg750Nmg, delimiter='\\t',  dtype=str)[1:,24]\n"
   ]
  },
  {
   "cell_type": "markdown",
   "metadata": {},
   "source": [
    "## P97A"
   ]
  },
  {
   "cell_type": "code",
   "execution_count": 37,
   "metadata": {},
   "outputs": [],
   "source": [
    "labels_Rec_mg760Li = np.genfromtxt(File_mg760Li, delimiter='\\t',  dtype=str)[0,:]\n",
    "raw_data_Rec_mg760Li = np.genfromtxt(File_mg760Li, delimiter='\\t')[1:-1,:]#[1:-1,:]\n",
    "Solutions_Rec_mg760Li = np.genfromtxt(File_mg760Li, delimiter='\\t',  dtype=str)[1:,24]\n",
    "\n",
    "labels_Rec_mg760K = np.genfromtxt(File_mg760K, delimiter='\\t',  dtype=str)[0,:]\n",
    "raw_data_Rec_mg760K = np.genfromtxt(File_mg760K, delimiter='\\t')[1:-1,:]#[1:-1,:]\n",
    "Solutions_Rec_mg760K = np.genfromtxt(File_mg760K, delimiter='\\t',  dtype=str)[1:,24]\n",
    "\n",
    "labels_Rec_mg760Nmg = np.genfromtxt(File_mg760Nmg, delimiter='\\t',  dtype=str)[0,:]\n",
    "raw_data_Rec_mg760Nmg = np.genfromtxt(File_mg760Nmg, delimiter='\\t')[1:-1,:]#[1:-1,:]\n",
    "Solutions_Rec_mg760Nmg = np.genfromtxt(File_mg760Nmg, delimiter='\\t',  dtype=str)[1:,24]\n"
   ]
  },
  {
   "cell_type": "markdown",
   "metadata": {},
   "source": [
    "## M98A"
   ]
  },
  {
   "cell_type": "code",
   "execution_count": 38,
   "metadata": {},
   "outputs": [],
   "source": [
    "labels_Rec_mg753Li = np.genfromtxt(File_mg753Li, delimiter='\\t',  dtype=str)[0,:]\n",
    "raw_data_Rec_mg753Li = np.genfromtxt(File_mg753Li, delimiter='\\t')[1:-1,:]#[1:-1,:]\n",
    "Solutions_Rec_mg753Li = np.genfromtxt(File_mg753Li, delimiter='\\t',  dtype=str)[1:,24]\n",
    "\n",
    "labels_Rec_mg753K = np.genfromtxt(File_mg753K, delimiter='\\t',  dtype=str)[0,:]\n",
    "raw_data_Rec_mg753K = np.genfromtxt(File_mg753K, delimiter='\\t')[1:-1,:]#[1:-1,:]\n",
    "Solutions_Rec_mg753K = np.genfromtxt(File_mg753K, delimiter='\\t',  dtype=str)[1:,24]\n",
    "\n",
    "labels_Rec_mg753Nmg = np.genfromtxt(File_mg753Nmg, delimiter='\\t',  dtype=str)[0,:]\n",
    "raw_data_Rec_mg753Nmg = np.genfromtxt(File_mg753Nmg, delimiter='\\t')[1:-1,:]#[1:-1,:]\n",
    "Solutions_Rec_mg753Nmg = np.genfromtxt(File_mg753Nmg, delimiter='\\t',  dtype=str)[1:,24]\n"
   ]
  },
  {
   "cell_type": "markdown",
   "metadata": {},
   "source": [
    "## G100A"
   ]
  },
  {
   "cell_type": "code",
   "execution_count": 39,
   "metadata": {},
   "outputs": [],
   "source": [
    "labels_Rec_mg751Li = np.genfromtxt(File_mg751Li, delimiter='\\t',  dtype=str)[0,:]\n",
    "raw_data_Rec_mg751Li = np.genfromtxt(File_mg751Li, delimiter='\\t')[1:-1,:]#[1:-1,:]\n",
    "Solutions_Rec_mg751Li = np.genfromtxt(File_mg751Li, delimiter='\\t',  dtype=str)[1:,24]\n",
    "\n",
    "labels_Rec_mg751K = np.genfromtxt(File_mg751K, delimiter='\\t',  dtype=str)[0,:]\n",
    "raw_data_Rec_mg751K = np.genfromtxt(File_mg751K, delimiter='\\t')[1:-1,:]#[1:-1,:]\n",
    "Solutions_Rec_mg751K = np.genfromtxt(File_mg751K, delimiter='\\t',  dtype=str)[1:,24]\n",
    "\n",
    "labels_Rec_mg751Nmg = np.genfromtxt(File_mg751Nmg, delimiter='\\t',  dtype=str)[0,:]\n",
    "raw_data_Rec_mg751Nmg = np.genfromtxt(File_mg751Nmg, delimiter='\\t')[1:-1,:]#[1:-1,:]\n",
    "Solutions_Rec_mg751Nmg = np.genfromtxt(File_mg751Nmg, delimiter='\\t',  dtype=str)[1:,24]\n"
   ]
  },
  {
   "cell_type": "code",
   "execution_count": 40,
   "metadata": {},
   "outputs": [
    {
     "data": {
      "text/plain": [
       "{'F84A': 'mg738mg012',\n",
       " 'K85A': 'mg739mg012',\n",
       " 'E86A': 'mg740mg012',\n",
       " 'C88A': 'mg748mg012',\n",
       " 'Y89A': 'mg759mg012',\n",
       " 'ctr A93': 'mg419mg012',\n",
       " 'H94A': 'mg750mg012',\n",
       " 'P97A': 'mg760mg012',\n",
       " 'M98A': 'mg753mg012',\n",
       " 'G100A': 'mg751mg012'}"
      ]
     },
     "execution_count": 40,
     "metadata": {},
     "output_type": "execute_result"
    }
   ],
   "source": [
    "ReNameAlanin"
   ]
  },
  {
   "cell_type": "markdown",
   "metadata": {},
   "source": [
    "# CHANGE DIRECTORY"
   ]
  },
  {
   "cell_type": "code",
   "execution_count": 41,
   "metadata": {},
   "outputs": [
    {
     "name": "stdout",
     "output_type": "stream",
     "text": [
      "/Users/Fechner/Box Sync/Fechner/TEVC-GoodmanlabBOX/Project-STFX/datFilesSTFX\n"
     ]
    }
   ],
   "source": [
    "cd ~/Box Sync/Fechner/TEVC-GoodmanlabBOX/Project-STFX/datFilesSTFX"
   ]
  },
  {
   "cell_type": "code",
   "execution_count": 42,
   "metadata": {},
   "outputs": [
    {
     "name": "stdout",
     "output_type": "stream",
     "text": [
      "/Users/Fechner/Box Sync/Fechner/TEVC-GoodmanlabBOX/Project-STFX/MetaDataSTFX/\n"
     ]
    }
   ],
   "source": [
    "####### Hardcoding the data path to your device ####\n",
    "Changefiledir ='/Users/Fechner/Box Sync/Fechner/'\n",
    "\n",
    "#### doesn't need to be changed for TEVC analysis ###\n",
    "filedirMeta = Changefiledir + 'TEVC-GoodmanlabBOX/Project-STFX/MetaDataSTFX/'\n",
    "#filedirManuscript ='/Users/Fechner/Dropbox/ManuscriptFechnerPharmacology/Figures/ExportedFromNotebook/'\n",
    "\n",
    "#CHANGE USER NAME ON PRIVATE LAPTOP TO Fechner or be more clever about the Filename\n",
    "print(filedirMeta)"
   ]
  },
  {
   "cell_type": "markdown",
   "metadata": {},
   "source": [
    "# find filename on meta data sheet"
   ]
  },
  {
   "cell_type": "markdown",
   "metadata": {},
   "source": [
    "## find Filename control "
   ]
  },
  {
   "cell_type": "code",
   "execution_count": 43,
   "metadata": {},
   "outputs": [],
   "source": [
    "#find the .dat file name in the MetaData sheet of the corresponding recording\n",
    "DatFile_mg419Li = AllMetaData.Filename[(AllMetaData.CellID == Rec_mg419Li)]\n",
    "DatFile_mg419K = AllMetaData.Filename[(AllMetaData.CellID == Rec_mg419K)]\n",
    "DatFile_mg419Nmg = AllMetaData.Filename[(AllMetaData.CellID == Rec_mg419Nmg)]"
   ]
  },
  {
   "cell_type": "code",
   "execution_count": 44,
   "metadata": {},
   "outputs": [
    {
     "data": {
      "text/plain": [
       "80    20181121\n",
       "Name: Filename, dtype: int64"
      ]
     },
     "execution_count": 44,
     "metadata": {},
     "output_type": "execute_result"
    }
   ],
   "source": [
    "DatFile_mg419Nmg"
   ]
  },
  {
   "cell_type": "markdown",
   "metadata": {},
   "source": [
    "## find Filename chimera "
   ]
  },
  {
   "cell_type": "code",
   "execution_count": 45,
   "metadata": {},
   "outputs": [],
   "source": [
    "DatFile_mg742Li = AllMetaData.Filename[(AllMetaData.CellID == Rec_mg742Li)]\n",
    "DatFile_mg742K = AllMetaData.Filename[(AllMetaData.CellID == Rec_mg742K)]\n",
    "DatFile_mg742Nmg = AllMetaData.Filename[(AllMetaData.CellID == Rec_mg742Nmg)]"
   ]
  },
  {
   "cell_type": "markdown",
   "metadata": {},
   "source": [
    "## find Filename alanine mutants"
   ]
  },
  {
   "cell_type": "code",
   "execution_count": 46,
   "metadata": {},
   "outputs": [],
   "source": [
    "DatFile_mg738Li = AllMetaData.Filename[(AllMetaData.CellID == Rec_mg738Li)]\n",
    "DatFile_mg738K = AllMetaData.Filename[(AllMetaData.CellID == Rec_mg738K)]\n",
    "DatFile_mg738Nmg = AllMetaData.Filename[(AllMetaData.CellID == Rec_mg738Nmg)]"
   ]
  },
  {
   "cell_type": "code",
   "execution_count": 47,
   "metadata": {},
   "outputs": [],
   "source": [
    "DatFile_mg739Li = AllMetaData.Filename[(AllMetaData.CellID == Rec_mg739Li)]\n",
    "DatFile_mg739K = AllMetaData.Filename[(AllMetaData.CellID == Rec_mg739K)]\n",
    "DatFile_mg739Nmg = AllMetaData.Filename[(AllMetaData.CellID == Rec_mg739Nmg)]"
   ]
  },
  {
   "cell_type": "code",
   "execution_count": 48,
   "metadata": {},
   "outputs": [],
   "source": [
    "DatFile_mg740Li = AllMetaData.Filename[(AllMetaData.CellID == Rec_mg740Li)]\n",
    "DatFile_mg740K = AllMetaData.Filename[(AllMetaData.CellID == Rec_mg740K)]\n",
    "DatFile_mg740Nmg = AllMetaData.Filename[(AllMetaData.CellID == Rec_mg740Nmg)]"
   ]
  },
  {
   "cell_type": "code",
   "execution_count": 49,
   "metadata": {},
   "outputs": [],
   "source": [
    "DatFile_mg748Li = AllMetaData.Filename[(AllMetaData.CellID == Rec_mg748Li)]\n",
    "DatFile_mg748K = AllMetaData.Filename[(AllMetaData.CellID == Rec_mg748K)]\n",
    "DatFile_mg748Nmg = AllMetaData.Filename[(AllMetaData.CellID == Rec_mg748Nmg)]"
   ]
  },
  {
   "cell_type": "code",
   "execution_count": 50,
   "metadata": {},
   "outputs": [],
   "source": [
    "DatFile_mg759Li = AllMetaData.Filename[(AllMetaData.CellID == Rec_mg759Li)]\n",
    "DatFile_mg759K = AllMetaData.Filename[(AllMetaData.CellID == Rec_mg759K)]\n",
    "DatFile_mg759Nmg = AllMetaData.Filename[(AllMetaData.CellID == Rec_mg759Nmg)]"
   ]
  },
  {
   "cell_type": "code",
   "execution_count": 51,
   "metadata": {},
   "outputs": [],
   "source": [
    "DatFile_mg750Li = AllMetaData.Filename[(AllMetaData.CellID == Rec_mg750Li)]\n",
    "DatFile_mg750K = AllMetaData.Filename[(AllMetaData.CellID == Rec_mg750K)]\n",
    "DatFile_mg750Nmg = AllMetaData.Filename[(AllMetaData.CellID == Rec_mg750Nmg)]"
   ]
  },
  {
   "cell_type": "code",
   "execution_count": 52,
   "metadata": {},
   "outputs": [],
   "source": [
    "DatFile_mg760Li = AllMetaData.Filename[(AllMetaData.CellID == Rec_mg760Li)]\n",
    "DatFile_mg760K = AllMetaData.Filename[(AllMetaData.CellID == Rec_mg760K)]\n",
    "DatFile_mg760Nmg = AllMetaData.Filename[(AllMetaData.CellID == Rec_mg760Nmg)]"
   ]
  },
  {
   "cell_type": "code",
   "execution_count": 53,
   "metadata": {},
   "outputs": [],
   "source": [
    "DatFile_mg753Li = AllMetaData.Filename[(AllMetaData.CellID == Rec_mg753Li)]\n",
    "DatFile_mg753K = AllMetaData.Filename[(AllMetaData.CellID == Rec_mg753K)]\n",
    "DatFile_mg753Nmg = AllMetaData.Filename[(AllMetaData.CellID == Rec_mg753Nmg)]"
   ]
  },
  {
   "cell_type": "code",
   "execution_count": 54,
   "metadata": {},
   "outputs": [],
   "source": [
    "DatFile_mg751Li = AllMetaData.Filename[(AllMetaData.CellID == Rec_mg751Li)]\n",
    "DatFile_mg751K = AllMetaData.Filename[(AllMetaData.CellID == Rec_mg751K)]\n",
    "DatFile_mg751Nmg = AllMetaData.Filename[(AllMetaData.CellID == Rec_mg751Nmg)]"
   ]
  },
  {
   "cell_type": "code",
   "execution_count": null,
   "metadata": {},
   "outputs": [],
   "source": []
  },
  {
   "cell_type": "markdown",
   "metadata": {},
   "source": [
    "# load dat files"
   ]
  },
  {
   "cell_type": "markdown",
   "metadata": {},
   "source": [
    "## load dat files control"
   ]
  },
  {
   "cell_type": "code",
   "execution_count": 55,
   "metadata": {},
   "outputs": [],
   "source": [
    "loadFile_mg419Li = heka_reader.Bundle(str(DatFile_mg419Li.iloc[0])+'.dat')\n",
    "loadFile_mg419K = heka_reader.Bundle(str(DatFile_mg419K.iloc[0])+'.dat')\n",
    "loadFile_mg419Nmg = heka_reader.Bundle(str(DatFile_mg419Nmg.iloc[0])+'.dat')"
   ]
  },
  {
   "cell_type": "markdown",
   "metadata": {},
   "source": [
    "## load dat files chimera"
   ]
  },
  {
   "cell_type": "code",
   "execution_count": 56,
   "metadata": {},
   "outputs": [],
   "source": [
    "# Load a .dat file\n",
    "loadFile_mg742Li = heka_reader.Bundle(str(DatFile_mg742Li.iloc[0])+'.dat')\n",
    "loadFile_mg742K = heka_reader.Bundle(str(DatFile_mg742K.iloc[0])+'.dat')\n",
    "loadFile_mg742Nmg = heka_reader.Bundle(str(DatFile_mg742Nmg.iloc[0])+'.dat')"
   ]
  },
  {
   "cell_type": "markdown",
   "metadata": {},
   "source": [
    "## load dat files Alanine mutants"
   ]
  },
  {
   "cell_type": "code",
   "execution_count": 57,
   "metadata": {},
   "outputs": [],
   "source": [
    "loadFile_mg738Li = heka_reader.Bundle(str(DatFile_mg738Li.iloc[0])+'.dat')\n",
    "loadFile_mg738K = heka_reader.Bundle(str(DatFile_mg738K.iloc[0])+'.dat')\n",
    "loadFile_mg738Nmg = heka_reader.Bundle(str(DatFile_mg738Nmg.iloc[0])+'.dat')"
   ]
  },
  {
   "cell_type": "code",
   "execution_count": 58,
   "metadata": {},
   "outputs": [],
   "source": [
    "loadFile_mg739Li = heka_reader.Bundle(str(DatFile_mg739Li.iloc[0])+'.dat')\n",
    "loadFile_mg739K = heka_reader.Bundle(str(DatFile_mg739K.iloc[0])+'.dat')\n",
    "loadFile_mg739Nmg = heka_reader.Bundle(str(DatFile_mg739Nmg.iloc[0])+'.dat')"
   ]
  },
  {
   "cell_type": "code",
   "execution_count": 59,
   "metadata": {},
   "outputs": [],
   "source": [
    "loadFile_mg740Li = heka_reader.Bundle(str(DatFile_mg740Li.iloc[0])+'.dat')\n",
    "loadFile_mg740K = heka_reader.Bundle(str(DatFile_mg740K.iloc[0])+'.dat')\n",
    "loadFile_mg740Nmg = heka_reader.Bundle(str(DatFile_mg740Nmg.iloc[0])+'.dat')"
   ]
  },
  {
   "cell_type": "code",
   "execution_count": 60,
   "metadata": {},
   "outputs": [],
   "source": [
    "loadFile_mg748Li = heka_reader.Bundle(str(DatFile_mg748Li.iloc[0])+'.dat')\n",
    "loadFile_mg748K = heka_reader.Bundle(str(DatFile_mg748K.iloc[0])+'.dat')\n",
    "loadFile_mg748Nmg = heka_reader.Bundle(str(DatFile_mg748Nmg.iloc[0])+'.dat')"
   ]
  },
  {
   "cell_type": "code",
   "execution_count": 61,
   "metadata": {},
   "outputs": [],
   "source": [
    "loadFile_mg759Li = heka_reader.Bundle(str(DatFile_mg759Li.iloc[0])+'.dat')\n",
    "loadFile_mg759K = heka_reader.Bundle(str(DatFile_mg759K.iloc[0])+'.dat')\n",
    "loadFile_mg759Nmg = heka_reader.Bundle(str(DatFile_mg759Nmg.iloc[0])+'.dat')"
   ]
  },
  {
   "cell_type": "code",
   "execution_count": 62,
   "metadata": {},
   "outputs": [],
   "source": [
    "loadFile_mg750Li = heka_reader.Bundle(str(DatFile_mg750Li.iloc[0])+'.dat')\n",
    "loadFile_mg750K = heka_reader.Bundle(str(DatFile_mg750K.iloc[0])+'.dat')\n",
    "loadFile_mg750Nmg = heka_reader.Bundle(str(DatFile_mg750Nmg.iloc[0])+'.dat')"
   ]
  },
  {
   "cell_type": "code",
   "execution_count": 63,
   "metadata": {},
   "outputs": [],
   "source": [
    "loadFile_mg760Li = heka_reader.Bundle(str(DatFile_mg760Li.iloc[0])+'.dat')\n",
    "loadFile_mg760K = heka_reader.Bundle(str(DatFile_mg760K.iloc[0])+'.dat')\n",
    "loadFile_mg760Nmg = heka_reader.Bundle(str(DatFile_mg760Nmg.iloc[0])+'.dat')"
   ]
  },
  {
   "cell_type": "code",
   "execution_count": 64,
   "metadata": {},
   "outputs": [],
   "source": [
    "loadFile_mg753Li = heka_reader.Bundle(str(DatFile_mg753Li.iloc[0])+'.dat')\n",
    "loadFile_mg753K = heka_reader.Bundle(str(DatFile_mg753K.iloc[0])+'.dat')\n",
    "loadFile_mg753Nmg = heka_reader.Bundle(str(DatFile_mg753Nmg.iloc[0])+'.dat')"
   ]
  },
  {
   "cell_type": "code",
   "execution_count": 65,
   "metadata": {},
   "outputs": [],
   "source": [
    "loadFile_mg751Li = heka_reader.Bundle(str(DatFile_mg751Li.iloc[0])+'.dat')\n",
    "loadFile_mg751K = heka_reader.Bundle(str(DatFile_mg751K.iloc[0])+'.dat')\n",
    "loadFile_mg751Nmg = heka_reader.Bundle(str(DatFile_mg751Nmg.iloc[0])+'.dat')"
   ]
  },
  {
   "cell_type": "markdown",
   "metadata": {},
   "source": [
    "# find Group of recording via name"
   ]
  },
  {
   "cell_type": "markdown",
   "metadata": {},
   "source": [
    "## find group of recording for control"
   ]
  },
  {
   "cell_type": "code",
   "execution_count": 66,
   "metadata": {},
   "outputs": [
    {
     "name": "stdout",
     "output_type": "stream",
     "text": [
      "10\n"
     ]
    }
   ],
   "source": [
    "for element in range(50):\n",
    "    if loadFile_mg419Li.pul[element].Label == Rec_mg419LiString:\n",
    "        Group_mg419Li = element\n",
    "        print(Group_mg419Li)\n",
    "        break        \n",
    "        \n",
    "for element in range(50):\n",
    "    if loadFile_mg419K.pul[element].Label == Rec_mg419KString:\n",
    "        Group_mg419K = element\n",
    "        break\n",
    "        \n",
    "for element in range(50):\n",
    "    if loadFile_mg419Nmg.pul[element].Label == Rec_mg419NmgString:\n",
    "        Group_mg419Nmg = element\n",
    "        break        "
   ]
  },
  {
   "cell_type": "markdown",
   "metadata": {},
   "source": [
    "## find group of recording for chimera"
   ]
  },
  {
   "cell_type": "code",
   "execution_count": 67,
   "metadata": {},
   "outputs": [
    {
     "name": "stdout",
     "output_type": "stream",
     "text": [
      "9\n"
     ]
    }
   ],
   "source": [
    "for element in range(50):\n",
    "    if loadFile_mg742Li.pul[element].Label == Rec_mg742LiString:\n",
    "        Group_mg742Li = element\n",
    "        print(Group_mg742Li)\n",
    "        break\n",
    "\n",
    "for element in range(50):\n",
    "    if loadFile_mg742K.pul[element].Label == Rec_mg742KString:\n",
    "        Group_mg742K = element\n",
    "        break \n",
    "        \n",
    "for element in range(50):\n",
    "    if loadFile_mg742Nmg.pul[element].Label == Rec_mg742NmgString:\n",
    "        Group_mg742Nmg = element\n",
    "        break              "
   ]
  },
  {
   "cell_type": "markdown",
   "metadata": {},
   "source": [
    "## find group of recording for alanine mutants"
   ]
  },
  {
   "cell_type": "code",
   "execution_count": 68,
   "metadata": {},
   "outputs": [
    {
     "name": "stdout",
     "output_type": "stream",
     "text": [
      "7\n"
     ]
    }
   ],
   "source": [
    "for element in range(50):\n",
    "    if loadFile_mg738Li.pul[element].Label == Rec_mg738LiString:\n",
    "        Group_mg738Li = element\n",
    "        print(Group_mg738Li)\n",
    "        break\n",
    "\n",
    "for element in range(50):\n",
    "    if loadFile_mg738K.pul[element].Label == Rec_mg738KString:\n",
    "        Group_mg738K = element\n",
    "        break \n",
    "        \n",
    "for element in range(50):\n",
    "    if loadFile_mg738Nmg.pul[element].Label == Rec_mg738NmgString:\n",
    "        Group_mg738Nmg = element\n",
    "        break              "
   ]
  },
  {
   "cell_type": "code",
   "execution_count": 69,
   "metadata": {},
   "outputs": [
    {
     "name": "stdout",
     "output_type": "stream",
     "text": [
      "9\n"
     ]
    }
   ],
   "source": [
    "for element in range(50):\n",
    "    if loadFile_mg739Li.pul[element].Label == Rec_mg739LiString:\n",
    "        Group_mg739Li = element\n",
    "        print(Group_mg739Li)\n",
    "        break\n",
    "\n",
    "for element in range(50):\n",
    "    if loadFile_mg739K.pul[element].Label == Rec_mg739KString:\n",
    "        Group_mg739K = element\n",
    "        break \n",
    "        \n",
    "for element in range(50):\n",
    "    if loadFile_mg739Nmg.pul[element].Label == Rec_mg739NmgString:\n",
    "        Group_mg739Nmg = element\n",
    "        break              "
   ]
  },
  {
   "cell_type": "code",
   "execution_count": 70,
   "metadata": {},
   "outputs": [
    {
     "name": "stdout",
     "output_type": "stream",
     "text": [
      "4\n"
     ]
    }
   ],
   "source": [
    "for element in range(50):\n",
    "    if loadFile_mg740Li.pul[element].Label == Rec_mg740LiString:\n",
    "        Group_mg740Li = element\n",
    "        print(Group_mg740Li)\n",
    "        break\n",
    "\n",
    "for element in range(50):\n",
    "    if loadFile_mg740K.pul[element].Label == Rec_mg740KString:\n",
    "        Group_mg740K = element\n",
    "        break \n",
    "        \n",
    "for element in range(50):\n",
    "    if loadFile_mg740Nmg.pul[element].Label == Rec_mg740NmgString:\n",
    "        Group_mg740Nmg = element\n",
    "        break              "
   ]
  },
  {
   "cell_type": "code",
   "execution_count": 71,
   "metadata": {},
   "outputs": [
    {
     "name": "stdout",
     "output_type": "stream",
     "text": [
      "12\n"
     ]
    }
   ],
   "source": [
    "for element in range(50):\n",
    "    if loadFile_mg748Li.pul[element].Label == Rec_mg748LiString:\n",
    "        Group_mg748Li = element\n",
    "        print(Group_mg748Li)\n",
    "        break\n",
    "\n",
    "for element in range(50):\n",
    "    if loadFile_mg748K.pul[element].Label == Rec_mg748KString:\n",
    "        Group_mg748K = element\n",
    "        break \n",
    "        \n",
    "for element in range(50):\n",
    "    if loadFile_mg748Nmg.pul[element].Label == Rec_mg748NmgString:\n",
    "        Group_mg748Nmg = element\n",
    "        break              "
   ]
  },
  {
   "cell_type": "code",
   "execution_count": 72,
   "metadata": {},
   "outputs": [
    {
     "name": "stdout",
     "output_type": "stream",
     "text": [
      "9\n"
     ]
    }
   ],
   "source": [
    "for element in range(50):\n",
    "    if loadFile_mg759Li.pul[element].Label == Rec_mg759LiString:\n",
    "        Group_mg759Li = element\n",
    "        print(Group_mg759Li)\n",
    "        break\n",
    "\n",
    "for element in range(50):\n",
    "    if loadFile_mg759K.pul[element].Label == Rec_mg759KString:\n",
    "        Group_mg759K = element\n",
    "        break \n",
    "        \n",
    "for element in range(50):\n",
    "    if loadFile_mg759Nmg.pul[element].Label == Rec_mg759NmgString:\n",
    "        Group_mg759Nmg = element\n",
    "        break              "
   ]
  },
  {
   "cell_type": "code",
   "execution_count": 73,
   "metadata": {},
   "outputs": [
    {
     "name": "stdout",
     "output_type": "stream",
     "text": [
      "11\n"
     ]
    }
   ],
   "source": [
    "for element in range(50):\n",
    "    if loadFile_mg750Li.pul[element].Label == Rec_mg750LiString:\n",
    "        Group_mg750Li = element\n",
    "        print(Group_mg750Li)\n",
    "        break\n",
    "\n",
    "for element in range(50):\n",
    "    if loadFile_mg750K.pul[element].Label == Rec_mg750KString:\n",
    "        Group_mg750K = element\n",
    "        break \n",
    "        \n",
    "for element in range(50):\n",
    "    if loadFile_mg750Nmg.pul[element].Label == Rec_mg750NmgString:\n",
    "        Group_mg750Nmg = element\n",
    "        break              "
   ]
  },
  {
   "cell_type": "code",
   "execution_count": 74,
   "metadata": {},
   "outputs": [
    {
     "name": "stdout",
     "output_type": "stream",
     "text": [
      "14\n"
     ]
    }
   ],
   "source": [
    "for element in range(50):\n",
    "    if loadFile_mg760Li.pul[element].Label == Rec_mg760LiString:\n",
    "        Group_mg760Li = element\n",
    "        print(Group_mg760Li)\n",
    "        break\n",
    "\n",
    "for element in range(50):\n",
    "    if loadFile_mg760K.pul[element].Label == Rec_mg760KString:\n",
    "        Group_mg760K = element\n",
    "        break \n",
    "        \n",
    "for element in range(50):\n",
    "    if loadFile_mg760Nmg.pul[element].Label == Rec_mg760NmgString:\n",
    "        Group_mg760Nmg = element\n",
    "        break              "
   ]
  },
  {
   "cell_type": "code",
   "execution_count": 75,
   "metadata": {},
   "outputs": [
    {
     "name": "stdout",
     "output_type": "stream",
     "text": [
      "9\n"
     ]
    }
   ],
   "source": [
    "for element in range(50):\n",
    "    if loadFile_mg753Li.pul[element].Label == Rec_mg753LiString:\n",
    "        Group_mg753Li = element\n",
    "        print(Group_mg753Li)\n",
    "        break\n",
    "\n",
    "for element in range(50):\n",
    "    if loadFile_mg753K.pul[element].Label == Rec_mg753KString:\n",
    "        Group_mg753K = element\n",
    "        break \n",
    "        \n",
    "for element in range(50):\n",
    "    if loadFile_mg753Nmg.pul[element].Label == Rec_mg753NmgString:\n",
    "        Group_mg753Nmg = element\n",
    "        break              "
   ]
  },
  {
   "cell_type": "code",
   "execution_count": 76,
   "metadata": {},
   "outputs": [
    {
     "name": "stdout",
     "output_type": "stream",
     "text": [
      "10\n"
     ]
    }
   ],
   "source": [
    "for element in range(50):\n",
    "    if loadFile_mg751Li.pul[element].Label == Rec_mg751LiString:\n",
    "        Group_mg751Li = element\n",
    "        print(Group_mg751Li)\n",
    "        break\n",
    "\n",
    "for element in range(50):\n",
    "    if loadFile_mg751K.pul[element].Label == Rec_mg751KString:\n",
    "        Group_mg751K = element\n",
    "        break \n",
    "        \n",
    "for element in range(50):\n",
    "    if loadFile_mg751Nmg.pul[element].Label == Rec_mg751NmgString:\n",
    "        Group_mg751Nmg = element\n",
    "        break              "
   ]
  },
  {
   "cell_type": "markdown",
   "metadata": {},
   "source": [
    "# find series of three replicates for specific recording conditions"
   ]
  },
  {
   "cell_type": "markdown",
   "metadata": {},
   "source": [
    "## find series for control"
   ]
  },
  {
   "cell_type": "code",
   "execution_count": 77,
   "metadata": {},
   "outputs": [
    {
     "name": "stdout",
     "output_type": "stream",
     "text": [
      "['11', '12', '13']\n"
     ]
    }
   ],
   "source": [
    "VarNaGlu_mg419Li = Solutions_Rec_mg419Li[np.asarray(np.where(Solutions_Rec_mg419Li == 'LiGluSel'))[0,-1]-1]\n",
    "SeriesLi_mg419Li = AllMetaData['LiGluSel'][(AllMetaData.CellID == Rec_mg419Li)].values\n",
    "SeriesLi_mg419Li  = SeriesLi_mg419Li[0].split(\",\")\n",
    "SeriesNa_mg419Li = AllMetaData[VarNaGlu_mg419Li][(AllMetaData.CellID == Rec_mg419Li)].values\n",
    "SeriesNa_mg419Li  = SeriesNa_mg419Li[0].split(\",\")\n",
    "\n",
    "#AllMetaData['NaGluSel4'][(AllMetaData.CellID == Rec_mg419Li)].values\n",
    "\n",
    "VarNaGlu_mg419K = Solutions_Rec_mg419K[np.asarray(np.where(Solutions_Rec_mg419K == 'KGluSel'))[0,-1]-1]\n",
    "SeriesK_mg419K = AllMetaData['KGluSel'][(AllMetaData.CellID == Rec_mg419K)].values\n",
    "SeriesK_mg419K  = SeriesK_mg419K[0].split(\",\")\n",
    "SeriesNa_mg419K = AllMetaData[VarNaGlu_mg419K][(AllMetaData.CellID == Rec_mg419K)].values\n",
    "SeriesNa_mg419K  = SeriesNa_mg419K[0].split(\",\")\n",
    "\n",
    "VarNaGlu_mg419Nmg = Solutions_Rec_mg419Nmg[np.asarray(np.where(Solutions_Rec_mg419Nmg == 'NmgGluSel'))[0,-1]-1]\n",
    "SeriesNmg_mg419Nmg = AllMetaData['NmgGluSel'][(AllMetaData.CellID == Rec_mg419Nmg)].values\n",
    "SeriesNmg_mg419Nmg  = SeriesNmg_mg419Nmg[0].split(\",\")\n",
    "SeriesNa_mg419Nmg = AllMetaData[VarNaGlu_mg419Nmg][(AllMetaData.CellID == Rec_mg419Nmg)].values\n",
    "SeriesNa_mg419Nmg  = SeriesNa_mg419Nmg[0].split(\",\")\n",
    "\n",
    "\n",
    "print(SeriesNa_mg419Li)"
   ]
  },
  {
   "cell_type": "markdown",
   "metadata": {},
   "source": [
    "## find series for chimera"
   ]
  },
  {
   "cell_type": "markdown",
   "metadata": {},
   "source": [
    "# mg742"
   ]
  },
  {
   "cell_type": "code",
   "execution_count": 78,
   "metadata": {
    "scrolled": true
   },
   "outputs": [
    {
     "name": "stdout",
     "output_type": "stream",
     "text": [
      "['13', '14', '15']\n"
     ]
    }
   ],
   "source": [
    "VarNaGlu_mg742Li = Solutions_Rec_mg742Li[np.asarray(np.where(Solutions_Rec_mg742Li == 'LiGluSel'))[0,-1]-1]\n",
    "SeriesLi_mg742Li = AllMetaData['LiGluSel'][(AllMetaData.CellID == Rec_mg742Li)].values\n",
    "SeriesLi_mg742Li  = SeriesLi_mg742Li[0].split(\",\")\n",
    "SeriesNa_mg742Li = AllMetaData[VarNaGlu_mg742Li][(AllMetaData.CellID == Rec_mg742Li)].values\n",
    "SeriesNa_mg742Li  = SeriesNa_mg742Li[0].split(\",\")\n",
    "\n",
    "VarNaGlu_mg742K = Solutions_Rec_mg742K[np.asarray(np.where(Solutions_Rec_mg742K == 'KGluSel'))[0,-1]-1]\n",
    "SeriesK_mg742K = AllMetaData['KGluSel'][(AllMetaData.CellID == Rec_mg742K)].values\n",
    "SeriesK_mg742K  = SeriesK_mg742K[0].split(\",\")\n",
    "SeriesNa_mg742K = AllMetaData[VarNaGlu_mg742K][(AllMetaData.CellID == Rec_mg742K)].values\n",
    "SeriesNa_mg742K  = SeriesNa_mg742K[0].split(\",\")\n",
    "\n",
    "VarNaGlu_mg742Nmg = Solutions_Rec_mg742Nmg[np.asarray(np.where(Solutions_Rec_mg742Nmg == 'NmgGluSel'))[0,-1]-1]\n",
    "SeriesNmg_mg742Nmg = AllMetaData['NmgGluSel'][(AllMetaData.CellID == Rec_mg742Nmg)].values\n",
    "SeriesNmg_mg742Nmg  = SeriesNmg_mg742Nmg[0].split(\",\")\n",
    "SeriesNa_mg742Nmg = AllMetaData[VarNaGlu_mg742Nmg][(AllMetaData.CellID == Rec_mg742Nmg)].values\n",
    "SeriesNa_mg742Nmg  = SeriesNa_mg742Nmg[0].split(\",\")\n",
    "\n",
    "\n",
    "\n",
    "print(SeriesNa_mg742Nmg)\n"
   ]
  },
  {
   "cell_type": "markdown",
   "metadata": {},
   "source": [
    "## find series for alanine mutants"
   ]
  },
  {
   "cell_type": "code",
   "execution_count": 79,
   "metadata": {},
   "outputs": [
    {
     "name": "stdout",
     "output_type": "stream",
     "text": [
      "['3', '4', '5']\n"
     ]
    }
   ],
   "source": [
    "VarNaGlu_mg738Li = Solutions_Rec_mg738Li[np.asarray(np.where(Solutions_Rec_mg738Li == 'LiGluSel'))[0,-1]-1]\n",
    "SeriesLi_mg738Li = AllMetaData['LiGluSel'][(AllMetaData.CellID == Rec_mg738Li)].values\n",
    "SeriesLi_mg738Li  = SeriesLi_mg738Li[0].split(\",\")\n",
    "SeriesNa_mg738Li = AllMetaData[VarNaGlu_mg738Li][(AllMetaData.CellID == Rec_mg738Li)].values\n",
    "SeriesNa_mg738Li  = SeriesNa_mg738Li[0].split(\",\")\n",
    "\n",
    "VarNaGlu_mg738K = Solutions_Rec_mg738K[np.asarray(np.where(Solutions_Rec_mg738K == 'KGluSel'))[0,-1]-1]\n",
    "SeriesK_mg738K = AllMetaData['KGluSel'][(AllMetaData.CellID == Rec_mg738K)].values\n",
    "SeriesK_mg738K  = SeriesK_mg738K[0].split(\",\")\n",
    "SeriesNa_mg738K = AllMetaData[VarNaGlu_mg738K][(AllMetaData.CellID == Rec_mg738K)].values\n",
    "SeriesNa_mg738K  = SeriesNa_mg738K[0].split(\",\")\n",
    "\n",
    "VarNaGlu_mg738Nmg = Solutions_Rec_mg738Nmg[np.asarray(np.where(Solutions_Rec_mg738Nmg == 'NmgGluSel'))[0,-1]-1]\n",
    "SeriesNmg_mg738Nmg = AllMetaData['NmgGluSel'][(AllMetaData.CellID == Rec_mg738Nmg)].values\n",
    "SeriesNmg_mg738Nmg  = SeriesNmg_mg738Nmg[0].split(\",\")\n",
    "SeriesNa_mg738Nmg = AllMetaData[VarNaGlu_mg738Nmg][(AllMetaData.CellID == Rec_mg738Nmg)].values\n",
    "SeriesNa_mg738Nmg  = SeriesNa_mg738Nmg[0].split(\",\")\n",
    "\n",
    "print(SeriesNa_mg738Nmg)"
   ]
  },
  {
   "cell_type": "code",
   "execution_count": 80,
   "metadata": {},
   "outputs": [
    {
     "name": "stdout",
     "output_type": "stream",
     "text": [
      "['14', '15', '16']\n"
     ]
    }
   ],
   "source": [
    "VarNaGlu_mg739Li = Solutions_Rec_mg739Li[np.asarray(np.where(Solutions_Rec_mg739Li == 'LiGluSel'))[0,-1]-1]\n",
    "SeriesLi_mg739Li = AllMetaData['LiGluSel'][(AllMetaData.CellID == Rec_mg739Li)].values\n",
    "SeriesLi_mg739Li  = SeriesLi_mg739Li[0].split(\",\")\n",
    "SeriesNa_mg739Li = AllMetaData[VarNaGlu_mg739Li][(AllMetaData.CellID == Rec_mg739Li)].values\n",
    "SeriesNa_mg739Li  = SeriesNa_mg739Li[0].split(\",\")\n",
    "\n",
    "VarNaGlu_mg739K = Solutions_Rec_mg739K[np.asarray(np.where(Solutions_Rec_mg739K == 'KGluSel'))[0,-1]-1]\n",
    "SeriesK_mg739K = AllMetaData['KGluSel'][(AllMetaData.CellID == Rec_mg739K)].values\n",
    "SeriesK_mg739K  = SeriesK_mg739K[0].split(\",\")\n",
    "SeriesNa_mg739K = AllMetaData[VarNaGlu_mg739K][(AllMetaData.CellID == Rec_mg739K)].values\n",
    "SeriesNa_mg739K  = SeriesNa_mg739K[0].split(\",\")\n",
    "\n",
    "VarNaGlu_mg739Nmg = Solutions_Rec_mg739Nmg[np.asarray(np.where(Solutions_Rec_mg739Nmg == 'NmgGluSel'))[0,-1]-1]\n",
    "SeriesNmg_mg739Nmg = AllMetaData['NmgGluSel'][(AllMetaData.CellID == Rec_mg739Nmg)].values\n",
    "SeriesNmg_mg739Nmg  = SeriesNmg_mg739Nmg[0].split(\",\")\n",
    "SeriesNa_mg739Nmg = AllMetaData[VarNaGlu_mg739Nmg][(AllMetaData.CellID == Rec_mg739Nmg)].values\n",
    "SeriesNa_mg739Nmg  = SeriesNa_mg739Nmg[0].split(\",\")\n",
    "\n",
    "print(SeriesNa_mg739Nmg)"
   ]
  },
  {
   "cell_type": "code",
   "execution_count": 81,
   "metadata": {},
   "outputs": [
    {
     "name": "stdout",
     "output_type": "stream",
     "text": [
      "['4', '5', '6']\n"
     ]
    }
   ],
   "source": [
    "VarNaGlu_mg740Li = Solutions_Rec_mg740Li[np.asarray(np.where(Solutions_Rec_mg740Li == 'LiGluSel'))[0,-1]-1]\n",
    "SeriesLi_mg740Li = AllMetaData['LiGluSel'][(AllMetaData.CellID == Rec_mg740Li)].values\n",
    "SeriesLi_mg740Li  = SeriesLi_mg740Li[0].split(\",\")\n",
    "SeriesNa_mg740Li = AllMetaData[VarNaGlu_mg740Li][(AllMetaData.CellID == Rec_mg740Li)].values\n",
    "SeriesNa_mg740Li  = SeriesNa_mg740Li[0].split(\",\")\n",
    "\n",
    "VarNaGlu_mg740K = Solutions_Rec_mg740K[np.asarray(np.where(Solutions_Rec_mg740K == 'KGluSel'))[0,-1]-1]\n",
    "SeriesK_mg740K = AllMetaData['KGluSel'][(AllMetaData.CellID == Rec_mg740K)].values\n",
    "SeriesK_mg740K  = SeriesK_mg740K[0].split(\",\")\n",
    "SeriesNa_mg740K = AllMetaData[VarNaGlu_mg740K][(AllMetaData.CellID == Rec_mg740K)].values\n",
    "SeriesNa_mg740K  = SeriesNa_mg740K[0].split(\",\")\n",
    "\n",
    "VarNaGlu_mg740Nmg = Solutions_Rec_mg740Nmg[np.asarray(np.where(Solutions_Rec_mg740Nmg == 'NmgGluSel'))[0,-1]-1]\n",
    "SeriesNmg_mg740Nmg = AllMetaData['NmgGluSel'][(AllMetaData.CellID == Rec_mg740Nmg)].values\n",
    "SeriesNmg_mg740Nmg  = SeriesNmg_mg740Nmg[0].split(\",\")\n",
    "SeriesNa_mg740Nmg = AllMetaData[VarNaGlu_mg740Nmg][(AllMetaData.CellID == Rec_mg740Nmg)].values\n",
    "SeriesNa_mg740Nmg  = SeriesNa_mg740Nmg[0].split(\",\")\n",
    "\n",
    "print(SeriesNa_mg740Nmg)"
   ]
  },
  {
   "cell_type": "code",
   "execution_count": 82,
   "metadata": {},
   "outputs": [
    {
     "name": "stdout",
     "output_type": "stream",
     "text": [
      "['3', '4', '5']\n"
     ]
    }
   ],
   "source": [
    "VarNaGlu_mg748Li = Solutions_Rec_mg748Li[np.asarray(np.where(Solutions_Rec_mg748Li == 'LiGluSel'))[0,-1]-1]\n",
    "SeriesLi_mg748Li = AllMetaData['LiGluSel'][(AllMetaData.CellID == Rec_mg748Li)].values\n",
    "SeriesLi_mg748Li  = SeriesLi_mg748Li[0].split(\",\")\n",
    "SeriesNa_mg748Li = AllMetaData[VarNaGlu_mg748Li][(AllMetaData.CellID == Rec_mg748Li)].values\n",
    "SeriesNa_mg748Li  = SeriesNa_mg748Li[0].split(\",\")\n",
    "\n",
    "VarNaGlu_mg748K = Solutions_Rec_mg748K[np.asarray(np.where(Solutions_Rec_mg748K == 'KGluSel'))[0,-1]-1]\n",
    "SeriesK_mg748K = AllMetaData['KGluSel'][(AllMetaData.CellID == Rec_mg748K)].values\n",
    "SeriesK_mg748K  = SeriesK_mg748K[0].split(\",\")\n",
    "SeriesNa_mg748K = AllMetaData[VarNaGlu_mg748K][(AllMetaData.CellID == Rec_mg748K)].values\n",
    "SeriesNa_mg748K  = SeriesNa_mg748K[0].split(\",\")\n",
    "\n",
    "VarNaGlu_mg748Nmg = Solutions_Rec_mg748Nmg[np.asarray(np.where(Solutions_Rec_mg748Nmg == 'NmgGluSel'))[0,-1]-1]\n",
    "SeriesNmg_mg748Nmg = AllMetaData['NmgGluSel'][(AllMetaData.CellID == Rec_mg748Nmg)].values\n",
    "SeriesNmg_mg748Nmg  = SeriesNmg_mg748Nmg[0].split(\",\")\n",
    "SeriesNa_mg748Nmg = AllMetaData[VarNaGlu_mg748Nmg][(AllMetaData.CellID == Rec_mg748Nmg)].values\n",
    "SeriesNa_mg748Nmg  = SeriesNa_mg748Nmg[0].split(\",\")\n",
    "\n",
    "print(SeriesNa_mg748Nmg)"
   ]
  },
  {
   "cell_type": "code",
   "execution_count": 83,
   "metadata": {},
   "outputs": [
    {
     "name": "stdout",
     "output_type": "stream",
     "text": [
      "['13', '14', '15']\n"
     ]
    }
   ],
   "source": [
    "VarNaGlu_mg759Li = Solutions_Rec_mg759Li[np.asarray(np.where(Solutions_Rec_mg759Li == 'LiGluSel'))[0,-1]-1]\n",
    "SeriesLi_mg759Li = AllMetaData['LiGluSel'][(AllMetaData.CellID == Rec_mg759Li)].values\n",
    "SeriesLi_mg759Li  = SeriesLi_mg759Li[0].split(\",\")\n",
    "SeriesNa_mg759Li = AllMetaData[VarNaGlu_mg759Li][(AllMetaData.CellID == Rec_mg759Li)].values\n",
    "SeriesNa_mg759Li  = SeriesNa_mg759Li[0].split(\",\")\n",
    "\n",
    "VarNaGlu_mg759K = Solutions_Rec_mg759K[np.asarray(np.where(Solutions_Rec_mg759K == 'KGluSel'))[0,-1]-1]\n",
    "SeriesK_mg759K = AllMetaData['KGluSel'][(AllMetaData.CellID == Rec_mg759K)].values\n",
    "SeriesK_mg759K  = SeriesK_mg759K[0].split(\",\")\n",
    "SeriesNa_mg759K = AllMetaData[VarNaGlu_mg759K][(AllMetaData.CellID == Rec_mg759K)].values\n",
    "SeriesNa_mg759K  = SeriesNa_mg759K[0].split(\",\")\n",
    "\n",
    "VarNaGlu_mg759Nmg = Solutions_Rec_mg759Nmg[np.asarray(np.where(Solutions_Rec_mg759Nmg == 'NmgGluSel'))[0,-1]-1]\n",
    "SeriesNmg_mg759Nmg = AllMetaData['NmgGluSel'][(AllMetaData.CellID == Rec_mg759Nmg)].values\n",
    "SeriesNmg_mg759Nmg  = SeriesNmg_mg759Nmg[0].split(\",\")\n",
    "SeriesNa_mg759Nmg = AllMetaData[VarNaGlu_mg759Nmg][(AllMetaData.CellID == Rec_mg759Nmg)].values\n",
    "SeriesNa_mg759Nmg  = SeriesNa_mg759Nmg[0].split(\",\")\n",
    "\n",
    "print(SeriesNa_mg759Nmg)"
   ]
  },
  {
   "cell_type": "code",
   "execution_count": 84,
   "metadata": {},
   "outputs": [
    {
     "name": "stdout",
     "output_type": "stream",
     "text": [
      "['15', '16', '17']\n"
     ]
    }
   ],
   "source": [
    "VarNaGlu_mg750Li = Solutions_Rec_mg750Li[np.asarray(np.where(Solutions_Rec_mg750Li == 'LiGluSel'))[0,-1]-1]\n",
    "SeriesLi_mg750Li = AllMetaData['LiGluSel'][(AllMetaData.CellID == Rec_mg750Li)].values\n",
    "SeriesLi_mg750Li  = SeriesLi_mg750Li[0].split(\",\")\n",
    "SeriesNa_mg750Li = AllMetaData[VarNaGlu_mg750Li][(AllMetaData.CellID == Rec_mg750Li)].values\n",
    "SeriesNa_mg750Li  = SeriesNa_mg750Li[0].split(\",\")\n",
    "\n",
    "VarNaGlu_mg750K = Solutions_Rec_mg750K[np.asarray(np.where(Solutions_Rec_mg750K == 'KGluSel'))[0,-1]-1]\n",
    "SeriesK_mg750K = AllMetaData['KGluSel'][(AllMetaData.CellID == Rec_mg750K)].values\n",
    "SeriesK_mg750K  = SeriesK_mg750K[0].split(\",\")\n",
    "SeriesNa_mg750K = AllMetaData[VarNaGlu_mg750K][(AllMetaData.CellID == Rec_mg750K)].values\n",
    "SeriesNa_mg750K  = SeriesNa_mg750K[0].split(\",\")\n",
    "\n",
    "VarNaGlu_mg750Nmg = Solutions_Rec_mg750Nmg[np.asarray(np.where(Solutions_Rec_mg750Nmg == 'NmgGluSel'))[0,-1]-1]\n",
    "SeriesNmg_mg750Nmg = AllMetaData['NmgGluSel'][(AllMetaData.CellID == Rec_mg750Nmg)].values\n",
    "SeriesNmg_mg750Nmg  = SeriesNmg_mg750Nmg[0].split(\",\")\n",
    "SeriesNa_mg750Nmg = AllMetaData[VarNaGlu_mg750Nmg][(AllMetaData.CellID == Rec_mg750Nmg)].values\n",
    "SeriesNa_mg750Nmg  = SeriesNa_mg750Nmg[0].split(\",\")\n",
    "\n",
    "print(SeriesNa_mg750Nmg)"
   ]
  },
  {
   "cell_type": "code",
   "execution_count": 85,
   "metadata": {},
   "outputs": [
    {
     "name": "stdout",
     "output_type": "stream",
     "text": [
      "['13', '14', '15']\n"
     ]
    }
   ],
   "source": [
    "VarNaGlu_mg760Li = Solutions_Rec_mg760Li[np.asarray(np.where(Solutions_Rec_mg760Li == 'LiGluSel'))[0,-1]-1]\n",
    "SeriesLi_mg760Li = AllMetaData['LiGluSel'][(AllMetaData.CellID == Rec_mg760Li)].values\n",
    "SeriesLi_mg760Li  = SeriesLi_mg760Li[0].split(\",\")\n",
    "SeriesNa_mg760Li = AllMetaData[VarNaGlu_mg760Li][(AllMetaData.CellID == Rec_mg760Li)].values\n",
    "SeriesNa_mg760Li  = SeriesNa_mg760Li[0].split(\",\")\n",
    "\n",
    "VarNaGlu_mg760K = Solutions_Rec_mg760K[np.asarray(np.where(Solutions_Rec_mg760K == 'KGluSel'))[0,-1]-1]\n",
    "SeriesK_mg760K = AllMetaData['KGluSel'][(AllMetaData.CellID == Rec_mg760K)].values\n",
    "SeriesK_mg760K  = SeriesK_mg760K[0].split(\",\")\n",
    "SeriesNa_mg760K = AllMetaData[VarNaGlu_mg760K][(AllMetaData.CellID == Rec_mg760K)].values\n",
    "SeriesNa_mg760K  = SeriesNa_mg760K[0].split(\",\")\n",
    "\n",
    "VarNaGlu_mg760Nmg = Solutions_Rec_mg760Nmg[np.asarray(np.where(Solutions_Rec_mg760Nmg == 'NmgGluSel'))[0,-1]-1]\n",
    "SeriesNmg_mg760Nmg = AllMetaData['NmgGluSel'][(AllMetaData.CellID == Rec_mg760Nmg)].values\n",
    "SeriesNmg_mg760Nmg  = SeriesNmg_mg760Nmg[0].split(\",\")\n",
    "SeriesNa_mg760Nmg = AllMetaData[VarNaGlu_mg760Nmg][(AllMetaData.CellID == Rec_mg760Nmg)].values\n",
    "SeriesNa_mg760Nmg  = SeriesNa_mg760Nmg[0].split(\",\")\n",
    "\n",
    "print(SeriesNa_mg760Nmg)"
   ]
  },
  {
   "cell_type": "code",
   "execution_count": 86,
   "metadata": {},
   "outputs": [
    {
     "name": "stdout",
     "output_type": "stream",
     "text": [
      "['29', '30', '31']\n"
     ]
    }
   ],
   "source": [
    "VarNaGlu_mg753Li = Solutions_Rec_mg753Li[np.asarray(np.where(Solutions_Rec_mg753Li == 'LiGluSel'))[0,-1]-1]\n",
    "SeriesLi_mg753Li = AllMetaData['LiGluSel'][(AllMetaData.CellID == Rec_mg753Li)].values\n",
    "SeriesLi_mg753Li  = SeriesLi_mg753Li[0].split(\",\")\n",
    "SeriesNa_mg753Li = AllMetaData[VarNaGlu_mg753Li][(AllMetaData.CellID == Rec_mg753Li)].values\n",
    "SeriesNa_mg753Li  = SeriesNa_mg753Li[0].split(\",\")\n",
    "\n",
    "VarNaGlu_mg753K = Solutions_Rec_mg753K[np.asarray(np.where(Solutions_Rec_mg753K == 'KGluSel'))[0,-1]-1]\n",
    "SeriesK_mg753K = AllMetaData['KGluSel'][(AllMetaData.CellID == Rec_mg753K)].values\n",
    "SeriesK_mg753K  = SeriesK_mg753K[0].split(\",\")\n",
    "SeriesNa_mg753K = AllMetaData[VarNaGlu_mg753K][(AllMetaData.CellID == Rec_mg753K)].values\n",
    "SeriesNa_mg753K  = SeriesNa_mg753K[0].split(\",\")\n",
    "\n",
    "VarNaGlu_mg753Nmg = Solutions_Rec_mg753Nmg[np.asarray(np.where(Solutions_Rec_mg753Nmg == 'NmgGluSel'))[0,-1]-1]\n",
    "SeriesNmg_mg753Nmg = AllMetaData['NmgGluSel'][(AllMetaData.CellID == Rec_mg753Nmg)].values\n",
    "SeriesNmg_mg753Nmg  = SeriesNmg_mg753Nmg[0].split(\",\")\n",
    "SeriesNa_mg753Nmg = AllMetaData[VarNaGlu_mg753Nmg][(AllMetaData.CellID == Rec_mg753Nmg)].values\n",
    "SeriesNa_mg753Nmg  = SeriesNa_mg753Nmg[0].split(\",\")\n",
    "\n",
    "print(SeriesNa_mg753Nmg)"
   ]
  },
  {
   "cell_type": "code",
   "execution_count": 87,
   "metadata": {},
   "outputs": [
    {
     "name": "stdout",
     "output_type": "stream",
     "text": [
      "['21', '22', '23']\n"
     ]
    }
   ],
   "source": [
    "VarNaGlu_mg751Li = Solutions_Rec_mg751Li[np.asarray(np.where(Solutions_Rec_mg751Li == 'LiGluSel'))[0,-1]-1]\n",
    "SeriesLi_mg751Li = AllMetaData['LiGluSel'][(AllMetaData.CellID == Rec_mg751Li)].values\n",
    "SeriesLi_mg751Li  = SeriesLi_mg751Li[0].split(\",\")\n",
    "SeriesNa_mg751Li = AllMetaData[VarNaGlu_mg751Li][(AllMetaData.CellID == Rec_mg751Li)].values\n",
    "SeriesNa_mg751Li  = SeriesNa_mg751Li[0].split(\",\")\n",
    "\n",
    "VarNaGlu_mg751K = Solutions_Rec_mg751K[np.asarray(np.where(Solutions_Rec_mg751K == 'KGluSel'))[0,-1]-1]\n",
    "SeriesK_mg751K = AllMetaData['KGluSel'][(AllMetaData.CellID == Rec_mg751K)].values\n",
    "SeriesK_mg751K  = SeriesK_mg751K[0].split(\",\")\n",
    "SeriesNa_mg751K = AllMetaData[VarNaGlu_mg751K][(AllMetaData.CellID == Rec_mg751K)].values\n",
    "SeriesNa_mg751K  = SeriesNa_mg751K[0].split(\",\")\n",
    "\n",
    "VarNaGlu_mg751Nmg = Solutions_Rec_mg751Nmg[np.asarray(np.where(Solutions_Rec_mg751Nmg == 'NmgGluSel'))[0,-1]-1]\n",
    "SeriesNmg_mg751Nmg = AllMetaData['NmgGluSel'][(AllMetaData.CellID == Rec_mg751Nmg)].values\n",
    "SeriesNmg_mg751Nmg  = SeriesNmg_mg751Nmg[0].split(\",\")\n",
    "SeriesNa_mg751Nmg = AllMetaData[VarNaGlu_mg751Nmg][(AllMetaData.CellID == Rec_mg751Nmg)].values\n",
    "SeriesNa_mg751Nmg  = SeriesNa_mg751Nmg[0].split(\",\")\n",
    "\n",
    "print(SeriesNa_mg751Nmg)"
   ]
  },
  {
   "cell_type": "markdown",
   "metadata": {},
   "source": [
    "# voltage trace (only necessary for displaying Raw traces)"
   ]
  },
  {
   "cell_type": "code",
   "execution_count": 88,
   "metadata": {},
   "outputs": [],
   "source": [
    "Vol_mg419Li1 = []\n",
    "for i in range(0,9):#(0,len(tt)):\n",
    "    Vol_mg419Li1.append(loadFile_mg419Li.data[Group_mg419Li,int(SeriesNa_mg419Li[0])-1,i,1])\n",
    "    \n",
    "Vol_mg419Li2 = []\n",
    "for j in range(0,9):#(0,len(tt)):\n",
    "    Vol_mg419Li2.append(loadFile_mg419Li.data[Group_mg419Li,int(SeriesNa_mg419Li[1])-1,j,1])\n",
    "    \n",
    "Vol_mg419Li3 = []\n",
    "for k in range(0,9):#(0,len(tt)):\n",
    "    Vol_mg419Li3.append(loadFile_mg419Li.data[Group_mg419Li,int(SeriesNa_mg419Li[2])-1,k,1])\n",
    "    \n",
    "Vol_mg419LiMEAN =[]\n",
    "for m in range(0,9):\n",
    "    Vol_mg419LiMEAN.append(((Vol_mg419Li1[m]+Vol_mg419Li2[m]+Vol_mg419Li3[m])/3)*1000)"
   ]
  },
  {
   "cell_type": "markdown",
   "metadata": {},
   "source": [
    "# current traces (only necessary for displaying Raw traces)"
   ]
  },
  {
   "cell_type": "markdown",
   "metadata": {},
   "source": [
    "### NaGlu mg419 and LiGlu mg419"
   ]
  },
  {
   "cell_type": "code",
   "execution_count": 89,
   "metadata": {},
   "outputs": [],
   "source": [
    "INa_mg419Li1 = []\n",
    "for i in range(0,9):#(0,len(tt)):\n",
    "    INa_mg419Li1.append(loadFile_mg419Li.data[Group_mg419Li,int(SeriesNa_mg419Li[0])-1,i,0])\n",
    "    \n",
    "INa_mg419Li2 = []\n",
    "for j in range(0,9):#(0,len(tt)):\n",
    "    INa_mg419Li2.append(loadFile_mg419Li.data[Group_mg419Li,int(SeriesNa_mg419Li[1])-1,j,0])\n",
    "    \n",
    "INa_mg419Li3 = []\n",
    "for k in range(0,9):#(0,len(tt)):\n",
    "    INa_mg419Li3.append(loadFile_mg419Li.data[Group_mg419Li,int(SeriesNa_mg419Li[2])-1,k,0])\n",
    "    \n",
    "INa_mg419LiMEAN =[]\n",
    "for m in range(0,9):\n",
    "    INa_mg419LiMEAN.append(((INa_mg419Li1[m]+INa_mg419Li2[m]+INa_mg419Li3[m])/3)*1000000)"
   ]
  },
  {
   "cell_type": "code",
   "execution_count": 90,
   "metadata": {},
   "outputs": [],
   "source": [
    "ILi_mg419Li1 = []\n",
    "for i in range(0,9):#(0,len(tt)):\n",
    "    ILi_mg419Li1.append(loadFile_mg419Li.data[Group_mg419Li,int(SeriesLi_mg419Li[0])-1,i,0])\n",
    "    \n",
    "ILi_mg419Li2 = []\n",
    "for j in range(0,9):#(0,len(tt)):\n",
    "    ILi_mg419Li2.append(loadFile_mg419Li.data[Group_mg419Li,int(SeriesLi_mg419Li[1])-1,j,0])\n",
    "    \n",
    "ILi_mg419Li3 = []\n",
    "for k in range(0,9):#(0,len(tt)):\n",
    "    ILi_mg419Li3.append(loadFile_mg419Li.data[Group_mg419Li,int(SeriesLi_mg419Li[2])-1,k,0])\n",
    "    \n",
    "ILi_mg419LiMEAN =[]\n",
    "for m in range(0,9):\n",
    "    ILi_mg419LiMEAN.append(((ILi_mg419Li1[m]+ILi_mg419Li2[m]+ILi_mg419Li3[m])/3)*1000000)"
   ]
  },
  {
   "cell_type": "markdown",
   "metadata": {},
   "source": [
    "# Transform Data from Selectivity_Ratio sheet, which were analyzed via Matlab"
   ]
  },
  {
   "cell_type": "markdown",
   "metadata": {},
   "source": [
    "## transform IV mean values of mg419 "
   ]
  },
  {
   "cell_type": "code",
   "execution_count": 91,
   "metadata": {},
   "outputs": [],
   "source": [
    "################### Li #######\n",
    "Voltages_mg419Li = []\n",
    "Currents_mg419Li = []\n",
    "\n",
    "for volt in range(0,len(raw_data_Rec_mg419Li)):\n",
    "    Voltages_mg419Li.append([raw_data_Rec_mg419Li[volt,5:14]]) #TODO: CHANGE\n",
    "    Currents_mg419Li.append([raw_data_Rec_mg419Li[volt,14:23]])\n",
    "\n",
    "#change to mV and uA    \n",
    "Voltages_mg419LiInmV = np.multiply(1000,Voltages_mg419Li) #becomes a np.array with shape 7,1,9 \n",
    "Currents_mg419LiInuA = np.multiply(1000000,Currents_mg419Li)    \n",
    "  \n",
    "#reshape Array\n",
    "Voltages_mg419LiInmV = Voltages_mg419LiInmV.reshape(Voltages_mg419LiInmV.shape[0],Voltages_mg419LiInmV.shape[2]) #reshape 7,1,9 \n",
    "Currents_mg419LiInuA = Currents_mg419LiInuA.reshape(Currents_mg419LiInuA.shape[0],Currents_mg419LiInuA.shape[2])   \n",
    "\n",
    "\n",
    "################### K #######\n",
    "Voltages_mg419K = []\n",
    "Currents_mg419K = []\n",
    "\n",
    "for volt in range(0,len(raw_data_Rec_mg419K)):\n",
    "    Voltages_mg419K.append([raw_data_Rec_mg419K[volt,5:14]]) #TODO: CHANGE\n",
    "    Currents_mg419K.append([raw_data_Rec_mg419K[volt,14:23]])\n",
    "\n",
    "#change to mV and uA    \n",
    "Voltages_mg419KInmV = np.multiply(1000,Voltages_mg419K) #becomes a np.array with shape 7,1,9 \n",
    "Currents_mg419KInuA = np.multiply(1000000,Currents_mg419K)    \n",
    "  \n",
    "#reshape Array\n",
    "Voltages_mg419KInmV = Voltages_mg419KInmV.reshape(Voltages_mg419KInmV.shape[0],Voltages_mg419KInmV.shape[2]) #reshape 7,1,9 \n",
    "Currents_mg419KInuA = Currents_mg419KInuA.reshape(Currents_mg419KInuA.shape[0],Currents_mg419KInuA.shape[2])   \n",
    "\n",
    "################### Nmg #######\n",
    "\n",
    "Voltages_mg419Nmg = []\n",
    "Currents_mg419Nmg = []\n",
    "\n",
    "for volt in range(0,len(raw_data_Rec_mg419Nmg)):\n",
    "    Voltages_mg419Nmg.append([raw_data_Rec_mg419Nmg[volt,5:14]]) #TODO: CHANGE\n",
    "    Currents_mg419Nmg.append([raw_data_Rec_mg419Nmg[volt,14:23]])\n",
    "\n",
    "#change to mV and uA    \n",
    "Voltages_mg419NmgInmV = np.multiply(1000,Voltages_mg419Nmg) #becomes a np.array with shape 7,1,9 \n",
    "Currents_mg419NmgInuA = np.multiply(1000000,Currents_mg419Nmg)    \n",
    "  \n",
    "#reshape Array\n",
    "Voltages_mg419NmgInmV = Voltages_mg419NmgInmV.reshape(Voltages_mg419NmgInmV.shape[0],Voltages_mg419NmgInmV.shape[2]) #reshape 7,1,9 \n",
    "Currents_mg419NmgInuA = Currents_mg419NmgInuA.reshape(Currents_mg419NmgInuA.shape[0],Currents_mg419NmgInuA.shape[2])   \n",
    "\n",
    "\n",
    "\n"
   ]
  },
  {
   "cell_type": "markdown",
   "metadata": {},
   "source": [
    "## transform IV mean values of mg419\n"
   ]
  },
  {
   "cell_type": "code",
   "execution_count": 92,
   "metadata": {},
   "outputs": [],
   "source": [
    "####################### Li ##### \n",
    "Voltages_mg742Li = []\n",
    "Currents_mg742Li = []\n",
    "\n",
    "for volt in range(0,len(raw_data_Rec_mg742Li)):\n",
    "    Voltages_mg742Li.append([raw_data_Rec_mg742Li[volt,5:14]]) #TODO: CHANGE\n",
    "    Currents_mg742Li.append([raw_data_Rec_mg742Li[volt,14:23]])\n",
    "\n",
    "#change to mV and uA    \n",
    "Voltages_mg742LiInmV = np.multiply(1000,Voltages_mg742Li) #becomes a np.array with shape 7,1,9 \n",
    "Currents_mg742LiInuA = np.multiply(1000000,Currents_mg742Li)    \n",
    "  \n",
    "#reshape Array\n",
    "Voltages_mg742LiInmV = Voltages_mg742LiInmV.reshape(Voltages_mg742LiInmV.shape[0],Voltages_mg742LiInmV.shape[2]) #reshape 7,1,9 \n",
    "Currents_mg742LiInuA = Currents_mg742LiInuA.reshape(Currents_mg742LiInuA.shape[0],Currents_mg742LiInuA.shape[2])   \n",
    "\n",
    "####################### K ##### \n",
    "Voltages_mg742K = []\n",
    "Currents_mg742K = []\n",
    "\n",
    "for volt in range(0,len(raw_data_Rec_mg742K)):\n",
    "    Voltages_mg742K.append([raw_data_Rec_mg742K[volt,5:14]]) #TODO: CHANGE\n",
    "    Currents_mg742K.append([raw_data_Rec_mg742K[volt,14:23]])\n",
    "\n",
    "#change to mV and uA    \n",
    "Voltages_mg742KInmV = np.multiply(1000,Voltages_mg742K) #becomes a np.array with shape 7,1,9 \n",
    "Currents_mg742KInuA = np.multiply(1000000,Currents_mg742K)    \n",
    "  \n",
    "#reshape Array\n",
    "Voltages_mg742KInmV = Voltages_mg742KInmV.reshape(Voltages_mg742KInmV.shape[0],Voltages_mg742KInmV.shape[2]) #reshape 7,1,9 \n",
    "Currents_mg742KInuA = Currents_mg742KInuA.reshape(Currents_mg742KInuA.shape[0],Currents_mg742KInuA.shape[2])   \n",
    "\n",
    "####################### Nmg ##### \n",
    "Voltages_mg742Nmg = []\n",
    "Currents_mg742Nmg = []\n",
    "\n",
    "for volt in range(0,len(raw_data_Rec_mg742Nmg)):\n",
    "    Voltages_mg742Nmg.append([raw_data_Rec_mg742Nmg[volt,5:14]]) #TODO: CHANGE\n",
    "    Currents_mg742Nmg.append([raw_data_Rec_mg742Nmg[volt,14:23]])\n",
    "\n",
    "#change to mV and uA    \n",
    "Voltages_mg742NmgInmV = np.multiply(1000,Voltages_mg742Nmg) #becomes a np.array with shape 7,1,9 \n",
    "Currents_mg742NmgInuA = np.multiply(1000000,Currents_mg742Nmg)    \n",
    "  \n",
    "#reshape Array\n",
    "Voltages_mg742NmgInmV = Voltages_mg742NmgInmV.reshape(Voltages_mg742NmgInmV.shape[0],Voltages_mg742NmgInmV.shape[2]) #reshape 7,1,9 \n",
    "Currents_mg742NmgInuA = Currents_mg742NmgInuA.reshape(Currents_mg742NmgInuA.shape[0],Currents_mg742NmgInuA.shape[2])   \n"
   ]
  },
  {
   "cell_type": "markdown",
   "metadata": {},
   "source": [
    "## transform IV mean values of alanine mutants\n"
   ]
  },
  {
   "cell_type": "code",
   "execution_count": 93,
   "metadata": {},
   "outputs": [],
   "source": [
    "####################### Li ##### \n",
    "Voltages_mg738Li = []\n",
    "Currents_mg738Li = []\n",
    "\n",
    "for volt in range(0,len(raw_data_Rec_mg738Li)):\n",
    "    Voltages_mg738Li.append([raw_data_Rec_mg738Li[volt,5:14]]) #TODO: CHANGE\n",
    "    Currents_mg738Li.append([raw_data_Rec_mg738Li[volt,14:23]])\n",
    "\n",
    "#change to mV and uA    \n",
    "Voltages_mg738LiInmV = np.multiply(1000,Voltages_mg738Li) #becomes a np.array with shape 7,1,9 \n",
    "Currents_mg738LiInuA = np.multiply(1000000,Currents_mg738Li)    \n",
    "  \n",
    "#reshape Array\n",
    "Voltages_mg738LiInmV = Voltages_mg738LiInmV.reshape(Voltages_mg738LiInmV.shape[0],Voltages_mg738LiInmV.shape[2]) #reshape 7,1,9 \n",
    "Currents_mg738LiInuA = Currents_mg738LiInuA.reshape(Currents_mg738LiInuA.shape[0],Currents_mg738LiInuA.shape[2])   \n",
    "\n",
    "####################### K ##### \n",
    "Voltages_mg738K = []\n",
    "Currents_mg738K = []\n",
    "\n",
    "for volt in range(0,len(raw_data_Rec_mg738K)):\n",
    "    Voltages_mg738K.append([raw_data_Rec_mg738K[volt,5:14]]) #TODO: CHANGE\n",
    "    Currents_mg738K.append([raw_data_Rec_mg738K[volt,14:23]])\n",
    "\n",
    "#change to mV and uA    \n",
    "Voltages_mg738KInmV = np.multiply(1000,Voltages_mg738K) #becomes a np.array with shape 7,1,9 \n",
    "Currents_mg738KInuA = np.multiply(1000000,Currents_mg738K)    \n",
    "  \n",
    "#reshape Array\n",
    "Voltages_mg738KInmV = Voltages_mg738KInmV.reshape(Voltages_mg738KInmV.shape[0],Voltages_mg738KInmV.shape[2]) #reshape 7,1,9 \n",
    "Currents_mg738KInuA = Currents_mg738KInuA.reshape(Currents_mg738KInuA.shape[0],Currents_mg738KInuA.shape[2])   \n",
    "\n",
    "####################### Nmg ##### \n",
    "Voltages_mg738Nmg = []\n",
    "Currents_mg738Nmg = []\n",
    "\n",
    "for volt in range(0,len(raw_data_Rec_mg738Nmg)):\n",
    "    Voltages_mg738Nmg.append([raw_data_Rec_mg738Nmg[volt,5:14]]) #TODO: CHANGE\n",
    "    Currents_mg738Nmg.append([raw_data_Rec_mg738Nmg[volt,14:23]])\n",
    "\n",
    "#change to mV and uA    \n",
    "Voltages_mg738NmgInmV = np.multiply(1000,Voltages_mg738Nmg) #becomes a np.array with shape 7,1,9 \n",
    "Currents_mg738NmgInuA = np.multiply(1000000,Currents_mg738Nmg)    \n",
    "  \n",
    "#reshape Array\n",
    "Voltages_mg738NmgInmV = Voltages_mg738NmgInmV.reshape(Voltages_mg738NmgInmV.shape[0],Voltages_mg738NmgInmV.shape[2]) #reshape 7,1,9 \n",
    "Currents_mg738NmgInuA = Currents_mg738NmgInuA.reshape(Currents_mg738NmgInuA.shape[0],Currents_mg738NmgInuA.shape[2])   \n"
   ]
  },
  {
   "cell_type": "code",
   "execution_count": 94,
   "metadata": {},
   "outputs": [],
   "source": [
    "####################### Li ##### \n",
    "Voltages_mg739Li = []\n",
    "Currents_mg739Li = []\n",
    "\n",
    "for volt in range(0,len(raw_data_Rec_mg739Li)):\n",
    "    Voltages_mg739Li.append([raw_data_Rec_mg739Li[volt,5:14]]) #TODO: CHANGE\n",
    "    Currents_mg739Li.append([raw_data_Rec_mg739Li[volt,14:23]])\n",
    "\n",
    "#change to mV and uA    \n",
    "Voltages_mg739LiInmV = np.multiply(1000,Voltages_mg739Li) #becomes a np.array with shape 7,1,9 \n",
    "Currents_mg739LiInuA = np.multiply(1000000,Currents_mg739Li)    \n",
    "  \n",
    "#reshape Array\n",
    "Voltages_mg739LiInmV = Voltages_mg739LiInmV.reshape(Voltages_mg739LiInmV.shape[0],Voltages_mg739LiInmV.shape[2]) #reshape 7,1,9 \n",
    "Currents_mg739LiInuA = Currents_mg739LiInuA.reshape(Currents_mg739LiInuA.shape[0],Currents_mg739LiInuA.shape[2])   \n",
    "\n",
    "####################### K ##### \n",
    "Voltages_mg739K = []\n",
    "Currents_mg739K = []\n",
    "\n",
    "for volt in range(0,len(raw_data_Rec_mg739K)):\n",
    "    Voltages_mg739K.append([raw_data_Rec_mg739K[volt,5:14]]) #TODO: CHANGE\n",
    "    Currents_mg739K.append([raw_data_Rec_mg739K[volt,14:23]])\n",
    "\n",
    "#change to mV and uA    \n",
    "Voltages_mg739KInmV = np.multiply(1000,Voltages_mg739K) #becomes a np.array with shape 7,1,9 \n",
    "Currents_mg739KInuA = np.multiply(1000000,Currents_mg739K)    \n",
    "  \n",
    "#reshape Array\n",
    "Voltages_mg739KInmV = Voltages_mg739KInmV.reshape(Voltages_mg739KInmV.shape[0],Voltages_mg739KInmV.shape[2]) #reshape 7,1,9 \n",
    "Currents_mg739KInuA = Currents_mg739KInuA.reshape(Currents_mg739KInuA.shape[0],Currents_mg739KInuA.shape[2])   \n",
    "\n",
    "####################### Nmg ##### \n",
    "Voltages_mg739Nmg = []\n",
    "Currents_mg739Nmg = []\n",
    "\n",
    "for volt in range(0,len(raw_data_Rec_mg739Nmg)):\n",
    "    Voltages_mg739Nmg.append([raw_data_Rec_mg739Nmg[volt,5:14]]) #TODO: CHANGE\n",
    "    Currents_mg739Nmg.append([raw_data_Rec_mg739Nmg[volt,14:23]])\n",
    "\n",
    "#change to mV and uA    \n",
    "Voltages_mg739NmgInmV = np.multiply(1000,Voltages_mg739Nmg) #becomes a np.array with shape 7,1,9 \n",
    "Currents_mg739NmgInuA = np.multiply(1000000,Currents_mg739Nmg)    \n",
    "  \n",
    "#reshape Array\n",
    "Voltages_mg739NmgInmV = Voltages_mg739NmgInmV.reshape(Voltages_mg739NmgInmV.shape[0],Voltages_mg739NmgInmV.shape[2]) #reshape 7,1,9 \n",
    "Currents_mg739NmgInuA = Currents_mg739NmgInuA.reshape(Currents_mg739NmgInuA.shape[0],Currents_mg739NmgInuA.shape[2])   \n"
   ]
  },
  {
   "cell_type": "code",
   "execution_count": 95,
   "metadata": {},
   "outputs": [],
   "source": [
    "####################### Li ##### \n",
    "Voltages_mg740Li = []\n",
    "Currents_mg740Li = []\n",
    "\n",
    "for volt in range(0,len(raw_data_Rec_mg740Li)):\n",
    "    Voltages_mg740Li.append([raw_data_Rec_mg740Li[volt,5:14]]) #TODO: CHANGE\n",
    "    Currents_mg740Li.append([raw_data_Rec_mg740Li[volt,14:23]])\n",
    "\n",
    "#change to mV and uA    \n",
    "Voltages_mg740LiInmV = np.multiply(1000,Voltages_mg740Li) #becomes a np.array with shape 7,1,9 \n",
    "Currents_mg740LiInuA = np.multiply(1000000,Currents_mg740Li)    \n",
    "  \n",
    "#reshape Array\n",
    "Voltages_mg740LiInmV = Voltages_mg740LiInmV.reshape(Voltages_mg740LiInmV.shape[0],Voltages_mg740LiInmV.shape[2]) #reshape 7,1,9 \n",
    "Currents_mg740LiInuA = Currents_mg740LiInuA.reshape(Currents_mg740LiInuA.shape[0],Currents_mg740LiInuA.shape[2])   \n",
    "\n",
    "####################### K ##### \n",
    "Voltages_mg740K = []\n",
    "Currents_mg740K = []\n",
    "\n",
    "for volt in range(0,len(raw_data_Rec_mg740K)):\n",
    "    Voltages_mg740K.append([raw_data_Rec_mg740K[volt,5:14]]) #TODO: CHANGE\n",
    "    Currents_mg740K.append([raw_data_Rec_mg740K[volt,14:23]])\n",
    "\n",
    "#change to mV and uA    \n",
    "Voltages_mg740KInmV = np.multiply(1000,Voltages_mg740K) #becomes a np.array with shape 7,1,9 \n",
    "Currents_mg740KInuA = np.multiply(1000000,Currents_mg740K)    \n",
    "  \n",
    "#reshape Array\n",
    "Voltages_mg740KInmV = Voltages_mg740KInmV.reshape(Voltages_mg740KInmV.shape[0],Voltages_mg740KInmV.shape[2]) #reshape 7,1,9 \n",
    "Currents_mg740KInuA = Currents_mg740KInuA.reshape(Currents_mg740KInuA.shape[0],Currents_mg740KInuA.shape[2])   \n",
    "\n",
    "####################### Nmg ##### \n",
    "Voltages_mg740Nmg = []\n",
    "Currents_mg740Nmg = []\n",
    "\n",
    "for volt in range(0,len(raw_data_Rec_mg740Nmg)):\n",
    "    Voltages_mg740Nmg.append([raw_data_Rec_mg740Nmg[volt,5:14]]) #TODO: CHANGE\n",
    "    Currents_mg740Nmg.append([raw_data_Rec_mg740Nmg[volt,14:23]])\n",
    "\n",
    "#change to mV and uA    \n",
    "Voltages_mg740NmgInmV = np.multiply(1000,Voltages_mg740Nmg) #becomes a np.array with shape 7,1,9 \n",
    "Currents_mg740NmgInuA = np.multiply(1000000,Currents_mg740Nmg)    \n",
    "  \n",
    "#reshape Array\n",
    "Voltages_mg740NmgInmV = Voltages_mg740NmgInmV.reshape(Voltages_mg740NmgInmV.shape[0],Voltages_mg740NmgInmV.shape[2]) #reshape 7,1,9 \n",
    "Currents_mg740NmgInuA = Currents_mg740NmgInuA.reshape(Currents_mg740NmgInuA.shape[0],Currents_mg740NmgInuA.shape[2])   \n"
   ]
  },
  {
   "cell_type": "code",
   "execution_count": 96,
   "metadata": {},
   "outputs": [],
   "source": [
    "####################### Li ##### \n",
    "Voltages_mg748Li = []\n",
    "Currents_mg748Li = []\n",
    "\n",
    "for volt in range(0,len(raw_data_Rec_mg748Li)):\n",
    "    Voltages_mg748Li.append([raw_data_Rec_mg748Li[volt,5:14]]) #TODO: CHANGE\n",
    "    Currents_mg748Li.append([raw_data_Rec_mg748Li[volt,14:23]])\n",
    "\n",
    "#change to mV and uA    \n",
    "Voltages_mg748LiInmV = np.multiply(1000,Voltages_mg748Li) #becomes a np.array with shape 7,1,9 \n",
    "Currents_mg748LiInuA = np.multiply(1000000,Currents_mg748Li)    \n",
    "  \n",
    "#reshape Array\n",
    "Voltages_mg748LiInmV = Voltages_mg748LiInmV.reshape(Voltages_mg748LiInmV.shape[0],Voltages_mg748LiInmV.shape[2]) #reshape 7,1,9 \n",
    "Currents_mg748LiInuA = Currents_mg748LiInuA.reshape(Currents_mg748LiInuA.shape[0],Currents_mg748LiInuA.shape[2])   \n",
    "\n",
    "####################### K ##### \n",
    "Voltages_mg748K = []\n",
    "Currents_mg748K = []\n",
    "\n",
    "for volt in range(0,len(raw_data_Rec_mg748K)):\n",
    "    Voltages_mg748K.append([raw_data_Rec_mg748K[volt,5:14]]) #TODO: CHANGE\n",
    "    Currents_mg748K.append([raw_data_Rec_mg748K[volt,14:23]])\n",
    "\n",
    "#change to mV and uA    \n",
    "Voltages_mg748KInmV = np.multiply(1000,Voltages_mg748K) #becomes a np.array with shape 7,1,9 \n",
    "Currents_mg748KInuA = np.multiply(1000000,Currents_mg748K)    \n",
    "  \n",
    "#reshape Array\n",
    "Voltages_mg748KInmV = Voltages_mg748KInmV.reshape(Voltages_mg748KInmV.shape[0],Voltages_mg748KInmV.shape[2]) #reshape 7,1,9 \n",
    "Currents_mg748KInuA = Currents_mg748KInuA.reshape(Currents_mg748KInuA.shape[0],Currents_mg748KInuA.shape[2])   \n",
    "\n",
    "####################### Nmg ##### \n",
    "Voltages_mg748Nmg = []\n",
    "Currents_mg748Nmg = []\n",
    "\n",
    "for volt in range(0,len(raw_data_Rec_mg748Nmg)):\n",
    "    Voltages_mg748Nmg.append([raw_data_Rec_mg748Nmg[volt,5:14]]) #TODO: CHANGE\n",
    "    Currents_mg748Nmg.append([raw_data_Rec_mg748Nmg[volt,14:23]])\n",
    "\n",
    "#change to mV and uA    \n",
    "Voltages_mg748NmgInmV = np.multiply(1000,Voltages_mg748Nmg) #becomes a np.array with shape 7,1,9 \n",
    "Currents_mg748NmgInuA = np.multiply(1000000,Currents_mg748Nmg)    \n",
    "  \n",
    "#reshape Array\n",
    "Voltages_mg748NmgInmV = Voltages_mg748NmgInmV.reshape(Voltages_mg748NmgInmV.shape[0],Voltages_mg748NmgInmV.shape[2]) #reshape 7,1,9 \n",
    "Currents_mg748NmgInuA = Currents_mg748NmgInuA.reshape(Currents_mg748NmgInuA.shape[0],Currents_mg748NmgInuA.shape[2])   \n"
   ]
  },
  {
   "cell_type": "code",
   "execution_count": 97,
   "metadata": {},
   "outputs": [],
   "source": [
    "####################### Li ##### \n",
    "Voltages_mg759Li = []\n",
    "Currents_mg759Li = []\n",
    "\n",
    "for volt in range(0,len(raw_data_Rec_mg759Li)):\n",
    "    Voltages_mg759Li.append([raw_data_Rec_mg759Li[volt,5:14]]) #TODO: CHANGE\n",
    "    Currents_mg759Li.append([raw_data_Rec_mg759Li[volt,14:23]])\n",
    "\n",
    "#change to mV and uA    \n",
    "Voltages_mg759LiInmV = np.multiply(1000,Voltages_mg759Li) #becomes a np.array with shape 7,1,9 \n",
    "Currents_mg759LiInuA = np.multiply(1000000,Currents_mg759Li)    \n",
    "  \n",
    "#reshape Array\n",
    "Voltages_mg759LiInmV = Voltages_mg759LiInmV.reshape(Voltages_mg759LiInmV.shape[0],Voltages_mg759LiInmV.shape[2]) #reshape 7,1,9 \n",
    "Currents_mg759LiInuA = Currents_mg759LiInuA.reshape(Currents_mg759LiInuA.shape[0],Currents_mg759LiInuA.shape[2])   \n",
    "\n",
    "####################### K ##### \n",
    "Voltages_mg759K = []\n",
    "Currents_mg759K = []\n",
    "\n",
    "for volt in range(0,len(raw_data_Rec_mg759K)):\n",
    "    Voltages_mg759K.append([raw_data_Rec_mg759K[volt,5:14]]) #TODO: CHANGE\n",
    "    Currents_mg759K.append([raw_data_Rec_mg759K[volt,14:23]])\n",
    "\n",
    "#change to mV and uA    \n",
    "Voltages_mg759KInmV = np.multiply(1000,Voltages_mg759K) #becomes a np.array with shape 7,1,9 \n",
    "Currents_mg759KInuA = np.multiply(1000000,Currents_mg759K)    \n",
    "  \n",
    "#reshape Array\n",
    "Voltages_mg759KInmV = Voltages_mg759KInmV.reshape(Voltages_mg759KInmV.shape[0],Voltages_mg759KInmV.shape[2]) #reshape 7,1,9 \n",
    "Currents_mg759KInuA = Currents_mg759KInuA.reshape(Currents_mg759KInuA.shape[0],Currents_mg759KInuA.shape[2])   \n",
    "\n",
    "####################### Nmg ##### \n",
    "Voltages_mg759Nmg = []\n",
    "Currents_mg759Nmg = []\n",
    "\n",
    "for volt in range(0,len(raw_data_Rec_mg759Nmg)):\n",
    "    Voltages_mg759Nmg.append([raw_data_Rec_mg759Nmg[volt,5:14]]) #TODO: CHANGE\n",
    "    Currents_mg759Nmg.append([raw_data_Rec_mg759Nmg[volt,14:23]])\n",
    "\n",
    "#change to mV and uA    \n",
    "Voltages_mg759NmgInmV = np.multiply(1000,Voltages_mg759Nmg) #becomes a np.array with shape 7,1,9 \n",
    "Currents_mg759NmgInuA = np.multiply(1000000,Currents_mg759Nmg)    \n",
    "  \n",
    "#reshape Array\n",
    "Voltages_mg759NmgInmV = Voltages_mg759NmgInmV.reshape(Voltages_mg759NmgInmV.shape[0],Voltages_mg759NmgInmV.shape[2]) #reshape 7,1,9 \n",
    "Currents_mg759NmgInuA = Currents_mg759NmgInuA.reshape(Currents_mg759NmgInuA.shape[0],Currents_mg759NmgInuA.shape[2])   \n"
   ]
  },
  {
   "cell_type": "code",
   "execution_count": 98,
   "metadata": {},
   "outputs": [],
   "source": [
    "####################### Li ##### \n",
    "Voltages_mg750Li = []\n",
    "Currents_mg750Li = []\n",
    "\n",
    "for volt in range(0,len(raw_data_Rec_mg750Li)):\n",
    "    Voltages_mg750Li.append([raw_data_Rec_mg750Li[volt,5:14]]) #TODO: CHANGE\n",
    "    Currents_mg750Li.append([raw_data_Rec_mg750Li[volt,14:23]])\n",
    "\n",
    "#change to mV and uA    \n",
    "Voltages_mg750LiInmV = np.multiply(1000,Voltages_mg750Li) #becomes a np.array with shape 7,1,9 \n",
    "Currents_mg750LiInuA = np.multiply(1000000,Currents_mg750Li)    \n",
    "  \n",
    "#reshape Array\n",
    "Voltages_mg750LiInmV = Voltages_mg750LiInmV.reshape(Voltages_mg750LiInmV.shape[0],Voltages_mg750LiInmV.shape[2]) #reshape 7,1,9 \n",
    "Currents_mg750LiInuA = Currents_mg750LiInuA.reshape(Currents_mg750LiInuA.shape[0],Currents_mg750LiInuA.shape[2])   \n",
    "\n",
    "####################### K ##### \n",
    "Voltages_mg750K = []\n",
    "Currents_mg750K = []\n",
    "\n",
    "for volt in range(0,len(raw_data_Rec_mg750K)):\n",
    "    Voltages_mg750K.append([raw_data_Rec_mg750K[volt,5:14]]) #TODO: CHANGE\n",
    "    Currents_mg750K.append([raw_data_Rec_mg750K[volt,14:23]])\n",
    "\n",
    "#change to mV and uA    \n",
    "Voltages_mg750KInmV = np.multiply(1000,Voltages_mg750K) #becomes a np.array with shape 7,1,9 \n",
    "Currents_mg750KInuA = np.multiply(1000000,Currents_mg750K)    \n",
    "  \n",
    "#reshape Array\n",
    "Voltages_mg750KInmV = Voltages_mg750KInmV.reshape(Voltages_mg750KInmV.shape[0],Voltages_mg750KInmV.shape[2]) #reshape 7,1,9 \n",
    "Currents_mg750KInuA = Currents_mg750KInuA.reshape(Currents_mg750KInuA.shape[0],Currents_mg750KInuA.shape[2])   \n",
    "\n",
    "####################### Nmg ##### \n",
    "Voltages_mg750Nmg = []\n",
    "Currents_mg750Nmg = []\n",
    "\n",
    "for volt in range(0,len(raw_data_Rec_mg750Nmg)):\n",
    "    Voltages_mg750Nmg.append([raw_data_Rec_mg750Nmg[volt,5:14]]) #TODO: CHANGE\n",
    "    Currents_mg750Nmg.append([raw_data_Rec_mg750Nmg[volt,14:23]])\n",
    "\n",
    "#change to mV and uA    \n",
    "Voltages_mg750NmgInmV = np.multiply(1000,Voltages_mg750Nmg) #becomes a np.array with shape 7,1,9 \n",
    "Currents_mg750NmgInuA = np.multiply(1000000,Currents_mg750Nmg)    \n",
    "  \n",
    "#reshape Array\n",
    "Voltages_mg750NmgInmV = Voltages_mg750NmgInmV.reshape(Voltages_mg750NmgInmV.shape[0],Voltages_mg750NmgInmV.shape[2]) #reshape 7,1,9 \n",
    "Currents_mg750NmgInuA = Currents_mg750NmgInuA.reshape(Currents_mg750NmgInuA.shape[0],Currents_mg750NmgInuA.shape[2])   \n"
   ]
  },
  {
   "cell_type": "code",
   "execution_count": 99,
   "metadata": {},
   "outputs": [],
   "source": [
    "####################### Li ##### \n",
    "Voltages_mg760Li = []\n",
    "Currents_mg760Li = []\n",
    "\n",
    "for volt in range(0,len(raw_data_Rec_mg760Li)):\n",
    "    Voltages_mg760Li.append([raw_data_Rec_mg760Li[volt,5:14]]) #TODO: CHANGE\n",
    "    Currents_mg760Li.append([raw_data_Rec_mg760Li[volt,14:23]])\n",
    "\n",
    "#change to mV and uA    \n",
    "Voltages_mg760LiInmV = np.multiply(1000,Voltages_mg760Li) #becomes a np.array with shape 7,1,9 \n",
    "Currents_mg760LiInuA = np.multiply(1000000,Currents_mg760Li)    \n",
    "  \n",
    "#reshape Array\n",
    "Voltages_mg760LiInmV = Voltages_mg760LiInmV.reshape(Voltages_mg760LiInmV.shape[0],Voltages_mg760LiInmV.shape[2]) #reshape 7,1,9 \n",
    "Currents_mg760LiInuA = Currents_mg760LiInuA.reshape(Currents_mg760LiInuA.shape[0],Currents_mg760LiInuA.shape[2])   \n",
    "\n",
    "####################### K ##### \n",
    "Voltages_mg760K = []\n",
    "Currents_mg760K = []\n",
    "\n",
    "for volt in range(0,len(raw_data_Rec_mg760K)):\n",
    "    Voltages_mg760K.append([raw_data_Rec_mg760K[volt,5:14]]) #TODO: CHANGE\n",
    "    Currents_mg760K.append([raw_data_Rec_mg760K[volt,14:23]])\n",
    "\n",
    "#change to mV and uA    \n",
    "Voltages_mg760KInmV = np.multiply(1000,Voltages_mg760K) #becomes a np.array with shape 7,1,9 \n",
    "Currents_mg760KInuA = np.multiply(1000000,Currents_mg760K)    \n",
    "  \n",
    "#reshape Array\n",
    "Voltages_mg760KInmV = Voltages_mg760KInmV.reshape(Voltages_mg760KInmV.shape[0],Voltages_mg760KInmV.shape[2]) #reshape 7,1,9 \n",
    "Currents_mg760KInuA = Currents_mg760KInuA.reshape(Currents_mg760KInuA.shape[0],Currents_mg760KInuA.shape[2])   \n",
    "\n",
    "####################### Nmg ##### \n",
    "Voltages_mg760Nmg = []\n",
    "Currents_mg760Nmg = []\n",
    "\n",
    "for volt in range(0,len(raw_data_Rec_mg760Nmg)):\n",
    "    Voltages_mg760Nmg.append([raw_data_Rec_mg760Nmg[volt,5:14]]) #TODO: CHANGE\n",
    "    Currents_mg760Nmg.append([raw_data_Rec_mg760Nmg[volt,14:23]])\n",
    "\n",
    "#change to mV and uA    \n",
    "Voltages_mg760NmgInmV = np.multiply(1000,Voltages_mg760Nmg) #becomes a np.array with shape 7,1,9 \n",
    "Currents_mg760NmgInuA = np.multiply(1000000,Currents_mg760Nmg)    \n",
    "  \n",
    "#reshape Array\n",
    "Voltages_mg760NmgInmV = Voltages_mg760NmgInmV.reshape(Voltages_mg760NmgInmV.shape[0],Voltages_mg760NmgInmV.shape[2]) #reshape 7,1,9 \n",
    "Currents_mg760NmgInuA = Currents_mg760NmgInuA.reshape(Currents_mg760NmgInuA.shape[0],Currents_mg760NmgInuA.shape[2])   \n"
   ]
  },
  {
   "cell_type": "code",
   "execution_count": 100,
   "metadata": {},
   "outputs": [],
   "source": [
    "####################### Li ##### \n",
    "Voltages_mg753Li = []\n",
    "Currents_mg753Li = []\n",
    "\n",
    "for volt in range(0,len(raw_data_Rec_mg753Li)):\n",
    "    Voltages_mg753Li.append([raw_data_Rec_mg753Li[volt,5:14]]) #TODO: CHANGE\n",
    "    Currents_mg753Li.append([raw_data_Rec_mg753Li[volt,14:23]])\n",
    "\n",
    "#change to mV and uA    \n",
    "Voltages_mg753LiInmV = np.multiply(1000,Voltages_mg753Li) #becomes a np.array with shape 7,1,9 \n",
    "Currents_mg753LiInuA = np.multiply(1000000,Currents_mg753Li)    \n",
    "  \n",
    "#reshape Array\n",
    "Voltages_mg753LiInmV = Voltages_mg753LiInmV.reshape(Voltages_mg753LiInmV.shape[0],Voltages_mg753LiInmV.shape[2]) #reshape 7,1,9 \n",
    "Currents_mg753LiInuA = Currents_mg753LiInuA.reshape(Currents_mg753LiInuA.shape[0],Currents_mg753LiInuA.shape[2])   \n",
    "\n",
    "####################### K ##### \n",
    "Voltages_mg753K = []\n",
    "Currents_mg753K = []\n",
    "\n",
    "for volt in range(0,len(raw_data_Rec_mg753K)):\n",
    "    Voltages_mg753K.append([raw_data_Rec_mg753K[volt,5:14]]) #TODO: CHANGE\n",
    "    Currents_mg753K.append([raw_data_Rec_mg753K[volt,14:23]])\n",
    "\n",
    "#change to mV and uA    \n",
    "Voltages_mg753KInmV = np.multiply(1000,Voltages_mg753K) #becomes a np.array with shape 7,1,9 \n",
    "Currents_mg753KInuA = np.multiply(1000000,Currents_mg753K)    \n",
    "  \n",
    "#reshape Array\n",
    "Voltages_mg753KInmV = Voltages_mg753KInmV.reshape(Voltages_mg753KInmV.shape[0],Voltages_mg753KInmV.shape[2]) #reshape 7,1,9 \n",
    "Currents_mg753KInuA = Currents_mg753KInuA.reshape(Currents_mg753KInuA.shape[0],Currents_mg753KInuA.shape[2])   \n",
    "\n",
    "####################### Nmg ##### \n",
    "Voltages_mg753Nmg = []\n",
    "Currents_mg753Nmg = []\n",
    "\n",
    "for volt in range(0,len(raw_data_Rec_mg753Nmg)):\n",
    "    Voltages_mg753Nmg.append([raw_data_Rec_mg753Nmg[volt,5:14]]) #TODO: CHANGE\n",
    "    Currents_mg753Nmg.append([raw_data_Rec_mg753Nmg[volt,14:23]])\n",
    "\n",
    "#change to mV and uA    \n",
    "Voltages_mg753NmgInmV = np.multiply(1000,Voltages_mg753Nmg) #becomes a np.array with shape 7,1,9 \n",
    "Currents_mg753NmgInuA = np.multiply(1000000,Currents_mg753Nmg)    \n",
    "  \n",
    "#reshape Array\n",
    "Voltages_mg753NmgInmV = Voltages_mg753NmgInmV.reshape(Voltages_mg753NmgInmV.shape[0],Voltages_mg753NmgInmV.shape[2]) #reshape 7,1,9 \n",
    "Currents_mg753NmgInuA = Currents_mg753NmgInuA.reshape(Currents_mg753NmgInuA.shape[0],Currents_mg753NmgInuA.shape[2])   \n"
   ]
  },
  {
   "cell_type": "code",
   "execution_count": 101,
   "metadata": {},
   "outputs": [],
   "source": [
    "####################### Li ##### \n",
    "Voltages_mg751Li = []\n",
    "Currents_mg751Li = []\n",
    "\n",
    "for volt in range(0,len(raw_data_Rec_mg751Li)):\n",
    "    Voltages_mg751Li.append([raw_data_Rec_mg751Li[volt,5:14]]) #TODO: CHANGE\n",
    "    Currents_mg751Li.append([raw_data_Rec_mg751Li[volt,14:23]])\n",
    "\n",
    "#change to mV and uA    \n",
    "Voltages_mg751LiInmV = np.multiply(1000,Voltages_mg751Li) #becomes a np.array with shape 7,1,9 \n",
    "Currents_mg751LiInuA = np.multiply(1000000,Currents_mg751Li)    \n",
    "  \n",
    "#reshape Array\n",
    "Voltages_mg751LiInmV = Voltages_mg751LiInmV.reshape(Voltages_mg751LiInmV.shape[0],Voltages_mg751LiInmV.shape[2]) #reshape 7,1,9 \n",
    "Currents_mg751LiInuA = Currents_mg751LiInuA.reshape(Currents_mg751LiInuA.shape[0],Currents_mg751LiInuA.shape[2])   \n",
    "\n",
    "####################### K ##### \n",
    "Voltages_mg751K = []\n",
    "Currents_mg751K = []\n",
    "\n",
    "for volt in range(0,len(raw_data_Rec_mg751K)):\n",
    "    Voltages_mg751K.append([raw_data_Rec_mg751K[volt,5:14]]) #TODO: CHANGE\n",
    "    Currents_mg751K.append([raw_data_Rec_mg751K[volt,14:23]])\n",
    "\n",
    "#change to mV and uA    \n",
    "Voltages_mg751KInmV = np.multiply(1000,Voltages_mg751K) #becomes a np.array with shape 7,1,9 \n",
    "Currents_mg751KInuA = np.multiply(1000000,Currents_mg751K)    \n",
    "  \n",
    "#reshape Array\n",
    "Voltages_mg751KInmV = Voltages_mg751KInmV.reshape(Voltages_mg751KInmV.shape[0],Voltages_mg751KInmV.shape[2]) #reshape 7,1,9 \n",
    "Currents_mg751KInuA = Currents_mg751KInuA.reshape(Currents_mg751KInuA.shape[0],Currents_mg751KInuA.shape[2])   \n",
    "\n",
    "####################### Nmg ##### \n",
    "Voltages_mg751Nmg = []\n",
    "Currents_mg751Nmg = []\n",
    "\n",
    "for volt in range(0,len(raw_data_Rec_mg751Nmg)):\n",
    "    Voltages_mg751Nmg.append([raw_data_Rec_mg751Nmg[volt,5:14]]) #TODO: CHANGE\n",
    "    Currents_mg751Nmg.append([raw_data_Rec_mg751Nmg[volt,14:23]])\n",
    "\n",
    "#change to mV and uA    \n",
    "Voltages_mg751NmgInmV = np.multiply(1000,Voltages_mg751Nmg) #becomes a np.array with shape 7,1,9 \n",
    "Currents_mg751NmgInuA = np.multiply(1000000,Currents_mg751Nmg)    \n",
    "  \n",
    "#reshape Array\n",
    "Voltages_mg751NmgInmV = Voltages_mg751NmgInmV.reshape(Voltages_mg751NmgInmV.shape[0],Voltages_mg751NmgInmV.shape[2]) #reshape 7,1,9 \n",
    "Currents_mg751NmgInuA = Currents_mg751NmgInuA.reshape(Currents_mg751NmgInuA.shape[0],Currents_mg751NmgInuA.shape[2])   \n"
   ]
  },
  {
   "cell_type": "markdown",
   "metadata": {},
   "source": [
    "# Figure chimera"
   ]
  },
  {
   "cell_type": "code",
   "execution_count": 102,
   "metadata": {},
   "outputs": [
    {
     "data": {
      "image/png": "[encoded data removed]",
      "text/plain": [
       "<Figure size 648x360 with 6 Axes>"
      ]
     },
     "metadata": {
      "needs_background": "light"
     },
     "output_type": "display_data"
    }
   ],
   "source": [
    "#index into Voltage 1 to Voltage 9 AND index into MeandStep1 to 9 (Currents) and rename  \n",
    "#TODO: change to not hardcoded if order in textfile changes\n",
    "\n",
    "fig, axes = plt.subplots(nrows=2, ncols=3, figsize=(9, 5))\n",
    "# if nrows = 2 axes[] counts rows and not col and limits axess handling\n",
    "\n",
    "axes[0][0] = plt.subplot(2,3,1)\n",
    "plt.plot(Voltages_mg419LiInmV[np.asarray(np.where(Solutions_Rec_mg419Li == VarNaGlu_mg419Li))[0,-1]],Currents_mg419LiInuA[np.asarray(np.where(Solutions_Rec_mg419Li == VarNaGlu_mg419Li))[0,-1]],'black',clip_on=False)\n",
    "plt.scatter(Voltages_mg419LiInmV[np.asarray(np.where(Solutions_Rec_mg419Li == VarNaGlu_mg419Li))[0,-1]],Currents_mg419LiInuA[np.asarray(np.where(Solutions_Rec_mg419Li == VarNaGlu_mg419Li))[0,-1]],color = 'black',clip_on=False)    \n",
    "plt.plot(Voltages_mg419LiInmV[np.asarray(np.where(Solutions_Rec_mg419Li == 'LiGluSel'))[0,-1]],Currents_mg419LiInuA[np.asarray(np.where(Solutions_Rec_mg419Li == 'LiGluSel'))[0,-1]],'red',clip_on=False)\n",
    "plt.scatter(Voltages_mg419LiInmV[np.asarray(np.where(Solutions_Rec_mg419Li == 'LiGluSel'))[0,-1]],Currents_mg419LiInuA[np.asarray(np.where(Solutions_Rec_mg419Li == 'LiGluSel'))[0,-1]],color = 'red',clip_on=False)    \n",
    "\n",
    "\n",
    "axes[0][1] = plt.subplot(2,3,2)\n",
    "plt.plot(Voltages_mg419KInmV[np.asarray(np.where(Solutions_Rec_mg419K == VarNaGlu_mg419K))[0,-1]],Currents_mg419KInuA[np.asarray(np.where(Solutions_Rec_mg419K == VarNaGlu_mg419K))[0,-1]],'black',clip_on=False)\n",
    "plt.scatter(Voltages_mg419KInmV[np.asarray(np.where(Solutions_Rec_mg419K == VarNaGlu_mg419K))[0,-1]],Currents_mg419KInuA[np.asarray(np.where(Solutions_Rec_mg419K == VarNaGlu_mg419K))[0,-1]],color = 'black',clip_on=False)    \n",
    "plt.plot(Voltages_mg419KInmV[np.asarray(np.where(Solutions_Rec_mg419K == 'KGluSel'))[0,-1]],Currents_mg419KInuA[np.asarray(np.where(Solutions_Rec_mg419K == 'KGluSel'))[0,-1]],'red',clip_on=False)\n",
    "plt.scatter(Voltages_mg419KInmV[np.asarray(np.where(Solutions_Rec_mg419K == 'KGluSel'))[0,-1]],Currents_mg419KInuA[np.asarray(np.where(Solutions_Rec_mg419K == 'KGluSel'))[0,-1]],color = 'red',clip_on=False)    \n",
    "\n",
    "axes[0][2] = plt.subplot(2,3,3)\n",
    "plt.plot(Voltages_mg419NmgInmV[np.asarray(np.where(Solutions_Rec_mg419Nmg == VarNaGlu_mg419Nmg))[0,-1]],Currents_mg419NmgInuA[np.asarray(np.where(Solutions_Rec_mg419Nmg == VarNaGlu_mg419Nmg))[0,-1]],'black',clip_on=False)\n",
    "plt.scatter(Voltages_mg419NmgInmV[np.asarray(np.where(Solutions_Rec_mg419Nmg == VarNaGlu_mg419Nmg))[0,-1]],Currents_mg419NmgInuA[np.asarray(np.where(Solutions_Rec_mg419Nmg == VarNaGlu_mg419Nmg))[0,-1]],color = 'black',clip_on=False)    \n",
    "plt.plot(Voltages_mg419NmgInmV[np.asarray(np.where(Solutions_Rec_mg419Nmg == 'NmgGluSel'))[0,-1]],Currents_mg419NmgInuA[np.asarray(np.where(Solutions_Rec_mg419Nmg == 'NmgGluSel'))[0,-1]],'red',clip_on=False)\n",
    "plt.scatter(Voltages_mg419NmgInmV[np.asarray(np.where(Solutions_Rec_mg419Nmg == 'NmgGluSel'))[0,-1]],Currents_mg419NmgInuA[np.asarray(np.where(Solutions_Rec_mg419Nmg == 'NmgGluSel'))[0,-1]],color = 'red',clip_on=False)    \n",
    "\n",
    "# ###################################### mg742 \n",
    "axes[1][0] = plt.subplot(2,3,4)\n",
    "plt.plot(Voltages_mg742LiInmV[np.asarray(np.where(Solutions_Rec_mg742Li == VarNaGlu_mg742Li))[0,-1]],Currents_mg742LiInuA[np.asarray(np.where(Solutions_Rec_mg742Li == VarNaGlu_mg742Li))[0,-1]],'black',clip_on=False)\n",
    "plt.scatter(Voltages_mg742LiInmV[np.asarray(np.where(Solutions_Rec_mg742Li == VarNaGlu_mg742Li))[0,-1]],Currents_mg742LiInuA[np.asarray(np.where(Solutions_Rec_mg742Li == VarNaGlu_mg742Li))[0,-1]],color = 'black',clip_on=False)    \n",
    "plt.plot(Voltages_mg742LiInmV[np.asarray(np.where(Solutions_Rec_mg742Li == 'LiGluSel'))[0,-1]],Currents_mg742LiInuA[np.asarray(np.where(Solutions_Rec_mg742Li == 'LiGluSel'))[0,-1]],'red',clip_on=False)\n",
    "plt.scatter(Voltages_mg742LiInmV[np.asarray(np.where(Solutions_Rec_mg742Li == 'LiGluSel'))[0,-1]],Currents_mg742LiInuA[np.asarray(np.where(Solutions_Rec_mg742Li == 'LiGluSel'))[0,-1]],color = 'red',clip_on=False)    \n",
    "\n",
    "axes[1][1] = plt.subplot(2,3,5)\n",
    "plt.plot(Voltages_mg742KInmV[np.asarray(np.where(Solutions_Rec_mg742K == VarNaGlu_mg742K))[0,-1]],Currents_mg742KInuA[np.asarray(np.where(Solutions_Rec_mg742K == VarNaGlu_mg742K))[0,-1]],'black',clip_on=False)\n",
    "plt.scatter(Voltages_mg742KInmV[np.asarray(np.where(Solutions_Rec_mg742K == VarNaGlu_mg742K))[0,-1]],Currents_mg742KInuA[np.asarray(np.where(Solutions_Rec_mg742K == VarNaGlu_mg742K))[0,-1]],color = 'black',clip_on=False)    \n",
    "plt.plot(Voltages_mg742KInmV[np.asarray(np.where(Solutions_Rec_mg742K == 'KGluSel'))[0,-1]],Currents_mg742KInuA[np.asarray(np.where(Solutions_Rec_mg742K == 'KGluSel'))[0,-1]],'red',clip_on=False)\n",
    "plt.scatter(Voltages_mg742KInmV[np.asarray(np.where(Solutions_Rec_mg742K == 'KGluSel'))[0,-1]],Currents_mg742KInuA[np.asarray(np.where(Solutions_Rec_mg742K == 'KGluSel'))[0,-1]],color = 'red',clip_on=False)    \n",
    "\n",
    "axes[1][2] = plt.subplot(2,3,6)\n",
    "plt.plot(Voltages_mg742NmgInmV[np.asarray(np.where(Solutions_Rec_mg742Nmg == VarNaGlu_mg742Nmg))[0,-1]],Currents_mg742NmgInuA[np.asarray(np.where(Solutions_Rec_mg742Nmg == VarNaGlu_mg742Nmg))[0,-1]],'black',clip_on=False)\n",
    "plt.scatter(Voltages_mg742NmgInmV[np.asarray(np.where(Solutions_Rec_mg742Nmg == VarNaGlu_mg742Nmg))[0,-1]],Currents_mg742NmgInuA[np.asarray(np.where(Solutions_Rec_mg742Nmg == VarNaGlu_mg742Nmg))[0,-1]],color = 'black',clip_on=False)    \n",
    "plt.plot(Voltages_mg742NmgInmV[np.asarray(np.where(Solutions_Rec_mg742Nmg == 'NmgGluSel'))[0,-1]],Currents_mg742NmgInuA[np.asarray(np.where(Solutions_Rec_mg742Nmg == 'NmgGluSel'))[0,-1]],'red',clip_on=False)\n",
    "plt.scatter(Voltages_mg742NmgInmV[np.asarray(np.where(Solutions_Rec_mg742Nmg == 'NmgGluSel'))[0,-1]],Currents_mg742NmgInuA[np.asarray(np.where(Solutions_Rec_mg742Nmg == 'NmgGluSel'))[0,-1]],color = 'red',clip_on=False)    \n",
    "\n",
    "\n",
    "###########################\n",
    "xlimSet = [-100,75]\n",
    "xticksSet=[-100,-50,50,75]\n",
    "ylimSet = [-80,40]\n",
    "\n",
    "#add ylim\n",
    "\n",
    "for row in range(2): \n",
    "    for col in range(3):\n",
    "        axes[row][col].set_xlim(xlimSet)\n",
    "        axes[row][col].set_xticks(xticksSet)\n",
    "        axes[row][col].set_ylim(ylimSet)\n",
    "        # Hide the right and top spines\n",
    "        axes[row][col].spines['right'].set_visible(False)\n",
    "        axes[row][col].spines['top'].set_visible(False)\n",
    "        # Only show ticks on the left and bottom spines\n",
    "        axes[row][col].yaxis.set_ticks_position('left')\n",
    "        axes[row][col].xaxis.set_ticks_position('bottom')\n",
    "        axes[row][col].get_yaxis().set_tick_params(direction='in')\n",
    "        axes[row][col].get_xaxis().set_tick_params(direction='in')\n",
    "        # Move left y-axis and bottim x-axis to centre, passing through (0,0)\n",
    "        axes[row][col].spines['left'].set_position('zero')\n",
    "        axes[row][col].spines['bottom'].set_position('zero')\n",
    "        axes[row][col].set_xlabel('mV',fontsize=AxisLabelSize)\n",
    "        axes[row][col].set_ylabel('µA',rotation=0,fontsize=AxisLabelSize)\n",
    "        axes[row][col].xaxis.set_label_coords(0.06,0.75)\n",
    "        axes[row][col].yaxis.set_label_coords(0.7,0.96)\n",
    "        axes[row][col].tick_params(axis='both', which='major', labelsize=AxisTickLabelSize)  \n",
    "\n",
    "\n",
    "axes[0][0].text(-110, 15.8, 'ctr LiGlu',color='red',fontsize=AxisTickLabelSize)\n",
    "axes[1][0].text(-110, 15.8, 'M4d-DT1(C) LiGlu',color='red',fontsize=AxisTickLabelSize)\n",
    "\n",
    "axes[0][1].text(-110, 15.8, 'ctr KGlu',color='red',fontsize=AxisTickLabelSize)\n",
    "axes[1][1].text(-110, 15.8, 'M4d-DT1(C) KGlu',color='red',fontsize=AxisTickLabelSize)\n",
    "\n",
    "axes[0][2].text(-110, 15.8, 'ctr NMG',color='red',fontsize=AxisTickLabelSize)\n",
    "axes[1][2].text(-110, 15.8, 'M4d-DT1(C) NMG',color='red',fontsize=AxisTickLabelSize)\n",
    "\n",
    "\n",
    "plt.gcf().subplots_adjust(bottom=0.1, left=0.1,right=None, top=None,hspace=None, wspace=None)     \n",
    "      \n",
    "plt.savefig(filedirExportFig+\"IVcurvesSelectivity-chimera\"+'.pdf')\n"
   ]
  },
  {
   "cell_type": "code",
   "execution_count": null,
   "metadata": {},
   "outputs": [],
   "source": []
  },
  {
   "cell_type": "markdown",
   "metadata": {},
   "source": [
    "# Figure Liglu alanine mutants"
   ]
  },
  {
   "cell_type": "code",
   "execution_count": 103,
   "metadata": {},
   "outputs": [
    {
     "data": {
      "image/png": "[encoded data removed]",
      "text/plain": [
       "<Figure size 648x288 with 10 Axes>"
      ]
     },
     "metadata": {
      "needs_background": "light"
     },
     "output_type": "display_data"
    }
   ],
   "source": [
    "#index into Voltage 1 to Voltage 9 AND index into MeandStep1 to 9 (Currents) and rename  \n",
    "#TODO: change to not hardcoded if order in textfile changes\n",
    "\n",
    "fig, axes = plt.subplots(nrows=2, ncols=5, figsize=(9, 4))\n",
    "# if nrows = 2 axes[] counts rows and not col and limits axess handling\n",
    "\n",
    "\n",
    "\n",
    "axes[0][0] = plt.subplot(2,5,1)\n",
    "plt.plot(Voltages_mg738LiInmV[np.asarray(np.where(Solutions_Rec_mg738Li == VarNaGlu_mg738Li))[0,-1]],Currents_mg738LiInuA[np.asarray(np.where(Solutions_Rec_mg738Li == VarNaGlu_mg738Li))[0,-1]],'black',clip_on=False)\n",
    "plt.scatter(Voltages_mg738LiInmV[np.asarray(np.where(Solutions_Rec_mg738Li == VarNaGlu_mg738Li))[0,-1]],Currents_mg738LiInuA[np.asarray(np.where(Solutions_Rec_mg738Li == VarNaGlu_mg738Li))[0,-1]],color = 'black',clip_on=False)    \n",
    "plt.plot(Voltages_mg738LiInmV[np.asarray(np.where(Solutions_Rec_mg738Li == 'LiGluSel'))[0,-1]],Currents_mg738LiInuA[np.asarray(np.where(Solutions_Rec_mg738Li == 'LiGluSel'))[0,-1]],'red',clip_on=False)\n",
    "plt.scatter(Voltages_mg738LiInmV[np.asarray(np.where(Solutions_Rec_mg738Li == 'LiGluSel'))[0,-1]],Currents_mg738LiInuA[np.asarray(np.where(Solutions_Rec_mg738Li == 'LiGluSel'))[0,-1]],color = 'red',clip_on=False)    \n",
    "\n",
    "\n",
    "axes[0][1] = plt.subplot(2,5,2)\n",
    "plt.plot(Voltages_mg739LiInmV[np.asarray(np.where(Solutions_Rec_mg739Li == VarNaGlu_mg739Li))[0,-1]],Currents_mg739LiInuA[np.asarray(np.where(Solutions_Rec_mg739Li == VarNaGlu_mg739Li))[0,-1]],'black',clip_on=False)\n",
    "plt.scatter(Voltages_mg739LiInmV[np.asarray(np.where(Solutions_Rec_mg739Li == VarNaGlu_mg739Li))[0,-1]],Currents_mg739LiInuA[np.asarray(np.where(Solutions_Rec_mg739Li == VarNaGlu_mg739Li))[0,-1]],color = 'black',clip_on=False)    \n",
    "plt.plot(Voltages_mg739LiInmV[np.asarray(np.where(Solutions_Rec_mg739Li == 'LiGluSel'))[0,-1]],Currents_mg739LiInuA[np.asarray(np.where(Solutions_Rec_mg739Li == 'LiGluSel'))[0,-1]],'red',clip_on=False)\n",
    "plt.scatter(Voltages_mg739LiInmV[np.asarray(np.where(Solutions_Rec_mg739Li == 'LiGluSel'))[0,-1]],Currents_mg739LiInuA[np.asarray(np.where(Solutions_Rec_mg739Li == 'LiGluSel'))[0,-1]],color = 'red',clip_on=False)    \n",
    "\n",
    "\n",
    "axes[0][2] = plt.subplot(2,5,3)\n",
    "plt.plot(Voltages_mg740LiInmV[np.asarray(np.where(Solutions_Rec_mg740Li == VarNaGlu_mg740Li))[0,-1]],Currents_mg740LiInuA[np.asarray(np.where(Solutions_Rec_mg740Li == VarNaGlu_mg740Li))[0,-1]],'black',clip_on=False)\n",
    "plt.scatter(Voltages_mg740LiInmV[np.asarray(np.where(Solutions_Rec_mg740Li == VarNaGlu_mg740Li))[0,-1]],Currents_mg740LiInuA[np.asarray(np.where(Solutions_Rec_mg740Li == VarNaGlu_mg740Li))[0,-1]],color = 'black',clip_on=False)    \n",
    "plt.plot(Voltages_mg740LiInmV[np.asarray(np.where(Solutions_Rec_mg740Li == 'LiGluSel'))[0,-1]],Currents_mg740LiInuA[np.asarray(np.where(Solutions_Rec_mg740Li == 'LiGluSel'))[0,-1]],'red',clip_on=False)\n",
    "plt.scatter(Voltages_mg740LiInmV[np.asarray(np.where(Solutions_Rec_mg740Li == 'LiGluSel'))[0,-1]],Currents_mg740LiInuA[np.asarray(np.where(Solutions_Rec_mg740Li == 'LiGluSel'))[0,-1]],color = 'red',clip_on=False)    \n",
    "\n",
    "\n",
    "axes[0][3] = plt.subplot(2,5,4)\n",
    "plt.plot(Voltages_mg748LiInmV[np.asarray(np.where(Solutions_Rec_mg748Li == VarNaGlu_mg748Li))[0,-1]],Currents_mg748LiInuA[np.asarray(np.where(Solutions_Rec_mg748Li == VarNaGlu_mg748Li))[0,-1]],'black',clip_on=False)\n",
    "plt.scatter(Voltages_mg748LiInmV[np.asarray(np.where(Solutions_Rec_mg748Li == VarNaGlu_mg748Li))[0,-1]],Currents_mg748LiInuA[np.asarray(np.where(Solutions_Rec_mg748Li == VarNaGlu_mg748Li))[0,-1]],color = 'black',clip_on=False)    \n",
    "plt.plot(Voltages_mg748LiInmV[np.asarray(np.where(Solutions_Rec_mg748Li == 'LiGluSel'))[0,-1]],Currents_mg748LiInuA[np.asarray(np.where(Solutions_Rec_mg748Li == 'LiGluSel'))[0,-1]],'red',clip_on=False)\n",
    "plt.scatter(Voltages_mg748LiInmV[np.asarray(np.where(Solutions_Rec_mg748Li == 'LiGluSel'))[0,-1]],Currents_mg748LiInuA[np.asarray(np.where(Solutions_Rec_mg748Li == 'LiGluSel'))[0,-1]],color = 'red',clip_on=False)    \n",
    "\n",
    "\n",
    "\n",
    "axes[0][4] = plt.subplot(2,5,5)\n",
    "plt.plot(Voltages_mg759LiInmV[np.asarray(np.where(Solutions_Rec_mg759Li == VarNaGlu_mg759Li))[0,-1]],Currents_mg759LiInuA[np.asarray(np.where(Solutions_Rec_mg759Li == VarNaGlu_mg759Li))[0,-1]],'black',clip_on=False)\n",
    "plt.scatter(Voltages_mg759LiInmV[np.asarray(np.where(Solutions_Rec_mg759Li == VarNaGlu_mg759Li))[0,-1]],Currents_mg759LiInuA[np.asarray(np.where(Solutions_Rec_mg759Li == VarNaGlu_mg759Li))[0,-1]],color = 'black',clip_on=False)    \n",
    "plt.plot(Voltages_mg759LiInmV[np.asarray(np.where(Solutions_Rec_mg759Li == 'LiGluSel'))[0,-1]],Currents_mg759LiInuA[np.asarray(np.where(Solutions_Rec_mg759Li == 'LiGluSel'))[0,-1]],'red',clip_on=False)\n",
    "plt.scatter(Voltages_mg759LiInmV[np.asarray(np.where(Solutions_Rec_mg759Li == 'LiGluSel'))[0,-1]],Currents_mg759LiInuA[np.asarray(np.where(Solutions_Rec_mg759Li == 'LiGluSel'))[0,-1]],color = 'red',clip_on=False)    \n",
    "\n",
    "# ###################################### \n",
    "axes[1][0] = plt.subplot(2,5,6)\n",
    "plt.plot(Voltages_mg419LiInmV[np.asarray(np.where(Solutions_Rec_mg419Li == VarNaGlu_mg419Li))[0,-1]],Currents_mg419LiInuA[np.asarray(np.where(Solutions_Rec_mg419Li == VarNaGlu_mg419Li))[0,-1]],'black',clip_on=False)\n",
    "plt.scatter(Voltages_mg419LiInmV[np.asarray(np.where(Solutions_Rec_mg419Li == VarNaGlu_mg419Li))[0,-1]],Currents_mg419LiInuA[np.asarray(np.where(Solutions_Rec_mg419Li == VarNaGlu_mg419Li))[0,-1]],color = 'black',clip_on=False)    \n",
    "plt.plot(Voltages_mg419LiInmV[np.asarray(np.where(Solutions_Rec_mg419Li == 'LiGluSel'))[0,-1]],Currents_mg419LiInuA[np.asarray(np.where(Solutions_Rec_mg419Li == 'LiGluSel'))[0,-1]],'red',clip_on=False)\n",
    "plt.scatter(Voltages_mg419LiInmV[np.asarray(np.where(Solutions_Rec_mg419Li == 'LiGluSel'))[0,-1]],Currents_mg419LiInuA[np.asarray(np.where(Solutions_Rec_mg419Li == 'LiGluSel'))[0,-1]],color = 'red',clip_on=False)    \n",
    "\n",
    "axes[1][1] = plt.subplot(2,5,7)\n",
    "plt.plot(Voltages_mg750LiInmV[np.asarray(np.where(Solutions_Rec_mg750Li == VarNaGlu_mg750Li))[0,-1]],Currents_mg750LiInuA[np.asarray(np.where(Solutions_Rec_mg750Li == VarNaGlu_mg750Li))[0,-1]],'black',clip_on=False)\n",
    "plt.scatter(Voltages_mg750LiInmV[np.asarray(np.where(Solutions_Rec_mg750Li == VarNaGlu_mg750Li))[0,-1]],Currents_mg750LiInuA[np.asarray(np.where(Solutions_Rec_mg750Li == VarNaGlu_mg750Li))[0,-1]],color = 'black',clip_on=False)    \n",
    "plt.plot(Voltages_mg750LiInmV[np.asarray(np.where(Solutions_Rec_mg750Li == 'LiGluSel'))[0,-1]],Currents_mg750LiInuA[np.asarray(np.where(Solutions_Rec_mg750Li == 'LiGluSel'))[0,-1]],'red',clip_on=False)\n",
    "plt.scatter(Voltages_mg750LiInmV[np.asarray(np.where(Solutions_Rec_mg750Li == 'LiGluSel'))[0,-1]],Currents_mg750LiInuA[np.asarray(np.where(Solutions_Rec_mg750Li == 'LiGluSel'))[0,-1]],color = 'red',clip_on=False)    \n",
    "\n",
    "\n",
    "axes[1][2] = plt.subplot(2,5,8)\n",
    "plt.plot(Voltages_mg760LiInmV[np.asarray(np.where(Solutions_Rec_mg760Li == VarNaGlu_mg760Li))[0,-1]],Currents_mg760LiInuA[np.asarray(np.where(Solutions_Rec_mg760Li == VarNaGlu_mg760Li))[0,-1]],'black',clip_on=False)\n",
    "plt.scatter(Voltages_mg760LiInmV[np.asarray(np.where(Solutions_Rec_mg760Li == VarNaGlu_mg760Li))[0,-1]],Currents_mg760LiInuA[np.asarray(np.where(Solutions_Rec_mg760Li == VarNaGlu_mg760Li))[0,-1]],color = 'black',clip_on=False)    \n",
    "plt.plot(Voltages_mg760LiInmV[np.asarray(np.where(Solutions_Rec_mg760Li == 'LiGluSel'))[0,-1]],Currents_mg760LiInuA[np.asarray(np.where(Solutions_Rec_mg760Li == 'LiGluSel'))[0,-1]],'red',clip_on=False)\n",
    "plt.scatter(Voltages_mg760LiInmV[np.asarray(np.where(Solutions_Rec_mg760Li == 'LiGluSel'))[0,-1]],Currents_mg760LiInuA[np.asarray(np.where(Solutions_Rec_mg760Li == 'LiGluSel'))[0,-1]],color = 'red',clip_on=False)    \n",
    "\n",
    "\n",
    "axes[1][3] = plt.subplot(2,5,9)\n",
    "plt.plot(Voltages_mg753LiInmV[np.asarray(np.where(Solutions_Rec_mg753Li == VarNaGlu_mg753Li))[0,-1]],Currents_mg753LiInuA[np.asarray(np.where(Solutions_Rec_mg753Li == VarNaGlu_mg753Li))[0,-1]],'black',clip_on=False)\n",
    "plt.scatter(Voltages_mg753LiInmV[np.asarray(np.where(Solutions_Rec_mg753Li == VarNaGlu_mg753Li))[0,-1]],Currents_mg753LiInuA[np.asarray(np.where(Solutions_Rec_mg753Li == VarNaGlu_mg753Li))[0,-1]],color = 'black',clip_on=False)    \n",
    "plt.plot(Voltages_mg753LiInmV[np.asarray(np.where(Solutions_Rec_mg753Li == 'LiGluSel'))[0,-1]],Currents_mg753LiInuA[np.asarray(np.where(Solutions_Rec_mg753Li == 'LiGluSel'))[0,-1]],'red',clip_on=False)\n",
    "plt.scatter(Voltages_mg753LiInmV[np.asarray(np.where(Solutions_Rec_mg753Li == 'LiGluSel'))[0,-1]],Currents_mg753LiInuA[np.asarray(np.where(Solutions_Rec_mg753Li == 'LiGluSel'))[0,-1]],color = 'red',clip_on=False)    \n",
    "\n",
    "\n",
    "axes[1][4] = plt.subplot(2,5,10)\n",
    "plt.plot(Voltages_mg751LiInmV[np.asarray(np.where(Solutions_Rec_mg751Li == VarNaGlu_mg751Li))[0,-1]],Currents_mg751LiInuA[np.asarray(np.where(Solutions_Rec_mg751Li == VarNaGlu_mg751Li))[0,-1]],'black',clip_on=False)\n",
    "plt.scatter(Voltages_mg751LiInmV[np.asarray(np.where(Solutions_Rec_mg751Li == VarNaGlu_mg751Li))[0,-1]],Currents_mg751LiInuA[np.asarray(np.where(Solutions_Rec_mg751Li == VarNaGlu_mg751Li))[0,-1]],color = 'black',clip_on=False)    \n",
    "plt.plot(Voltages_mg751LiInmV[np.asarray(np.where(Solutions_Rec_mg751Li == 'LiGluSel'))[0,-1]],Currents_mg751LiInuA[np.asarray(np.where(Solutions_Rec_mg751Li == 'LiGluSel'))[0,-1]],'red',clip_on=False)\n",
    "plt.scatter(Voltages_mg751LiInmV[np.asarray(np.where(Solutions_Rec_mg751Li == 'LiGluSel'))[0,-1]],Currents_mg751LiInuA[np.asarray(np.where(Solutions_Rec_mg751Li == 'LiGluSel'))[0,-1]],color = 'red',clip_on=False)    \n",
    "\n",
    "\n",
    "\n",
    "###########################\n",
    "xlimSet = [-100,75]\n",
    "xticksSet=[-100,-50,50,75]\n",
    "ylimSet = [-80,40]\n",
    "\n",
    "#add ylim\n",
    "\n",
    "for row in range(2): \n",
    "    for col in range(5):\n",
    "        axes[row][col].set_xlim(xlimSet)\n",
    "        axes[row][col].set_xticks(xticksSet)\n",
    "        #axes[row][col].set_ylim(ylimSet)\n",
    "        # Hide the right and top spines\n",
    "        axes[row][col].spines['right'].set_visible(False)\n",
    "        axes[row][col].spines['top'].set_visible(False)\n",
    "        # Only show ticks on the left and bottom spines\n",
    "        axes[row][col].yaxis.set_ticks_position('left')\n",
    "        axes[row][col].xaxis.set_ticks_position('bottom')\n",
    "        axes[row][col].get_yaxis().set_tick_params(direction='in')\n",
    "        axes[row][col].get_xaxis().set_tick_params(direction='in')\n",
    "        # Move left y-axis and bottim x-axis to centre, passing through (0,0)\n",
    "        axes[row][col].spines['left'].set_position('zero')\n",
    "        axes[row][col].spines['bottom'].set_position('zero')\n",
    "        axes[row][col].set_xlabel('mV',fontsize=AxisLabelSize)\n",
    "        axes[row][col].set_ylabel('µA',rotation=0,fontsize=AxisLabelSize)\n",
    "        axes[row][col].xaxis.set_label_coords(0.06,0.68)\n",
    "        axes[row][col].yaxis.set_label_coords(0.7,0.96)\n",
    "        axes[row][col].tick_params(axis='both', which='major', labelsize=AxisTickLabelSize)  \n",
    "\n",
    "\n",
    "n = 0        \n",
    "for row in range(2): \n",
    "    for col in range(5):       \n",
    "        axes[row][col].text( 50,-0.8,LabelAlanin[n],color='red',fontsize=AxisTickLabelSize)\n",
    "        n = n+1\n",
    "\n",
    "\n",
    "\n",
    "\n",
    "\n",
    "plt.suptitle('Lithium')\n",
    "\n",
    "\n",
    "plt.gcf().subplots_adjust(bottom=0.1, left=0.1,right=None, top=None,hspace=None, wspace=None)     \n",
    "      \n",
    "plt.savefig(filedirExportFig+\"IVcurvesSelectivity-Alanine-Lithium\"+'.pdf')\n"
   ]
  },
  {
   "cell_type": "code",
   "execution_count": null,
   "metadata": {},
   "outputs": [],
   "source": []
  },
  {
   "cell_type": "code",
   "execution_count": 104,
   "metadata": {
    "scrolled": true
   },
   "outputs": [
    {
     "data": {
      "image/png": "[encoded data removed]",
      "text/plain": [
       "<Figure size 648x288 with 10 Axes>"
      ]
     },
     "metadata": {
      "needs_background": "light"
     },
     "output_type": "display_data"
    }
   ],
   "source": [
    "#index into Voltage 1 to Voltage 9 AND index into MeandStep1 to 9 (Currents) and rename  \n",
    "#TODO: change to not hardcoded if order in textfile changes\n",
    "\n",
    "fig, axes = plt.subplots(nrows=2, ncols=5, figsize=(9, 4))\n",
    "# if nrows = 2 axes[] counts rows and not col and limits axess handling\n",
    "\n",
    "\n",
    "\n",
    "axes[0][0] = plt.subplot(2,5,1)\n",
    "plt.plot(Voltages_mg738KInmV[np.asarray(np.where(Solutions_Rec_mg738K == VarNaGlu_mg738K))[0,-1]],Currents_mg738KInuA[np.asarray(np.where(Solutions_Rec_mg738K == VarNaGlu_mg738K))[0,-1]],'black',clip_on=False)\n",
    "plt.scatter(Voltages_mg738KInmV[np.asarray(np.where(Solutions_Rec_mg738K == VarNaGlu_mg738K))[0,-1]],Currents_mg738KInuA[np.asarray(np.where(Solutions_Rec_mg738K == VarNaGlu_mg738K))[0,-1]],color = 'black',clip_on=False)    \n",
    "plt.plot(Voltages_mg738KInmV[np.asarray(np.where(Solutions_Rec_mg738K == 'KGluSel'))[0,-1]],Currents_mg738KInuA[np.asarray(np.where(Solutions_Rec_mg738K == 'KGluSel'))[0,-1]],'red',clip_on=False)\n",
    "plt.scatter(Voltages_mg738KInmV[np.asarray(np.where(Solutions_Rec_mg738K == 'KGluSel'))[0,-1]],Currents_mg738KInuA[np.asarray(np.where(Solutions_Rec_mg738K == 'KGluSel'))[0,-1]],color = 'red',clip_on=False)    \n",
    "\n",
    "\n",
    "axes[0][1] = plt.subplot(2,5,2)\n",
    "\n",
    "plt.plot(Voltages_mg739KInmV[np.asarray(np.where(Solutions_Rec_mg739K == VarNaGlu_mg739K))[0,-1]],Currents_mg739KInuA[np.asarray(np.where(Solutions_Rec_mg739K == VarNaGlu_mg739K))[0,-1]],'black',clip_on=False)\n",
    "plt.scatter(Voltages_mg739KInmV[np.asarray(np.where(Solutions_Rec_mg739K == VarNaGlu_mg739K))[0,-1]],Currents_mg739KInuA[np.asarray(np.where(Solutions_Rec_mg739K == VarNaGlu_mg739K))[0,-1]],color = 'black',clip_on=False)    \n",
    "plt.plot(Voltages_mg739KInmV[np.asarray(np.where(Solutions_Rec_mg739K == 'KGluSel'))[0,-1]],Currents_mg739KInuA[np.asarray(np.where(Solutions_Rec_mg739K == 'KGluSel'))[0,-1]],'red',clip_on=False)\n",
    "plt.scatter(Voltages_mg739KInmV[np.asarray(np.where(Solutions_Rec_mg739K == 'KGluSel'))[0,-1]],Currents_mg739KInuA[np.asarray(np.where(Solutions_Rec_mg739K == 'KGluSel'))[0,-1]],color = 'red',clip_on=False)    \n",
    "\n",
    "axes[0][2] = plt.subplot(2,5,3)\n",
    "\n",
    "plt.plot(Voltages_mg740KInmV[np.asarray(np.where(Solutions_Rec_mg740K == VarNaGlu_mg740K))[0,-1]],Currents_mg740KInuA[np.asarray(np.where(Solutions_Rec_mg740K == VarNaGlu_mg740K))[0,-1]],'black',clip_on=False)\n",
    "plt.scatter(Voltages_mg740KInmV[np.asarray(np.where(Solutions_Rec_mg740K == VarNaGlu_mg740K))[0,-1]],Currents_mg740KInuA[np.asarray(np.where(Solutions_Rec_mg740K == VarNaGlu_mg740K))[0,-1]],color = 'black',clip_on=False)    \n",
    "plt.plot(Voltages_mg740KInmV[np.asarray(np.where(Solutions_Rec_mg740K == 'KGluSel'))[0,-1]],Currents_mg740KInuA[np.asarray(np.where(Solutions_Rec_mg740K == 'KGluSel'))[0,-1]],'red',clip_on=False)\n",
    "plt.scatter(Voltages_mg740KInmV[np.asarray(np.where(Solutions_Rec_mg740K == 'KGluSel'))[0,-1]],Currents_mg740KInuA[np.asarray(np.where(Solutions_Rec_mg740K == 'KGluSel'))[0,-1]],color = 'red',clip_on=False)    \n",
    "\n",
    "axes[0][3] = plt.subplot(2,5,4)\n",
    "plt.plot(Voltages_mg748KInmV[np.asarray(np.where(Solutions_Rec_mg748K == VarNaGlu_mg748K))[0,-1]],Currents_mg748KInuA[np.asarray(np.where(Solutions_Rec_mg748K == VarNaGlu_mg748K))[0,-1]],'black',clip_on=False)\n",
    "plt.scatter(Voltages_mg748KInmV[np.asarray(np.where(Solutions_Rec_mg748K == VarNaGlu_mg748K))[0,-1]],Currents_mg748KInuA[np.asarray(np.where(Solutions_Rec_mg748K == VarNaGlu_mg748K))[0,-1]],color = 'black',clip_on=False)    \n",
    "plt.plot(Voltages_mg748KInmV[np.asarray(np.where(Solutions_Rec_mg748K == 'KGluSel'))[0,-1]],Currents_mg748KInuA[np.asarray(np.where(Solutions_Rec_mg748K == 'KGluSel'))[0,-1]],'red',clip_on=False)\n",
    "plt.scatter(Voltages_mg748KInmV[np.asarray(np.where(Solutions_Rec_mg748K == 'KGluSel'))[0,-1]],Currents_mg748KInuA[np.asarray(np.where(Solutions_Rec_mg748K == 'KGluSel'))[0,-1]],color = 'red',clip_on=False)    \n",
    "\n",
    "\n",
    "\n",
    "axes[0][4] = plt.subplot(2,5,5)\n",
    "plt.plot(Voltages_mg759KInmV[np.asarray(np.where(Solutions_Rec_mg759K == VarNaGlu_mg759K))[0,-1]],Currents_mg759KInuA[np.asarray(np.where(Solutions_Rec_mg759K == VarNaGlu_mg759K))[0,-1]],'black',clip_on=False)\n",
    "plt.scatter(Voltages_mg759KInmV[np.asarray(np.where(Solutions_Rec_mg759K == VarNaGlu_mg759K))[0,-1]],Currents_mg759KInuA[np.asarray(np.where(Solutions_Rec_mg759K == VarNaGlu_mg759K))[0,-1]],color = 'black',clip_on=False)    \n",
    "plt.plot(Voltages_mg759KInmV[np.asarray(np.where(Solutions_Rec_mg759K == 'KGluSel'))[0,-1]],Currents_mg759KInuA[np.asarray(np.where(Solutions_Rec_mg759K == 'KGluSel'))[0,-1]],'red',clip_on=False)\n",
    "plt.scatter(Voltages_mg759KInmV[np.asarray(np.where(Solutions_Rec_mg759K == 'KGluSel'))[0,-1]],Currents_mg759KInuA[np.asarray(np.where(Solutions_Rec_mg759K == 'KGluSel'))[0,-1]],color = 'red',clip_on=False)    \n",
    "\n",
    "# ###################################### \n",
    "axes[1][0] = plt.subplot(2,5,6)\n",
    "plt.plot(Voltages_mg419KInmV[np.asarray(np.where(Solutions_Rec_mg419K == VarNaGlu_mg419K))[0,-1]],Currents_mg419KInuA[np.asarray(np.where(Solutions_Rec_mg419K == VarNaGlu_mg419K))[0,-1]],'black',clip_on=False)\n",
    "plt.scatter(Voltages_mg419KInmV[np.asarray(np.where(Solutions_Rec_mg419K == VarNaGlu_mg419K))[0,-1]],Currents_mg419KInuA[np.asarray(np.where(Solutions_Rec_mg419K == VarNaGlu_mg419K))[0,-1]],color = 'black',clip_on=False)    \n",
    "plt.plot(Voltages_mg419KInmV[np.asarray(np.where(Solutions_Rec_mg419K == 'KGluSel'))[0,-1]],Currents_mg419KInuA[np.asarray(np.where(Solutions_Rec_mg419K == 'KGluSel'))[0,-1]],'red',clip_on=False)\n",
    "plt.scatter(Voltages_mg419KInmV[np.asarray(np.where(Solutions_Rec_mg419K == 'KGluSel'))[0,-1]],Currents_mg419KInuA[np.asarray(np.where(Solutions_Rec_mg419K == 'KGluSel'))[0,-1]],color = 'red',clip_on=False)    \n",
    "\n",
    "axes[1][1] = plt.subplot(2,5,7)\n",
    "plt.plot(Voltages_mg750KInmV[np.asarray(np.where(Solutions_Rec_mg750K == VarNaGlu_mg750K))[0,-1]],Currents_mg750KInuA[np.asarray(np.where(Solutions_Rec_mg750K == VarNaGlu_mg750K))[0,-1]],'black',clip_on=False)\n",
    "plt.scatter(Voltages_mg750KInmV[np.asarray(np.where(Solutions_Rec_mg750K == VarNaGlu_mg750K))[0,-1]],Currents_mg750KInuA[np.asarray(np.where(Solutions_Rec_mg750K == VarNaGlu_mg750K))[0,-1]],color = 'black',clip_on=False)    \n",
    "plt.plot(Voltages_mg750KInmV[np.asarray(np.where(Solutions_Rec_mg750K == 'KGluSel'))[0,-1]],Currents_mg750KInuA[np.asarray(np.where(Solutions_Rec_mg750K == 'KGluSel'))[0,-1]],'red',clip_on=False)\n",
    "plt.scatter(Voltages_mg750KInmV[np.asarray(np.where(Solutions_Rec_mg750K == 'KGluSel'))[0,-1]],Currents_mg750KInuA[np.asarray(np.where(Solutions_Rec_mg750K == 'KGluSel'))[0,-1]],color = 'red',clip_on=False)    \n",
    "\n",
    "\n",
    "axes[1][2] = plt.subplot(2,5,8)\n",
    "\n",
    "plt.plot(Voltages_mg760KInmV[np.asarray(np.where(Solutions_Rec_mg760K == VarNaGlu_mg760K))[0,-1]],Currents_mg760KInuA[np.asarray(np.where(Solutions_Rec_mg760K == VarNaGlu_mg760K))[0,-1]],'black',clip_on=False)\n",
    "plt.scatter(Voltages_mg760KInmV[np.asarray(np.where(Solutions_Rec_mg760K == VarNaGlu_mg760K))[0,-1]],Currents_mg760KInuA[np.asarray(np.where(Solutions_Rec_mg760K == VarNaGlu_mg760K))[0,-1]],color = 'black',clip_on=False)    \n",
    "plt.plot(Voltages_mg760KInmV[np.asarray(np.where(Solutions_Rec_mg760K == 'KGluSel'))[0,-1]],Currents_mg760KInuA[np.asarray(np.where(Solutions_Rec_mg760K == 'KGluSel'))[0,-1]],'red',clip_on=False)\n",
    "plt.scatter(Voltages_mg760KInmV[np.asarray(np.where(Solutions_Rec_mg760K == 'KGluSel'))[0,-1]],Currents_mg760KInuA[np.asarray(np.where(Solutions_Rec_mg760K == 'KGluSel'))[0,-1]],color = 'red',clip_on=False)    \n",
    "\n",
    "axes[1][3] = plt.subplot(2,5,9)\n",
    "plt.plot(Voltages_mg753KInmV[np.asarray(np.where(Solutions_Rec_mg753K == VarNaGlu_mg753K))[0,-1]],Currents_mg753KInuA[np.asarray(np.where(Solutions_Rec_mg753K == VarNaGlu_mg753K))[0,-1]],'black',clip_on=False)\n",
    "plt.scatter(Voltages_mg753KInmV[np.asarray(np.where(Solutions_Rec_mg753K == VarNaGlu_mg753K))[0,-1]],Currents_mg753KInuA[np.asarray(np.where(Solutions_Rec_mg753K == VarNaGlu_mg753K))[0,-1]],color = 'black',clip_on=False)    \n",
    "plt.plot(Voltages_mg753KInmV[np.asarray(np.where(Solutions_Rec_mg753K == 'KGluSel'))[0,-1]],Currents_mg753KInuA[np.asarray(np.where(Solutions_Rec_mg753K == 'KGluSel'))[0,-1]],'red',clip_on=False)\n",
    "plt.scatter(Voltages_mg753KInmV[np.asarray(np.where(Solutions_Rec_mg753K == 'KGluSel'))[0,-1]],Currents_mg753KInuA[np.asarray(np.where(Solutions_Rec_mg753K == 'KGluSel'))[0,-1]],color = 'red',clip_on=False)    \n",
    "\n",
    "\n",
    "axes[1][4] = plt.subplot(2,5,10)\n",
    "plt.plot(Voltages_mg751KInmV[np.asarray(np.where(Solutions_Rec_mg751K == VarNaGlu_mg751K))[0,-1]],Currents_mg751KInuA[np.asarray(np.where(Solutions_Rec_mg751K == VarNaGlu_mg751K))[0,-1]],'black',clip_on=False)\n",
    "plt.scatter(Voltages_mg751KInmV[np.asarray(np.where(Solutions_Rec_mg751K == VarNaGlu_mg751K))[0,-1]],Currents_mg751KInuA[np.asarray(np.where(Solutions_Rec_mg751K == VarNaGlu_mg751K))[0,-1]],color = 'black',clip_on=False)    \n",
    "plt.plot(Voltages_mg751KInmV[np.asarray(np.where(Solutions_Rec_mg751K == 'KGluSel'))[0,-1]],Currents_mg751KInuA[np.asarray(np.where(Solutions_Rec_mg751K == 'KGluSel'))[0,-1]],'red',clip_on=False)\n",
    "plt.scatter(Voltages_mg751KInmV[np.asarray(np.where(Solutions_Rec_mg751K == 'KGluSel'))[0,-1]],Currents_mg751KInuA[np.asarray(np.where(Solutions_Rec_mg751K == 'KGluSel'))[0,-1]],color = 'red',clip_on=False)    \n",
    "\n",
    "\n",
    "\n",
    "###########################\n",
    "xlimSet = [-100,75]\n",
    "xticksSet=[-100,-50,50,75]\n",
    "ylimSet = [-80,40]\n",
    "\n",
    "#add ylim\n",
    "\n",
    "for row in range(2): \n",
    "    for col in range(5):\n",
    "        axes[row][col].set_xlim(xlimSet)\n",
    "        axes[row][col].set_xticks(xticksSet)\n",
    "        #axes[row][col].set_ylim(ylimSet)\n",
    "        # Hide the right and top spines\n",
    "        axes[row][col].spines['right'].set_visible(False)\n",
    "        axes[row][col].spines['top'].set_visible(False)\n",
    "        # Only show ticks on the left and bottom spines\n",
    "        axes[row][col].yaxis.set_ticks_position('left')\n",
    "        axes[row][col].xaxis.set_ticks_position('bottom')\n",
    "        axes[row][col].get_yaxis().set_tick_params(direction='in')\n",
    "        axes[row][col].get_xaxis().set_tick_params(direction='in')\n",
    "        # Move left y-axis and bottim x-axis to centre, passing through (0,0)\n",
    "        axes[row][col].spines['left'].set_position('zero')\n",
    "        axes[row][col].spines['bottom'].set_position('zero')\n",
    "        axes[row][col].set_xlabel('mV',fontsize=AxisLabelSize)\n",
    "        axes[row][col].set_ylabel('µA',rotation=0,fontsize=AxisLabelSize)\n",
    "        axes[row][col].xaxis.set_label_coords(0.06,0.68)\n",
    "        axes[row][col].yaxis.set_label_coords(0.7,0.96)\n",
    "        axes[row][col].tick_params(axis='both', which='major', labelsize=AxisTickLabelSize)  \n",
    "\n",
    "\n",
    "n = 0        \n",
    "for row in range(2): \n",
    "    for col in range(5):       \n",
    "        axes[row][col].text( 50,-0.4,LabelAlanin[n],color='red',fontsize=AxisTickLabelSize)\n",
    "        n = n+1\n",
    "\n",
    "\n",
    "\n",
    "\n",
    "\n",
    "plt.suptitle('Potassium')\n",
    "\n",
    "\n",
    "plt.gcf().subplots_adjust(bottom=0.1, left=0.1,right=None, top=None,hspace=None, wspace=None)     \n",
    "      \n",
    "plt.savefig(filedirExportFig+\"IVcurvesSelectivity-Alanine-Potassium\"+'.pdf')\n"
   ]
  },
  {
   "cell_type": "code",
   "execution_count": null,
   "metadata": {},
   "outputs": [],
   "source": []
  },
  {
   "cell_type": "code",
   "execution_count": 105,
   "metadata": {},
   "outputs": [
    {
     "data": {
      "image/png": "[encoded data removed]",
      "text/plain": [
       "<Figure size 648x288 with 10 Axes>"
      ]
     },
     "metadata": {
      "needs_background": "light"
     },
     "output_type": "display_data"
    }
   ],
   "source": [
    "#index into Voltage 1 to Voltage 9 AND index into MeandStep1 to 9 (Currents) and rename  \n",
    "#TODO: change to not hardcoded if order in textfile changes\n",
    "\n",
    "fig, axes = plt.subplots(nrows=2, ncols=5, figsize=(9, 4))\n",
    "# if nrows = 2 axes[] counts rows and not col and limits axess handling\n",
    "\n",
    "\n",
    "\n",
    "axes[0][0] = plt.subplot(2,5,1)\n",
    "plt.plot(Voltages_mg738NmgInmV[np.asarray(np.where(Solutions_Rec_mg738Nmg == VarNaGlu_mg738Nmg))[0,-1]],Currents_mg738NmgInuA[np.asarray(np.where(Solutions_Rec_mg738Nmg == VarNaGlu_mg738Nmg))[0,-1]],'black',clip_on=False)\n",
    "plt.scatter(Voltages_mg738NmgInmV[np.asarray(np.where(Solutions_Rec_mg738Nmg == VarNaGlu_mg738Nmg))[0,-1]],Currents_mg738NmgInuA[np.asarray(np.where(Solutions_Rec_mg738Nmg == VarNaGlu_mg738Nmg))[0,-1]],color = 'black',clip_on=False)    \n",
    "plt.plot(Voltages_mg738NmgInmV[np.asarray(np.where(Solutions_Rec_mg738Nmg == 'NmgGluSel'))[0,-1]],Currents_mg738NmgInuA[np.asarray(np.where(Solutions_Rec_mg738Nmg == 'NmgGluSel'))[0,-1]],'red',clip_on=False)\n",
    "plt.scatter(Voltages_mg738NmgInmV[np.asarray(np.where(Solutions_Rec_mg738Nmg == 'NmgGluSel'))[0,-1]],Currents_mg738NmgInuA[np.asarray(np.where(Solutions_Rec_mg738Nmg == 'NmgGluSel'))[0,-1]],color = 'red',clip_on=False)    \n",
    "\n",
    "\n",
    "\n",
    "axes[0][1] = plt.subplot(2,5,2)\n",
    "\n",
    "plt.plot(Voltages_mg739NmgInmV[np.asarray(np.where(Solutions_Rec_mg739Nmg == VarNaGlu_mg739Nmg))[0,-1]],Currents_mg739NmgInuA[np.asarray(np.where(Solutions_Rec_mg739Nmg == VarNaGlu_mg739Nmg))[0,-1]],'black',clip_on=False)\n",
    "plt.scatter(Voltages_mg739NmgInmV[np.asarray(np.where(Solutions_Rec_mg739Nmg == VarNaGlu_mg739Nmg))[0,-1]],Currents_mg739NmgInuA[np.asarray(np.where(Solutions_Rec_mg739Nmg == VarNaGlu_mg739Nmg))[0,-1]],color = 'black',clip_on=False)    \n",
    "plt.plot(Voltages_mg739NmgInmV[np.asarray(np.where(Solutions_Rec_mg739Nmg == 'NmgGluSel'))[0,-1]],Currents_mg739NmgInuA[np.asarray(np.where(Solutions_Rec_mg739Nmg == 'NmgGluSel'))[0,-1]],'red',clip_on=False)\n",
    "plt.scatter(Voltages_mg739NmgInmV[np.asarray(np.where(Solutions_Rec_mg739Nmg == 'NmgGluSel'))[0,-1]],Currents_mg739NmgInuA[np.asarray(np.where(Solutions_Rec_mg739Nmg == 'NmgGluSel'))[0,-1]],color = 'red',clip_on=False)    \n",
    "\n",
    "\n",
    "axes[0][2] = plt.subplot(2,5,3)\n",
    "plt.plot(Voltages_mg740NmgInmV[np.asarray(np.where(Solutions_Rec_mg740Nmg == VarNaGlu_mg740Nmg))[0,-1]],Currents_mg740NmgInuA[np.asarray(np.where(Solutions_Rec_mg740Nmg == VarNaGlu_mg740Nmg))[0,-1]],'black',clip_on=False)\n",
    "plt.scatter(Voltages_mg740NmgInmV[np.asarray(np.where(Solutions_Rec_mg740Nmg == VarNaGlu_mg740Nmg))[0,-1]],Currents_mg740NmgInuA[np.asarray(np.where(Solutions_Rec_mg740Nmg == VarNaGlu_mg740Nmg))[0,-1]],color = 'black',clip_on=False)    \n",
    "plt.plot(Voltages_mg740NmgInmV[np.asarray(np.where(Solutions_Rec_mg740Nmg == 'NmgGluSel'))[0,-1]],Currents_mg740NmgInuA[np.asarray(np.where(Solutions_Rec_mg740Nmg == 'NmgGluSel'))[0,-1]],'red',clip_on=False)\n",
    "plt.scatter(Voltages_mg740NmgInmV[np.asarray(np.where(Solutions_Rec_mg740Nmg == 'NmgGluSel'))[0,-1]],Currents_mg740NmgInuA[np.asarray(np.where(Solutions_Rec_mg740Nmg == 'NmgGluSel'))[0,-1]],color = 'red',clip_on=False)    \n",
    "\n",
    "\n",
    "\n",
    "axes[0][3] = plt.subplot(2,5,4)\n",
    "\n",
    "plt.plot(Voltages_mg748NmgInmV[np.asarray(np.where(Solutions_Rec_mg748Nmg == VarNaGlu_mg748Nmg))[0,-1]],Currents_mg748NmgInuA[np.asarray(np.where(Solutions_Rec_mg748Nmg == VarNaGlu_mg748Nmg))[0,-1]],'black',clip_on=False)\n",
    "plt.scatter(Voltages_mg748NmgInmV[np.asarray(np.where(Solutions_Rec_mg748Nmg == VarNaGlu_mg748Nmg))[0,-1]],Currents_mg748NmgInuA[np.asarray(np.where(Solutions_Rec_mg748Nmg == VarNaGlu_mg748Nmg))[0,-1]],color = 'black',clip_on=False)    \n",
    "plt.plot(Voltages_mg748NmgInmV[np.asarray(np.where(Solutions_Rec_mg748Nmg == 'NmgGluSel'))[0,-1]],Currents_mg748NmgInuA[np.asarray(np.where(Solutions_Rec_mg748Nmg == 'NmgGluSel'))[0,-1]],'red',clip_on=False)\n",
    "plt.scatter(Voltages_mg748NmgInmV[np.asarray(np.where(Solutions_Rec_mg748Nmg == 'NmgGluSel'))[0,-1]],Currents_mg748NmgInuA[np.asarray(np.where(Solutions_Rec_mg748Nmg == 'NmgGluSel'))[0,-1]],color = 'red',clip_on=False)    \n",
    "\n",
    "\n",
    "axes[0][4] = plt.subplot(2,5,5)\n",
    "plt.plot(Voltages_mg759NmgInmV[np.asarray(np.where(Solutions_Rec_mg759Nmg == VarNaGlu_mg759Nmg))[0,-1]],Currents_mg759NmgInuA[np.asarray(np.where(Solutions_Rec_mg759Nmg == VarNaGlu_mg759Nmg))[0,-1]],'black',clip_on=False)\n",
    "plt.scatter(Voltages_mg759NmgInmV[np.asarray(np.where(Solutions_Rec_mg759Nmg == VarNaGlu_mg759Nmg))[0,-1]],Currents_mg759NmgInuA[np.asarray(np.where(Solutions_Rec_mg759Nmg == VarNaGlu_mg759Nmg))[0,-1]],color = 'black',clip_on=False)    \n",
    "plt.plot(Voltages_mg759NmgInmV[np.asarray(np.where(Solutions_Rec_mg759Nmg == 'NmgGluSel'))[0,-1]],Currents_mg759NmgInuA[np.asarray(np.where(Solutions_Rec_mg759Nmg == 'NmgGluSel'))[0,-1]],'red',clip_on=False)\n",
    "plt.scatter(Voltages_mg759NmgInmV[np.asarray(np.where(Solutions_Rec_mg759Nmg == 'NmgGluSel'))[0,-1]],Currents_mg759NmgInuA[np.asarray(np.where(Solutions_Rec_mg759Nmg == 'NmgGluSel'))[0,-1]],color = 'red',clip_on=False)    \n",
    "\n",
    "\n",
    "# ###################################### \n",
    "axes[1][0] = plt.subplot(2,5,6)\n",
    "plt.plot(Voltages_mg419NmgInmV[np.asarray(np.where(Solutions_Rec_mg419Nmg == VarNaGlu_mg419Nmg))[0,-1]],Currents_mg419NmgInuA[np.asarray(np.where(Solutions_Rec_mg419Nmg == VarNaGlu_mg419Nmg))[0,-1]],'black',clip_on=False)\n",
    "plt.scatter(Voltages_mg419NmgInmV[np.asarray(np.where(Solutions_Rec_mg419Nmg == VarNaGlu_mg419Nmg))[0,-1]],Currents_mg419NmgInuA[np.asarray(np.where(Solutions_Rec_mg419Nmg == VarNaGlu_mg419Nmg))[0,-1]],color = 'black',clip_on=False)    \n",
    "plt.plot(Voltages_mg419NmgInmV[np.asarray(np.where(Solutions_Rec_mg419Nmg == 'NmgGluSel'))[0,-1]],Currents_mg419NmgInuA[np.asarray(np.where(Solutions_Rec_mg419Nmg == 'NmgGluSel'))[0,-1]],'red',clip_on=False)\n",
    "plt.scatter(Voltages_mg419NmgInmV[np.asarray(np.where(Solutions_Rec_mg419Nmg == 'NmgGluSel'))[0,-1]],Currents_mg419NmgInuA[np.asarray(np.where(Solutions_Rec_mg419Nmg == 'NmgGluSel'))[0,-1]],color = 'red',clip_on=False)    \n",
    "\n",
    "\n",
    "axes[1][1] = plt.subplot(2,5,7)\n",
    "plt.plot(Voltages_mg750NmgInmV[np.asarray(np.where(Solutions_Rec_mg750Nmg == VarNaGlu_mg750Nmg))[0,-1]],Currents_mg750NmgInuA[np.asarray(np.where(Solutions_Rec_mg750Nmg == VarNaGlu_mg750Nmg))[0,-1]],'black',clip_on=False)\n",
    "plt.scatter(Voltages_mg750NmgInmV[np.asarray(np.where(Solutions_Rec_mg750Nmg == VarNaGlu_mg750Nmg))[0,-1]],Currents_mg750NmgInuA[np.asarray(np.where(Solutions_Rec_mg750Nmg == VarNaGlu_mg750Nmg))[0,-1]],color = 'black',clip_on=False)    \n",
    "plt.plot(Voltages_mg750NmgInmV[np.asarray(np.where(Solutions_Rec_mg750Nmg == 'NmgGluSel'))[0,-1]],Currents_mg750NmgInuA[np.asarray(np.where(Solutions_Rec_mg750Nmg == 'NmgGluSel'))[0,-1]],'red',clip_on=False)\n",
    "plt.scatter(Voltages_mg750NmgInmV[np.asarray(np.where(Solutions_Rec_mg750Nmg == 'NmgGluSel'))[0,-1]],Currents_mg750NmgInuA[np.asarray(np.where(Solutions_Rec_mg750Nmg == 'NmgGluSel'))[0,-1]],color = 'red',clip_on=False)    \n",
    "\n",
    "\n",
    "axes[1][2] = plt.subplot(2,5,8)\n",
    "\n",
    "plt.plot(Voltages_mg760NmgInmV[np.asarray(np.where(Solutions_Rec_mg760Nmg == VarNaGlu_mg760Nmg))[0,-1]],Currents_mg760NmgInuA[np.asarray(np.where(Solutions_Rec_mg760Nmg == VarNaGlu_mg760Nmg))[0,-1]],'black',clip_on=False)\n",
    "plt.scatter(Voltages_mg760NmgInmV[np.asarray(np.where(Solutions_Rec_mg760Nmg == VarNaGlu_mg760Nmg))[0,-1]],Currents_mg760NmgInuA[np.asarray(np.where(Solutions_Rec_mg760Nmg == VarNaGlu_mg760Nmg))[0,-1]],color = 'black',clip_on=False)    \n",
    "plt.plot(Voltages_mg760NmgInmV[np.asarray(np.where(Solutions_Rec_mg760Nmg == 'NmgGluSel'))[0,-1]],Currents_mg760NmgInuA[np.asarray(np.where(Solutions_Rec_mg760Nmg == 'NmgGluSel'))[0,-1]],'red',clip_on=False)\n",
    "plt.scatter(Voltages_mg760NmgInmV[np.asarray(np.where(Solutions_Rec_mg760Nmg == 'NmgGluSel'))[0,-1]],Currents_mg760NmgInuA[np.asarray(np.where(Solutions_Rec_mg760Nmg == 'NmgGluSel'))[0,-1]],color = 'red',clip_on=False)    \n",
    "\n",
    "\n",
    "axes[1][3] = plt.subplot(2,5,9)\n",
    "plt.plot(Voltages_mg753NmgInmV[np.asarray(np.where(Solutions_Rec_mg753Nmg == VarNaGlu_mg753Nmg))[0,-1]],Currents_mg753NmgInuA[np.asarray(np.where(Solutions_Rec_mg753Nmg == VarNaGlu_mg753Nmg))[0,-1]],'black',clip_on=False)\n",
    "plt.scatter(Voltages_mg753NmgInmV[np.asarray(np.where(Solutions_Rec_mg753Nmg == VarNaGlu_mg753Nmg))[0,-1]],Currents_mg753NmgInuA[np.asarray(np.where(Solutions_Rec_mg753Nmg == VarNaGlu_mg753Nmg))[0,-1]],color = 'black',clip_on=False)    \n",
    "plt.plot(Voltages_mg753NmgInmV[np.asarray(np.where(Solutions_Rec_mg753Nmg == 'NmgGluSel'))[0,-1]],Currents_mg753NmgInuA[np.asarray(np.where(Solutions_Rec_mg753Nmg == 'NmgGluSel'))[0,-1]],'red',clip_on=False)\n",
    "plt.scatter(Voltages_mg753NmgInmV[np.asarray(np.where(Solutions_Rec_mg753Nmg == 'NmgGluSel'))[0,-1]],Currents_mg753NmgInuA[np.asarray(np.where(Solutions_Rec_mg753Nmg == 'NmgGluSel'))[0,-1]],color = 'red',clip_on=False)    \n",
    "\n",
    "\n",
    "\n",
    "axes[1][4] = plt.subplot(2,5,10)\n",
    "\n",
    "plt.plot(Voltages_mg751NmgInmV[np.asarray(np.where(Solutions_Rec_mg751Nmg == VarNaGlu_mg751Nmg))[0,-1]],Currents_mg751NmgInuA[np.asarray(np.where(Solutions_Rec_mg751Nmg == VarNaGlu_mg751Nmg))[0,-1]],'black',clip_on=False)\n",
    "plt.scatter(Voltages_mg751NmgInmV[np.asarray(np.where(Solutions_Rec_mg751Nmg == VarNaGlu_mg751Nmg))[0,-1]],Currents_mg751NmgInuA[np.asarray(np.where(Solutions_Rec_mg751Nmg == VarNaGlu_mg751Nmg))[0,-1]],color = 'black',clip_on=False)    \n",
    "plt.plot(Voltages_mg751NmgInmV[np.asarray(np.where(Solutions_Rec_mg751Nmg == 'NmgGluSel'))[0,-1]],Currents_mg751NmgInuA[np.asarray(np.where(Solutions_Rec_mg751Nmg == 'NmgGluSel'))[0,-1]],'red',clip_on=False)\n",
    "plt.scatter(Voltages_mg751NmgInmV[np.asarray(np.where(Solutions_Rec_mg751Nmg == 'NmgGluSel'))[0,-1]],Currents_mg751NmgInuA[np.asarray(np.where(Solutions_Rec_mg751Nmg == 'NmgGluSel'))[0,-1]],color = 'red',clip_on=False)    \n",
    "\n",
    "\n",
    "\n",
    "###########################\n",
    "xlimSet = [-100,75]\n",
    "xticksSet=[-100,-50,50,75]\n",
    "ylimSet = [-80,40]\n",
    "\n",
    "#add ylim\n",
    "\n",
    "for row in range(2): \n",
    "    for col in range(5):\n",
    "        axes[row][col].set_xlim(xlimSet)\n",
    "        axes[row][col].set_xticks(xticksSet)\n",
    "        #axes[row][col].set_ylim(ylimSet)\n",
    "        # Hide the right and top spines\n",
    "        axes[row][col].spines['right'].set_visible(False)\n",
    "        axes[row][col].spines['top'].set_visible(False)\n",
    "        # Only show ticks on the left and bottom spines\n",
    "        axes[row][col].yaxis.set_ticks_position('left')\n",
    "        axes[row][col].xaxis.set_ticks_position('bottom')\n",
    "        axes[row][col].get_yaxis().set_tick_params(direction='in')\n",
    "        axes[row][col].get_xaxis().set_tick_params(direction='in')\n",
    "        # Move left y-axis and bottim x-axis to centre, passing through (0,0)\n",
    "        axes[row][col].spines['left'].set_position('zero')\n",
    "        axes[row][col].spines['bottom'].set_position('zero')\n",
    "        axes[row][col].set_xlabel('mV',fontsize=AxisLabelSize)\n",
    "        axes[row][col].set_ylabel('µA',rotation=0,fontsize=AxisLabelSize)\n",
    "        axes[row][col].xaxis.set_label_coords(0.06,0.68)\n",
    "        axes[row][col].yaxis.set_label_coords(0.7,0.96)\n",
    "        axes[row][col].tick_params(axis='both', which='major', labelsize=AxisTickLabelSize)  \n",
    "\n",
    "\n",
    "n = 0        \n",
    "for row in range(2): \n",
    "    for col in range(5):       \n",
    "        axes[row][col].text( 50,-0.4,LabelAlanin[n],color='red',fontsize=AxisTickLabelSize)\n",
    "        n = n+1\n",
    "\n",
    "\n",
    "\n",
    "\n",
    "\n",
    "plt.suptitle('NMG')\n",
    "\n",
    "\n",
    "plt.gcf().subplots_adjust(bottom=0.1, left=0.1,right=None, top=None,hspace=None, wspace=None)     \n",
    "      \n",
    "plt.savefig(filedirExportFig+\"IVcurvesSelectivity-Alanine-NMG\"+'.pdf')\n"
   ]
  },
  {
   "cell_type": "code",
   "execution_count": null,
   "metadata": {},
   "outputs": [],
   "source": []
  },
  {
   "cell_type": "code",
   "execution_count": null,
   "metadata": {},
   "outputs": [],
   "source": []
  },
  {
   "cell_type": "code",
   "execution_count": null,
   "metadata": {},
   "outputs": [],
   "source": []
  },
  {
   "cell_type": "code",
   "execution_count": null,
   "metadata": {},
   "outputs": [],
   "source": []
  },
  {
   "cell_type": "code",
   "execution_count": null,
   "metadata": {},
   "outputs": [],
   "source": []
  }
 ],
 "metadata": {
  "kernelspec": {
   "display_name": "Python 3",
   "language": "python",
   "name": "python3"
  },
  "language_info": {
   "codemirror_mode": {
    "name": "ipython",
    "version": 3
   },
   "file_extension": ".py",
   "mimetype": "text/x-python",
   "name": "python",
   "nbconvert_exporter": "python",
   "pygments_lexer": "ipython3",
   "version": "3.7.4"
  }
 },
 "nbformat": 4,
 "nbformat_minor": 2
}
