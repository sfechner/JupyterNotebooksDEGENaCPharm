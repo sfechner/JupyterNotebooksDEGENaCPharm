{
 "cells": [
  {
   "cell_type": "code",
   "execution_count": 2,
   "metadata": {},
   "outputs": [
    {
     "name": "stderr",
     "output_type": "stream",
     "text": [
      "/Users/wormsenselab/anaconda3/envs/dabest/lib/python3.7/site-packages/matplotlib/__init__.py:1003: UserWarning: Duplicate key in file \"/Users/Fechner/.matplotlib/matplotlibrc\", line #3\n",
      "  (fname, cnt))\n",
      "/Users/wormsenselab/anaconda3/envs/dabest/lib/python3.7/site-packages/matplotlib/__init__.py:1003: UserWarning: Duplicate key in file \"/Users/Fechner/.matplotlib/matplotlibrc\", line #4\n",
      "  (fname, cnt))\n"
     ]
    }
   ],
   "source": [
    "from matplotlib import pyplot as plt\n",
    "import numpy as np\n",
    "%matplotlib inline\n",
    "from matplotlib import gridspec\n",
    "from matplotlib import rcParams\n",
    "from scipy.optimize import curve_fit\n",
    "import scipy.stats as stats\n",
    "from matplotlib import lines\n",
    "import seaborn as sns\n",
    "plt.rcParams['pdf.fonttype'] = 42\n",
    "plt.rcParams['ps.fonttype'] = 42\n",
    "\n",
    "\n",
    "import pandas as pd\n",
    "import glob\n",
    "\n",
    "#thinter to tbe able to choose a meta data file\n",
    "#import tkinter as tk\n",
    "#from tkinter import filedialog#to open dialog box to choose file\n",
    "#from tkinter.filedialog import askopenfilename"
   ]
  },
  {
   "cell_type": "code",
   "execution_count": 3,
   "metadata": {},
   "outputs": [
    {
     "name": "stdout",
     "output_type": "stream",
     "text": [
      "/Users/Fechner/Box Sync/Fechner/TEVC-GoodmanlabBOX/Project-STFX/AnalysisSTFX/Selectivity\n"
     ]
    }
   ],
   "source": [
    "cd ~/Box Sync/Fechner/TEVC-GoodmanlabBOX/Project-STFX/AnalysisSTFX/Selectivity/"
   ]
  },
  {
   "cell_type": "code",
   "execution_count": 4,
   "metadata": {},
   "outputs": [],
   "source": [
    "#filedir ='C:/Users/Fechner/Box Sync/Fechner/TEVC-GoodmanlabBOX/Project-STFX/RatioSTFX/' #windows\n",
    "filedir ='/Users/Fechner/Box Sync/Fechner/TEVC-GoodmanlabBOX/Project-STFX/AnalysisSTFX/Selectivity/'\n",
    "filedirExportFig ='/Users/Fechner/Box Sync/Fechner/TEVC-GoodmanlabBOX/Project-STFX/AnalysisSTFX/AnalysisNterm/FiguresFromNotebook/'\n",
    "\n",
    "#root = tk.Tk()\n",
    "#root.withdraw() not sure if becessary, description to avoid opening full gui\n",
    "\n",
    "#either choose a cetain file or open dialog box\n",
    "filename = 'SummaryVrev.xlsx'\n",
    "#filename = filedialog.askopenfilename()\n",
    "#root.update() # necessary in Mac(?) to close the dialog box"
   ]
  },
  {
   "cell_type": "code",
   "execution_count": 5,
   "metadata": {},
   "outputs": [
    {
     "data": {
      "text/html": [
       "<div>\n",
       "<style scoped>\n",
       "    .dataframe tbody tr th:only-of-type {\n",
       "        vertical-align: middle;\n",
       "    }\n",
       "\n",
       "    .dataframe tbody tr th {\n",
       "        vertical-align: top;\n",
       "    }\n",
       "\n",
       "    .dataframe thead th {\n",
       "        text-align: right;\n",
       "    }\n",
       "</style>\n",
       "<table border=\"1\" class=\"dataframe\">\n",
       "  <thead>\n",
       "    <tr style=\"text-align: right;\">\n",
       "      <th></th>\n",
       "      <th>Injection</th>\n",
       "      <th>CellID</th>\n",
       "      <th>StartSol</th>\n",
       "      <th>VrStart</th>\n",
       "      <th>Iminus85Start</th>\n",
       "      <th>TestSol</th>\n",
       "      <th>VrTest</th>\n",
       "      <th>Iminus85Test</th>\n",
       "      <th>Vd</th>\n",
       "      <th>Permeability</th>\n",
       "      <th>Ratio</th>\n",
       "    </tr>\n",
       "  </thead>\n",
       "  <tbody>\n",
       "    <tr>\n",
       "      <th>0</th>\n",
       "      <td>mg418mg012</td>\n",
       "      <td>STFX064016</td>\n",
       "      <td>NaGluSel1</td>\n",
       "      <td>-0.010551</td>\n",
       "      <td>3.471326e-07</td>\n",
       "      <td>KGluSel</td>\n",
       "      <td>-0.007148</td>\n",
       "      <td>4.128518e-07</td>\n",
       "      <td>0.003403</td>\n",
       "      <td>1.142181</td>\n",
       "      <td>1.189320</td>\n",
       "    </tr>\n",
       "    <tr>\n",
       "      <th>1</th>\n",
       "      <td>mg418mg012</td>\n",
       "      <td>STFX064016</td>\n",
       "      <td>NaGluSel2</td>\n",
       "      <td>-0.015266</td>\n",
       "      <td>2.807878e-07</td>\n",
       "      <td>CsGluSel</td>\n",
       "      <td>-0.009564</td>\n",
       "      <td>4.137806e-07</td>\n",
       "      <td>0.005702</td>\n",
       "      <td>1.249509</td>\n",
       "      <td>1.473642</td>\n",
       "    </tr>\n",
       "    <tr>\n",
       "      <th>2</th>\n",
       "      <td>mg418mg012</td>\n",
       "      <td>STFX064016</td>\n",
       "      <td>NaGluSel3</td>\n",
       "      <td>-0.009668</td>\n",
       "      <td>3.478454e-07</td>\n",
       "      <td>LiGluSel</td>\n",
       "      <td>-0.017695</td>\n",
       "      <td>2.677335e-07</td>\n",
       "      <td>-0.008026</td>\n",
       "      <td>0.730867</td>\n",
       "      <td>0.769691</td>\n",
       "    </tr>\n",
       "    <tr>\n",
       "      <th>3</th>\n",
       "      <td>mg418mg012</td>\n",
       "      <td>STFX064010</td>\n",
       "      <td>NaGluSel1</td>\n",
       "      <td>-0.010596</td>\n",
       "      <td>1.936072e-07</td>\n",
       "      <td>KGluSel</td>\n",
       "      <td>-0.006268</td>\n",
       "      <td>3.216872e-07</td>\n",
       "      <td>0.004329</td>\n",
       "      <td>1.184220</td>\n",
       "      <td>1.661545</td>\n",
       "    </tr>\n",
       "    <tr>\n",
       "      <th>4</th>\n",
       "      <td>mg418mg012</td>\n",
       "      <td>STFX064010</td>\n",
       "      <td>NaGluSel2</td>\n",
       "      <td>-0.015276</td>\n",
       "      <td>1.331940e-07</td>\n",
       "      <td>CsGluSel</td>\n",
       "      <td>-0.013743</td>\n",
       "      <td>2.640823e-07</td>\n",
       "      <td>0.001533</td>\n",
       "      <td>1.061707</td>\n",
       "      <td>1.982689</td>\n",
       "    </tr>\n",
       "  </tbody>\n",
       "</table>\n",
       "</div>"
      ],
      "text/plain": [
       "    Injection      CellID   StartSol   VrStart  Iminus85Start   TestSol  \\\n",
       "0  mg418mg012  STFX064016  NaGluSel1 -0.010551   3.471326e-07   KGluSel   \n",
       "1  mg418mg012  STFX064016  NaGluSel2 -0.015266   2.807878e-07  CsGluSel   \n",
       "2  mg418mg012  STFX064016  NaGluSel3 -0.009668   3.478454e-07  LiGluSel   \n",
       "3  mg418mg012  STFX064010  NaGluSel1 -0.010596   1.936072e-07   KGluSel   \n",
       "4  mg418mg012  STFX064010  NaGluSel2 -0.015276   1.331940e-07  CsGluSel   \n",
       "\n",
       "     VrTest  Iminus85Test        Vd  Permeability     Ratio  \n",
       "0 -0.007148  4.128518e-07  0.003403      1.142181  1.189320  \n",
       "1 -0.009564  4.137806e-07  0.005702      1.249509  1.473642  \n",
       "2 -0.017695  2.677335e-07 -0.008026      0.730867  0.769691  \n",
       "3 -0.006268  3.216872e-07  0.004329      1.184220  1.661545  \n",
       "4 -0.013743  2.640823e-07  0.001533      1.061707  1.982689  "
      ]
     },
     "execution_count": 5,
     "metadata": {},
     "output_type": "execute_result"
    }
   ],
   "source": [
    "import pandas as pd\n",
    "xl = pd.ExcelFile(filedir+filename)\n",
    "xl.sheet_names\n",
    "\n",
    "df = xl.parse(\"SelAlldata\") #calls for Sheet names \n",
    "df.head()"
   ]
  },
  {
   "cell_type": "code",
   "execution_count": 6,
   "metadata": {},
   "outputs": [],
   "source": [
    "# calculate P0 for mg418\n",
    "colors = ['black','red','yellow','yellow','red','black','red','red', 'black','black','black', 'yellow','black','black',\n",
    "          'red','red','black','red']\n",
    "\n",
    "#colors = [(0.30, 0.69, 0.29),(0.60, 0.31,0.64),(0.89, 0.11,0.10),(1, 0.50,0),(0.22,0.49,0.72),(0.00, 0.00, 0.00),\"red\",\"blue\",(0.00, 0.00, 0.00),(0.22, 0.49, 0.72),(1.00, 0.50, 0.00),\"darkgreen\",(0.30, 0.69, 0.29),(0.30, 0.69, 0.29),(0.6, 0.31, 0.64)]"
   ]
  },
  {
   "cell_type": "code",
   "execution_count": 53,
   "metadata": {},
   "outputs": [],
   "source": [
    "ReNameAlanin ={'F84A':'mg738mg012',\n",
    "         'K85A':'mg739mg012',\n",
    "         'E86A':'mg740mg012',\n",
    "         'F87A':'mg741mg012',\n",
    "         'C88A':'mg748mg012',\n",
    "         'Y89A':'mg759mg012',\n",
    "         'K90A':'mg745mg012',\n",
    "         'T91A':'mg752mg012',\n",
    "         'S92A':'mg749mg012',\n",
    "         'ctr A93':'mg419mg012',\n",
    "         'H94A':'mg750mg012',\n",
    "         'G95A':'mg746mg012',\n",
    "         'I96A':'mg747mg012',\n",
    "         'P97A':'mg760mg012',\n",
    "         'M98A':'mg753mg012',\n",
    "         'I99A':'mg761mg012',\n",
    "         'G100A':'mg751mg012'      \n",
    "        }\n",
    "\n",
    "ReNameChimera={#'M4-NtermDT1':'mg755mg012',\n",
    "               'M4-DT1ABC':'mg733mg012',\n",
    "               #'M4-DT1A':'mg734mg012',\n",
    "               #'M4-DT1B':'mg735mg012',\n",
    "               'M4-DT1C':'mg742mg012',\n",
    "               #'DT1-NtermM4':'mg756mg012',\n",
    "               #'DT1-M4ABC':'mg736mg012',\n",
    "               #'DT1-M4A':'mg737mg012',\n",
    "               'DT1-M4B':'mg757mg012',\n",
    "               'DT1-M4C':'mg758mg012',\n",
    "        }\n",
    "#print(ReNameAlanin)\n",
    "LabelAlanin = list(ReNameAlanin.keys())\n",
    "LabelChimera = list(ReNameChimera.keys())"
   ]
  },
  {
   "cell_type": "code",
   "execution_count": 54,
   "metadata": {},
   "outputs": [],
   "source": [
    "#re-arranging data Alanin\n",
    "UninjAndAlanin = [\"uninjected\"]\n",
    "\n",
    "for i in range(len(LabelAlanin)):\n",
    "    UninjAndAlanin.append(ReNameAlanin[LabelAlanin[i]])\n",
    "    \n",
    "#Potassium = df[(df.Injection.isin([\"uninjected\",\"mg419mg012\",\"mg738mg012\",\"mg739mg012\",\"mg740mg012\",\"mg741mg012\",\"mg748mg012\",\"mg759mg012\",\"mg745mg012\",\"mg752mg012\",\"mg749mg012\",\"mg750mg012\",\"mg746mg012\",\"mg747mg012\", \"mg760mg012\",\"mg753mg012\",\"mg761mg012\",\"mg751mg012\"])) & (df.TestSol.isin([\"KGluSel\"]))] \n",
    "Potassium = df[(df.Injection.isin(UninjAndAlanin)) & (df.TestSol.isin([\"KGluSel\"]))] \n",
    "\n",
    "\n",
    "#re-arranging data chimera\n",
    "UninjAndChimera = [\"uninjected\",\"mg419mg012\"]\n",
    "for i in range(len(LabelChimera)):\n",
    "    UninjAndChimera.append(ReNameChimera[LabelChimera[i]])\n",
    "    \n",
    "PotassiumChimera = df[(df.Injection.isin(UninjAndChimera)) & (df.TestSol.isin([\"KGluSel\"]))] \n"
   ]
  },
  {
   "cell_type": "code",
   "execution_count": 55,
   "metadata": {},
   "outputs": [
    {
     "data": {
      "text/plain": [
       "['uninjected',\n",
       " 'mg738mg012',\n",
       " 'mg739mg012',\n",
       " 'mg740mg012',\n",
       " 'mg741mg012',\n",
       " 'mg748mg012',\n",
       " 'mg759mg012',\n",
       " 'mg745mg012',\n",
       " 'mg752mg012',\n",
       " 'mg749mg012',\n",
       " 'mg419mg012',\n",
       " 'mg750mg012',\n",
       " 'mg746mg012',\n",
       " 'mg747mg012',\n",
       " 'mg760mg012',\n",
       " 'mg753mg012',\n",
       " 'mg761mg012',\n",
       " 'mg751mg012']"
      ]
     },
     "execution_count": 55,
     "metadata": {},
     "output_type": "execute_result"
    }
   ],
   "source": [
    "UninjAndAlanin"
   ]
  },
  {
   "cell_type": "code",
   "execution_count": 56,
   "metadata": {},
   "outputs": [
    {
     "data": {
      "text/plain": [
       "39     mg419mg012\n",
       "43     mg419mg012\n",
       "47     mg419mg012\n",
       "51     mg419mg012\n",
       "55     mg419mg012\n",
       "56     mg419mg012\n",
       "60     mg419mg012\n",
       "119    mg419mg012\n",
       "139    mg757mg012\n",
       "140    mg419mg012\n",
       "145    mg758mg012\n",
       "146    mg758mg012\n",
       "166    mg733mg012\n",
       "169    mg733mg012\n",
       "175    mg419mg012\n",
       "182    uninjected\n",
       "198    uninjected\n",
       "206    mg419mg012\n",
       "212    mg419mg012\n",
       "214    mg742mg012\n",
       "215    mg419mg012\n",
       "221    mg742mg012\n",
       "222    mg742mg012\n",
       "225    uninjected\n",
       "Name: Injection, dtype: object"
      ]
     },
     "execution_count": 56,
     "metadata": {},
     "output_type": "execute_result"
    }
   ],
   "source": [
    "PotassiumChimera['Injection']"
   ]
  },
  {
   "cell_type": "code",
   "execution_count": 57,
   "metadata": {
    "scrolled": true
   },
   "outputs": [
    {
     "data": {
      "image/png": "[encoded data removed]",
      "text/plain": [
       "<Figure size 864x324 with 1 Axes>"
      ]
     },
     "metadata": {
      "needs_background": "light"
     },
     "output_type": "display_data"
    }
   ],
   "source": [
    "fig = plt.figure(figsize=(12, 4.5)) \n",
    "#plt.subplots(2, 2, sharex='col')\n",
    "ax1 = plt.subplot(1,1,1)\n",
    "\n",
    "\n",
    "orderCons = UninjAndAlanin #[\"uninjected\",\"mg419mg012\",\"mg738mg012\",\"mg739mg012\",\"mg740mg012\",\"mg741mg012\",\"mg748mg012\",\"mg759mg012\",\"mg745mg012\",\"mg752mg012\",\"mg749mg012\",\"mg750mg012\",\"mg746mg012\",\"mg747mg012\", \"mg760mg012\",\"mg753mg012\",\"mg761mg012\",\"mg751mg012\"]\n",
    "\n",
    "labels2 = ['Uninj']\n",
    "for i in range(0,len(LabelAlanin)):\n",
    "    #labels2.append('')\n",
    "    labels2.append(LabelAlanin[i])\n",
    "sns.swarmplot(x= Potassium['Injection'], y=Potassium['Permeability'], data = Potassium,palette=sns.color_palette(colors), edgecolor='white', linewidth=0.5, ax = ax1, size = 4,order=orderCons)#order=[\"mg419mg012\",\"pTL69mg012\",\"mg418mg012\",\"mg418mg419mg012\"]\n",
    "sns.boxplot(x= Potassium['Injection'], y=Potassium['Permeability'], data = Potassium, palette=sns.color_palette(colors),ax=ax1,order=orderCons)\n",
    "\n",
    "\n",
    "#sns.swarmplot(y=Datamg418['PCs/Na-DT1d'], data = Datamg418,palette=sns.color_palette(colorsSINGLES), edgecolor='white', linewidth=0.5, size = 4)\n",
    "\n",
    "\n",
    "YlimitPerm = [0,1]\n",
    "\n",
    "##### AXIS 1 ####\n",
    "ax1.set_ylim(YlimitPerm)\n",
    "ax1.spines['right'].set_visible(False)                                  # no spine at the right\n",
    "ax1.spines['top'].set_visible(False)  # no spine at the top\n",
    "ax1.spines['bottom'].set_visible(False)  \n",
    "ax1.yaxis.set_ticks_position('left')                                     # ticks at the left\n",
    "ax1.xaxis.set_ticks_position('bottom')                                 # no spine at the right\n",
    "ax1.spines['left'].set_position(('outward',15))                           # a spine at the left that is put a little aside\n",
    "ax1.spines['bottom'].set_position(('outward',10))  \n",
    "ax1.spines['top'].set_position(('axes',5)) \n",
    "ax1.get_yaxis().set_tick_params(direction='in')\n",
    "ax1.get_xaxis().set_tick_params(direction='in')\n",
    "ax1.plot([-1,50], [1,1] , 'k--', color='#000000', linewidth=1) #gray line for Zero or 1       \n",
    "ax1.plot([-1,50], [0.2,0.2] , 'k--', color='#111111', linewidth=1) #gray line for Zero or 1     \n",
    "ax1.tick_params(axis='both', which='major', labelsize=16)  \n",
    "#ax1.set_title('lithium',size=10) \n",
    "ax1.yaxis.label.set_size(20)\n",
    "ax1.set_ylabel('Relative Permeability (Px/PNa)', fontsize=14)\n",
    "\n",
    "#ax1.xaxis.set_visible(False)\n",
    "ax1.set_xticklabels(labels2,rotation=30)\n",
    "\n",
    "\n",
    "\n",
    "plt.gcf().subplots_adjust(bottom=0.17, left=0.25,right=None, top=None,hspace=0.75, wspace=0.2) \n",
    "\n",
    "plt.savefig(filedirExportFig+\"PermeabilityNtermAlanin\"+'.pdf')\n",
    "\n",
    "\n"
   ]
  },
  {
   "cell_type": "code",
   "execution_count": 58,
   "metadata": {},
   "outputs": [
    {
     "data": {
      "image/png": "[encoded data removed]",
      "text/plain": [
       "<Figure size 864x324 with 1 Axes>"
      ]
     },
     "metadata": {
      "needs_background": "light"
     },
     "output_type": "display_data"
    }
   ],
   "source": [
    "fig = plt.figure(figsize=(12, 4.5)) \n",
    "#plt.subplots(2, 2, sharex='col')\n",
    "ax1 = plt.subplot(1,1,1)\n",
    "\n",
    "\n",
    "orderCons = UninjAndChimera#[\"uninjected\",\"mg419mg012\",\"mg738mg012\",\"mg739mg012\",\"mg740mg012\",\"mg741mg012\",\"mg748mg012\",\"mg759mg012\",\"mg745mg012\",\"mg752mg012\",\"mg749mg012\",\"mg750mg012\",\"mg746mg012\",\"mg747mg012\", \"mg760mg012\",\"mg753mg012\",\"mg761mg012\",\"mg751mg012\"]\n",
    "\n",
    "\n",
    "labels2 = ['Uninj','MEC-4d (ctr A93)']\n",
    "for i in range(0,len(LabelChimera)):\n",
    "    #labels2.append('')\n",
    "    labels2.append(LabelChimera[i])\n",
    "\n",
    "sns.swarmplot(x= PotassiumChimera['Injection'], y=PotassiumChimera['Permeability'], data = PotassiumChimera,palette=sns.color_palette(colors), edgecolor='white', linewidth=0.5, ax = ax1, size = 4,order=orderCons)#order=[\"mg419mg012\",\"pTL69mg012\",\"mg418mg012\",\"mg418mg419mg012\"]\n",
    "sns.boxplot(x= PotassiumChimera['Injection'], y=PotassiumChimera['Permeability'], data = PotassiumChimera, palette=sns.color_palette(colors),ax=ax1,order=orderCons)\n",
    "\n",
    "\n",
    "#sns.swarmplot(y=Datamg418['PCs/Na-DT1d'], data = Datamg418,palette=sns.color_palette(colorsSINGLES), edgecolor='white', linewidth=0.5, size = 4)\n",
    "\n",
    "\n",
    "YlimitPerm = [0,40]\n",
    "\n",
    "##### AXIS 1 ####\n",
    "ax1.set_ylim(YlimitPerm)\n",
    "ax1.spines['right'].set_visible(False)                                  # no spine at the right\n",
    "ax1.spines['top'].set_visible(False)  # no spine at the top\n",
    "ax1.spines['bottom'].set_visible(False)  \n",
    "ax1.yaxis.set_ticks_position('left')                                     # ticks at the left\n",
    "ax1.xaxis.set_ticks_position('bottom')                                 # no spine at the right\n",
    "ax1.spines['left'].set_position(('outward',15))                           # a spine at the left that is put a little aside\n",
    "ax1.spines['bottom'].set_position(('outward',10))  \n",
    "ax1.spines['top'].set_position(('axes',5)) \n",
    "ax1.get_yaxis().set_tick_params(direction='in')\n",
    "ax1.get_xaxis().set_tick_params(direction='in')\n",
    "ax1.plot([-1,50], [1,1] , 'k--', color='#000000', linewidth=1) #gray line for Zero or 1       \n",
    "ax1.plot([-1,50], [0.2,0.2] , 'k--', color='#111111', linewidth=1) #gray line for Zero or 1     \n",
    "ax1.tick_params(axis='both', which='major', labelsize=16)  \n",
    "#ax1.set_title('lithium',size=10) \n",
    "ax1.yaxis.label.set_size(20)\n",
    "ax1.set_ylabel('Relative Permeability (Px/PNa)', fontsize=14)\n",
    "\n",
    "#ax1.xaxis.set_visible(False)\n",
    "ax1.set_xticklabels(labels2,rotation=30)\n",
    "\n",
    "\n",
    "\n",
    "plt.gcf().subplots_adjust(bottom=0.17, left=0.25,right=None, top=None,hspace=0.75, wspace=0.2) \n",
    "\n",
    "plt.savefig(filedirExportFig+\"PermeabilityNtermAlanin\"+'.pdf')\n",
    "\n",
    "\n"
   ]
  },
  {
   "cell_type": "code",
   "execution_count": null,
   "metadata": {},
   "outputs": [],
   "source": []
  },
  {
   "cell_type": "code",
   "execution_count": null,
   "metadata": {},
   "outputs": [],
   "source": []
  },
  {
   "cell_type": "code",
   "execution_count": null,
   "metadata": {},
   "outputs": [],
   "source": []
  },
  {
   "cell_type": "code",
   "execution_count": null,
   "metadata": {},
   "outputs": [],
   "source": []
  },
  {
   "cell_type": "code",
   "execution_count": null,
   "metadata": {},
   "outputs": [],
   "source": []
  }
 ],
 "metadata": {
  "kernelspec": {
   "display_name": "Python 3",
   "language": "python",
   "name": "python3"
  },
  "language_info": {
   "codemirror_mode": {
    "name": "ipython",
    "version": 3
   },
   "file_extension": ".py",
   "mimetype": "text/x-python",
   "name": "python",
   "nbconvert_exporter": "python",
   "pygments_lexer": "ipython3",
   "version": "3.7.4"
  }
 },
 "nbformat": 4,
 "nbformat_minor": 2
}
