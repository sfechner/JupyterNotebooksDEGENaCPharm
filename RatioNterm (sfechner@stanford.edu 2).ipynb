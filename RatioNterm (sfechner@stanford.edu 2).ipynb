{
 "cells": [
  {
   "cell_type": "code",
   "execution_count": 1,
   "metadata": {},
   "outputs": [
    {
     "name": "stderr",
     "output_type": "stream",
     "text": [
      "/Users/wormsenselab/anaconda3/envs/dabest/lib/python3.7/site-packages/matplotlib/__init__.py:1003: UserWarning: Duplicate key in file \"/Users/Fechner/.matplotlib/matplotlibrc\", line #3\n",
      "  (fname, cnt))\n",
      "/Users/wormsenselab/anaconda3/envs/dabest/lib/python3.7/site-packages/matplotlib/__init__.py:1003: UserWarning: Duplicate key in file \"/Users/Fechner/.matplotlib/matplotlibrc\", line #4\n",
      "  (fname, cnt))\n"
     ]
    }
   ],
   "source": [
    "from matplotlib import pyplot as plt\n",
    "import numpy as np\n",
    "%matplotlib inline\n",
    "from matplotlib import gridspec\n",
    "from matplotlib import rcParams\n",
    "from scipy.optimize import curve_fit\n",
    "import scipy.stats as stats\n",
    "from matplotlib import lines\n",
    "import seaborn as sns\n",
    "plt.rcParams['pdf.fonttype'] = 42 # to be able to change text in pdf opened with illustrator\n",
    "plt.rcParams['ps.fonttype'] = 42\n",
    "#import scipy.stats as stats\n",
    "from statsmodels.stats import multicomp \n",
    "from scipy import stats\n",
    "import dabest\n",
    "\n",
    "import pandas as pd\n",
    "import glob\n",
    "\n",
    "import tkinter as tk\n",
    "from tkinter import filedialog#to open dialog box to choose file\n",
    "from tkinter.filedialog import askopenfilename"
   ]
  },
  {
   "cell_type": "code",
   "execution_count": 3,
   "metadata": {},
   "outputs": [],
   "source": [
    "# Add heka_reader to PYTHONPATH\n",
    "import sys\n",
    "fpath = '/Users/Fechner/PythonStuff/heka_reader'\n",
    "sys.path.append(fpath)"
   ]
  },
  {
   "cell_type": "markdown",
   "metadata": {},
   "source": [
    "### switch to my directory and check if I am in the correct directory"
   ]
  },
  {
   "cell_type": "code",
   "execution_count": 4,
   "metadata": {},
   "outputs": [
    {
     "name": "stdout",
     "output_type": "stream",
     "text": [
      "/Users/Fechner/Box Sync/Fechner/TEVC-GoodmanlabBOX/Project-STFX/AnalysisSTFX/AnalysisNterm\n"
     ]
    }
   ],
   "source": [
    "cd ~/Box Sync/Fechner/TEVC-GoodmanlabBOX/Project-STFX/AnalysisSTFX/AnalysisNterm\n"
   ]
  },
  {
   "cell_type": "markdown",
   "metadata": {},
   "source": [
    "## Ratio plots are a result of the Matlab script TEVCAnalyzeLoopSTFX.m found on github analyzing mean values of 3 recordings for several conditions \n",
    "\n",
    "https://github.com/sfechner/AnalysisFunction/tree/master/TEVC"
   ]
  },
  {
   "cell_type": "code",
   "execution_count": 6,
   "metadata": {},
   "outputs": [],
   "source": [
    "filedir ='/Users/Fechner/Box Sync/Fechner/TEVC-GoodmanlabBOX/Project-STFX/AnalysisSTFX/AnalysisNterm/'\n",
    "# filedirManuscript ='/Users/Fechner/Dropbox/ManuscriptFechnerPharmacology/Figures/ExportedFromNotebook/'\n",
    "# filedirManuscriptStat ='/Users/Fechner/Dropbox/ManuscriptFechnerPharmacology/Statistics/'\n",
    "\n",
    "#CHANGE USER NAME ON PRIVATE LAPTOP TO Fechner or be more clever about the Filename\n",
    "\n",
    "#root = tk.Tk()\n",
    "#root.withdraw() not sure if necessary, description to avoid opening full gui\n",
    "\n",
    "#either choose a cetain file or open dialog box\n",
    "#certain file\n",
    "filename = 'RatioNterm-20201026.xlsx'\n",
    "\n",
    "\n"
   ]
  },
  {
   "cell_type": "code",
   "execution_count": 7,
   "metadata": {},
   "outputs": [
    {
     "name": "stdout",
     "output_type": "stream",
     "text": [
      "RatioNterm-20201026.xlsx\n"
     ]
    },
    {
     "data": {
      "text/html": [
       "<div>\n",
       "<style scoped>\n",
       "    .dataframe tbody tr th:only-of-type {\n",
       "        vertical-align: middle;\n",
       "    }\n",
       "\n",
       "    .dataframe tbody tr th {\n",
       "        vertical-align: top;\n",
       "    }\n",
       "\n",
       "    .dataframe thead th {\n",
       "        text-align: right;\n",
       "    }\n",
       "</style>\n",
       "<table border=\"1\" class=\"dataframe\">\n",
       "  <thead>\n",
       "    <tr style=\"text-align: right;\">\n",
       "      <th></th>\n",
       "      <th>CellIDRec</th>\n",
       "      <th>Injection</th>\n",
       "      <th>CultivationSol</th>\n",
       "      <th>DaysPostInj</th>\n",
       "      <th>Rating</th>\n",
       "      <th>StartSol</th>\n",
       "      <th>TestSol</th>\n",
       "      <th>MeanSTART</th>\n",
       "      <th>MeanTEST</th>\n",
       "      <th>DELTA</th>\n",
       "      <th>RATIO</th>\n",
       "      <th>VrevSTART</th>\n",
       "      <th>VrevTEST</th>\n",
       "      <th>DELTAVrev</th>\n",
       "      <th>copyCELL</th>\n",
       "      <th>RestingVM</th>\n",
       "    </tr>\n",
       "  </thead>\n",
       "  <tbody>\n",
       "    <tr>\n",
       "      <th>0</th>\n",
       "      <td>STFX105001</td>\n",
       "      <td>mg419mg012</td>\n",
       "      <td>L-15(300Amil)</td>\n",
       "      <td>4</td>\n",
       "      <td>2.5</td>\n",
       "      <td>NaGluSel1</td>\n",
       "      <td>NaGluSelAmil300</td>\n",
       "      <td>-1.205231e-05</td>\n",
       "      <td>-3.208448e-07</td>\n",
       "      <td>1.173147e-05</td>\n",
       "      <td>0.026621</td>\n",
       "      <td>-0.010119</td>\n",
       "      <td>-0.058635</td>\n",
       "      <td>-0.048516</td>\n",
       "      <td>STFX105001</td>\n",
       "      <td>NaN</td>\n",
       "    </tr>\n",
       "    <tr>\n",
       "      <th>1</th>\n",
       "      <td>STFX105001</td>\n",
       "      <td>mg419mg012</td>\n",
       "      <td>L-15(300Amil)</td>\n",
       "      <td>4</td>\n",
       "      <td>2.5</td>\n",
       "      <td>NaGluSelAmil300</td>\n",
       "      <td>NaGluSel2</td>\n",
       "      <td>-3.208448e-07</td>\n",
       "      <td>-8.292098e-06</td>\n",
       "      <td>-7.971253e-06</td>\n",
       "      <td>25.844570</td>\n",
       "      <td>-0.058635</td>\n",
       "      <td>-0.010901</td>\n",
       "      <td>0.047734</td>\n",
       "      <td>NaN</td>\n",
       "      <td>NaN</td>\n",
       "    </tr>\n",
       "    <tr>\n",
       "      <th>2</th>\n",
       "      <td>STFX105003</td>\n",
       "      <td>mg751mg012</td>\n",
       "      <td>L-15(300Amil)</td>\n",
       "      <td>4</td>\n",
       "      <td>3.0</td>\n",
       "      <td>NaGluSel1</td>\n",
       "      <td>NaGluSelAmil300</td>\n",
       "      <td>-3.059278e-05</td>\n",
       "      <td>-1.594895e-06</td>\n",
       "      <td>2.899788e-05</td>\n",
       "      <td>0.052133</td>\n",
       "      <td>-0.007020</td>\n",
       "      <td>-0.033100</td>\n",
       "      <td>-0.026080</td>\n",
       "      <td>NaN</td>\n",
       "      <td>NaN</td>\n",
       "    </tr>\n",
       "    <tr>\n",
       "      <th>3</th>\n",
       "      <td>STFX105003</td>\n",
       "      <td>mg751mg012</td>\n",
       "      <td>L-15(300Amil)</td>\n",
       "      <td>4</td>\n",
       "      <td>3.0</td>\n",
       "      <td>NaGluSelAmil300</td>\n",
       "      <td>NaGluSel2</td>\n",
       "      <td>-1.594895e-06</td>\n",
       "      <td>-2.531582e-05</td>\n",
       "      <td>-2.372092e-05</td>\n",
       "      <td>15.873040</td>\n",
       "      <td>-0.033100</td>\n",
       "      <td>-0.007504</td>\n",
       "      <td>0.025595</td>\n",
       "      <td>NaN</td>\n",
       "      <td>NaN</td>\n",
       "    </tr>\n",
       "    <tr>\n",
       "      <th>4</th>\n",
       "      <td>STFX105004</td>\n",
       "      <td>mg758mg012</td>\n",
       "      <td>L-15(300Amil)</td>\n",
       "      <td>4</td>\n",
       "      <td>3.0</td>\n",
       "      <td>NaGluSel1</td>\n",
       "      <td>NaGluSelAmil300</td>\n",
       "      <td>-1.950847e-07</td>\n",
       "      <td>-2.006971e-07</td>\n",
       "      <td>-5.612408e-09</td>\n",
       "      <td>1.028769</td>\n",
       "      <td>-0.035235</td>\n",
       "      <td>-0.037840</td>\n",
       "      <td>-0.002605</td>\n",
       "      <td>NaN</td>\n",
       "      <td>NaN</td>\n",
       "    </tr>\n",
       "  </tbody>\n",
       "</table>\n",
       "</div>"
      ],
      "text/plain": [
       "    CellIDRec   Injection CultivationSol  DaysPostInj  Rating  \\\n",
       "0  STFX105001  mg419mg012  L-15(300Amil)            4     2.5   \n",
       "1  STFX105001  mg419mg012  L-15(300Amil)            4     2.5   \n",
       "2  STFX105003  mg751mg012  L-15(300Amil)            4     3.0   \n",
       "3  STFX105003  mg751mg012  L-15(300Amil)            4     3.0   \n",
       "4  STFX105004  mg758mg012  L-15(300Amil)            4     3.0   \n",
       "\n",
       "          StartSol          TestSol     MeanSTART      MeanTEST         DELTA  \\\n",
       "0        NaGluSel1  NaGluSelAmil300 -1.205231e-05 -3.208448e-07  1.173147e-05   \n",
       "1  NaGluSelAmil300        NaGluSel2 -3.208448e-07 -8.292098e-06 -7.971253e-06   \n",
       "2        NaGluSel1  NaGluSelAmil300 -3.059278e-05 -1.594895e-06  2.899788e-05   \n",
       "3  NaGluSelAmil300        NaGluSel2 -1.594895e-06 -2.531582e-05 -2.372092e-05   \n",
       "4        NaGluSel1  NaGluSelAmil300 -1.950847e-07 -2.006971e-07 -5.612408e-09   \n",
       "\n",
       "       RATIO  VrevSTART  VrevTEST  DELTAVrev    copyCELL  RestingVM  \n",
       "0   0.026621  -0.010119 -0.058635  -0.048516  STFX105001        NaN  \n",
       "1  25.844570  -0.058635 -0.010901   0.047734         NaN        NaN  \n",
       "2   0.052133  -0.007020 -0.033100  -0.026080         NaN        NaN  \n",
       "3  15.873040  -0.033100 -0.007504   0.025595         NaN        NaN  \n",
       "4   1.028769  -0.035235 -0.037840  -0.002605         NaN        NaN  "
      ]
     },
     "execution_count": 7,
     "metadata": {},
     "output_type": "execute_result"
    }
   ],
   "source": [
    "#pandas environment\n",
    "print(filename)\n",
    "xl = pd.ExcelFile(filedir+filename)\n",
    "xl.sheet_names\n",
    "\n",
    "df = xl.parse(\"Sheet1\",converters={'CultivationSol': str}) #calls for Sheet names \n",
    "df.head()"
   ]
  },
  {
   "cell_type": "markdown",
   "metadata": {},
   "source": [
    "# color/hardcoded\n"
   ]
  },
  {
   "cell_type": "code",
   "execution_count": 8,
   "metadata": {},
   "outputs": [],
   "source": [
    "colors = [\"red\",\"blue\",(0.30, 0.69, 0.29),(0.00, 0.00, 0.00),(0.22, 0.49, 0.72),(1.00, 0.50, 0.00),\"darkgreen\",(0.30, 0.69, 0.29),(0.30, 0.69, 0.29),(0.6, 0.31, 0.64)]\n",
    "# colorsSINGLES = [(0.30, 0.69, 0.29),(0.60, 0.31,0.64),(0.89, 0.11,0.10),(1, 0.50,0),(0.22,0.49,0.72),(0.00, 0.00, 0.00),\"red\",\"blue\",(0.00, 0.00, 0.00),(0.22, 0.49, 0.72),(1.00, 0.50, 0.00),\"darkgreen\",(0.30, 0.69, 0.29),(0.30, 0.69, 0.29),(0.6, 0.31, 0.64)]\n",
    "# colorsPharma = [(0.30, 0.69, 0.29),(0.60, 0.31,0.64),(0.89, 0.11,0.10),(0.00, 0.00, 0.00),(0.22,0.49,0.72),(0.00, 0.00, 0.00),\"red\",\"blue\",(0.00, 0.00, 0.00),(0.22, 0.49, 0.72),(1.00, 0.50, 0.00),\"darkgreen\",(0.30, 0.69, 0.29),(0.30, 0.69, 0.29),(0.6, 0.31, 0.64)]\n",
    "# colorsEST = [(0.00, 0.00, 0.00),(0.89, 0.11,0.10),(0.60, 0.31,0.64),(0.30, 0.69, 0.29),(1, 0.50,0),(0.22,0.49,0.72),(0.00, 0.00, 0.00),\"red\",\"blue\",(0.00, 0.00, 0.00),(0.22, 0.49, 0.72),(1.00, 0.50, 0.00)]\n",
    "# colorsESTAll = [(0.00, 0.00, 0.00),(0.89, 0.11,0.10),(0.60, 0.31,0.64),(0.22, 0.49, 0.72),(1.00, 0.50, 0.00),(0.30, 0.69, 0.29),(1, 0.50,0),(0.22,0.49,0.72)]"
   ]
  },
  {
   "cell_type": "markdown",
   "metadata": {},
   "source": [
    "# Plotting EST DATA before and after drug application to see soze of current and change in current"
   ]
  },
  {
   "cell_type": "markdown",
   "metadata": {},
   "source": [
    "## sort current by injeciton"
   ]
  },
  {
   "cell_type": "markdown",
   "metadata": {},
   "source": [
    "mg755 = MEC-4 Nterm ..... mg756\n",
    "\n",
    "mg733               ..... mg736\n",
    "\n",
    "mg734               .... mg737\n",
    "\n",
    "mg735               .... 757\n",
    "\n",
    "mg742               ....  758"
   ]
  },
  {
   "cell_type": "markdown",
   "metadata": {},
   "source": [
    "mg738\n",
    "\n",
    "mg739\n",
    "\n",
    "mg740\n",
    "\n",
    "mg741\n",
    "\n",
    "mg748\n",
    "\n",
    "mg759\n",
    "\n",
    "mg745\n",
    "\n",
    "mg752\n",
    "\n"
   ]
  },
  {
   "cell_type": "code",
   "execution_count": 32,
   "metadata": {},
   "outputs": [],
   "source": [
    "UninjAmil300 = df[(df.Injection.isin([\"uninjected\"])) & (df.TestSol.isin([\"NaGluSelAmil300\"]))]\n",
    "mg733Amil300 = df[(df.Injection.isin([\"mg733mg012\"])) & (df.TestSol.isin([\"NaGluSelAmil300\"]))]"
   ]
  },
  {
   "cell_type": "code",
   "execution_count": 33,
   "metadata": {},
   "outputs": [
    {
     "data": {
      "text/html": [
       "<div>\n",
       "<style scoped>\n",
       "    .dataframe tbody tr th:only-of-type {\n",
       "        vertical-align: middle;\n",
       "    }\n",
       "\n",
       "    .dataframe tbody tr th {\n",
       "        vertical-align: top;\n",
       "    }\n",
       "\n",
       "    .dataframe thead th {\n",
       "        text-align: right;\n",
       "    }\n",
       "</style>\n",
       "<table border=\"1\" class=\"dataframe\">\n",
       "  <thead>\n",
       "    <tr style=\"text-align: right;\">\n",
       "      <th></th>\n",
       "      <th>CellIDRec</th>\n",
       "      <th>Injection</th>\n",
       "      <th>CultivationSol</th>\n",
       "      <th>DaysPostInj</th>\n",
       "      <th>Rating</th>\n",
       "      <th>StartSol</th>\n",
       "      <th>TestSol</th>\n",
       "      <th>MeanSTART</th>\n",
       "      <th>MeanTEST</th>\n",
       "      <th>DELTA</th>\n",
       "      <th>RATIO</th>\n",
       "      <th>VrevSTART</th>\n",
       "      <th>VrevTEST</th>\n",
       "      <th>DELTAVrev</th>\n",
       "      <th>copyCELL</th>\n",
       "      <th>RestingVM</th>\n",
       "    </tr>\n",
       "  </thead>\n",
       "  <tbody>\n",
       "    <tr>\n",
       "      <th>112</th>\n",
       "      <td>STFX103011</td>\n",
       "      <td>mg733mg012</td>\n",
       "      <td>L-15(300Amil)</td>\n",
       "      <td>4</td>\n",
       "      <td>3.0</td>\n",
       "      <td>NaGluSel1</td>\n",
       "      <td>NaGluSelAmil300</td>\n",
       "      <td>-5.007040e-07</td>\n",
       "      <td>-5.029705e-07</td>\n",
       "      <td>-2.266484e-09</td>\n",
       "      <td>1.004527</td>\n",
       "      <td>-0.024492</td>\n",
       "      <td>-0.025550</td>\n",
       "      <td>-0.001057</td>\n",
       "      <td>NaN</td>\n",
       "      <td>NaN</td>\n",
       "    </tr>\n",
       "    <tr>\n",
       "      <th>146</th>\n",
       "      <td>STFX103025</td>\n",
       "      <td>mg733mg012</td>\n",
       "      <td>L-15(300Amil)</td>\n",
       "      <td>5</td>\n",
       "      <td>3.0</td>\n",
       "      <td>NaGluSel1</td>\n",
       "      <td>NaGluSelAmil300</td>\n",
       "      <td>-8.788118e-08</td>\n",
       "      <td>-1.046177e-07</td>\n",
       "      <td>-1.673649e-08</td>\n",
       "      <td>1.190445</td>\n",
       "      <td>-0.055383</td>\n",
       "      <td>-0.045491</td>\n",
       "      <td>0.009892</td>\n",
       "      <td>NaN</td>\n",
       "      <td>NaN</td>\n",
       "    </tr>\n",
       "    <tr>\n",
       "      <th>152</th>\n",
       "      <td>STFX103029</td>\n",
       "      <td>mg733mg012</td>\n",
       "      <td>L-15(300Amil)</td>\n",
       "      <td>5</td>\n",
       "      <td>3.0</td>\n",
       "      <td>NaGluSel1</td>\n",
       "      <td>NaGluSelAmil300</td>\n",
       "      <td>-9.016140e-08</td>\n",
       "      <td>-1.165900e-07</td>\n",
       "      <td>-2.642857e-08</td>\n",
       "      <td>1.293125</td>\n",
       "      <td>-0.064079</td>\n",
       "      <td>-0.055855</td>\n",
       "      <td>0.008224</td>\n",
       "      <td>NaN</td>\n",
       "      <td>NaN</td>\n",
       "    </tr>\n",
       "  </tbody>\n",
       "</table>\n",
       "</div>"
      ],
      "text/plain": [
       "      CellIDRec   Injection CultivationSol  DaysPostInj  Rating   StartSol  \\\n",
       "112  STFX103011  mg733mg012  L-15(300Amil)            4     3.0  NaGluSel1   \n",
       "146  STFX103025  mg733mg012  L-15(300Amil)            5     3.0  NaGluSel1   \n",
       "152  STFX103029  mg733mg012  L-15(300Amil)            5     3.0  NaGluSel1   \n",
       "\n",
       "             TestSol     MeanSTART      MeanTEST         DELTA     RATIO  \\\n",
       "112  NaGluSelAmil300 -5.007040e-07 -5.029705e-07 -2.266484e-09  1.004527   \n",
       "146  NaGluSelAmil300 -8.788118e-08 -1.046177e-07 -1.673649e-08  1.190445   \n",
       "152  NaGluSelAmil300 -9.016140e-08 -1.165900e-07 -2.642857e-08  1.293125   \n",
       "\n",
       "     VrevSTART  VrevTEST  DELTAVrev copyCELL  RestingVM  \n",
       "112  -0.024492 -0.025550  -0.001057      NaN        NaN  \n",
       "146  -0.055383 -0.045491   0.009892      NaN        NaN  \n",
       "152  -0.064079 -0.055855   0.008224      NaN        NaN  "
      ]
     },
     "execution_count": 33,
     "metadata": {},
     "output_type": "execute_result"
    }
   ],
   "source": [
    "mg733Amil300"
   ]
  },
  {
   "cell_type": "markdown",
   "metadata": {},
   "source": [
    "## declare variables for before and after"
   ]
  },
  {
   "cell_type": "code",
   "execution_count": 26,
   "metadata": {},
   "outputs": [],
   "source": [
    "UninjAmil300BeforeAmil = UninjAmil300 [\"MeanSTART\"]\n",
    "UninjAmil300BeforeAmil = UninjAmil300BeforeAmil.rename('Uninj-Amil')\n",
    "A = UninjAmil300BeforeAmil\n",
    "\n",
    "UninjAmil300AfterAmil = UninjAmil300[\"MeanTEST\"]\n",
    "UninjAmil300AfterAmil = UninjAmil300AfterAmil.rename('Uninj+Amil')\n",
    "B = UninjAmil300AfterAmil"
   ]
  },
  {
   "cell_type": "code",
   "execution_count": 34,
   "metadata": {},
   "outputs": [],
   "source": [
    "mg733Amil300BeforeAmil = mg733Amil300 [\"MeanSTART\"]\n",
    "mg733Amil300BeforeAmil = mg733Amil300BeforeAmil.rename('mg733-Amil')\n",
    "C = mg733Amil300BeforeAmil\n",
    "\n",
    "mg733Amil300AfterAmil = mg733Amil300[\"MeanTEST\"]\n",
    "mg733Amil300AfterAmil = mg733Amil300AfterAmil.rename('mg733+Amil')\n",
    "D = mg733Amil300AfterAmil"
   ]
  },
  {
   "cell_type": "code",
   "execution_count": 29,
   "metadata": {},
   "outputs": [
    {
     "data": {
      "text/plain": [
       "212   -7.685783e-08\n",
       "272   -5.627146e-08\n",
       "276   -1.995707e-08\n",
       "302   -2.183894e-08\n",
       "Name: Uninj-Amil, dtype: float64"
      ]
     },
     "execution_count": 29,
     "metadata": {},
     "output_type": "execute_result"
    }
   ],
   "source": [
    "A"
   ]
  },
  {
   "cell_type": "markdown",
   "metadata": {},
   "source": [
    "## concatenate data"
   ]
  },
  {
   "cell_type": "code",
   "execution_count": 36,
   "metadata": {},
   "outputs": [],
   "source": [
    "\n",
    "#concatenateData\n",
    "ChangeConcatAmilAlanin = pd.concat([A.reset_index(drop=True),B.reset_index(drop=True),\n",
    "                              C.reset_index(drop=True),D.reset_index(drop=True),\n",
    "                              ],sort=False, axis=1)\n",
    "\n",
    "#sort=False removed the warning, but no idea what its doin\n",
    "ChangeConcatuAAmilAlanin = ChangeConcatAmilAlanin.astype(float)*1000000\n",
    "#print(ChangeConcatalone)\n",
    "multi_2group_Alanin = dabest.load(ChangeConcatuAAmilAlanin, idx=(('Uninj-Amil', 'Uninj+Amil',),\n",
    "                                                           ('mg733-Amil', 'mg733+Amil',),\n",
    "                                                          ))\n",
    "\n",
    "                                "
   ]
  },
  {
   "cell_type": "code",
   "execution_count": 37,
   "metadata": {},
   "outputs": [
    {
     "data": {
      "image/png": "[encoded data removed]",
      "text/plain": [
       "<Figure size 280x380 with 2 Axes>"
      ]
     },
     "metadata": {
      "needs_background": "light"
     },
     "output_type": "display_data"
    }
   ],
   "source": [
    "#plt.figure(figsize=(3.5, 3)) \n",
    "fig1= multi_2group_Alanin.mean_diff.plot(swarm_ylim=(-3,0.5), contrast_ylim=(-0.5,0.5), fig_size=(2.8, 3.8),  raw_marker_size=(2),es_marker_size=2,contrast_label='Amil mediated\\n current ΔI(µA)',\n",
    "                                    swarm_label='I (µA)',custom_palette=colors, reflines_kwargs = {'linestyle':'dashed', 'linewidth':0.75})#,reflines_kwargs\n",
    "\n",
    "\n",
    "fig1.axes[0].plot([-1,20], [0,0], 'k-', color='#000000', linewidth=1)\n",
    "#fig1.axes[1].plot([-1,20], [-1,-1], 'k--', color='#000000', linewidth=1)\n",
    "fig1.axes[0].tick_params(axis='both', which='major', labelsize=8)  \n",
    "fig1.axes[1].tick_params(axis='both', which='major', labelsize=8)  \n",
    "#fig1 = plot([-1,1], [0,0])# , 'k--', color='#000000', linewidth=1)\n",
    "#ax1.spines['left'].set_position(('outward',35))\n",
    "\n",
    "\n",
    "labels = ['0','100','0','300','0','100','0','300']\n",
    "fig1.axes[0].set_xticklabels(labels, rotation=30, ha='right')\n",
    "# fig1.axes[0].text(0.13, -12.5, 'Ibu (µM)')\n",
    "# fig1.axes[0].text(4.0, -12.5, 'Asp  (µM)')\n",
    "\n",
    "\n",
    "labels2 = ['','Uninj','','Uninj','','DEGT-1d','','DEGT-1d']\n",
    "fig1.axes[1].set_xticklabels(labels2, rotation=30, ha='right')\n",
    "\n",
    "#plt.gcf().subplots_adjust(bottom=0.2, left=0.3,right=None, top=None,hspace=1.5, wspace=0.2) \n",
    "plt.gcf().subplots_adjust(bottom=0.17, left=0.25,right=None, top=None,hspace=0.75, wspace=0.2) \n",
    "# plt.savefig(filedirManuscript+\"Fig3-supplement-AmilHigher\"+'.pdf')\n"
   ]
  },
  {
   "cell_type": "code",
   "execution_count": null,
   "metadata": {},
   "outputs": [],
   "source": []
  }
 ],
 "metadata": {
  "kernelspec": {
   "display_name": "Python 3",
   "language": "python",
   "name": "python3"
  },
  "language_info": {
   "codemirror_mode": {
    "name": "ipython",
    "version": 3
   },
   "file_extension": ".py",
   "mimetype": "text/x-python",
   "name": "python",
   "nbconvert_exporter": "python",
   "pygments_lexer": "ipython3",
   "version": "3.7.4"
  }
 },
 "nbformat": 4,
 "nbformat_minor": 2
}
